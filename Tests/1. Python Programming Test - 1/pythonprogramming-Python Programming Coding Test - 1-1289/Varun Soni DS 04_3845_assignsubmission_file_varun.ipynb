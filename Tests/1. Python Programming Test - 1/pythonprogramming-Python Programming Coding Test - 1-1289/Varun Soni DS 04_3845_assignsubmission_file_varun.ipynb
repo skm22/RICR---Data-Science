{
 "cells": [
  {
   "cell_type": "code",
   "execution_count": 4,
   "metadata": {},
   "outputs": [
    {
     "name": "stdout",
     "output_type": "stream",
     "text": [
      "bonus= 1600.0\n",
      "final salary= 21600.0\n"
     ]
    }
   ],
   "source": [
    "#4.Write a Python program to calculate the bonus for employees bas\n",
    "#ed on their performance rating, years of service, and job level\n",
    "pr=input(\"enter performance rating(A,B,C):\")\n",
    "yearOfService=int(input('enter year of service:'))\n",
    "job_level=input('enter job level(S,J):')\n",
    "salary=int(input('enter salary:'))\n",
    "if pr=='A'and yearOfService>=10:\n",
    "    temp=(salary*0.2)\n",
    "    print('bonus =',temp)\n",
    "    print('final salary =',salary+temp)\n",
    "elif pr=='A' and yearOfService>5:\n",
    "    temp=salary*0.15\n",
    "    print('bonus=',temp)\n",
    "    print('final salary =',salary+temp)\n",
    "elif pr=='B'and job_level=='S':\n",
    "    temp=salary*0.12\n",
    "    print('bonus=',temp)\n",
    "    print('final salary=',salary+temp)\n",
    "elif pr=='B' and job_level=='J':\n",
    "    temp=salary*0.08\n",
    "    print('bonus=',temp)\n",
    "    print('final salary=',salary+temp)\n",
    "else:\n",
    "    print('no bonus')\n",
    "    print('final salary=',salary)"
   ]
  },
  {
   "cell_type": "code",
   "execution_count": 10,
   "metadata": {},
   "outputs": [
    {
     "name": "stdout",
     "output_type": "stream",
     "text": [
      "[4, 36, 100]\n"
     ]
    }
   ],
   "source": [
    "#. Create a list of squares of those numbers which are divisible by \n",
    "#‘2’ from the given list\n",
    "lst=[[2,3,5],[6,7,9],[10,11,13]]\n",
    "lst2=[]\n",
    "for i in range(len(lst)):\n",
    "    x=lst[i]\n",
    "    for i in range(len(x)):\n",
    "        if x[i]%2==0:\n",
    "            sq=(x[i])**2\n",
    "            lst2.append(sq)\n",
    "print(lst2)"
   ]
  },
  {
   "cell_type": "code",
   "execution_count": 52,
   "metadata": {},
   "outputs": [
    {
     "ename": "KeyboardInterrupt",
     "evalue": "",
     "output_type": "error",
     "traceback": [
      "\u001b[1;31m---------------------------------------------------------------------------\u001b[0m",
      "\u001b[1;31mKeyboardInterrupt\u001b[0m                         Traceback (most recent call last)",
      "Cell \u001b[1;32mIn[52], line 4\u001b[0m\n\u001b[0;32m      2\u001b[0m count\u001b[38;5;241m=\u001b[39m\u001b[38;5;241m0\u001b[39m\n\u001b[0;32m      3\u001b[0m Sum\u001b[38;5;241m=\u001b[39ma\n\u001b[1;32m----> 4\u001b[0m \u001b[38;5;28;01mwhile\u001b[39;00m a\u001b[38;5;241m>\u001b[39m\u001b[38;5;241m1\u001b[39m:\n\u001b[0;32m      5\u001b[0m     \u001b[38;5;28;01mif\u001b[39;00m a\u001b[38;5;241m==\u001b[39m\u001b[38;5;241m1\u001b[39m:\n\u001b[0;32m      6\u001b[0m         \u001b[38;5;28;01mbreak\u001b[39;00m\n",
      "\u001b[1;31mKeyboardInterrupt\u001b[0m: "
     ]
    }
   ],
   "source": [
    "a=int(input('enter num'))\n",
    "count=0\n",
    "Sum=a\n",
    "while a>1:\n",
    "    if a==1:\n",
    "        break\n",
    "    if a%3==0:\n",
    "        temp=a/3\n",
    "        Sum+=temp\n",
    "        a=temp\n",
    "    elif a%2==0:\n",
    "        temp=a/2\n",
    "        Sum+=temp\n",
    "        a=temp\n",
    "    count+=1\n",
    "print(count)\n",
    "print(Sum)\n"
   ]
  },
  {
   "cell_type": "code",
   "execution_count": 72,
   "metadata": {},
   "outputs": [
    {
     "ename": "TypeError",
     "evalue": "unsupported operand type(s) for +=: 'int' and 'list'",
     "output_type": "error",
     "traceback": [
      "\u001b[1;31m---------------------------------------------------------------------------\u001b[0m",
      "\u001b[1;31mTypeError\u001b[0m                                 Traceback (most recent call last)",
      "Cell \u001b[1;32mIn[72], line 7\u001b[0m\n\u001b[0;32m      5\u001b[0m x\u001b[38;5;241m=\u001b[39mlst[i]\n\u001b[0;32m      6\u001b[0m \u001b[38;5;28;01mfor\u001b[39;00m i \u001b[38;5;129;01min\u001b[39;00m x:\n\u001b[1;32m----> 7\u001b[0m     \u001b[43mSum\u001b[49m\u001b[38;5;241;43m+\u001b[39;49m\u001b[38;5;241;43m=\u001b[39;49m\u001b[43mx\u001b[49m\n\u001b[0;32m      8\u001b[0m     average\u001b[38;5;241m=\u001b[39mSum\u001b[38;5;241m/\u001b[39m\u001b[38;5;28mlen\u001b[39m(x)\n\u001b[0;32m      9\u001b[0m lst1\u001b[38;5;241m.\u001b[39mappend(average)\n",
      "\u001b[1;31mTypeError\u001b[0m: unsupported operand type(s) for +=: 'int' and 'list'"
     ]
    }
   ],
   "source": [
    "lst=[[1,2,3],[3,4,5],[3,4,5],[5,7,3,2]]\n",
    "lst1=[]\n",
    "Sum=0\n",
    "for i in range(len(lst)):\n",
    "    x=lst[i]\n",
    "    for i in x:\n",
    "        Sum+=x\n",
    "        average=Sum/len(x)\n",
    "    lst1.append(average)\n",
    "print(lst1)"
   ]
  },
  {
   "cell_type": "code",
   "execution_count": 14,
   "metadata": {},
   "outputs": [
    {
     "name": "stdout",
     "output_type": "stream",
     "text": [
      "28\n"
     ]
    }
   ],
   "source": [
    "#Write a python program to find second minimum number of a \n",
    "#given list without using min() and sort().\n",
    "lst=[20,49,39,30,28,59]\n",
    "if lst[0]>lst[1]:\n",
    "    min1=lst[1]\n",
    "    min2=lst[0]\n",
    "else:\n",
    "    min2=lst[1]\n",
    "    min1=lst[0]\n",
    "for i in range(2,len(lst)):\n",
    "    if lst[i]<min1:\n",
    "        min2=min1\n",
    "        min1=lst[i]\n",
    "    elif lst[i]<min2:\n",
    "        min2=lst[i]\n",
    "print(min2)"
   ]
  },
  {
   "cell_type": "code",
   "execution_count": 71,
   "metadata": {},
   "outputs": [
    {
     "name": "stdout",
     "output_type": "stream",
     "text": [
      "\n",
      "\n",
      "\n",
      "\n",
      "\n",
      "\n",
      "\n"
     ]
    }
   ],
   "source": [
    "n=7\n",
    "for i in range(n):\n",
    "    for j in range(n):\n",
    "        if  i==j and i+j==n:\n",
    "            print('*',end='')\n",
    "        \n",
    "    print()"
   ]
  },
  {
   "cell_type": "code",
   "execution_count": 74,
   "metadata": {},
   "outputs": [
    {
     "name": "stdout",
     "output_type": "stream",
     "text": [
      "final price= 1492.5\n",
      "final price= 1350.0\n"
     ]
    }
   ],
   "source": [
    "a=int(input('enter price of product'))\n",
    "um=input('customer is amember(y,n)')\n",
    "date=input('in sale period or not(y,n)')\n",
    "if a>=1000:\n",
    "    dicount=a*0.1\n",
    "    rice=a-dicount\n",
    "    if um=='y':\n",
    "        dic=rice*0.05\n",
    "        \n",
    "        price=a-dic\n",
    "        if date=='y':\n",
    "            dis=price*0.07\n",
    "            print(\"final price=\",a-dis)\n",
    "        print('final price=',a-price)\n",
    "    print('final price=',a-rice)"
   ]
  },
  {
   "cell_type": "code",
   "execution_count": null,
   "metadata": {},
   "outputs": [],
   "source": [
    "C:\\Users\\ACS\\Pictures\\Saved Pictures\\exam1\\varun.ipynb"
   ]
  }
 ],
 "metadata": {
  "kernelspec": {
   "display_name": "Python 3",
   "language": "python",
   "name": "python3"
  },
  "language_info": {
   "codemirror_mode": {
    "name": "ipython",
    "version": 3
   },
   "file_extension": ".py",
   "mimetype": "text/x-python",
   "name": "python",
   "nbconvert_exporter": "python",
   "pygments_lexer": "ipython3",
   "version": "3.12.2"
  }
 },
 "nbformat": 4,
 "nbformat_minor": 2
}
