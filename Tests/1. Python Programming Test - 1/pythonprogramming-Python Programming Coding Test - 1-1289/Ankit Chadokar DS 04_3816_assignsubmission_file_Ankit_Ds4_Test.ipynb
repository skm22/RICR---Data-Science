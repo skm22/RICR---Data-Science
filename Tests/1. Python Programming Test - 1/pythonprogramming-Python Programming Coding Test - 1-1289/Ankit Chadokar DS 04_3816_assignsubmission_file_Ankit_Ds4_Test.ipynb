{
 "cells": [
  {
   "cell_type": "markdown",
   "metadata": {},
   "source": [
    "Q9. Write a python program to find second minimum number of a\n",
    "given list without using min() and sort().\n",
    "List = [20,49,39,30,28,59]\n",
    "Expected Output: 28"
   ]
  },
  {
   "cell_type": "code",
   "execution_count": 2,
   "metadata": {},
   "outputs": [
    {
     "name": "stdout",
     "output_type": "stream",
     "text": [
      "28\n"
     ]
    }
   ],
   "source": [
    "def myfun(lst):\n",
    "    min1=lst[0]\n",
    "    min2=lst[1]\n",
    "    if min1<min2:\n",
    "        min1=min1\n",
    "        min2=min2\n",
    "    else:\n",
    "        min1=min2\n",
    "        min2=min1\n",
    "    for i in range(2,len(lst)):\n",
    "        if lst[i]<min1:\n",
    "            min2=min1\n",
    "            min1=lst[i]\n",
    "        elif min2>lst[i]:\n",
    "            min2=lst[i]\n",
    "    return min2\n",
    "lst = [20,49,39,30,28,59]\n",
    "print(myfun(lst))"
   ]
  },
  {
   "cell_type": "markdown",
   "metadata": {},
   "source": [
    "Q.6 if n=7"
   ]
  },
  {
   "cell_type": "code",
   "execution_count": 1,
   "metadata": {},
   "outputs": [
    {
     "name": "stdout",
     "output_type": "stream",
     "text": [
      "*           *  \n",
      "*  *     *  *  \n",
      "*     *     *  \n",
      "*  *     *  *  \n",
      "*           *  \n"
     ]
    }
   ],
   "source": [
    "def my_fun(n):\n",
    "    for i in range(n):\n",
    "        for j in range(n):\n",
    "            if  j==n-1 or i+j==n-1 or j==i or j==0:\n",
    "                print(\"*\",end=\"  \")\n",
    "            else:\n",
    "                print(\" \",end=\"  \")\n",
    "        print()\n",
    "\n",
    "n=5\n",
    "my_fun(n)\n"
   ]
  },
  {
   "cell_type": "code",
   "execution_count": null,
   "metadata": {},
   "outputs": [],
   "source": []
  }
 ],
 "metadata": {
  "kernelspec": {
   "display_name": "Python 3",
   "language": "python",
   "name": "python3"
  },
  "language_info": {
   "codemirror_mode": {
    "name": "ipython",
    "version": 3
   },
   "file_extension": ".py",
   "mimetype": "text/x-python",
   "name": "python",
   "nbconvert_exporter": "python",
   "pygments_lexer": "ipython3",
   "version": "3.12.3"
  }
 },
 "nbformat": 4,
 "nbformat_minor": 2
}
