{
 "cells": [
  {
   "cell_type": "code",
   "execution_count": 54,
   "metadata": {},
   "outputs": [
    {
     "name": "stdout",
     "output_type": "stream",
     "text": [
      "1282.5\n"
     ]
    }
   ],
   "source": [
    "#quee 1\n",
    "def p(a,b,c):\n",
    "\n",
    "    if a>1000 and b==\"no\" and c==\"no\":\n",
    "        temp=a*10/100\n",
    "        total=a-temp\n",
    "        print(total)\n",
    "    elif a>1000 and b==\"yes\"and c==\"no\":\n",
    "        temp=a*10/100\n",
    "        total=a-temp\n",
    "        mem=total-total*5/100\n",
    "        print(mem)\n",
    "    elif a>1000 and b==\"yes\"and c==\"yes\":\n",
    "        temp=a*22/100\n",
    "        total=a-temp\n",
    "        print(total)\n",
    "a=int(input('enter the no'))\n",
    "b=(input(\"enter the \"))\n",
    "c=(input(\"enetr the \"))\n",
    "p(a,b,c)\n"
   ]
  },
  {
   "cell_type": "code",
   "execution_count": 1,
   "metadata": {},
   "outputs": [
    {
     "name": "stdout",
     "output_type": "stream",
     "text": [
      "*       * \n",
      "* *   * * \n",
      "*   *   * \n",
      "* *   * * \n",
      "*       * \n"
     ]
    }
   ],
   "source": [
    "#Q6. If n = 7\n",
    "def b(n):\n",
    "    for i in range(n):\n",
    "        for j in range(n):\n",
    "            if(j==0 or j==n-1 or i==j or i+j==n-1):\n",
    "                print(\"*\",end=\" \")\n",
    "            else:\n",
    "                print(\" \",end=\" \")\n",
    "        print()\n",
    "n=int(input())\n",
    "b(n)\n",
    "\n",
    "\n",
    "\n",
    "\n",
    "\n",
    "\n"
   ]
  },
  {
   "cell_type": "code",
   "execution_count": 47,
   "metadata": {},
   "outputs": [
    {
     "ename": "IndexError",
     "evalue": "list index out of range",
     "output_type": "error",
     "traceback": [
      "\u001b[1;31m---------------------------------------------------------------------------\u001b[0m",
      "\u001b[1;31mIndexError\u001b[0m                                Traceback (most recent call last)",
      "Cell \u001b[1;32mIn[47], line 2\u001b[0m\n\u001b[0;32m      1\u001b[0m lst\u001b[38;5;241m=\u001b[39m[[\u001b[38;5;241m2\u001b[39m, \u001b[38;5;241m3\u001b[39m, \u001b[38;5;241m5\u001b[39m], [\u001b[38;5;241m6\u001b[39m, \u001b[38;5;241m7\u001b[39m, \u001b[38;5;241m9\u001b[39m], [\u001b[38;5;241m10\u001b[39m, \u001b[38;5;241m11\u001b[39m, \u001b[38;5;241m13\u001b[39m]]\n\u001b[1;32m----> 2\u001b[0m lst\u001b[38;5;241m=\u001b[39mlst[\u001b[38;5;241m1\u001b[39m]\u001b[38;5;241m+\u001b[39mlst[\u001b[38;5;241m2\u001b[39m]\u001b[38;5;241m+\u001b[39m\u001b[43mlst\u001b[49m\u001b[43m[\u001b[49m\u001b[38;5;241;43m3\u001b[39;49m\u001b[43m]\u001b[49m\n\u001b[0;32m      3\u001b[0m \u001b[38;5;28;01mfor\u001b[39;00m i \u001b[38;5;129;01min\u001b[39;00m \u001b[38;5;28mrange\u001b[39m(\u001b[38;5;28mlen\u001b[39m(lst)):\n\u001b[0;32m      4\u001b[0m     \u001b[38;5;28;01mif\u001b[39;00m lst(i)\u001b[38;5;241m%\u001b[39m\u001b[38;5;241m2\u001b[39m\u001b[38;5;241m==\u001b[39m\u001b[38;5;241m0\u001b[39m:\n",
      "\u001b[1;31mIndexError\u001b[0m: list index out of range"
     ]
    }
   ],
   "source": [
    "lst=[[2, 3, 5], [6, 7, 9], [10, 11, 13]]\n",
    "lst=lst[1]+lst[2]+lst[3]\n",
    "for i in range(len(lst)):\n",
    "    if lst(i)%2==0:\n",
    "        i**2\n",
    "    print(i)"
   ]
  },
  {
   "cell_type": "code",
   "execution_count": 51,
   "metadata": {},
   "outputs": [
    {
     "name": "stdout",
     "output_type": "stream",
     "text": [
      "salary 57500.0\n",
      "bonous 7500.0\n"
     ]
    }
   ],
   "source": [
    "#Q4.Write a Python program to calculate the bonus for employees bas\n",
    "#ed on their performance rating, years of service, and job level.\n",
    "def salary(s,p,y):\n",
    "\n",
    "    if y>10 and p==\"A\":\n",
    "        temp=s*20/100\n",
    "        B=s+temp\n",
    "        print(\"salary\",s)\n",
    "        print(\"bonous\",B)\n",
    "    elif y>=5 and y<=10 and p==\"A\":\n",
    "        temp=s*15/100\n",
    "        B=s+temp\n",
    "        print(\"salary\",B)\n",
    "        print(\"bonous\",temp)\n",
    "    elif p==\"B\" and y>=5:\n",
    "         temp=s*12/100\n",
    "         B=s+temp\n",
    "         print(\"salary\",B)\n",
    "         print(\"bonous\",temp)\n",
    "    elif p==\"B\" and y<=5:\n",
    "         temp=s*8/100\n",
    "         B=s+temp\n",
    "         print(\"salary\",B)\n",
    "         print(\"bonous\",temp)\n",
    "    elif p==\"C\" and  y>=5:\n",
    "         print(\"salaty is \",s)\n",
    "s=int(input(\"enetr the no\"))\n",
    "p=input(\"enetr\")\n",
    "y=int(input(\"enetr the no\"))\n",
    "salary(s,p,y)\n"
   ]
  },
  {
   "cell_type": "code",
   "execution_count": null,
   "metadata": {},
   "outputs": [],
   "source": []
  },
  {
   "cell_type": "code",
   "execution_count": null,
   "metadata": {},
   "outputs": [],
   "source": []
  }
 ],
 "metadata": {
  "kernelspec": {
   "display_name": "Python 3",
   "language": "python",
   "name": "python3"
  },
  "language_info": {
   "codemirror_mode": {
    "name": "ipython",
    "version": 3
   },
   "file_extension": ".py",
   "mimetype": "text/x-python",
   "name": "python",
   "nbconvert_exporter": "python",
   "pygments_lexer": "ipython3",
   "version": "3.12.3"
  }
 },
 "nbformat": 4,
 "nbformat_minor": 2
}
