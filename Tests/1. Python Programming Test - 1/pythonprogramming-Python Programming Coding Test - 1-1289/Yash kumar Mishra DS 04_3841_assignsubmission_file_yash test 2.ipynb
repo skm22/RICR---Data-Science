{
 "cells": [
  {
   "cell_type": "code",
   "execution_count": 1,
   "metadata": {},
   "outputs": [
    {
     "name": "stdout",
     "output_type": "stream",
     "text": [
      "*         * \n",
      "* *     * * \n",
      "*   * *   * \n",
      "*   * *   * \n",
      "* *     * * \n",
      "*         * \n"
     ]
    }
   ],
   "source": [
    "#question 6\n",
    "n = int(input(\"enter the no:\"))\n",
    "for i in range(n):\n",
    "    for j in range(n):\n",
    "        if j==0 or j==n-1 or i+j==n-1 or i==j:\n",
    "            print(\"*\",end=\" \")\n",
    "        else:\n",
    "            print(\" \",end=\" \")\n",
    "    print()            \n",
    "        "
   ]
  },
  {
   "cell_type": "code",
   "execution_count": 23,
   "metadata": {},
   "outputs": [
    {
     "name": "stdout",
     "output_type": "stream",
     "text": [
      "largest_possible_number 564\n"
     ]
    }
   ],
   "source": [
    "\n",
    "def largest_possible_number(n):\n",
    "    digits = str(n)\n",
    "    sorted_digits = sorted(digits, reverse=True)\n",
    "    largest_num += (sorted_digits)\n",
    "    largest_num = int(largest_num_str)\n",
    "    return largest_num\n",
    "num = 564\n",
    "print(\"largest_possible_number\",n)\n"
   ]
  }
 ],
 "metadata": {
  "kernelspec": {
   "display_name": "Python 3",
   "language": "python",
   "name": "python3"
  },
  "language_info": {
   "codemirror_mode": {
    "name": "ipython",
    "version": 3
   },
   "file_extension": ".py",
   "mimetype": "text/x-python",
   "name": "python",
   "nbconvert_exporter": "python",
   "pygments_lexer": "ipython3",
   "version": "3.12.5"
  }
 },
 "nbformat": 4,
 "nbformat_minor": 2
}
