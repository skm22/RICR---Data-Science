{
 "cells": [
  {
   "cell_type": "code",
   "execution_count": 2,
   "metadata": {},
   "outputs": [
    {
     "name": "stdout",
     "output_type": "stream",
     "text": [
      "    ! \n",
      "    !   \n",
      "    !       \n",
      "    !           \n",
      "    !               \n"
     ]
    }
   ],
   "source": [
    "n=int(input(\"enter the number\"))\n",
    "nst=1\n",
    "nsp=n//2\n",
    "for i in range(n):\n",
    "    for j in range(nsp):\n",
    "        if j==n//2:\n",
    "            print(\"!\",end=\" \")\n",
    "        else:\n",
    "            print(\" \",end=\" \")\n",
    "    for j in range(nst):\n",
    "        if i<=n//2:\n",
    "            print(\"!\",end=\" \")\n",
    "    print()\n",
    "    nsp+=2\n",
    "    nst-=1"
   ]
  },
  {
   "cell_type": "code",
   "execution_count": 33,
   "metadata": {},
   "outputs": [],
   "source": [
    "n=int(input(\"enter the number\"))\n",
    "def pattern_(n):\n",
    "     for i in range(n):\n",
    "          for j in range(n):\n",
    "               if i==j or j==0 or j==n-1 or i+j==n-1:\n",
    "                    print(\"*\",end=\" \")\n",
    "               else:\n",
    "                     print(\" \",end=\" \")\n",
    "          print()\n",
    "          pattern_(n)"
   ]
  },
  {
   "cell_type": "code",
   "execution_count": null,
   "metadata": {},
   "outputs": [],
   "source": [
    "n=int(input(\"enter the row\"))\n",
    "for i in range(n):\n",
    "    for j in range(n):\n",
    "        if "
   ]
  },
  {
   "cell_type": "code",
   "execution_count": 38,
   "metadata": {},
   "outputs": [
    {
     "name": "stdout",
     "output_type": "stream",
     "text": [
      "[[2, 3, 5], [6, 7, 9], [10, 11, 13], 36, 36, 36]\n"
     ]
    }
   ],
   "source": [
    "list=[[2,3,5],[6,7,9],[10,11,13]]\n",
    "def lst_a(list):\n",
    "    lst=[]\n",
    "for i in range(len(list)):\n",
    "    list.append(list[1][0]**2)\n",
    "print(list)\n",
    "lst_a(list)"
   ]
  },
  {
   "cell_type": "code",
   "execution_count": null,
   "metadata": {},
   "outputs": [],
   "source": [
    "list=[20,49,39,30,28,59]\n",
    "if list[0]>list[1]:\n",
    "    min1=list[1]\n",
    "    min2=list[0]\n",
    "else:\n",
    "    min1=list[0]\n",
    "    min2=list[1]\n"
   ]
  },
  {
   "cell_type": "code",
   "execution_count": 36,
   "metadata": {},
   "outputs": [
    {
     "name": "stdout",
     "output_type": "stream",
     "text": [
      "91243\n"
     ]
    }
   ],
   "source": [
    "num=int(input(\"enter the number\"))\n",
    "count=0\n",
    "while num>0:\n",
    "    a=num%10\n",
    "    count*=10\n",
    "    count+=a\n",
    "    num//=10\n",
    "print(count)\n"
   ]
  },
  {
   "cell_type": "code",
   "execution_count": 1,
   "metadata": {},
   "outputs": [
    {
     "ename": "NameError",
     "evalue": "name 'a' is not defined",
     "output_type": "error",
     "traceback": [
      "\u001b[1;31m---------------------------------------------------------------------------\u001b[0m",
      "\u001b[1;31mNameError\u001b[0m                                 Traceback (most recent call last)",
      "Cell \u001b[1;32mIn[1], line 4\u001b[0m\n\u001b[0;32m      2\u001b[0m \u001b[38;5;28;01mdef\u001b[39;00m \u001b[38;5;21maverage\u001b[39m(\u001b[38;5;28mlist\u001b[39m):\n\u001b[0;32m      3\u001b[0m     a\u001b[38;5;241m=\u001b[39m[\u001b[38;5;28msum\u001b[39m(sublist)\u001b[38;5;241m/\u001b[39m\u001b[38;5;28mlen\u001b[39m(sublist)\u001b[38;5;28;01mfor\u001b[39;00m sublist \u001b[38;5;129;01min\u001b[39;00m lst]\n\u001b[1;32m----> 4\u001b[0m \u001b[38;5;28mprint\u001b[39m(\u001b[43ma\u001b[49m)\n\u001b[0;32m      5\u001b[0m average(\u001b[38;5;28mlist\u001b[39m)\n",
      "\u001b[1;31mNameError\u001b[0m: name 'a' is not defined"
     ]
    }
   ],
   "source": [
    "lst = [[1,2,3],[3,4,5],[3,4,5],[5,7,3,2]]\n",
    "def average(list):\n",
    "    a=[sum(sublist)/len(sublist)for sublist in lst]\n",
    "print(a)\n",
    "average(list)"
   ]
  },
  {
   "cell_type": "code",
   "execution_count": 46,
   "metadata": {},
   "outputs": [
    {
     "ename": "AttributeError",
     "evalue": "'list' object has no attribute 'mini'",
     "output_type": "error",
     "traceback": [
      "\u001b[1;31m---------------------------------------------------------------------------\u001b[0m",
      "\u001b[1;31mAttributeError\u001b[0m                            Traceback (most recent call last)",
      "Cell \u001b[1;32mIn[46], line 3\u001b[0m\n\u001b[0;32m      1\u001b[0m List \u001b[38;5;241m=\u001b[39m [\u001b[38;5;241m20\u001b[39m,\u001b[38;5;241m49\u001b[39m,\u001b[38;5;241m39\u001b[39m,\u001b[38;5;241m30\u001b[39m,\u001b[38;5;241m28\u001b[39m,\u001b[38;5;241m59\u001b[39m]\n\u001b[0;32m      2\u001b[0m lst\u001b[38;5;241m=\u001b[39m[]\n\u001b[1;32m----> 3\u001b[0m \u001b[43mlst\u001b[49m\u001b[38;5;241;43m.\u001b[39;49m\u001b[43mmini\u001b[49m(lst)\n\u001b[0;32m      4\u001b[0m \u001b[38;5;28mprint\u001b[39m(lst)\n",
      "\u001b[1;31mAttributeError\u001b[0m: 'list' object has no attribute 'mini'"
     ]
    }
   ],
   "source": [
    "List = [20,49,39,30,28,59]\n",
    "lst=[]\n",
    "lst.mini(lst)\n",
    "print(lst)\n",
    "\n"
   ]
  }
 ],
 "metadata": {
  "kernelspec": {
   "display_name": "Python 3",
   "language": "python",
   "name": "python3"
  },
  "language_info": {
   "codemirror_mode": {
    "name": "ipython",
    "version": 3
   },
   "file_extension": ".py",
   "mimetype": "text/x-python",
   "name": "python",
   "nbconvert_exporter": "python",
   "pygments_lexer": "ipython3",
   "version": "3.12.3"
  }
 },
 "nbformat": 4,
 "nbformat_minor": 2
}
