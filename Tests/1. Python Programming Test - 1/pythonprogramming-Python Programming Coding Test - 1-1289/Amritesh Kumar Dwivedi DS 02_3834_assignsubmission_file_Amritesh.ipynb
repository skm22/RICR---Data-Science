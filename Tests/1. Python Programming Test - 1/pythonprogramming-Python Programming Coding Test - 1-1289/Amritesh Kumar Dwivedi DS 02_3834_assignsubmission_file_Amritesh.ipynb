{
 "cells": [
  {
   "cell_type": "code",
   "execution_count": 14,
   "metadata": {},
   "outputs": [
    {
     "name": "stdout",
     "output_type": "stream",
     "text": [
      "Final Price = 1282.5\n"
     ]
    }
   ],
   "source": [
    "# Answer no. - 01)\n",
    "def cal_final_price(price,is_member,is_sale_period):\n",
    "    if price > 1000:\n",
    "        price -= price*0.10\n",
    "    if is_member:\n",
    "        price -= price*0.05\n",
    "    if is_sale_period:\n",
    "        price -= price*0.07\n",
    "    return round(price,2)\n",
    "\n",
    "product_price = 1500\n",
    "is_member = True\n",
    "is_sale_period = False\n",
    "\n",
    "final_price = cal_final_price(product_price, is_member, is_sale_period)\n",
    "print(\"Final Price =\", final_price)\n"
   ]
  },
  {
   "cell_type": "code",
   "execution_count": 2,
   "metadata": {},
   "outputs": [
    {
     "name": "stdout",
     "output_type": "stream",
     "text": [
      "*           * \n",
      "* *       * * \n",
      "*   *   *   * \n",
      "*     *     * \n",
      "*   *   *   * \n",
      "* *       * * \n",
      "*           * \n"
     ]
    }
   ],
   "source": [
    "# Answer no. - 06)\n",
    "n = int(input(\"Enter no of rows\"))\n",
    "for i in range(n):\n",
    "    for j in range(n):\n",
    "        if j==0 or j==n-1 or i==j or i+j==n-1:\n",
    "            print(\"*\", end=\" \")\n",
    "        else:\n",
    "            print(\" \", end=\" \")\n",
    "    print()"
   ]
  },
  {
   "cell_type": "code",
   "execution_count": 7,
   "metadata": {},
   "outputs": [
    {
     "name": "stdout",
     "output_type": "stream",
     "text": [
      "    *     \n",
      "  *       \n",
      "* * * * * \n",
      "*       * \n",
      "* * * * * \n"
     ]
    }
   ],
   "source": [
    "# Answer no. - 07)\n",
    "n = int(input(\"Enter no of rows\"))\n",
    "for i in range(n):\n",
    "    for j in range(n):\n",
    "        if i==n//2 or i==n-1 or j==0 and i>=n//2 or j==n-1 and i>=n//2 or i+j==n//2 or :\n",
    "            print(\"*\", end=\" \")\n",
    "        else:\n",
    "            print(\" \", end=\" \")\n",
    "    print()"
   ]
  },
  {
   "cell_type": "code",
   "execution_count": 1,
   "metadata": {},
   "outputs": [
    {
     "name": "stdout",
     "output_type": "stream",
     "text": [
      "*           * \n",
      "* *       * * \n",
      "*   *   *   * \n",
      "*     *     * \n",
      "*           * \n",
      "*           * \n",
      "*           * \n",
      "*     *     * \n",
      "*   *       * \n",
      "* *       * * \n",
      "*       *   * \n",
      "*           * \n",
      "*           * \n"
     ]
    }
   ],
   "source": [
    "# Answer no. - 08)\n",
    "n = int(input(\"Enter no of rows\"))\n",
    "for i in range(n*2-1):\n",
    "    for j in range(n):\n",
    "        if j==0 or j==n-1 or i==j and i<=n//2 or i+j==n-1 and j>=n//2 or i+j==n+3 and j<=n//2 or i+j==n*2 and j>n//2:\n",
    "            print(\"*\", end=\" \")\n",
    "        else:\n",
    "            print(\" \", end=\" \")\n",
    "    print()\n"
   ]
  },
  {
   "cell_type": "code",
   "execution_count": 2,
   "metadata": {},
   "outputs": [
    {
     "name": "stdout",
     "output_type": "stream",
     "text": [
      "28\n"
     ]
    }
   ],
   "source": [
    "# Answer no. - 09)\n",
    "lst =  [20,49,39,30,28,59]\n",
    "if lst[0]<lst[1]:\n",
    "    min1=lst[0]\n",
    "    min2=lst[1]\n",
    "else:\n",
    "    min1=lst[1]\n",
    "    min2=lst[0]\n",
    "for i in range(2,len(lst)):\n",
    "    if lst[i]<=min1:\n",
    "        min2=min1\n",
    "        min1=lst[i]\n",
    "    elif lst[i]<min2:\n",
    "        min2=lst[i]\n",
    "print(min2)"
   ]
  },
  {
   "cell_type": "code",
   "execution_count": 3,
   "metadata": {},
   "outputs": [
    {
     "name": "stdout",
     "output_type": "stream",
     "text": [
      "[25, 81, 169]\n"
     ]
    }
   ],
   "source": [
    "# Answer no. - 10)\n",
    "List = [[2, 3, 5], [6, 7, 9], [10, 11, 13]]\n",
    "squares = []\n",
    "for i in List:\n",
    "    even = i[0]\n",
    "    for j in i:\n",
    "        if j%2==0:\n",
    "            even = j\n",
    "    squares.append(j**2)\n",
    "print(squares)"
   ]
  },
  {
   "cell_type": "code",
   "execution_count": null,
   "metadata": {},
   "outputs": [],
   "source": []
  }
 ],
 "metadata": {
  "kernelspec": {
   "display_name": "Python 3",
   "language": "python",
   "name": "python3"
  },
  "language_info": {
   "codemirror_mode": {
    "name": "ipython",
    "version": 3
   },
   "file_extension": ".py",
   "mimetype": "text/x-python",
   "name": "python",
   "nbconvert_exporter": "python",
   "pygments_lexer": "ipython3",
   "version": "3.12.3"
  }
 },
 "nbformat": 4,
 "nbformat_minor": 2
}
