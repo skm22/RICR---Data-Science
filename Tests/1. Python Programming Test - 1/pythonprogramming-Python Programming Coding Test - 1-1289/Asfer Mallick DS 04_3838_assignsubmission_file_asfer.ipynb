{
 "cells": [
  {
   "cell_type": "code",
   "execution_count": 4,
   "metadata": {},
   "outputs": [
    {
     "name": "stdout",
     "output_type": "stream",
     "text": [
      "    ! \n",
      "  ! ! ! \n",
      "! ! ! ! ! \n",
      "! ! ! ! ! ! ! \n",
      "! ! ! ! ! ! ! ! ! \n"
     ]
    }
   ],
   "source": [
    "#Q5\n",
    "nsp=2\n",
    "nst=1\n",
    "for j in range(5):\n",
    "    for i in range(nsp):\n",
    "        print(\" \",end=\" \")\n",
    "    for i in range(nst):\n",
    "        print(\"!\",end=\" \")\n",
    "    print()\n",
    "    if j//2<3:\n",
    "     nsp-=1\n",
    "     nst+=2\n",
    "    else:\n",
    "       nsp+=2\n",
    "       nst-=1\n"
   ]
  },
  {
   "cell_type": "code",
   "execution_count": 11,
   "metadata": {},
   "outputs": [
    {
     "name": "stdout",
     "output_type": "stream",
     "text": [
      "* * * * * * * \n",
      "* *         * \n",
      "*   *     * * \n",
      "*     * *   * \n",
      "*     * *   * \n",
      "*   *     * * \n",
      "* * * * * * * \n"
     ]
    }
   ],
   "source": [
    "#Q6\n",
    "for i in range(7):\n",
    "    for j in range(7):\n",
    "        if (i==0 or i==6 or j==0 or j==6 or i==j or i+j==7):\n",
    "            print(\"*\",end=\" \")\n",
    "        else:\n",
    "            print(\" \",end=\" \")\n",
    "    print()\n",
    "\n",
    "    "
   ]
  },
  {
   "cell_type": "code",
   "execution_count": 11,
   "metadata": {},
   "outputs": [
    {
     "name": "stdout",
     "output_type": "stream",
     "text": [
      "*           * \n",
      "*           * \n",
      "*           * \n",
      "*           * \n",
      "*           * \n",
      "*           * \n",
      "*           * \n"
     ]
    }
   ],
   "source": [
    "#Q8\n",
    "n=int(input(\"enter any no\"))\n",
    "for i in range(n):\n",
    "    for j in range(n):\n",
    "        if (j==0 or j==n-1):\n",
    "            print(\"*\",end=\" \")\n",
    "        else:\n",
    "            print(\" \",end=\" \")\n",
    "    print()"
   ]
  },
  {
   "cell_type": "code",
   "execution_count": 3,
   "metadata": {},
   "outputs": [
    {
     "name": "stdout",
     "output_type": "stream",
     "text": [
      "final price is  1282.5\n"
     ]
    }
   ],
   "source": [
    "#Q1\n",
    "x=int(input(\"cost price\"))\n",
    "y=input(\"is cutomer a member?\")\n",
    "z=input(\"is there is a sale period?\")\n",
    "if x>1000:\n",
    "    d=(10/100)*x\n",
    "    sp=x-d\n",
    "    if y==True:\n",
    "      d2=(5/100)*sp\n",
    "      sp2=sp-d2\n",
    "      if z==True:\n",
    "         d3=(7/100)*sp2\n",
    "         sp3=sp2-d3\n",
    "    print(\"final price is \",sp2)\n",
    "else:\n",
    "    print(\"final price is\",sp)\n"
   ]
  },
  {
   "cell_type": "code",
   "execution_count": 9,
   "metadata": {},
   "outputs": [
    {
     "ename": "TypeError",
     "evalue": "list indices must be integers or slices, not list",
     "output_type": "error",
     "traceback": [
      "\u001b[1;31m---------------------------------------------------------------------------\u001b[0m",
      "\u001b[1;31mTypeError\u001b[0m                                 Traceback (most recent call last)",
      "Cell \u001b[1;32mIn[9], line 4\u001b[0m\n\u001b[0;32m      2\u001b[0m lst\u001b[38;5;241m=\u001b[39m[[\u001b[38;5;241m1\u001b[39m,\u001b[38;5;241m2\u001b[39m,\u001b[38;5;241m3\u001b[39m],[\u001b[38;5;241m3\u001b[39m,\u001b[38;5;241m4\u001b[39m,\u001b[38;5;241m5\u001b[39m],[\u001b[38;5;241m3\u001b[39m,\u001b[38;5;241m4\u001b[39m,\u001b[38;5;241m5\u001b[39m],[\u001b[38;5;241m5\u001b[39m,\u001b[38;5;241m7\u001b[39m,\u001b[38;5;241m3\u001b[39m,\u001b[38;5;241m2\u001b[39m]]\n\u001b[0;32m      3\u001b[0m \u001b[38;5;28;01mfor\u001b[39;00m i \u001b[38;5;129;01min\u001b[39;00m lst:\n\u001b[1;32m----> 4\u001b[0m  s\u001b[38;5;241m=\u001b[39m\u001b[38;5;28msum\u001b[39m(\u001b[43mlst\u001b[49m\u001b[43m[\u001b[49m\u001b[43mi\u001b[49m\u001b[43m]\u001b[49m)\n\u001b[0;32m      5\u001b[0m  avg\u001b[38;5;241m=\u001b[39ms\u001b[38;5;241m/\u001b[39m\u001b[38;5;241m3\u001b[39m\n\u001b[0;32m      6\u001b[0m  lst2\u001b[38;5;241m=\u001b[39m[avg \u001b[38;5;28;01mfor\u001b[39;00m i \u001b[38;5;129;01min\u001b[39;00m lst]\n",
      "\u001b[1;31mTypeError\u001b[0m: list indices must be integers or slices, not list"
     ]
    }
   ],
   "source": [
    "#Q12\n",
    "lst=[[1,2,3],[3,4,5],[3,4,5],[5,7,3,2]]\n",
    "for i in lst:\n",
    " s=sum(lst[i])\n",
    " avg=s/3\n",
    " lst2=[avg for i in lst]\n"
   ]
  }
 ],
 "metadata": {
  "kernelspec": {
   "display_name": "Python 3",
   "language": "python",
   "name": "python3"
  },
  "language_info": {
   "codemirror_mode": {
    "name": "ipython",
    "version": 3
   },
   "file_extension": ".py",
   "mimetype": "text/x-python",
   "name": "python",
   "nbconvert_exporter": "python",
   "pygments_lexer": "ipython3",
   "version": "3.12.5"
  }
 },
 "nbformat": 4,
 "nbformat_minor": 2
}
