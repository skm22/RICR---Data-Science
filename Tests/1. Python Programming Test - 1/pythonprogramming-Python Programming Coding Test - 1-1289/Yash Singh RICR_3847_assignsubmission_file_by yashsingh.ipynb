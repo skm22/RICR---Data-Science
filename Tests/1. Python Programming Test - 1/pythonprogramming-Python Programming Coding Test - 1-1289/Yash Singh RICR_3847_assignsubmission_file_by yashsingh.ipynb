{
 "cells": [
  {
   "cell_type": "code",
   "execution_count": 1,
   "metadata": {},
   "outputs": [
    {
     "name": "stdout",
     "output_type": "stream",
     "text": [
      "*           * \n",
      "* *       * * \n",
      "*   *   *   * \n",
      "*     *     * \n",
      "*   *   *   * \n",
      "* *       * * \n",
      "*           * \n"
     ]
    }
   ],
   "source": [
    "n=int(input(\" \"))\n",
    "for i in range(n):\n",
    "    for j in range(n):\n",
    "        if j==0 or i==j  or i+j==n-1 or j==n-1:\n",
    "            print(\"*\",end=\" \")    \n",
    "        else:\n",
    "            print(\" \",end=\" \")\n",
    "    print()           \n"
   ]
  },
  {
   "cell_type": "code",
   "execution_count": null,
   "metadata": {},
   "outputs": [],
   "source": []
  },
  {
   "cell_type": "code",
   "execution_count": 11,
   "metadata": {},
   "outputs": [
    {
     "name": "stdout",
     "output_type": "stream",
     "text": [
      "4\n"
     ]
    }
   ],
   "source": [
    "#Q10. Create a list of squares of those numbers which are divisible by ‘2’ from the given list.\n",
    "lst = [[2, 3, 5], [6, 7, 9], [10, 11, 13]]\n",
    "for i in range (len(lst)):\n",
    "    if i%2==0:\n",
    "     square=i*i\n",
    "print(square)    \n",
    "\n"
   ]
  },
  {
   "cell_type": "code",
   "execution_count": 134,
   "metadata": {},
   "outputs": [
    {
     "name": "stdout",
     "output_type": "stream",
     "text": [
      "[[1, 2, 3], [3, 4, 5], [3, 4, 5], [5, 7, 3, 2]]\n"
     ]
    }
   ],
   "source": [
    "lst = [[1,2,3],[3,4,5],[3,4,5],[5,7,3,2]]\n",
    "new_lst=[ lst[i]for i in range(len(lst)) ]\n",
    "print(new_lst)"
   ]
  }
 ],
 "metadata": {
  "kernelspec": {
   "display_name": "Python 3",
   "language": "python",
   "name": "python3"
  },
  "language_info": {
   "codemirror_mode": {
    "name": "ipython",
    "version": 3
   },
   "file_extension": ".py",
   "mimetype": "text/x-python",
   "name": "python",
   "nbconvert_exporter": "python",
   "pygments_lexer": "ipython3",
   "version": "3.12.3"
  }
 },
 "nbformat": 4,
 "nbformat_minor": 2
}
