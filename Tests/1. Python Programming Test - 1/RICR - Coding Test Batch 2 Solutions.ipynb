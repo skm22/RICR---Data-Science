{
 "cells": [
  {
   "cell_type": "markdown",
   "metadata": {},
   "source": [
    "Q1. Write a Python program to calculate the final price of a product    \n",
    "after applying a series of discounts based on the following    \n",
    "conditions:    \n",
    "• If the product price is above Rs1000, apply a 10% discount.    \n",
    "• If the customer is a member, apply an additional 5% discount.    \n",
    "• If the purchase is made during a sale period, apply an additional 7%    \n",
    "discount.    \n",
    "Note: Discount should be applicable on resultant price of previous    \n",
    "discount.    \n",
    "Test Case:    \n",
    "Input: Product price = 1500    \n",
    " Is Customer member = Yes    \n",
    " Sale period = No    \n",
    "Output: Final Price = 1282.5    "
   ]
  },
  {
   "cell_type": "code",
   "execution_count": 1,
   "metadata": {},
   "outputs": [
    {
     "name": "stdout",
     "output_type": "stream",
     "text": [
      "Final Price:  1282.5\n"
     ]
    }
   ],
   "source": [
    "def calculate_final_price(price, is_member, sale_period):\n",
    "\n",
    "    if price > 1000:\n",
    "        price -= price * 0.10\n",
    "    \n",
    "    if is_member == 'Yes':\n",
    "        price -= price * 0.05\n",
    "\n",
    "    if sale_period == 'Yes':\n",
    "        price -= price * 0.07\n",
    "    \n",
    "    return price\n",
    "\n",
    "price = int(input(\"Enter the price: \"))\n",
    "member = input(\"Member or not ('Yes' or 'No'): \")\n",
    "sale = input(\"This is sale (''Yes or 'No): \")\n",
    "final_price = calculate_final_price(price, member, sale)\n",
    "print(\"Final Price: \", final_price)\n"
   ]
  },
  {
   "cell_type": "markdown",
   "metadata": {},
   "source": [
    "Q2. Write a Python program to find the sum of all prime digits in a given number.    \n",
    "Test Case:    \n",
    "Input: 437529    \n",
    "Output: 17 (because 2, 3, 5, 7 are prime numbers in that number (437529) and 2 + 3 + 5 + 7 = 17)    \n"
   ]
  },
  {
   "cell_type": "code",
   "execution_count": 1,
   "metadata": {},
   "outputs": [
    {
     "name": "stdout",
     "output_type": "stream",
     "text": [
      "17\n"
     ]
    }
   ],
   "source": [
    "def digit_sum_prime(num):\n",
    "    ans = 0\n",
    "    while num > 0:\n",
    "        r = num % 10\n",
    "        if r == 2 or r == 3 or r == 5 or r == 7:\n",
    "            ans += r\n",
    "        num //= 10\n",
    "    return ans\n",
    "\n",
    "num = int(input(\"Enter a number: \"))\n",
    "res = digit_sum_prime(num)\n",
    "print(res)"
   ]
  },
  {
   "cell_type": "markdown",
   "metadata": {},
   "source": [
    "Q3. Write a Python program to rearrange the digits of a given number to form the largest possible number.   \n",
    "Test Case 1:   \n",
    "Input: 34219   \n",
    "Output: 94321   \n",
    "Test Case 2:   \n",
    "\tInput: 564   \n",
    "\tOutput: 654   \n"
   ]
  },
  {
   "cell_type": "code",
   "execution_count": 7,
   "metadata": {},
   "outputs": [
    {
     "name": "stdout",
     "output_type": "stream",
     "text": [
      "654\n"
     ]
    }
   ],
   "source": [
    "def largest_possible_num(n):\n",
    "    lst = []\n",
    "    while n > 0:\n",
    "        r = n % 10\n",
    "        lst.append(r)\n",
    "        n //= 10\n",
    "    lst.sort(reverse=True)\n",
    "    for i in lst:\n",
    "        n = (n*10) + i\n",
    "    return n\n",
    "\n",
    "num = int(input(\"Enter a number: \"))\n",
    "res = largest_possible_num(num)\n",
    "print(res)"
   ]
  },
  {
   "cell_type": "markdown",
   "metadata": {},
   "source": [
    "Q4.Write a Python program to calculate the bonus for employees based on their performance rating, years of service, and job level.\n",
    "\tIf the performance rating is A, and years of service are more than 10, bonus is 20%.      \n",
    "\tIf the performance rating is A, and years of service are between 5 and 10, bonus is 15%.         \n",
    "\tIf the performance rating is B, and job level is Senior, bonus is 12%.       \n",
    "\tIf the performance rating is B, and job level is Junior, bonus is   8%.        \n",
    "\tIf the performance rating is C, no bonus.                    \n",
    "Test Case 1:                          \n",
    "Input:          \n",
    "Salary = 50000,            \n",
    "Performance Rating = A,      \n",
    "Years of Service = 8,      \n",
    "Output: Bonus = 7500       \n",
    "\t    Final Salary = 57500      \n",
    "Test Case 2:   \n",
    "Input:             \n",
    "Salary = 20000,             \n",
    "Performance Rating = B,          \n",
    "Job level = Junior         \n",
    "\tOutput: Bonus = 1600            \n",
    "            Final Salary = 21600        \n"
   ]
  },
  {
   "cell_type": "code",
   "execution_count": 11,
   "metadata": {},
   "outputs": [
    {
     "name": "stdout",
     "output_type": "stream",
     "text": [
      "Final Salary: 56000.0\n"
     ]
    }
   ],
   "source": [
    "def rating_A(s):\n",
    "    YOS = int(input(\"Enter Year of service: \"))\n",
    "    if YOS > 10:\n",
    "        s += s*0.2\n",
    "        return s\n",
    "    elif 5 < YOS <= 10:\n",
    "        s += s*0.15\n",
    "        return s\n",
    "    else:\n",
    "        return \"No Bonus\"\n",
    "    \n",
    "def rating_B(s):\n",
    "    JL = input(\"Enter your job level (Senior or junior): \")\n",
    "    if JL == 'Senior':\n",
    "        s += s*0.12\n",
    "        return s\n",
    "    elif JL == 'Junior':\n",
    "        s += s*0.08\n",
    "        return s\n",
    "    else:\n",
    "        return \"No Bonus\"\n",
    "\n",
    "def rating_C(s):\n",
    "    return \"No Bonus\"\n",
    "\n",
    "salary = float(input(\"Enter your salary: \"))\n",
    "performance_rating = input(\"Enter performance rating (A or B or C): \")\n",
    "\n",
    "if performance_rating == 'A':\n",
    "    res = rating_A(salary)\n",
    "elif performance_rating == 'B':\n",
    "    res = rating_B(salary)\n",
    "else:\n",
    "    res = rating_C(salary)\n",
    "\n",
    "print(\"Final Salary:\", res)"
   ]
  },
  {
   "cell_type": "code",
   "execution_count": 15,
   "metadata": {},
   "outputs": [
    {
     "name": "stdout",
     "output_type": "stream",
     "text": [
      "      !       \n",
      "    ! ! !     \n",
      "  ! ! ! ! !   \n",
      "! ! ! ! ! ! ! \n",
      "      !       \n",
      "      !       \n",
      "      !       \n"
     ]
    }
   ],
   "source": [
    "# Q5.\n",
    "def arrow_pattern(n):\n",
    "    nsp = n//2\n",
    "    nst = 1\n",
    "    for i in range(n):\n",
    "        for j in range(nsp):\n",
    "            print(\" \",end=' ')\n",
    "        for j in range(nst):\n",
    "            print(\"!\",end=' ')\n",
    "        for j in range(nsp):\n",
    "            print(\" \",end=' ')\n",
    "        if i < n//2:\n",
    "            nsp -= 1\n",
    "            nst += 2\n",
    "        else:\n",
    "            nsp = n//2\n",
    "            nst = 1\n",
    "        print()\n",
    "\n",
    "n = int(input())\n",
    "arrow_pattern(n)"
   ]
  },
  {
   "cell_type": "code",
   "execution_count": 19,
   "metadata": {},
   "outputs": [
    {
     "name": "stdout",
     "output_type": "stream",
     "text": [
      "*           * \n",
      "* *       * * \n",
      "*   *   *   * \n",
      "*     *     * \n",
      "*   *   *   * \n",
      "* *       * * \n",
      "*           * \n"
     ]
    }
   ],
   "source": [
    "# Q6. \n",
    "def butterfuly_pattern(n):\n",
    "    for i in range(n):\n",
    "        for j in range(n):\n",
    "            if i == j or i + j == n-1 or j == 0 or j == n-1:\n",
    "                print(\"*\",end=' ')\n",
    "            else:\n",
    "                print(\" \",end=' ')\n",
    "        print()\n",
    "\n",
    "n = int(input())\n",
    "butterfuly_pattern(n)"
   ]
  },
  {
   "cell_type": "code",
   "execution_count": 22,
   "metadata": {},
   "outputs": [
    {
     "name": "stdout",
     "output_type": "stream",
     "text": [
      "      *       \n",
      "    *   *     \n",
      "  *       *   \n",
      "* * * * * * * \n",
      "*           * \n",
      "*           * \n",
      "* * * * * * * \n"
     ]
    }
   ],
   "source": [
    "# Q7. \n",
    "def home_pattern(n):\n",
    "    for i in range(n):\n",
    "        for j in range(n):\n",
    "            if i + j == n//2 or j - i == n//2 or i == n//2 or i == n-1 or (i>n//2 and (j == 0 or j == n-1)):\n",
    "                print(\"*\",end=' ')\n",
    "            else:\n",
    "                print(\" \",end=' ')\n",
    "        print()\n",
    "\n",
    "n = int(input())\n",
    "home_pattern(n)"
   ]
  },
  {
   "cell_type": "code",
   "execution_count": null,
   "metadata": {},
   "outputs": [
    {
     "name": "stdout",
     "output_type": "stream",
     "text": [
      "*           * \n",
      "* *       * * \n",
      "*   *   *   * \n",
      "*     *     * \n",
      "*           * \n",
      "*           * \n",
      "*           * \n",
      "*           * \n",
      "*           * \n",
      "*     *     * \n",
      "*   *   *   * \n",
      "* *       * * \n",
      "*           * \n"
     ]
    }
   ],
   "source": [
    "# Q8. \n",
    "def pattern(n):\n",
    "    for i in range(n*2-1):\n",
    "        for j in range(n):\n",
    "            if j == 0 or j == n-1 or i <= n//2 and (i == j or i + j == n-1) or (i >= (n*2-1) - (n //2 + 1)) and (i + j == n*2 - 2 or i - j == n-1):\n",
    "                print(\"*\",end=' ')\n",
    "            else:\n",
    "                print(\" \",end=' ')\n",
    "        print()\n",
    "\n",
    "n = int(input())\n",
    "pattern(n)"
   ]
  },
  {
   "cell_type": "markdown",
   "metadata": {},
   "source": [
    "Q9. Write a python program to find second minimum number of a given list without using min() and sort().   \n",
    "List = [20,49,39,30,28,59]   \n",
    "Expected Output: 28    \n",
    " "
   ]
  },
  {
   "cell_type": "code",
   "execution_count": 4,
   "metadata": {},
   "outputs": [
    {
     "name": "stdout",
     "output_type": "stream",
     "text": [
      "Second minimum element of list:  28\n"
     ]
    }
   ],
   "source": [
    "def second_minimum_element(lst):\n",
    "    if lst[0] < lst[1]:                         \n",
    "        min = lst[0]                            \n",
    "        sec_min = lst[1]                        \n",
    "    else:\n",
    "        min = lst[1]                            \n",
    "        sec_min = lst[0]                      \n",
    "    for i in range(2, len(lst)):                \n",
    "        if lst[i] < min:                  \n",
    "            sec_min = min                       \n",
    "            min = lst[i]                        \n",
    "        elif lst[i] < sec_min and lst[i] > min:  \n",
    "            sec_min = lst[i]                     \n",
    "    return sec_min\n",
    "\n",
    "lst = [20,49,39,30,28,59]  \n",
    "res = second_minimum_element(lst)\n",
    "print(\"Second minimum element of list: \",res)"
   ]
  },
  {
   "cell_type": "markdown",
   "metadata": {},
   "source": [
    "Q10. Create a list of squares of those numbers which are divisible by ‘2’ from the given list.   \n",
    "\tList = [[2, 3, 5], [6, 7, 9], [10, 11, 13]]   \n",
    "\tExpected Output: [4, 36, 100]   \n"
   ]
  },
  {
   "cell_type": "code",
   "execution_count": 5,
   "metadata": {},
   "outputs": [
    {
     "name": "stdout",
     "output_type": "stream",
     "text": [
      "[4, 36, 100]\n"
     ]
    }
   ],
   "source": [
    "def squares_list(lst):\n",
    "    ans = []\n",
    "    for i in lst:\n",
    "        for j in i:\n",
    "            if j % 2 == 0:\n",
    "                ans.append(j**2)\n",
    "    return ans\n",
    "\n",
    "lst = [[2, 3, 5], [6, 7, 9], [10, 11, 13]]  \n",
    "res = squares_list(lst)\n",
    "print(res)"
   ]
  },
  {
   "cell_type": "markdown",
   "metadata": {},
   "source": [
    "Q11. Write a Python program that repeatedly divides a given number by 3 if it is divisible by 3, or by 2 if it is not divisible by 3, until the result is less than 1. Print both the count of divisions and the total sum of all intermediate results.    \n",
    "\tInput: 50  \n",
    "\tExpected Output: Total divisions required: 6    \n",
    "                    Sum of intermediate results: 98.4375   \n"
   ]
  },
  {
   "cell_type": "code",
   "execution_count": 6,
   "metadata": {},
   "outputs": [
    {
     "name": "stdout",
     "output_type": "stream",
     "text": [
      "Total divisions required: 6\n",
      "Sum of intermediate results: 98.4375\n"
     ]
    }
   ],
   "source": [
    "def func(num):\n",
    "    division_count = 0\n",
    "    intermediate_sum = 0\n",
    "\n",
    "    while num >= 1:\n",
    "        intermediate_sum += num\n",
    "        if num % 3 == 0:\n",
    "            num /= 3\n",
    "        else:\n",
    "            num /= 2 \n",
    "        division_count += 1\n",
    "    \n",
    "    return division_count,intermediate_sum\n",
    "\n",
    "n = float(input(\"Enter a number: \"))\n",
    "res1,res2 = func(n)\n",
    "print(\"Total divisions required:\", res1)\n",
    "print(\"Sum of intermediate results:\", res2)\n"
   ]
  },
  {
   "cell_type": "markdown",
   "metadata": {},
   "source": [
    "Q12. Write a python program using list comprehension to create a list which has the average of elements of list of given list.                                     \n",
    "lst = [[1,2,3],[3,4,5],[3,4,5],[5,7,3,2]]         \n",
    "Expected Output: [2.0, 4.0, 4.0, 4.25]       \n"
   ]
  },
  {
   "cell_type": "code",
   "execution_count": 7,
   "metadata": {},
   "outputs": [
    {
     "name": "stdout",
     "output_type": "stream",
     "text": [
      "[2.0, 4.0, 4.0, 4.25]\n"
     ]
    }
   ],
   "source": [
    "def list_average(lst):\n",
    "    averages = [sum(sublist) / len(sublist) for sublist in lst]\n",
    "    return averages\n",
    "\n",
    "lst = [[1, 2, 3], [3, 4, 5], [3, 4, 5], [5, 7, 3, 2]]\n",
    "res = list_average(lst)\n",
    "print(res)"
   ]
  },
  {
   "cell_type": "code",
   "execution_count": null,
   "metadata": {},
   "outputs": [],
   "source": []
  }
 ],
 "metadata": {
  "kernelspec": {
   "display_name": "Python 3",
   "language": "python",
   "name": "python3"
  },
  "language_info": {
   "codemirror_mode": {
    "name": "ipython",
    "version": 3
   },
   "file_extension": ".py",
   "mimetype": "text/x-python",
   "name": "python",
   "nbconvert_exporter": "python",
   "pygments_lexer": "ipython3",
   "version": "3.12.3"
  }
 },
 "nbformat": 4,
 "nbformat_minor": 2
}
