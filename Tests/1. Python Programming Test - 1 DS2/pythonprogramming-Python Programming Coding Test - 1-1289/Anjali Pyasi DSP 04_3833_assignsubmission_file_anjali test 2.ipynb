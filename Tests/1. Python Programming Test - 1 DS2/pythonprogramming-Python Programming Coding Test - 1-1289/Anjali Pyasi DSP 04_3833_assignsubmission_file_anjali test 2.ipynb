{
 "cells": [
  {
   "cell_type": "code",
   "execution_count": 5,
   "metadata": {},
   "outputs": [],
   "source": [
    "#question 5\n",
    "n=int(input(\"enter the number\"))\n",
    "nst=1\n",
    "nsp=n//2\n",
    "for i in range(n):\n",
    "    for j in range(nsp):\n",
    "        if j==n//2:\n",
    "          print(\" \",end=\" \") \n",
    "    for j in range(nst): \n",
    "       if j==n//2:\n",
    "          print(\"!\",end=\" \") \n",
    "       \n",
    "             "
   ]
  },
  {
   "cell_type": "code",
   "execution_count": 2,
   "metadata": {},
   "outputs": [
    {
     "name": "stdout",
     "output_type": "stream",
     "text": [
      "*       * \n",
      "* *   * * \n",
      "*   *   * \n",
      "* *   * * \n",
      "*       * \n"
     ]
    }
   ],
   "source": [
    "#question 6\n",
    "def b(n):\n",
    "   for i in range(n):\n",
    "      for j in range(n):\n",
    "         if(j==0 or j==n-1 or i==j  or i+j==n-1):\n",
    "           print(\"*\",end=\" \")\n",
    "         else:\n",
    "           print(\" \",end=\" \")\n",
    "      print()\n",
    "n=int(input())\n",
    "b(n)\n",
    "    "
   ]
  },
  {
   "cell_type": "code",
   "execution_count": null,
   "metadata": {},
   "outputs": [],
   "source": [
    "#question 7\n",
    "def b(n):\n",
    "    for i in range(n):\n",
    "        for j in range(n):\n",
    "            if(j==o or i>=n//2 or i==n-1 or j==n-1 and)"
   ]
  },
  {
   "cell_type": "code",
   "execution_count": 18,
   "metadata": {},
   "outputs": [
    {
     "ename": "NameError",
     "evalue": "name 'a' is not defined",
     "output_type": "error",
     "traceback": [
      "\u001b[1;31m---------------------------------------------------------------------------\u001b[0m",
      "\u001b[1;31mNameError\u001b[0m                                 Traceback (most recent call last)",
      "Cell \u001b[1;32mIn[18], line 5\u001b[0m\n\u001b[0;32m      3\u001b[0m \u001b[38;5;28;01mdef\u001b[39;00m \u001b[38;5;21maverage\u001b[39m(lst):\n\u001b[0;32m      4\u001b[0m     a\u001b[38;5;241m=\u001b[39m[(sublist)\u001b[38;5;241m/\u001b[39m\u001b[38;5;28mlen\u001b[39m(sublist)\u001b[38;5;28;01mfor\u001b[39;00m sublist \u001b[38;5;129;01min\u001b[39;00m \u001b[38;5;28mlist\u001b[39m]\n\u001b[1;32m----> 5\u001b[0m \u001b[38;5;28mprint\u001b[39m(\u001b[43ma\u001b[49m)\n\u001b[0;32m      6\u001b[0m average(lst)\n",
      "\u001b[1;31mNameError\u001b[0m: name 'a' is not defined"
     ]
    }
   ],
   "source": [
    "#question 12\n",
    "lst=[[1,2,3],[3,4,5],[3,4,5],[5,7,3,2]]\n",
    "def average(lst):\n",
    "    a=[(sublist)/len(sublist)for sublist in list]\n",
    "print(a)\n",
    "average(lst)\n",
    "           "
   ]
  }
 ],
 "metadata": {
  "kernelspec": {
   "display_name": "Python 3",
   "language": "python",
   "name": "python3"
  },
  "language_info": {
   "codemirror_mode": {
    "name": "ipython",
    "version": 3
   },
   "file_extension": ".py",
   "mimetype": "text/x-python",
   "name": "python",
   "nbconvert_exporter": "python",
   "pygments_lexer": "ipython3",
   "version": "3.12.3"
  }
 },
 "nbformat": 4,
 "nbformat_minor": 2
}
