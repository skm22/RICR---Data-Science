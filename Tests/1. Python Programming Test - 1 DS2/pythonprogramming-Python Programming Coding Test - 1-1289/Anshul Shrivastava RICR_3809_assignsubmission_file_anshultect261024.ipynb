{
 "cells": [
  {
   "cell_type": "markdown",
   "metadata": {},
   "source": [
    "Q1.  Write a Python program to calculate the final price of a product \n",
    "after applying a series of discounts based on the following \n",
    "conditions: \n",
    "• If the product price is above Rs1000, apply a 10% discount. \n",
    "discount. \n",
    "• If the customer is a member, apply an additional 5% discount. \n",
    "• If the purchase is made during a sale period, apply an additional 7% \n",
    "Note: Discount should be applicable on resultant price of previous \n",
    "discount. \n",
    "Test Case: \n",
    "Input: Product price = 1500 \n",
    "Is Customer member = Yes \n",
    "Sale period = No \n",
    "Output: Final Price = 1282.5 "
   ]
  },
  {
   "cell_type": "code",
   "execution_count": 17,
   "metadata": {},
   "outputs": [
    {
     "name": "stdout",
     "output_type": "stream",
     "text": [
      "1275.0\n"
     ]
    }
   ],
   "source": [
    "Product_price = int(input(\"Enter product price\"))\n",
    "Is_Customer_member=  input(\"Enter Is Customer member yes/No\")\n",
    "Sale_period =  input(\"Enter Sale period yes/No\")\n",
    "if Product_price>1000 and Is_Customer_member ==\"No\" and Sale_period==\"No\":\n",
    "    a=Product_price*10/100\n",
    "    b=Product_price-a \n",
    "    print(b)\n",
    "elif Product_price>1000 and Is_Customer_member ==\"Yes\" and Sale_period==\"No\": \n",
    "    a1=Product_price*15/100\n",
    "    b1=Product_price-a1 \n",
    "    print(b1) \n",
    "elif Product_price>1000 and Is_Customer_member ==\"No\" and Sale_period==\"Yes\": \n",
    "    a2=Product_price*15/100\n",
    "    b2=Product_price-a2 \n",
    "    print(b2)\n",
    "else : \n",
    "      print(Product_price)    \n",
    "\n"
   ]
  },
  {
   "cell_type": "markdown",
   "metadata": {},
   "source": [
    "Q2. Write a Python program to find the sum of all prime digits in a \n",
    "given number. \n",
    "Test Case: \n",
    "Input: 437529 \n",
    "Output: 17 (because 2, 3, 5, 7 are prime numbers in that \n",
    "number (437529) and 2 + 3 + 5 + 7 = 17) "
   ]
  },
  {
   "cell_type": "code",
   "execution_count": null,
   "metadata": {},
   "outputs": [],
   "source": []
  },
  {
   "cell_type": "markdown",
   "metadata": {},
   "source": [
    "Q3. Write a Python program to rearrange the digits of a given \n",
    "number to form the largest possible number. \n",
    "Test Case 1: \n",
    "Input: 34219 \n",
    "Output: 94321 \n",
    "Test Case 2: \n",
    "Input: 564 \n",
    "Output: 654 "
   ]
  },
  {
   "cell_type": "code",
   "execution_count": null,
   "metadata": {},
   "outputs": [],
   "source": []
  },
  {
   "cell_type": "markdown",
   "metadata": {},
   "source": [
    "Q4.Write a Python program to calculate the bonus for employees bas\n",
    " ed on their performance rating, years of service, and job level. \n",
    "❖ If the performance rating is A, and years of service are more tha\n",
    " n 10, bonus is 20%. \n",
    "❖ If the performance rating is A, and years of service are between\n",
    " 5 and 10, bonus is 15%. \n",
    " ❖ If the performance rating is B, and job level is Senior, bonus is \n",
    "12%. \n",
    "❖ If the performance rating is B, and job level is Junior, bonus is   \n",
    "8%. \n",
    "❖ If the performance rating is C, no bonus. \n",
    "Test Case 1: \n",
    "Input:  \n",
    "Salary = 50000, \n",
    "Performance Rating = A,   \n",
    "Years of Service = 8,  \n",
    "Output: Bonus = 7500 \n",
    "Final Salary = 57500.0 \n",
    "Test Case 2: \n",
    "Input:  \n",
    "Salary = 20000, \n",
    "Performance Rating = B,  \n",
    "Job level = Junior \n",
    "Output: Bonus = 1600 \n",
    "Final Salary = 21600.0"
   ]
  },
  {
   "cell_type": "code",
   "execution_count": null,
   "metadata": {},
   "outputs": [],
   "source": [
    "Salary=int(input(\"Enter Your Salary\"))\n",
    "Performance_Rating=input(\"Enter Your Performance Rating A/B\")\n",
    "Years_of_Service=int(input(\"Enter Your Years of Service\"))\n",
    "Job_level=input(\"Enter Your Job level J/S\")\n",
    "if Performance_Rating==\"A\" and Years_of_Service>10 and Job_level==\"s\":\n",
    "    a=Salary*20/100\n",
    "    b=Salary+a\n",
    "    print(b)\n",
    "elif Performance_Rating==\"A\" and 5<=Years_of_Service<10 and Job_level==\"s\":\n",
    "    a1=Salary*15/100\n",
    "    b1=Salary+a1\n",
    "    print(b1)\n",
    "elif Performance_Rating==\"B\"and Job_level==\"s\":\n",
    "    a2=Salary*12/100\n",
    "    b2=Salary+a2\n",
    "    print(b2)\n",
    "elif Performance_Rating==\"B\"  and Job_level==\"j\":\n",
    "    a2=Salary*8/100\n",
    "    b2=Salary+a2\n",
    "    print(b2)\n",
    "else:\n",
    "    print(\"No Bonus\")        \n",
    "        \n",
    "       \n",
    "\n"
   ]
  },
  {
   "cell_type": "markdown",
   "metadata": {},
   "source": [
    "Q9. Write a python program to find second minimum number of a \n",
    "given list without using min() and sort(). \n",
    "List = [20,49,39,30,28,59] \n",
    "Expected Output: 28 "
   ]
  },
  {
   "cell_type": "code",
   "execution_count": 1,
   "metadata": {},
   "outputs": [
    {
     "ename": "TypeError",
     "evalue": "'>' not supported between instances of 'int' and 'types.GenericAlias'",
     "output_type": "error",
     "traceback": [
      "\u001b[1;31m---------------------------------------------------------------------------\u001b[0m",
      "\u001b[1;31mTypeError\u001b[0m                                 Traceback (most recent call last)",
      "Cell \u001b[1;32mIn[1], line 5\u001b[0m\n\u001b[0;32m      3\u001b[0m \u001b[38;5;66;03m# for i in range(len(lst)):\u001b[39;00m\n\u001b[0;32m      4\u001b[0m \u001b[38;5;28;01mfor\u001b[39;00m i \u001b[38;5;129;01min\u001b[39;00m \u001b[38;5;28mrange\u001b[39m(\u001b[38;5;28mlen\u001b[39m(lst)):    \n\u001b[1;32m----> 5\u001b[0m     \u001b[38;5;28;01mif\u001b[39;00m \u001b[43mlst\u001b[49m\u001b[43m[\u001b[49m\u001b[43mi\u001b[49m\u001b[43m]\u001b[49m\u001b[38;5;241;43m>\u001b[39;49m\u001b[43ma\u001b[49m:\n\u001b[0;32m      6\u001b[0m         a\u001b[38;5;241m+\u001b[39m\u001b[38;5;241m=\u001b[39mlst[i]\n\u001b[0;32m      7\u001b[0m \u001b[38;5;28mprint\u001b[39m(a)    \n",
      "\u001b[1;31mTypeError\u001b[0m: '>' not supported between instances of 'int' and 'types.GenericAlias'"
     ]
    }
   ],
   "source": [
    "lst = [20,49,39,30,28,59] \n",
    "a=list[0]\n",
    "# for i in range(len(lst)):\n",
    "for i in range(len(lst)):    \n",
    "    if lst[i]>a:\n",
    "        a+=lst[i]\n",
    "print(a)    "
   ]
  },
  {
   "cell_type": "markdown",
   "metadata": {},
   "source": [
    "Q10. Create a list of squares of those numbers which are divisible by \n",
    "‘2’ from the given list. \n",
    " List = [[2, 3, 5], [6, 7, 9], [10, 11, 13]] \n",
    " Expected Output: [4, 36, 100] "
   ]
  },
  {
   "cell_type": "code",
   "execution_count": 38,
   "metadata": {},
   "outputs": [
    {
     "ename": "TypeError",
     "evalue": "'int' object is not callable",
     "output_type": "error",
     "traceback": [
      "\u001b[1;31m---------------------------------------------------------------------------\u001b[0m",
      "\u001b[1;31mTypeError\u001b[0m                                 Traceback (most recent call last)",
      "Cell \u001b[1;32mIn[38], line 5\u001b[0m\n\u001b[0;32m      2\u001b[0m cnt\u001b[38;5;241m=\u001b[39m[\u001b[38;5;241m0\u001b[39m]\n\u001b[0;32m      3\u001b[0m \u001b[38;5;28;01mfor\u001b[39;00m i \u001b[38;5;129;01min\u001b[39;00m \u001b[38;5;28mrange\u001b[39m(\u001b[38;5;28mlen\u001b[39m(List)):\n\u001b[0;32m      4\u001b[0m     \u001b[38;5;66;03m# if List[i]%2==0:\u001b[39;00m\n\u001b[1;32m----> 5\u001b[0m     cnt\u001b[38;5;241m+\u001b[39m\u001b[38;5;241m=\u001b[39m\u001b[43mi\u001b[49m\u001b[43m(\u001b[49m\u001b[43mList\u001b[49m\u001b[43m)\u001b[49m\n\u001b[0;32m      6\u001b[0m     \u001b[38;5;66;03m# cnt=sum(List[i])\u001b[39;00m\n\u001b[0;32m      7\u001b[0m     \u001b[38;5;28mprint\u001b[39m(cnt)\n",
      "\u001b[1;31mTypeError\u001b[0m: 'int' object is not callable"
     ]
    }
   ],
   "source": [
    "List = [[2, 3, 5], [6, 7, 9], [10, 11, 13]]\n",
    "cnt=[0]\n",
    "for i in range(len(List)):\n",
    "    # if List[i]%2==0:\n",
    "    cnt+=i(List)\n",
    "    # cnt=sum(List[i])\n",
    "print(cnt)\n"
   ]
  },
  {
   "cell_type": "markdown",
   "metadata": {},
   "source": [
    "Q11. Write a Python program that repeatedly divides a given number \n",
    "by 3 if it is divisible by 3, or by 2 if it is not divisible by 3, until the \n",
    "result is less than 1. Print both the count of divisions and the total \n",
    "sum of all intermediate results. \n",
    " Input: 50 \n",
    " Expected Output: Total divisions required: 6  \n",
    "  Sum of intermediate results: 98.4375 "
   ]
  },
  {
   "cell_type": "code",
   "execution_count": null,
   "metadata": {},
   "outputs": [],
   "source": []
  },
  {
   "cell_type": "markdown",
   "metadata": {},
   "source": [
    "Q12. Write a python program using list comprehension to create a \n",
    "list which has the average of elements of list of given list.  \n",
    "lst = [[1,2,3],[3,4,5],[3,4,5],[5,7,3,2]] \n",
    "Expected Output: [2.0, 4.0, 4.0, 4.25] "
   ]
  },
  {
   "cell_type": "code",
   "execution_count": null,
   "metadata": {},
   "outputs": [],
   "source": []
  }
 ],
 "metadata": {
  "kernelspec": {
   "display_name": "Python 3",
   "language": "python",
   "name": "python3"
  },
  "language_info": {
   "codemirror_mode": {
    "name": "ipython",
    "version": 3
   },
   "file_extension": ".py",
   "mimetype": "text/x-python",
   "name": "python",
   "nbconvert_exporter": "python",
   "pygments_lexer": "ipython3",
   "version": "3.12.4"
  }
 },
 "nbformat": 4,
 "nbformat_minor": 2
}
