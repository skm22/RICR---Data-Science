{
 "cells": [
  {
   "cell_type": "code",
   "execution_count": 1,
   "metadata": {},
   "outputs": [
    {
     "name": "stdout",
     "output_type": "stream",
     "text": [
      "28\n"
     ]
    }
   ],
   "source": [
    "#Q9. Write a python program to find second minimum number of a\n",
    "#given list without using min() and sort().\n",
    "#List = [20,49,39,30,28,59]\n",
    "#Expected Output: 28\n",
    "list=[20,49,29,30,28,59] \n",
    "if list[0]<list[1]:\n",
    "    s1=20\n",
    "    s2=49\n",
    "else:\n",
    "    s1=49\n",
    "    s2=20\n",
    "for i in range(2,len(list)):\n",
    "    if list[i]>=s1:\n",
    "        s1=s2\n",
    "        s1=list[i]\n",
    "    elif s2>list[i]:\n",
    "        s2=list[i]\n",
    "print(s2)\n"
   ]
  },
  {
   "cell_type": "code",
   "execution_count": null,
   "metadata": {},
   "outputs": [],
   "source": []
  },
  {
   "cell_type": "code",
   "execution_count": 63,
   "metadata": {},
   "outputs": [
    {
     "ename": "SyntaxError",
     "evalue": "incomplete input (2392479312.py, line 12)",
     "output_type": "error",
     "traceback": [
      "\u001b[1;36m  Cell \u001b[1;32mIn[63], line 12\u001b[1;36m\u001b[0m\n\u001b[1;33m    \u001b[0m\n\u001b[1;37m    ^\u001b[0m\n\u001b[1;31mSyntaxError\u001b[0m\u001b[1;31m:\u001b[0m incomplete input\n"
     ]
    }
   ],
   "source": [
    "#Q10. Create a list of squares of those numbers which are divisible by\n",
    "#‘2’ from the given list.\n",
    "#List = [[2, 3, 5], [6, 7, 9], [10, 11, 13]]\n",
    "#Expected Output: [4, 36, 100] \n",
    "list=[[2,3,5],[6,7,9],[10,11,13]]\n",
    "list2=[]\n",
    "for i in range(0,len(list)):\n",
    "            \n",
    "                \n",
    "\n",
    "        \n",
    "     "
   ]
  }
 ],
 "metadata": {
  "kernelspec": {
   "display_name": "Python 3",
   "language": "python",
   "name": "python3"
  },
  "language_info": {
   "codemirror_mode": {
    "name": "ipython",
    "version": 3
   },
   "file_extension": ".py",
   "mimetype": "text/x-python",
   "name": "python",
   "nbconvert_exporter": "python",
   "pygments_lexer": "ipython3",
   "version": "3.12.3"
  }
 },
 "nbformat": 4,
 "nbformat_minor": 2
}
