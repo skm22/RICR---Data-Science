{
 "cells": [
  {
   "cell_type": "code",
   "execution_count": 17,
   "metadata": {},
   "outputs": [],
   "source": [
    "def final_price(x,cust_member,sale_period):\n",
    "    temp=0\n",
    "    final_price=0\n",
    "    if x>1000:\n",
    "         a=x/10\n",
    "         final_price+=x-a\n",
    "         return final_price\n",
    "         final_price=temp\n",
    "         \n",
    "         if cust_member==yes:\n",
    "              b=final_price/5\n",
    "              temp-=b\n",
    "              return temp\n",
    "         if sale_period==yes:\n",
    "              c=temp/7\n",
    "              temp-=c\n",
    "              return temp\n",
    "         else:\n",
    "              return x\n",
    "x=int(input(\"enter your price\"))\n",
    "cust_member=input(\"enter the yes and no\")\n",
    "sale_period=input(\"enter the value\")\n",
    "final_price(x,cust_member,sale_period)\n",
    "\n",
    "\n",
    "        \n",
    "\n",
    "\n",
    "              \n",
    "    \n",
    "         \n",
    "              \n",
    "\n"
   ]
  },
  {
   "cell_type": "code",
   "execution_count": 1,
   "metadata": {},
   "outputs": [
    {
     "name": "stdout",
     "output_type": "stream",
     "text": [
      "49\n"
     ]
    }
   ],
   "source": [
    "def second_minimum(x=[20,49,39,30,28,59]):\n",
    "    if x[0]<x[1]:\n",
    "        min1=x[0]\n",
    "        min2=x[1]\n",
    "    else:\n",
    "        min1=x[1]\n",
    "        min2=x[0]\n",
    "    for i in x:\n",
    "        if min1<i:\n",
    "            min1=min2\n",
    "            min1=i\n",
    "        elif min1< i> min2:\n",
    "             min2=i\n",
    "    print(min2)\n",
    "x=eval(input())              \n",
    "second_minimum()"
   ]
  },
  {
   "cell_type": "code",
   "execution_count": 10,
   "metadata": {},
   "outputs": [
    {
     "name": "stdout",
     "output_type": "stream",
     "text": [
      "[4, 36, 100]\n"
     ]
    }
   ],
   "source": [
    "def square(lst):\n",
    "    lst_new=[]\n",
    "    for j in range(len(lst)):\n",
    "        x=lst[j]\n",
    "        for i in range(len(x)):\n",
    "            if x[i]%2==0:\n",
    "                lst_new.append(x[i]**2)\n",
    "    print(lst_new)\n",
    "                \n",
    "        \n",
    "lst=eval(input(\" enter\"))\n",
    "square(lst)"
   ]
  },
  {
   "cell_type": "code",
   "execution_count": 7,
   "metadata": {},
   "outputs": [
    {
     "data": {
      "text/plain": [
       "[23.5]"
      ]
     },
     "execution_count": 7,
     "metadata": {},
     "output_type": "execute_result"
    }
   ],
   "source": [
    "def average(x):\n",
    "    sum=0\n",
    "    avg=[]\n",
    "    for i in range(len(x)):\n",
    "        y=x[i]\n",
    "        for i in y:\n",
    "            sum+=i\n",
    "        av=sum/i\n",
    "    avg.append(av)\n",
    "    return avg   \n",
    "x=eval(input())\n",
    "average(x)"
   ]
  },
  {
   "cell_type": "code",
   "execution_count": null,
   "metadata": {},
   "outputs": [],
   "source": []
  }
 ],
 "metadata": {
  "kernelspec": {
   "display_name": "Python 3",
   "language": "python",
   "name": "python3"
  },
  "language_info": {
   "codemirror_mode": {
    "name": "ipython",
    "version": 3
   },
   "file_extension": ".py",
   "mimetype": "text/x-python",
   "name": "python",
   "nbconvert_exporter": "python",
   "pygments_lexer": "ipython3",
   "version": "3.12.3"
  }
 },
 "nbformat": 4,
 "nbformat_minor": 2
}
