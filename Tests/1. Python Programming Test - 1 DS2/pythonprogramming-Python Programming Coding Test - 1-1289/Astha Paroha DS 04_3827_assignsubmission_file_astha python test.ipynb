{
 "cells": [
  {
   "cell_type": "code",
   "execution_count": 2,
   "metadata": {},
   "outputs": [
    {
     "name": "stdout",
     "output_type": "stream",
     "text": [
      "cost= 1350.0\n"
     ]
    }
   ],
   "source": [
    "# Q1\n",
    "def final(price,member,sale):\n",
    "    if price>1000:\n",
    "        discount=price-10/100*price\n",
    "        print(\"cost=\",discount)\n",
    "    elif member==True and price>1000:\n",
    "        discount=price-15/100*price\n",
    "        print(\"cost=\",discount)\n",
    "    elif member==True and price>1000 and sale==True:\n",
    "        discount=price-17/100*price\n",
    "        print(\"cost=\",discount)\n",
    "    else:\n",
    "        print(price)\n",
    "price=int(input(\"enter\"))\n",
    "member=bool(input(\"enter true or false\"))\n",
    "sale=bool(input(\"enter true or false\"))\n",
    "final(price=1500,member=True,sale=True)"
   ]
  },
  {
   "cell_type": "code",
   "execution_count": 49,
   "metadata": {},
   "outputs": [
    {
     "name": "stdout",
     "output_type": "stream",
     "text": [
      "[]\n"
     ]
    }
   ],
   "source": [
    "# Q2\n",
    "# count=0\n",
    "lst=[]\n",
    "n=int(input(\"enter no\"))\n",
    "for i in range(1,n+1):\n",
    "    count=0\n",
    "    rem=n%10\n",
    "    if rem%i==0:\n",
    "        count+=1\n",
    "    if count==2:\n",
    "        lst.append(rem)\n",
    "    n//=10\n",
    "print(lst)"
   ]
  },
  {
   "cell_type": "code",
   "execution_count": 20,
   "metadata": {},
   "outputs": [
    {
     "name": "stdout",
     "output_type": "stream",
     "text": [
      "bonus= 21600.0\n",
      "bonus= 21600.0\n",
      "None\n"
     ]
    }
   ],
   "source": [
    "# Q4\n",
    "def bon(salary,rating,years,job):\n",
    "    if rating==\"A\" and years>10:\n",
    "        bonus=salary+20/100*salary\n",
    "        print(\"bonus=\",bonus)\n",
    "    elif rating==\"A\" and years>=5 and years<10:\n",
    "        bonus=salary+15/100*salary\n",
    "        print(\"bonus=\",bonus)\n",
    "    elif rating==\"B\" and job==\"senior\":\n",
    "        bonus=salary+12/100*salary\n",
    "        print(\"bonus=\",bonus)\n",
    "    elif rating==\"B\" and job==\"junior\":\n",
    "         bonus=salary+8/100*salary\n",
    "         print(\"bonus=\",bonus)\n",
    "    elif rating==\"C\":\n",
    "        bonus=salary\n",
    "    print(\"bonus=\",bonus)\n",
    "salary=int(input('enter salary'))\n",
    "rating=input(\"enter A,Bor C\")\n",
    "years=(input(\"enter no of years\"))\n",
    "job=input(\"enter level of job as senior junior or none\")\n",
    "ans=bon(salary,rating,years,job)\n",
    "print(ans)\n",
    "\n"
   ]
  },
  {
   "cell_type": "code",
   "execution_count": 3,
   "metadata": {},
   "outputs": [
    {
     "name": "stdout",
     "output_type": "stream",
     "text": [
      "[20, 49, 39, 30, 28, 59]\n",
      "49\n"
     ]
    }
   ],
   "source": [
    "# Q9\n",
    "def min(x):\n",
    "    print(x)\n",
    "    if x[0]<x[1]:\n",
    "        min1=x[0]\n",
    "        min2=x[1]\n",
    "    else:\n",
    "        min1=x[1]\n",
    "        min2=x[0]\n",
    "    for i in range(len(x)):\n",
    "        if x[i]<min1:\n",
    "            min2=min1\n",
    "            min1=x[i]\n",
    "        elif x[i]<min2:\n",
    "            x[i]=min2\n",
    "    print(min2)\n",
    "x=eval(input(\"enter a list\"))\n",
    "min(x)"
   ]
  },
  {
   "cell_type": "code",
   "execution_count": 4,
   "metadata": {},
   "outputs": [
    {
     "name": "stdout",
     "output_type": "stream",
     "text": [
      "    !     \n",
      "  ! ! !   \n",
      "! ! ! ! ! \n",
      "    !     \n",
      "    !     \n"
     ]
    }
   ],
   "source": [
    "# Q5\n",
    "def pattern():\n",
    "    nsp=2\n",
    "    nst=1\n",
    "    nsp1=2\n",
    "    nsp2=2\n",
    "    nst1=1\n",
    "    nsp3=2\n",
    "    for i in range(3):\n",
    "        for j in range(nsp):\n",
    "            print(\" \",end=\" \")\n",
    "        for j in range(nst):\n",
    "            print(\"!\",end=\" \")\n",
    "        for j in range(nsp1):\n",
    "            print(\" \",end=\" \")\n",
    "        print()\n",
    "        nst+=2\n",
    "        nsp-=1\n",
    "        nsp1-=1\n",
    "    for k in range(2):\n",
    "        for l in range(nsp2):\n",
    "            print(\" \",end=\" \")\n",
    "        for l in range(nst1):\n",
    "             print(\"!\",end=\" \")\n",
    "        for l in range(nsp3):\n",
    "            print(\" \",end=\" \")\n",
    "        print()\n",
    "        nsp2+=0\n",
    "        nst1+=0\n",
    "        nsp2+=0\n",
    "\n",
    "pattern()"
   ]
  },
  {
   "cell_type": "code",
   "execution_count": 42,
   "metadata": {},
   "outputs": [
    {
     "name": "stdout",
     "output_type": "stream",
     "text": [
      "*                 * \n",
      "* *             * * \n",
      "*   *         *   * \n",
      "*     *     *     * \n",
      "*       * *       * \n",
      "*       * *       * \n",
      "*     *     *     * \n",
      "*   *         *   * \n",
      "* *             * * \n",
      "*                 * \n"
     ]
    }
   ],
   "source": [
    "# Q6\n",
    "def pattern(n):\n",
    "    for i in range(n):\n",
    "        for j in range(n):\n",
    "            if (j==0 or i==j or j==n-1 or i+j==n-1):\n",
    "                print(\"*\",end=\" \")\n",
    "            else:\n",
    "                print(\" \",end=\" \")\n",
    "        print()\n",
    "n=int(input(\"enter n\"))\n",
    "pattern(n)           "
   ]
  },
  {
   "cell_type": "code",
   "execution_count": 5,
   "metadata": {},
   "outputs": [
    {
     "name": "stdout",
     "output_type": "stream",
     "text": [
      "[2, 6, 10]\n",
      "[4, 36, 100]\n"
     ]
    }
   ],
   "source": [
    "# Q10\n",
    "x=eval(input(\"enter a list\"))\n",
    "lst=[]\n",
    "for j in range(len(x)):\n",
    "            temp=x[j]\n",
    "            # print(j)\n",
    "            for i in temp:\n",
    "                # print(i)\n",
    "                if i%2==0:\n",
    "                    div=i\n",
    "            (lst.append(div))\n",
    "print(lst)\n",
    "lst1=[]\n",
    "for k in lst:\n",
    "                    sq=k**2\n",
    "                    lst1.append(sq)\n",
    "print(lst1)\n",
    "# x=eval(input(\"enter a list\"))\n",
    "# list(x)"
   ]
  },
  {
   "cell_type": "code",
   "execution_count": null,
   "metadata": {},
   "outputs": [],
   "source": []
  }
 ],
 "metadata": {
  "kernelspec": {
   "display_name": "Python 3",
   "language": "python",
   "name": "python3"
  },
  "language_info": {
   "codemirror_mode": {
    "name": "ipython",
    "version": 3
   },
   "file_extension": ".py",
   "mimetype": "text/x-python",
   "name": "python",
   "nbconvert_exporter": "python",
   "pygments_lexer": "ipython3",
   "version": "3.12.3"
  }
 },
 "nbformat": 4,
 "nbformat_minor": 2
}
