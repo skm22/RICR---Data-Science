{
 "cells": [
  {
   "cell_type": "code",
   "execution_count": 6,
   "metadata": {},
   "outputs": [
    {
     "name": "stdout",
     "output_type": "stream",
     "text": [
      "None\n"
     ]
    }
   ],
   "source": [
    "def prime(n):\n",
    "    prime=1\n",
    "    if \n",
    "        prime+=n\n",
    "        return prime\n",
    "n=int(input(\"enter the number\"))\n",
    "print(prime(n))\n",
    "\n",
    "        \n",
    "\n",
    "\n"
   ]
  },
  {
   "cell_type": "code",
   "execution_count": 13,
   "metadata": {},
   "outputs": [
    {
     "name": "stdout",
     "output_type": "stream",
     "text": [
      "3\n"
     ]
    }
   ],
   "source": [
    "#Q3\n",
    "\n",
    "def reverse(n):\n",
    "    big=1\n",
    "    for i in range(n):\n",
    "        if n>big:\n",
    "        \n",
    "            return big\n",
    "n=int(input(\"enter\"))\n",
    "print(reverse(n))\n",
    "\n"
   ]
  },
  {
   "cell_type": "code",
   "execution_count": 49,
   "metadata": {},
   "outputs": [
    {
     "name": "stdout",
     "output_type": "stream",
     "text": [
      "! \n",
      "! \n",
      "! ! ! ! ! \n",
      "! \n",
      "! \n"
     ]
    }
   ],
   "source": [
    "#5\n",
    "def pattern(n):\n",
    "    for i in range(n):\n",
    "        for j in range(n):\n",
    "            if i==n//2 or j==n//2 or i-j==6:\n",
    "                print(\"!\",end=\" \")\n",
    "        print()\n",
    "n=int(input(\"enter\"))\n",
    "pattern(n)"
   ]
  },
  {
   "cell_type": "code",
   "execution_count": 67,
   "metadata": {},
   "outputs": [
    {
     "name": "stdout",
     "output_type": "stream",
     "text": [
      "* *   \n",
      "* * * *   \n",
      "* * * *   \n",
      "* * * *   \n",
      "* * * *   \n",
      "* *   \n",
      "None\n"
     ]
    }
   ],
   "source": [
    "#Q6\n",
    "def pattern(n):\n",
    "    for i in range(n):\n",
    "        for j in range(n):\n",
    "            if j==0 or j==n-1 or i+j==n-1 or i==j:\n",
    "                print(\"*\",end=\" \")\n",
    "        else:\n",
    "              print(\" \",end=\" \")\n",
    "        print()\n",
    "n=int(input(\"enter\"))\n",
    "print(pattern(n))"
   ]
  },
  {
   "cell_type": "code",
   "execution_count": 68,
   "metadata": {},
   "outputs": [
    {
     "name": "stdout",
     "output_type": "stream",
     "text": [
      "* *   \n",
      "* *   \n",
      "* *   \n",
      "* *   \n",
      "* *   \n",
      "* *   \n",
      "* *   \n",
      "* *   \n",
      "* * * * * * * * *   \n",
      "None\n"
     ]
    }
   ],
   "source": [
    "#Q7\n",
    "def pattern(n):\n",
    "    for i in range(n):\n",
    "        for j in range(n):\n",
    "            if j==n//2 or i==n-1 or j==0 and j>n//2 or j==n-1 and j>n//2:\n",
    "                print(\"*\",end=\" \")\n",
    "        else:\n",
    "              print(\" \",end=\" \")\n",
    "        print()\n",
    "n=int(input(\"enter\"))\n",
    "print(pattern(n))\n"
   ]
  },
  {
   "cell_type": "code",
   "execution_count": 84,
   "metadata": {},
   "outputs": [
    {
     "name": "stdout",
     "output_type": "stream",
     "text": [
      "*   \n",
      "* *   \n",
      "* *   \n",
      "* *   \n",
      "* *   \n",
      "* *   \n",
      "* *   \n",
      "None\n"
     ]
    }
   ],
   "source": [
    "def pattern(n):\n",
    "    for i in range(n):\n",
    "        for j in range(n):\n",
    "            if j==0  or i==j:\n",
    "              print(\"*\",end=\" \")\n",
    "        else:\n",
    "              print(\" \",end=\" \")\n",
    "        print()\n",
    "n=int(input(\"enter\"))\n",
    "print(pattern(n))\n"
   ]
  },
  {
   "cell_type": "code",
   "execution_count": 103,
   "metadata": {},
   "outputs": [
    {
     "ename": "TypeError",
     "evalue": "unsupported operand type(s) for //: 'list' and 'int'",
     "output_type": "error",
     "traceback": [
      "\u001b[1;31m---------------------------------------------------------------------------\u001b[0m",
      "\u001b[1;31mTypeError\u001b[0m                                 Traceback (most recent call last)",
      "Cell \u001b[1;32mIn[103], line 8\u001b[0m\n\u001b[0;32m      6\u001b[0m                 \u001b[38;5;28mprint\u001b[39m(j\u001b[38;5;241m*\u001b[39m\u001b[38;5;241m*\u001b[39m\u001b[38;5;241m2\u001b[39m)\n\u001b[0;32m      7\u001b[0m \u001b[38;5;28mlist\u001b[39m \u001b[38;5;241m=\u001b[39m [[\u001b[38;5;241m2\u001b[39m, \u001b[38;5;241m3\u001b[39m, \u001b[38;5;241m5\u001b[39m], [\u001b[38;5;241m6\u001b[39m, \u001b[38;5;241m7\u001b[39m, \u001b[38;5;241m9\u001b[39m], [\u001b[38;5;241m10\u001b[39m, \u001b[38;5;241m11\u001b[39m, \u001b[38;5;241m13\u001b[39m]]\n\u001b[1;32m----> 8\u001b[0m \u001b[38;5;28mprint\u001b[39m(\u001b[43msquar\u001b[49m\u001b[43m(\u001b[49m\u001b[38;5;28;43mlist\u001b[39;49m\u001b[43m)\u001b[49m)\n",
      "Cell \u001b[1;32mIn[103], line 5\u001b[0m, in \u001b[0;36msquar\u001b[1;34m(list)\u001b[0m\n\u001b[0;32m      3\u001b[0m \u001b[38;5;28;01mfor\u001b[39;00m i \u001b[38;5;129;01min\u001b[39;00m \u001b[38;5;28mlist\u001b[39m:\n\u001b[0;32m      4\u001b[0m     \u001b[38;5;28;01mfor\u001b[39;00m j \u001b[38;5;129;01min\u001b[39;00m i:\n\u001b[1;32m----> 5\u001b[0m         \u001b[38;5;28;01mif\u001b[39;00m \u001b[43mi\u001b[49m\u001b[38;5;241;43m/\u001b[39;49m\u001b[38;5;241;43m/\u001b[39;49m\u001b[38;5;241;43m2\u001b[39;49m\u001b[38;5;241m==\u001b[39m\u001b[38;5;241m0\u001b[39m:\n\u001b[0;32m      6\u001b[0m             \u001b[38;5;28mprint\u001b[39m(j\u001b[38;5;241m*\u001b[39m\u001b[38;5;241m*\u001b[39m\u001b[38;5;241m2\u001b[39m)\n",
      "\u001b[1;31mTypeError\u001b[0m: unsupported operand type(s) for //: 'list' and 'int'"
     ]
    }
   ],
   "source": [
    "list = [[2, 3, 5], [6, 7, 9], [10, 11, 13]]\n",
    "def squar(list):\n",
    "    for i in list:\n",
    "        for j in i:\n",
    "            if i//2==0:\n",
    "                print(j**2)\n",
    "list = [[2, 3, 5], [6, 7, 9], [10, 11, 13]]\n",
    "print(squar(list))\n"
   ]
  },
  {
   "cell_type": "code",
   "execution_count": 107,
   "metadata": {},
   "outputs": [
    {
     "ename": "SyntaxError",
     "evalue": "invalid syntax (3080695980.py, line 3)",
     "output_type": "error",
     "traceback": [
      "\u001b[1;36m  Cell \u001b[1;32mIn[107], line 3\u001b[1;36m\u001b[0m\n\u001b[1;33m    lst1=[list[i] for i in range(len(list)) list[i]//len(list)]:\u001b[0m\n\u001b[1;37m                                            ^\u001b[0m\n\u001b[1;31mSyntaxError\u001b[0m\u001b[1;31m:\u001b[0m invalid syntax\n"
     ]
    }
   ],
   "source": [
    "def avrage():\n",
    "    lst = [[1,2,3],[3,4,5],[3,4,5],[5,7,3,2]]\n",
    "    lst1=[list[i] for i in range(len(list)) list[i]//len(list)]:\n",
    "    print(lst1)\n"
   ]
  },
  {
   "cell_type": "code",
   "execution_count": null,
   "metadata": {},
   "outputs": [],
   "source": []
  }
 ],
 "metadata": {
  "kernelspec": {
   "display_name": "Python 3",
   "language": "python",
   "name": "python3"
  },
  "language_info": {
   "codemirror_mode": {
    "name": "ipython",
    "version": 3
   },
   "file_extension": ".py",
   "mimetype": "text/x-python",
   "name": "python",
   "nbconvert_exporter": "python",
   "pygments_lexer": "ipython3",
   "version": "3.12.2"
  }
 },
 "nbformat": 4,
 "nbformat_minor": 2
}
