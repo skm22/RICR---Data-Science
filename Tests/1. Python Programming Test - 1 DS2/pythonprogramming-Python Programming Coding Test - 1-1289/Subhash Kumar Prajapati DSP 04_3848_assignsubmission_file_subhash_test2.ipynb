{
 "cells": [
  {
   "cell_type": "code",
   "execution_count": 1,
   "metadata": {},
   "outputs": [
    {
     "data": {
      "text/plain": [
       "28"
      ]
     },
     "execution_count": 1,
     "metadata": {},
     "output_type": "execute_result"
    }
   ],
   "source": [
    "#question=9\n",
    "def second_min(lst):\n",
    "    if lst[0]>lst[1]:\n",
    "        min1=lst[1]\n",
    "        min2=lst[0]\n",
    "    else:\n",
    "        min1=lst[0]\n",
    "        min2=lst[1]\n",
    "    for i in range(2,len(lst)):\n",
    "        if lst[i]<=min1:\n",
    "            min2=min1\n",
    "            min1=lst[i]\n",
    "        elif lst[i]<min2:\n",
    "            min2=lst[i] \n",
    "    return min2       \n",
    "\n",
    "lst=eval(input())\n",
    "second_min(lst)              "
   ]
  },
  {
   "cell_type": "code",
   "execution_count": 3,
   "metadata": {},
   "outputs": [
    {
     "name": "stdout",
     "output_type": "stream",
     "text": [
      "*       *   * \n",
      "* *   *     * \n",
      "*   *       * \n",
      "* *   *     * \n",
      "*       *   * \n",
      "*         * * \n",
      "*           * \n"
     ]
    }
   ],
   "source": [
    "#ques7\n",
    "def star(n):\n",
    "    for i in range (n):\n",
    "        for j in range(n):\n",
    "            if j==0 or j==n-1 or i==j or i+j==4 :\n",
    "                print(\"*\",end=\" \")\n",
    "            else:\n",
    "                print(\" \",end=\" \") \n",
    "        print()          \n",
    "n=int(input()) \n",
    "star(n)        "
   ]
  },
  {
   "cell_type": "code",
   "execution_count": 5,
   "metadata": {},
   "outputs": [
    {
     "name": "stdout",
     "output_type": "stream",
     "text": [
      "num is not a prime number\n"
     ]
    },
    {
     "data": {
      "text/plain": [
       "4"
      ]
     },
     "execution_count": 5,
     "metadata": {},
     "output_type": "execute_result"
    }
   ],
   "source": [
    "#ques2\n",
    "def sum_prime(n):\n",
    "    sum=0\n",
    "    while n!=0:\n",
    "        a=n%10\n",
    "        n//=10\n",
    "        if a==1:\n",
    "            print(\"num is not a prime number\")\n",
    "        else:\n",
    "            if a%2==0 and n%3==0:\n",
    "                continue    \n",
    "            else:  \n",
    "                sum+=a\n",
    "                n//=10\n",
    "    return sum    \n",
    "n=int(input())\n",
    "sum_prime(n)        "
   ]
  },
  {
   "cell_type": "code",
   "execution_count": 65,
   "metadata": {},
   "outputs": [
    {
     "name": "stdout",
     "output_type": "stream",
     "text": [
      "1275.0\n"
     ]
    }
   ],
   "source": [
    "price=int(input())\n",
    "mem=input()\n",
    "sale=input()\n",
    "total=0\n",
    "if price>1000:\n",
    "    if mem==\"yes\" and sale==\"yes\":\n",
    "        total+=price-(price*(0.1+0.05+0.07))\n",
    "        print(total)\n",
    "    elif mem==\"yes\" and sale==\"no\":\n",
    "        total+=price-(price*(0.1+0.05))\n",
    "        print(total)\n",
    "    elif sale==\"yes\" and mem==\"no\":\n",
    "        total+=price-(price*(0.1+0.07))\n",
    "        print(total)\n",
    "else:\n",
    "    print(\"no disscount available\")  \n",
    "\n",
    "\n"
   ]
  }
 ],
 "metadata": {
  "kernelspec": {
   "display_name": "Python 3",
   "language": "python",
   "name": "python3"
  },
  "language_info": {
   "codemirror_mode": {
    "name": "ipython",
    "version": 3
   },
   "file_extension": ".py",
   "mimetype": "text/x-python",
   "name": "python",
   "nbconvert_exporter": "python",
   "pygments_lexer": "ipython3",
   "version": "3.12.3"
  }
 },
 "nbformat": 4,
 "nbformat_minor": 2
}
