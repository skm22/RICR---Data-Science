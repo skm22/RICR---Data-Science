{
 "cells": [
  {
   "cell_type": "markdown",
   "metadata": {},
   "source": [
    "Q1. Write a Python program to calculate the final price of a product\n",
    "after applying a series of discounts based on the following\n",
    "conditions:\n",
    "• If the product price is above Rs1000, apply a 10% discount.\n",
    "• If the customer is a member, apply an additional 5% discount.\n",
    "• If the purchase is made during a sale period, apply an additional 7%\n",
    "discount.\n",
    "Note: Discount should be applicable on resultant price of previous\n",
    "discount.\n",
    "Test Case:\n",
    "Input: Product price = 1500\n",
    " Is Customer member = Yes\n",
    " Sale period = No\n",
    "Output: Final Price = 1282.5"
   ]
  },
  {
   "cell_type": "code",
   "execution_count": 3,
   "metadata": {},
   "outputs": [
    {
     "name": "stdout",
     "output_type": "stream",
     "text": [
      "1282.5\n"
     ]
    }
   ],
   "source": [
    "def price(product_price,member,Sale_period):\n",
    "    final_price = 0\n",
    "    disc = 0\n",
    "    if product_price > 1000 or member == \"yes\"  or Sale_period == \"No\":\n",
    "        disc = product_price * 10 / 100\n",
    "        discount_price = product_price - disc\n",
    "        disc += discount_price * 5 / 100\n",
    "    else :\n",
    "        (product_price)\n",
    "\n",
    "    final_price = product_price - disc\n",
    "    return final_price\n",
    "final_price = price(1500,\"yes\",\"No\")\n",
    "print(final_price)\n",
    "    "
   ]
  },
  {
   "cell_type": "markdown",
   "metadata": {},
   "source": [
    "Q10. Create a list of squares of those numbers which are divisible by\n",
    "‘2’ from the given list.\n",
    "List = [[2, 3, 5], [6, 7, 9], [10, 11, 13]]\n",
    "Expected Output: [4, 36, 100]\n"
   ]
  },
  {
   "cell_type": "code",
   "execution_count": 70,
   "metadata": {},
   "outputs": [
    {
     "name": "stdout",
     "output_type": "stream",
     "text": [
      "4 36 100 None\n"
     ]
    }
   ],
   "source": [
    "def newlst(lst):\n",
    "    for i in range(len(lst)):\n",
    "         for j in range(len(lst[i])):\n",
    "            if lst[i][j] % 2 == 0:\n",
    "                lst1 = lst[i][j] ** 2\n",
    "                print(lst1,end=\" \")\n",
    "lst1 = newlst([[2,3,5],[6,7,9],[10,11,13]])\n",
    "print(lst1)\n"
   ]
  },
  {
   "cell_type": "markdown",
   "metadata": {},
   "source": [
    "Q12. Write a python program using list comprehension to create a\n",
    "list which has the average of elements of list of given list.\n",
    "lst = [[1,2,3],[3,4,5],[3,4,5],[5,7,3,2]]\n",
    "Expected Output: [2.0, 4.0, 4.0, 4.25]\n"
   ]
  },
  {
   "cell_type": "code",
   "execution_count": 57,
   "metadata": {},
   "outputs": [
    {
     "name": "stdout",
     "output_type": "stream",
     "text": [
      "0.5\n",
      "1.0\n",
      "1.5\n",
      "1.5\n",
      "2.0\n",
      "2.5\n",
      "1.5\n",
      "2.0\n",
      "2.5\n",
      "1.5\n",
      "2.0\n",
      "2.5\n"
     ]
    }
   ],
   "source": [
    "lst = [[1,2,3],[3,4,5],[3,4,5],[3,4,5]]\n",
    "lst1 = []\n",
    "for i in range(len(lst)):\n",
    "    for j in range(len(lst[i])):\n",
    "        avg = lst\n",
    "        print(avg)"
   ]
  },
  {
   "cell_type": "markdown",
   "metadata": {},
   "source": [
    "Q6. If n = 7"
   ]
  },
  {
   "cell_type": "code",
   "execution_count": 69,
   "metadata": {},
   "outputs": [
    {
     "name": "stdout",
     "output_type": "stream",
     "text": [
      "* \n",
      "* \n",
      "* \n",
      "* \n",
      "* \n",
      "* \n",
      "* \n",
      "* \n",
      "* \n",
      " \n",
      " \n",
      " \n",
      "* \n",
      " \n",
      "* \n",
      " \n",
      "* \n",
      " \n",
      "* \n",
      " \n",
      " \n",
      "* \n",
      " \n",
      " \n",
      "* \n",
      " \n",
      " \n",
      " \n",
      "* \n",
      " \n",
      "* \n",
      " \n",
      "* \n",
      " \n",
      " \n",
      "* \n",
      "* \n",
      " \n",
      " \n",
      " \n",
      "* \n",
      " \n",
      "* \n",
      " \n",
      " \n",
      " \n",
      " \n",
      " \n",
      "* \n"
     ]
    }
   ],
   "source": [
    "n = int(input(\"enter the number of rows :\"))\n",
    "for i in range(n):\n",
    "    for j in range(n):\n",
    "        if i==0 or i == j or  i+j==n-1 or  j==0:\n",
    "            print(\"*\",end=\" \")\n",
    "        else :\n",
    "            print(\" \",end=\"\")\n",
    "        print()\n"
   ]
  }
 ],
 "metadata": {
  "kernelspec": {
   "display_name": "Python 3",
   "language": "python",
   "name": "python3"
  },
  "language_info": {
   "codemirror_mode": {
    "name": "ipython",
    "version": 3
   },
   "file_extension": ".py",
   "mimetype": "text/x-python",
   "name": "python",
   "nbconvert_exporter": "python",
   "pygments_lexer": "ipython3",
   "version": "3.12.7"
  }
 },
 "nbformat": 4,
 "nbformat_minor": 2
}
