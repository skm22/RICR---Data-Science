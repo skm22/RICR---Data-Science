{
 "cells": [
  {
   "cell_type": "code",
   "execution_count": 5,
   "metadata": {},
   "outputs": [
    {
     "name": "stdout",
     "output_type": "stream",
     "text": [
      "*       * \n",
      "* *   * * \n",
      "*   *   * \n",
      "*       * \n",
      "*       * \n",
      "*       * \n",
      "*   *   * \n",
      "* *   * * \n",
      "*       * \n"
     ]
    }
   ],
   "source": [
    "#question8\n",
    "n = int(input(\"enter value of n\"))\n",
    "def pettrn_a(n):\n",
    "    if n==5:\n",
    "        a=0\n",
    "    elif n==7:\n",
    "        a=1\n",
    "\n",
    "    for i in range(2*n-1):\n",
    "        for j in range(n):\n",
    "            if j==0 or j==n-1 or i==j and i<=n//2 or i+j==n-1 and j>=n//2 or i+j==2*n-2 and i>n+a or i-j==n-1 and i>n+a:\n",
    "                print(\"*\",end=\" \")\n",
    "            else:\n",
    "                print(\" \",end=\" \")\n",
    "        print()\n",
    "pettrn_a(n)"
   ]
  },
  {
   "cell_type": "code",
   "execution_count": 12,
   "metadata": {},
   "outputs": [
    {
     "name": "stdout",
     "output_type": "stream",
     "text": [
      "*       * \n",
      "* *   * * \n",
      "*   *   * \n",
      "* *   * * \n",
      "*       * \n"
     ]
    }
   ],
   "source": [
    "#question6\n",
    "n = int(input(\"enter no of rows/colom\"))\n",
    "def pettrn_b(n):\n",
    "    for i in range(n):\n",
    "        for j in range(n):\n",
    "            if j==0 or j==n-1 or i==j or i+j==n-1:\n",
    "                print(\"*\",end=\" \")\n",
    "            else:\n",
    "                print(\" \",end=\" \")\n",
    "        print()\n",
    "pettrn_b(n)"
   ]
  },
  {
   "cell_type": "code",
   "execution_count": 11,
   "metadata": {},
   "outputs": [
    {
     "name": "stdout",
     "output_type": "stream",
     "text": [
      "    *     \n",
      "  *   *   \n",
      "* * * * * \n",
      "*       * \n",
      "* * * * * \n"
     ]
    }
   ],
   "source": [
    "#question7\n",
    "n = int(input(\"enter no of rows or colom\"))\n",
    "def pettrn_c(n):\n",
    "\n",
    "    for i in range(n):\n",
    "        for j in range(n):\n",
    "            if i==n-1 or i==n//2 or j==0 and i>=n//2 or j==n-1 and i>=n//2 or i+j==n//2 and j<=n//2 or j>=n//2 and j-i==n//2:\n",
    "                print(\"*\",end=\" \")\n",
    "            else:\n",
    "                print(\" \",end=\" \")\n",
    "        print()\n",
    "pettrn_c(n)"
   ]
  },
  {
   "cell_type": "code",
   "execution_count": 16,
   "metadata": {},
   "outputs": [
    {
     "name": "stdout",
     "output_type": "stream",
     "text": [
      "[4, 36, 100]\n"
     ]
    }
   ],
   "source": [
    "#question10\n",
    "list = [[2,3,5],[6,7,9],[10,11,13]]\n",
    "def lst_fs(list):\n",
    "\n",
    "    lst = []\n",
    "    for i in range(len(list)):\n",
    "        lst.append(list[i][0]**2)\n",
    "\n",
    "    print(lst)\n",
    "lst_fs(list)"
   ]
  },
  {
   "cell_type": "code",
   "execution_count": 50,
   "metadata": {},
   "outputs": [
    {
     "ename": "KeyboardInterrupt",
     "evalue": "",
     "output_type": "error",
     "traceback": [
      "\u001b[1;31m---------------------------------------------------------------------------\u001b[0m",
      "\u001b[1;31mKeyboardInterrupt\u001b[0m                         Traceback (most recent call last)",
      "Cell \u001b[1;32mIn[50], line 4\u001b[0m\n\u001b[0;32m      2\u001b[0m n \u001b[38;5;241m=\u001b[39m \u001b[38;5;28mint\u001b[39m(\u001b[38;5;28minput\u001b[39m(\u001b[38;5;124m\"\u001b[39m\u001b[38;5;124menter number\u001b[39m\u001b[38;5;124m\"\u001b[39m))\n\u001b[0;32m      3\u001b[0m \u001b[38;5;28msum\u001b[39m \u001b[38;5;241m=\u001b[39m \u001b[38;5;241m0\u001b[39m\n\u001b[1;32m----> 4\u001b[0m \u001b[38;5;28;01mwhile\u001b[39;00m n\u001b[38;5;241m>\u001b[39m\u001b[38;5;241m=\u001b[39m\u001b[38;5;241m0\u001b[39m:\n\u001b[0;32m      5\u001b[0m         a \u001b[38;5;241m=\u001b[39m n\u001b[38;5;241m%\u001b[39m\u001b[38;5;241m10\u001b[39m\n\u001b[0;32m      6\u001b[0m         b \u001b[38;5;241m=\u001b[39m \u001b[38;5;28msum\u001b[39m\u001b[38;5;241m*\u001b[39m\u001b[38;5;241m10\u001b[39m\n",
      "\u001b[1;31mKeyboardInterrupt\u001b[0m: "
     ]
    }
   ],
   "source": [
    "#question3\n",
    "n = int(input(\"enter number\"))\n",
    "def a(n):\n",
    "        sum = 0\n",
    "        while n>=0:\n",
    "                a = n%10\n",
    "                b = sum*10\n",
    "                b+=a\n",
    "                n//=10\n",
    "                print(b)\n"
   ]
  },
  {
   "cell_type": "code",
   "execution_count": 8,
   "metadata": {},
   "outputs": [
    {
     "name": "stdout",
     "output_type": "stream",
     "text": [
      "    !     \n",
      "  ! ! !   \n",
      "! ! ! ! ! \n",
      "    !     \n",
      "    !     \n"
     ]
    }
   ],
   "source": [
    "#question5\n",
    "n = int(input(\"enter no of rows or colom\"))\n",
    "def pettrn_d(n):\n",
    "    for i in range(n):\n",
    "        for j in range(n):\n",
    "            if j==n//2 or i==n//2 or i+j==n//2 or j-i==n//2 :\n",
    "                print(\"!\",end=\" \")\n",
    "            else:\n",
    "                print(\" \",end=\" \")\n",
    "        print()\n",
    "\n",
    "pettrn_d(n)"
   ]
  },
  {
   "cell_type": "code",
   "execution_count": 51,
   "metadata": {},
   "outputs": [
    {
     "name": "stdout",
     "output_type": "stream",
     "text": [
      "28\n"
     ]
    }
   ],
   "source": [
    "#question9\n",
    "list = [20,49,39,30,28,59]\n",
    "def min2(list):\n",
    "    if list[0]>list[1]:\n",
    "        min1 = list[1]\n",
    "        min2 = list[0]\n",
    "    else:\n",
    "        min1 = list[0]\n",
    "        min2 = list[1]\n",
    "\n",
    "    for i in range(len(list)):\n",
    "        if list[i]<min1:\n",
    "            min2 = min1\n",
    "            min1 = list[i]\n",
    "        elif list[i]<min2 and list[i]>min1:\n",
    "            min2 = list[i]\n",
    "\n",
    "    print(min2)\n",
    "\n",
    "\n",
    "min2(list)\n"
   ]
  },
  {
   "cell_type": "code",
   "execution_count": 59,
   "metadata": {},
   "outputs": [
    {
     "ename": "TypeError",
     "evalue": "object of type 'int' has no len()",
     "output_type": "error",
     "traceback": [
      "\u001b[1;31m---------------------------------------------------------------------------\u001b[0m",
      "\u001b[1;31mTypeError\u001b[0m                                 Traceback (most recent call last)",
      "Cell \u001b[1;32mIn[59], line 7\u001b[0m\n\u001b[0;32m      4\u001b[0m \u001b[38;5;28msum\u001b[39m \u001b[38;5;241m=\u001b[39m \u001b[38;5;241m0\u001b[39m\n\u001b[0;32m      6\u001b[0m \u001b[38;5;28;01mfor\u001b[39;00m i \u001b[38;5;129;01min\u001b[39;00m \u001b[38;5;28mrange\u001b[39m(\u001b[38;5;28mlen\u001b[39m(\u001b[38;5;28mlist\u001b[39m)):\n\u001b[1;32m----> 7\u001b[0m         \u001b[38;5;28;01mfor\u001b[39;00m j \u001b[38;5;129;01min\u001b[39;00m \u001b[38;5;28;43mlen\u001b[39;49m\u001b[43m(\u001b[49m\u001b[38;5;28;43mlist\u001b[39;49m\u001b[43m[\u001b[49m\u001b[43mi\u001b[49m\u001b[43m]\u001b[49m\u001b[43m)\u001b[49m:\n\u001b[0;32m      8\u001b[0m             \u001b[38;5;28msum\u001b[39m\u001b[38;5;241m*\u001b[39m\u001b[38;5;241m=\u001b[39m\u001b[38;5;241m10\u001b[39m\n\u001b[0;32m      9\u001b[0m             \u001b[38;5;28msum\u001b[39m \u001b[38;5;241m+\u001b[39m\u001b[38;5;241m=\u001b[39m lst[i][j]\n",
      "\u001b[1;31mTypeError\u001b[0m: object of type 'int' has no len()"
     ]
    }
   ],
   "source": [
    "#question12\n",
    "lst = [[1,2,3],[3,4,5],[5,7,3,2]]\n",
    "def ave(lst):\n",
    "    lst1 = []\n",
    "    sum = 0\n",
    "\n",
    "    for i in range(len(list)):\n",
    "            for j in len(list[i]):\n",
    "                sum*=10\n",
    "                sum += lst[i][j]\n",
    "                ave = float(sum/len(list[i]))\n",
    "                lst1.append(ave)\n",
    "            print(lst1)\n",
    "\n",
    "ave(lst)"
   ]
  },
  {
   "cell_type": "code",
   "execution_count": 66,
   "metadata": {},
   "outputs": [
    {
     "name": "stdout",
     "output_type": "stream",
     "text": [
      "5.0\n"
     ]
    }
   ],
   "source": [
    "#question1\n",
    "price = float(input(\"\"))\n",
    "rem = input(\"member\")\n",
    "def sale_price(price,rem):\n",
    "\n",
    "    if price>1000 :\n",
    "        \n",
    "        if rem==\"member\":\n",
    "            final_price = 1000*0.10*0.05\n",
    "            print(final_price)\n",
    "        elif rem==\"sae period\":\n",
    "            final_price = 1000*0.10*0.05*0.07\n",
    "            print(final_price)\n",
    "        else:\n",
    "            final_price = 1000*0.10\n",
    "            print(final_price)\n",
    "sale_price(price , rem)"
   ]
  },
  {
   "cell_type": "code",
   "execution_count": null,
   "metadata": {},
   "outputs": [],
   "source": [
    "#question11\n",
    "per = input(\"enter per\")\n",
    "year = int(input(\"ex\"))\n",
    "bouns =0\n",
    "if per ==\"A\" and year>10:\n",
    "    bouns+= 0.20\n",
    "elif "
   ]
  }
 ],
 "metadata": {
  "kernelspec": {
   "display_name": "Python 3",
   "language": "python",
   "name": "python3"
  },
  "language_info": {
   "codemirror_mode": {
    "name": "ipython",
    "version": 3
   },
   "file_extension": ".py",
   "mimetype": "text/x-python",
   "name": "python",
   "nbconvert_exporter": "python",
   "pygments_lexer": "ipython3",
   "version": "3.12.3"
  }
 },
 "nbformat": 4,
 "nbformat_minor": 2
}
