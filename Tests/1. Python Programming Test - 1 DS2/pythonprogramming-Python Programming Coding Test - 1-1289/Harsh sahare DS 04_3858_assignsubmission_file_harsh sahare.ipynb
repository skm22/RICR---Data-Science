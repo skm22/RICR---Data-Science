{
 "cells": [
  {
   "cell_type": "code",
   "execution_count": 55,
   "metadata": {},
   "outputs": [
    {
     "name": "stdout",
     "output_type": "stream",
     "text": [
      "3000 2700.0 False False\n"
     ]
    }
   ],
   "source": [
    "#1\n",
    "n=int(input(\"\"))\n",
    "if n>1000:\n",
    "    d=n*0.10\n",
    "    c=n-d\n",
    "    if : \n",
    "        a=c*0.5\n",
    "        b=c+a\n",
    "print(n,c,z,x)        "
   ]
  },
  {
   "cell_type": "code",
   "execution_count": 50,
   "metadata": {},
   "outputs": [
    {
     "name": "stdout",
     "output_type": "stream",
     "text": [
      "0\n"
     ]
    }
   ],
   "source": [
    "#2\n",
    "n=int(input(\"enter\"))\n",
    "count=0\n",
    "sum=0\n",
    "for i in range(1,n+1):\n",
    "   b=n%10\n",
    "   for j in range(1,b+1):\n",
    "     if b%i==0:\n",
    "        count+=1    \n",
    "   if count==2:\n",
    "      sum+=b  \n",
    "   n//=10\n",
    "print(sum)   \n",
    "      \n",
    "           \n",
    "    "
   ]
  },
  {
   "cell_type": "code",
   "execution_count": null,
   "metadata": {},
   "outputs": [],
   "source": [
    "#3\n"
   ]
  },
  {
   "cell_type": "code",
   "execution_count": null,
   "metadata": {},
   "outputs": [],
   "source": [
    "#4\n"
   ]
  },
  {
   "cell_type": "code",
   "execution_count": 61,
   "metadata": {},
   "outputs": [
    {
     "name": "stdout",
     "output_type": "stream",
     "text": [
      "    *     \n",
      "  * * *   \n",
      "* * * * * \n",
      "    *     \n",
      "    *     \n"
     ]
    }
   ],
   "source": [
    "#5\n",
    "def a(n):\n",
    "    for i in range(n):\n",
    "        for j in range(n):\n",
    "            if(i==n//2 or j==n//2 or i+j==n//2 or j-i==n//2 and j>=n//2  ):\n",
    "                print(\"*\",end=\" \")\n",
    "            else:\n",
    "                print(\" \",end=\" \")\n",
    "        print()    \n",
    "n=int(input())\n",
    "a(n)            \n",
    "                "
   ]
  },
  {
   "cell_type": "code",
   "execution_count": 36,
   "metadata": {},
   "outputs": [
    {
     "name": "stdout",
     "output_type": "stream",
     "text": [
      "*           * \n",
      "* *       * * \n",
      "*   *   *   * \n",
      "*     *     * \n",
      "*   *   *   * \n",
      "* *       * * \n",
      "*           * \n"
     ]
    }
   ],
   "source": [
    "#6\n",
    "def a(n):\n",
    "   for i in range(n):\n",
    "        for j in range(n):\n",
    "         if (j==0 or j==n-1 or i==j or i+j==n-1):\n",
    "            print(\"*\",end=\" \")\n",
    "         else: \n",
    "            print(\" \",end=\" \")\n",
    "        print()   \n",
    "n=int(input())\n",
    "a(n)             "
   ]
  },
  {
   "cell_type": "code",
   "execution_count": 63,
   "metadata": {},
   "outputs": [
    {
     "name": "stdout",
     "output_type": "stream",
     "text": [
      "*       * \n",
      "* *   * * \n",
      "*   *   * \n",
      "*       * \n",
      "*       * \n",
      "*       * \n",
      "*   *   * \n",
      "* *     * \n",
      "*       * \n"
     ]
    }
   ],
   "source": [
    "#7\n",
    "def a(n):\n",
    " for i in range(n-1):\n",
    "    for j in range(n//2):\n",
    "        if (j==0 or j==n//2-1 or i==j and j<=n//2-3 or i+j==n-2 and j<=n//2-3\n",
    "            or i+j==n//2-1 and j>n//2-3 or j-i==n//2-1 and j>=n//2-3 ):\n",
    "         print(\"*\",end=\" \")\n",
    "        else:\n",
    "            print(\" \",end=\" \")\n",
    "    print()  \n",
    "n=int(input())  \n",
    "a(n)         \n",
    "        "
   ]
  },
  {
   "cell_type": "code",
   "execution_count": 34,
   "metadata": {},
   "outputs": [
    {
     "name": "stdout",
     "output_type": "stream",
     "text": [
      "      *       \n",
      "    *   *     \n",
      "  *       *   \n",
      "* * * * * * * \n",
      "*           * \n",
      "*           * \n",
      "* * * * * * * \n"
     ]
    }
   ],
   "source": [
    "#8\n",
    "def a(n):\n",
    "  for i in range(n):\n",
    "    for j in range(n):\n",
    "        if (j==0 and i>=n//2 or i==n-1 or j==n-1 and i>=n//2 or i==n//2 or i+j==n//2 and j<=n//2 \n",
    "            or j-i==n//2 and j>=n//2):\n",
    "            print(\"*\",end=\" \")\n",
    "        else:\n",
    "            print(\" \",end=\" \")\n",
    "    print()\n",
    "n=int(input())\n",
    "a(n)            \n",
    "            "
   ]
  },
  {
   "cell_type": "code",
   "execution_count": 68,
   "metadata": {},
   "outputs": [
    {
     "ename": "UnboundLocalError",
     "evalue": "cannot access local variable 'min2' where it is not associated with a value",
     "output_type": "error",
     "traceback": [
      "\u001b[1;31m---------------------------------------------------------------------------\u001b[0m",
      "\u001b[1;31mUnboundLocalError\u001b[0m                         Traceback (most recent call last)",
      "Cell \u001b[1;32mIn[68], line 14\u001b[0m\n\u001b[0;32m     11\u001b[0m     \u001b[38;5;28mprint\u001b[39m(min2)    \n\u001b[0;32m     13\u001b[0m lst\u001b[38;5;241m=\u001b[39m[\u001b[38;5;241m20\u001b[39m,\u001b[38;5;241m49\u001b[39m,\u001b[38;5;241m39\u001b[39m,\u001b[38;5;241m30\u001b[39m,\u001b[38;5;241m28\u001b[39m,\u001b[38;5;241m59\u001b[39m]\n\u001b[1;32m---> 14\u001b[0m \u001b[43ma\u001b[49m\u001b[43m(\u001b[49m\u001b[43mlst\u001b[49m\u001b[43m)\u001b[49m    \n",
      "Cell \u001b[1;32mIn[68], line 11\u001b[0m, in \u001b[0;36ma\u001b[1;34m(lst)\u001b[0m\n\u001b[0;32m      9\u001b[0m         min1\u001b[38;5;241m=\u001b[39mlst[i]\n\u001b[0;32m     10\u001b[0m         min2\u001b[38;5;241m=\u001b[39mlst[\u001b[38;5;241m0\u001b[39m]\n\u001b[1;32m---> 11\u001b[0m \u001b[38;5;28mprint\u001b[39m(\u001b[43mmin2\u001b[49m)\n",
      "\u001b[1;31mUnboundLocalError\u001b[0m: cannot access local variable 'min2' where it is not associated with a value"
     ]
    }
   ],
   "source": [
    "#9\n",
    "def a(lst):\n",
    "    lst=[0]\n",
    "    for i in range(1,len(lst)):\n",
    "        if lst[0]>lst[i]:\n",
    "            min1=lst[0]\n",
    "            min2=lst[i]\n",
    "        else:\n",
    "            min1=lst[i]\n",
    "            min2=lst[0]\n",
    "    print(min2)    \n",
    "             \n",
    "lst=[20,49,39,30,28,59]\n",
    "a(lst)    \n",
    "           \n"
   ]
  },
  {
   "cell_type": "code",
   "execution_count": null,
   "metadata": {},
   "outputs": [],
   "source": [
    "#12\n",
    "lst=[[1,2,3],[3,4,5],[3,4,5],[5,7,3,2]]\n"
   ]
  }
 ],
 "metadata": {
  "kernelspec": {
   "display_name": "Python 3",
   "language": "python",
   "name": "python3"
  },
  "language_info": {
   "codemirror_mode": {
    "name": "ipython",
    "version": 3
   },
   "file_extension": ".py",
   "mimetype": "text/x-python",
   "name": "python",
   "nbconvert_exporter": "python",
   "pygments_lexer": "ipython3",
   "version": "3.12.2"
  }
 },
 "nbformat": 4,
 "nbformat_minor": 2
}
