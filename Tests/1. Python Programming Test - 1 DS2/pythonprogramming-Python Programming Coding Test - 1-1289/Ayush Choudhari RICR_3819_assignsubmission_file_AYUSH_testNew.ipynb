{
 "cells": [
  {
   "cell_type": "markdown",
   "metadata": {},
   "source": [
    "Q1. Write a Python program to calculate the final price of a product\n",
    "after applying a series of discounts based on the following\n",
    "conditions:\n",
    "• If the product price is above Rs1000, apply a 10% discount.\n",
    "• If the customer is a member, apply an additional 5% discount.\n",
    "• If the purchase is made during a sale period, apply an additional 7%\n",
    "discount.\n",
    "Note: Discount should be applicable on resultant price of previous\n",
    "discount.\n",
    "Test Case:\n",
    "Input: Product price = 1500\n",
    " Is Customer member = Yes\n",
    " Sale period = No\n",
    "Output: Final Price = 1282.5"
   ]
  },
  {
   "cell_type": "code",
   "execution_count": 137,
   "metadata": {},
   "outputs": [
    {
     "name": "stdout",
     "output_type": "stream",
     "text": [
      "1170.0\n"
     ]
    }
   ],
   "source": [
    "price=int(input('enter num'))\n",
    "member=str(input('member'))\n",
    "sale=str(input('sale'))\n",
    "if price>1000 and member!=member and sale!=sale:\n",
    "        d=price*10/100\n",
    "        print(price-d)\n",
    "elif price>1000 and member==member and sale!=sale:\n",
    "        d=price*15/100\n",
    "        print(price-d)\n",
    "elif price>1000 and member==member and sale==sale :\n",
    "        d=price*22/100 \n",
    "        print(price-d)      "
   ]
  },
  {
   "cell_type": "markdown",
   "metadata": {},
   "source": [
    "Q2. Write a Python program to find the sum of all prime digits in a\n",
    "given number.\n",
    "Test Case:\n",
    "Input: 437529\n",
    "Output: 17 (because 2, 3, 5, 7 are prime numbers in that\n",
    "number (437529) and 2 + 3 + 5 + 7 = 17)\n"
   ]
  },
  {
   "cell_type": "code",
   "execution_count": 75,
   "metadata": {},
   "outputs": [
    {
     "name": "stdout",
     "output_type": "stream",
     "text": [
      "prime number\n",
      "15466\n"
     ]
    }
   ],
   "source": [
    "num=int(input('enter num'))\n",
    "a=0\n",
    "if num<1:\n",
    "    print(\"not a prime number\")\n",
    "else:\n",
    "    print(\"prime number\")\n",
    "    if num>1 and num%num==0 :\n",
    "        a+=num\n",
    "        print(a)\n",
    "\n",
    "    "
   ]
  },
  {
   "cell_type": "markdown",
   "metadata": {},
   "source": [
    "Q10. Create a list of squares of those numbers which are divisible by\n",
    "‘2’ from the given list.\n",
    "List = [[2, 3, 5], [6, 7, 9], [10, 11, 13]]\n",
    "Expected Output: [4, 36, 100]\n"
   ]
  },
  {
   "cell_type": "code",
   "execution_count": 51,
   "metadata": {},
   "outputs": [
    {
     "name": "stdout",
     "output_type": "stream",
     "text": [
      "2\n",
      "4\n",
      "20\n"
     ]
    }
   ],
   "source": [
    "lst= [[2, 3, 5], [6, 7, 9], [10, 11, 13]]\n",
    "a=1\n",
    "b=1\n",
    "c=1\n",
    "for i in range (len(lst)):\n",
    "    if lst[i][0]%2==0:\n",
    "        a+=a**i\n",
    "        print(a)\n",
    "\n"
   ]
  },
  {
   "cell_type": "markdown",
   "metadata": {},
   "source": [
    "Q4.Write a Python program to calculate the bonus for employees bas\n",
    "ed on their performance rating, years of service, and job level.\n",
    "❖ If the performance rating is A, and years of service are more tha\n",
    "n 10, bonus is 20%.\n",
    "❖ If the performance rating is A, and years of service are between\n",
    "5 and 10, bonus is 15%.\n",
    "❖ If the performance rating is B, and job level is Senior, bonus is\n",
    "12%.\n",
    "❖ If the performance rating is B, and job level is Junior, bonus is\n",
    "8%.\n",
    "❖ If the performance rating is C, no bonus.\n",
    "Test Case 1:\n",
    "Input:\n",
    "Salary = 50000,\n",
    "Performance Rating = A,\n",
    "Years of Service = 8,\n",
    "Output: Bonus = 7500\n",
    " Final Salary = 57500.0"
   ]
  },
  {
   "cell_type": "code",
   "execution_count": 125,
   "metadata": {},
   "outputs": [
    {
     "name": "stdout",
     "output_type": "stream",
     "text": [
      "56\n"
     ]
    }
   ],
   "source": [
    "salary=int(input('enter num'))\n",
    "yearofs=int(input('enter num'))\n",
    "rating=input('rating')\n",
    "print(rating)\n",
    "\n"
   ]
  },
  {
   "cell_type": "code",
   "execution_count": 132,
   "metadata": {},
   "outputs": [
    {
     "ename": "TypeError",
     "evalue": "object of type 'int' has no len()",
     "output_type": "error",
     "traceback": [
      "\u001b[1;31m---------------------------------------------------------------------------\u001b[0m",
      "\u001b[1;31mTypeError\u001b[0m                                 Traceback (most recent call last)",
      "Cell \u001b[1;32mIn[132], line 3\u001b[0m\n\u001b[0;32m      1\u001b[0m \u001b[38;5;66;03m#Q5\u001b[39;00m\n\u001b[0;32m      2\u001b[0m n\u001b[38;5;241m=\u001b[39m\u001b[38;5;28mint\u001b[39m(\u001b[38;5;28minput\u001b[39m(\u001b[38;5;124m'\u001b[39m\u001b[38;5;124menter n\u001b[39m\u001b[38;5;124m'\u001b[39m))\n\u001b[1;32m----> 3\u001b[0m \u001b[38;5;28;01mfor\u001b[39;00m i \u001b[38;5;129;01min\u001b[39;00m \u001b[38;5;28mrange\u001b[39m(\u001b[38;5;28;43mlen\u001b[39;49m\u001b[43m(\u001b[49m\u001b[43mn\u001b[49m\u001b[43m)\u001b[49m):\n\u001b[0;32m      4\u001b[0m     \u001b[38;5;28;01mfor\u001b[39;00m j \u001b[38;5;129;01min\u001b[39;00m \u001b[38;5;28mrange\u001b[39m(\u001b[38;5;28mlen\u001b[39m(n)):\n\u001b[0;32m      5\u001b[0m         \u001b[38;5;28;01mif\u001b[39;00m i\u001b[38;5;241m==\u001b[39mj \u001b[38;5;129;01mand\u001b[39;00m j\u001b[38;5;241m==\u001b[39mn\u001b[38;5;241m-\u001b[39m\u001b[38;5;241m1\u001b[39m \u001b[38;5;129;01mand\u001b[39;00m i\u001b[38;5;241m==\u001b[39m\u001b[38;5;241m0\u001b[39m:\n",
      "\u001b[1;31mTypeError\u001b[0m: object of type 'int' has no len()"
     ]
    }
   ],
   "source": [
    "#Q5\n",
    "n=int(input('enter n'))\n",
    "for i in range(len(n)):\n",
    "    for j in range(len(n)):\n",
    "        if i==j and j==n-1 and i==0:\n",
    "            print('*', end=' ')\n",
    "        else:\n",
    "            print(' ', end=\" \")    \n",
    "    print()    "
   ]
  },
  {
   "cell_type": "markdown",
   "metadata": {},
   "source": [
    "Q9. Write a python program to find second minimum number of a\n",
    "given list without using min() and sort().\n",
    "List = [20,49,39,30,28,59]\n",
    "Expected Output: 28"
   ]
  },
  {
   "cell_type": "code",
   "execution_count": 119,
   "metadata": {},
   "outputs": [
    {
     "name": "stdout",
     "output_type": "stream",
     "text": [
      "69\n"
     ]
    }
   ],
   "source": [
    "lst=[20,49,39,30,28,59]\n",
    "a=lst[0]\n",
    "for i in range(len(lst)):\n",
    "    if lst[i]>a:\n",
    "        a+=lst[i]\n",
    "        print(a)"
   ]
  },
  {
   "cell_type": "code",
   "execution_count": 118,
   "metadata": {},
   "outputs": [
    {
     "name": "stdout",
     "output_type": "stream",
     "text": [
      "12\n"
     ]
    }
   ],
   "source": []
  }
 ],
 "metadata": {
  "kernelspec": {
   "display_name": "Python 3",
   "language": "python",
   "name": "python3"
  },
  "language_info": {
   "codemirror_mode": {
    "name": "ipython",
    "version": 3
   },
   "file_extension": ".py",
   "mimetype": "text/x-python",
   "name": "python",
   "nbconvert_exporter": "python",
   "pygments_lexer": "ipython3",
   "version": "3.12.4"
  }
 },
 "nbformat": 4,
 "nbformat_minor": 2
}
