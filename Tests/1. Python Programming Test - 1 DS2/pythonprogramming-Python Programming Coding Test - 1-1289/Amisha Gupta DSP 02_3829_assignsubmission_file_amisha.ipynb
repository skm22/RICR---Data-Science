{
 "cells": [
  {
   "cell_type": "code",
   "execution_count": 1,
   "metadata": {},
   "outputs": [
    {
     "name": "stdout",
     "output_type": "stream",
     "text": [
      "bonus= 7500.0\n",
      "final salary= 57500.0\n"
     ]
    }
   ],
   "source": [
    "#question 4\n",
    "s=int(input(\"enter salary of the employee\"))\n",
    "p=input(\"enter the performance of the employee\")\n",
    "y=int(input(\"enter the years of service\"))\n",
    "l=input(\"enter your job level\")\n",
    "a=s*0.20\n",
    "b=s*0.15\n",
    "c=s*0.12\n",
    "d=s*0.08\n",
    "if p==\"A\" and y>10:\n",
    "    print(\"bonus=\",a)\n",
    "    print(\"final salary=\",s+a)\n",
    "elif p==\"A\" and y>5 or y<10:\n",
    "    print(\"bonus=\",b)\n",
    "    print(\"final salary=\",s+b)\n",
    "elif p==\"B\" and l==\"senior\":\n",
    "    print(\"bonus=\",c)\n",
    "    print(\"final salary=\",s+c)\n",
    "elif p==\"B\" and l==\"junior\":\n",
    "    print(\"bonus=\",d)\n",
    "    print(\"final salary=\",s+d)\n",
    "else:\n",
    "    print(\"no bonus\")\n"
   ]
  },
  {
   "cell_type": "code",
   "execution_count": 2,
   "metadata": {},
   "outputs": [
    {
     "name": "stdout",
     "output_type": "stream",
     "text": [
      "*           * \n",
      "* *       * * \n",
      "*   *   *   * \n",
      "*     *     * \n",
      "*   *   *   * \n",
      "* *       * * \n",
      "*           * \n"
     ]
    }
   ],
   "source": [
    "#question 6\n",
    "n=int(input(\"enter the no. of rows\"))\n",
    "for i in range(n):\n",
    "    for j in range(n):\n",
    "        if j==0 or i==j or i+j==n-1 or j==n-1:\n",
    "            print(\"*\",end=\" \")\n",
    "        else:\n",
    "            print(\" \",end=\" \")\n",
    "    print()"
   ]
  },
  {
   "cell_type": "code",
   "execution_count": 27,
   "metadata": {},
   "outputs": [
    {
     "name": "stdout",
     "output_type": "stream",
     "text": [
      "* *       \n",
      "*   * * * \n",
      "*     * * \n",
      "*   *     \n",
      "* * * * * \n"
     ]
    }
   ],
   "source": [
    "#question 8\n",
    "n=int(input(\"enter the no. of rows\"))\n",
    "for i in range(n):\n",
    "    for j in range(n):\n",
    "        if  j==0 or i+j==n-1//2 or j==n-1//2 or i==j//2 or i==:\n",
    "         print(\"*\",end=\" \")\n",
    "        else:\n",
    "            print(\" \",end=\" \")\n",
    "    print()   \n",
    " "
   ]
  },
  {
   "cell_type": "code",
   "execution_count": null,
   "metadata": {},
   "outputs": [],
   "source": [
    "#question 1\n",
    "p=int(input(\"enter the price of product \"))\n",
    "m=input(\"is customer a member?\")\n",
    "s=input(\"is the product purchased during the sale\")\n",
    "a=p-0.10\n",
    "b=p-0.5\n",
    "c=p-0.7\n",
    "if p>1000:\n",
    "    print()"
   ]
  }
 ],
 "metadata": {
  "kernelspec": {
   "display_name": "Python 3",
   "language": "python",
   "name": "python3"
  },
  "language_info": {
   "codemirror_mode": {
    "name": "ipython",
    "version": 3
   },
   "file_extension": ".py",
   "mimetype": "text/x-python",
   "name": "python",
   "nbconvert_exporter": "python",
   "pygments_lexer": "ipython3",
   "version": "3.12.3"
  }
 },
 "nbformat": 4,
 "nbformat_minor": 2
}
