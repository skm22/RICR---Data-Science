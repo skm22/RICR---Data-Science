{
 "cells": [
  {
   "cell_type": "code",
   "execution_count": 4,
   "metadata": {},
   "outputs": [
    {
     "name": "stdout",
     "output_type": "stream",
     "text": [
      "Final Price =  1282.5\n"
     ]
    }
   ],
   "source": [
    "# Q1\n",
    "\n",
    "def final_price(product):\n",
    "    customer_member=input()\n",
    "    sale_period=input()\n",
    "    if product>1000:\n",
    "        price=product*(10/100)\n",
    "        product-=price\n",
    "        if customer_member==\"Yes\":\n",
    "            price1=product*(5/100)\n",
    "            product-=price1\n",
    "            if sale_period==\"Yes\":\n",
    "                price2=product*(7/100)\n",
    "                product-=price2\n",
    "                return product\n",
    "            else:\n",
    "                return product\n",
    "        else:\n",
    "            return product\n",
    "    elif customer_member==\"Yes\":\n",
    "            price=product*(5/100)\n",
    "            product-=price\n",
    "            if sale_period==\"Yes\":\n",
    "                price1=product*(7/100)\n",
    "                product-=price1\n",
    "                return product\n",
    "            else:\n",
    "                return product\n",
    "    elif sale_period==\"Yes\":\n",
    "                price=product*(7/100)\n",
    "                product-=price\n",
    "                return product\n",
    "    else:\n",
    "        return product\n",
    "product=int(input())\n",
    "print(\"Final Price = \",final_price(product))"
   ]
  },
  {
   "cell_type": "code",
   "execution_count": 21,
   "metadata": {},
   "outputs": [
    {
     "name": "stdout",
     "output_type": "stream",
     "text": [
      "17\n"
     ]
    }
   ],
   "source": [
    "# Q2\n",
    "\n",
    "def prime_sum(n):\n",
    "    sum=0\n",
    "    while n>0:\n",
    "        a=n%10\n",
    "        count=0\n",
    "        for i in range(1,a+1):\n",
    "            if a%i==0:\n",
    "                count+=1\n",
    "        if count==2:\n",
    "            sum+=a\n",
    "        n=n//10\n",
    "    return sum\n",
    "n=int(input(\"Enter the digit:\"))\n",
    "print(prime_sum(n))"
   ]
  },
  {
   "cell_type": "code",
   "execution_count": 33,
   "metadata": {},
   "outputs": [
    {
     "name": "stdout",
     "output_type": "stream",
     "text": [
      "Bonus= 7500.0\n",
      "Final Salary= 57500.0\n"
     ]
    }
   ],
   "source": [
    "# Q4\n",
    "\n",
    "def bonus(salary):\n",
    "    performance=input()\n",
    "    \n",
    "    if performance==\"A\":\n",
    "        year=int(input())\n",
    "        if year>10:\n",
    "            bonus=salary*(20/100)\n",
    "            salary+=bonus\n",
    "            print(\"Bonus=\",bonus)\n",
    "            return salary\n",
    "        elif year>5 and year<10:\n",
    "            bonus=salary*(15/100)\n",
    "            salary+=bonus\n",
    "            print(\"Bonus=\",bonus)\n",
    "            return salary\n",
    "    elif performance==\"B\":\n",
    "        job_level=input()\n",
    "        if job_level==\"Senior\":\n",
    "            bonus=salary*(12/100)\n",
    "            salary+=bonus\n",
    "            print(\"Bonus=\",bonus)\n",
    "            return salary\n",
    "        elif job_level==\"Junior\":\n",
    "            bonus=salary*(8/100)\n",
    "            salary+=bonus\n",
    "            print(\"Bonus=\",bonus)\n",
    "            return salary\n",
    "    elif performance==\"C\":\n",
    "        print(\"no bonus\")\n",
    "        return salary\n",
    "salary=int(input(\"Enter the salary:\"))\n",
    "print(\"Final Salary=\",bonus(salary))"
   ]
  },
  {
   "cell_type": "code",
   "execution_count": 55,
   "metadata": {},
   "outputs": [
    {
     "name": "stdout",
     "output_type": "stream",
     "text": [
      "  !\n",
      " !!!\n",
      "!!!!!\n",
      "!!!!!!!\n",
      "!!!!!!!!!\n"
     ]
    }
   ],
   "source": []
  },
  {
   "cell_type": "code",
   "execution_count": 22,
   "metadata": {},
   "outputs": [
    {
     "name": "stdout",
     "output_type": "stream",
     "text": [
      "Expected Output: 28\n"
     ]
    }
   ],
   "source": [
    "# Q9\n",
    "\n",
    "def second_min(lst):\n",
    "    if lst[0]>lst[1]:\n",
    "        min1=lst[1]\n",
    "        min2=lst[0]\n",
    "    else:\n",
    "        min1=lst[0]\n",
    "        min2=lst[1]\n",
    "    for i in range(2,len(lst)):\n",
    "        if min1>lst[i]:\n",
    "            min2=min1\n",
    "            min1=lst[i]\n",
    "        elif min2>lst[i]:\n",
    "            min2=lst[i]\n",
    "    return min2\n",
    "lst=eval(input(\"Enter the list: \"))\n",
    "print(\"Expected Output:\",second_min(lst))"
   ]
  },
  {
   "cell_type": "code",
   "execution_count": 1,
   "metadata": {},
   "outputs": [
    {
     "name": "stdout",
     "output_type": "stream",
     "text": [
      "Expected output: [4, 36, 100]\n"
     ]
    }
   ],
   "source": [
    "# Q10\n",
    "\n",
    "def square(lst):\n",
    "    lst1=[]\n",
    "    for i in range(len(lst)):\n",
    "        bag=lst[i]\n",
    "        for j in range(len(bag)):\n",
    "            if bag[j]%2==0:\n",
    "                sqr=bag[j]**2\n",
    "                lst1.append(sqr)\n",
    "    return lst1\n",
    "lst=eval(input(\"Enter the list:\"))\n",
    "print(\"Expected output:\",square(lst))"
   ]
  },
  {
   "cell_type": "code",
   "execution_count": null,
   "metadata": {},
   "outputs": [],
   "source": [
    "# Q11\n",
    "\n",
    "def division(n):\n",
    "    count=0\n",
    "    sum=0\n",
    "    if n%3==0:\n",
    "        count+=1\n",
    "        sum+=n\n",
    "        if n//3>1:\n",
    "            \n",
    "            \n",
    "\n",
    "\n",
    "\n",
    "\n",
    "\n",
    "\n",
    "\n",
    "\n",
    "\n",
    "\n",
    "n=int(input())\n",
    "print(division(n))"
   ]
  },
  {
   "cell_type": "code",
   "execution_count": 27,
   "metadata": {},
   "outputs": [
    {
     "name": "stdout",
     "output_type": "stream",
     "text": [
      "Expected output: [2.0, 4.0, 4.0, 4.25]\n"
     ]
    }
   ],
   "source": [
    "# Q12\n",
    "\n",
    "def average(lst):\n",
    "    lst1=[]\n",
    "    for i in range(len(lst)):\n",
    "        bag=lst[i]\n",
    "        sum=0\n",
    "        for j in range(len(bag)):\n",
    "            sum+=bag[j]\n",
    "        aver=sum/(len(bag))\n",
    "        lst1.append(aver)\n",
    "    return lst1\n",
    "lst=eval(input(\"Enter the list:\"))\n",
    "print(\"Expected output:\",average(lst))\n"
   ]
  }
 ],
 "metadata": {
  "kernelspec": {
   "display_name": "Python 3",
   "language": "python",
   "name": "python3"
  },
  "language_info": {
   "codemirror_mode": {
    "name": "ipython",
    "version": 3
   },
   "file_extension": ".py",
   "mimetype": "text/x-python",
   "name": "python",
   "nbconvert_exporter": "python",
   "pygments_lexer": "ipython3",
   "version": "3.12.3"
  }
 },
 "nbformat": 4,
 "nbformat_minor": 2
}
