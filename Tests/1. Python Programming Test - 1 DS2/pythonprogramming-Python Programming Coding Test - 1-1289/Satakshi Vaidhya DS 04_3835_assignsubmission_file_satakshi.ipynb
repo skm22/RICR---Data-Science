{
 "cells": [
  {
   "cell_type": "code",
   "execution_count": 1,
   "metadata": {},
   "outputs": [
    {
     "ename": "NameError",
     "evalue": "name 'min1' is not defined",
     "output_type": "error",
     "traceback": [
      "\u001b[1;31m---------------------------------------------------------------------------\u001b[0m",
      "\u001b[1;31mNameError\u001b[0m                                 Traceback (most recent call last)",
      "Cell \u001b[1;32mIn[1], line 15\u001b[0m\n\u001b[0;32m     13\u001b[0m             min2\u001b[38;5;241m=\u001b[39mlst[i]\n\u001b[0;32m     14\u001b[0m     \u001b[38;5;28;01mreturn\u001b[39;00m min2        \n\u001b[1;32m---> 15\u001b[0m \u001b[38;5;28mprint\u001b[39m(fun(\u001b[43mmin1\u001b[49m,min2))\n",
      "\u001b[1;31mNameError\u001b[0m: name 'min1' is not defined"
     ]
    }
   ],
   "source": [
    "\"\"\"Q9. Write a python program to find second minimum number of a\n",
    "given list without using min() and sort()\"\"\"\n",
    "\n",
    "lst=[20,49,39,30,28,59]\n",
    "def fun(min1,min2):\n",
    "    min1=lst[0]\n",
    "    min2=lst[1]\n",
    "    for i in range(2,len(lst)):\n",
    "        if lst[i]<min1:\n",
    "            min2=min1\n",
    "            min1=lst[i]\n",
    "        elif lst[i]<min2:\n",
    "            min2=lst[i]\n",
    "    return min2        \n",
    "print(fun(min1,min2))"
   ]
  },
  {
   "cell_type": "code",
   "execution_count": null,
   "metadata": {},
   "outputs": [],
   "source": [
    "# Q1\n",
    "def product_price(n):\n",
    "    if n>1000:\n",
    "        n= n+n*0.1\n",
    "    "
   ]
  },
  {
   "cell_type": "code",
   "execution_count": 41,
   "metadata": {},
   "outputs": [
    {
     "ename": "TypeError",
     "evalue": "'>' not supported between instances of 'str' and 'int'",
     "output_type": "error",
     "traceback": [
      "\u001b[1;31m---------------------------------------------------------------------------\u001b[0m",
      "\u001b[1;31mTypeError\u001b[0m                                 Traceback (most recent call last)",
      "Cell \u001b[1;32mIn[41], line 17\u001b[0m\n\u001b[0;32m     15\u001b[0m         \u001b[38;5;28mprint\u001b[39m(\u001b[38;5;124m\"\u001b[39m\u001b[38;5;124mTotal salary without bonus:\u001b[39m\u001b[38;5;124m\"\u001b[39m,n)\n\u001b[0;32m     16\u001b[0m     \u001b[38;5;28;01mreturn\u001b[39;00m n\n\u001b[1;32m---> 17\u001b[0m temp\u001b[38;5;241m=\u001b[39m\u001b[43memployee\u001b[49m\u001b[43m(\u001b[49m\u001b[43mn\u001b[49m\u001b[43m,\u001b[49m\u001b[43mx\u001b[49m\u001b[43m,\u001b[49m\u001b[43my\u001b[49m\u001b[43m)\u001b[49m\n\u001b[0;32m     18\u001b[0m \u001b[38;5;28mprint\u001b[39m(temp)\n",
      "Cell \u001b[1;32mIn[41], line 6\u001b[0m, in \u001b[0;36memployee\u001b[1;34m(n, x, y)\u001b[0m\n\u001b[0;32m      5\u001b[0m \u001b[38;5;28;01mdef\u001b[39;00m \u001b[38;5;21memployee\u001b[39m(n,x,y):\n\u001b[1;32m----> 6\u001b[0m     \u001b[38;5;28;01mif\u001b[39;00m x\u001b[38;5;241m==\u001b[39m\u001b[38;5;124m'\u001b[39m\u001b[38;5;124mA\u001b[39m\u001b[38;5;124m'\u001b[39m\u001b[38;5;129;01mand\u001b[39;00m \u001b[43my\u001b[49m\u001b[38;5;241;43m>\u001b[39;49m\u001b[38;5;241;43m10\u001b[39;49m:\n\u001b[0;32m      7\u001b[0m         \u001b[38;5;28mprint\u001b[39m(\u001b[38;5;124m\"\u001b[39m\u001b[38;5;124mTotal salary\u001b[39m\u001b[38;5;124m\"\u001b[39m,n\u001b[38;5;241m=\u001b[39m n\u001b[38;5;241m+\u001b[39mn\u001b[38;5;241m*\u001b[39m\u001b[38;5;241m20\u001b[39m\u001b[38;5;241m/\u001b[39m\u001b[38;5;241m100\u001b[39m)\n\u001b[0;32m      8\u001b[0m     \u001b[38;5;28;01melif\u001b[39;00m x\u001b[38;5;241m==\u001b[39m\u001b[38;5;124m'\u001b[39m\u001b[38;5;124mA\u001b[39m\u001b[38;5;124m'\u001b[39m \u001b[38;5;129;01mand\u001b[39;00m \u001b[38;5;241m5\u001b[39m\u001b[38;5;241m<\u001b[39my\u001b[38;5;241m<\u001b[39m\u001b[38;5;241m10\u001b[39m:\n",
      "\u001b[1;31mTypeError\u001b[0m: '>' not supported between instances of 'str' and 'int'"
     ]
    }
   ],
   "source": [
    "# Q4\n",
    "n=int(input(\"Enter the salary:\"))\n",
    "x=str(input(\"Ratings:\"))\n",
    "y=str(input(\"Service year:\"))\n",
    "def employee(n,x,y):\n",
    "    if x=='A'and y>10:\n",
    "        print(\"Total salary\",n= n+n*20/100)\n",
    "    elif x=='A' and 5<y<10:\n",
    "        print(\"Total salary\",n= n+n*15/100)\n",
    "    elif x=='B' and y=='Senior':\n",
    "        print(\"Total ,salary\",n= n+n*12/100)\n",
    "    elif x=='B' and y=='junior':\n",
    "        print(\"Total salary\",n= n+n*8/100)\n",
    "    elif x=='C':\n",
    "        print(\"Total salary without bonus:\",n)\n",
    "    return n\n",
    "temp=employee(n,x,y)\n",
    "print(temp)"
   ]
  },
  {
   "cell_type": "code",
   "execution_count": 2,
   "metadata": {},
   "outputs": [
    {
     "name": "stdout",
     "output_type": "stream",
     "text": [
      "547854\n"
     ]
    }
   ],
   "source": [
    "#Q3\n",
    "n=int(input(\"Enetr a number:\"))\n",
    "\n",
    "def num(n):\n",
    "    a=0\n",
    "    while n!=0:\n",
    "        r=n%10\n",
    "        a*=10\n",
    "        a+=r\n",
    "        n=n//10\n",
    "    return a\n",
    "print(num(n))\n"
   ]
  },
  {
   "cell_type": "code",
   "execution_count": 39,
   "metadata": {},
   "outputs": [
    {
     "name": "stdout",
     "output_type": "stream",
     "text": [
      "[2.0, 4.0, 4.0, 5.666666666666667]\n"
     ]
    }
   ],
   "source": [
    "# Q12\n",
    "lst=[[1,2,3],[3,4,5],[3,4,5],[5,7,3,2]]\n",
    "def fun(lst1):\n",
    "    lst1= [sum(i)/3  for i in lst   ]\n",
    "    return lst1\n",
    "print(lst1)"
   ]
  },
  {
   "cell_type": "code",
   "execution_count": 43,
   "metadata": {},
   "outputs": [
    {
     "ename": "TypeError",
     "evalue": "list indices must be integers or slices, not list",
     "output_type": "error",
     "traceback": [
      "\u001b[1;31m---------------------------------------------------------------------------\u001b[0m",
      "\u001b[1;31mTypeError\u001b[0m                                 Traceback (most recent call last)",
      "Cell \u001b[1;32mIn[43], line 6\u001b[0m\n\u001b[0;32m      4\u001b[0m \u001b[38;5;66;03m#def number():\u001b[39;00m\n\u001b[0;32m      5\u001b[0m \u001b[38;5;28;01mfor\u001b[39;00m i \u001b[38;5;129;01min\u001b[39;00m lst:\n\u001b[1;32m----> 6\u001b[0m     x\u001b[38;5;241m=\u001b[39m\u001b[43mlst\u001b[49m\u001b[43m[\u001b[49m\u001b[43mi\u001b[49m\u001b[43m]\u001b[49m\n\u001b[0;32m      7\u001b[0m     \u001b[38;5;28;01mfor\u001b[39;00m j \u001b[38;5;129;01min\u001b[39;00m x:\n\u001b[0;32m      8\u001b[0m         j\u001b[38;5;241m%\u001b[39m\u001b[38;5;241m2\u001b[39m\u001b[38;5;241m==\u001b[39m\u001b[38;5;241m0\u001b[39m\n",
      "\u001b[1;31mTypeError\u001b[0m: list indices must be integers or slices, not list"
     ]
    }
   ],
   "source": [
    "#Q 10\n",
    "lst=[[2,3,5],[6,7,9],[10,11,13]]\n",
    "lst1=[]\n",
    "#def number():\n",
    "for i in lst:\n",
    "    x=lst[i]\n",
    "    for j in x:\n",
    "        j%2==0\n",
    "        j**=2\n",
    "    print(j)\n",
    "print(lst1)\n",
    "#print(number())\n",
    "    \n",
    "\n"
   ]
  },
  {
   "cell_type": "code",
   "execution_count": null,
   "metadata": {},
   "outputs": [],
   "source": []
  }
 ],
 "metadata": {
  "kernelspec": {
   "display_name": "Python 3",
   "language": "python",
   "name": "python3"
  },
  "language_info": {
   "codemirror_mode": {
    "name": "ipython",
    "version": 3
   },
   "file_extension": ".py",
   "mimetype": "text/x-python",
   "name": "python",
   "nbconvert_exporter": "python",
   "pygments_lexer": "ipython3",
   "version": "3.12.3"
  }
 },
 "nbformat": 4,
 "nbformat_minor": 2
}
