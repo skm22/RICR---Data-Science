{
 "cells": [
  {
   "cell_type": "code",
   "execution_count": 2,
   "metadata": {},
   "outputs": [
    {
     "name": "stdout",
     "output_type": "stream",
     "text": [
      "*     *\n",
      "**   **\n",
      "* * * *\n",
      "*  *  *\n",
      "* * * *\n",
      "**   **\n",
      "*     *\n"
     ]
    }
   ],
   "source": [
    "#ques6\n",
    "n=int(input(\"enter a number\"))\n",
    "for i in range(n):\n",
    "    for j in range(n):\n",
    "        if j==n-1 or i+j==n-1 or j==i or j==0:\n",
    "            print(\"*\",end=\"\")\n",
    "        else:\n",
    "            print(\" \",end=\"\")\n",
    "    print()"
   ]
  },
  {
   "cell_type": "code",
   "execution_count": 36,
   "metadata": {},
   "outputs": [
    {
     "ename": "SyntaxError",
     "evalue": "invalid syntax (2543850979.py, line 3)",
     "output_type": "error",
     "traceback": [
      "\u001b[1;36m  File \u001b[1;32m\"C:\\Users\\twink\\AppData\\Local\\Temp\\ipykernel_34780\\2543850979.py\"\u001b[1;36m, line \u001b[1;32m3\u001b[0m\n\u001b[1;33m    (i for i in lst 0:4 if 0[i]/len(lst))\u001b[0m\n\u001b[1;37m                    ^\u001b[0m\n\u001b[1;31mSyntaxError\u001b[0m\u001b[1;31m:\u001b[0m invalid syntax\n"
     ]
    }
   ],
   "source": [
    "#ques12\n",
    "lst = [[1,2,3],[3,4,5],[3,4,5],[5,7,3,2]]\n",
    "(i for i in lst 0:4 if 0[i]/len(lst))\n",
    "print(i)"
   ]
  },
  {
   "cell_type": "code",
   "execution_count": 38,
   "metadata": {},
   "outputs": [
    {
     "name": "stdout",
     "output_type": "stream",
     "text": [
      "*    \n",
      "* *  \n",
      "*   *\n",
      "*    \n",
      "*    \n"
     ]
    }
   ],
   "source": [
    "#ques8\n",
    "n=int(input(\"enter a number\"))\n",
    "for i in range(n):\n",
    "    for j in range(n):\n",
    "        if i==j-i or j==0  :\n",
    "            print(\"*\",end=\"\")\n",
    "        else:\n",
    "            print(\" \",end=\"\")\n",
    "    print()"
   ]
  },
  {
   "cell_type": "code",
   "execution_count": null,
   "metadata": {},
   "outputs": [],
   "source": [
    "#ques4\n",
    "salary=50000\n",
    "performance_rating=\"A\"\n",
    "year_of_service=8\n",
    "job_level=\"senior\"\n",
    "if performance_rating is \"A\":\n",
    "    year_of_service<=10\n",
    "    print(\"bonus=20%\")\n",
    "elif performance_rating is \"A\":\n",
    "    year_of_service<10\n",
    "    print(\"bonus=15%\")\n",
    "elif performance_rating is \"B\":\n",
    "    job_level=\"senior\"\n",
    "    print(\"bonus=12%\")\n",
    "elif performance_rating:\n",
    "    job_level=\"junior\"\n",
    "    print(\"bonus=8%\")\n",
    "else:\n",
    "    print(\"no bonus\")"
   ]
  },
  {
   "cell_type": "code",
   "execution_count": null,
   "metadata": {},
   "outputs": [],
   "source": [
    "#ques5\n",
    "n=int(input(\"enter a no\"))\n",
    "if n%1==0:\n",
    "    "
   ]
  },
  {
   "cell_type": "code",
   "execution_count": 46,
   "metadata": {},
   "outputs": [
    {
     "name": "stdout",
     "output_type": "stream",
     "text": [
      "4\n"
     ]
    }
   ],
   "source": [
    "#ques10\n",
    "List = [[2, 3, 5], [6, 7, 9], [10, 11, 13]]\n",
    "for i in list:\n",
    "    i%2==0\n",
    "    i**2\n",
    "print(i)"
   ]
  }
 ],
 "metadata": {
  "kernelspec": {
   "display_name": "base",
   "language": "python",
   "name": "python3"
  },
  "language_info": {
   "codemirror_mode": {
    "name": "ipython",
    "version": 3
   },
   "file_extension": ".py",
   "mimetype": "text/x-python",
   "name": "python",
   "nbconvert_exporter": "python",
   "pygments_lexer": "ipython3",
   "version": "3.9.13"
  }
 },
 "nbformat": 4,
 "nbformat_minor": 2
}
