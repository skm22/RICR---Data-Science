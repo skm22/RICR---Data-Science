{
 "cells": [
  {
   "cell_type": "code",
   "execution_count": 14,
   "metadata": {},
   "outputs": [
    {
     "name": "stdout",
     "output_type": "stream",
     "text": [
      "225.0\n",
      "1275\n"
     ]
    }
   ],
   "source": [
    "print(1500*15/100)\n",
    "print(1500-225)"
   ]
  },
  {
   "cell_type": "code",
   "execution_count": 2,
   "metadata": {},
   "outputs": [
    {
     "ename": "ValueError",
     "evalue": "invalid literal for int() with base 10: 'no'",
     "output_type": "error",
     "traceback": [
      "\u001b[1;31m---------------------------------------------------------------------------\u001b[0m",
      "\u001b[1;31mValueError\u001b[0m                                Traceback (most recent call last)",
      "Cell \u001b[1;32mIn[2], line 14\u001b[0m\n\u001b[0;32m     12\u001b[0m product_price \u001b[38;5;241m=\u001b[39m \u001b[38;5;28mint\u001b[39m(\u001b[38;5;28minput\u001b[39m(\u001b[38;5;124m\"\u001b[39m\u001b[38;5;124m enter the number of product price\u001b[39m\u001b[38;5;124m\"\u001b[39m))\n\u001b[0;32m     13\u001b[0m customer_member \u001b[38;5;241m=\u001b[39m \u001b[38;5;28minput\u001b[39m(\u001b[38;5;124m\"\u001b[39m\u001b[38;5;124menter member ship\u001b[39m\u001b[38;5;124m\"\u001b[39m)\n\u001b[1;32m---> 14\u001b[0m sale_number\u001b[38;5;241m=\u001b[39m\u001b[38;5;28;43mint\u001b[39;49m\u001b[43m(\u001b[49m\u001b[38;5;28;43minput\u001b[39;49m\u001b[43m(\u001b[49m\u001b[38;5;124;43m\"\u001b[39;49m\u001b[38;5;124;43menter sale number\u001b[39;49m\u001b[38;5;124;43m\"\u001b[39;49m\u001b[43m)\u001b[49m\u001b[43m)\u001b[49m\n\u001b[0;32m     15\u001b[0m \u001b[38;5;28;01mif\u001b[39;00m product_price\u001b[38;5;241m>\u001b[39m\u001b[38;5;241m1000\u001b[39m \u001b[38;5;129;01mand\u001b[39;00m customer_member \u001b[38;5;241m==\u001b[39m\u001b[38;5;124m\"\u001b[39m\u001b[38;5;124myes\u001b[39m\u001b[38;5;124m\"\u001b[39m \u001b[38;5;129;01mand\u001b[39;00m sale_number \u001b[38;5;241m==\u001b[39m\u001b[38;5;124m\"\u001b[39m\u001b[38;5;124myes\u001b[39m\u001b[38;5;124m\"\u001b[39m:\n\u001b[0;32m     17\u001b[0m         total_price\u001b[38;5;241m=\u001b[39m product_price\u001b[38;5;241m*\u001b[39m\u001b[38;5;241m22\u001b[39m\u001b[38;5;241m/\u001b[39m\u001b[38;5;241m100\u001b[39m\n",
      "\u001b[1;31mValueError\u001b[0m: invalid literal for int() with base 10: 'no'"
     ]
    }
   ],
   "source": [
    "# Q1. Write a Python program to calculate the final price of a product \n",
    "# after applying a series of discounts based on the following \n",
    "# conditions:\n",
    "\n",
    "# • If the product price is above Rs1000, apply a 10% discount.\n",
    "# • If the customer is a member, apply an additional 5% discount.\n",
    "# • If the purchase is made during a sale period, apply an additional 7% \n",
    "# discount.\n",
    "\n",
    "price1 =0\n",
    "price2=0\n",
    "product_price = int(input(\" enter the number of product price\"))\n",
    "customer_member = input(\"enter member ship\")\n",
    "sale_number=int(input(\"enter sale number\"))\n",
    "if product_price>1000 and customer_member ==\"yes\" and sale_number ==\"yes\":\n",
    "        \n",
    "        total_price= product_price*22/100\n",
    "elif product_price>1000 and customer_member ==\"yes\":\n",
    "        total_price=product_price*15/100\n",
    "elif product_price>1000 and sale_number==\"yes\":\n",
    "        total_price=product_price*17/100\n",
    "    "
   ]
  },
  {
   "cell_type": "code",
   "execution_count": 11,
   "metadata": {},
   "outputs": [
    {
     "name": "stdout",
     "output_type": "stream",
     "text": [
      "9\n",
      "11\n",
      "16\n",
      "23\n",
      "26\n",
      "30\n",
      "30\n",
      "23\n"
     ]
    }
   ],
   "source": [
    "# Q2. Write a Python program to find the sum of all prime digits in a \n",
    "# given number.\n",
    "# Test Case:\n",
    "# Input: 437529\n",
    "# Output: 17 (because 2, 3, 5, 7 are prime numbers in that \n",
    "# number (437529) and 2 + 3 + 5 + 7 = 17)\n",
    "sum = 0\n",
    "count = 0\n",
    "x = int(input(\"enter the number\"))\n",
    "for i in range(7):\n",
    "    temp = x%10\n",
    "    sum = sum+temp\n",
    "    x = x//10\n",
    "    print(sum)  \n",
    "    if sum%1==0 and sum%sum==0 and sum%2!=0 and sum%3!=0:\n",
    "      temp1 = sum+count\n",
    "print(temp1)"
   ]
  },
  {
   "cell_type": "code",
   "execution_count": 2,
   "metadata": {},
   "outputs": [
    {
     "name": "stdout",
     "output_type": "stream",
     "text": [
      "91243\n"
     ]
    }
   ],
   "source": [
    "# Q3. Write a Python program to rearrange the digits of a given \n",
    "# number to form the largest possible number\n",
    "sum = 0\n",
    "x = int(input(\"enter the number\"))\n",
    "for i in range(5):\n",
    "    temp = x%10\n",
    "    sum = sum*10+temp\n",
    "    x=x//10\n",
    "print(sum)"
   ]
  },
  {
   "cell_type": "code",
   "execution_count": 13,
   "metadata": {},
   "outputs": [
    {
     "name": "stdout",
     "output_type": "stream",
     "text": [
      "28\n"
     ]
    }
   ],
   "source": [
    "# Q9. Write a python program to find second minimum number of a \n",
    "# given list without using min() and sort().\n",
    "# List = [20,49,39,30,28,59]\n",
    "# Expected Output: 28\n",
    "\n",
    "\n",
    "list = [20,49,39,30,28,59]\n",
    "max1 =28\n",
    "max2=20\n",
    "for i in range(len(list)):\n",
    "    if list[i]<max1: \n",
    "        max2=max1\n",
    "        max1=list[i]\n",
    "    elif list[i]<max2: \n",
    "        max2=list[i]\n",
    "        \n",
    "print(max2)\n"
   ]
  },
  {
   "cell_type": "code",
   "execution_count": 9,
   "metadata": {},
   "outputs": [
    {
     "name": "stdout",
     "output_type": "stream",
     "text": [
      "[4, 36, 100]\n"
     ]
    }
   ],
   "source": [
    "# Q10. Create a list of squares of those numbers which are divisible by \n",
    "# ‘2’ from the given list.\n",
    "# List = [[2, 3, 5], [6, 7, 9], [10, 11, 13]]\n",
    "# Expected Output: [4, 36, 100]\n",
    "\n",
    "list = [2, 3, 5, 6, 7, 9, 10, 11, 13]\n",
    "l=[]\n",
    "for i in range(len(list)):\n",
    "    if list[i]%2==0:\n",
    "         count = list[i]**2\n",
    "         l.append(count)\n",
    "print(l)"
   ]
  }
 ],
 "metadata": {
  "kernelspec": {
   "display_name": "Python 3",
   "language": "python",
   "name": "python3"
  },
  "language_info": {
   "codemirror_mode": {
    "name": "ipython",
    "version": 3
   },
   "file_extension": ".py",
   "mimetype": "text/x-python",
   "name": "python",
   "nbconvert_exporter": "python",
   "pygments_lexer": "ipython3",
   "version": "3.12.4"
  }
 },
 "nbformat": 4,
 "nbformat_minor": 2
}
