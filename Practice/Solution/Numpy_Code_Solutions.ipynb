{
 "cells": [
  {
   "cell_type": "code",
   "execution_count": 4,
   "id": "78189c91",
   "metadata": {},
   "outputs": [
    {
     "name": "stdout",
     "output_type": "stream",
     "text": [
      "Array: [24 35 84 37 12  3  6 89 81 74]\n",
      "Indices of even elements: [0 2 4 6 9]\n"
     ]
    }
   ],
   "source": [
    "# Q1\n",
    "import numpy as np\n",
    "arr = np.random.randint(1, 101, 10)\n",
    "even_indices = np.where(arr % 2 == 0)[0]\n",
    "print(\"Array:\", arr)\n",
    "print(\"Indices of even elements:\", even_indices)"
   ]
  },
  {
   "cell_type": "code",
   "execution_count": 5,
   "id": "85941ff3",
   "metadata": {},
   "outputs": [
    {
     "name": "stdout",
     "output_type": "stream",
     "text": [
      "Modified Matrix:\n",
      "[[0.68242864 0.74011573 0.0204582  0.60468308]\n",
      " [0.81929206 0.36907187 0.07376239 0.62966241]\n",
      " [0.94535475 0.24815274 0.64057596 0.49144161]\n",
      " [0.16077812 0.35819627 0.88682144 0.60099122]]\n"
     ]
    }
   ],
   "source": [
    "# Q2\n",
    "import numpy as np\n",
    "matrix = np.random.rand(4, 4)\n",
    "np.fill_diagonal(matrix, np.sqrt(np.diagonal(matrix)))\n",
    "print(\"Modified Matrix:\")\n",
    "print(matrix)"
   ]
  },
  {
   "cell_type": "code",
   "execution_count": 6,
   "id": "ea62df3e",
   "metadata": {},
   "outputs": [
    {
     "name": "stdout",
     "output_type": "stream",
     "text": [
      "Matrix:\n",
      "[[ 1  2  3  4  5]\n",
      " [ 6  7  8  9 10]\n",
      " [11 12 13 14 15]\n",
      " [16 17 18 19 20]]\n",
      "Row sums: [15 40 65 90]\n",
      "Column sums: [34 38 42 46 50]\n"
     ]
    }
   ],
   "source": [
    "# Q3\n",
    "import numpy as np\n",
    "arr = np.arange(1, 21).reshape(4, 5)\n",
    "row_sums = arr.sum(axis=1)\n",
    "col_sums = arr.sum(axis=0)\n",
    "print(\"Matrix:\")\n",
    "print(arr)\n",
    "print(\"Row sums:\", row_sums)\n",
    "print(\"Column sums:\", col_sums)"
   ]
  },
  {
   "cell_type": "code",
   "execution_count": 7,
   "id": "55f8537f",
   "metadata": {},
   "outputs": [
    {
     "name": "stdout",
     "output_type": "stream",
     "text": [
      "Original Array: [0.36802052 0.95293685 0.29981469 0.80157874 0.40568477 0.76012823\n",
      " 0.74280392 0.18775165 0.69296063 0.92648258]\n",
      "Normalized Array: [-0.94523617  1.30412778 -1.20752963  0.72206251 -0.8003939   0.56265974\n",
      "  0.49603711 -1.63848114  0.3043589   1.2023948 ]\n"
     ]
    }
   ],
   "source": [
    "# Q4\n",
    "import numpy as np\n",
    "arr = np.random.rand(10)\n",
    "normalized_arr = (arr - np.mean(arr)) / np.std(arr)\n",
    "print(\"Original Array:\", arr)\n",
    "print(\"Normalized Array:\", normalized_arr)"
   ]
  },
  {
   "cell_type": "code",
   "execution_count": 8,
   "id": "0545174a",
   "metadata": {},
   "outputs": [
    {
     "name": "stdout",
     "output_type": "stream",
     "text": [
      "Modified Array: [ 37   9  48  13  50  48  37  56  37  30  37 100  50  90  29  40  50  50\n",
      "  56  50]\n"
     ]
    }
   ],
   "source": [
    "# Q5\n",
    "import numpy as np\n",
    "arr = np.random.randint(-100, 101, 20)\n",
    "arr = np.where(arr < 0, np.abs(arr), np.where(arr > 50, 50, arr))\n",
    "print(\"Modified Array:\", arr)"
   ]
  },
  {
   "cell_type": "code",
   "execution_count": 9,
   "id": "903e7104",
   "metadata": {},
   "outputs": [
    {
     "name": "stdout",
     "output_type": "stream",
     "text": [
      "3D Array:\n",
      "[[[32 61 76 42 71]\n",
      "  [11 71 57 87 86]\n",
      "  [24 38 97 80 40]\n",
      "  [50  1 27 63 30]]\n",
      "\n",
      " [[85  1 85 30 52]\n",
      "  [65 93 97 67 74]\n",
      "  [27 58 95 78 23]\n",
      "  [12 40 72 72 24]]\n",
      "\n",
      " [[72 68  4 60 88]\n",
      "  [90 89 76 83 49]\n",
      "  [52 84 51 37 23]\n",
      "  [ 9  1 36 20 46]]]\n",
      "Mean values along each 2D slice: [52.2 57.5 51.9]\n"
     ]
    }
   ],
   "source": [
    "# Q6\n",
    "import numpy as np\n",
    "arr = np.random.randint(1, 101, (3, 4, 5))\n",
    "means = arr.mean(axis=(1, 2))\n",
    "print(\"3D Array:\")\n",
    "print(arr)\n",
    "print(\"Mean values along each 2D slice:\", means)"
   ]
  },
  {
   "cell_type": "code",
   "execution_count": 10,
   "id": "f1fe9d7c",
   "metadata": {},
   "outputs": [
    {
     "name": "stdout",
     "output_type": "stream",
     "text": [
      "Array 1:\n",
      "[[9 8]\n",
      " [1 5]]\n",
      "Array 2:\n",
      "[[3 2]\n",
      " [1 6]]\n",
      "Result of element-wise division:\n",
      "[[3.         4.        ]\n",
      " [1.         0.83333333]]\n"
     ]
    }
   ],
   "source": [
    "# Q7\n",
    "import numpy as np\n",
    "def elementwise_division(arr1, arr2):\n",
    "    return np.where(arr2 != 0, arr1 / arr2, 0)\n",
    "\n",
    "arr1 = np.random.randint(1, 10, (2, 2))\n",
    "arr2 = np.random.randint(0, 10, (2, 2))\n",
    "result = elementwise_division(arr1, arr2)\n",
    "print(\"Array 1:\")\n",
    "print(arr1)\n",
    "print(\"Array 2:\")\n",
    "print(arr2)\n",
    "print(\"Result of element-wise division:\")\n",
    "print(result)"
   ]
  },
  {
   "cell_type": "code",
   "execution_count": 11,
   "id": "6b8c3f41",
   "metadata": {},
   "outputs": [
    {
     "name": "stdout",
     "output_type": "stream",
     "text": [
      "Manhattan Distance Matrix:\n",
      "[[4. 3. 2. 3. 4.]\n",
      " [3. 2. 1. 2. 3.]\n",
      " [2. 1. 0. 1. 2.]\n",
      " [3. 2. 1. 2. 3.]\n",
      " [4. 3. 2. 3. 4.]]\n"
     ]
    }
   ],
   "source": [
    "# Q8\n",
    "import numpy as np\n",
    "size = 5\n",
    "center = size // 2\n",
    "matrix = np.fromfunction(lambda i, j: np.abs(i - center) + np.abs(j - center), (size, size))\n",
    "print(\"Manhattan Distance Matrix:\")\n",
    "print(matrix)"
   ]
  },
  {
   "cell_type": "code",
   "execution_count": 12,
   "id": "e204ecee",
   "metadata": {},
   "outputs": [
    {
     "name": "stdout",
     "output_type": "stream",
     "text": [
      "Modified Matrix:\n",
      "[[-1 68 76 68 -1 50]\n",
      " [44 -1 10 10 25 55]\n",
      " [68 56 37 67 16 38]\n",
      " [ 2  5 -1 73 -1 -1]\n",
      " [-1  5 -1 95 44 -1]\n",
      " [29 -1 44 -1 -1  1]]\n"
     ]
    }
   ],
   "source": [
    "# Q9\n",
    "import numpy as np\n",
    "arr = np.random.randint(1, 101, (6, 6))\n",
    "arr[arr % 3 == 0] = -1\n",
    "print(\"Modified Matrix:\")\n",
    "print(arr)"
   ]
  },
  {
   "cell_type": "code",
   "execution_count": 13,
   "id": "43f27a56",
   "metadata": {},
   "outputs": [
    {
     "name": "stdout",
     "output_type": "stream",
     "text": [
      "Original Array:\n",
      "[[[3 1 4 2]\n",
      "  [3 1 1 1]\n",
      "  [3 8 8 9]]\n",
      "\n",
      " [[2 3 8 7]\n",
      "  [9 3 9 5]\n",
      "  [8 8 9 2]]]\n",
      "Flattened using ravel: [3 1 4 2 3 1 1 1 3 8 8 9 2 3 8 7 9 3 9 5 8 8 9 2]\n",
      "Flattened using flatten: [3 1 4 2 3 1 1 1 3 8 8 9 2 3 8 7 9 3 9 5 8 8 9 2]\n"
     ]
    }
   ],
   "source": [
    "# Q10\n",
    "import numpy as np\n",
    "arr = np.random.randint(1, 10, (2, 3, 4))\n",
    "flattened_ravel = arr.ravel()\n",
    "flattened_flatten = arr.flatten()\n",
    "print(\"Original Array:\")\n",
    "print(arr)\n",
    "print(\"Flattened using ravel:\", flattened_ravel)\n",
    "print(\"Flattened using flatten:\", flattened_flatten)"
   ]
  },
  {
   "cell_type": "code",
   "execution_count": 14,
   "id": "f11f6337",
   "metadata": {},
   "outputs": [
    {
     "name": "stdout",
     "output_type": "stream",
     "text": [
      "Original Array:\n",
      "[[2 3 8]\n",
      " [6 3 9]\n",
      " [4 5 3]]\n",
      "Flipped Array:\n",
      "[[3 5 4]\n",
      " [9 3 6]\n",
      " [8 3 2]]\n"
     ]
    }
   ],
   "source": [
    "# Q11\n",
    "import numpy as np\n",
    "arr = np.random.randint(1, 10, (3, 3))\n",
    "flipped = np.flip(np.flip(arr, axis=0), axis=1)\n",
    "print(\"Original Array:\")\n",
    "print(arr)\n",
    "print(\"Flipped Array:\")\n",
    "print(flipped)"
   ]
  },
  {
   "cell_type": "code",
   "execution_count": 15,
   "id": "4cb07bd8",
   "metadata": {},
   "outputs": [
    {
     "name": "stdout",
     "output_type": "stream",
     "text": [
      "Original Array: [32 84 53 30 21 17 39 56 15 26  8 22 72 20 42 94 33 28  6 96 79 37 11 16\n",
      " 55 98 69 15 82 49]\n",
      "Partitioned Arrays:\n",
      "[ 6  8 11 15 15 16 17 20 21 22]\n",
      "[26 28 30 32 33 37 39 42 49 53]\n",
      "[55 56 69 72 79 82 84 94 96 98]\n"
     ]
    }
   ],
   "source": [
    "# Q12\n",
    "import numpy as np\n",
    "arr = np.random.randint(1, 101, 30)\n",
    "partitioned = np.array_split(np.sort(arr), 3)\n",
    "print(\"Original Array:\", arr)\n",
    "print(\"Partitioned Arrays:\")\n",
    "for part in partitioned:\n",
    "    print(part)"
   ]
  },
  {
   "cell_type": "code",
   "execution_count": 16,
   "id": "04398852",
   "metadata": {},
   "outputs": [
    {
     "name": "stdout",
     "output_type": "stream",
     "text": [
      "Array: [95 31 29 37 75 50 85 34 60 41 70 86  4 10 84]\n",
      "Top three maximum values: [85 86 95]\n"
     ]
    }
   ],
   "source": [
    "# Q13\n",
    "import numpy as np\n",
    "arr = np.random.randint(1, 101, 15)\n",
    "top_three = np.partition(arr, -3)[-3:]\n",
    "print(\"Array:\", arr)\n",
    "print(\"Top three maximum values:\", top_three)"
   ]
  },
  {
   "cell_type": "code",
   "execution_count": 17,
   "id": "65177389",
   "metadata": {},
   "outputs": [
    {
     "name": "stdout",
     "output_type": "stream",
     "text": [
      "Scores Matrix:\n",
      "[[19 14 68]\n",
      " [88 55 78]\n",
      " [27 16 92]\n",
      " [84 29 88]\n",
      " [58 66 46]\n",
      " [30  4  5]\n",
      " [67  2 20]\n",
      " [24  4  2]\n",
      " [59 60 77]\n",
      " [ 2  6 76]]\n",
      "Highest scoring student index: 1\n"
     ]
    }
   ],
   "source": [
    "# Q14\n",
    "import numpy as np\n",
    "scores = np.random.randint(0, 101, (10, 3))\n",
    "highest_scorer = np.argmax(scores.sum(axis=1))\n",
    "print(\"Scores Matrix:\")\n",
    "print(scores)\n",
    "print(\"Highest scoring student index:\", highest_scorer)"
   ]
  },
  {
   "cell_type": "code",
   "execution_count": 18,
   "id": "7ecc1d50",
   "metadata": {},
   "outputs": [
    {
     "name": "stdout",
     "output_type": "stream",
     "text": [
      "Array: [4 5 4 9 4 9 4 5 9 9]\n",
      "Pairs with target sum 10 : [(1, 7)]\n"
     ]
    }
   ],
   "source": [
    "# Q15\n",
    "import numpy as np\n",
    "def find_pairs(arr, target):\n",
    "    pairs = []\n",
    "    for i in range(len(arr)):\n",
    "        for j in range(i + 1, len(arr)):\n",
    "            if arr[i] + arr[j] == target:\n",
    "                pairs.append((i, j))\n",
    "    return pairs\n",
    "\n",
    "arr = np.random.randint(1, 10, 10)\n",
    "target_sum = 10\n",
    "pairs = find_pairs(arr, target_sum)\n",
    "print(\"Array:\", arr)\n",
    "print(\"Pairs with target sum\", target_sum, \":\", pairs)"
   ]
  },
  {
   "cell_type": "code",
   "execution_count": 19,
   "id": "a945bd2a",
   "metadata": {},
   "outputs": [
    {
     "name": "stdout",
     "output_type": "stream",
     "text": [
      "Matrix:\n",
      "[[ 1  2  3  4  5  6]\n",
      " [ 7  8  9 10 11 12]\n",
      " [13 14 15 16 17 18]\n",
      " [19 20 21 22 23 24]\n",
      " [25 26 27 28 29 30]\n",
      " [31 32 33 34 35 36]]\n",
      "Last row: [31 32 33 34 35 36]\n",
      "Last column: [ 6 12 18 24 30 36]\n"
     ]
    }
   ],
   "source": [
    "# Q16\n",
    "import numpy as np\n",
    "arr = np.arange(1, 37).reshape(6, 6)\n",
    "last_row = arr[-1, :]\n",
    "last_col = arr[:, -1]\n",
    "print(\"Matrix:\")\n",
    "print(arr)\n",
    "print(\"Last row:\", last_row)\n",
    "print(\"Last column:\", last_col)"
   ]
  },
  {
   "cell_type": "code",
   "execution_count": 20,
   "id": "e19e9065",
   "metadata": {},
   "outputs": [
    {
     "name": "stdout",
     "output_type": "stream",
     "text": [
      "Original Matrix:\n",
      "[[42 65 89 34 20]\n",
      " [99 49 84 97 18]\n",
      " [60 26 60 93 90]\n",
      " [15 19 45 64 96]\n",
      " [66 55 95 82 63]]\n",
      "Center 3x3 Sub-Matrix:\n",
      "[[49 84 97]\n",
      " [26 60 93]\n",
      " [19 45 64]]\n"
     ]
    }
   ],
   "source": [
    "# Q17\n",
    "import numpy as np\n",
    "arr = np.random.randint(1, 101, (5, 5))\n",
    "center_submatrix = arr[1:4, 1:4]\n",
    "print(\"Original Matrix:\")\n",
    "print(arr)\n",
    "print(\"Center 3x3 Sub-Matrix:\")\n",
    "print(center_submatrix)"
   ]
  },
  {
   "cell_type": "code",
   "execution_count": 21,
   "id": "13bb18e1",
   "metadata": {},
   "outputs": [
    {
     "name": "stdout",
     "output_type": "stream",
     "text": [
      "Original Matrix:\n",
      "[[ 1  2  3  4]\n",
      " [ 5  6  7  8]\n",
      " [ 9 10 11 12]\n",
      " [13 14 15 16]]\n",
      "Reversed Last Two Rows:\n",
      "[[12 11 10  9]\n",
      " [16 15 14 13]]\n"
     ]
    }
   ],
   "source": [
    "# Q18\n",
    "import numpy as np\n",
    "arr = np.arange(1, 17).reshape(4, 4)\n",
    "reversed_last_two = arr[-2:, ::-1]\n",
    "print(\"Original Matrix:\")\n",
    "print(arr)\n",
    "print(\"Reversed Last Two Rows:\")\n",
    "print(reversed_last_two)"
   ]
  }
 ],
 "metadata": {
  "kernelspec": {
   "display_name": "Python 3",
   "language": "python",
   "name": "python3"
  },
  "language_info": {
   "codemirror_mode": {
    "name": "ipython",
    "version": 3
   },
   "file_extension": ".py",
   "mimetype": "text/x-python",
   "name": "python",
   "nbconvert_exporter": "python",
   "pygments_lexer": "ipython3",
   "version": "3.12.6"
  }
 },
 "nbformat": 4,
 "nbformat_minor": 5
}
