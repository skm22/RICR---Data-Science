{
 "cells": [
  {
   "cell_type": "code",
   "execution_count": 1,
   "id": "7641b2e3",
   "metadata": {},
   "outputs": [],
   "source": [
    "import pandas as pd"
   ]
  },
  {
   "cell_type": "code",
   "execution_count": 2,
   "id": "3c4e7dd2",
   "metadata": {},
   "outputs": [],
   "source": [
    "titanic = pd.read_csv(\"Titanic Dataset.csv\")"
   ]
  },
  {
   "cell_type": "markdown",
   "id": "10bfc585",
   "metadata": {},
   "source": [
    "### 1. Select all rows where the 'Sex' column is equal to 'female':"
   ]
  },
  {
   "cell_type": "code",
   "execution_count": 3,
   "id": "20354cc3",
   "metadata": {},
   "outputs": [
    {
     "name": "stdout",
     "output_type": "stream",
     "text": [
      "     PassengerId  Survived  Pclass  \\\n",
      "1            893         1       3   \n",
      "4            896         1       3   \n",
      "6            898         1       3   \n",
      "8            900         1       3   \n",
      "12           904         1       1   \n",
      "..           ...       ...     ...   \n",
      "409         1301         1       3   \n",
      "410         1302         1       3   \n",
      "411         1303         1       1   \n",
      "412         1304         1       3   \n",
      "414         1306         1       1   \n",
      "\n",
      "                                                Name     Sex   Age  SibSp  \\\n",
      "1                   Wilkes, Mrs. James (Ellen Needs)  female  47.0      1   \n",
      "4       Hirvonen, Mrs. Alexander (Helga E Lindqvist)  female  22.0      1   \n",
      "6                               Connolly, Miss. Kate  female  30.0      0   \n",
      "8          Abrahim, Mrs. Joseph (Sophie Halaut Easu)  female  18.0      0   \n",
      "12     Snyder, Mrs. John Pillsbury (Nelle Stevenson)  female  23.0      1   \n",
      "..                                               ...     ...   ...    ...   \n",
      "409                        Peacock, Miss. Treasteall  female   3.0      1   \n",
      "410                           Naughton, Miss. Hannah  female   NaN      0   \n",
      "411  Minahan, Mrs. William Edward (Lillian E Thorpe)  female  37.0      1   \n",
      "412                   Henriksson, Miss. Jenny Lovisa  female  28.0      0   \n",
      "414                     Oliva y Ocana, Dona. Fermina  female  39.0      0   \n",
      "\n",
      "     Parch              Ticket      Fare Cabin Embarked  \n",
      "1        0              363272    7.0000   NaN        S  \n",
      "4        1             3101298   12.2875   NaN        S  \n",
      "6        0              330972    7.6292   NaN        Q  \n",
      "8        0                2657    7.2292   NaN        C  \n",
      "12       0               21228   82.2667   B45        S  \n",
      "..     ...                 ...       ...   ...      ...  \n",
      "409      1  SOTON/O.Q. 3101315   13.7750   NaN        S  \n",
      "410      0              365237    7.7500   NaN        Q  \n",
      "411      0               19928   90.0000   C78        Q  \n",
      "412      0              347086    7.7750   NaN        S  \n",
      "414      0            PC 17758  108.9000  C105        C  \n",
      "\n",
      "[152 rows x 12 columns]\n"
     ]
    }
   ],
   "source": [
    "female_passengers = titanic[titanic['Sex'] == 'female']\n",
    "print(female_passengers)"
   ]
  },
  {
   "cell_type": "markdown",
   "id": "65e95b9b",
   "metadata": {},
   "source": [
    "### 2. Extract the 'Name' and 'Age' columns of passengers from index 10 to 20 using slicing:"
   ]
  },
  {
   "cell_type": "code",
   "execution_count": 4,
   "id": "9b0ea01e",
   "metadata": {},
   "outputs": [
    {
     "name": "stdout",
     "output_type": "stream",
     "text": [
      "                                                 Name   Age\n",
      "10                                   Ilieff, Mr. Ylio   NaN\n",
      "11                         Jones, Mr. Charles Cresson  46.0\n",
      "12      Snyder, Mrs. John Pillsbury (Nelle Stevenson)  23.0\n",
      "13                               Howard, Mr. Benjamin  63.0\n",
      "14  Chaffee, Mrs. Herbert Fuller (Carrie Constance...  47.0\n",
      "15      del Carlo, Mrs. Sebastiano (Argenia Genovesi)  24.0\n",
      "16                                  Keane, Mr. Daniel  35.0\n",
      "17                                  Assaf, Mr. Gerios  21.0\n",
      "18                       Ilmakangas, Miss. Ida Livija  27.0\n",
      "19              Assaf Khalil, Mrs. Mariana (Miriam\")\"  45.0\n",
      "20                             Rothschild, Mr. Martin  55.0\n"
     ]
    }
   ],
   "source": [
    "name_age_slice = titanic.loc[10:20, ['Name', 'Age']]\n",
    "print(name_age_slice)"
   ]
  },
  {
   "cell_type": "markdown",
   "id": "d502a80f",
   "metadata": {},
   "source": [
    "### 3. Retrieve rows where passengers embarked from 'C' and only display their 'Fare' and 'Pclass':"
   ]
  },
  {
   "cell_type": "code",
   "execution_count": 5,
   "id": "874ffc5a",
   "metadata": {},
   "outputs": [
    {
     "name": "stdout",
     "output_type": "stream",
     "text": [
      "         Fare  Pclass\n",
      "8      7.2292       3\n",
      "15    27.7208       2\n",
      "17     7.2250       3\n",
      "19     7.2250       3\n",
      "20    59.4000       1\n",
      "..        ...     ...\n",
      "404   27.7208       1\n",
      "405   13.8625       2\n",
      "407  211.5000       1\n",
      "414  108.9000       1\n",
      "417   22.3583       3\n",
      "\n",
      "[102 rows x 2 columns]\n"
     ]
    }
   ],
   "source": [
    "embarked_c = titanic[titanic['Embarked'] == 'C'][['Fare', 'Pclass']]\n",
    "print(embarked_c)"
   ]
  },
  {
   "cell_type": "markdown",
   "id": "a2f76770",
   "metadata": {},
   "source": [
    "### 4. Get rows for the first 5 passengers who paid a fare of more than 50 and sort the result by 'Age':"
   ]
  },
  {
   "cell_type": "code",
   "execution_count": 6,
   "id": "7dff9514",
   "metadata": {},
   "outputs": [
    {
     "name": "stdout",
     "output_type": "stream",
     "text": [
      "     PassengerId  Survived  Pclass                             Name   Sex  \\\n",
      "196         1088         0       1  Spedden, Master. Robert Douglas  male   \n",
      "64           956         0       1      Ryerson, Master. John Borie  male   \n",
      "230         1122         0       2      Sweet, Mr. George Frederick  male   \n",
      "360         1252         0       3      Sage, Master. William Henry  male   \n",
      "212         1104         0       2        Deacon, Mr. Percy William  male   \n",
      "\n",
      "      Age  SibSp  Parch        Ticket     Fare            Cabin Embarked  \n",
      "196   6.0      0      2         16966  134.500              E34        C  \n",
      "64   13.0      2      2      PC 17608  262.375  B57 B59 B63 B66        C  \n",
      "230  14.0      0      0        220845   65.000              NaN        S  \n",
      "360  14.5      8      2      CA. 2343   69.550              NaN        S  \n",
      "212  17.0      0      0  S.O.C. 14879   73.500              NaN        S  \n"
     ]
    }
   ],
   "source": [
    "fare_gt_50_sorted = titanic[titanic['Fare'] > 50].sort_values('Age').head(5)\n",
    "print(fare_gt_50_sorted)"
   ]
  },
  {
   "cell_type": "markdown",
   "id": "bae990d8",
   "metadata": {},
   "source": [
    "### 5. Select all columns except the last two, using slicing:"
   ]
  },
  {
   "cell_type": "code",
   "execution_count": 7,
   "id": "2084c804",
   "metadata": {},
   "outputs": [
    {
     "name": "stdout",
     "output_type": "stream",
     "text": [
      "     PassengerId  Survived  Pclass  \\\n",
      "0            892         0       3   \n",
      "1            893         1       3   \n",
      "2            894         0       2   \n",
      "3            895         0       3   \n",
      "4            896         1       3   \n",
      "..           ...       ...     ...   \n",
      "413         1305         0       3   \n",
      "414         1306         1       1   \n",
      "415         1307         0       3   \n",
      "416         1308         0       3   \n",
      "417         1309         0       3   \n",
      "\n",
      "                                             Name     Sex   Age  SibSp  Parch  \\\n",
      "0                                Kelly, Mr. James    male  34.5      0      0   \n",
      "1                Wilkes, Mrs. James (Ellen Needs)  female  47.0      1      0   \n",
      "2                       Myles, Mr. Thomas Francis    male  62.0      0      0   \n",
      "3                                Wirz, Mr. Albert    male  27.0      0      0   \n",
      "4    Hirvonen, Mrs. Alexander (Helga E Lindqvist)  female  22.0      1      1   \n",
      "..                                            ...     ...   ...    ...    ...   \n",
      "413                            Spector, Mr. Woolf    male   NaN      0      0   \n",
      "414                  Oliva y Ocana, Dona. Fermina  female  39.0      0      0   \n",
      "415                  Saether, Mr. Simon Sivertsen    male  38.5      0      0   \n",
      "416                           Ware, Mr. Frederick    male   NaN      0      0   \n",
      "417                      Peter, Master. Michael J    male   NaN      1      1   \n",
      "\n",
      "                 Ticket      Fare  \n",
      "0                330911    7.8292  \n",
      "1                363272    7.0000  \n",
      "2                240276    9.6875  \n",
      "3                315154    8.6625  \n",
      "4               3101298   12.2875  \n",
      "..                  ...       ...  \n",
      "413           A.5. 3236    8.0500  \n",
      "414            PC 17758  108.9000  \n",
      "415  SOTON/O.Q. 3101262    7.2500  \n",
      "416              359309    8.0500  \n",
      "417                2668   22.3583  \n",
      "\n",
      "[418 rows x 10 columns]\n"
     ]
    }
   ],
   "source": [
    "all_but_last_two = titanic.iloc[:, :-2]\n",
    "print(all_but_last_two)"
   ]
  },
  {
   "cell_type": "markdown",
   "id": "c20d374b",
   "metadata": {},
   "source": [
    "### 6. Find rows where passengers’ age is either below 18 or above 60, and display their 'Name' and 'Survived' status:"
   ]
  },
  {
   "cell_type": "code",
   "execution_count": 8,
   "id": "a93a1bb8",
   "metadata": {},
   "outputs": [
    {
     "name": "stdout",
     "output_type": "stream",
     "text": [
      "                                                  Name  Survived\n",
      "2                            Myles, Mr. Thomas Francis         0\n",
      "5                           Svensson, Mr. Johan Cervin         0\n",
      "13                                Howard, Mr. Benjamin         0\n",
      "21                           Olsen, Master. Artur Karl         0\n",
      "55                                Rice, Master. Albert         0\n",
      "60                                     Dika, Mr. Mirko         0\n",
      "64                         Ryerson, Master. John Borie         0\n",
      "80                                Boulos, Master. Akar         0\n",
      "81                                  Straus, Mr. Isidor         0\n",
      "89                         Wells, Master. Ralph Lester         0\n",
      "96   Cavendish, Mrs. Tyrell William (Julia Florence...         1\n",
      "104          Thomas, Mrs. Alexander (Thamine Thelma\")\"         1\n",
      "114             Straus, Mrs. Isidor (Rosalie Ida Blun)         1\n",
      "117                    Sandstrom, Miss. Beatrice Irene         1\n",
      "120                               Watt, Miss. Bertha J         1\n",
      "125                           Cribb, Miss. Laura Alice         1\n",
      "140                        Goodwin, Miss. Jessie Allis         1\n",
      "142                         Ryerson, Mr. Arthur Larned         0\n",
      "152                                 Storey, Mr. Thomas         0\n",
      "154                       Asplund, Master. Filip Oscar         0\n",
      "161                     Touma, Master. Georges Youssef         0\n",
      "175                          Brown, Miss. Edith Eileen         1\n",
      "179  Compton, Mrs. Alexander Taylor (Mary Eliza Ing...         1\n",
      "187                                 Davies, Mr. Joseph         0\n",
      "192                  van Billiard, Master. Walter John         0\n",
      "193                                  Lingane, Mr. John         0\n",
      "194                      Drew, Master. Marshall Brines         0\n",
      "196                    Spedden, Master. Robert Douglas         0\n",
      "201            Danbom, Master. Gilbert Sigvard Emanuel         0\n",
      "203                         Quick, Miss. Winifred Vera         1\n",
      "212                          Deacon, Mr. Percy William         0\n",
      "230                        Sweet, Mr. George Frederick         0\n",
      "236                           Warren, Mr. Frank Manley         0\n",
      "250                              West, Miss. Barbara J         1\n",
      "263                       Klasen, Miss. Gertrud Emilia         1\n",
      "269                                  Pokrnic, Mr. Mate         0\n",
      "281                     Peacock, Master. Alfred Edward         0\n",
      "283                         Touma, Miss. Maria Youssef         1\n",
      "284                        Rosblom, Miss. Salli Helena         1\n",
      "296                              Laroche, Miss. Louise         1\n",
      "305  Crosby, Mrs. Edward Gifford (Catherine Elizabe...         1\n",
      "307                          Aks, Master. Philip Frank         0\n",
      "315                               Hagardon, Miss. Kate         1\n",
      "326                       Becker, Miss. Ruth Elizabeth         1\n",
      "345                        Abelseth, Miss. Karen Marie         1\n",
      "354            Dean, Miss. Elizabeth Gladys Millvina\"\"         1\n",
      "360                        Sage, Master. William Henry         0\n",
      "379                        Asplund, Master. Carl Edgar         0\n",
      "389                        Palsson, Master. Paul Folke         0\n",
      "392                      Abbott, Master. Eugene Joseph         0\n",
      "403                             Carrau, Mr. Jose Pedro         0\n",
      "409                          Peacock, Miss. Treasteall         1\n"
     ]
    }
   ],
   "source": [
    "age_condition = titanic[(titanic['Age'] < 18) | (titanic['Age'] > 60)][['Name', 'Survived']]\n",
    "print(age_condition)"
   ]
  },
  {
   "cell_type": "markdown",
   "id": "93a595db",
   "metadata": {},
   "source": [
    "### 7. Filter passengers who survived (1) and are males. Sort the result by 'Fare' in descending order:"
   ]
  },
  {
   "cell_type": "code",
   "execution_count": 9,
   "id": "7381348f",
   "metadata": {},
   "outputs": [
    {
     "name": "stdout",
     "output_type": "stream",
     "text": [
      "Empty DataFrame\n",
      "Columns: [PassengerId, Survived, Pclass, Name, Sex, Age, SibSp, Parch, Ticket, Fare, Cabin, Embarked]\n",
      "Index: []\n"
     ]
    }
   ],
   "source": [
    "male_survived = titanic[(titanic['Survived'] == 1) & (titanic['Sex'] == 'male')].sort_values('Fare', ascending=False)\n",
    "print(male_survived)"
   ]
  },
  {
   "cell_type": "markdown",
   "id": "f24f292a",
   "metadata": {},
   "source": [
    "### 8. Retrieve passengers whose 'Fare' is greater than 100 and 'Age' is not null:"
   ]
  },
  {
   "cell_type": "code",
   "execution_count": 10,
   "id": "d266a263",
   "metadata": {},
   "outputs": [
    {
     "name": "stdout",
     "output_type": "stream",
     "text": [
      "     PassengerId  Survived  Pclass  \\\n",
      "24           916         1       1   \n",
      "53           945         1       1   \n",
      "59           951         1       1   \n",
      "64           956         0       1   \n",
      "69           961         1       1   \n",
      "74           966         1       1   \n",
      "75           967         0       1   \n",
      "81           973         0       1   \n",
      "114         1006         1       1   \n",
      "141         1033         1       1   \n",
      "142         1034         0       1   \n",
      "156         1048         1       1   \n",
      "184         1076         1       1   \n",
      "196         1088         0       1   \n",
      "202         1094         0       1   \n",
      "217         1109         0       1   \n",
      "218         1110         1       1   \n",
      "239         1131         1       1   \n",
      "242         1134         0       1   \n",
      "252         1144         0       1   \n",
      "272         1164         1       1   \n",
      "306         1198         0       1   \n",
      "314         1206         1       1   \n",
      "316         1208         0       1   \n",
      "324         1216         1       1   \n",
      "343         1235         1       1   \n",
      "371         1263         1       1   \n",
      "375         1267         1       1   \n",
      "400         1292         1       1   \n",
      "407         1299         0       1   \n",
      "414         1306         1       1   \n",
      "\n",
      "                                                  Name     Sex   Age  SibSp  \\\n",
      "24     Ryerson, Mrs. Arthur Larned (Emily Maria Borie)  female  48.0      1   \n",
      "53                          Fortune, Miss. Ethel Flora  female  28.0      3   \n",
      "59                         Chaudanson, Miss. Victorine  female  36.0      0   \n",
      "64                         Ryerson, Master. John Borie    male  13.0      2   \n",
      "69                 Fortune, Mrs. Mark (Mary McDougald)  female  60.0      1   \n",
      "74                                Geiger, Miss. Amalie  female  35.0      0   \n",
      "75                                  Keeping, Mr. Edwin    male  32.5      0   \n",
      "81                                  Straus, Mr. Isidor    male  67.0      1   \n",
      "114             Straus, Mrs. Isidor (Rosalie Ida Blun)  female  63.0      1   \n",
      "141                               Daniels, Miss. Sarah  female  33.0      0   \n",
      "142                         Ryerson, Mr. Arthur Larned    male  61.0      1   \n",
      "156                                  Bird, Miss. Ellen  female  29.0      0   \n",
      "184  Douglas, Mrs. Frederick Charles (Mary Helene B...  female  27.0      1   \n",
      "196                    Spedden, Master. Robert Douglas    male   6.0      0   \n",
      "202                             Astor, Col. John Jacob    male  47.0      1   \n",
      "217                           Wick, Mr. George Dennick    male  57.0      1   \n",
      "218       Widener, Mrs. George Dunton (Eleanor Elkins)  female  50.0      1   \n",
      "239        Douglas, Mrs. Walter Donald (Mahala Dutton)  female  48.0      1   \n",
      "242                       Spedden, Mr. Frederic Oakley    male  45.0      1   \n",
      "252                           Clark, Mr. Walter Miller    male  27.0      1   \n",
      "272      Clark, Mrs. Walter Miller (Virginia McDowell)  female  26.0      1   \n",
      "306               Allison, Mr. Hudson Joshua Creighton    male  30.0      1   \n",
      "314              White, Mrs. John Stuart (Ella Holmes)  female  55.0      0   \n",
      "316                      Spencer, Mr. William Augustus    male  57.0      1   \n",
      "324                             Kreuchen, Miss. Emilie  female  39.0      0   \n",
      "343  Cardeza, Mrs. James Warburton Martinez (Charlo...  female  58.0      0   \n",
      "371                          Wilson, Miss. Helen Alice  female  31.0      0   \n",
      "375                           Bowen, Miss. Grace Scott  female  45.0      0   \n",
      "400                            Bonnell, Miss. Caroline  female  30.0      0   \n",
      "407                         Widener, Mr. George Dunton    male  50.0      1   \n",
      "414                       Oliva y Ocana, Dona. Fermina  female  39.0      0   \n",
      "\n",
      "     Parch    Ticket      Fare            Cabin Embarked  \n",
      "24       3  PC 17608  262.3750  B57 B59 B63 B66        C  \n",
      "53       2     19950  263.0000      C23 C25 C27        S  \n",
      "59       0  PC 17608  262.3750              B61        C  \n",
      "64       2  PC 17608  262.3750  B57 B59 B63 B66        C  \n",
      "69       4     19950  263.0000      C23 C25 C27        S  \n",
      "74       0    113503  211.5000             C130        C  \n",
      "75       0    113503  211.5000             C132        C  \n",
      "81       0  PC 17483  221.7792          C55 C57        S  \n",
      "114      0  PC 17483  221.7792          C55 C57        S  \n",
      "141      0    113781  151.5500              NaN        S  \n",
      "142      3  PC 17608  262.3750  B57 B59 B63 B66        C  \n",
      "156      0  PC 17483  221.7792              C97        S  \n",
      "184      1  PC 17558  247.5208          B58 B60        C  \n",
      "196      2     16966  134.5000              E34        C  \n",
      "202      0  PC 17757  227.5250          C62 C64        C  \n",
      "217      1     36928  164.8667              NaN        S  \n",
      "218      1    113503  211.5000              C80        C  \n",
      "239      0  PC 17761  106.4250              C86        C  \n",
      "242      1     16966  134.5000              E34        C  \n",
      "252      0     13508  136.7792              C89        C  \n",
      "272      0     13508  136.7792              C89        C  \n",
      "306      2    113781  151.5500          C22 C26        S  \n",
      "314      0  PC 17760  135.6333              C32        C  \n",
      "316      0  PC 17569  146.5208              B78        C  \n",
      "324      0     24160  211.3375              NaN        S  \n",
      "343      1  PC 17755  512.3292      B51 B53 B55        C  \n",
      "371      0     16966  134.5000          E39 E41        C  \n",
      "375      0  PC 17608  262.3750              NaN        C  \n",
      "400      0     36928  164.8667               C7        S  \n",
      "407      1    113503  211.5000              C80        C  \n",
      "414      0  PC 17758  108.9000             C105        C  \n"
     ]
    }
   ],
   "source": [
    "fare_gt_100_notnull_age = titanic[(titanic['Fare'] > 100) & (titanic['Age'].notnull())]\n",
    "print(fare_gt_100_notnull_age)"
   ]
  },
  {
   "cell_type": "markdown",
   "id": "1fad2577",
   "metadata": {},
   "source": [
    "### 9. Select the first 10 rows of passengers where 'Age' is greater than the median age of all passengers:"
   ]
  },
  {
   "cell_type": "code",
   "execution_count": 11,
   "id": "a43c7f40",
   "metadata": {},
   "outputs": [
    {
     "name": "stdout",
     "output_type": "stream",
     "text": [
      "    PassengerId  Survived  Pclass  \\\n",
      "0           892         0       3   \n",
      "1           893         1       3   \n",
      "2           894         0       2   \n",
      "6           898         1       3   \n",
      "11          903         0       1   \n",
      "13          905         0       2   \n",
      "14          906         1       1   \n",
      "16          908         0       2   \n",
      "19          911         1       3   \n",
      "20          912         0       1   \n",
      "\n",
      "                                                 Name     Sex   Age  SibSp  \\\n",
      "0                                    Kelly, Mr. James    male  34.5      0   \n",
      "1                    Wilkes, Mrs. James (Ellen Needs)  female  47.0      1   \n",
      "2                           Myles, Mr. Thomas Francis    male  62.0      0   \n",
      "6                                Connolly, Miss. Kate  female  30.0      0   \n",
      "11                         Jones, Mr. Charles Cresson    male  46.0      0   \n",
      "13                               Howard, Mr. Benjamin    male  63.0      1   \n",
      "14  Chaffee, Mrs. Herbert Fuller (Carrie Constance...  female  47.0      1   \n",
      "16                                  Keane, Mr. Daniel    male  35.0      0   \n",
      "19              Assaf Khalil, Mrs. Mariana (Miriam\")\"  female  45.0      0   \n",
      "20                             Rothschild, Mr. Martin    male  55.0      1   \n",
      "\n",
      "    Parch       Ticket     Fare Cabin Embarked  \n",
      "0       0       330911   7.8292   NaN        Q  \n",
      "1       0       363272   7.0000   NaN        S  \n",
      "2       0       240276   9.6875   NaN        Q  \n",
      "6       0       330972   7.6292   NaN        Q  \n",
      "11      0          694  26.0000   NaN        S  \n",
      "13      0        24065  26.0000   NaN        S  \n",
      "14      0  W.E.P. 5734  61.1750   E31        S  \n",
      "16      0       233734  12.3500   NaN        Q  \n",
      "19      0         2696   7.2250   NaN        C  \n",
      "20      0     PC 17603  59.4000   NaN        C  \n"
     ]
    }
   ],
   "source": [
    "median_age = titanic['Age'].median()\n",
    "age_gt_median = titanic[titanic['Age'] > median_age].head(10)\n",
    "print(age_gt_median)"
   ]
  },
  {
   "cell_type": "markdown",
   "id": "29e8216d",
   "metadata": {},
   "source": [
    "### 10. Find the rows where the 'Cabin' column is null, and extract the 'Name' and 'Ticket' columns for those passengers:"
   ]
  },
  {
   "cell_type": "code",
   "execution_count": 12,
   "id": "a12dc132",
   "metadata": {},
   "outputs": [
    {
     "name": "stdout",
     "output_type": "stream",
     "text": [
      "                                             Name              Ticket\n",
      "0                                Kelly, Mr. James              330911\n",
      "1                Wilkes, Mrs. James (Ellen Needs)              363272\n",
      "2                       Myles, Mr. Thomas Francis              240276\n",
      "3                                Wirz, Mr. Albert              315154\n",
      "4    Hirvonen, Mrs. Alexander (Helga E Lindqvist)             3101298\n",
      "..                                            ...                 ...\n",
      "412                Henriksson, Miss. Jenny Lovisa              347086\n",
      "413                            Spector, Mr. Woolf           A.5. 3236\n",
      "415                  Saether, Mr. Simon Sivertsen  SOTON/O.Q. 3101262\n",
      "416                           Ware, Mr. Frederick              359309\n",
      "417                      Peter, Master. Michael J                2668\n",
      "\n",
      "[327 rows x 2 columns]\n"
     ]
    }
   ],
   "source": [
    "cabin_null = titanic[titanic['Cabin'].isnull()][['Name', 'Ticket']]\n",
    "print(cabin_null)"
   ]
  },
  {
   "cell_type": "markdown",
   "id": "12adac07",
   "metadata": {},
   "source": [
    "### 11. Filter passengers whose 'SibSp' (siblings/spouses aboard) is greater than 1, and 'Age' is less than 30. Show only their 'Name', 'Age', and 'SibSp':"
   ]
  },
  {
   "cell_type": "code",
   "execution_count": 13,
   "id": "2297b77e",
   "metadata": {},
   "outputs": [
    {
     "name": "stdout",
     "output_type": "stream",
     "text": [
      "                              Name   Age  SibSp\n",
      "9          Davies, Mr. John Samuel  21.0      2\n",
      "31   Jefferys, Mr. Clifford Thomas  24.0      2\n",
      "52   Hocking, Miss. Ellen Nellie\"\"  20.0      2\n",
      "53      Fortune, Miss. Ethel Flora  28.0      3\n",
      "55            Rice, Master. Albert  10.0      4\n",
      "64     Ryerson, Master. John Borie  13.0      2\n",
      "140    Goodwin, Miss. Jessie Allis  10.0      5\n",
      "154   Asplund, Master. Filip Oscar  13.0      4\n",
      "167        Ford, Mr. Edward Watson  18.0      2\n",
      "187             Davies, Mr. Joseph  17.0      2\n",
      "319   Jefferys, Mr. Ernest Wilfred  22.0      2\n",
      "326   Becker, Miss. Ruth Elizabeth  12.0      2\n",
      "360    Sage, Master. William Henry  14.5      8\n",
      "376              Kink, Miss. Maria  22.0      2\n",
      "379    Asplund, Master. Carl Edgar   5.0      4\n",
      "389    Palsson, Master. Paul Folke   6.0      3\n",
      "394       Kink-Heilmann, Mr. Anton  29.0      3\n"
     ]
    }
   ],
   "source": [
    "sibsp_gt_1_age_lt_30 = titanic[(titanic['SibSp'] > 1) & (titanic['Age'] < 30)][['Name', 'Age', 'SibSp']]\n",
    "print(sibsp_gt_1_age_lt_30)"
   ]
  },
  {
   "cell_type": "markdown",
   "id": "dd570e93",
   "metadata": {},
   "source": [
    "### 12. Assign ranks to passengers based on their 'Fare', with higher fares getting higher ranks. Allow ties in the ranking:"
   ]
  },
  {
   "cell_type": "code",
   "execution_count": 14,
   "id": "4ed65979",
   "metadata": {},
   "outputs": [
    {
     "name": "stdout",
     "output_type": "stream",
     "text": [
      "      Fare  Fare_Rank\n",
      "0   7.8292      331.0\n",
      "1   7.0000      409.5\n",
      "2   9.6875      263.0\n",
      "3   8.6625      275.5\n",
      "4  12.2875      246.0\n",
      "5   9.2250      269.0\n",
      "6   7.6292      376.0\n",
      "7  29.0000      114.0\n",
      "8   7.2292      393.0\n",
      "9  24.1500      154.0\n"
     ]
    }
   ],
   "source": [
    "titanic['Fare_Rank'] = titanic['Fare'].rank(ascending=False)\n",
    "print(titanic[['Fare', 'Fare_Rank']].head(10))"
   ]
  },
  {
   "cell_type": "markdown",
   "id": "88f1fac1",
   "metadata": {},
   "source": [
    "### 13. Check if any column in the dataset contains missing values. If yes, display the column names:"
   ]
  },
  {
   "cell_type": "code",
   "execution_count": 15,
   "id": "3dcd8df9",
   "metadata": {},
   "outputs": [
    {
     "name": "stdout",
     "output_type": "stream",
     "text": [
      "Columns with missing values: ['Age', 'Fare', 'Cabin', 'Fare_Rank']\n"
     ]
    }
   ],
   "source": [
    "missing_columns = titanic.columns[titanic.isnull().any()]\n",
    "print('Columns with missing values:', missing_columns.tolist())"
   ]
  },
  {
   "cell_type": "markdown",
   "id": "d79ae50b",
   "metadata": {},
   "source": [
    "### 14. Identify duplicate entries in the dataset based on the 'Name' column and remove them permanently:"
   ]
  },
  {
   "cell_type": "code",
   "execution_count": 16,
   "id": "58301247",
   "metadata": {},
   "outputs": [
    {
     "name": "stdout",
     "output_type": "stream",
     "text": [
      "     PassengerId  Survived  Pclass  \\\n",
      "0            892         0       3   \n",
      "1            893         1       3   \n",
      "2            894         0       2   \n",
      "3            895         0       3   \n",
      "4            896         1       3   \n",
      "..           ...       ...     ...   \n",
      "413         1305         0       3   \n",
      "414         1306         1       1   \n",
      "415         1307         0       3   \n",
      "416         1308         0       3   \n",
      "417         1309         0       3   \n",
      "\n",
      "                                             Name     Sex   Age  SibSp  Parch  \\\n",
      "0                                Kelly, Mr. James    male  34.5      0      0   \n",
      "1                Wilkes, Mrs. James (Ellen Needs)  female  47.0      1      0   \n",
      "2                       Myles, Mr. Thomas Francis    male  62.0      0      0   \n",
      "3                                Wirz, Mr. Albert    male  27.0      0      0   \n",
      "4    Hirvonen, Mrs. Alexander (Helga E Lindqvist)  female  22.0      1      1   \n",
      "..                                            ...     ...   ...    ...    ...   \n",
      "413                            Spector, Mr. Woolf    male   NaN      0      0   \n",
      "414                  Oliva y Ocana, Dona. Fermina  female  39.0      0      0   \n",
      "415                  Saether, Mr. Simon Sivertsen    male  38.5      0      0   \n",
      "416                           Ware, Mr. Frederick    male   NaN      0      0   \n",
      "417                      Peter, Master. Michael J    male   NaN      1      1   \n",
      "\n",
      "                 Ticket      Fare Cabin Embarked  Fare_Rank  \n",
      "0                330911    7.8292   NaN        Q      331.0  \n",
      "1                363272    7.0000   NaN        S      409.5  \n",
      "2                240276    9.6875   NaN        Q      263.0  \n",
      "3                315154    8.6625   NaN        S      275.5  \n",
      "4               3101298   12.2875   NaN        S      246.0  \n",
      "..                  ...       ...   ...      ...        ...  \n",
      "413           A.5. 3236    8.0500   NaN        S      290.0  \n",
      "414            PC 17758  108.9000  C105        C       30.0  \n",
      "415  SOTON/O.Q. 3101262    7.2500   NaN        S      386.0  \n",
      "416              359309    8.0500   NaN        S      290.0  \n",
      "417                2668   22.3583   NaN        C      163.0  \n",
      "\n",
      "[418 rows x 13 columns]\n"
     ]
    }
   ],
   "source": [
    "titanic_no_duplicates = titanic.drop_duplicates(subset=['Name'])\n",
    "print(titanic_no_duplicates)"
   ]
  },
  {
   "cell_type": "markdown",
   "id": "ee8d3257",
   "metadata": {},
   "source": [
    "### 15. Extract passengers whose 'Pclass' is either 1 or 3 and store their information in a new DataFrame:"
   ]
  },
  {
   "cell_type": "code",
   "execution_count": 17,
   "id": "02767a15",
   "metadata": {},
   "outputs": [
    {
     "name": "stdout",
     "output_type": "stream",
     "text": [
      "     PassengerId  Survived  Pclass  \\\n",
      "0            892         0       3   \n",
      "1            893         1       3   \n",
      "3            895         0       3   \n",
      "4            896         1       3   \n",
      "5            897         0       3   \n",
      "..           ...       ...     ...   \n",
      "413         1305         0       3   \n",
      "414         1306         1       1   \n",
      "415         1307         0       3   \n",
      "416         1308         0       3   \n",
      "417         1309         0       3   \n",
      "\n",
      "                                             Name     Sex   Age  SibSp  Parch  \\\n",
      "0                                Kelly, Mr. James    male  34.5      0      0   \n",
      "1                Wilkes, Mrs. James (Ellen Needs)  female  47.0      1      0   \n",
      "3                                Wirz, Mr. Albert    male  27.0      0      0   \n",
      "4    Hirvonen, Mrs. Alexander (Helga E Lindqvist)  female  22.0      1      1   \n",
      "5                      Svensson, Mr. Johan Cervin    male  14.0      0      0   \n",
      "..                                            ...     ...   ...    ...    ...   \n",
      "413                            Spector, Mr. Woolf    male   NaN      0      0   \n",
      "414                  Oliva y Ocana, Dona. Fermina  female  39.0      0      0   \n",
      "415                  Saether, Mr. Simon Sivertsen    male  38.5      0      0   \n",
      "416                           Ware, Mr. Frederick    male   NaN      0      0   \n",
      "417                      Peter, Master. Michael J    male   NaN      1      1   \n",
      "\n",
      "                 Ticket      Fare Cabin Embarked  Fare_Rank  \n",
      "0                330911    7.8292   NaN        Q      331.0  \n",
      "1                363272    7.0000   NaN        S      409.5  \n",
      "3                315154    8.6625   NaN        S      275.5  \n",
      "4               3101298   12.2875   NaN        S      246.0  \n",
      "5                  7538    9.2250   NaN        S      269.0  \n",
      "..                  ...       ...   ...      ...        ...  \n",
      "413           A.5. 3236    8.0500   NaN        S      290.0  \n",
      "414            PC 17758  108.9000  C105        C       30.0  \n",
      "415  SOTON/O.Q. 3101262    7.2500   NaN        S      386.0  \n",
      "416              359309    8.0500   NaN        S      290.0  \n",
      "417                2668   22.3583   NaN        C      163.0  \n",
      "\n",
      "[325 rows x 13 columns]\n"
     ]
    }
   ],
   "source": [
    "pclass_1_or_3 = titanic[titanic['Pclass'].isin([1, 3])]\n",
    "print(pclass_1_or_3)"
   ]
  },
  {
   "cell_type": "markdown",
   "id": "a2cd39ec",
   "metadata": {},
   "source": [
    "### 16. Calculate the correlation between 'Fare' and 'Age' and display the result:"
   ]
  },
  {
   "cell_type": "code",
   "execution_count": 18,
   "id": "6496fa5d",
   "metadata": {},
   "outputs": [
    {
     "name": "stdout",
     "output_type": "stream",
     "text": [
      "Correlation between Fare and Age: 0.3379315845519922\n"
     ]
    }
   ],
   "source": [
    "fare_age_corr = titanic['Fare'].corr(titanic['Age'])\n",
    "print('Correlation between Fare and Age:', fare_age_corr)"
   ]
  },
  {
   "cell_type": "markdown",
   "id": "99f14788",
   "metadata": {},
   "source": [
    "### 17. Remove the 'Cabin' column from the dataset in such a way that it cannot be recovered:"
   ]
  },
  {
   "cell_type": "code",
   "execution_count": 19,
   "id": "6cb01879",
   "metadata": {},
   "outputs": [
    {
     "name": "stdout",
     "output_type": "stream",
     "text": [
      "   PassengerId  Survived  Pclass  \\\n",
      "0          892         0       3   \n",
      "1          893         1       3   \n",
      "2          894         0       2   \n",
      "3          895         0       3   \n",
      "4          896         1       3   \n",
      "\n",
      "                                           Name     Sex   Age  SibSp  Parch  \\\n",
      "0                              Kelly, Mr. James    male  34.5      0      0   \n",
      "1              Wilkes, Mrs. James (Ellen Needs)  female  47.0      1      0   \n",
      "2                     Myles, Mr. Thomas Francis    male  62.0      0      0   \n",
      "3                              Wirz, Mr. Albert    male  27.0      0      0   \n",
      "4  Hirvonen, Mrs. Alexander (Helga E Lindqvist)  female  22.0      1      1   \n",
      "\n",
      "    Ticket     Fare Embarked  Fare_Rank  \n",
      "0   330911   7.8292        Q      331.0  \n",
      "1   363272   7.0000        S      409.5  \n",
      "2   240276   9.6875        Q      263.0  \n",
      "3   315154   8.6625        S      275.5  \n",
      "4  3101298  12.2875        S      246.0  \n"
     ]
    }
   ],
   "source": [
    "titanic.drop(columns=['Cabin'], inplace=True)\n",
    "print(titanic.head())"
   ]
  },
  {
   "cell_type": "markdown",
   "id": "5ee3c5cc",
   "metadata": {},
   "source": [
    "### 18. Replace all missing values in the 'Embarked' column with the value that occurs most frequently in it:"
   ]
  },
  {
   "cell_type": "code",
   "execution_count": 20,
   "id": "317dc64f",
   "metadata": {},
   "outputs": [
    {
     "name": "stdout",
     "output_type": "stream",
     "text": [
      "0\n"
     ]
    }
   ],
   "source": [
    "most_frequent_embarked = titanic['Embarked'].mode()[0]\n",
    "titanic['Embarked'] = titanic['Embarked'].fillna(most_frequent_embarked)\n",
    "print(titanic['Embarked'].isnull().sum())"
   ]
  },
  {
   "cell_type": "markdown",
   "id": "2499fb87",
   "metadata": {},
   "source": [
    "### 19. Create a new column named 'Above_Avg_Age' that stores True if a passenger's age is greater than the dataset's average age, otherwise False:"
   ]
  },
  {
   "cell_type": "code",
   "execution_count": 21,
   "id": "b9de4246",
   "metadata": {},
   "outputs": [
    {
     "name": "stdout",
     "output_type": "stream",
     "text": [
      "    Age  Above_Avg_Age\n",
      "0  34.5           True\n",
      "1  47.0           True\n",
      "2  62.0           True\n",
      "3  27.0          False\n",
      "4  22.0          False\n"
     ]
    }
   ],
   "source": [
    "avg_age = titanic['Age'].mean()\n",
    "titanic['Above_Avg_Age'] = titanic['Age'] > avg_age\n",
    "print(titanic[['Age', 'Above_Avg_Age']].head())"
   ]
  },
  {
   "cell_type": "markdown",
   "id": "7b1b5e7e",
   "metadata": {},
   "source": [
    "### 20. Identify rows where any column contains NaN values and remove all such rows from the dataset:"
   ]
  },
  {
   "cell_type": "code",
   "execution_count": 22,
   "id": "f5a06c7e",
   "metadata": {},
   "outputs": [
    {
     "name": "stdout",
     "output_type": "stream",
     "text": [
      "0\n"
     ]
    }
   ],
   "source": [
    "titanic_cleaned = titanic.dropna()\n",
    "print(titanic_cleaned.isnull().sum().sum())"
   ]
  }
 ],
 "metadata": {
  "kernelspec": {
   "display_name": "Python 3",
   "language": "python",
   "name": "python3"
  },
  "language_info": {
   "codemirror_mode": {
    "name": "ipython",
    "version": 3
   },
   "file_extension": ".py",
   "mimetype": "text/x-python",
   "name": "python",
   "nbconvert_exporter": "python",
   "pygments_lexer": "ipython3",
   "version": "3.12.6"
  }
 },
 "nbformat": 4,
 "nbformat_minor": 5
}
