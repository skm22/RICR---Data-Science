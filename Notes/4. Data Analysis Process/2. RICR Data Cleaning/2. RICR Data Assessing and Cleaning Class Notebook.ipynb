{
 "cells": [
  {
   "cell_type": "markdown",
   "metadata": {},
   "source": [
    "## Types of Unclean Data\n",
    "\n",
    "`Dirty Data (Data with Quality issues)`: Dirty data, also known as low quality data.\n",
    "\n",
    "- Duplicated data\n",
    "- Missing Data\n",
    "- Corrupt Data\n",
    "- Inaccurate Data\n",
    "\n",
    "\n",
    "`Messy Data (Data with tidiness issues)`: Messy data, also known as untidy data.\n",
    "\n",
    "- Each variable forms a column\n",
    "- Each observation forms a row\n",
    "- Each observational unit forms a table\n"
   ]
  },
  {
   "cell_type": "markdown",
   "metadata": {},
   "source": [
    "## Types of problems in data:\n",
    "\n",
    "1. Completeness -> is data missing?\n",
    "2. Validity -> is data invalid?\n",
    "3. Accuracy -> data is valid but not accurate.\n",
    "4. Consistency -> Written Mistakes or short forms used.\n",
    "\n",
    "Also, we have to deal with these problems into this above given same order.\n",
    "\n",
    "Note: These types comes under dirty data / Quality data. In between these problems you have to solve tidiness data mistakes also."
   ]
  },
  {
   "cell_type": "markdown",
   "metadata": {},
   "source": [
    "## Cleaning process iteratively:\n",
    "\n",
    "1. Define the problem with specified solution.\n",
    "2. Solve the problem using code.\n",
    "3. Evaluating the solution by testing."
   ]
  },
  {
   "cell_type": "code",
   "execution_count": 15,
   "metadata": {},
   "outputs": [
    {
     "ename": "ModuleNotFoundError",
     "evalue": "No module named 'openpyxl'",
     "output_type": "error",
     "traceback": [
      "\u001b[1;31m---------------------------------------------------------------------------\u001b[0m",
      "\u001b[1;31mModuleNotFoundError\u001b[0m                       Traceback (most recent call last)",
      "Cell \u001b[1;32mIn[15], line 2\u001b[0m\n\u001b[0;32m      1\u001b[0m \u001b[38;5;28;01mimport\u001b[39;00m \u001b[38;5;21;01mpandas\u001b[39;00m \u001b[38;5;28;01mas\u001b[39;00m \u001b[38;5;21;01mpd\u001b[39;00m\n\u001b[1;32m----> 2\u001b[0m \u001b[38;5;28;01mimport\u001b[39;00m \u001b[38;5;21;01mopenpyxl\u001b[39;00m\n",
      "\u001b[1;31mModuleNotFoundError\u001b[0m: No module named 'openpyxl'"
     ]
    }
   ],
   "source": [
    "import pandas as pd"
   ]
  },
  {
   "cell_type": "code",
   "execution_count": 17,
   "metadata": {},
   "outputs": [],
   "source": [
    "df = pd.read_csv('Datasets/uncleaned bike sales data.csv')"
   ]
  },
  {
   "cell_type": "code",
   "execution_count": 21,
   "metadata": {},
   "outputs": [
    {
     "data": {
      "text/html": [
       "<div>\n",
       "<style scoped>\n",
       "    .dataframe tbody tr th:only-of-type {\n",
       "        vertical-align: middle;\n",
       "    }\n",
       "\n",
       "    .dataframe tbody tr th {\n",
       "        vertical-align: top;\n",
       "    }\n",
       "\n",
       "    .dataframe thead th {\n",
       "        text-align: right;\n",
       "    }\n",
       "</style>\n",
       "<table border=\"1\" class=\"dataframe\">\n",
       "  <thead>\n",
       "    <tr style=\"text-align: right;\">\n",
       "      <th></th>\n",
       "      <th>Sales_Order #</th>\n",
       "      <th>Date</th>\n",
       "      <th>Day</th>\n",
       "      <th>Month</th>\n",
       "      <th>Year</th>\n",
       "      <th>Customer_Age</th>\n",
       "      <th>Age_Group</th>\n",
       "      <th>Customer_Gender</th>\n",
       "      <th>Country</th>\n",
       "      <th>State</th>\n",
       "      <th>Product_Category</th>\n",
       "      <th>Sub_Category</th>\n",
       "      <th>Product_Description</th>\n",
       "      <th>Order_Quantity</th>\n",
       "      <th>Unit_Cost</th>\n",
       "      <th>Unit_Price</th>\n",
       "      <th>Profit</th>\n",
       "      <th>Cost</th>\n",
       "      <th>Revenue</th>\n",
       "    </tr>\n",
       "  </thead>\n",
       "  <tbody>\n",
       "    <tr>\n",
       "      <th>35</th>\n",
       "      <td>261729</td>\n",
       "      <td>12/11/2021</td>\n",
       "      <td>11.0</td>\n",
       "      <td>December</td>\n",
       "      <td>2021</td>\n",
       "      <td>38</td>\n",
       "      <td>Adults (35-64)</td>\n",
       "      <td>F</td>\n",
       "      <td>United States</td>\n",
       "      <td>California</td>\n",
       "      <td>Bikes</td>\n",
       "      <td>Mountain Bikes</td>\n",
       "      <td>Mountain-200 Silver, 38</td>\n",
       "      <td>1.0</td>\n",
       "      <td>$1,266.00</td>\n",
       "      <td>$2,320.00</td>\n",
       "      <td>$1,054.00</td>\n",
       "      <td>$1,266.00</td>\n",
       "      <td>$2,320.00</td>\n",
       "    </tr>\n",
       "    <tr>\n",
       "      <th>82</th>\n",
       "      <td>261776</td>\n",
       "      <td>12/22/2021</td>\n",
       "      <td>22.0</td>\n",
       "      <td>December</td>\n",
       "      <td>2021</td>\n",
       "      <td>25</td>\n",
       "      <td>Young Adults (25-34)</td>\n",
       "      <td>M</td>\n",
       "      <td>France</td>\n",
       "      <td>Seine (Paris)</td>\n",
       "      <td>Bikes</td>\n",
       "      <td>Mountain Bikes</td>\n",
       "      <td>Mountain-200 Black, 38</td>\n",
       "      <td>1.0</td>\n",
       "      <td>$1,252.00</td>\n",
       "      <td>$2,295.00</td>\n",
       "      <td>$1,043.00</td>\n",
       "      <td>$1,252.00</td>\n",
       "      <td>$2,295.00</td>\n",
       "    </tr>\n",
       "    <tr>\n",
       "      <th>57</th>\n",
       "      <td>261751</td>\n",
       "      <td>12/18/2021</td>\n",
       "      <td>18.0</td>\n",
       "      <td>December</td>\n",
       "      <td>2021</td>\n",
       "      <td>24</td>\n",
       "      <td>Youth (&lt;25)</td>\n",
       "      <td>F</td>\n",
       "      <td>France</td>\n",
       "      <td>Seine Saint Denis</td>\n",
       "      <td>Bikes</td>\n",
       "      <td>Mountain Bikes</td>\n",
       "      <td>Mountain-200 Silver, 38</td>\n",
       "      <td>3.0</td>\n",
       "      <td>$1,266.00</td>\n",
       "      <td>$2,320.00</td>\n",
       "      <td>$3,162.00</td>\n",
       "      <td>$3,798.00</td>\n",
       "      <td>$6,960.00</td>\n",
       "    </tr>\n",
       "  </tbody>\n",
       "</table>\n",
       "</div>"
      ],
      "text/plain": [
       "    Sales_Order #        Date   Day     Month  Year  Customer_Age  \\\n",
       "35         261729  12/11/2021  11.0  December  2021            38   \n",
       "82         261776  12/22/2021  22.0  December  2021            25   \n",
       "57         261751  12/18/2021  18.0  December  2021            24   \n",
       "\n",
       "               Age_Group Customer_Gender        Country              State  \\\n",
       "35        Adults (35-64)               F  United States         California   \n",
       "82  Young Adults (25-34)               M         France      Seine (Paris)   \n",
       "57           Youth (<25)               F         France  Seine Saint Denis   \n",
       "\n",
       "   Product_Category    Sub_Category      Product_Description  Order_Quantity  \\\n",
       "35            Bikes  Mountain Bikes  Mountain-200 Silver, 38             1.0   \n",
       "82            Bikes  Mountain Bikes   Mountain-200 Black, 38             1.0   \n",
       "57            Bikes  Mountain Bikes  Mountain-200 Silver, 38             3.0   \n",
       "\n",
       "    Unit_Cost   Unit_Price      Profit        Cost      Revenue  \n",
       "35  $1,266.00    $2,320.00   $1,054.00   $1,266.00   $2,320.00   \n",
       "82  $1,252.00    $2,295.00   $1,043.00   $1,252.00   $2,295.00   \n",
       "57  $1,266.00    $2,320.00   $3,162.00   $3,798.00   $6,960.00   "
      ]
     },
     "execution_count": 21,
     "metadata": {},
     "output_type": "execute_result"
    }
   ],
   "source": [
    "df.sample(3)"
   ]
  },
  {
   "cell_type": "code",
   "execution_count": 19,
   "metadata": {},
   "outputs": [
    {
     "name": "stdout",
     "output_type": "stream",
     "text": [
      "<class 'pandas.core.frame.DataFrame'>\n",
      "RangeIndex: 89 entries, 0 to 88\n",
      "Data columns (total 19 columns):\n",
      " #   Column               Non-Null Count  Dtype  \n",
      "---  ------               --------------  -----  \n",
      " 0   Sales_Order #        89 non-null     int64  \n",
      " 1   Date                 89 non-null     object \n",
      " 2   Day                  88 non-null     float64\n",
      " 3   Month                89 non-null     object \n",
      " 4   Year                 89 non-null     int64  \n",
      " 5   Customer_Age         89 non-null     int64  \n",
      " 6   Age_Group            88 non-null     object \n",
      " 7   Customer_Gender      89 non-null     object \n",
      " 8   Country              89 non-null     object \n",
      " 9   State                89 non-null     object \n",
      " 10  Product_Category     89 non-null     object \n",
      " 11  Sub_Category         89 non-null     object \n",
      " 12  Product_Description  88 non-null     object \n",
      " 13  Order_Quantity       88 non-null     float64\n",
      " 14   Unit_Cost           89 non-null     object \n",
      " 15   Unit_Price          89 non-null     object \n",
      " 16   Profit              89 non-null     object \n",
      " 17   Cost                89 non-null     object \n",
      " 18  Revenue              89 non-null     object \n",
      "dtypes: float64(2), int64(3), object(14)\n",
      "memory usage: 13.3+ KB\n"
     ]
    }
   ],
   "source": [
    "df.info()"
   ]
  },
  {
   "cell_type": "code",
   "execution_count": 20,
   "metadata": {},
   "outputs": [
    {
     "data": {
      "text/plain": [
       "Sales_Order #          0\n",
       "Date                   0\n",
       "Day                    1\n",
       "Month                  0\n",
       "Year                   0\n",
       "Customer_Age           0\n",
       "Age_Group              1\n",
       "Customer_Gender        0\n",
       "Country                0\n",
       "State                  0\n",
       "Product_Category       0\n",
       "Sub_Category           0\n",
       "Product_Description    1\n",
       "Order_Quantity         1\n",
       " Unit_Cost             0\n",
       " Unit_Price            0\n",
       " Profit                0\n",
       " Cost                  0\n",
       "Revenue                0\n",
       "dtype: int64"
      ]
     },
     "execution_count": 20,
     "metadata": {},
     "output_type": "execute_result"
    }
   ],
   "source": [
    "df.isnull().sum()"
   ]
  },
  {
   "cell_type": "code",
   "execution_count": null,
   "metadata": {},
   "outputs": [],
   "source": []
  }
 ],
 "metadata": {
  "kernelspec": {
   "display_name": ".venv",
   "language": "python",
   "name": "python3"
  },
  "language_info": {
   "codemirror_mode": {
    "name": "ipython",
    "version": 3
   },
   "file_extension": ".py",
   "mimetype": "text/x-python",
   "name": "python",
   "nbconvert_exporter": "python",
   "pygments_lexer": "ipython3",
   "version": "3.13.0"
  }
 },
 "nbformat": 4,
 "nbformat_minor": 2
}
