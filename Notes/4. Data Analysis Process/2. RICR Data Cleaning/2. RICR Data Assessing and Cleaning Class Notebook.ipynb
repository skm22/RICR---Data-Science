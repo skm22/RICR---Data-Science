{
 "cells": [
  {
   "cell_type": "markdown",
   "metadata": {},
   "source": [
    "## Types of Unclean Data\n",
    "\n",
    "`Dirty Data (Data with Quality issues)`: Dirty data, also known as low quality data.\n",
    "\n",
    "- Duplicated data\n",
    "- Missing Data\n",
    "- Corrupt Data\n",
    "- Inaccurate Data\n",
    "\n",
    "\n",
    "`Messy Data (Data with tidiness issues)`: Messy data, also known as untidy data.\n",
    "\n",
    "- Each variable forms a column\n",
    "- Each observation forms a row\n",
    "- Each observational unit forms a table\n"
   ]
  },
  {
   "cell_type": "markdown",
   "metadata": {},
   "source": [
    "## Types of problems in data:\n",
    "\n",
    "1. Completeness -> is data missing?\n",
    "2. Validity -> is data invalid?\n",
    "3. Accuracy -> data is valid but not accurate.\n",
    "4. Consistency -> Written Mistakes or short forms used.\n",
    "\n",
    "Also, we have to deal with these problems into this above given same order.\n",
    "\n",
    "Note: These types comes under dirty data / Quality data. In between these problems you have to solve tidiness data mistakes also."
   ]
  },
  {
   "cell_type": "markdown",
   "metadata": {},
   "source": [
    "## Cleaning process iteratively:\n",
    "\n",
    "1. Define the problem with specified solution.\n",
    "2. Solve the problem using code.\n",
    "3. Evaluating the solution by testing."
   ]
  },
  {
   "cell_type": "code",
   "execution_count": 1,
   "metadata": {},
   "outputs": [],
   "source": [
    "import pandas as pd"
   ]
  },
  {
   "cell_type": "code",
   "execution_count": 31,
   "metadata": {},
   "outputs": [],
   "source": [
    "df = pd.read_csv('Datasets/Uncleaned Restaurant Menu Data.csv')"
   ]
  },
  {
   "cell_type": "code",
   "execution_count": 32,
   "metadata": {},
   "outputs": [
    {
     "data": {
      "text/html": [
       "<div>\n",
       "<style scoped>\n",
       "    .dataframe tbody tr th:only-of-type {\n",
       "        vertical-align: middle;\n",
       "    }\n",
       "\n",
       "    .dataframe tbody tr th {\n",
       "        vertical-align: top;\n",
       "    }\n",
       "\n",
       "    .dataframe thead th {\n",
       "        text-align: right;\n",
       "    }\n",
       "</style>\n",
       "<table border=\"1\" class=\"dataframe\">\n",
       "  <thead>\n",
       "    <tr style=\"text-align: right;\">\n",
       "      <th></th>\n",
       "      <th>id</th>\n",
       "      <th>name</th>\n",
       "      <th>sponsor</th>\n",
       "      <th>event</th>\n",
       "      <th>venue</th>\n",
       "      <th>place</th>\n",
       "      <th>physical_description</th>\n",
       "      <th>occasion</th>\n",
       "      <th>notes</th>\n",
       "      <th>call_number</th>\n",
       "      <th>keywords</th>\n",
       "      <th>language</th>\n",
       "      <th>date</th>\n",
       "      <th>location</th>\n",
       "      <th>location_type</th>\n",
       "      <th>currency</th>\n",
       "      <th>currency_symbol</th>\n",
       "      <th>status</th>\n",
       "      <th>page_count</th>\n",
       "      <th>dish_count</th>\n",
       "    </tr>\n",
       "  </thead>\n",
       "  <tbody>\n",
       "    <tr>\n",
       "      <th>0</th>\n",
       "      <td>12463</td>\n",
       "      <td>NaN</td>\n",
       "      <td>HOTEL EASTMAN</td>\n",
       "      <td>BREAKFAST</td>\n",
       "      <td>COMMERCIAL</td>\n",
       "      <td>HOT SPRINGS, AR</td>\n",
       "      <td>CARD; 4.75X7.5;</td>\n",
       "      <td>EASTER;</td>\n",
       "      <td>NaN</td>\n",
       "      <td>1900-2822</td>\n",
       "      <td>NaN</td>\n",
       "      <td>NaN</td>\n",
       "      <td>4/15/1900</td>\n",
       "      <td>Hotel Eastman</td>\n",
       "      <td>NaN</td>\n",
       "      <td>NaN</td>\n",
       "      <td>NaN</td>\n",
       "      <td>complete</td>\n",
       "      <td>2</td>\n",
       "      <td>67</td>\n",
       "    </tr>\n",
       "    <tr>\n",
       "      <th>1</th>\n",
       "      <td>12464</td>\n",
       "      <td>NaN</td>\n",
       "      <td>REPUBLICAN HOUSE</td>\n",
       "      <td>[DINNER]</td>\n",
       "      <td>COMMERCIAL</td>\n",
       "      <td>MILWAUKEE, [WI];</td>\n",
       "      <td>CARD; ILLUS; COL; 7.0X9.0;</td>\n",
       "      <td>EASTER;</td>\n",
       "      <td>WEDGEWOOD BLUE CARD; WHITE EMBOSSED GREEK KEY ...</td>\n",
       "      <td>1900-2825</td>\n",
       "      <td>NaN</td>\n",
       "      <td>NaN</td>\n",
       "      <td>4/15/1900</td>\n",
       "      <td>Republican House</td>\n",
       "      <td>NaN</td>\n",
       "      <td>NaN</td>\n",
       "      <td>NaN</td>\n",
       "      <td>complete</td>\n",
       "      <td>2</td>\n",
       "      <td>34</td>\n",
       "    </tr>\n",
       "    <tr>\n",
       "      <th>2</th>\n",
       "      <td>12465</td>\n",
       "      <td>NaN</td>\n",
       "      <td>NORDDEUTSCHER LLOYD BREMEN</td>\n",
       "      <td>FRUHSTUCK/BREAKFAST;</td>\n",
       "      <td>COMMERCIAL</td>\n",
       "      <td>DAMPFER KAISER WILHELM DER GROSSE;</td>\n",
       "      <td>CARD; ILLU; COL; 5.5X8.0;</td>\n",
       "      <td>NaN</td>\n",
       "      <td>MENU IN GERMAN AND ENGLISH; ILLUS, STEAMSHIP A...</td>\n",
       "      <td>1900-2827</td>\n",
       "      <td>NaN</td>\n",
       "      <td>NaN</td>\n",
       "      <td>4/16/1900</td>\n",
       "      <td>Norddeutscher Lloyd Bremen</td>\n",
       "      <td>NaN</td>\n",
       "      <td>NaN</td>\n",
       "      <td>NaN</td>\n",
       "      <td>complete</td>\n",
       "      <td>2</td>\n",
       "      <td>84</td>\n",
       "    </tr>\n",
       "  </tbody>\n",
       "</table>\n",
       "</div>"
      ],
      "text/plain": [
       "      id name                     sponsor                 event       venue  \\\n",
       "0  12463  NaN               HOTEL EASTMAN             BREAKFAST  COMMERCIAL   \n",
       "1  12464  NaN            REPUBLICAN HOUSE              [DINNER]  COMMERCIAL   \n",
       "2  12465  NaN  NORDDEUTSCHER LLOYD BREMEN  FRUHSTUCK/BREAKFAST;  COMMERCIAL   \n",
       "\n",
       "                                place        physical_description occasion  \\\n",
       "0                     HOT SPRINGS, AR             CARD; 4.75X7.5;  EASTER;   \n",
       "1                    MILWAUKEE, [WI];  CARD; ILLUS; COL; 7.0X9.0;  EASTER;   \n",
       "2  DAMPFER KAISER WILHELM DER GROSSE;   CARD; ILLU; COL; 5.5X8.0;      NaN   \n",
       "\n",
       "                                               notes call_number  keywords  \\\n",
       "0                                                NaN   1900-2822       NaN   \n",
       "1  WEDGEWOOD BLUE CARD; WHITE EMBOSSED GREEK KEY ...   1900-2825       NaN   \n",
       "2  MENU IN GERMAN AND ENGLISH; ILLUS, STEAMSHIP A...   1900-2827       NaN   \n",
       "\n",
       "   language       date                    location  location_type currency  \\\n",
       "0       NaN  4/15/1900               Hotel Eastman            NaN      NaN   \n",
       "1       NaN  4/15/1900            Republican House            NaN      NaN   \n",
       "2       NaN  4/16/1900  Norddeutscher Lloyd Bremen            NaN      NaN   \n",
       "\n",
       "  currency_symbol    status  page_count  dish_count  \n",
       "0             NaN  complete           2          67  \n",
       "1             NaN  complete           2          34  \n",
       "2             NaN  complete           2          84  "
      ]
     },
     "execution_count": 32,
     "metadata": {},
     "output_type": "execute_result"
    }
   ],
   "source": [
    "df.head(3)"
   ]
  },
  {
   "cell_type": "code",
   "execution_count": 34,
   "metadata": {},
   "outputs": [
    {
     "name": "stdout",
     "output_type": "stream",
     "text": [
      "<class 'pandas.core.frame.DataFrame'>\n",
      "RangeIndex: 17545 entries, 0 to 17544\n",
      "Data columns (total 20 columns):\n",
      " #   Column                Non-Null Count  Dtype  \n",
      "---  ------                --------------  -----  \n",
      " 0   id                    17545 non-null  int64  \n",
      " 1   name                  3197 non-null   object \n",
      " 2   sponsor               15984 non-null  object \n",
      " 3   event                 8154 non-null   object \n",
      " 4   venue                 8119 non-null   object \n",
      " 5   place                 8123 non-null   object \n",
      " 6   physical_description  14763 non-null  object \n",
      " 7   occasion              3791 non-null   object \n",
      " 8   notes                 10613 non-null  object \n",
      " 9   call_number           15983 non-null  object \n",
      " 10  keywords              0 non-null      float64\n",
      " 11  language              0 non-null      float64\n",
      " 12  date                  16959 non-null  object \n",
      " 13  location              17545 non-null  object \n",
      " 14  location_type         0 non-null      float64\n",
      " 15  currency              6456 non-null   object \n",
      " 16  currency_symbol       6456 non-null   object \n",
      " 17  status                17545 non-null  object \n",
      " 18  page_count            17545 non-null  int64  \n",
      " 19  dish_count            17545 non-null  int64  \n",
      "dtypes: float64(3), int64(3), object(14)\n",
      "memory usage: 2.7+ MB\n"
     ]
    }
   ],
   "source": [
    "df.info()"
   ]
  },
  {
   "cell_type": "code",
   "execution_count": 36,
   "metadata": {},
   "outputs": [
    {
     "data": {
      "text/plain": [
       "id                          0\n",
       "name                    14348\n",
       "sponsor                  1561\n",
       "event                    9391\n",
       "venue                    9426\n",
       "place                    9422\n",
       "physical_description     2782\n",
       "occasion                13754\n",
       "notes                    6932\n",
       "call_number              1562\n",
       "keywords                17545\n",
       "language                17545\n",
       "date                      586\n",
       "location                    0\n",
       "location_type           17545\n",
       "currency                11089\n",
       "currency_symbol         11089\n",
       "status                      0\n",
       "page_count                  0\n",
       "dish_count                  0\n",
       "dtype: int64"
      ]
     },
     "execution_count": 36,
     "metadata": {},
     "output_type": "execute_result"
    }
   ],
   "source": [
    "df.isnull().sum()"
   ]
  },
  {
   "cell_type": "code",
   "execution_count": null,
   "metadata": {},
   "outputs": [],
   "source": []
  }
 ],
 "metadata": {
  "kernelspec": {
   "display_name": ".venv",
   "language": "python",
   "name": "python3"
  },
  "language_info": {
   "codemirror_mode": {
    "name": "ipython",
    "version": 3
   },
   "file_extension": ".py",
   "mimetype": "text/x-python",
   "name": "python",
   "nbconvert_exporter": "python",
   "pygments_lexer": "ipython3",
   "version": "3.13.1"
  }
 },
 "nbformat": 4,
 "nbformat_minor": 2
}
