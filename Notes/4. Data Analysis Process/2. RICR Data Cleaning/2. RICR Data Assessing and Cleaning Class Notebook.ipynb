{
 "cells": [
  {
   "cell_type": "markdown",
   "metadata": {},
   "source": [
    "## Types of Unclean Data\n",
    "\n",
    "`Dirty Data (Data with Quality issues)`: Dirty data, also known as low quality data.\n",
    "\n",
    "- Duplicated data\n",
    "- Missing Data\n",
    "- Corrupt Data\n",
    "- Inaccurate Data\n",
    "\n",
    "\n",
    "`Messy Data (Data with tidiness issues)`: Messy data, also known as untidy data.\n",
    "\n",
    "- Each variable forms a column\n",
    "- Each observation forms a row\n",
    "- Each observational unit forms a table\n"
   ]
  },
  {
   "cell_type": "markdown",
   "metadata": {},
   "source": [
    "## Types of problems in data:\n",
    "\n",
    "1. Completeness -> is data missing?\n",
    "2. Validity -> is data invalid?\n",
    "3. Accuracy -> data is valid but not accurate.\n",
    "4. Consistency -> Written Mistakes or short forms used.\n",
    "\n",
    "Also, we have to deal with these problems into this above given same order.\n",
    "\n",
    "Note: These types comes under dirty data / Quality data. In between these problems you have to solve tidiness data mistakes also."
   ]
  },
  {
   "cell_type": "markdown",
   "metadata": {},
   "source": [
    "## Cleaning process iteratively:\n",
    "\n",
    "1. Define the problem with specified solution.\n",
    "2. Solve the problem using code.\n",
    "3. Evaluating the solution by testing."
   ]
  },
  {
   "cell_type": "code",
   "execution_count": null,
   "metadata": {},
   "outputs": [],
   "source": []
  }
 ],
 "metadata": {
  "kernelspec": {
   "display_name": "Python 3",
   "language": "python",
   "name": "python3"
  },
  "language_info": {
   "name": "python",
   "version": "3.13.1"
  }
 },
 "nbformat": 4,
 "nbformat_minor": 2
}
