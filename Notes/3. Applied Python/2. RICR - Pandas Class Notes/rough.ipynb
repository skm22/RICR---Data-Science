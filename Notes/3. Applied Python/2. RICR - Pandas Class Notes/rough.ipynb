{
 "cells": [
  {
   "cell_type": "markdown",
   "metadata": {},
   "source": [
    "Write a Python program to rearrange the digits of a given number to form the largest possible number.\n",
    "\n",
    "Example:\n",
    "\n",
    "Input: 34219\n",
    "\n",
    "Output: 94321"
   ]
  },
  {
   "cell_type": "code",
   "execution_count": 8,
   "metadata": {},
   "outputs": [
    {
     "name": "stdout",
     "output_type": "stream",
     "text": [
      "94321\n"
     ]
    }
   ],
   "source": [
    "n = int(input())\n",
    "l = []\n",
    "while n != 0:\n",
    "    r = n % 10\n",
    "    l.append(r)\n",
    "    n //= 10\n",
    "l.sort(reverse=True)\n",
    "a = 0\n",
    "for i in l:\n",
    "    a = (a * 10) + i \n",
    "print(a)"
   ]
  },
  {
   "cell_type": "code",
   "execution_count": 4,
   "metadata": {},
   "outputs": [
    {
     "name": "stdout",
     "output_type": "stream",
     "text": [
      "      *       \n",
      "    *   *     \n",
      "  *       *   \n",
      "* * * * * * * \n",
      "*           * \n",
      "*           * \n",
      "* * * * * * * \n"
     ]
    }
   ],
   "source": [
    "n = 7\n",
    "for i in range(n):\n",
    "    for j in range(n):\n",
    "        if i+j == n//2 or j-i == n//2 or i == n//2 or (i > n//2 and (j == 0 or j == n-1)) or i == n-1:\n",
    "            print(\"*\",end=' ')\n",
    "        else:\n",
    "            print(\" \",end=' ')\n",
    "    print()"
   ]
  },
  {
   "cell_type": "code",
   "execution_count": 8,
   "metadata": {},
   "outputs": [
    {
     "name": "stdout",
     "output_type": "stream",
     "text": [
      "30\n",
      "70\n"
     ]
    }
   ],
   "source": [
    "l = [10, 20, 40, 50, 60, 80]\n",
    "d = l[1] - l[0]\n",
    "for i in range(len(l)-1):\n",
    "    if l[i+1] != l[i] + d:\n",
    "        print(l[i] + d)"
   ]
  },
  {
   "cell_type": "code",
   "execution_count": null,
   "metadata": {},
   "outputs": [],
   "source": []
  }
 ],
 "metadata": {
  "kernelspec": {
   "display_name": "Python 3",
   "language": "python",
   "name": "python3"
  },
  "language_info": {
   "codemirror_mode": {
    "name": "ipython",
    "version": 3
   },
   "file_extension": ".py",
   "mimetype": "text/x-python",
   "name": "python",
   "nbconvert_exporter": "python",
   "pygments_lexer": "ipython3",
   "version": "3.12.3"
  }
 },
 "nbformat": 4,
 "nbformat_minor": 2
}
