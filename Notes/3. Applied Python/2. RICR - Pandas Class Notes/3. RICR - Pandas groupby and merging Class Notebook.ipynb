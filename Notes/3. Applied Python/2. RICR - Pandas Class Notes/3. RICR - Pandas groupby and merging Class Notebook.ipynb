{
 "cells": [
  {
   "cell_type": "markdown",
   "metadata": {},
   "source": [
    "# Groupby Object in pandas"
   ]
  },
  {
   "cell_type": "markdown",
   "metadata": {},
   "source": [
    "### Key concept of groupby: \n",
    "-> Split-Apply-Combine: The core concept behind groupby.\n",
    " - Split: Splitting the data into groups based on some criteria.\n",
    " - Apply: Applying a function to each group independently.\n",
    " - Combine: Combining the results into a data structure."
   ]
  },
  {
   "cell_type": "code",
   "execution_count": 1,
   "metadata": {
    "id": "V-NHpZTWOHT2"
   },
   "outputs": [],
   "source": [
    "import pandas as pd\n",
    "import numpy as np"
   ]
  },
  {
   "cell_type": "code",
   "execution_count": null,
   "metadata": {
    "id": "cchNFTvyOR4r"
   },
   "outputs": [],
   "source": [
    "data1 = pd.read_csv('StudentsPerformance.csv')"
   ]
  },
  {
   "cell_type": "code",
   "execution_count": null,
   "metadata": {
    "colab": {
     "base_uri": "https://localhost:8080/",
     "height": 258
    },
    "id": "ymlVO7nFXrlE",
    "outputId": "92c1e394-017a-4ec6-9657-4114492ec623"
   },
   "outputs": [],
   "source": [
    "data1.head()"
   ]
  },
  {
   "cell_type": "code",
   "execution_count": null,
   "metadata": {},
   "outputs": [],
   "source": [
    "data1.value_counts('race/ethnicity')"
   ]
  },
  {
   "cell_type": "code",
   "execution_count": null,
   "metadata": {},
   "outputs": [],
   "source": [
    "data1.info()"
   ]
  },
  {
   "cell_type": "code",
   "execution_count": 7,
   "metadata": {},
   "outputs": [],
   "source": [
    "data1.rename(columns={'race/ethnicity':'groups'},inplace=True)"
   ]
  },
  {
   "cell_type": "code",
   "execution_count": 8,
   "metadata": {
    "id": "g4KWKAX2Xtj6"
   },
   "outputs": [],
   "source": [
    "groups = data1.groupby('groups') # This creates a groupby object named groups"
   ]
  },
  {
   "cell_type": "code",
   "execution_count": null,
   "metadata": {},
   "outputs": [],
   "source": [
    "print(groups) # Address of the group.. "
   ]
  },
  {
   "cell_type": "code",
   "execution_count": null,
   "metadata": {},
   "outputs": [],
   "source": [
    "type(groups)"
   ]
  },
  {
   "cell_type": "code",
   "execution_count": null,
   "metadata": {},
   "outputs": [],
   "source": [
    "for group,data in groups: # This way can be used to print that group data.. because it stores similiar as dictionary.\n",
    "    print(group)\n",
    "    print(data)\n",
    "   "
   ]
  },
  {
   "cell_type": "markdown",
   "metadata": {},
   "source": [
    "## Aggregation\n",
    "-> Common aggregation functions:\n",
    " - sum()\n",
    " - mean()\n",
    " - count()\n",
    " - min()\n",
    " - max()\n",
    " - std() (standard deviation)\n",
    " - var() (variance)\n",
    "\n",
    "-> Custom aggregation using agg() or aggregate()\n",
    "\n",
    "-> Named aggregation (defining multiple aggregation operations at once)"
   ]
  },
  {
   "cell_type": "code",
   "execution_count": null,
   "metadata": {
    "colab": {
     "base_uri": "https://localhost:8080/",
     "height": 519
    },
    "id": "BvBQiosE2Eka",
    "outputId": "74e39555-b3a1-42a7-90cb-b2a81d82857b"
   },
   "outputs": [],
   "source": [
    "# sum()\n",
    "groups.sum()"
   ]
  },
  {
   "cell_type": "code",
   "execution_count": null,
   "metadata": {},
   "outputs": [],
   "source": [
    "# sum()\n",
    "groups.sum(numeric_only=True)"
   ]
  },
  {
   "cell_type": "code",
   "execution_count": null,
   "metadata": {},
   "outputs": [],
   "source": [
    "# mean()\n",
    "groups.mean(numeric_only=True)"
   ]
  },
  {
   "cell_type": "code",
   "execution_count": null,
   "metadata": {},
   "outputs": [],
   "source": [
    "# max()\n",
    "groups.max(numeric_only=True)"
   ]
  },
  {
   "cell_type": "code",
   "execution_count": null,
   "metadata": {},
   "outputs": [],
   "source": [
    "groups.count()"
   ]
  },
  {
   "cell_type": "markdown",
   "metadata": {},
   "source": [
    "### Practice:"
   ]
  },
  {
   "cell_type": "code",
   "execution_count": null,
   "metadata": {
    "colab": {
     "base_uri": "https://localhost:8080/",
     "height": 209
    },
    "id": "AVvVAtWC2YsU",
    "outputId": "fd419348-dc92-47d1-abdc-1f9c20f99ecc"
   },
   "outputs": [],
   "source": [
    "# Find that group which scored highest total in math.\n",
    "groups['math score'].sum().sort_values(ascending=False).head(1)\n"
   ]
  },
  {
   "cell_type": "code",
   "execution_count": null,
   "metadata": {
    "colab": {
     "base_uri": "https://localhost:8080/"
    },
    "id": "wHd-g4R22fQC",
    "outputId": "52725327-0b21-4678-d7f2-700f19d280f7"
   },
   "outputs": [],
   "source": [
    "# Find that group which scored highest avg in writing.\n",
    "\n",
    "\n",
    "groups['writing score'].mean().sort_values(ascending=False).head(1)"
   ]
  },
  {
   "cell_type": "code",
   "execution_count": null,
   "metadata": {
    "colab": {
     "base_uri": "https://localhost:8080/"
    },
    "id": "1BmI8cdG3DOA",
    "outputId": "06a061d9-b4e7-497a-c7f4-1061e57cdaab"
   },
   "outputs": [],
   "source": [
    "# find that parental level of education which has highest total in reading score.\n",
    "data1.groupby('parental level of education')['reading score'].sum().sort_values(ascending=False).head(1)"
   ]
  },
  {
   "cell_type": "code",
   "execution_count": null,
   "metadata": {
    "colab": {
     "base_uri": "https://localhost:8080/",
     "height": 554
    },
    "id": "MAgvS8b33TTo",
    "outputId": "27870ad7-0de4-45f7-fea5-087a092cc922"
   },
   "outputs": [],
   "source": [
    "# find the highest math score of each group\n",
    "groups['math score'].max()"
   ]
  },
  {
   "cell_type": "markdown",
   "metadata": {},
   "source": [
    "### groupby() attributes and Functions in Pandas:\n",
    "\n",
    " - groups\n",
    " - ngroups\n",
    " - len()\n",
    " - size()\n",
    " - indices\n",
    " - nunique()\n",
    " - dtypes\n",
    " - count()\n",
    " - first()\n",
    " - last()\n",
    " - head()\n",
    " - tail()\n",
    " - get_group()\n",
    " - describe()\n",
    " - apply()"
   ]
  },
  {
   "cell_type": "code",
   "execution_count": null,
   "metadata": {},
   "outputs": [],
   "source": [
    "# groups\n",
    "data1.groupby('parental level of education').groups"
   ]
  },
  {
   "cell_type": "code",
   "execution_count": null,
   "metadata": {},
   "outputs": [],
   "source": [
    "data1['parental level of education'].iloc[12]"
   ]
  },
  {
   "cell_type": "code",
   "execution_count": null,
   "metadata": {},
   "outputs": [],
   "source": [
    "# ngroups\n",
    "data1.groupby('gender').ngroups"
   ]
  },
  {
   "cell_type": "code",
   "execution_count": null,
   "metadata": {
    "colab": {
     "base_uri": "https://localhost:8080/"
    },
    "id": "MVQqy234O-Xd",
    "outputId": "c76edc33-2b72-4225-d6d3-61757ad5c501"
   },
   "outputs": [],
   "source": [
    "# len()\n",
    "len(data1.groupby('parental level of education'))"
   ]
  },
  {
   "cell_type": "code",
   "execution_count": null,
   "metadata": {},
   "outputs": [],
   "source": [
    "# size()\n",
    "data1.groupby('groups').size()"
   ]
  },
  {
   "cell_type": "code",
   "execution_count": null,
   "metadata": {},
   "outputs": [],
   "source": [
    "# indices\n",
    "groups.indices\n"
   ]
  },
  {
   "cell_type": "code",
   "execution_count": null,
   "metadata": {
    "colab": {
     "base_uri": "https://localhost:8080/"
    },
    "id": "9-iQ83awO-kK",
    "outputId": "10a51ccc-d99f-42c0-f6bd-8539da9b6eb9"
   },
   "outputs": [],
   "source": [
    "# nunique()\n",
    "groups.nunique()"
   ]
  },
  {
   "cell_type": "code",
   "execution_count": null,
   "metadata": {},
   "outputs": [],
   "source": [
    "# dtypes\n",
    "groups.dtypes"
   ]
  },
  {
   "cell_type": "code",
   "execution_count": null,
   "metadata": {},
   "outputs": [],
   "source": [
    "data1.head()"
   ]
  },
  {
   "cell_type": "code",
   "execution_count": null,
   "metadata": {},
   "outputs": [],
   "source": [
    "gen=data1.groupby('gender')\n",
    "for x,y in gen:\n",
    "    print(x)\n",
    "    print(y.head())"
   ]
  },
  {
   "cell_type": "code",
   "execution_count": null,
   "metadata": {},
   "outputs": [],
   "source": [
    "# count\n",
    "groups.count()"
   ]
  },
  {
   "cell_type": "code",
   "execution_count": null,
   "metadata": {},
   "outputs": [],
   "source": []
  },
  {
   "cell_type": "code",
   "execution_count": null,
   "metadata": {},
   "outputs": [],
   "source": [
    "# first() -> Returns the first row of each group.\n",
    "groups.first()"
   ]
  },
  {
   "cell_type": "code",
   "execution_count": null,
   "metadata": {},
   "outputs": [],
   "source": [
    "# last() -> Returns the last row of each group.\n",
    "groups.last()"
   ]
  },
  {
   "cell_type": "code",
   "execution_count": null,
   "metadata": {},
   "outputs": [],
   "source": [
    "data1.head(10)"
   ]
  },
  {
   "cell_type": "code",
   "execution_count": null,
   "metadata": {},
   "outputs": [],
   "source": [
    "# head(n) -> Returns the first n rows from each group.\n",
    "data1.groupby('gender').head(1)"
   ]
  },
  {
   "cell_type": "code",
   "execution_count": null,
   "metadata": {},
   "outputs": [],
   "source": [
    "# tail(n) -> Returns the last n rows from each group.\n",
    "data1.groupby('parental level of education').tail(2)"
   ]
  },
  {
   "cell_type": "code",
   "execution_count": null,
   "metadata": {},
   "outputs": [],
   "source": [
    "groups.head(2)"
   ]
  },
  {
   "cell_type": "code",
   "execution_count": null,
   "metadata": {},
   "outputs": [],
   "source": [
    "# sample()\n",
    "groups.sample()"
   ]
  },
  {
   "cell_type": "code",
   "execution_count": null,
   "metadata": {},
   "outputs": [],
   "source": [
    "# describe()\n",
    "groups.describe()"
   ]
  },
  {
   "cell_type": "code",
   "execution_count": null,
   "metadata": {},
   "outputs": [],
   "source": [
    "male1=gen.get_group('male')\n",
    "male1.head()"
   ]
  },
  {
   "cell_type": "code",
   "execution_count": null,
   "metadata": {
    "colab": {
     "base_uri": "https://localhost:8080/",
     "height": 112
    },
    "id": "I58tynw5Fv0P",
    "outputId": "3d757efc-30be-45d9-fb8b-d0ee12b0040a"
   },
   "outputs": [],
   "source": [
    "# get_group()\n",
    "groups.get_group('group A')"
   ]
  },
  {
   "cell_type": "markdown",
   "metadata": {},
   "source": [
    "### Custom aggregation"
   ]
  },
  {
   "cell_type": "code",
   "execution_count": null,
   "metadata": {
    "colab": {
     "base_uri": "https://localhost:8080/",
     "height": 519
    },
    "id": "_NNmeC7kALcE",
    "outputId": "fb9b414d-ebea-43c2-b12a-c2c419c80b77"
   },
   "outputs": [],
   "source": [
    "# agg() -> using dict\n",
    "groups.agg(\n",
    "    {\n",
    "        'math score':'mean',\n",
    "        'reading score':'max',\n",
    "        'writing score':'sum',\n",
    "    }\n",
    ")"
   ]
  },
  {
   "cell_type": "markdown",
   "metadata": {},
   "source": [
    "### Named aggregation"
   ]
  },
  {
   "cell_type": "code",
   "execution_count": null,
   "metadata": {
    "colab": {
     "base_uri": "https://localhost:8080/",
     "height": 1000
    },
    "id": "59cdCHTJYWiy",
    "outputId": "0514c22f-3dd1-4c9c-92c3-f46a4e1645b0"
   },
   "outputs": [],
   "source": [
    "# agg() -> using list (defining multiple aggregation operations at once for all the columns of group)\n",
    "groups.agg(['min','max','count'])"
   ]
  },
  {
   "cell_type": "code",
   "execution_count": null,
   "metadata": {
    "colab": {
     "base_uri": "https://localhost:8080/",
     "height": 551
    },
    "id": "K6XoU_QWY1KV",
    "outputId": "1cd79d9b-e932-43f6-919a-fcd9975b94df"
   },
   "outputs": [],
   "source": [
    "# Adding both the syntax\n",
    "groups.agg(\n",
    "    {\n",
    "        'math score':['mean','min'],\n",
    "        'reading score':'std',\n",
    "        'writing score':['sum','max','min']\n",
    "    }\n",
    ")"
   ]
  },
  {
   "cell_type": "markdown",
   "metadata": {},
   "source": [
    "### Looping on groups."
   ]
  },
  {
   "cell_type": "code",
   "execution_count": null,
   "metadata": {
    "colab": {
     "base_uri": "https://localhost:8080/",
     "height": 800
    },
    "id": "2o9u9jCjAN_z",
    "outputId": "2ba44c56-bc3b-4652-d33f-5fe9626ae79e"
   },
   "outputs": [],
   "source": [
    "# looping on groups\n",
    "\n",
    "for group,data in groups:\n",
    "  print(group,data)\n"
   ]
  },
  {
   "cell_type": "code",
   "execution_count": null,
   "metadata": {},
   "outputs": [],
   "source": [
    "for group,data in groups:\n",
    "    if group == 'group A':\n",
    "        data['test preparation course'] += ' course'\n",
    "    print(data)"
   ]
  },
  {
   "cell_type": "markdown",
   "metadata": {},
   "source": [
    "### groupby on multiple cols"
   ]
  },
  {
   "cell_type": "code",
   "execution_count": null,
   "metadata": {
    "colab": {
     "base_uri": "https://localhost:8080/",
     "height": 81
    },
    "id": "Jeco628BAP2H",
    "outputId": "64597a2d-7e7b-4620-b88a-d1dae55129ed"
   },
   "outputs": [],
   "source": [
    "# groupby on multiple cols\n",
    "two_groups = data1.groupby(['groups','gender'])\n",
    "two_groups\n"
   ]
  },
  {
   "cell_type": "code",
   "execution_count": null,
   "metadata": {},
   "outputs": [],
   "source": [
    "two_groups.mean(numeric_only=True)"
   ]
  },
  {
   "cell_type": "code",
   "execution_count": null,
   "metadata": {
    "colab": {
     "base_uri": "https://localhost:8080/"
    },
    "id": "w9B-IKRz6Khy",
    "outputId": "a78758b0-cc46-4dcd-e73e-86bba1268f1a"
   },
   "outputs": [],
   "source": [
    "two_groups['math score'].sum().sort_values(ascending=False).head(1)"
   ]
  },
  {
   "cell_type": "code",
   "execution_count": null,
   "metadata": {
    "colab": {
     "base_uri": "https://localhost:8080/",
     "height": 600
    },
    "id": "1GA5Hv4-573n",
    "outputId": "58d9a50a-75fb-464b-f54d-6cb6ac82a3ea"
   },
   "outputs": [],
   "source": [
    "# agg on multiple groupby\n",
    "two_groups.agg(['min','max'])"
   ]
  },
  {
   "cell_type": "markdown",
   "metadata": {
    "id": "9fROVRdo6Mqe"
   },
   "source": [
    "### Excercise"
   ]
  },
  {
   "cell_type": "markdown",
   "metadata": {},
   "source": [
    "# Merging in pandas."
   ]
  },
  {
   "cell_type": "markdown",
   "metadata": {},
   "source": [
    "1. pd.concat()\n",
    "2. df1.merge(df2)"
   ]
  },
  {
   "cell_type": "code",
   "execution_count": 7,
   "metadata": {},
   "outputs": [],
   "source": [
    "d1 = pd.read_csv(\"course_info_1.csv\")"
   ]
  },
  {
   "cell_type": "code",
   "execution_count": null,
   "metadata": {},
   "outputs": [],
   "source": [
    "d1.head(4)"
   ]
  },
  {
   "cell_type": "code",
   "execution_count": 9,
   "metadata": {},
   "outputs": [],
   "source": [
    "d2 = pd.read_csv(\"course_info_2.csv\")"
   ]
  },
  {
   "cell_type": "code",
   "execution_count": null,
   "metadata": {},
   "outputs": [],
   "source": [
    "d2.head(4)"
   ]
  },
  {
   "cell_type": "code",
   "execution_count": null,
   "metadata": {},
   "outputs": [],
   "source": [
    "# concat()\n",
    "ans = pd.concat([d1,d2])\n",
    "ans"
   ]
  },
  {
   "cell_type": "code",
   "execution_count": null,
   "metadata": {},
   "outputs": [],
   "source": [
    "# ignore_index\n",
    "ans1 = pd.concat([d1,d2],keys=['class1','class2'])\n",
    "ans1"
   ]
  },
  {
   "cell_type": "markdown",
   "metadata": {},
   "source": [
    "### -> merge()\n",
    "1. left join\n",
    "2. right join\n",
    "3. inner join\n",
    "4. outer join"
   ]
  },
  {
   "cell_type": "code",
   "execution_count": 3,
   "metadata": {},
   "outputs": [],
   "source": [
    "course_fees = pd.read_csv(\"course_fees.csv\")"
   ]
  },
  {
   "cell_type": "code",
   "execution_count": null,
   "metadata": {},
   "outputs": [],
   "source": [
    "course_fees.head()"
   ]
  },
  {
   "cell_type": "code",
   "execution_count": 4,
   "metadata": {},
   "outputs": [],
   "source": [
    "course_info_1 = pd.read_csv(\"course_info_1.csv\")"
   ]
  },
  {
   "cell_type": "code",
   "execution_count": null,
   "metadata": {},
   "outputs": [],
   "source": [
    "course_info_1.head()"
   ]
  },
  {
   "cell_type": "code",
   "execution_count": null,
   "metadata": {},
   "outputs": [],
   "source": [
    "# left join\n",
    "course_info_1.merge(course_fees,how=\"left\",on=\"course_id\")"
   ]
  },
  {
   "cell_type": "code",
   "execution_count": null,
   "metadata": {},
   "outputs": [],
   "source": [
    "# right join\n",
    "course_info_1.merge(course_fees,how=\"right\",on=\"course_id\")"
   ]
  },
  {
   "cell_type": "code",
   "execution_count": null,
   "metadata": {},
   "outputs": [],
   "source": [
    "# outer join\n",
    "course_info_1.merge(course_fees,how=\"outer\",on=\"course_id\")"
   ]
  },
  {
   "cell_type": "code",
   "execution_count": null,
   "metadata": {},
   "outputs": [],
   "source": [
    "# inner join\n",
    "course_info_1.merge(course_fees,how=\"inner\",on=\"course_id\")"
   ]
  },
  {
   "cell_type": "code",
   "execution_count": 61,
   "metadata": {},
   "outputs": [],
   "source": [
    "# self join"
   ]
  },
  {
   "cell_type": "code",
   "execution_count": null,
   "metadata": {},
   "outputs": [],
   "source": [
    "# Alternate syntax of merging\n",
    "\n",
    "pd.merge(course_info_1,course_fees,how=\"inner\",on='course_id')"
   ]
  }
 ],
 "metadata": {
  "colab": {
   "provenance": []
  },
  "kernelspec": {
   "display_name": "Python 3",
   "name": "python3"
  },
  "language_info": {
   "codemirror_mode": {
    "name": "ipython",
    "version": 3
   },
   "file_extension": ".py",
   "mimetype": "text/x-python",
   "name": "python",
   "nbconvert_exporter": "python",
   "pygments_lexer": "ipython3",
   "version": "3.12.4"
  }
 },
 "nbformat": 4,
 "nbformat_minor": 0
}
