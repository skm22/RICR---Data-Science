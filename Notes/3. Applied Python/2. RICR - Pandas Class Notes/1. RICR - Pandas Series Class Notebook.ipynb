{
 "cells": [
  {
   "cell_type": "markdown",
   "id": "be271c2d",
   "metadata": {},
   "source": [
    "<font size=7><b> Pandas"
   ]
  },
  {
   "cell_type": "markdown",
   "id": "2a1d7acb",
   "metadata": {},
   "source": [
    "<font size=6> *What is Pandas?*"
   ]
  },
  {
   "cell_type": "markdown",
   "id": "b07f28b4",
   "metadata": {},
   "source": [
    "<font size=4>-Pandas is a Python library used for working with data sets.\n",
    "    \n",
    "\n",
    "<font size=4>-It has functions for analyzing, cleaning, exploring, and manipulating data.\n",
    "\n",
    "<font size=4>-The name \"Pandas\" has a reference to both \"Panel Data\", and \"Python Data Analysis\" and was created by Wes McKinney in 2008."
   ]
  },
  {
   "cell_type": "markdown",
   "id": "6f46ac57",
   "metadata": {},
   "source": [
    "<font size=6> *Why use of Pandas?*"
   ]
  },
  {
   "cell_type": "markdown",
   "id": "0f177d89",
   "metadata": {},
   "source": [
    "<font size=4>-Pandas allows us to analyze big data and make conclusions based on statistical theories.\n",
    "\n",
    "<font size=4>-Pandas can clean messy data sets, and make them readable and relevant.\n",
    "\n",
    "<font size=4>-Relevant data is very important in data science."
   ]
  },
  {
   "cell_type": "markdown",
   "id": "c303247e",
   "metadata": {},
   "source": [
    "<font size=6>What Can Pandas Do?"
   ]
  },
  {
   "cell_type": "markdown",
   "id": "9e801f3a",
   "metadata": {},
   "source": [
    "<font size=4>Pandas gives you answers about the data. Like:\n",
    "\n",
    "\n",
    "<font size=4>-Is there a correlation between two or more columns?\n",
    "    \n",
    "<font size=4>-What is average value?\n",
    "    \n",
    "<font size=4>-Max value?\n",
    "    \n",
    "<font size=4>-Min value?\n",
    "    \n",
    "<font size=4>Pandas are also able to delete rows that are not relevant, or contains wrong values, like empty or NULL values. This is called cleaning the data."
   ]
  },
  {
   "cell_type": "markdown",
   "id": "b3f7d68d",
   "metadata": {},
   "source": [
    "<font size=6> Installation of Pandas"
   ]
  },
  {
   "cell_type": "code",
   "execution_count": 1,
   "id": "69bd5745",
   "metadata": {
    "scrolled": true
   },
   "outputs": [
    {
     "name": "stdout",
     "output_type": "stream",
     "text": [
      "Requirement already satisfied: pandas in d:\\anaconda\\lib\\site-packages (2.0.3)\n",
      "Requirement already satisfied: python-dateutil>=2.8.2 in c:\\users\\hp 840 g5\\appdata\\roaming\\python\\python311\\site-packages (from pandas) (2.8.2)\n",
      "Requirement already satisfied: pytz>=2020.1 in d:\\anaconda\\lib\\site-packages (from pandas) (2023.3.post1)\n",
      "Requirement already satisfied: tzdata>=2022.1 in d:\\anaconda\\lib\\site-packages (from pandas) (2023.3)\n",
      "Requirement already satisfied: numpy>=1.21.0 in d:\\anaconda\\lib\\site-packages (from pandas) (1.24.3)\n",
      "Requirement already satisfied: six>=1.5 in c:\\users\\hp 840 g5\\appdata\\roaming\\python\\python311\\site-packages (from python-dateutil>=2.8.2->pandas) (1.16.0)\n"
     ]
    }
   ],
   "source": [
    "! pip install pandas"
   ]
  },
  {
   "cell_type": "markdown",
   "id": "adc513f5",
   "metadata": {},
   "source": [
    "<font size=6>Import Pandas"
   ]
  },
  {
   "cell_type": "markdown",
   "id": "87e6026a",
   "metadata": {},
   "source": [
    "<font size=4>Once Pandas is installed, import it in your applications by adding the **import** keyword:"
   ]
  },
  {
   "cell_type": "code",
   "execution_count": 2,
   "id": "ff236864",
   "metadata": {},
   "outputs": [],
   "source": [
    "import pandas"
   ]
  },
  {
   "cell_type": "markdown",
   "id": "d443d3df",
   "metadata": {},
   "source": [
    "<font size=4>Now Pandas is imported and ready to use."
   ]
  },
  {
   "cell_type": "code",
   "execution_count": 3,
   "id": "4e525d68",
   "metadata": {},
   "outputs": [
    {
     "name": "stdout",
     "output_type": "stream",
     "text": [
      "    cars  passings\n",
      "0    BMW         3\n",
      "1  Volvo         7\n",
      "2   Ford         2\n"
     ]
    }
   ],
   "source": [
    "import pandas\n",
    "\n",
    "mydataset = {\n",
    "  'cars': [\"BMW\", \"Volvo\", \"Ford\"],\n",
    "  'passings': [3, 7, 2]\n",
    "}\n",
    "\n",
    "myvar = pandas.DataFrame(mydataset)\n",
    "\n",
    "print(myvar)"
   ]
  },
  {
   "cell_type": "markdown",
   "id": "4a750ac1",
   "metadata": {},
   "source": [
    "<font size=6>Pandas as pd"
   ]
  },
  {
   "cell_type": "markdown",
   "id": "511c173d",
   "metadata": {},
   "source": [
    "<font size=4>Pandas is usually imported under the **pd** alias."
   ]
  },
  {
   "cell_type": "markdown",
   "id": "371fc7f0",
   "metadata": {},
   "source": [
    "<font size=4>Create an alias with the **as** keyword while importing:"
   ]
  },
  {
   "cell_type": "code",
   "execution_count": 1,
   "id": "df7efb09",
   "metadata": {},
   "outputs": [],
   "source": [
    "import pandas as pd"
   ]
  },
  {
   "cell_type": "markdown",
   "id": "5624bfad",
   "metadata": {},
   "source": [
    "<font size=4>Now the Pandas package can be referred to as **pd** instead of **pandas**."
   ]
  },
  {
   "cell_type": "code",
   "execution_count": 5,
   "id": "f67ce124",
   "metadata": {},
   "outputs": [
    {
     "name": "stdout",
     "output_type": "stream",
     "text": [
      "    cars  passings\n",
      "0    BMW         3\n",
      "1  Volvo         7\n",
      "2   Ford         2\n"
     ]
    }
   ],
   "source": [
    "import pandas as pd\n",
    "\n",
    "mydataset = {\n",
    "  'cars': [\"BMW\", \"Volvo\", \"Ford\"],\n",
    "  'passings': [3, 7, 2]\n",
    "}\n",
    "\n",
    "myvar = pd.DataFrame(mydataset)\n",
    "\n",
    "print(myvar)"
   ]
  },
  {
   "cell_type": "markdown",
   "id": "1db882c7",
   "metadata": {},
   "source": [
    "<font size=7>**Pandas Series**"
   ]
  },
  {
   "cell_type": "markdown",
   "id": "f1e43ca4",
   "metadata": {},
   "source": [
    "<font size=6>What is a Series?"
   ]
  },
  {
   "cell_type": "markdown",
   "id": "f271032f",
   "metadata": {},
   "source": [
    "<font size=4>-A Pandas Series is like a column in a table.\n",
    "\n",
    "<font size=4>-It is a one-dimensional array holding data of any type."
   ]
  },
  {
   "cell_type": "code",
   "execution_count": 2,
   "id": "1b80d37a",
   "metadata": {},
   "outputs": [
    {
     "name": "stdout",
     "output_type": "stream",
     "text": [
      "0   -0.268666\n",
      "1    0.244631\n",
      "2   -0.557320\n",
      "3    1.149906\n",
      "dtype: float64\n",
      "RangeIndex(start=0, stop=4, step=1)\n"
     ]
    }
   ],
   "source": [
    "import numpy as np\n",
    "import pandas as pd\n",
    "Series1=pd.Series(np.random.randn(4))\n",
    "print(Series1)\n",
    "print(Series1.index)"
   ]
  },
  {
   "cell_type": "markdown",
   "id": "8df7e580",
   "metadata": {},
   "source": [
    "<font size=6>*Series from lists*"
   ]
  },
  {
   "cell_type": "code",
   "execution_count": 3,
   "id": "d6095494",
   "metadata": {},
   "outputs": [
    {
     "data": {
      "text/plain": [
       "0    a\n",
       "1    b\n",
       "2    c\n",
       "3    d\n",
       "4    e\n",
       "dtype: object"
      ]
     },
     "execution_count": 3,
     "metadata": {},
     "output_type": "execute_result"
    }
   ],
   "source": [
    "# string\n",
    "a = ['a','b','c','d','e']\n",
    "\n",
    "pd.Series(a)"
   ]
  },
  {
   "cell_type": "code",
   "execution_count": 4,
   "id": "a8de14fc",
   "metadata": {},
   "outputs": [
    {
     "name": "stdout",
     "output_type": "stream",
     "text": [
      "0     13\n",
      "1     24\n",
      "2     56\n",
      "3     78\n",
      "4    100\n",
      "dtype: int64\n"
     ]
    }
   ],
   "source": [
    "# integers\n",
    "b = [13,24,56,78,100]\n",
    "\n",
    "b_series= pd.Series(b)\n",
    "print(b_series)"
   ]
  },
  {
   "cell_type": "markdown",
   "id": "16cefe80",
   "metadata": {},
   "source": [
    "<font size=6>*Creating a Series from Dictionary*"
   ]
  },
  {
   "cell_type": "code",
   "execution_count": 5,
   "id": "6f751d7b",
   "metadata": {},
   "outputs": [
    {
     "name": "stdout",
     "output_type": "stream",
     "text": [
      "m         1\n",
      "y      2024\n",
      "d    sunday\n",
      "dtype: object\n",
      "y      2024\n",
      "m         1\n",
      "d    sunday\n",
      "dtype: object\n"
     ]
    }
   ],
   "source": [
    "dict={'m':1,'y':2024,'d':'sunday'}\n",
    "\n",
    "Series3=pd.Series(dict)\n",
    "print(Series3)\n",
    "\n",
    "Series4=pd.Series(dict,index=['y','m','d'])\n",
    "print(Series4)"
   ]
  },
  {
   "cell_type": "markdown",
   "id": "6d6a21e7",
   "metadata": {},
   "source": [
    "<font size=6>*Labels*"
   ]
  },
  {
   "cell_type": "markdown",
   "id": "65155d0e",
   "metadata": {},
   "source": [
    "<font size=4>-If nothing else is specified, the values are labeled with their index number. First value has index 0, second value has index 1 etc.\n",
    "\n",
    "\n",
    "<font size=4>-This label can be used to access a specified value."
   ]
  },
  {
   "cell_type": "code",
   "execution_count": 6,
   "id": "b7f2cf0e",
   "metadata": {},
   "outputs": [
    {
     "name": "stdout",
     "output_type": "stream",
     "text": [
      "-0.2686658382443255\n"
     ]
    }
   ],
   "source": [
    "print(Series1[0])"
   ]
  },
  {
   "cell_type": "markdown",
   "id": "724edcf5",
   "metadata": {},
   "source": [
    "<font size=6>*Create Labels*"
   ]
  },
  {
   "cell_type": "markdown",
   "id": "043c01b0",
   "metadata": {},
   "source": [
    "<font size=4> With the **index** argument, you can name your own labels."
   ]
  },
  {
   "cell_type": "code",
   "execution_count": 7,
   "id": "fc91ff5a",
   "metadata": {},
   "outputs": [
    {
     "name": "stdout",
     "output_type": "stream",
     "text": [
      "a    1.273929\n",
      "b    0.650178\n",
      "c   -0.189962\n",
      "d   -1.775883\n",
      "dtype: float64\n",
      "Index(['a', 'b', 'c', 'd'], dtype='object')\n"
     ]
    }
   ],
   "source": [
    "Series1=pd.Series(np.random.randn(4),index=['a','b','c','d'])\n",
    "print(Series1)\n",
    "print(Series1.index)"
   ]
  },
  {
   "cell_type": "code",
   "execution_count": 8,
   "id": "a99db4c0",
   "metadata": {},
   "outputs": [
    {
     "name": "stdout",
     "output_type": "stream",
     "text": [
      "0.6501775707458912\n"
     ]
    }
   ],
   "source": [
    "print(Series1[\"b\"])"
   ]
  },
  {
   "cell_type": "markdown",
   "id": "1d04a767",
   "metadata": {},
   "source": [
    "<font size=6>*Creating a List from Scaler Value*"
   ]
  },
  {
   "cell_type": "code",
   "execution_count": 9,
   "id": "f7bf31cf",
   "metadata": {},
   "outputs": [
    {
     "name": "stdout",
     "output_type": "stream",
     "text": [
      "creating series from scaler value\n",
      "a    8\n",
      "b    8\n",
      "c    8\n",
      "d    8\n",
      "dtype: int64\n"
     ]
    }
   ],
   "source": [
    "print('creating series from scaler value')\n",
    "scl=pd.Series(8,index=['a','b','c','d'])\n",
    "print(scl)"
   ]
  },
  {
   "cell_type": "markdown",
   "id": "448d67ab",
   "metadata": {},
   "source": [
    "<font size=6>Scaler Value without Indexing"
   ]
  },
  {
   "cell_type": "code",
   "execution_count": 10,
   "id": "21a95b03",
   "metadata": {},
   "outputs": [
    {
     "name": "stdout",
     "output_type": "stream",
     "text": [
      "creating series from scaler value\n",
      "0    8\n",
      "dtype: int64\n"
     ]
    }
   ],
   "source": [
    "print('creating series from scaler value')\n",
    "scl=pd.Series(8)\n",
    "print(scl)"
   ]
  },
  {
   "cell_type": "markdown",
   "id": "112cf7ea",
   "metadata": {},
   "source": [
    "<font size=6>*Descriptive Statistics in a Series*"
   ]
  },
  {
   "cell_type": "code",
   "execution_count": 11,
   "id": "db9abc02",
   "metadata": {},
   "outputs": [
    {
     "name": "stdout",
     "output_type": "stream",
     "text": [
      "Series1\n",
      "a    1.273929\n",
      "b    0.650178\n",
      "c   -0.189962\n",
      "d   -1.775883\n",
      "dtype: float64\n",
      "\n",
      " mean: -0.010434512729797396\n",
      "\n",
      " median: 0.2301077891537096\n",
      "\n",
      " maximum: 1.273929403417992\n",
      "\n",
      " minimum: -1.775883032644601\n",
      "\n",
      " standerd daviation: 1.3209892235715492\n",
      "\n",
      " sum: -0.041738050919189584\n",
      "\n",
      " Series2\n",
      "0     1\n",
      "1    10\n",
      "2     5\n",
      "3    17\n",
      "4     9\n",
      "dtype: int64\n",
      "\n",
      " sum: 42\n",
      "\n",
      " sorted values:\n",
      "0     1\n",
      "2     5\n",
      "4     9\n",
      "1    10\n",
      "3    17\n",
      "dtype: int64\n",
      "\n",
      " sorted indexes:\n",
      "0     1\n",
      "1    10\n",
      "2     5\n",
      "3    17\n",
      "4     9\n",
      "dtype: int64\n"
     ]
    }
   ],
   "source": [
    "print('Series1')\n",
    "print(Series1)\n",
    "\n",
    "#series sample operation\n",
    "print('\\n mean:',Series1.mean())#Calculates the mean of the values in the Series.\n",
    "\n",
    "print('\\n median:',Series1.median())#Finds the middle value of the Series when the values are sorted\n",
    "\n",
    "print('\\n maximum:',Series1.max())# Returns the maximum value in the Series.\n",
    "\n",
    "print('\\n minimum:',Series1.min()) # Returns the minimum value in the Series.\n",
    "\n",
    "# Calculates the standard deviation, which measures the amount of variation or dispersion in the values.\n",
    "print('\\n standerd daviation:',Series1.std())\n",
    "\n",
    "print('\\n sum:',Series1.sum()) # Computes the total sum of all values in the Series\n",
    "\n",
    "Series2=pd.Series([1,10,5,17,9])\n",
    "print('\\n Series2')\n",
    "print(Series2)\n",
    "\n",
    "print('\\n sum:',Series2.sum())\n",
    "\n",
    "'''Sorts the values of the Series in ascending order and returns a new Series with the same indices but rearranged values. \n",
    "The original Series remains unchanged.'''\n",
    "print('\\n sorted values:')\n",
    "print( Series2.sort_values())\n",
    "\n",
    "''' Sorts the Series based on its index. Since the default indices are already in order, \n",
    "it will return the Series in its original order.'''\n",
    "print('\\n sorted indexes:')\n",
    "print( Series2.sort_index())"
   ]
  },
  {
   "cell_type": "markdown",
   "id": "97d02f73",
   "metadata": {},
   "source": [
    "<font size=6>*Mathematical Operations on Series*"
   ]
  },
  {
   "cell_type": "code",
   "execution_count": 37,
   "id": "b63b9335",
   "metadata": {},
   "outputs": [
    {
     "name": "stdout",
     "output_type": "stream",
     "text": [
      "Original Series:\n",
      "a    1\n",
      "b    2\n",
      "c    3\n",
      "d    4\n",
      "dtype: int64\n",
      "\n",
      "Addition:\n",
      "a    2\n",
      "b    4\n",
      "c    6\n",
      "d    8\n",
      "dtype: int64\n",
      "\n",
      "Addition with non-matched labels:\n",
      "a    NaN\n",
      "b    4.0\n",
      "c    6.0\n",
      "d    NaN\n",
      "dtype: float64\n",
      "\n",
      "Multiplication:\n",
      "a     1\n",
      "b     4\n",
      "c     9\n",
      "d    16\n",
      "dtype: int64\n",
      "\n",
      "More Mathematical Operations:\n",
      "Subtraction (s1 - s1):\n",
      "a    0\n",
      "b    0\n",
      "c    0\n",
      "d    0\n",
      "dtype: int64\n",
      "\n",
      "Division (s1 / 2):\n",
      "a    0.5\n",
      "b    1.0\n",
      "c    1.5\n",
      "d    2.0\n",
      "dtype: float64\n",
      "\n",
      "Exponentiation (s1 ** 2):\n",
      "a     1\n",
      "b     4\n",
      "c     9\n",
      "d    16\n",
      "dtype: int64\n",
      "\n",
      "Square Root (s1.apply(np.sqrt)):\n",
      "a    1.000000\n",
      "b    1.414214\n",
      "c    1.732051\n",
      "d    2.000000\n",
      "dtype: float64\n",
      "\n",
      "Cumulative Sum:\n",
      "a     1\n",
      "b     3\n",
      "c     6\n",
      "d    10\n",
      "dtype: int64\n",
      "\n",
      "Cumulative Product:\n",
      "a     1\n",
      "b     2\n",
      "c     6\n",
      "d    24\n",
      "dtype: int64\n"
     ]
    }
   ],
   "source": [
    "# Create a Series\n",
    "s1 = pd.Series([1, 2, 3, 4], index=['a', 'b', 'c', 'd'])\n",
    "print(\"Original Series:\")\n",
    "print(s1)\n",
    "\n",
    "# Addition\n",
    "print(\"\\nAddition:\")\n",
    "print(s1 + s1)\n",
    "\n",
    "# Addition with non-matched labels\n",
    "print('\\nAddition with non-matched labels:')\n",
    "print(s1[1:] + s1[:-1])\n",
    "\n",
    "# Multiplication\n",
    "print('\\nMultiplication:')\n",
    "print(s1 * s1)\n",
    "\n",
    "# More Mathematical Operations\n",
    "print(\"\\nMore Mathematical Operations:\")\n",
    "\n",
    "# Subtraction\n",
    "print(\"Subtraction (s1 - s1):\")\n",
    "print(s1 - s1)\n",
    "\n",
    "# Division\n",
    "print(\"\\nDivision (s1 / 2):\")\n",
    "print(s1 / 2)\n",
    "\n",
    "# Exponentiation\n",
    "print(\"\\nExponentiation (s1 ** 2):\")\n",
    "print(s1 ** 2)\n",
    "\n",
    "# Square Root\n",
    "print(\"\\nSquare Root (s1.apply(np.sqrt)):\")\n",
    "print(s1.apply(np.sqrt))\n",
    "\n",
    "# Cumulative Sum\n",
    "'''Computes the cumulative sum of the elements in the Series. \n",
    "Each element is replaced by the sum of all previous elements up to that point.'''\n",
    "print(\"\\nCumulative Sum:\")\n",
    "print(s1.cumsum())\n",
    "\n",
    "# Cumulative Product\n",
    "print(\"\\nCumulative Product:\")\n",
    "print(s1.cumprod())#Computes the cumulative product of the elements in the Series."
   ]
  },
  {
   "cell_type": "markdown",
   "id": "3ccd0029",
   "metadata": {},
   "source": [
    "<font size=6>Name Attribute"
   ]
  },
  {
   "cell_type": "markdown",
   "id": "3be61f1c",
   "metadata": {},
   "source": [
    "<font size=4>In Pandas, the **name** attribute is used to assign or retrieve the name of a Series or DataFrame. It allows you to give a meaningful label to your data structure, which can be helpful for identification and clarity, especially when dealing with multiple Series or DataFrames."
   ]
  },
  {
   "cell_type": "code",
   "execution_count": 46,
   "id": "280907e6",
   "metadata": {},
   "outputs": [
    {
     "name": "stdout",
     "output_type": "stream",
     "text": [
      "0    777\n",
      "1     88\n",
      "2     65\n",
      "3     90\n",
      "Name: studentmarks, dtype: int64\n",
      "\n",
      "Name of S2 studentmarks\n",
      "\n",
      "New name of S2 :- marks\n"
     ]
    }
   ],
   "source": [
    "# Create a Series and assign a name\n",
    "s2=pd.Series([777,88,65,90],name='studentmarks')\n",
    "print(s2)\n",
    "\n",
    "print('\\nName of S2',s2.name)\n",
    "\n",
    "s2=s2.rename('marks')#changing the name of the series\n",
    "\n",
    "print('\\nNew name of S2 :-',s2.name)"
   ]
  },
  {
   "cell_type": "code",
   "execution_count": 49,
   "id": "b23dd34b",
   "metadata": {},
   "outputs": [
    {
     "name": "stdout",
     "output_type": "stream",
     "text": [
      "0    1\n",
      "1    2\n",
      "2    3\n",
      "3    4\n",
      "Name: MySeries, dtype: int64\n",
      "\n",
      "Series Name: MySeries\n",
      "0    1\n",
      "1    2\n",
      "2    3\n",
      "3    4\n",
      "Name: UpdatedSeries, dtype: int64\n",
      "\n",
      "Series Name: UpdatedSeries\n"
     ]
    }
   ],
   "source": [
    "# Create a Series and assign a name\n",
    "s = pd.Series([1, 2, 3, 4], name='MySeries')\n",
    "print(s)\n",
    "print(\"\\nSeries Name:\", s.name)\n",
    "s.name = 'UpdatedSeries'#changing the name of the series\n",
    "print(s)\n",
    "print(\"\\nSeries Name:\", s.name)"
   ]
  },
  {
   "cell_type": "markdown",
   "id": "8d83773b",
   "metadata": {},
   "source": [
    "<font size=6>Series Attributes"
   ]
  },
  {
   "cell_type": "markdown",
   "id": "3ade531f",
   "metadata": {},
   "source": [
    "<font size=5>**index**"
   ]
  },
  {
   "cell_type": "markdown",
   "id": "63ff6bd5",
   "metadata": {},
   "source": [
    "* <font size=4>The **index** attribute returns the index (labels) of the Series.\n",
    "* <font size=4>It can be used to access the labels associated with the data."
   ]
  },
  {
   "cell_type": "code",
   "execution_count": 50,
   "id": "48f440d8",
   "metadata": {},
   "outputs": [
    {
     "name": "stdout",
     "output_type": "stream",
     "text": [
      "Index(['a', 'b', 'c'], dtype='object')\n"
     ]
    }
   ],
   "source": [
    "s = pd.Series([1, 2, 3], index=['a', 'b', 'c'])\n",
    "print(s.index)  # Output: Index(['a', 'b', 'c'], dtype='object')\n"
   ]
  },
  {
   "cell_type": "markdown",
   "id": "1be84f26",
   "metadata": {},
   "source": [
    "<font size=5>**values**"
   ]
  },
  {
   "cell_type": "markdown",
   "id": "b76d1b38",
   "metadata": {},
   "source": [
    "* <font size=4>The **values** attribute returns the underlying data as a NumPy array.\n",
    "* <font size=4>This can be useful for performing NumPy operations."
   ]
  },
  {
   "cell_type": "code",
   "execution_count": 51,
   "id": "e4580544",
   "metadata": {},
   "outputs": [
    {
     "name": "stdout",
     "output_type": "stream",
     "text": [
      "[1 2 3]\n"
     ]
    }
   ],
   "source": [
    "s = pd.Series([1, 2, 3], index=['a', 'b', 'c'])\n",
    "print(s.values)  # Output: array([1, 2, 3])"
   ]
  },
  {
   "cell_type": "markdown",
   "id": "411cdcd1",
   "metadata": {},
   "source": [
    "<font size=5>**name**"
   ]
  },
  {
   "cell_type": "markdown",
   "id": "77c4c7f8",
   "metadata": {},
   "source": [
    "* <font size=4>The **name** attribute allows you to get or set the name of the Series.\n",
    "* <font size=4>It is helpful for identifying the Series, especially when used in a DataFrame."
   ]
  },
  {
   "cell_type": "code",
   "execution_count": 52,
   "id": "9ecd12e0",
   "metadata": {},
   "outputs": [
    {
     "name": "stdout",
     "output_type": "stream",
     "text": [
      "MySeries\n"
     ]
    }
   ],
   "source": [
    "s.name = 'MySeries'\n",
    "print(s.name)  # Output: MySeries"
   ]
  },
  {
   "cell_type": "markdown",
   "id": "0adcb90d",
   "metadata": {},
   "source": [
    "<font size=5>**dtype**"
   ]
  },
  {
   "cell_type": "markdown",
   "id": "3d77bac9",
   "metadata": {},
   "source": [
    "* <font size=4>The **dtype** attribute returns the data type of the Series elements.\n",
    "* <font size=4>It provides insight into the types of data stored in the Series."
   ]
  },
  {
   "cell_type": "code",
   "execution_count": 53,
   "id": "8a46bf41",
   "metadata": {},
   "outputs": [
    {
     "name": "stdout",
     "output_type": "stream",
     "text": [
      "int64\n"
     ]
    }
   ],
   "source": [
    "s = pd.Series([1, 2, 3], index=['a', 'b', 'c'])\n",
    "print(s.dtype)  # Output: int64"
   ]
  },
  {
   "cell_type": "markdown",
   "id": "83874cd8",
   "metadata": {},
   "source": [
    "<font size=5>**size**"
   ]
  },
  {
   "cell_type": "markdown",
   "id": "4490d68b",
   "metadata": {},
   "source": [
    "* <font size=4>The **size** attribute returns the number of elements in the Series.\n",
    "* <font size=4>It gives a quick count of how many items are present."
   ]
  },
  {
   "cell_type": "code",
   "execution_count": 54,
   "id": "189fe65d",
   "metadata": {},
   "outputs": [
    {
     "name": "stdout",
     "output_type": "stream",
     "text": [
      "3\n"
     ]
    }
   ],
   "source": [
    "print(s.size)  # Output: 3"
   ]
  },
  {
   "cell_type": "markdown",
   "id": "1d2673a0",
   "metadata": {},
   "source": [
    "<font size=5>**shape**"
   ]
  },
  {
   "cell_type": "markdown",
   "id": "111ce6fe",
   "metadata": {},
   "source": [
    "* <font size=4>The **shape** attribute returns a tuple representing the dimensions of the Series (i.e., the number of elements).\n",
    "* <font size=4>For a one-dimensional Series, it returns a tuple with one element."
   ]
  },
  {
   "cell_type": "code",
   "execution_count": 55,
   "id": "3e09c74b",
   "metadata": {},
   "outputs": [
    {
     "name": "stdout",
     "output_type": "stream",
     "text": [
      "(3,)\n"
     ]
    }
   ],
   "source": [
    "print(s.shape)  # Output: (3,)"
   ]
  },
  {
   "cell_type": "markdown",
   "id": "dc5f1e8d",
   "metadata": {},
   "source": [
    "<font size=5>**is_unique**"
   ]
  },
  {
   "cell_type": "markdown",
   "id": "a5f962ee",
   "metadata": {},
   "source": [
    "<font size=4>The **is_unique** attribute in a Pandas Series checks whether all the values in the Series are unique. It returns a Boolean value: True if all values are unique and False if there are any duplicates.\n",
    "\n",
    "* <font size=4>marks_series.is_unique will return True if all the values in marks_series are distinct.\n",
    "* <font size=4>If any value appears more than once, it will return False."
   ]
  },
  {
   "cell_type": "code",
   "execution_count": 56,
   "id": "1d70e219",
   "metadata": {},
   "outputs": [
    {
     "name": "stdout",
     "output_type": "stream",
     "text": [
      "True\n",
      "False\n"
     ]
    }
   ],
   "source": [
    "# Create a Series with unique values\n",
    "marks_series = pd.Series([90, 85, 78, 92, 88])\n",
    "print(marks_series.is_unique)  # Output: True\n",
    "\n",
    "# Create a Series with duplicate values\n",
    "duplicate_series = pd.Series([1, 1, 2, 3, 4, 5])\n",
    "print(duplicate_series.is_unique)  # Output: False\n"
   ]
  },
  {
   "cell_type": "code",
   "execution_count": 57,
   "id": "6fc0ff21",
   "metadata": {},
   "outputs": [
    {
     "name": "stdout",
     "output_type": "stream",
     "text": [
      "True\n"
     ]
    }
   ],
   "source": [
    "marks_series = pd.Series([90, 85, 78, 92, 88])\n",
    "print(marks_series.is_unique)  # Output: True"
   ]
  },
  {
   "cell_type": "code",
   "execution_count": 58,
   "id": "d1a40cdf",
   "metadata": {},
   "outputs": [
    {
     "name": "stdout",
     "output_type": "stream",
     "text": [
      "False\n"
     ]
    }
   ],
   "source": [
    "duplicate_series = pd.Series([1, 1, 2, 3, 4, 5])\n",
    "print(duplicate_series.is_unique)  # Output: False\n"
   ]
  },
  {
   "cell_type": "markdown",
   "id": "280c7270",
   "metadata": {},
   "source": [
    "<font size=5>**isnull()** and **notnull()**"
   ]
  },
  {
   "cell_type": "markdown",
   "id": "32799fb2",
   "metadata": {},
   "source": [
    "* <font size=4>These methods can be used to check for missing values in the Series.\n",
    "* <font size=4>**isnull()** returns a Boolean Series indicating where values are missing.\n",
    "* <font size=4>**notnull()** returns a Boolean Series indicating where values are present."
   ]
  },
  {
   "cell_type": "code",
   "execution_count": 59,
   "id": "3e6e7e69",
   "metadata": {},
   "outputs": [
    {
     "name": "stdout",
     "output_type": "stream",
     "text": [
      "0    False\n",
      "1    False\n",
      "2     True\n",
      "3    False\n",
      "dtype: bool\n",
      "0     True\n",
      "1     True\n",
      "2    False\n",
      "3     True\n",
      "dtype: bool\n"
     ]
    }
   ],
   "source": [
    "s_with_nan = pd.Series([1, 2, None, 4])\n",
    "print(s_with_nan.isnull())  # Output: [False, False, True, False]\n",
    "print(s_with_nan.notnull())  # Output: [ True,  True, False,  True]"
   ]
  },
  {
   "cell_type": "markdown",
   "id": "0722663c",
   "metadata": {},
   "source": [
    "<font size=6>Indexing"
   ]
  },
  {
   "cell_type": "code",
   "execution_count": 88,
   "id": "09f79993",
   "metadata": {},
   "outputs": [
    {
     "name": "stdout",
     "output_type": "stream",
     "text": [
      "a    10\n",
      "b    20\n",
      "c    30\n",
      "d    40\n",
      "e    50\n",
      "dtype: int64\n"
     ]
    }
   ],
   "source": [
    "# Create a Series with custom index\n",
    "data = pd.Series([10, 20, 30, 40, 50], index=['a', 'b', 'c', 'd', 'e'])\n",
    "print(data)\n"
   ]
  },
  {
   "cell_type": "markdown",
   "id": "386b5584",
   "metadata": {},
   "source": [
    "<font size=5>1.Accessing Single Elements"
   ]
  },
  {
   "cell_type": "markdown",
   "id": "f80649ed",
   "metadata": {},
   "source": [
    "<font size=4>You can access elements in a Series using either labels (index) or integer position:"
   ]
  },
  {
   "cell_type": "code",
   "execution_count": 89,
   "id": "cb72d373",
   "metadata": {},
   "outputs": [
    {
     "name": "stdout",
     "output_type": "stream",
     "text": [
      "30\n"
     ]
    }
   ],
   "source": [
    "#Using Label Indexing:\n",
    "print(data['c'])  # Output: 30"
   ]
  },
  {
   "cell_type": "code",
   "execution_count": 90,
   "id": "7e970cb4",
   "metadata": {},
   "outputs": [
    {
     "name": "stdout",
     "output_type": "stream",
     "text": [
      "30\n"
     ]
    }
   ],
   "source": [
    "#Using Integer Position:\n",
    "print(data[2])    # Output: 30"
   ]
  },
  {
   "cell_type": "markdown",
   "id": "af1321ab",
   "metadata": {},
   "source": [
    "<font size=5>2. Accessing Multiple Elements"
   ]
  },
  {
   "cell_type": "markdown",
   "id": "16bbc317",
   "metadata": {},
   "source": [
    "<font size=4>You can access multiple elements by passing a list of labels or integer positions."
   ]
  },
  {
   "cell_type": "code",
   "execution_count": 91,
   "id": "1900a266",
   "metadata": {},
   "outputs": [
    {
     "name": "stdout",
     "output_type": "stream",
     "text": [
      "a    10\n",
      "c    30\n",
      "e    50\n",
      "dtype: int64\n"
     ]
    }
   ],
   "source": [
    "#Using Label Indexing:\n",
    "print(data[['a', 'c', 'e']])"
   ]
  },
  {
   "cell_type": "code",
   "execution_count": 94,
   "id": "760afef2",
   "metadata": {},
   "outputs": [
    {
     "name": "stdout",
     "output_type": "stream",
     "text": [
      "a    10\n",
      "c    30\n",
      "e    50\n",
      "dtype: int64\n",
      "\n",
      "b    20\n",
      "d    40\n",
      "dtype: int64\n",
      "\n",
      "b    20\n",
      "c    30\n",
      "d    40\n",
      "dtype: int64\n"
     ]
    }
   ],
   "source": [
    "#Using Integer Position or Fancy Indexing:\n",
    "print(data[[0, 2, 4]])\n",
    "\n",
    "print()\n",
    "\n",
    "print(data[[1, 3]]) \n",
    "\n",
    "print()\n",
    "\n",
    "print(data[[1, 2, 3]]) "
   ]
  },
  {
   "cell_type": "markdown",
   "id": "74c07020",
   "metadata": {},
   "source": [
    "<font size=6>Slicing"
   ]
  },
  {
   "cell_type": "markdown",
   "id": "48666c02",
   "metadata": {},
   "source": [
    "<font size=4>Slicing allows you to extract a subset of the Series."
   ]
  },
  {
   "cell_type": "code",
   "execution_count": 68,
   "id": "bc82217e",
   "metadata": {},
   "outputs": [
    {
     "name": "stdout",
     "output_type": "stream",
     "text": [
      "a    10\n",
      "b    20\n",
      "c    30\n",
      "d    40\n",
      "e    50\n",
      "dtype: int64\n"
     ]
    }
   ],
   "source": [
    "# Create a Series with custom index\n",
    "data = pd.Series([10, 20, 30, 40, 50], index=['a', 'b', 'c', 'd', 'e'])\n",
    "print(data)"
   ]
  },
  {
   "cell_type": "markdown",
   "id": "fbf52a9d",
   "metadata": {},
   "source": [
    "<font size=5>1. Slicing with Labels"
   ]
  },
  {
   "cell_type": "markdown",
   "id": "54bdee84",
   "metadata": {},
   "source": [
    "<font size=4>You can slice a Series using labels, which includes the start and end labels."
   ]
  },
  {
   "cell_type": "code",
   "execution_count": 70,
   "id": "61319faf",
   "metadata": {
    "scrolled": true
   },
   "outputs": [
    {
     "name": "stdout",
     "output_type": "stream",
     "text": [
      "b    20\n",
      "c    30\n",
      "d    40\n",
      "dtype: int64\n"
     ]
    }
   ],
   "source": [
    "print(data['b':'d']) "
   ]
  },
  {
   "cell_type": "markdown",
   "id": "1380b942",
   "metadata": {},
   "source": [
    "<font size=5>2. Slicing with Integer Positions"
   ]
  },
  {
   "cell_type": "markdown",
   "id": "71850d36",
   "metadata": {},
   "source": [
    "<font size=4>you can also slice using integer positions. The end index is exclusive."
   ]
  },
  {
   "cell_type": "code",
   "execution_count": 77,
   "id": "2b3e08aa",
   "metadata": {},
   "outputs": [
    {
     "name": "stdout",
     "output_type": "stream",
     "text": [
      "b    20\n",
      "c    30\n",
      "d    40\n",
      "dtype: int64\n",
      "\n",
      "c    30\n",
      "d    40\n",
      "e    50\n",
      "dtype: int64\n",
      "\n",
      "e    50\n",
      "d    40\n",
      "c    30\n",
      "b    20\n",
      "a    10\n",
      "dtype: int64\n",
      "\n",
      "a    10\n",
      "c    30\n",
      "e    50\n",
      "dtype: int64\n"
     ]
    }
   ],
   "source": [
    "print(data[1:4])\n",
    "\n",
    "print()\n",
    "\n",
    "print(data[2:5])\n",
    "\n",
    "print()\n",
    "\n",
    "print(data[::-1])\n",
    "\n",
    "print()\n",
    "\n",
    "print(data[0::2])"
   ]
  },
  {
   "cell_type": "markdown",
   "id": "4f36ff09",
   "metadata": {},
   "source": [
    "<font size=6>Boolean Indexing"
   ]
  },
  {
   "cell_type": "markdown",
   "id": "e54d0cc8",
   "metadata": {},
   "source": [
    "<font size=4>You can also slice a Series based on conditions"
   ]
  },
  {
   "cell_type": "code",
   "execution_count": 83,
   "id": "dfad7951",
   "metadata": {},
   "outputs": [
    {
     "name": "stdout",
     "output_type": "stream",
     "text": [
      "c    30\n",
      "d    40\n",
      "e    50\n",
      "dtype: int64\n",
      "\n",
      "a    10\n",
      "b    20\n",
      "dtype: int64\n",
      "\n",
      "b    20\n",
      "c    30\n",
      "d    40\n",
      "e    50\n",
      "dtype: int64\n",
      "\n",
      "a    10\n",
      "b    20\n",
      "dtype: int64\n"
     ]
    }
   ],
   "source": [
    "# Get elements greater than 25\n",
    "print(data[data > 25]) \n",
    "\n",
    "print()\n",
    "\n",
    "# Get elements less than 25\n",
    "print(data[data < 25]) \n",
    "\n",
    "print()\n",
    "\n",
    "# Get element more than equal to 20\n",
    "print(data[data >=20])\n",
    "\n",
    "print()\n",
    "\n",
    "# Get element less than equal to 20\n",
    "print(data[data <=20])"
   ]
  },
  {
   "cell_type": "markdown",
   "id": "8130134d",
   "metadata": {},
   "source": [
    "<font size=6>Modifying Elements"
   ]
  },
  {
   "cell_type": "markdown",
   "id": "31800013",
   "metadata": {},
   "source": [
    "<font size=4>You can modify elements in a Series by indexing or slicing."
   ]
  },
  {
   "cell_type": "code",
   "execution_count": 84,
   "id": "f3595b20",
   "metadata": {},
   "outputs": [
    {
     "name": "stdout",
     "output_type": "stream",
     "text": [
      "a    10\n",
      "b    20\n",
      "c    30\n",
      "d    40\n",
      "e    50\n",
      "dtype: int64\n"
     ]
    }
   ],
   "source": [
    "# Create a Series with custom index\n",
    "data = pd.Series([10, 20, 30, 40, 50], index=['a', 'b', 'c', 'd', 'e'])\n",
    "print(data)"
   ]
  },
  {
   "cell_type": "code",
   "execution_count": 86,
   "id": "7d261fba",
   "metadata": {},
   "outputs": [
    {
     "name": "stdout",
     "output_type": "stream",
     "text": [
      "a    15\n",
      "b    25\n",
      "c    35\n",
      "d    40\n",
      "e    50\n",
      "dtype: int64\n",
      "\n",
      "a    15\n",
      "b    25\n",
      "c    35\n",
      "d    40\n",
      "e    50\n",
      "dtype: int64\n"
     ]
    }
   ],
   "source": [
    "data['a'] = 15  # Change value at index 'a'\n",
    "print(data) \n",
    "\n",
    "print()\n",
    "\n",
    "data[1:3] = [25, 35]  # Modify a slice\n",
    "print(data)  \n"
   ]
  },
  {
   "cell_type": "markdown",
   "id": "9acc3e60",
   "metadata": {},
   "source": [
    "<font size=6>Looping in Series"
   ]
  },
  {
   "cell_type": "markdown",
   "id": "2fe4ebbc",
   "metadata": {},
   "source": [
    "<font size=4>In Pandas, looping in series can involve iterating over rows or elements in a DataFrame or Series. While it’s generally more efficient to use vectorized operations, sometimes you might need to loop for specific tasks. Here’s an example using a Pandas Series and a DataFrame"
   ]
  },
  {
   "cell_type": "code",
   "execution_count": 2,
   "id": "270df359",
   "metadata": {},
   "outputs": [
    {
     "name": "stdout",
     "output_type": "stream",
     "text": [
      "0     1\n",
      "1     4\n",
      "2     9\n",
      "3    16\n",
      "4    25\n",
      "dtype: int64\n"
     ]
    }
   ],
   "source": [
    "# Create a Pandas Series\n",
    "data = pd.Series([1, 2, 3, 4, 5])\n",
    "# Create an empty list to store the results\n",
    "squared_values = []\n",
    "\n",
    "# Loop through each value in the Series\n",
    "for value in data:\n",
    "    squared_values.append(value ** 2)  # Square the value and append to the list\n",
    "\n",
    "# Convert the list back to a Series\n",
    "squared_series = pd.Series(squared_values)\n",
    "\n",
    "print(squared_series)\n"
   ]
  },
  {
   "cell_type": "markdown",
   "id": "7c8998b9",
   "metadata": {},
   "source": [
    "<font size=4>In this example, we will use a while loop to increment each value by 1."
   ]
  },
  {
   "cell_type": "code",
   "execution_count": 3,
   "id": "b0335b74",
   "metadata": {},
   "outputs": [
    {
     "name": "stdout",
     "output_type": "stream",
     "text": [
      "0    2\n",
      "1    3\n",
      "2    4\n",
      "3    5\n",
      "4    6\n",
      "dtype: int64\n"
     ]
    }
   ],
   "source": [
    "# Create a Pandas Series\n",
    "data = pd.Series([1, 2, 3, 4, 5])\n",
    "# Create an empty list to store the results\n",
    "incremented_values = []\n",
    "\n",
    "# Initialize a counter\n",
    "i = 0\n",
    "\n",
    "# Loop through the Series using a while loop\n",
    "while i < len(data):\n",
    "    incremented_values.append(data[i] + 1)  # Increment the value and append to the list\n",
    "    i += 1  # Increment the counter\n",
    "\n",
    "# Convert the list back to a Series\n",
    "incremented_series = pd.Series(incremented_values)\n",
    "\n",
    "print(incremented_series)\n"
   ]
  },
  {
   "cell_type": "markdown",
   "id": "49f12108",
   "metadata": {},
   "source": [
    "<font size=6>Some Important Series Methods"
   ]
  },
  {
   "cell_type": "markdown",
   "id": "dd036c2c",
   "metadata": {},
   "source": [
    "<font size=5>***astype()***"
   ]
  },
  {
   "cell_type": "markdown",
   "id": "1ac54c5f",
   "metadata": {},
   "source": [
    "<font size=4>The astype() method is used to cast a Pandas object to a specified data type."
   ]
  },
  {
   "cell_type": "code",
   "execution_count": 4,
   "id": "1ce84d5d",
   "metadata": {},
   "outputs": [
    {
     "name": "stdout",
     "output_type": "stream",
     "text": [
      "0    1\n",
      "1    2\n",
      "2    3\n",
      "dtype: int32\n"
     ]
    }
   ],
   "source": [
    "# Create a Series\n",
    "s = pd.Series(['1', '2', '3'])\n",
    "\n",
    "# Convert to integer type\n",
    "s = s.astype(int)\n",
    "print(s)\n"
   ]
  },
  {
   "cell_type": "markdown",
   "id": "51f6ef06",
   "metadata": {},
   "source": [
    "<font size=5>***between()***"
   ]
  },
  {
   "cell_type": "markdown",
   "id": "a9716be8",
   "metadata": {},
   "source": [
    "<font size=4>Filters the Series to check if values fall within a specified range."
   ]
  },
  {
   "cell_type": "code",
   "execution_count": 5,
   "id": "7de5b782",
   "metadata": {},
   "outputs": [
    {
     "name": "stdout",
     "output_type": "stream",
     "text": [
      "1    2\n",
      "2    3\n",
      "3    4\n",
      "dtype: int64\n"
     ]
    }
   ],
   "source": [
    "# Create a Series\n",
    "s = pd.Series([1, 2, 3, 4, 5])\n",
    "\n",
    "# Filter values between 2 and 4\n",
    "filtered = s[s.between(2, 4)]\n",
    "print(filtered)\n"
   ]
  },
  {
   "cell_type": "markdown",
   "id": "5427ca7d",
   "metadata": {},
   "source": [
    "<font size=5>***clip()***"
   ]
  },
  {
   "cell_type": "markdown",
   "id": "967cbf44",
   "metadata": {},
   "source": [
    "<font size=4>Limits the values in the Series to a specified range."
   ]
  },
  {
   "cell_type": "code",
   "execution_count": 6,
   "id": "f9abf874",
   "metadata": {},
   "outputs": [
    {
     "name": "stdout",
     "output_type": "stream",
     "text": [
      "0    2\n",
      "1    2\n",
      "2    3\n",
      "3    4\n",
      "4    4\n",
      "dtype: int64\n"
     ]
    }
   ],
   "source": [
    "# Create a Series\n",
    "s = pd.Series([1, 2, 3, 4, 5])\n",
    "\n",
    "# Clip values to be between 2 and 4\n",
    "clipped = s.clip(lower=2, upper=4)\n",
    "print(clipped)\n"
   ]
  },
  {
   "cell_type": "markdown",
   "id": "dd6a9c98",
   "metadata": {},
   "source": [
    "<font size=5>***drop_duplicates()***"
   ]
  },
  {
   "cell_type": "markdown",
   "id": "b52e0bfd",
   "metadata": {},
   "source": [
    "<font size=4>Removes duplicate values from the Series."
   ]
  },
  {
   "cell_type": "code",
   "execution_count": 7,
   "id": "7f3333a6",
   "metadata": {},
   "outputs": [
    {
     "name": "stdout",
     "output_type": "stream",
     "text": [
      "0    1\n",
      "2    2\n",
      "3    3\n",
      "dtype: int64\n"
     ]
    }
   ],
   "source": [
    "# Create a Series with duplicates\n",
    "s = pd.Series([1, 1, 2, 3, 3])\n",
    "\n",
    "# Drop duplicates\n",
    "unique = s.drop_duplicates()\n",
    "print(unique)\n"
   ]
  },
  {
   "cell_type": "markdown",
   "id": "53127c4d",
   "metadata": {},
   "source": [
    "<font size=5>***isnull()***"
   ]
  },
  {
   "cell_type": "markdown",
   "id": "a9f3ed7d",
   "metadata": {},
   "source": [
    "<font size=4>Detects missing values (NaN) in the Series."
   ]
  },
  {
   "cell_type": "code",
   "execution_count": 8,
   "id": "56dc05cc",
   "metadata": {},
   "outputs": [
    {
     "name": "stdout",
     "output_type": "stream",
     "text": [
      "0    False\n",
      "1     True\n",
      "2    False\n",
      "dtype: bool\n"
     ]
    }
   ],
   "source": [
    "# Create a Series with a missing value\n",
    "s = pd.Series([1, None, 3])\n",
    "\n",
    "# Check for null values\n",
    "null_mask = s.isnull()\n",
    "print(null_mask)\n"
   ]
  },
  {
   "cell_type": "markdown",
   "id": "3226ecc8",
   "metadata": {},
   "source": [
    "<font size=5>***dropna()***"
   ]
  },
  {
   "cell_type": "markdown",
   "id": "09107489",
   "metadata": {},
   "source": [
    "<font size=4>Removes missing values from the Series."
   ]
  },
  {
   "cell_type": "code",
   "execution_count": 9,
   "id": "fec0d9c4",
   "metadata": {},
   "outputs": [
    {
     "name": "stdout",
     "output_type": "stream",
     "text": [
      "0    1.0\n",
      "2    3.0\n",
      "dtype: float64\n"
     ]
    }
   ],
   "source": [
    "# Create a Series with missing values\n",
    "s = pd.Series([1, None, 3])\n",
    "\n",
    "# Drop missing values\n",
    "cleaned = s.dropna()\n",
    "print(cleaned)\n"
   ]
  },
  {
   "cell_type": "markdown",
   "id": "466d21fb",
   "metadata": {},
   "source": [
    "<font size=5>***fillna()***"
   ]
  },
  {
   "cell_type": "markdown",
   "id": "3bbeb463",
   "metadata": {},
   "source": [
    "<font size=4>Replaces missing values with a specified value."
   ]
  },
  {
   "cell_type": "code",
   "execution_count": 10,
   "id": "a1c96eac",
   "metadata": {},
   "outputs": [
    {
     "name": "stdout",
     "output_type": "stream",
     "text": [
      "0    1.0\n",
      "1    0.0\n",
      "2    3.0\n",
      "dtype: float64\n"
     ]
    }
   ],
   "source": [
    "# Create a Series with a missing value\n",
    "s = pd.Series([1, None, 3])\n",
    "\n",
    "# Fill missing values with 0\n",
    "filled = s.fillna(0)\n",
    "print(filled)\n"
   ]
  },
  {
   "cell_type": "markdown",
   "id": "909e871f",
   "metadata": {},
   "source": [
    "<font size=5>***isin()***"
   ]
  },
  {
   "cell_type": "markdown",
   "id": "757c7d4b",
   "metadata": {},
   "source": [
    "<font size=4>Checks if elements in the Series are contained in a specified list."
   ]
  },
  {
   "cell_type": "code",
   "execution_count": 11,
   "id": "5a7752f3",
   "metadata": {},
   "outputs": [
    {
     "name": "stdout",
     "output_type": "stream",
     "text": [
      "0    1\n",
      "2    3\n",
      "dtype: int64\n"
     ]
    }
   ],
   "source": [
    "# Create a Series\n",
    "s = pd.Series([1, 2, 3, 4])\n",
    "\n",
    "# Check if values are in the list [1, 3]\n",
    "mask = s.isin([1, 3])\n",
    "print(s[mask])\n"
   ]
  },
  {
   "cell_type": "markdown",
   "id": "81c793b0",
   "metadata": {},
   "source": [
    "<font size=5>***apply()***"
   ]
  },
  {
   "cell_type": "markdown",
   "id": "e1feb18e",
   "metadata": {},
   "source": [
    "<font size=4>Applies a function to each element in the Series."
   ]
  },
  {
   "cell_type": "code",
   "execution_count": 13,
   "id": "1c84b4cd",
   "metadata": {},
   "outputs": [
    {
     "name": "stdout",
     "output_type": "stream",
     "text": [
      "0    1\n",
      "1    4\n",
      "2    9\n",
      "dtype: int64\n"
     ]
    }
   ],
   "source": [
    "# Create a Series\n",
    "s = pd.Series([1, 2, 3])\n",
    "\n",
    "# Apply a function to square each value\n",
    "squared = s.apply(lambda x: x ** 2)\n",
    "print(squared)\n"
   ]
  },
  {
   "cell_type": "markdown",
   "id": "5fbc8c22",
   "metadata": {},
   "source": [
    "<font size=5>***copy()***"
   ]
  },
  {
   "cell_type": "markdown",
   "id": "5d43043a",
   "metadata": {},
   "source": [
    "<font size=4>Creates a copy of the Series."
   ]
  },
  {
   "cell_type": "code",
   "execution_count": 14,
   "id": "5def8a95",
   "metadata": {},
   "outputs": [
    {
     "name": "stdout",
     "output_type": "stream",
     "text": [
      "Original Series:\n",
      "0    10\n",
      "1     2\n",
      "2     3\n",
      "dtype: int64\n",
      "\n",
      "Copied Series:\n",
      "0    1\n",
      "1    2\n",
      "2    3\n",
      "dtype: int64\n"
     ]
    }
   ],
   "source": [
    "# Create a Series\n",
    "s = pd.Series([1, 2, 3])\n",
    "\n",
    "# Create a copy of the Series\n",
    "s_copy = s.copy()\n",
    "\n",
    "# Modify the original Series\n",
    "s[0] = 10\n",
    "\n",
    "print(\"Original Series:\")\n",
    "print(s)\n",
    "print(\"\\nCopied Series:\")\n",
    "print(s_copy)\n"
   ]
  }
 ],
 "metadata": {
  "kernelspec": {
   "display_name": "Python 3",
   "language": "python",
   "name": "python3"
  },
  "language_info": {
   "codemirror_mode": {
    "name": "ipython",
    "version": 3
   },
   "file_extension": ".py",
   "mimetype": "text/x-python",
   "name": "python",
   "nbconvert_exporter": "python",
   "pygments_lexer": "ipython3",
   "version": "3.12.3"
  }
 },
 "nbformat": 4,
 "nbformat_minor": 5
}
