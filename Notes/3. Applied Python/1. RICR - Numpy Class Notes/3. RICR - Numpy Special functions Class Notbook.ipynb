{
  "cells": [
    {
      "cell_type": "markdown",
      "metadata": {},
      "source": [
        "# Numpy Speacial functions"
      ]
    },
    {
      "cell_type": "code",
      "execution_count": 95,
      "metadata": {},
      "outputs": [],
      "source": [
        "import numpy as np"
      ]
    },
    {
      "cell_type": "markdown",
      "metadata": {},
      "source": [
        "## Methods:\n",
        "- sort\n",
        "- append\n",
        "- arange\n",
        "- concatenate\n",
        "- array\n",
        "- unique\n",
        "- expand_dims\n",
        "- where\n",
        "- argmax\n",
        "- argmin\n",
        "- cumsum\n",
        "- cumprod\n",
        "- percentile\n",
        "- median\n",
        "- histogram\n",
        "- corrcoef\n",
        "- flip\n",
        "- put\n",
        "- delete\n",
        "- union1d\n",
        "- intersect1d\n",
        "- setdiff1d\n",
        "- setxor1d\n",
        "- clip"
      ]
    },
    {
      "cell_type": "markdown",
      "metadata": {
        "id": "39-UcmoPggtI"
      },
      "source": [
        "### 1. np.sort\n",
        "\n",
        "Return a sorted copy of an array.\n",
        "\n",
        "Link of documentation -> https://numpy.org/doc/stable/reference/generated/numpy.sort.html"
      ]
    },
    {
      "cell_type": "code",
      "execution_count": 5,
      "metadata": {
        "colab": {
          "base_uri": "https://localhost:8080/"
        },
        "id": "vJUzuaz7gqTr",
        "outputId": "85648c71-da44-4293-eb87-425b773d9f2b"
      },
      "outputs": [],
      "source": [
        "# code\n",
        "a = np.random.randint(1,100,15)\n",
        "b = np.random.randint(1,100,24).reshape(6,4)"
      ]
    },
    {
      "cell_type": "code",
      "execution_count": 6,
      "metadata": {
        "colab": {
          "base_uri": "https://localhost:8080/"
        },
        "id": "Dfer5zY9-HaK",
        "outputId": "0f0517ca-f270-4676-c5ce-82bf78164576"
      },
      "outputs": [
        {
          "name": "stdout",
          "output_type": "stream",
          "text": [
            "[70 18 81 21 30 41  7 48  7 84 95 26 37 18  5]\n",
            "[[84 31 29  8]\n",
            " [71 73  1 15]\n",
            " [85 46  5 99]\n",
            " [63 66  8 55]\n",
            " [18 83 15 42]\n",
            " [10 13 31 88]]\n"
          ]
        }
      ],
      "source": [
        "print(a)\n",
        "print(b)"
      ]
    },
    {
      "cell_type": "code",
      "execution_count": 7,
      "metadata": {
        "colab": {
          "base_uri": "https://localhost:8080/"
        },
        "id": "dyjeU-C6KznM",
        "outputId": "da3b404c-b198-4e62-b744-69f63cdea54a"
      },
      "outputs": [],
      "source": [
        "# np.sort()"
      ]
    },
    {
      "cell_type": "code",
      "execution_count": 8,
      "metadata": {
        "colab": {
          "base_uri": "https://localhost:8080/"
        },
        "id": "9fAdd5BWLHsq",
        "outputId": "d1d1e29d-b3b1-42f5-af43-1ca4f0df08f3"
      },
      "outputs": [],
      "source": [
        "# np.sort() -> axis parameter"
      ]
    },
    {
      "cell_type": "markdown",
      "metadata": {
        "id": "W8tttorjgrVf"
      },
      "source": [
        "### 2. np.append\n",
        "\n",
        "The numpy.append() appends values along the mentioned axis at the end of the array\n",
        "\n",
        "Link of documention -> https://numpy.org/doc/stable/reference/generated/numpy.append.html"
      ]
    },
    {
      "cell_type": "code",
      "execution_count": 9,
      "metadata": {
        "colab": {
          "base_uri": "https://localhost:8080/"
        },
        "id": "Y3fHkR1gfd1X",
        "outputId": "212fedd0-686e-42eb-d044-44a04fb41e66"
      },
      "outputs": [],
      "source": [
        "# np.append()"
      ]
    },
    {
      "cell_type": "code",
      "execution_count": null,
      "metadata": {},
      "outputs": [],
      "source": [
        "# append one element"
      ]
    },
    {
      "cell_type": "code",
      "execution_count": 10,
      "metadata": {
        "colab": {
          "base_uri": "https://localhost:8080/"
        },
        "id": "LsIvCKQ5L-DB",
        "outputId": "79a6a4f6-b7e1-44ae-8add-d94305396e0f"
      },
      "outputs": [],
      "source": [
        "# np.append() -> axis parameter (append multiple elements row and column wise)"
      ]
    },
    {
      "cell_type": "markdown",
      "metadata": {
        "id": "meIMn8T9g5-m"
      },
      "source": [
        "### 3. np.concatenate\n",
        "\n",
        "numpy.concatenate() function concatenate a sequence of arrays along an existing axis.\n",
        "\n",
        "https://numpy.org/doc/stable/reference/generated/numpy.concatenate.html"
      ]
    },
    {
      "cell_type": "code",
      "execution_count": 11,
      "metadata": {
        "colab": {
          "base_uri": "https://localhost:8080/"
        },
        "id": "Nrj1_QXfWZlV",
        "outputId": "5c60e20d-f4a2-40b8-e7ce-f0a5019225c8"
      },
      "outputs": [
        {
          "name": "stdout",
          "output_type": "stream",
          "text": [
            "[[0 1 2]\n",
            " [3 4 5]]\n",
            "[[ 6  7  8]\n",
            " [ 9 10 11]]\n"
          ]
        }
      ],
      "source": [
        "# code\n",
        "c = np.arange(6).reshape(2,3)\n",
        "d = np.arange(6,12).reshape(2,3)\n",
        "\n",
        "print(c)\n",
        "print(d)"
      ]
    },
    {
      "cell_type": "code",
      "execution_count": 12,
      "metadata": {
        "colab": {
          "base_uri": "https://localhost:8080/"
        },
        "id": "fDHBrV7VA4yz",
        "outputId": "832c4406-2b60-4e17-faa0-5008e109eb95"
      },
      "outputs": [],
      "source": [
        "# np.concatenate()   # axis=0"
      ]
    },
    {
      "cell_type": "code",
      "execution_count": 13,
      "metadata": {
        "colab": {
          "base_uri": "https://localhost:8080/"
        },
        "id": "GN9DnJ65Mr_b",
        "outputId": "6710e353-cd19-4376-8bd8-a38b7dbadc5a"
      },
      "outputs": [],
      "source": [
        "# np.concatenate()   # axis=1"
      ]
    },
    {
      "cell_type": "markdown",
      "metadata": {
        "id": "oHGFqHcohFtB"
      },
      "source": [
        "### 4. np.unique\n",
        "\n",
        "With the help of np.unique() method, we can get the unique values from an array given as parameter in np.unique() method.\n",
        "\n",
        "https://numpy.org/doc/stable/reference/generated/numpy.unique.html/"
      ]
    },
    {
      "cell_type": "code",
      "execution_count": null,
      "metadata": {
        "id": "NvG0KHpNWdN_"
      },
      "outputs": [],
      "source": [
        "# np.unique()"
      ]
    },
    {
      "cell_type": "markdown",
      "metadata": {
        "id": "Wki2yOXaEZV3"
      },
      "source": [
        "### 5. np.expand_dims\n",
        "\n",
        "With the help of Numpy.expand_dims() method, we can get the expanded dimensions of an array\n",
        "\n",
        "https://numpy.org/doc/stable/reference/generated/numpy.expand_dims.html"
      ]
    },
    {
      "cell_type": "code",
      "execution_count": 35,
      "metadata": {
        "colab": {
          "base_uri": "https://localhost:8080/"
        },
        "id": "Pyvf-oZ0XTvr",
        "outputId": "3d75c6c4-8019-4d36-d29a-ebf0a213f3ef"
      },
      "outputs": [
        {
          "name": "stdout",
          "output_type": "stream",
          "text": [
            "[12 13 14 15 16 17 18]\n",
            "(7,)\n"
          ]
        }
      ],
      "source": [
        "# code\n",
        "arr = np.arange(12,19)\n",
        "print(arr)\n",
        "print(arr.shape)"
      ]
    },
    {
      "cell_type": "code",
      "execution_count": 17,
      "metadata": {},
      "outputs": [],
      "source": [
        "# axis=0"
      ]
    },
    {
      "cell_type": "code",
      "execution_count": 18,
      "metadata": {},
      "outputs": [],
      "source": [
        "# axis=1"
      ]
    },
    {
      "cell_type": "markdown",
      "metadata": {
        "id": "_HmpYNTFERjS"
      },
      "source": [
        "### 6. np.where\n",
        "\n",
        "The numpy.where() function returns the indices of elements in an input array where the given condition is satisfied.\n",
        "\n",
        "https://numpy.org/doc/stable/reference/generated/numpy.where.html"
      ]
    },
    {
      "cell_type": "code",
      "execution_count": null,
      "metadata": {
        "colab": {
          "base_uri": "https://localhost:8080/"
        },
        "id": "H8k_ZDXjEo5W",
        "outputId": "688a96ee-b66c-48b7-8778-b502d489c82b"
      },
      "outputs": [
        {
          "data": {
            "text/plain": [
              "array([11, 53, 28, 50, 38, 37, 94, 92,  5, 30, 68,  9, 78,  2, 21])"
            ]
          },
          "execution_count": 138,
          "metadata": {},
          "output_type": "execute_result"
        }
      ],
      "source": [
        "a"
      ]
    },
    {
      "cell_type": "code",
      "execution_count": 38,
      "metadata": {
        "colab": {
          "base_uri": "https://localhost:8080/"
        },
        "id": "n9mkvdFdHGLY",
        "outputId": "f39b8dd3-bbe4-4dc6-941d-03add9d30b08"
      },
      "outputs": [],
      "source": [
        "# find all indices with value greater than 30\n",
        "\n",
        "# np.where()"
      ]
    },
    {
      "cell_type": "code",
      "execution_count": 39,
      "metadata": {
        "colab": {
          "base_uri": "https://localhost:8080/"
        },
        "id": "zJAUufBOHcu1",
        "outputId": "56606439-1fe7-4f41-defa-e95663463b7a"
      },
      "outputs": [],
      "source": [
        "# replace all values > 30 with -1 using only where()\n"
      ]
    },
    {
      "cell_type": "markdown",
      "metadata": {
        "id": "jsGIGNtCIS5-"
      },
      "source": [
        "### 7. np.argmax\n",
        "\n",
        "The numpy.argmax() function returns indices of the max element of the array in a particular axis.\n",
        "\n",
        "https://numpy.org/doc/stable/reference/generated/numpy.argmax.html"
      ]
    },
    {
      "cell_type": "code",
      "execution_count": 40,
      "metadata": {
        "colab": {
          "base_uri": "https://localhost:8080/"
        },
        "id": "435CD24aIpNA",
        "outputId": "d084240d-6966-4a42-9d98-2d285e69dc3a"
      },
      "outputs": [],
      "source": [
        "# np.argmax()   # axis=0"
      ]
    },
    {
      "cell_type": "code",
      "execution_count": 41,
      "metadata": {
        "colab": {
          "base_uri": "https://localhost:8080/"
        },
        "id": "PBuZH3mbQE1U",
        "outputId": "1f76fb63-e7d8-4593-de4c-1282c2ca8c9c"
      },
      "outputs": [],
      "source": [
        "# np.argmax()   # axis=1"
      ]
    },
    {
      "cell_type": "markdown",
      "metadata": {},
      "source": [
        "### 8. np.argmin"
      ]
    },
    {
      "cell_type": "code",
      "execution_count": 42,
      "metadata": {},
      "outputs": [],
      "source": [
        "# np.argmin()"
      ]
    },
    {
      "cell_type": "markdown",
      "metadata": {
        "id": "1OdKi27pa091"
      },
      "source": [
        "### 9. np.cumsum\n",
        "\n",
        "numpy.cumsum() function is used when we want to compute the cumulative sum of array elements over a given axis.\n",
        "\n",
        "https://numpy.org/doc/stable/reference/generated/numpy.cumsum.html"
      ]
    },
    {
      "cell_type": "code",
      "execution_count": 43,
      "metadata": {
        "colab": {
          "base_uri": "https://localhost:8080/"
        },
        "id": "O0npD0R_RF-A",
        "outputId": "6bdbba06-e6f5-4ff0-8a7c-12c6ccd82f8b"
      },
      "outputs": [],
      "source": [
        "# np.cumsum() -> array\n"
      ]
    },
    {
      "cell_type": "code",
      "execution_count": 44,
      "metadata": {},
      "outputs": [],
      "source": [
        "# np.cumsum() -> matrix\n"
      ]
    },
    {
      "cell_type": "code",
      "execution_count": 45,
      "metadata": {
        "colab": {
          "base_uri": "https://localhost:8080/"
        },
        "id": "WXRZyWT9RTMw",
        "outputId": "325ecfe7-d7e7-4c0c-8f12-1f4fb464ccaa"
      },
      "outputs": [],
      "source": [
        "# np.cumsum()   # axis=1\n"
      ]
    },
    {
      "cell_type": "code",
      "execution_count": 46,
      "metadata": {},
      "outputs": [],
      "source": [
        "# np.cumsum()   # axis=0\n"
      ]
    },
    {
      "cell_type": "markdown",
      "metadata": {},
      "source": [
        "### 10. np.cumprod"
      ]
    },
    {
      "cell_type": "code",
      "execution_count": 47,
      "metadata": {
        "colab": {
          "base_uri": "https://localhost:8080/"
        },
        "id": "RtGuPGr9WlVV",
        "outputId": "6adf6a7d-815f-4b94-d5fc-f85366c5d227"
      },
      "outputs": [],
      "source": [
        "# np.cumprod()\n"
      ]
    },
    {
      "cell_type": "markdown",
      "metadata": {
        "id": "SIuRwLMjcnOl"
      },
      "source": [
        "### 11. np.percentile\n",
        "\n",
        "numpy.percentile()function used to compute the nth percentile of the given data (array elements) along the specified axis.\n",
        "\n",
        "https://numpy.org/doc/stable/reference/generated/numpy.percentile.html"
      ]
    },
    {
      "cell_type": "code",
      "execution_count": 49,
      "metadata": {
        "colab": {
          "base_uri": "https://localhost:8080/"
        },
        "id": "gBH8ZvtrSND9",
        "outputId": "baee8f9f-e1bd-40dd-ffd6-c50b5660c975"
      },
      "outputs": [],
      "source": [
        "# np.percentile()\n"
      ]
    },
    {
      "cell_type": "code",
      "execution_count": 48,
      "metadata": {
        "colab": {
          "base_uri": "https://localhost:8080/"
        },
        "id": "KLIhMJSTScTy",
        "outputId": "62d539c9-0d48-4791-d269-752469424313"
      },
      "outputs": [],
      "source": [
        "# np.median(arr) and np.percentile(arr,50) gives same output\n"
      ]
    },
    {
      "cell_type": "markdown",
      "metadata": {
        "id": "2C6nGaJHev5N"
      },
      "source": [
        "### 12. np.histogram\n",
        "\n",
        "Numpy has a built-in numpy.histogram() function which represents the frequency of data distribution in the graphical form.\n",
        "\n",
        "https://numpy.org/doc/stable/reference/generated/numpy.histogram.html"
      ]
    },
    {
      "cell_type": "code",
      "execution_count": 50,
      "metadata": {
        "colab": {
          "base_uri": "https://localhost:8080/"
        },
        "id": "wZlQuOFpSbE3",
        "outputId": "03276c6f-0c91-4872-c74c-902092e7925d"
      },
      "outputs": [],
      "source": [
        "# np.histogram() \n"
      ]
    },
    {
      "cell_type": "code",
      "execution_count": 51,
      "metadata": {},
      "outputs": [],
      "source": [
        "# -> bins parameter"
      ]
    },
    {
      "cell_type": "markdown",
      "metadata": {
        "id": "JxgMS0Zef8oQ"
      },
      "source": [
        "### 13. np.corrcoef\n",
        "\n",
        "Return Pearson product-moment correlation coefficients.\n",
        "\n",
        "https://numpy.org/doc/stable/reference/generated/numpy.corrcoef.html"
      ]
    },
    {
      "cell_type": "code",
      "execution_count": 52,
      "metadata": {
        "colab": {
          "base_uri": "https://localhost:8080/"
        },
        "id": "ZAMnvEm5WyUp",
        "outputId": "0445bb77-29e1-49e2-f07e-656e33f9b70d"
      },
      "outputs": [],
      "source": [
        "Marks = np.array([80,90,99,20,5])\n",
        "atterndence = np.array([60,50,25,80,90])\n",
        "\n",
        "# np.corrcoef()"
      ]
    },
    {
      "cell_type": "markdown",
      "metadata": {
        "id": "Ot4h1PdGh-vI"
      },
      "source": [
        "### 14. np.isin\n",
        "\n",
        "With the help of numpy.isin() method, we can see that one array having values are checked in a different numpy array having different elements with different sizes.\n",
        "\n",
        "https://numpy.org/doc/stable/reference/generated/numpy.isin.html"
      ]
    },
    {
      "cell_type": "code",
      "execution_count": 55,
      "metadata": {
        "colab": {
          "base_uri": "https://localhost:8080/"
        },
        "id": "oyyVo0qnW2Cz",
        "outputId": "37417575-e23f-425e-d617-76cfb848da40"
      },
      "outputs": [],
      "source": [
        "# np.isin()\n"
      ]
    },
    {
      "cell_type": "code",
      "execution_count": 56,
      "metadata": {
        "colab": {
          "base_uri": "https://localhost:8080/"
        },
        "id": "lLA0c9z2VE3O",
        "outputId": "9e53c0d3-a425-4197-dbbd-53831e391a12"
      },
      "outputs": [],
      "source": [
        "sample = [10,20,30,40,50,60,70,80,90,100]\n",
        "\n",
        "# arr[np.isin(arr,sample)]"
      ]
    },
    {
      "cell_type": "markdown",
      "metadata": {
        "id": "8VKXXRjmicT-"
      },
      "source": [
        "### 15. np.flip\n",
        "\n",
        "The numpy.flip() function reverses the order of array elements along the specified axis, preserving the shape of the array.\n",
        "\n",
        "https://numpy.org/doc/stable/reference/generated/numpy.flip.html"
      ]
    },
    {
      "cell_type": "code",
      "execution_count": 64,
      "metadata": {
        "colab": {
          "base_uri": "https://localhost:8080/"
        },
        "id": "82l_pzDbVfNp",
        "outputId": "ab7282bc-5857-4c51-9f78-feda9252233e"
      },
      "outputs": [
        {
          "data": {
            "text/plain": [
              "array([45, 46, 47, 48, 49, 50, 51, 52, 53, 54])"
            ]
          },
          "execution_count": 64,
          "metadata": {},
          "output_type": "execute_result"
        }
      ],
      "source": [
        "# np.flip()    # for array\n",
        "\n",
        "arr1 = np.arange(45,55)\n",
        "arr1"
      ]
    },
    {
      "cell_type": "code",
      "execution_count": 68,
      "metadata": {
        "colab": {
          "base_uri": "https://localhost:8080/"
        },
        "id": "nWp3PQ87Vkin",
        "outputId": "1f8ef30d-846d-47f2-bdd8-0dcefc7312e2"
      },
      "outputs": [
        {
          "data": {
            "text/plain": [
              "array([[45, 46, 47, 48, 49],\n",
              "       [50, 51, 52, 53, 54],\n",
              "       [55, 56, 57, 58, 59]])"
            ]
          },
          "execution_count": 68,
          "metadata": {},
          "output_type": "execute_result"
        }
      ],
      "source": [
        "# np.flip()    # for matrix\n",
        "\n",
        "arr2 = np.arange(45,60).reshape(3,5)\n",
        "arr2"
      ]
    },
    {
      "cell_type": "code",
      "execution_count": 59,
      "metadata": {
        "colab": {
          "base_uri": "https://localhost:8080/"
        },
        "id": "UOU3WOBwVm59",
        "outputId": "a67d4005-b585-4977-9916-3b3a177a5410"
      },
      "outputs": [],
      "source": [
        "# np.flip()    # axis=1\n"
      ]
    },
    {
      "cell_type": "code",
      "execution_count": 60,
      "metadata": {},
      "outputs": [],
      "source": [
        "# np.flip()    # axis=0\n"
      ]
    },
    {
      "cell_type": "markdown",
      "metadata": {
        "id": "n7jTKF2QjIz4"
      },
      "source": [
        "### 16. np.put\n",
        "\n",
        "The numpy.put() function replaces specific elements of an array with given values of p_array. Array indexed works on flattened array.\n",
        "\n",
        "https://numpy.org/doc/stable/reference/generated/numpy.put.html"
      ]
    },
    {
      "cell_type": "code",
      "execution_count": 69,
      "metadata": {
        "id": "dtl97d4SWHUG"
      },
      "outputs": [],
      "source": [
        "# np.put()\n"
      ]
    },
    {
      "cell_type": "markdown",
      "metadata": {
        "id": "lYkpJg3kpSWB"
      },
      "source": [
        "### 17. np.delete\n",
        "\n",
        "The numpy.delete() function returns a new array with the deletion of sub-arrays along with the mentioned axis.\n",
        "\n",
        "https://numpy.org/doc/stable/reference/generated/numpy.delete.html"
      ]
    },
    {
      "cell_type": "code",
      "execution_count": 72,
      "metadata": {
        "colab": {
          "base_uri": "https://localhost:8080/"
        },
        "id": "A5Dp974mWeWd",
        "outputId": "b3ef3851-7b46-4a55-8e1b-3a1b77a70cd1"
      },
      "outputs": [],
      "source": [
        "# np.delete()   # one element deletion\n"
      ]
    },
    {
      "cell_type": "code",
      "execution_count": 73,
      "metadata": {},
      "outputs": [],
      "source": [
        "# np.delete()   # multiple element deletion\n"
      ]
    },
    {
      "cell_type": "markdown",
      "metadata": {
        "id": "Ei94MbFbrjvx"
      },
      "source": [
        "### 18. Set functions\n",
        "\n",
        "- np.union1d\n",
        "- np.intersect1d\n",
        "- np.setdiff1d\n",
        "- np.setxor1d\n",
        "- np.in1d"
      ]
    },
    {
      "cell_type": "code",
      "execution_count": null,
      "metadata": {},
      "outputs": [],
      "source": [
        "m = np.array([1,2,3,4,5])\n",
        "n = np.array([3,4,5,6,7])"
      ]
    },
    {
      "cell_type": "code",
      "execution_count": 86,
      "metadata": {
        "colab": {
          "base_uri": "https://localhost:8080/"
        },
        "id": "hHSwzU1irY0f",
        "outputId": "b342e657-f1e1-4421-9447-e261ec0efc36"
      },
      "outputs": [],
      "source": [
        "# np.union1d()"
      ]
    },
    {
      "cell_type": "code",
      "execution_count": 87,
      "metadata": {
        "colab": {
          "base_uri": "https://localhost:8080/"
        },
        "id": "XSIuF3zWXZXP",
        "outputId": "3cb32023-afe2-4b1a-ba36-a7336083e7f6"
      },
      "outputs": [],
      "source": [
        "# np.intersect1d()"
      ]
    },
    {
      "cell_type": "code",
      "execution_count": 88,
      "metadata": {
        "colab": {
          "base_uri": "https://localhost:8080/"
        },
        "id": "HhGH8cskXgR5",
        "outputId": "9fe9818f-5d74-4590-e009-707b73f58a41"
      },
      "outputs": [],
      "source": [
        "# np.setdiff1d()"
      ]
    },
    {
      "cell_type": "code",
      "execution_count": 89,
      "metadata": {
        "colab": {
          "base_uri": "https://localhost:8080/"
        },
        "id": "KaZbcTk0XubR",
        "outputId": "7d086410-d76c-4818-e35f-edf0792d54eb"
      },
      "outputs": [],
      "source": [
        "# np.setxor1d()"
      ]
    },
    {
      "cell_type": "code",
      "execution_count": 91,
      "metadata": {
        "colab": {
          "base_uri": "https://localhost:8080/"
        },
        "id": "SqV9rpQ_XzVg",
        "outputId": "ad95c2eb-ed10-46ec-9c99-2a5fa4b3082a"
      },
      "outputs": [],
      "source": [
        "# np.in1d()\n",
        "\n",
        "\n",
        "# m[np.in1d(m,1)]"
      ]
    },
    {
      "cell_type": "markdown",
      "metadata": {
        "id": "uLxS7H2pr-rh"
      },
      "source": [
        "### 19. np.clip\n",
        "\n",
        "numpy.clip() function is used to Clip (limit) the values in an array.\n",
        "\n",
        "https://numpy.org/doc/stable/reference/generated/numpy.clip.html"
      ]
    },
    {
      "cell_type": "code",
      "execution_count": 92,
      "metadata": {
        "colab": {
          "base_uri": "https://localhost:8080/"
        },
        "id": "x08JKAVHYOxF",
        "outputId": "a8ba892e-f2ea-44a3-b48e-9a3996ff81f9"
      },
      "outputs": [],
      "source": [
        "# np.clip() -> parameter: arr_min= , arr_max="
      ]
    },
    {
      "cell_type": "code",
      "execution_count": null,
      "metadata": {
        "id": "INpvUpf9InGT"
      },
      "outputs": [],
      "source": [
        "# 20. np.swapaxes"
      ]
    },
    {
      "cell_type": "code",
      "execution_count": null,
      "metadata": {
        "id": "AEFIFE1vJXDA"
      },
      "outputs": [],
      "source": [
        "# 21. np.uniform"
      ]
    },
    {
      "cell_type": "code",
      "execution_count": null,
      "metadata": {
        "id": "y7M0rggRKBIu"
      },
      "outputs": [],
      "source": [
        "# 22. np.count_nonzero"
      ]
    },
    {
      "cell_type": "code",
      "execution_count": null,
      "metadata": {
        "id": "Qy0-pdlOK9tC"
      },
      "outputs": [],
      "source": [
        "# 23. np.tile\n",
        "# https://www.kaggle.com/code/abhayparashar31/best-numpy-functions-for-data-science-50?scriptVersionId=98816580"
      ]
    },
    {
      "cell_type": "code",
      "execution_count": null,
      "metadata": {
        "id": "5DAEz6cbIdga"
      },
      "outputs": [],
      "source": [
        "# 24. np.repeat\n",
        "# https://towardsdatascience.com/10-numpy-functions-you-should-know-1dc4863764c5"
      ]
    },
    {
      "cell_type": "code",
      "execution_count": 94,
      "metadata": {
        "id": "DdLxDfsMNfz8"
      },
      "outputs": [],
      "source": [
        "# 25. np.allclose and equals"
      ]
    },
    {
      "cell_type": "code",
      "execution_count": null,
      "metadata": {},
      "outputs": [],
      "source": []
    }
  ],
  "metadata": {
    "colab": {
      "provenance": []
    },
    "kernelspec": {
      "display_name": "Python 3",
      "name": "python3"
    },
    "language_info": {
      "codemirror_mode": {
        "name": "ipython",
        "version": 3
      },
      "file_extension": ".py",
      "mimetype": "text/x-python",
      "name": "python",
      "nbconvert_exporter": "python",
      "pygments_lexer": "ipython3",
      "version": "3.12.3"
    }
  },
  "nbformat": 4,
  "nbformat_minor": 0
}
