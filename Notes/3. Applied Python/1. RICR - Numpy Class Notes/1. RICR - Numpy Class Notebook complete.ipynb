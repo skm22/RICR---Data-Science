{
 "cells": [
  {
   "cell_type": "markdown",
   "id": "a4a06784",
   "metadata": {},
   "source": [
    "<font size=7><b> Numpy"
   ]
  },
  {
   "cell_type": "markdown",
   "id": "5d46005f",
   "metadata": {},
   "source": [
    "<font size=6> *What is NumPy?*"
   ]
  },
  {
   "cell_type": "markdown",
   "id": "bf9f3c59",
   "metadata": {},
   "source": [
    "<font size=4>- NumPy is a Python library used for working with arrays.\n",
    "\n",
    "<font size=4>- It also has functions for working in domain of linear algebra, fourier transform, and matrices.\n",
    "\n",
    "<font size=4>- NumPy was created in 2005 by Travis Oliphant. It is an open source project and you can use it freely.\n",
    "\n",
    "<font size=4>- NumPy stands for Numerical Python."
   ]
  },
  {
   "cell_type": "markdown",
   "id": "38d9d6dc",
   "metadata": {},
   "source": [
    "<font size=6> *Why Use NumPy?*"
   ]
  },
  {
   "cell_type": "markdown",
   "id": "16fbc6b1",
   "metadata": {},
   "source": [
    "<font size=4>-In Python we have lists that serve the purpose of arrays, but they are slow to process.\n",
    "    \n",
    "\n",
    "<font size=4>-NumPy aims to provide an array object that is up to 50x faster than traditional Python lists.\n",
    "\n",
    "<font size=4>-The array object in NumPy is called **ndarray**, it provides a lot of supporting functions that make working with **ndarray** very easy.\n",
    "\n",
    " <font size=4>-Arrays are very frequently used in data science, where speed and resources are very important.</font>"
   ]
  },
  {
   "cell_type": "markdown",
   "id": "2224c374",
   "metadata": {},
   "source": [
    "<font size=6> *Why is NumPy Faster Than Lists?*"
   ]
  },
  {
   "cell_type": "markdown",
   "id": "0dd696fd",
   "metadata": {},
   "source": [
    "<font size=4>-NumPy arrays are stored at one continuous place in memory unlike lists, so processes can access and manipulate them very efficiently.\n",
    "\n",
    "<font size=4>-This behavior is called locality of reference in computer science.\n",
    "\n",
    "<font size=4>-This is the main reason why NumPy is faster than lists. Also it is optimized to work with latest CPU architectures."
   ]
  },
  {
   "cell_type": "markdown",
   "id": "6581606c",
   "metadata": {},
   "source": [
    "<font size=6>*Which Language is NumPy written in?*"
   ]
  },
  {
   "cell_type": "markdown",
   "id": "f7600a8e",
   "metadata": {},
   "source": [
    "<font size=4>NumPy is a Python library and is written partially in Python, but most of the parts that require fast computation are written in C or C++."
   ]
  },
  {
   "cell_type": "markdown",
   "id": "e2fb57f3",
   "metadata": {},
   "source": [
    "<font size=6> *Installation of NumPy*"
   ]
  },
  {
   "cell_type": "markdown",
   "id": "4f6caf76",
   "metadata": {},
   "source": [
    "<font size=4> If you have Python and PIP already installed on a system, then installation of NumPy is very easy.\n",
    "\n",
    "<font size=4> Install it using this command:"
   ]
  },
  {
   "cell_type": "code",
   "execution_count": 1,
   "id": "b0065469",
   "metadata": {},
   "outputs": [
    {
     "name": "stdout",
     "output_type": "stream",
     "text": [
      "Requirement already satisfied: numpy in d:\\anaconda\\lib\\site-packages (1.24.3)\n"
     ]
    }
   ],
   "source": [
    "! pip install numpy"
   ]
  },
  {
   "cell_type": "markdown",
   "id": "181ee2ad",
   "metadata": {},
   "source": [
    "<font size=4>If this command fails, then use a python distribution that already has NumPy installed like, Anaconda, Spyder etc."
   ]
  },
  {
   "cell_type": "markdown",
   "id": "c06281d3",
   "metadata": {},
   "source": [
    "<font size=6> *Import NumPy*"
   ]
  },
  {
   "cell_type": "markdown",
   "id": "352f1fd1",
   "metadata": {},
   "source": [
    "<font size=4>Once NumPy is installed, **import** it in your applications by adding the import keyword:"
   ]
  },
  {
   "cell_type": "code",
   "execution_count": 2,
   "id": "1e737066",
   "metadata": {},
   "outputs": [],
   "source": [
    "import numpy"
   ]
  },
  {
   "cell_type": "markdown",
   "id": "6be59dcf",
   "metadata": {},
   "source": [
    "<font size=6> *NumPy as np*"
   ]
  },
  {
   "cell_type": "markdown",
   "id": "27a2977a",
   "metadata": {},
   "source": [
    "<font size=4>NumPy is usually imported under the **np** alias.\n",
    "    \n",
    "<font size=4>  Create an alias with the **as** keyword while importing:"
   ]
  },
  {
   "cell_type": "code",
   "execution_count": 2,
   "id": "27bfece1",
   "metadata": {},
   "outputs": [],
   "source": [
    "import numpy as np"
   ]
  },
  {
   "cell_type": "markdown",
   "id": "b222cb4b",
   "metadata": {},
   "source": [
    "<font size=6> *Creating an array*"
   ]
  },
  {
   "cell_type": "markdown",
   "id": "8147c3eb",
   "metadata": {},
   "source": [
    "<font size=4>NumPy is used to work with arrays. The array object in NumPy is called **ndarray**\n",
    "\n",
    "<font size=4>We can create a NumPy **ndarray** object by using the **array()** function."
   ]
  },
  {
   "cell_type": "code",
   "execution_count": 5,
   "id": "f3f0845a",
   "metadata": {},
   "outputs": [
    {
     "data": {
      "text/plain": [
       "array([1, 2, 3, 4, 5])"
      ]
     },
     "execution_count": 5,
     "metadata": {},
     "output_type": "execute_result"
    }
   ],
   "source": [
    "# Using array function to create an array.\n",
    "\n",
    "np.array((1, 2, 3, 4, 5))"
   ]
  },
  {
   "cell_type": "code",
   "execution_count": 4,
   "id": "20bf93c1",
   "metadata": {},
   "outputs": [
    {
     "name": "stdout",
     "output_type": "stream",
     "text": [
      "[6.  7.5 8.  0.  1. ]\n"
     ]
    }
   ],
   "source": [
    "data1 = [6,7.5,8,0,1]\n",
    "arr1 = np.array(data1)\n",
    "print(arr1)"
   ]
  },
  {
   "cell_type": "markdown",
   "id": "69d25a9f",
   "metadata": {},
   "source": [
    "<font size=5> ***numpy.arange()***"
   ]
  },
  {
   "cell_type": "markdown",
   "id": "7edcb832",
   "metadata": {},
   "source": [
    "<font size=4>The arange([start,] stop[, step,][, dtype]) : Returns an array with evenly spaced elements as per the interval. The interval mentioned is half-opened i.e. [Start, Stop) "
   ]
  },
  {
   "cell_type": "code",
   "execution_count": null,
   "id": "9c4683ee",
   "metadata": {},
   "outputs": [
    {
     "name": "stdout",
     "output_type": "stream",
     "text": [
      "[0 1 2 3]\n"
     ]
    }
   ],
   "source": [
    "a = np.arange(4)\n",
    "a"
   ]
  },
  {
   "cell_type": "code",
   "execution_count": null,
   "id": "929eabff",
   "metadata": {},
   "outputs": [
    {
     "data": {
      "text/plain": [
       "array([0.50034303, 0.43869076, 0.64937183, 0.48399565])"
      ]
     },
     "metadata": {},
     "output_type": "display_data"
    }
   ],
   "source": [
    "#Creates array with random values\n",
    "a1=np.random.random((4))#creates array with 4 random vals\n",
    "a1"
   ]
  },
  {
   "cell_type": "code",
   "execution_count": null,
   "id": "e90a9a69",
   "metadata": {},
   "outputs": [
    {
     "name": "stdout",
     "output_type": "stream",
     "text": [
      "[0.94364428 0.45366381 0.77078813 0.84968144 0.33012881 0.03830811\n",
      " 0.35020411 0.4997248  0.9193609  0.48061043]\n"
     ]
    }
   ],
   "source": [
    "# Create an array of 10 random floats in the half-open interval [0.0, 1.0)\n",
    "array_random = np.random.random(10)\n",
    "print(array_random)"
   ]
  },
  {
   "cell_type": "code",
   "execution_count": null,
   "id": "67a683e1",
   "metadata": {},
   "outputs": [
    {
     "name": "stdout",
     "output_type": "stream",
     "text": [
      "[[0.50879965 0.88738081 0.48700286 0.04517143]\n",
      " [0.69375601 0.82087005 0.14741679 0.3827137 ]\n",
      " [0.17686659 0.73800149 0.14666863 0.0428239 ]]\n"
     ]
    }
   ],
   "source": [
    "# Create a 2D array of shape (3, 4) with random values\n",
    "array_random_2d = np.random.random((3, 4))\n",
    "print(array_random_2d)\n"
   ]
  },
  {
   "cell_type": "code",
   "execution_count": null,
   "id": "3de7628d",
   "metadata": {},
   "outputs": [
    {
     "name": "stdout",
     "output_type": "stream",
     "text": [
      "[ 2 45 11 38 31 34]\n",
      "\n",
      "[[1 8 2 3]\n",
      " [6 5 0 2]\n",
      " [1 6 1 8]]\n",
      "\n",
      "[[[0 4 0 4 3]\n",
      "  [4 7 1 5 2]\n",
      "  [0 4 3 1 3]\n",
      "  [8 2 9 5 9]]\n",
      "\n",
      " [[1 6 3 4 1]\n",
      "  [7 1 4 5 2]\n",
      "  [9 8 9 8 3]\n",
      "  [8 6 5 1 0]]\n",
      "\n",
      " [[4 6 0 9 5]\n",
      "  [6 4 5 0 4]\n",
      "  [1 3 4 4 8]\n",
      "  [7 8 1 5 0]]]\n"
     ]
    }
   ],
   "source": [
    "x1=np.random.randint(50,size=6)#one dimensional array\n",
    "x2=np.random.randint(10,size=(3,4))#two dimensional array\n",
    "x3=np.random.randint(10,size=(3,4,5))#three dimensional array\n",
    "print(x1)\n",
    "print()\n",
    "print(x2)\n",
    "print()\n",
    "print(x3)"
   ]
  },
  {
   "cell_type": "markdown",
   "id": "7881bdda",
   "metadata": {},
   "source": [
    "<font size=6> *Dimensions in Arrays*"
   ]
  },
  {
   "cell_type": "markdown",
   "id": "1ce7a854",
   "metadata": {},
   "source": [
    "<font size=4>A dimension in arrays is one level of array depth (nested arrays)."
   ]
  },
  {
   "cell_type": "markdown",
   "id": "15c3ee26",
   "metadata": {},
   "source": [
    "<font size=5>***0-D Arrays***"
   ]
  },
  {
   "cell_type": "markdown",
   "id": "d5ad417c",
   "metadata": {},
   "source": [
    "<font size=4>0-D arrays, or Scalars, are the elements in an array. Each value in an array is a 0-D array."
   ]
  },
  {
   "cell_type": "code",
   "execution_count": 6,
   "id": "8a885a79",
   "metadata": {},
   "outputs": [
    {
     "name": "stdout",
     "output_type": "stream",
     "text": [
      "42\n",
      "Dimensions : 0\n"
     ]
    }
   ],
   "source": [
    "arr = np.array(42)\n",
    "print(arr)\n",
    "print('Dimensions :',arr.ndim)"
   ]
  },
  {
   "cell_type": "markdown",
   "id": "8a188a65",
   "metadata": {},
   "source": [
    "<font size=5>***1-D Arrays***"
   ]
  },
  {
   "cell_type": "markdown",
   "id": "f5e9f2c4",
   "metadata": {},
   "source": [
    "<font size=4>An array that has 0-D arrays as its elements is called uni-dimensional or 1-D array.\n",
    "These are the most common and basic arrays."
   ]
  },
  {
   "cell_type": "code",
   "execution_count": 7,
   "id": "bb9188c2",
   "metadata": {},
   "outputs": [
    {
     "name": "stdout",
     "output_type": "stream",
     "text": [
      "[1 2 3 4 5]\n",
      "Dimensions : 1\n"
     ]
    }
   ],
   "source": [
    "arr = np.array([1, 2, 3, 4, 5])\n",
    "print(arr)\n",
    "print('Dimensions :',arr.ndim)"
   ]
  },
  {
   "cell_type": "markdown",
   "id": "3851a30c",
   "metadata": {},
   "source": [
    "<font size=5>***2-D Arrays***"
   ]
  },
  {
   "cell_type": "markdown",
   "id": "2670e055",
   "metadata": {},
   "source": [
    "<font size=4>An array that has 1-D arrays as its elements is called a 2-D array.\n",
    "These are often used to represent matrix or 2nd order tensors."
   ]
  },
  {
   "cell_type": "code",
   "execution_count": 6,
   "id": "8e8538bd",
   "metadata": {},
   "outputs": [
    {
     "name": "stdout",
     "output_type": "stream",
     "text": [
      "[[1 2 3 4]\n",
      " [5 6 7 8]]\n",
      "Dimensions : 2\n"
     ]
    }
   ],
   "source": [
    "#nested sequence will be convertd into a multidimensional array\n",
    "data2=[[1,2,3,4],[5,6,7,8]]\n",
    "arr2=np.array(data2)\n",
    "print(arr2)\n",
    "print('Dimensions :',arr2.ndim)"
   ]
  },
  {
   "cell_type": "markdown",
   "id": "b1d88554",
   "metadata": {},
   "source": [
    "<font size=5>***3-D arrays***"
   ]
  },
  {
   "cell_type": "markdown",
   "id": "4aaa99c1",
   "metadata": {},
   "source": [
    "<font size=4>An array that has 2-D arrays (matrices) as its elements is called 3-D array.\n",
    "These are often used to represent a 3rd order tensor."
   ]
  },
  {
   "cell_type": "code",
   "execution_count": 9,
   "id": "c00071a1",
   "metadata": {},
   "outputs": [
    {
     "name": "stdout",
     "output_type": "stream",
     "text": [
      "[[[1 2 3]\n",
      "  [4 5 6]]\n",
      "\n",
      " [[1 2 3]\n",
      "  [4 5 6]]]\n",
      "Dimensions : 3\n"
     ]
    }
   ],
   "source": [
    "arr3 = np.array([[[1, 2, 3], [4, 5, 6]], [[1, 2, 3], [4, 5, 6]]])\n",
    "print(arr3)\n",
    "print('Dimensions :',arr3.ndim)"
   ]
  },
  {
   "cell_type": "markdown",
   "id": "d7c97484",
   "metadata": {},
   "source": [
    "<font size=5>***Higher Dimensional Arrays***"
   ]
  },
  {
   "cell_type": "markdown",
   "id": "f8e99af6",
   "metadata": {},
   "source": [
    "<font size=4>An array can have any number of dimensions.\n",
    "When the array is created, you can define the number of dimensions by using the **ndmin** argument."
   ]
  },
  {
   "cell_type": "code",
   "execution_count": 8,
   "id": "8a6b91c0",
   "metadata": {},
   "outputs": [
    {
     "name": "stdout",
     "output_type": "stream",
     "text": [
      "[[[[[1 2 3 4]]]]]\n",
      "number of dimensions : 5\n"
     ]
    }
   ],
   "source": [
    "arr = np.array([1, 2, 3, 4], ndmin=5)\n",
    "print(arr)\n",
    "print('number of dimensions :', arr.ndim)"
   ]
  },
  {
   "cell_type": "markdown",
   "id": "89def4aa",
   "metadata": {},
   "source": [
    "<font size=5> ***Random***"
   ]
  },
  {
   "cell_type": "code",
   "execution_count": null,
   "id": "926ac4ba",
   "metadata": {},
   "outputs": [
    {
     "name": "stdout",
     "output_type": "stream",
     "text": [
      "[1.  1.1 1.2 1.3 1.4 1.5 1.6 1.7 1.8 1.9]\n"
     ]
    }
   ],
   "source": [
    "print(np.arange(1, 2, 0.1))"
   ]
  },
  {
   "cell_type": "code",
   "execution_count": null,
   "id": "902edf6b",
   "metadata": {},
   "outputs": [
    {
     "name": "stdout",
     "output_type": "stream",
     "text": [
      "[3 5 7]\n"
     ]
    }
   ],
   "source": [
    "a=np.arange(3,9,2)\n",
    "print(a)"
   ]
  },
  {
   "cell_type": "markdown",
   "id": "24fcf475",
   "metadata": {},
   "source": [
    "<font size=6> *NumPy Array Shape*"
   ]
  },
  {
   "cell_type": "markdown",
   "id": "e98cd973",
   "metadata": {},
   "source": [
    "<font size=4>NumPy arrays have an attribute called ***shape*** that returns a tuple with each index having the number of corresponding elements."
   ]
  },
  {
   "cell_type": "code",
   "execution_count": 10,
   "id": "a5315e5f",
   "metadata": {},
   "outputs": [
    {
     "name": "stdout",
     "output_type": "stream",
     "text": [
      "(2, 4)\n"
     ]
    }
   ],
   "source": [
    "arr = np.array([[1, 2, 3, 4], [5, 6, 7, 8]])\n",
    "print(arr.shape)"
   ]
  },
  {
   "cell_type": "markdown",
   "id": "f7ee5a4b",
   "metadata": {},
   "source": [
    "<font size=4>The example above returns ***(2, 4)***, which means that the array has 2 dimensions, where the first dimension has 2 elements and the second has 4."
   ]
  },
  {
   "cell_type": "markdown",
   "id": "693d3a83",
   "metadata": {},
   "source": [
    "<font size=6> *Reshaping arrays*"
   ]
  },
  {
   "cell_type": "markdown",
   "id": "37296704",
   "metadata": {},
   "source": [
    "<font size=4>-Reshaping means changing the shape of an array.\n",
    "\n",
    "<font size=4>-The shape of an array is the number of elements in each dimension.\n",
    "\n",
    "<font size=4>-By reshaping we can add or remove dimensions or change number of elements in each dimension."
   ]
  },
  {
   "cell_type": "markdown",
   "id": "b57a7eea",
   "metadata": {},
   "source": [
    "<font size=5> ***Reshape From 1-D to 2-D***"
   ]
  },
  {
   "cell_type": "code",
   "execution_count": 12,
   "id": "74684d44",
   "metadata": {
    "scrolled": true
   },
   "outputs": [
    {
     "name": "stdout",
     "output_type": "stream",
     "text": [
      "[[ 1  2  3]\n",
      " [ 4  5  6]\n",
      " [ 7  8  9]\n",
      " [10 11 12]]\n"
     ]
    }
   ],
   "source": [
    "arr = np.array([1, 2, 3, 4, 5, 6, 7, 8, 9, 10, 11, 12]).reshape(4,3)\n",
    "print(arr)"
   ]
  },
  {
   "cell_type": "code",
   "execution_count": 13,
   "id": "35ddb49f",
   "metadata": {},
   "outputs": [
    {
     "name": "stdout",
     "output_type": "stream",
     "text": [
      "[[ 1  2  3  4]\n",
      " [ 5  6  7  8]\n",
      " [ 9 10 11 12]]\n"
     ]
    }
   ],
   "source": [
    "arr = np.array([1, 2, 3, 4, 5, 6, 7, 8, 9, 10, 11, 12]).reshape(3,4)\n",
    "print(arr)"
   ]
  },
  {
   "cell_type": "code",
   "execution_count": 14,
   "id": "e5a5467d",
   "metadata": {},
   "outputs": [
    {
     "name": "stdout",
     "output_type": "stream",
     "text": [
      "[[ 1  2  3  4  5  6]\n",
      " [ 7  8  9 10 11 12]]\n"
     ]
    }
   ],
   "source": [
    "arr = np.array([1, 2, 3, 4, 5, 6, 7, 8, 9, 10, 11, 12])\n",
    "newarr = arr.reshape(2, 6)\n",
    "print(newarr)"
   ]
  },
  {
   "cell_type": "code",
   "execution_count": 15,
   "id": "6e27b9c0",
   "metadata": {},
   "outputs": [
    {
     "name": "stdout",
     "output_type": "stream",
     "text": [
      "[[ 1  2]\n",
      " [ 3  4]\n",
      " [ 5  6]\n",
      " [ 7  8]\n",
      " [ 9 10]\n",
      " [11 12]]\n"
     ]
    }
   ],
   "source": [
    "arr = np.array([1, 2, 3, 4, 5, 6, 7, 8, 9, 10, 11, 12])\n",
    "newarr = arr.reshape(6, 2)\n",
    "print(newarr)"
   ]
  },
  {
   "cell_type": "markdown",
   "id": "86857c14",
   "metadata": {},
   "source": [
    "<font size=5> ***Reshape From 1-D to 3-D***"
   ]
  },
  {
   "cell_type": "code",
   "execution_count": 16,
   "id": "dd750d25",
   "metadata": {
    "scrolled": true
   },
   "outputs": [
    {
     "name": "stdout",
     "output_type": "stream",
     "text": [
      "[[[ 1  2]\n",
      "  [ 3  4]\n",
      "  [ 5  6]]\n",
      "\n",
      " [[ 7  8]\n",
      "  [ 9 10]\n",
      "  [11 12]]]\n"
     ]
    }
   ],
   "source": [
    "arr = np.array([1, 2, 3, 4, 5, 6, 7, 8, 9, 10, 11, 12])\n",
    "newarr = arr.reshape(2, 3, 2)\n",
    "print(newarr)"
   ]
  },
  {
   "cell_type": "code",
   "execution_count": 17,
   "id": "921c081d",
   "metadata": {
    "scrolled": true
   },
   "outputs": [
    {
     "name": "stdout",
     "output_type": "stream",
     "text": [
      "[[[ 1  2]\n",
      "  [ 3  4]]\n",
      "\n",
      " [[ 5  6]\n",
      "  [ 7  8]]\n",
      "\n",
      " [[ 9 10]\n",
      "  [11 12]]]\n"
     ]
    }
   ],
   "source": [
    "arr = np.array([1, 2, 3, 4, 5, 6, 7, 8, 9, 10, 11, 12])\n",
    "newarr = arr.reshape(3, 2, 2)\n",
    "print(newarr)"
   ]
  },
  {
   "cell_type": "code",
   "execution_count": 18,
   "id": "f38ba5d0",
   "metadata": {},
   "outputs": [
    {
     "name": "stdout",
     "output_type": "stream",
     "text": [
      "[[[ 1  2  3]\n",
      "  [ 4  5  6]]\n",
      "\n",
      " [[ 7  8  9]\n",
      "  [10 11 12]]]\n"
     ]
    }
   ],
   "source": [
    "arr = np.array([1, 2, 3, 4, 5, 6, 7, 8, 9, 10, 11, 12])\n",
    "newarr = arr.reshape(2, 2, 3)\n",
    "print(newarr)"
   ]
  },
  {
   "cell_type": "markdown",
   "id": "c702e384",
   "metadata": {},
   "source": [
    "<font size=5> ***Can We Reshape Into any Shape?***"
   ]
  },
  {
   "cell_type": "markdown",
   "id": "813d64b5",
   "metadata": {},
   "source": [
    "<font size=4>-Yes, as long as the elements required for reshaping are equal in both shapes.\n",
    "    \n",
    "<font size=4>-We can reshape an 8 elements 1D array into 4 elements in 2 rows 2D array but we cannot reshape it into a 3 elements 3 rows 2D array as that would require 3x3 = 9 elements.\n",
    "    \n",
    "<font size=4>-Example:-\n",
    "Try converting 1D array with 8 elements to a 2D array with 3 elements in each dimension (will raise an error):"
   ]
  },
  {
   "cell_type": "code",
   "execution_count": 11,
   "id": "3ab450eb",
   "metadata": {},
   "outputs": [
    {
     "ename": "ValueError",
     "evalue": "cannot reshape array of size 8 into shape (3,3)",
     "output_type": "error",
     "traceback": [
      "\u001b[1;31m---------------------------------------------------------------------------\u001b[0m",
      "\u001b[1;31mValueError\u001b[0m                                Traceback (most recent call last)",
      "Cell \u001b[1;32mIn[11], line 2\u001b[0m\n\u001b[0;32m      1\u001b[0m arr \u001b[38;5;241m=\u001b[39m np\u001b[38;5;241m.\u001b[39marray([\u001b[38;5;241m1\u001b[39m, \u001b[38;5;241m2\u001b[39m, \u001b[38;5;241m3\u001b[39m, \u001b[38;5;241m4\u001b[39m, \u001b[38;5;241m5\u001b[39m, \u001b[38;5;241m6\u001b[39m, \u001b[38;5;241m7\u001b[39m, \u001b[38;5;241m8\u001b[39m])\n\u001b[1;32m----> 2\u001b[0m newarr \u001b[38;5;241m=\u001b[39m \u001b[43marr\u001b[49m\u001b[38;5;241;43m.\u001b[39;49m\u001b[43mreshape\u001b[49m\u001b[43m(\u001b[49m\u001b[38;5;241;43m3\u001b[39;49m\u001b[43m,\u001b[49m\u001b[43m \u001b[49m\u001b[38;5;241;43m3\u001b[39;49m\u001b[43m)\u001b[49m\n\u001b[0;32m      3\u001b[0m \u001b[38;5;28mprint\u001b[39m(newarr)\n",
      "\u001b[1;31mValueError\u001b[0m: cannot reshape array of size 8 into shape (3,3)"
     ]
    }
   ],
   "source": [
    "arr = np.array([1, 2, 3, 4, 5, 6, 7, 8])\n",
    "newarr = arr.reshape(3, 3)\n",
    "print(newarr)"
   ]
  },
  {
   "cell_type": "markdown",
   "id": "aab1e060",
   "metadata": {},
   "source": [
    "### Indexing in numpy array"
   ]
  },
  {
   "cell_type": "code",
   "execution_count": 3,
   "id": "28534aab",
   "metadata": {},
   "outputs": [],
   "source": [
    "arr1 = np.arange(10)\n",
    "arr2 = np.arange(12).reshape(3,4)\n",
    "arr3 = np.arange(24).reshape(2,4,3)"
   ]
  },
  {
   "cell_type": "code",
   "execution_count": 7,
   "id": "5085a735",
   "metadata": {},
   "outputs": [
    {
     "data": {
      "text/plain": [
       "array([0, 1, 2, 3, 4, 5, 6, 7, 8, 9])"
      ]
     },
     "execution_count": 7,
     "metadata": {},
     "output_type": "execute_result"
    }
   ],
   "source": [
    "arr1"
   ]
  },
  {
   "cell_type": "code",
   "execution_count": 10,
   "id": "e0579efb",
   "metadata": {},
   "outputs": [
    {
     "name": "stdout",
     "output_type": "stream",
     "text": [
      "0\n",
      "2\n",
      "9\n",
      "5\n"
     ]
    }
   ],
   "source": [
    "# 1D array indexing. -> As with lists , single element indexing is 0-based and accepts negative indices for indexing from end of the array\n",
    "print(arr1[0])\n",
    "print(arr1[2])\n",
    "print(arr1[-1])\n",
    "print(arr1[-5])"
   ]
  },
  {
   "cell_type": "code",
   "execution_count": 20,
   "id": "bbe7ef6d",
   "metadata": {},
   "outputs": [
    {
     "data": {
      "text/plain": [
       "array([[ 0,  1,  2,  3],\n",
       "       [ 4,  5,  6,  7],\n",
       "       [ 8,  9, 10, 11]])"
      ]
     },
     "execution_count": 20,
     "metadata": {},
     "output_type": "execute_result"
    }
   ],
   "source": [
    "arr2"
   ]
  },
  {
   "cell_type": "code",
   "execution_count": 24,
   "id": "a44f03a5",
   "metadata": {},
   "outputs": [
    {
     "name": "stdout",
     "output_type": "stream",
     "text": [
      "6\n",
      "6\n",
      "10\n"
     ]
    }
   ],
   "source": [
    "# 2D array Indexing -> Individual element of a multi-dimensional array are accessed using multiple indices\n",
    "\n",
    "print(arr2[1][2]) # -> accessing an element from 2D array\n",
    "print(arr2[1,2])\n",
    "print(arr2[-1,2])"
   ]
  },
  {
   "cell_type": "code",
   "execution_count": 26,
   "id": "db58f24d",
   "metadata": {},
   "outputs": [
    {
     "data": {
      "text/plain": [
       "array([[[ 0,  1,  2],\n",
       "        [ 3,  4,  5],\n",
       "        [ 6,  7,  8],\n",
       "        [ 9, 10, 11]],\n",
       "\n",
       "       [[12, 13, 14],\n",
       "        [15, 16, 17],\n",
       "        [18, 19, 20],\n",
       "        [21, 22, 23]]])"
      ]
     },
     "execution_count": 26,
     "metadata": {},
     "output_type": "execute_result"
    }
   ],
   "source": [
    "arr3"
   ]
  },
  {
   "cell_type": "code",
   "execution_count": 39,
   "id": "dcf0b314",
   "metadata": {},
   "outputs": [
    {
     "name": "stdout",
     "output_type": "stream",
     "text": [
      "0\n",
      "23\n",
      "20\n",
      "0\n",
      "18\n",
      "13\n"
     ]
    }
   ],
   "source": [
    "# 3D array Indexing \n",
    "\n",
    "print(arr3[0][0][0])\n",
    "print(arr3[1][3][2])\n",
    "print(arr3[-1][-2][-1])\n",
    "\n",
    "# Another way of accessing element in 3D array\n",
    "print(arr3[0,0,0])\n",
    "print(arr3[-1,2,0])\n",
    "print(arr3[-1,0,-2])"
   ]
  },
  {
   "cell_type": "markdown",
   "id": "72dd7184",
   "metadata": {},
   "source": [
    "## Slicing in numpy array"
   ]
  },
  {
   "cell_type": "code",
   "execution_count": 41,
   "id": "006b4f2c",
   "metadata": {},
   "outputs": [
    {
     "data": {
      "text/plain": [
       "array([0, 1, 2, 3, 4, 5, 6, 7, 8, 9])"
      ]
     },
     "execution_count": 41,
     "metadata": {},
     "output_type": "execute_result"
    }
   ],
   "source": [
    "arr1"
   ]
  },
  {
   "cell_type": "code",
   "execution_count": 45,
   "id": "bbb7ef3a",
   "metadata": {},
   "outputs": [
    {
     "name": "stdout",
     "output_type": "stream",
     "text": [
      "[0 1 2 3 4 5 6 7 8 9]\n",
      "[9 8 7 6 5 4 3 2 1 0]\n",
      "[2 4 6 8]\n"
     ]
    }
   ],
   "source": [
    "# Slicing in 1D array (same as python list slicing).\n",
    "print(arr1[::])\n",
    "print(arr1[::-1])\n",
    "print(arr1[2::2])"
   ]
  },
  {
   "cell_type": "code",
   "execution_count": 48,
   "id": "7a722701",
   "metadata": {},
   "outputs": [
    {
     "data": {
      "text/plain": [
       "array([[ 0,  1,  2,  3],\n",
       "       [ 4,  5,  6,  7],\n",
       "       [ 8,  9, 10, 11]])"
      ]
     },
     "execution_count": 48,
     "metadata": {},
     "output_type": "execute_result"
    }
   ],
   "source": [
    "arr2"
   ]
  },
  {
   "cell_type": "code",
   "execution_count": 59,
   "id": "fdecb5a3",
   "metadata": {},
   "outputs": [
    {
     "name": "stdout",
     "output_type": "stream",
     "text": [
      "[0 1 2 3]\n",
      "\n",
      "[0 4 8]\n",
      "\n",
      "[[ 5  6  7]\n",
      " [ 9 10 11]]\n",
      "\n",
      "[[0 1]\n",
      " [8 9]]\n"
     ]
    }
   ],
   "source": [
    "# Slicing in 2D array\n",
    "\n",
    "print(arr2[0,:])\n",
    "print()\n",
    "print(arr2[:,0])\n",
    "print()\n",
    "print(arr2[1:,1:])\n",
    "print()\n",
    "print(arr2[::2,:2:])"
   ]
  },
  {
   "cell_type": "code",
   "execution_count": 61,
   "id": "885f0391",
   "metadata": {},
   "outputs": [
    {
     "data": {
      "text/plain": [
       "array([[[ 0,  1,  2],\n",
       "        [ 3,  4,  5],\n",
       "        [ 6,  7,  8],\n",
       "        [ 9, 10, 11]],\n",
       "\n",
       "       [[12, 13, 14],\n",
       "        [15, 16, 17],\n",
       "        [18, 19, 20],\n",
       "        [21, 22, 23]]])"
      ]
     },
     "execution_count": 61,
     "metadata": {},
     "output_type": "execute_result"
    }
   ],
   "source": [
    "arr3"
   ]
  },
  {
   "cell_type": "code",
   "execution_count": 73,
   "id": "7d20097b",
   "metadata": {},
   "outputs": [
    {
     "name": "stdout",
     "output_type": "stream",
     "text": [
      "[[ 0  1  2]\n",
      " [ 3  4  5]\n",
      " [ 6  7  8]\n",
      " [ 9 10 11]]\n",
      "\n",
      "[0 1 2]\n",
      "\n",
      "[[12 13 14]\n",
      " [15 16 17]\n",
      " [18 19 20]]\n",
      "\n",
      "[[0 2]\n",
      " [3 5]]\n"
     ]
    }
   ],
   "source": [
    "# Slicing in 3D array\n",
    "print(arr3[0],end='\\n\\n')\n",
    "print(arr3[0,0],end='\\n\\n')\n",
    "print(arr3[1,:3],end='\\n\\n')\n",
    "print(arr3[0,:2,::2])"
   ]
  },
  {
   "cell_type": "markdown",
   "id": "559974d9",
   "metadata": {},
   "source": [
    "<font size=7> NumPy Data Types"
   ]
  },
  {
   "cell_type": "markdown",
   "id": "981730e7",
   "metadata": {},
   "source": [
    "<font size=5> ***Data Types in NumPy***"
   ]
  },
  {
   "cell_type": "markdown",
   "id": "75adba1d",
   "metadata": {},
   "source": [
    "<font size=4>NumPy has some extra data types, and refer to data types with one character, like i for integers, u for unsigned integers etc.\n",
    "\n",
    "<font size=4>Below is a list of all data types in NumPy and the characters used to represent them.\n",
    "    \n",
    "<font size=4>***i - integer***\n",
    "\n",
    "<font size=4>***b - boolean***\n",
    "    \n",
    "<font size=4>***u - unsigned integer***\n",
    "    \n",
    "<font size=4>***f - float***\n",
    "    \n",
    "<font size=4>***c - complex float***\n",
    "    \n",
    "<font size=4>***m - timedelta***\n",
    "    \n",
    "<font size=4>***M - datetime***\n",
    "    \n",
    "<font size=4>***O - object***\n",
    "    \n",
    "<font size=4>***S - string***\n",
    "    \n",
    "<font size=4>***U - unicode string***\n",
    "    \n",
    "<font size=4>***V - fixed chunk of memory for other type ( void )***"
   ]
  },
  {
   "cell_type": "markdown",
   "id": "97ad52d5",
   "metadata": {},
   "source": [
    "<font size=5> ***Data Types in NumPy***"
   ]
  },
  {
   "cell_type": "markdown",
   "id": "e470b0c9",
   "metadata": {},
   "source": [
    "<font size=4>The NumPy array object has a property called dtype that returns the data type of the array:"
   ]
  },
  {
   "cell_type": "code",
   "execution_count": 29,
   "id": "5f7d39c0",
   "metadata": {},
   "outputs": [
    {
     "name": "stdout",
     "output_type": "stream",
     "text": [
      "int32\n"
     ]
    }
   ],
   "source": [
    "arr = np.array([1, 2, 3, 4])\n",
    "print(arr.dtype)"
   ]
  },
  {
   "cell_type": "code",
   "execution_count": 20,
   "id": "8b109ec4",
   "metadata": {},
   "outputs": [
    {
     "name": "stdout",
     "output_type": "stream",
     "text": [
      "float64\n"
     ]
    }
   ],
   "source": [
    "arr = np.array([1.0, 2.0, 3.34, 4.534])\n",
    "print(arr.dtype)"
   ]
  },
  {
   "cell_type": "code",
   "execution_count": 21,
   "id": "7f79b03d",
   "metadata": {},
   "outputs": [
    {
     "name": "stdout",
     "output_type": "stream",
     "text": [
      "<U6\n"
     ]
    }
   ],
   "source": [
    "arr = np.array(['apple', 'banana', 'cherry'])\n",
    "print(arr.dtype)"
   ]
  },
  {
   "cell_type": "markdown",
   "id": "b15becf2",
   "metadata": {},
   "source": [
    "<font size=5> ***Creating Arrays With a Defined Data Type***"
   ]
  },
  {
   "cell_type": "markdown",
   "id": "5c49cf7d",
   "metadata": {},
   "source": [
    "<font size=4>We use the **array()** function to create arrays, this function can take an optional argument: **dtype** that allows us to define the expected data type of the array elements:\n",
    "    \n",
    "<font size=4>For **i**, **u**, **f**, **S** and **U** we can define size as well."
   ]
  },
  {
   "cell_type": "code",
   "execution_count": 22,
   "id": "28ae4413",
   "metadata": {},
   "outputs": [
    {
     "name": "stdout",
     "output_type": "stream",
     "text": [
      "[b'1' b'2' b'3' b'4']\n",
      "|S1\n"
     ]
    }
   ],
   "source": [
    "arr = np.array([1, 2, 3, 4], dtype='S')\n",
    "print(arr)\n",
    "print(arr.dtype)"
   ]
  },
  {
   "cell_type": "code",
   "execution_count": 25,
   "id": "bdc96126",
   "metadata": {},
   "outputs": [
    {
     "name": "stdout",
     "output_type": "stream",
     "text": [
      "[1 2 3 4]\n",
      "int16\n"
     ]
    }
   ],
   "source": [
    "arr = np.array([1, 2, 3, 4], dtype='i2')\n",
    "print(arr)\n",
    "print(arr.dtype)"
   ]
  },
  {
   "cell_type": "markdown",
   "id": "7fc3bcdb",
   "metadata": {},
   "source": [
    "<font size=4>If a type is given in which elements can't be casted then NumPy will raise a ValueError."
   ]
  },
  {
   "cell_type": "code",
   "execution_count": 26,
   "id": "0962b87e",
   "metadata": {},
   "outputs": [
    {
     "ename": "ValueError",
     "evalue": "invalid literal for int() with base 10: 'a'",
     "output_type": "error",
     "traceback": [
      "\u001b[1;31m---------------------------------------------------------------------------\u001b[0m",
      "\u001b[1;31mValueError\u001b[0m                                Traceback (most recent call last)",
      "Cell \u001b[1;32mIn[26], line 1\u001b[0m\n\u001b[1;32m----> 1\u001b[0m arr \u001b[38;5;241m=\u001b[39m \u001b[43mnp\u001b[49m\u001b[38;5;241;43m.\u001b[39;49m\u001b[43marray\u001b[49m\u001b[43m(\u001b[49m\u001b[43m[\u001b[49m\u001b[38;5;124;43m'\u001b[39;49m\u001b[38;5;124;43ma\u001b[39;49m\u001b[38;5;124;43m'\u001b[39;49m\u001b[43m,\u001b[49m\u001b[43m \u001b[49m\u001b[38;5;124;43m'\u001b[39;49m\u001b[38;5;124;43m2\u001b[39;49m\u001b[38;5;124;43m'\u001b[39;49m\u001b[43m,\u001b[49m\u001b[43m \u001b[49m\u001b[38;5;124;43m'\u001b[39;49m\u001b[38;5;124;43m3\u001b[39;49m\u001b[38;5;124;43m'\u001b[39;49m\u001b[43m]\u001b[49m\u001b[43m,\u001b[49m\u001b[43m \u001b[49m\u001b[43mdtype\u001b[49m\u001b[38;5;241;43m=\u001b[39;49m\u001b[38;5;124;43m'\u001b[39;49m\u001b[38;5;124;43mi\u001b[39;49m\u001b[38;5;124;43m'\u001b[39;49m\u001b[43m)\u001b[49m\n",
      "\u001b[1;31mValueError\u001b[0m: invalid literal for int() with base 10: 'a'"
     ]
    }
   ],
   "source": [
    "arr = np.array(['a', '2', '3'], dtype='i')"
   ]
  },
  {
   "cell_type": "markdown",
   "id": "31d3bde6",
   "metadata": {},
   "source": [
    "<font size=4>**dtype=np.int8** in NumPy, you're specifying that each element of the array should be stored as an 8-bit signed integer. This data type can represent integers in the range of -128 to 127."
   ]
  },
  {
   "cell_type": "code",
   "execution_count": 73,
   "id": "0f50143d",
   "metadata": {},
   "outputs": [
    {
     "data": {
      "text/plain": [
       "array([ 0,  1,  2,  3,  4,  5,  6,  7,  8,  9, 10, 11, 12, 13, 14, 15, 16,\n",
       "       17, 18, 19, 20, 21, 22, 23, 24, 25, 26, 27, 28, 29, 30, 31, 32, 33,\n",
       "       34, 35, 36, 37, 38, 39], dtype=int8)"
      ]
     },
     "execution_count": 73,
     "metadata": {},
     "output_type": "execute_result"
    }
   ],
   "source": [
    "arr=np.array(range(40),dtype=np.int8)\n",
    "arr"
   ]
  },
  {
   "cell_type": "markdown",
   "id": "7ff8bd67",
   "metadata": {},
   "source": [
    "<font size=4>**dtype=np.uint8** specifies that the data type of the array elements is uint8, which is an 8-bit unsigned integer."
   ]
  },
  {
   "cell_type": "code",
   "execution_count": 76,
   "id": "9ee8a509",
   "metadata": {},
   "outputs": [
    {
     "data": {
      "text/plain": [
       "array([  0,   1,   2,   3,   4,   5,   6,   7,   8,   9,  10,  11,  12,\n",
       "        13,  14,  15,  16,  17,  18,  19,  20,  21,  22,  23,  24,  25,\n",
       "        26,  27,  28,  29,  30,  31,  32,  33,  34,  35,  36,  37,  38,\n",
       "        39,  40,  41,  42,  43,  44,  45,  46,  47,  48,  49,  50,  51,\n",
       "        52,  53,  54,  55,  56,  57,  58,  59,  60,  61,  62,  63,  64,\n",
       "        65,  66,  67,  68,  69,  70,  71,  72,  73,  74,  75,  76,  77,\n",
       "        78,  79,  80,  81,  82,  83,  84,  85,  86,  87,  88,  89,  90,\n",
       "        91,  92,  93,  94,  95,  96,  97,  98,  99, 100, 101, 102, 103,\n",
       "       104, 105, 106, 107, 108, 109, 110, 111, 112, 113, 114, 115, 116,\n",
       "       117, 118, 119, 120, 121, 122, 123, 124, 125, 126, 127, 128, 129,\n",
       "       130, 131, 132, 133, 134, 135, 136, 137, 138, 139, 140, 141, 142,\n",
       "       143, 144, 145, 146, 147, 148, 149, 150, 151, 152, 153, 154, 155,\n",
       "       156, 157, 158, 159, 160, 161, 162, 163, 164, 165, 166, 167, 168,\n",
       "       169, 170, 171, 172, 173, 174, 175, 176, 177, 178, 179, 180, 181,\n",
       "       182, 183, 184, 185, 186, 187, 188, 189, 190, 191, 192, 193, 194,\n",
       "       195, 196, 197, 198, 199, 200, 201, 202, 203, 204, 205, 206, 207,\n",
       "       208, 209, 210, 211, 212, 213, 214, 215, 216, 217, 218, 219, 220,\n",
       "       221, 222, 223, 224, 225, 226, 227, 228, 229, 230, 231, 232, 233,\n",
       "       234, 235, 236, 237, 238, 239, 240, 241, 242, 243, 244, 245, 246,\n",
       "       247, 248, 249, 250, 251, 252, 253, 254, 255], dtype=uint8)"
      ]
     },
     "execution_count": 76,
     "metadata": {},
     "output_type": "execute_result"
    }
   ],
   "source": [
    "arr=np.array(range(256),dtype=np.uint8)\n",
    "arr"
   ]
  },
  {
   "cell_type": "markdown",
   "id": "cc91e2b5",
   "metadata": {},
   "source": [
    "<font size=4>**dtype=np.int_** specifies that the data type of the array elements is **int_**, which is a NumPy integer type."
   ]
  },
  {
   "cell_type": "code",
   "execution_count": 79,
   "id": "3eeab21f",
   "metadata": {},
   "outputs": [
    {
     "name": "stdout",
     "output_type": "stream",
     "text": [
      "[  0   1   2   3   4   5   6   7   8   9  10  11  12  13  14  15  16  17\n",
      "  18  19  20  21  22  23  24  25  26  27  28  29  30  31  32  33  34  35\n",
      "  36  37  38  39  40  41  42  43  44  45  46  47  48  49  50  51  52  53\n",
      "  54  55  56  57  58  59  60  61  62  63  64  65  66  67  68  69  70  71\n",
      "  72  73  74  75  76  77  78  79  80  81  82  83  84  85  86  87  88  89\n",
      "  90  91  92  93  94  95  96  97  98  99 100 101 102 103 104 105 106 107\n",
      " 108 109 110 111 112 113 114 115 116 117 118 119 120 121 122 123 124 125\n",
      " 126 127 128 129 130 131 132 133 134 135 136 137 138 139 140 141 142 143\n",
      " 144 145 146 147 148 149]\n"
     ]
    },
    {
     "data": {
      "text/plain": [
       "dtype('int32')"
      ]
     },
     "execution_count": 79,
     "metadata": {},
     "output_type": "execute_result"
    }
   ],
   "source": [
    "arr=np.array(range(150),dtype=np.int_)\n",
    "print(arr)\n",
    "arr.dtype#by default dtype is int32"
   ]
  },
  {
   "cell_type": "markdown",
   "id": "c7fe98b7",
   "metadata": {},
   "source": [
    "<font size=5> ***Converting Data Type on Existing Arrays***"
   ]
  },
  {
   "cell_type": "markdown",
   "id": "a1aa1597",
   "metadata": {},
   "source": [
    "<font size=4>- The best way to change the data type of an existing array, is to make a copy of the array with the **astype()** method.\n",
    "\n",
    "<font size=4>- The **astype()** function creates a copy of the array, and allows you to specify the data type as a parameter.\n",
    "\n",
    "<font size=4>-The data type can be specified using a string, like **'f'** for float, **'i'** for integer etc. or you can use the data type directly like float for float and int for integer."
   ]
  },
  {
   "cell_type": "code",
   "execution_count": 25,
   "id": "ccc9bc51",
   "metadata": {},
   "outputs": [
    {
     "name": "stdout",
     "output_type": "stream",
     "text": [
      "[1 2 3]\n",
      "int32\n"
     ]
    }
   ],
   "source": [
    "arr = np.array([1.1, 2.1, 3.1])\n",
    "newarr = arr.astype('i')\n",
    "print(newarr)\n",
    "print(newarr.dtype)"
   ]
  },
  {
   "cell_type": "code",
   "execution_count": 26,
   "id": "9a6b95d5",
   "metadata": {},
   "outputs": [
    {
     "name": "stdout",
     "output_type": "stream",
     "text": [
      "[1 2 3]\n",
      "int32\n"
     ]
    }
   ],
   "source": [
    "arr = np.array([1.1, 2.1, 3.1])\n",
    "newarr = arr.astype(int)\n",
    "print(newarr)\n",
    "print(newarr.dtype)"
   ]
  },
  {
   "cell_type": "code",
   "execution_count": 27,
   "id": "a8165f64",
   "metadata": {},
   "outputs": [
    {
     "name": "stdout",
     "output_type": "stream",
     "text": [
      "[ True False  True]\n",
      "bool\n"
     ]
    }
   ],
   "source": [
    "arr = np.array([1, 0, 3])\n",
    "newarr = arr.astype(bool)\n",
    "print(newarr)\n",
    "print(newarr.dtype)"
   ]
  },
  {
   "cell_type": "code",
   "execution_count": 28,
   "id": "17eab54f",
   "metadata": {
    "scrolled": true
   },
   "outputs": [
    {
     "name": "stdout",
     "output_type": "stream",
     "text": [
      "[b'1.25' b'9.6' b'42']\n",
      "|S4\n",
      "[ 1.25  9.6  42.  ]\n",
      "float64\n"
     ]
    }
   ],
   "source": [
    "numeric_string=np.array(['1.25','9.6','42'],dtype=np.string_)\n",
    "print(numeric_string)\n",
    "print(numeric_string.dtype)\n",
    "numeric_string=numeric_string.astype(float)\n",
    "print(numeric_string)\n",
    "print(numeric_string.dtype)"
   ]
  },
  {
   "cell_type": "markdown",
   "id": "97e75dc8",
   "metadata": {},
   "source": [
    "<font size=4>You can explicitly convert or cast an array from one dtype to another using the **astype** method of ndarray"
   ]
  },
  {
   "cell_type": "code",
   "execution_count": 85,
   "id": "2570599b",
   "metadata": {},
   "outputs": [
    {
     "data": {
      "text/plain": [
       "array([ 3.7, -1.2, -2.6,  0.5, 12.9, 10.1])"
      ]
     },
     "execution_count": 85,
     "metadata": {},
     "output_type": "execute_result"
    }
   ],
   "source": [
    "arr=np.array([3.7,-1.2,-2.6,0.5,12.9,10.1])\n",
    "arr"
   ]
  },
  {
   "cell_type": "code",
   "execution_count": 86,
   "id": "d3de13c6",
   "metadata": {},
   "outputs": [
    {
     "data": {
      "text/plain": [
       "array([ 3, -1, -2,  0, 12, 10])"
      ]
     },
     "execution_count": 86,
     "metadata": {},
     "output_type": "execute_result"
    }
   ],
   "source": [
    "arr.astype(np.int32)"
   ]
  },
  {
   "cell_type": "markdown",
   "id": "1102a809",
   "metadata": {},
   "source": [
    "<font size=4>if you have an array of string represting numbers,you can use astype to convert them to numeric form:"
   ]
  },
  {
   "cell_type": "code",
   "execution_count": 95,
   "id": "e0e0e5cb",
   "metadata": {},
   "outputs": [],
   "source": [
    "numeric_string=np.array(['1.25','9.6','42'],dtype=np.string_)"
   ]
  },
  {
   "cell_type": "code",
   "execution_count": 96,
   "id": "819bf41d",
   "metadata": {},
   "outputs": [
    {
     "data": {
      "text/plain": [
       "dtype('S4')"
      ]
     },
     "execution_count": 96,
     "metadata": {},
     "output_type": "execute_result"
    }
   ],
   "source": [
    "numeric_string.dtype"
   ]
  },
  {
   "cell_type": "code",
   "execution_count": 97,
   "id": "62bed242",
   "metadata": {},
   "outputs": [
    {
     "data": {
      "text/plain": [
       "array([ 1.25,  9.6 , 42.  ])"
      ]
     },
     "execution_count": 97,
     "metadata": {},
     "output_type": "execute_result"
    }
   ],
   "source": [
    "numeric_string=numeric_string.astype(float)\n",
    "numeric_string"
   ]
  },
  {
   "cell_type": "code",
   "execution_count": 98,
   "id": "aae8adcd",
   "metadata": {},
   "outputs": [
    {
     "data": {
      "text/plain": [
       "array([ 1.25,  9.6 , 42.  ])"
      ]
     },
     "execution_count": 98,
     "metadata": {},
     "output_type": "execute_result"
    }
   ],
   "source": [
    "numeric_string"
   ]
  },
  {
   "cell_type": "markdown",
   "id": "9c233a4a",
   "metadata": {},
   "source": [
    "<font size=6> *NumPy Array Attributes*"
   ]
  },
  {
   "cell_type": "markdown",
   "id": "c9dd9151",
   "metadata": {},
   "source": [
    "<font size=4>-A numpy array has several attributes that indicate the element type,element size,shape of arrays,size of arrays,etc\n",
    "    \n",
    "<font size=4>-We can obtain the types of element present in a numpy array their aizes,their location in,memory etc.\n",
    "    \n",
    "<font size=4>-Attributes of arrays determine the size ,shape,memory,and data types of array"
   ]
  },
  {
   "cell_type": "code",
   "execution_count": 26,
   "id": "cd00bc7f",
   "metadata": {},
   "outputs": [
    {
     "name": "stdout",
     "output_type": "stream",
     "text": [
      "int32\n",
      "float64\n",
      "4\n",
      "8\n",
      "16\n",
      "32\n",
      "<memory at 0x000001DB45007640>\n",
      "<memory at 0x000001DB45007640>\n",
      "(4,)\n",
      "(8,)\n"
     ]
    }
   ],
   "source": [
    "a1=np.array([1,2,3,4])\n",
    "a2=np.array([1.1,2.2,3.3,4.4])\n",
    "\n",
    "# Here \"dtypes\" specifies the type of element contained in the array\n",
    "print(a1.dtype)\n",
    "print(a2.dtype)\n",
    "\n",
    "# Number of bytes occupied by individual array element are available through \"itemsize\"\n",
    "print(a1.itemsize)\n",
    "print(a2.itemsize)\n",
    "\n",
    "# Number of bytes occupied by entire are available through \"itemsize\"\n",
    "print(a1.nbytes)\n",
    "print(a2.nbytes)\n",
    "\n",
    "# \"data\" gives the address in memory where the array begins(often called base address)\n",
    "print(a1.data)\n",
    "print(a2.data)\n",
    "\n",
    "# \"strides\" indicates the number of bytes that should be added to base address to reach the next array element\n",
    "print(a1.strides)\n",
    "print(a2.strides)"
   ]
  },
  {
   "cell_type": "code",
   "execution_count": 27,
   "id": "5dc58fad",
   "metadata": {},
   "outputs": [
    {
     "name": "stdout",
     "output_type": "stream",
     "text": [
      "1\n",
      "2\n",
      "(4,)\n",
      "(2, 4)\n",
      "4\n",
      "8\n"
     ]
    }
   ],
   "source": [
    "# Attributes \"ndim\",\"shape\",and \"size\" yield the number of dimensions in the array the shape of the array and the number of element in it\n",
    "\n",
    "a1=np.array([1,2,3,4])\n",
    "a2=np.array([[1,2,3,4],[5,6,7,8]])\n",
    "\n",
    "# ndim\n",
    "print(a1.ndim)\n",
    "print(a2.ndim)\n",
    "\n",
    "# shape\n",
    "print(a1.shape)\n",
    "print(a2.shape)\n",
    "\n",
    "# size\n",
    "print(a1.size)\n",
    "print(a2.size)"
   ]
  },
  {
   "cell_type": "markdown",
   "id": "5a283a39",
   "metadata": {},
   "source": [
    "<font size=6> *Numpy Array Functions*"
   ]
  },
  {
   "cell_type": "markdown",
   "id": "d3b696af",
   "metadata": {},
   "source": [
    "<font size=5> ***Zeroes***"
   ]
  },
  {
   "cell_type": "code",
   "execution_count": 29,
   "id": "788be173",
   "metadata": {},
   "outputs": [
    {
     "name": "stdout",
     "output_type": "stream",
     "text": [
      "[0. 0. 0. 0. 0. 0. 0. 0. 0. 0.]\n",
      "\n",
      "[[0. 0. 0. 0. 0. 0.]\n",
      " [0. 0. 0. 0. 0. 0.]\n",
      " [0. 0. 0. 0. 0. 0.]]\n",
      "\n",
      "[[[0. 0.]\n",
      "  [0. 0.]\n",
      "  [0. 0.]]\n",
      "\n",
      " [[0. 0.]\n",
      "  [0. 0.]\n",
      "  [0. 0.]]]\n"
     ]
    }
   ],
   "source": [
    "# zeros create arrays of 0s\n",
    "print(np.zeros(10))\n",
    "print()\n",
    "print(np.zeros((3,6)))\n",
    "print()\n",
    "print(np.zeros((2,3,2))) #here 2 is representing total numer of array and 3 is represting number of rows and 2 is represting number of columns"
   ]
  },
  {
   "cell_type": "markdown",
   "id": "415fe4f0",
   "metadata": {},
   "source": [
    "<font size=5> ***Ones***"
   ]
  },
  {
   "cell_type": "code",
   "execution_count": 30,
   "id": "372d7722",
   "metadata": {},
   "outputs": [
    {
     "name": "stdout",
     "output_type": "stream",
     "text": [
      "[1. 1. 1. 1. 1. 1. 1. 1. 1. 1.]\n",
      "\n",
      "[[1. 1. 1. 1. 1. 1.]\n",
      " [1. 1. 1. 1. 1. 1.]\n",
      " [1. 1. 1. 1. 1. 1.]]\n",
      "\n",
      "[[[1. 1.]\n",
      "  [1. 1.]\n",
      "  [1. 1.]]\n",
      "\n",
      " [[1. 1.]\n",
      "  [1. 1.]\n",
      "  [1. 1.]]]\n"
     ]
    }
   ],
   "source": [
    "# Ones create arrays of 1s\n",
    "print(np.ones(10))\n",
    "print()\n",
    "print(np.ones((3,6)))\n",
    "print()\n",
    "print(np.ones((2,3,2)))"
   ]
  },
  {
   "cell_type": "markdown",
   "id": "8a70d2f7",
   "metadata": {},
   "source": [
    "<font size=5> ***Empty array***"
   ]
  },
  {
   "cell_type": "code",
   "execution_count": 12,
   "id": "290731bb",
   "metadata": {},
   "outputs": [
    {
     "data": {
      "text/plain": [
       "array([[[4.45057637e-308, 1.78021527e-306],\n",
       "        [8.45549797e-307, 1.37962049e-306],\n",
       "        [1.11260619e-306, 1.78010255e-306]],\n",
       "\n",
       "       [[9.79054228e-307, 4.45057637e-308],\n",
       "        [8.45596650e-307, 9.34602321e-307],\n",
       "        [4.94065646e-322, 0.00000000e+000]]])"
      ]
     },
     "execution_count": 12,
     "metadata": {},
     "output_type": "execute_result"
    }
   ],
   "source": [
    "#We can create empty arrays which are filled with garbage values\n",
    "np.empty((2,3,2))"
   ]
  },
  {
   "cell_type": "code",
   "execution_count": 20,
   "id": "be090946",
   "metadata": {},
   "outputs": [
    {
     "data": {
      "text/plain": [
       "array([[4.45057637e-308, 1.78021527e-306, 8.45549797e-307,\n",
       "        1.37962049e-306],\n",
       "       [1.11260619e-306, 1.78010255e-306, 9.79054228e-307,\n",
       "        4.45057637e-308],\n",
       "       [8.45596650e-307, 9.34602321e-307, 4.94065646e-322,\n",
       "        0.00000000e+000]])"
      ]
     },
     "execution_count": 20,
     "metadata": {},
     "output_type": "execute_result"
    }
   ],
   "source": [
    "np.empty((3,4))"
   ]
  },
  {
   "cell_type": "markdown",
   "id": "8fd563f1",
   "metadata": {},
   "source": [
    "<font size=5> ***eye function()***"
   ]
  },
  {
   "cell_type": "markdown",
   "id": "1a4c7025",
   "metadata": {},
   "source": [
    "<font size=4>The **numpy.eye()** function in Python is used to return a two-dimensional array with ones (1) on the diagonal and zeros (0) elsewhere."
   ]
  },
  {
   "cell_type": "markdown",
   "id": "11f5e4fa",
   "metadata": {},
   "source": [
    "<font size=5>*Parameters*\n",
    "    \n",
    "<font size=4>The **numpy.eye()** function takes the following parameter values:\n",
    "\n",
    "<font size=4>-**N**: This represents the number of rows we want in the output array.\n",
    "    \n",
    "<font size=4>-**M**: This represents the number of columns we want in the output array. This is optional.\n",
    "    \n",
    "<font size=4>-**k**: This represents the index of the diagonal. **0** is the default value and the main diagonal. This is optional.\n",
    "    \n",
    "<font size=4>-**dtype**: This represents the data type of array to be returned. This is optional.\n",
    "    \n",
    "<font size=4>-**order**: This represents whether the output should be stored in **C** or **F** order in memory. This is optional.\n",
    "    \n",
    "<font size=4>-**like**: This is the array prototype or **array_like** object."
   ]
  },
  {
   "cell_type": "markdown",
   "id": "bf59e819",
   "metadata": {},
   "source": [
    "<font size=5>*Syntax*\n",
    "    \n",
    "<font size=4>numpy.eye(N, M=None, k=0, dtype=<class 'float'>, order='C', *, like=None)"
   ]
  },
  {
   "cell_type": "code",
   "execution_count": 43,
   "id": "27142f1f",
   "metadata": {},
   "outputs": [
    {
     "data": {
      "text/plain": [
       "array([[1., 0.],\n",
       "       [0., 1.]])"
      ]
     },
     "execution_count": 43,
     "metadata": {},
     "output_type": "execute_result"
    }
   ],
   "source": [
    "np.eye(2)"
   ]
  },
  {
   "cell_type": "code",
   "execution_count": 74,
   "id": "9aa7f1ef",
   "metadata": {},
   "outputs": [
    {
     "name": "stdout",
     "output_type": "stream",
     "text": [
      "[[1. 0. 0.]\n",
      " [0. 1. 0.]\n",
      " [0. 0. 1.]]\n",
      "\n",
      "[[1. 0. 0.]\n",
      " [0. 1. 0.]\n",
      " [0. 0. 1.]]\n"
     ]
    }
   ],
   "source": [
    "#both are same\n",
    "print(np.eye(3))\n",
    "print()\n",
    "print(np.eye(3,3))"
   ]
  },
  {
   "cell_type": "code",
   "execution_count": 26,
   "id": "fed83247",
   "metadata": {},
   "outputs": [
    {
     "data": {
      "text/plain": [
       "array([[1., 0., 0., 0.],\n",
       "       [0., 1., 0., 0.],\n",
       "       [0., 0., 1., 0.],\n",
       "       [0., 0., 0., 1.]])"
      ]
     },
     "execution_count": 26,
     "metadata": {},
     "output_type": "execute_result"
    }
   ],
   "source": [
    "np.eye(4)"
   ]
  },
  {
   "cell_type": "code",
   "execution_count": 46,
   "id": "fa3c71fb",
   "metadata": {},
   "outputs": [
    {
     "data": {
      "text/plain": [
       "array([[1., 0., 0.],\n",
       "       [0., 1., 0.]])"
      ]
     },
     "execution_count": 46,
     "metadata": {},
     "output_type": "execute_result"
    }
   ],
   "source": [
    "np.eye(2,3)"
   ]
  },
  {
   "cell_type": "code",
   "execution_count": 47,
   "id": "01ade88e",
   "metadata": {},
   "outputs": [
    {
     "data": {
      "text/plain": [
       "array([[1., 0., 0., 0.],\n",
       "       [0., 1., 0., 0.],\n",
       "       [0., 0., 1., 0.]])"
      ]
     },
     "execution_count": 47,
     "metadata": {},
     "output_type": "execute_result"
    }
   ],
   "source": [
    "np.eye(3,4)"
   ]
  },
  {
   "cell_type": "code",
   "execution_count": 48,
   "id": "6e90fa49",
   "metadata": {},
   "outputs": [
    {
     "data": {
      "text/plain": [
       "array([[1., 0., 0.],\n",
       "       [0., 1., 0.],\n",
       "       [0., 0., 1.]])"
      ]
     },
     "execution_count": 48,
     "metadata": {},
     "output_type": "execute_result"
    }
   ],
   "source": [
    "np.eye(3,3)"
   ]
  },
  {
   "cell_type": "code",
   "execution_count": 28,
   "id": "742a6ff2",
   "metadata": {},
   "outputs": [
    {
     "name": "stdout",
     "output_type": "stream",
     "text": [
      "[[1 0]\n",
      " [0 1]]\n",
      "\n",
      "[[1. 0. 0.]\n",
      " [0. 1. 0.]\n",
      " [0. 0. 1.]\n",
      " [0. 0. 0.]\n",
      " [0. 0. 0.]]\n"
     ]
    }
   ],
   "source": [
    "#use of dtype with eye function\n",
    "print(np.eye(2,2,dtype=int))\n",
    "print()\n",
    "print(np.eye(5,3,dtype=float))"
   ]
  },
  {
   "cell_type": "code",
   "execution_count": 55,
   "id": "af998f4c",
   "metadata": {},
   "outputs": [
    {
     "name": "stdout",
     "output_type": "stream",
     "text": [
      "[[1. 0. 0.]\n",
      " [0. 1. 0.]\n",
      " [0. 0. 1.]]\n",
      "\n",
      "[[0. 1. 0.]\n",
      " [0. 0. 1.]\n",
      " [0. 0. 0.]]\n",
      "\n",
      "[[1. 0. 0.]\n",
      " [0. 1. 0.]\n",
      " [0. 0. 1.]\n",
      " [0. 0. 0.]\n",
      " [0. 0. 0.]]\n",
      "\n",
      "[[0. 1. 0.]\n",
      " [0. 0. 1.]\n",
      " [0. 0. 0.]\n",
      " [0. 0. 0.]\n",
      " [0. 0. 0.]]\n",
      "\n",
      "[[0. 0. 1.]\n",
      " [0. 0. 0.]\n",
      " [0. 0. 0.]\n",
      " [0. 0. 0.]\n",
      " [0. 0. 0.]]\n"
     ]
    }
   ],
   "source": [
    "# An array with 3 rows with with the ones starting at the index i.e fron the second column\n",
    "myarray = np.eye(3, k=0)\n",
    "print(myarray)\n",
    "print()\n",
    "print(np.eye(3, k=1))\n",
    "print()\n",
    "print(np.eye(5, k=0))\n",
    "print()\n",
    "print(np.eye(5, k=1))\n",
    "print()\n",
    "print(np.eye(5, k=2))"
   ]
  },
  {
   "cell_type": "markdown",
   "id": "c05e0db7",
   "metadata": {},
   "source": [
    "<font size=4>**C-Order (Row-major Order)**:In C-order (also known as row-major order), the array is stored in memory row by row. This means that elements of the same row are contiguous in memory."
   ]
  },
  {
   "cell_type": "markdown",
   "id": "df817f63",
   "metadata": {},
   "source": [
    "<font size=4>**F-Order (Fortran-major Order)**: In F-order (also known as column-major order), the array is stored in memory column by column. This means that elements of the same column are contiguous in memory."
   ]
  },
  {
   "cell_type": "code",
   "execution_count": 27,
   "id": "0eecb8ef",
   "metadata": {},
   "outputs": [
    {
     "name": "stdout",
     "output_type": "stream",
     "text": [
      "C-order:\n",
      " [[1. 0. 0.]\n",
      " [0. 1. 0.]\n",
      " [0. 0. 1.]]\n",
      "C-order flags:   C_CONTIGUOUS : True\n",
      "  F_CONTIGUOUS : False\n",
      "  OWNDATA : True\n",
      "  WRITEABLE : True\n",
      "  ALIGNED : True\n",
      "  WRITEBACKIFCOPY : False\n",
      "\n"
     ]
    }
   ],
   "source": [
    "# Create a 3x3 identity matrix in C-order\n",
    "eye_c = np.eye(3, order='C')\n",
    "print(\"C-order:\\n\", eye_c)\n",
    "print(\"C-order flags:\", eye_c.flags)\n",
    "\n",
    "# Create a 3x3 identity matrix in F-order\n",
    "# eye_f = np.eye(3, order='F')\n",
    "# print(\"F-order:\\n\", eye_f)\n",
    "# print(\"F-order flags:\", eye_f.flags)\n"
   ]
  },
  {
   "cell_type": "markdown",
   "id": "411b6f5b",
   "metadata": {},
   "source": [
    "<font size=5> ***identity() function***"
   ]
  },
  {
   "cell_type": "markdown",
   "id": "d50a8a44",
   "metadata": {},
   "source": [
    "<font size=4>identity matrix is a square matrix in which all the element of the main diagonal are equal to **1** and all othere element are equal to **0**. the **identity ()** function return the identity array.The **identity()** ***function*** from **numpy** library is used to return the identity matrix."
   ]
  },
  {
   "cell_type": "markdown",
   "id": "e2d50d73",
   "metadata": {},
   "source": [
    "<font size=5>Syntax\n",
    "    \n",
    "<font size=4>identity(n, dtype=float, like=None)"
   ]
  },
  {
   "cell_type": "markdown",
   "id": "b2130f3e",
   "metadata": {},
   "source": [
    "<font size=5>*Parameter value*\n",
    "\n",
    "<font size=4>The **identity() function** takes the following parameter values:\n",
    "\n",
    "<font size=4>**n**: This represents the number of rows in the output.\n",
    "    \n",
    "<font size=4>**dtype**: This represents the data type of the output matrix. This is optional and its default type is float.\n",
    "\n",
    "<font size=4>**like**: This represents the matrix-like object or the prototype."
   ]
  },
  {
   "cell_type": "code",
   "execution_count": 57,
   "id": "7754786a",
   "metadata": {},
   "outputs": [
    {
     "data": {
      "text/plain": [
       "array([[1., 0.],\n",
       "       [0., 1.]])"
      ]
     },
     "execution_count": 57,
     "metadata": {},
     "output_type": "execute_result"
    }
   ],
   "source": [
    "np.identity(2)#default data as float"
   ]
  },
  {
   "cell_type": "code",
   "execution_count": 78,
   "id": "7ba2e0aa",
   "metadata": {},
   "outputs": [
    {
     "data": {
      "text/plain": [
       "array([[1, 0, 0],\n",
       "       [0, 1, 0],\n",
       "       [0, 0, 1]])"
      ]
     },
     "execution_count": 78,
     "metadata": {},
     "output_type": "execute_result"
    }
   ],
   "source": [
    "np.identity(3,dtype=int)"
   ]
  },
  {
   "cell_type": "code",
   "execution_count": 77,
   "id": "4fadab86",
   "metadata": {},
   "outputs": [
    {
     "ename": "TypeError",
     "evalue": "Cannot interpret '3' as a data type",
     "output_type": "error",
     "traceback": [
      "\u001b[1;31m---------------------------------------------------------------------------\u001b[0m",
      "\u001b[1;31mTypeError\u001b[0m                                 Traceback (most recent call last)",
      "Cell \u001b[1;32mIn[77], line 1\u001b[0m\n\u001b[1;32m----> 1\u001b[0m \u001b[43mnp\u001b[49m\u001b[38;5;241;43m.\u001b[39;49m\u001b[43midentity\u001b[49m\u001b[43m(\u001b[49m\u001b[38;5;241;43m2\u001b[39;49m\u001b[43m,\u001b[49m\u001b[38;5;241;43m3\u001b[39;49m\u001b[43m)\u001b[49m\n",
      "File \u001b[1;32m~\\AppData\\Roaming\\Python\\Python312\\site-packages\\numpy\\core\\numeric.py:2160\u001b[0m, in \u001b[0;36midentity\u001b[1;34m(n, dtype, like)\u001b[0m\n\u001b[0;32m   2157\u001b[0m     \u001b[38;5;28;01mreturn\u001b[39;00m _identity_with_like(like, n, dtype\u001b[38;5;241m=\u001b[39mdtype)\n\u001b[0;32m   2159\u001b[0m \u001b[38;5;28;01mfrom\u001b[39;00m \u001b[38;5;21;01mnumpy\u001b[39;00m \u001b[38;5;28;01mimport\u001b[39;00m eye\n\u001b[1;32m-> 2160\u001b[0m \u001b[38;5;28;01mreturn\u001b[39;00m \u001b[43meye\u001b[49m\u001b[43m(\u001b[49m\u001b[43mn\u001b[49m\u001b[43m,\u001b[49m\u001b[43m \u001b[49m\u001b[43mdtype\u001b[49m\u001b[38;5;241;43m=\u001b[39;49m\u001b[43mdtype\u001b[49m\u001b[43m,\u001b[49m\u001b[43m \u001b[49m\u001b[43mlike\u001b[49m\u001b[38;5;241;43m=\u001b[39;49m\u001b[43mlike\u001b[49m\u001b[43m)\u001b[49m\n",
      "File \u001b[1;32m~\\AppData\\Roaming\\Python\\Python312\\site-packages\\numpy\\lib\\twodim_base.py:211\u001b[0m, in \u001b[0;36meye\u001b[1;34m(N, M, k, dtype, order, like)\u001b[0m\n\u001b[0;32m    209\u001b[0m \u001b[38;5;28;01mif\u001b[39;00m M \u001b[38;5;129;01mis\u001b[39;00m \u001b[38;5;28;01mNone\u001b[39;00m:\n\u001b[0;32m    210\u001b[0m     M \u001b[38;5;241m=\u001b[39m N\n\u001b[1;32m--> 211\u001b[0m m \u001b[38;5;241m=\u001b[39m \u001b[43mzeros\u001b[49m\u001b[43m(\u001b[49m\u001b[43m(\u001b[49m\u001b[43mN\u001b[49m\u001b[43m,\u001b[49m\u001b[43m \u001b[49m\u001b[43mM\u001b[49m\u001b[43m)\u001b[49m\u001b[43m,\u001b[49m\u001b[43m \u001b[49m\u001b[43mdtype\u001b[49m\u001b[38;5;241;43m=\u001b[39;49m\u001b[43mdtype\u001b[49m\u001b[43m,\u001b[49m\u001b[43m \u001b[49m\u001b[43morder\u001b[49m\u001b[38;5;241;43m=\u001b[39;49m\u001b[43morder\u001b[49m\u001b[43m)\u001b[49m\n\u001b[0;32m    212\u001b[0m \u001b[38;5;28;01mif\u001b[39;00m k \u001b[38;5;241m>\u001b[39m\u001b[38;5;241m=\u001b[39m M:\n\u001b[0;32m    213\u001b[0m     \u001b[38;5;28;01mreturn\u001b[39;00m m\n",
      "\u001b[1;31mTypeError\u001b[0m: Cannot interpret '3' as a data type"
     ]
    }
   ],
   "source": [
    "np.identity(2,3)"
   ]
  },
  {
   "cell_type": "markdown",
   "id": "c57b9e94",
   "metadata": {},
   "source": [
    "<font size=5> ***numpy.full()***"
   ]
  },
  {
   "cell_type": "markdown",
   "id": "c874abe6",
   "metadata": {},
   "source": [
    "<font size=4>The **numpy.full()** function is used to create a new array of the seprate filled with a specified valueThe **numpy.full()** function is used to return a new array of a given shape and data type filled with fill_value."
   ]
  },
  {
   "cell_type": "markdown",
   "id": "e1b0b14e",
   "metadata": {},
   "source": [
    "<font size=5>*Syntax*\n",
    "    \n",
    "<font size=4>numpy.full(shape, fill_value, dtype=None, like=None)"
   ]
  },
  {
   "cell_type": "markdown",
   "id": "e8543dfe",
   "metadata": {},
   "source": [
    "<font size=5>*Parameters*\n",
    "    \n",
    "<font size=4>The **numpy.full()** function takes the following parameter values:\n",
    "\n",
    "<font size=4>-**shape**: This represents the shape of the desired array.\n",
    "    \n",
    "<font size=4>-**fill_value**: This represents the fill value.\n",
    "\n",
    "<font size=4>-**dtype**: This represents the data type of the desired array. This is an optional parameter.\n",
    "\n",
    "<font size=4>-**like**: This represents the prototype or the array_like object."
   ]
  },
  {
   "cell_type": "code",
   "execution_count": 64,
   "id": "99a52ac2",
   "metadata": {},
   "outputs": [
    {
     "data": {
      "text/plain": [
       "array([12, 12, 12])"
      ]
     },
     "execution_count": 64,
     "metadata": {},
     "output_type": "execute_result"
    }
   ],
   "source": [
    "np.full(3,12)"
   ]
  },
  {
   "cell_type": "code",
   "execution_count": 65,
   "id": "5e879ea2",
   "metadata": {},
   "outputs": [
    {
     "data": {
      "text/plain": [
       "array([[3, 3],\n",
       "       [3, 3]])"
      ]
     },
     "execution_count": 65,
     "metadata": {},
     "output_type": "execute_result"
    }
   ],
   "source": [
    "np.full([2,2],3)"
   ]
  },
  {
   "cell_type": "code",
   "execution_count": 66,
   "id": "d4b52c50",
   "metadata": {},
   "outputs": [
    {
     "data": {
      "text/plain": [
       "array([[3, 3, 3, 3],\n",
       "       [3, 3, 3, 3],\n",
       "       [3, 3, 3, 3]])"
      ]
     },
     "execution_count": 66,
     "metadata": {},
     "output_type": "execute_result"
    }
   ],
   "source": [
    "np.full((3,4),3)"
   ]
  },
  {
   "cell_type": "code",
   "execution_count": 67,
   "id": "c710e3dc",
   "metadata": {},
   "outputs": [
    {
     "data": {
      "text/plain": [
       "array([[55., 55., 55.],\n",
       "       [55., 55., 55.],\n",
       "       [55., 55., 55.]])"
      ]
     },
     "execution_count": 67,
     "metadata": {},
     "output_type": "execute_result"
    }
   ],
   "source": [
    "np.full((3,3),55,dtype=float)"
   ]
  },
  {
   "cell_type": "markdown",
   "id": "733f6599",
   "metadata": {},
   "source": [
    "<font size=5> ***full_like() function***"
   ]
  },
  {
   "cell_type": "markdown",
   "id": "869772a4",
   "metadata": {},
   "source": [
    "<font size=4>In Python, the **numpy.full_like()** ***function*** is used to return an entire array with the same shape and type as the array that was passed to it."
   ]
  },
  {
   "cell_type": "markdown",
   "id": "0485db36",
   "metadata": {},
   "source": [
    "<font size=5>*Syntax*\n",
    "    \n",
    "<font size=4>numpy.full_like(a, fill_value)"
   ]
  },
  {
   "cell_type": "markdown",
   "id": "5a3a21c3",
   "metadata": {},
   "source": [
    "<font size=5>*Parameter value*\n",
    "    \n",
    "<font size=4>The **numpy.full_like()** function takes the following parameter values:\n",
    "\n",
    "<font size=4>**a**: This represents the array_like object or prototype of the array that needs to be created.\n",
    "\n",
    "<font size=4>**fill_value**: This represents the fill value."
   ]
  },
  {
   "cell_type": "markdown",
   "id": "785d3bbd",
   "metadata": {},
   "source": [
    "<font size=4>The **numpy.full_like()** function returns an array of **fill_value**, with the same shape and data type as the **array_like** parameter that is passed to it."
   ]
  },
  {
   "cell_type": "code",
   "execution_count": 71,
   "id": "9f32d0c8",
   "metadata": {},
   "outputs": [
    {
     "name": "stdout",
     "output_type": "stream",
     "text": [
      "[0 1 2 3]\n",
      "[10 10 10 10]\n"
     ]
    }
   ],
   "source": [
    "# creating an array_like \n",
    "thisarray = np.arange(4, dtype = int)\n",
    "\n",
    "# implementing the numpy.ones_like() function \n",
    "myarray = np.full_like(thisarray, 10)\n",
    "\n",
    "\n",
    "# printing the two arrays\n",
    "print(thisarray)\n",
    "print(myarray)"
   ]
  },
  {
   "cell_type": "code",
   "execution_count": 70,
   "id": "e64c5b4c",
   "metadata": {},
   "outputs": [
    {
     "name": "stdout",
     "output_type": "stream",
     "text": [
      "int32\n",
      "[3 3 3 3 3]\n",
      "[1 1 1 1 1]\n",
      "\n",
      "[1.2 1.2 1.2 1.2 1.2]\n",
      "[nan nan nan nan nan]\n"
     ]
    }
   ],
   "source": [
    "a=np.arange(5)\n",
    "print(a.dtype)\n",
    "print(np.full_like(a,3))\n",
    "print(np.full_like(a,1.2))#by default a is integer\n",
    "print()\n",
    "b=a.astype(float)\n",
    "print(np.full_like(b,1.2))\n",
    "print(np.full_like(a,np.nan,dtype=np.double))"
   ]
  },
  {
   "cell_type": "markdown",
   "id": "f5ed564f",
   "metadata": {},
   "source": [
    "<font size=6> *Arithmetic operations with numpy array*"
   ]
  },
  {
   "cell_type": "markdown",
   "id": "f872f3fd",
   "metadata": {},
   "source": [
    "<font size=4>You could use arithmetic operators \"**+ - * /**\" directly between NumPy arrays"
   ]
  },
  {
   "cell_type": "markdown",
   "id": "c486dd30",
   "metadata": {},
   "source": [
    "<font size=5>***List of Arithmetic Operations***"
   ]
  },
  {
   "cell_type": "markdown",
   "id": "8df52239",
   "metadata": {},
   "source": [
    "\n",
    "<img src=\"https://encrypted-tbn0.gstatic.com/images?q=tbn:ANd9GcTAJMDiUk9yiwoqQ_faxvX9AJ9_ulmQ3AbRrw&s\"\n",
    "     width=\"600\"/>"
   ]
  },
  {
   "cell_type": "markdown",
   "id": "6ebe569f",
   "metadata": {},
   "source": [
    "### Arithmetic operations on 1D Array "
   ]
  },
  {
   "cell_type": "code",
   "execution_count": 85,
   "id": "734e2cba",
   "metadata": {},
   "outputs": [
    {
     "name": "stdout",
     "output_type": "stream",
     "text": [
      "[1 3 5 7]\n",
      "[2 4 6 8]\n"
     ]
    }
   ],
   "source": [
    "a1 = np.array([1, 3, 5, 7])\n",
    "b1 = np.array([2, 4, 6, 8])\n",
    "print(a1)\n",
    "print(b1)"
   ]
  },
  {
   "cell_type": "markdown",
   "id": "b74771ba",
   "metadata": {},
   "source": [
    "### 1. Scalar operations:"
   ]
  },
  {
   "cell_type": "code",
   "execution_count": 115,
   "id": "14c24a71",
   "metadata": {},
   "outputs": [
    {
     "name": "stdout",
     "output_type": "stream",
     "text": [
      "[1 3 5 7]\n",
      "[ 6  8 10 12]\n",
      "[-4 -2  0  2]\n",
      "[ 2  6 10 14]\n",
      "[0.5 1.5 2.5 3.5]\n",
      "[0 1 2 3]\n",
      "[-1 -3 -5 -7]\n",
      "[ 1  9 25 49]\n",
      "[1 1 1 1]\n"
     ]
    }
   ],
   "source": [
    "# All Scalar operation on 1D array using operators :\n",
    "print(a1+5)\n",
    "print(a1-5)\n",
    "print(a1*2)\n",
    "print(a1/2)\n",
    "print(a1//2)\n",
    "print(-a1)\n",
    "print(a1**2)\n",
    "print(a1%2)"
   ]
  },
  {
   "cell_type": "code",
   "execution_count": 116,
   "id": "6e5628ad",
   "metadata": {},
   "outputs": [
    {
     "name": "stdout",
     "output_type": "stream",
     "text": [
      "[1 3 5 7]\n",
      "[ 6  8 10 12]\n",
      "[-4 -2  0  2]\n",
      "[ 2  6 10 14]\n",
      "[0.5 1.5 2.5 3.5]\n",
      "[0 1 2 3]\n",
      "[-1 -3 -5 -7]\n",
      "[  1  27 125 343]\n",
      "[1 1 1 1]\n"
     ]
    }
   ],
   "source": [
    "# All Scalar operation on 1D array using there built in functions :\n",
    "print(np.add(a1,5))\n",
    "print(np.subtract(a1,5))\n",
    "print(np.multiply(a1,2))\n",
    "print(np.divide(a1,2))\n",
    "print(np.floor_divide(a1,2))\n",
    "print(np.negative(a1))\n",
    "print(np.power(a1,3))\n",
    "print(np.mod(a1,2))"
   ]
  },
  {
   "cell_type": "markdown",
   "id": "4d189d77",
   "metadata": {},
   "source": [
    "### 2. Vector Operations:"
   ]
  },
  {
   "cell_type": "code",
   "execution_count": 117,
   "id": "39439268",
   "metadata": {},
   "outputs": [
    {
     "name": "stdout",
     "output_type": "stream",
     "text": [
      "[ 3  7 11 15]\n",
      "[-1 -1 -1 -1]\n",
      "[ 2 12 30 56]\n",
      "[0.5        0.75       0.83333333 0.875     ]\n",
      "[0 0 0 0]\n",
      "[      1      81   15625 5764801]\n",
      "[1 3 5 7]\n"
     ]
    }
   ],
   "source": [
    "# All Vector operations on 1D array using operators :\n",
    "print(a1+b1)\n",
    "print(a1-b1)\n",
    "print(a1*b1)\n",
    "print(a1/b1)\n",
    "print(a1//b1)\n",
    "print(a1**b1)\n",
    "print(a1%b1)"
   ]
  },
  {
   "cell_type": "code",
   "execution_count": 118,
   "id": "0198b519",
   "metadata": {},
   "outputs": [
    {
     "name": "stdout",
     "output_type": "stream",
     "text": [
      "[ 3  7 11 15]\n",
      "[-1 -1 -1 -1]\n",
      "[ 2 12 30 56]\n",
      "[0.5        0.75       0.83333333 0.875     ]\n",
      "[0 0 0 0]\n",
      "[      1      81   15625 5764801]\n",
      "[1 3 5 7]\n"
     ]
    }
   ],
   "source": [
    "# All Vector operations on 1D array using there built in functions :\n",
    "print(np.add(a1,b1))\n",
    "print(np.subtract(a1,b1))\n",
    "print(np.multiply(a1,b1))\n",
    "print(np.divide(a1,b1))\n",
    "print(np.floor_divide(a1,b1))\n",
    "print(np.power(a1,b1))\n",
    "print(np.mod(a1,b1))"
   ]
  },
  {
   "cell_type": "markdown",
   "id": "3dfdf2bd",
   "metadata": {},
   "source": [
    "### Arithmetic operations on 2D array"
   ]
  },
  {
   "cell_type": "code",
   "execution_count": 124,
   "id": "7abd2b22",
   "metadata": {},
   "outputs": [
    {
     "name": "stdout",
     "output_type": "stream",
     "text": [
      "[[ 0  1  2  3]\n",
      " [ 4  5  6  7]\n",
      " [ 8  9 10 11]]\n",
      "\n",
      "[[12 13 14 15]\n",
      " [16 17 18 19]\n",
      " [20 21 22 23]]\n"
     ]
    }
   ],
   "source": [
    "a2 = np.arange(12).reshape(3,4)\n",
    "b2 = np.arange(12,24).reshape(3,4)\n",
    "print(a2)\n",
    "print()\n",
    "print(b2)"
   ]
  },
  {
   "cell_type": "code",
   "execution_count": 132,
   "id": "4bd5a86a",
   "metadata": {},
   "outputs": [
    {
     "name": "stdout",
     "output_type": "stream",
     "text": [
      "[[ 5  6  7  8]\n",
      " [ 9 10 11 12]\n",
      " [13 14 15 16]]\n",
      "\n",
      "[[-5 -4 -3 -2]\n",
      " [-1  0  1  2]\n",
      " [ 3  4  5  6]]\n",
      "\n",
      "[[ 0  2  4  6]\n",
      " [ 8 10 12 14]\n",
      " [16 18 20 22]]\n",
      "\n",
      "[[0.  0.5 1.  1.5]\n",
      " [2.  2.5 3.  3.5]\n",
      " [4.  4.5 5.  5.5]]\n"
     ]
    }
   ],
   "source": [
    "# All Scalar operation on 2D array using operators :\n",
    "print(a2+5,end='\\n\\n')\n",
    "print(a2-5,end='\\n\\n')\n",
    "print(a2*2,end='\\n\\n')\n",
    "print(a2/2)"
   ]
  },
  {
   "cell_type": "code",
   "execution_count": 133,
   "id": "d5521cd2",
   "metadata": {},
   "outputs": [
    {
     "name": "stdout",
     "output_type": "stream",
     "text": [
      "[[0 0 1 1]\n",
      " [2 2 3 3]\n",
      " [4 4 5 5]]\n",
      "\n",
      "[[  0  -1  -2  -3]\n",
      " [ -4  -5  -6  -7]\n",
      " [ -8  -9 -10 -11]]\n",
      "\n",
      "[[  0   1   4   9]\n",
      " [ 16  25  36  49]\n",
      " [ 64  81 100 121]]\n",
      "\n",
      "[[0 1 0 1]\n",
      " [0 1 0 1]\n",
      " [0 1 0 1]]\n"
     ]
    }
   ],
   "source": [
    "# Other Operations:\n",
    "\n",
    "print(a2//2,end='\\n\\n')\n",
    "print(-a2,end='\\n\\n')\n",
    "print(a2**2,end='\\n\\n')\n",
    "print(a2%2)"
   ]
  },
  {
   "cell_type": "code",
   "execution_count": 136,
   "id": "ea26e8a6",
   "metadata": {},
   "outputs": [
    {
     "name": "stdout",
     "output_type": "stream",
     "text": [
      "[[ 5  6  7  8]\n",
      " [ 9 10 11 12]\n",
      " [13 14 15 16]]\n",
      "\n",
      "[[-5 -4 -3 -2]\n",
      " [-1  0  1  2]\n",
      " [ 3  4  5  6]]\n",
      "\n",
      "[[ 0  2  4  6]\n",
      " [ 8 10 12 14]\n",
      " [16 18 20 22]]\n",
      "\n",
      "[[0.  0.5 1.  1.5]\n",
      " [2.  2.5 3.  3.5]\n",
      " [4.  4.5 5.  5.5]]\n"
     ]
    }
   ],
   "source": [
    "# All Scalar operation on 2D array using there built in functions :\n",
    "print(np.add(a2,5),end='\\n\\n')\n",
    "print(np.subtract(a2,5),end='\\n\\n')\n",
    "print(np.multiply(a2,2),end='\\n\\n')\n",
    "print(np.divide(a2,2))"
   ]
  },
  {
   "cell_type": "code",
   "execution_count": 135,
   "id": "4ef98b5f",
   "metadata": {},
   "outputs": [
    {
     "name": "stdout",
     "output_type": "stream",
     "text": [
      "[[0 0 1 1]\n",
      " [2 2 3 3]\n",
      " [4 4 5 5]]\n",
      "\n",
      "[[  0  -1  -2  -3]\n",
      " [ -4  -5  -6  -7]\n",
      " [ -8  -9 -10 -11]]\n",
      "\n",
      "[[   0    1    8   27]\n",
      " [  64  125  216  343]\n",
      " [ 512  729 1000 1331]]\n",
      "\n",
      "[[0 1 0 1]\n",
      " [0 1 0 1]\n",
      " [0 1 0 1]]\n"
     ]
    }
   ],
   "source": [
    "# Other Operations:\n",
    "\n",
    "print(np.floor_divide(a2,2),end='\\n\\n')\n",
    "print(np.negative(a2),end='\\n\\n')\n",
    "print(np.power(a2,3),end='\\n\\n')\n",
    "print(np.mod(a2,2))"
   ]
  },
  {
   "cell_type": "code",
   "execution_count": 138,
   "id": "c0e6dc5d",
   "metadata": {},
   "outputs": [
    {
     "name": "stdout",
     "output_type": "stream",
     "text": [
      "[[12 14 16 18]\n",
      " [20 22 24 26]\n",
      " [28 30 32 34]]\n",
      "\n",
      "[[-12 -12 -12 -12]\n",
      " [-12 -12 -12 -12]\n",
      " [-12 -12 -12 -12]]\n",
      "\n",
      "[[  0  13  28  45]\n",
      " [ 64  85 108 133]\n",
      " [160 189 220 253]]\n",
      "\n",
      "[[0.         0.07692308 0.14285714 0.2       ]\n",
      " [0.25       0.29411765 0.33333333 0.36842105]\n",
      " [0.4        0.42857143 0.45454545 0.47826087]]\n"
     ]
    }
   ],
   "source": [
    "# All Vector operations on 2D array using operators :\n",
    "print(a2+b2,end='\\n\\n')\n",
    "print(a2-b2,end='\\n\\n')\n",
    "print(a2*b2,end='\\n\\n')\n",
    "print(a2/b2)"
   ]
  },
  {
   "cell_type": "code",
   "execution_count": 139,
   "id": "da7fc61b",
   "metadata": {},
   "outputs": [
    {
     "name": "stdout",
     "output_type": "stream",
     "text": [
      "[[0 0 0 0]\n",
      " [0 0 0 0]\n",
      " [0 0 0 0]]\n",
      "\n",
      "[[          0           1       16384    14348907]\n",
      " [          0 -1564725563  1159987200   442181591]\n",
      " [          0  1914644777 -1304428544  -122979837]]\n",
      "\n",
      "[[ 0  1  2  3]\n",
      " [ 4  5  6  7]\n",
      " [ 8  9 10 11]]\n"
     ]
    }
   ],
   "source": [
    "# Other operations:\n",
    "\n",
    "print(a2//b2,end='\\n\\n')\n",
    "print(a2**b2,end='\\n\\n')\n",
    "print(a2%b2)"
   ]
  },
  {
   "cell_type": "code",
   "execution_count": 141,
   "id": "4faa862f",
   "metadata": {},
   "outputs": [
    {
     "name": "stdout",
     "output_type": "stream",
     "text": [
      "[[12 14 16 18]\n",
      " [20 22 24 26]\n",
      " [28 30 32 34]]\n",
      "\n",
      "[[-12 -12 -12 -12]\n",
      " [-12 -12 -12 -12]\n",
      " [-12 -12 -12 -12]]\n",
      "\n",
      "[[  0  13  28  45]\n",
      " [ 64  85 108 133]\n",
      " [160 189 220 253]]\n",
      "\n",
      "[[0.         0.07692308 0.14285714 0.2       ]\n",
      " [0.25       0.29411765 0.33333333 0.36842105]\n",
      " [0.4        0.42857143 0.45454545 0.47826087]]\n"
     ]
    }
   ],
   "source": [
    "# All Vector operations on 1D array using there built in functions :\n",
    "print(np.add(a2,b2),end='\\n\\n')\n",
    "print(np.subtract(a2,b2),end='\\n\\n')\n",
    "print(np.multiply(a2,b2),end='\\n\\n')\n",
    "print(np.divide(a2,b2))"
   ]
  },
  {
   "cell_type": "code",
   "execution_count": 121,
   "id": "f4b6aa5c",
   "metadata": {},
   "outputs": [],
   "source": [
    "x=np.arange(4)"
   ]
  },
  {
   "cell_type": "code",
   "execution_count": 122,
   "id": "e6bf85c3",
   "metadata": {},
   "outputs": [
    {
     "name": "stdout",
     "output_type": "stream",
     "text": [
      "x= [0 1 2 3]\n",
      "x+5= [5 6 7 8]\n",
      "x-5= [-5 -4 -3 -2]\n",
      "x*2= [0 2 4 6]\n",
      "x/2= [0.  0.5 1.  1.5]\n",
      "x//2= [0 0 1 1]\n",
      "-x= [ 0 -1 -2 -3]\n",
      "x**2= [0 1 4 9]\n",
      "x%2= [0 1 0 1]\n"
     ]
    }
   ],
   "source": [
    "print('x=',x)\n",
    "print('x+5=',x+5)\n",
    "print('x-5=',x-5)\n",
    "print('x*2=',x*2)\n",
    "print('x/2=',x/2)\n",
    "print('x//2=',x//2)\n",
    "print('-x=',-x)\n",
    "print('x**2=',x**2)\n",
    "print('x%2=',x%2)"
   ]
  },
  {
   "cell_type": "code",
   "execution_count": 123,
   "id": "7a6a2145",
   "metadata": {},
   "outputs": [
    {
     "name": "stdout",
     "output_type": "stream",
     "text": [
      "x= [0 1 2 3]\n",
      "[5 6 7 8]\n",
      "[-5 -4 -3 -2]\n",
      "[0 2 4 6]\n",
      "[0.  0.5 1.  1.5]\n",
      "[0 0 1 1]\n",
      "[ 0 -1 -2 -3]\n",
      "[ 0  1  8 27]\n",
      "[0 1 0 1]\n"
     ]
    }
   ],
   "source": [
    "#airthmatic function\n",
    "print('x=',x)\n",
    "print(np.add(x,5))\n",
    "print(np.subtract(x,5))\n",
    "print(np.multiply(x,2))\n",
    "print(np.divide(x,2))\n",
    "print(np.floor_divide(x,2))\n",
    "print(np.negative(x))\n",
    "print(np.power(x,3))\n",
    "print(np.mod(x,2))"
   ]
  },
  {
   "cell_type": "markdown",
   "id": "faceaa31",
   "metadata": {},
   "source": [
    "## Dot Product"
   ]
  },
  {
   "cell_type": "code",
   "execution_count": 142,
   "id": "a757b9a1",
   "metadata": {},
   "outputs": [
    {
     "data": {
      "text/plain": [
       "208"
      ]
     },
     "execution_count": 142,
     "metadata": {},
     "output_type": "execute_result"
    }
   ],
   "source": [
    "# 1D array, \n",
    "arr1 = np.array([9, 10, 20])\n",
    "arr2 = np.array([2, 5, 7])\n",
    "\n",
    "np.dot(arr1,arr2)"
   ]
  },
  {
   "cell_type": "code",
   "execution_count": 146,
   "id": "b3825dec",
   "metadata": {},
   "outputs": [
    {
     "data": {
      "text/plain": [
       "array([[ 42,  48,  54],\n",
       "       [114, 136, 158],\n",
       "       [186, 224, 262]])"
      ]
     },
     "execution_count": 146,
     "metadata": {},
     "output_type": "execute_result"
    }
   ],
   "source": [
    "# 2D array,\n",
    "arr1 = np.arange(12).reshape(3,4)\n",
    "arr2 = np.arange(12).reshape(4,3)\n",
    "\n",
    "np.dot(arr1,arr2)"
   ]
  },
  {
   "cell_type": "markdown",
   "id": "965ac656",
   "metadata": {},
   "source": [
    "<font size=6> *Statistical operations with numpy array*"
   ]
  },
  {
   "cell_type": "markdown",
   "id": "e76218f2",
   "metadata": {},
   "source": [
    "<font size=4>Statistics involves gathering data, analyzing it, and drawing conclusions based on the information collected.\n",
    "NumPy provides us with various statistical functions that can perform statistical data analysis.\n",
    "\n"
   ]
  },
  {
   "cell_type": "markdown",
   "id": "3e605d08",
   "metadata": {},
   "source": [
    "![](https://miro.medium.com/v2/resize:fit:931/1*tA-rwKcxh41ZQVwuI17fTA.png)"
   ]
  },
  {
   "cell_type": "code",
   "execution_count": 31,
   "id": "9a5e2c0e",
   "metadata": {},
   "outputs": [
    {
     "data": {
      "text/plain": [
       "array([[ 0,  1,  2,  3,  4],\n",
       "       [ 5,  6,  7,  8,  9],\n",
       "       [10, 11, 12, 13, 14],\n",
       "       [15, 16, 17, 18, 19],\n",
       "       [20, 21, 22, 23, 24],\n",
       "       [25, 26, 27, 28, 29],\n",
       "       [30, 31, 32, 33, 34],\n",
       "       [35, 36, 37, 38, 39],\n",
       "       [40, 41, 42, 43, 44],\n",
       "       [45, 46, 47, 48, 49]])"
      ]
     },
     "execution_count": 31,
     "metadata": {},
     "output_type": "execute_result"
    }
   ],
   "source": [
    "x=np.arange(50).reshape(10,5)\n",
    "x"
   ]
  },
  {
   "cell_type": "code",
   "execution_count": 32,
   "id": "93e0207f",
   "metadata": {},
   "outputs": [
    {
     "data": {
      "text/plain": [
       "24.5"
      ]
     },
     "execution_count": 32,
     "metadata": {},
     "output_type": "execute_result"
    }
   ],
   "source": [
    "np.mean(x)"
   ]
  },
  {
   "cell_type": "code",
   "execution_count": 33,
   "id": "2fb2bc05",
   "metadata": {},
   "outputs": [
    {
     "data": {
      "text/plain": [
       "array([22.5, 23.5, 24.5, 25.5, 26.5])"
      ]
     },
     "execution_count": 33,
     "metadata": {},
     "output_type": "execute_result"
    }
   ],
   "source": [
    "np.mean(x,axis=0) # Mean of individual columns."
   ]
  },
  {
   "cell_type": "code",
   "execution_count": 34,
   "id": "478822f4",
   "metadata": {},
   "outputs": [
    {
     "data": {
      "text/plain": [
       "array([ 2.,  7., 12., 17., 22., 27., 32., 37., 42., 47.])"
      ]
     },
     "execution_count": 34,
     "metadata": {},
     "output_type": "execute_result"
    }
   ],
   "source": [
    "np.mean(x,axis=1) # Mean of individual rows."
   ]
  },
  {
   "cell_type": "code",
   "execution_count": 35,
   "id": "5efd4b5b",
   "metadata": {},
   "outputs": [
    {
     "data": {
      "text/plain": [
       "24.5"
      ]
     },
     "execution_count": 35,
     "metadata": {},
     "output_type": "execute_result"
    }
   ],
   "source": [
    "# To find mean, we can apply average function also.\n",
    "np.average(x)"
   ]
  },
  {
   "cell_type": "code",
   "execution_count": 36,
   "id": "bc986bea",
   "metadata": {},
   "outputs": [
    {
     "data": {
      "text/plain": [
       "array([ 2.,  7., 12., 17., 22., 27., 32., 37., 42., 47.])"
      ]
     },
     "execution_count": 36,
     "metadata": {},
     "output_type": "execute_result"
    }
   ],
   "source": [
    "np.average(x,axis=1) # Gives average of every row in a array"
   ]
  },
  {
   "cell_type": "code",
   "execution_count": 37,
   "id": "aae90553",
   "metadata": {},
   "outputs": [
    {
     "data": {
      "text/plain": [
       "array([22.5, 23.5, 24.5, 25.5, 26.5])"
      ]
     },
     "execution_count": 37,
     "metadata": {},
     "output_type": "execute_result"
    }
   ],
   "source": [
    "np.average(x,axis=0) # Gives average of every column in a array"
   ]
  },
  {
   "cell_type": "code",
   "execution_count": 38,
   "id": "1fb9da73",
   "metadata": {},
   "outputs": [
    {
     "data": {
      "text/plain": [
       "0"
      ]
     },
     "execution_count": 38,
     "metadata": {},
     "output_type": "execute_result"
    }
   ],
   "source": [
    "np.min(x)"
   ]
  },
  {
   "cell_type": "code",
   "execution_count": 39,
   "id": "c600d8d3",
   "metadata": {},
   "outputs": [
    {
     "data": {
      "text/plain": [
       "49"
      ]
     },
     "execution_count": 39,
     "metadata": {},
     "output_type": "execute_result"
    }
   ],
   "source": [
    "np.max(x)"
   ]
  },
  {
   "cell_type": "code",
   "execution_count": 40,
   "id": "742ac154",
   "metadata": {},
   "outputs": [
    {
     "data": {
      "text/plain": [
       "array([0, 1, 2, 3, 4])"
      ]
     },
     "execution_count": 40,
     "metadata": {},
     "output_type": "execute_result"
    }
   ],
   "source": [
    "np.min(x,axis=0) # Gives min value of every column in a array"
   ]
  },
  {
   "cell_type": "code",
   "execution_count": 41,
   "id": "860ed785",
   "metadata": {},
   "outputs": [
    {
     "data": {
      "text/plain": [
       "array([ 0,  5, 10, 15, 20, 25, 30, 35, 40, 45])"
      ]
     },
     "execution_count": 41,
     "metadata": {},
     "output_type": "execute_result"
    }
   ],
   "source": [
    "np.min(x,axis=1) # Gives min value of every row in a array"
   ]
  },
  {
   "cell_type": "code",
   "execution_count": 42,
   "id": "16b301b3",
   "metadata": {},
   "outputs": [
    {
     "data": {
      "text/plain": [
       "array([45, 46, 47, 48, 49])"
      ]
     },
     "execution_count": 42,
     "metadata": {},
     "output_type": "execute_result"
    }
   ],
   "source": [
    "np.max(x,axis=0) # Gives max value of every column in a array"
   ]
  },
  {
   "cell_type": "code",
   "execution_count": 43,
   "id": "dddc889b",
   "metadata": {},
   "outputs": [
    {
     "data": {
      "text/plain": [
       "array([ 4,  9, 14, 19, 24, 29, 34, 39, 44, 49])"
      ]
     },
     "execution_count": 43,
     "metadata": {},
     "output_type": "execute_result"
    }
   ],
   "source": [
    "np.max(x,axis=1) # Gives max value of every row in a array"
   ]
  },
  {
   "cell_type": "code",
   "execution_count": 44,
   "id": "05372f13",
   "metadata": {},
   "outputs": [
    {
     "data": {
      "text/plain": [
       "208.25"
      ]
     },
     "execution_count": 44,
     "metadata": {},
     "output_type": "execute_result"
    }
   ],
   "source": [
    "np.var(x) # The function np.var() in NumPy calculates the variance of the array elements"
   ]
  },
  {
   "cell_type": "code",
   "execution_count": 45,
   "id": "a991af7b",
   "metadata": {},
   "outputs": [
    {
     "data": {
      "text/plain": [
       "array([206.25, 206.25, 206.25, 206.25, 206.25])"
      ]
     },
     "execution_count": 45,
     "metadata": {},
     "output_type": "execute_result"
    }
   ],
   "source": [
    "np.var(x,axis=0) # Calculates the variance of the array elements in columns "
   ]
  },
  {
   "cell_type": "code",
   "execution_count": 46,
   "id": "47919cbd",
   "metadata": {},
   "outputs": [
    {
     "data": {
      "text/plain": [
       "array([2., 2., 2., 2., 2., 2., 2., 2., 2., 2.])"
      ]
     },
     "execution_count": 46,
     "metadata": {},
     "output_type": "execute_result"
    }
   ],
   "source": [
    "np.var(x,axis=1) # Calculates the variance of the array elements in rows "
   ]
  },
  {
   "cell_type": "code",
   "execution_count": 47,
   "id": "39afd8ad",
   "metadata": {},
   "outputs": [
    {
     "data": {
      "text/plain": [
       "1225"
      ]
     },
     "execution_count": 47,
     "metadata": {},
     "output_type": "execute_result"
    }
   ],
   "source": [
    "np.sum(x) # calculates the sum of the array elements  "
   ]
  },
  {
   "cell_type": "code",
   "execution_count": 48,
   "id": "549dee2c",
   "metadata": {},
   "outputs": [
    {
     "data": {
      "text/plain": [
       "array([225, 235, 245, 255, 265])"
      ]
     },
     "execution_count": 48,
     "metadata": {},
     "output_type": "execute_result"
    }
   ],
   "source": [
    "np.sum(x,axis=0) # calculates the sum of the array elements in columns "
   ]
  },
  {
   "cell_type": "code",
   "execution_count": 49,
   "id": "a9a4768d",
   "metadata": {},
   "outputs": [
    {
     "data": {
      "text/plain": [
       "array([ 10,  35,  60,  85, 110, 135, 160, 185, 210, 235])"
      ]
     },
     "execution_count": 49,
     "metadata": {},
     "output_type": "execute_result"
    }
   ],
   "source": [
    "np.sum(x,axis=1)#calculates the sum of the array elements in rows "
   ]
  },
  {
   "cell_type": "markdown",
   "id": "7901d6b2",
   "metadata": {},
   "source": [
    "<font size=4>A percentile is a measure used in statistics to express the relative standing of a value within a dataset. It indicates the value below which a given percentage of observations fall. For example, the 25th percentile (also known as the first quartile) is the value below which 25% of the data falls."
   ]
  },
  {
   "cell_type": "code",
   "execution_count": 50,
   "id": "70fc383e",
   "metadata": {},
   "outputs": [
    {
     "name": "stdout",
     "output_type": "stream",
     "text": [
      "\n",
      "25th Percentile: 12.25\n",
      "50th Percentile: 24.5\n",
      "75th Percentile: 36.75\n",
      "100th Percentile: 49.0\n"
     ]
    }
   ],
   "source": [
    "p25=np.percentile(x,25)\n",
    "p50=np.percentile(x,50)\n",
    "p75=np.percentile(x,75)\n",
    "p100=np.percentile(x,100)\n",
    "print()\n",
    "print(\"25th Percentile:\",p25)\n",
    "print(\"50th Percentile:\",p50)\n",
    "print(\"75th Percentile:\",p75)\n",
    "print(\"100th Percentile:\",p100)"
   ]
  },
  {
   "cell_type": "markdown",
   "id": "519b44ce",
   "metadata": {},
   "source": [
    "## Iterating through an array"
   ]
  },
  {
   "cell_type": "code",
   "execution_count": 148,
   "id": "5e73fcec",
   "metadata": {},
   "outputs": [
    {
     "name": "stdout",
     "output_type": "stream",
     "text": [
      "2\n",
      "4\n",
      "5\n",
      "7\n",
      "8\n",
      "4\n",
      "1\n",
      "5\n",
      "6\n"
     ]
    }
   ],
   "source": [
    "# 1D array\n",
    "a1 = np.array([2,4,5,7,8,4,1,5,6])\n",
    "for i in a1:\n",
    "    print(i)"
   ]
  },
  {
   "cell_type": "code",
   "execution_count": 155,
   "id": "f1be8ee3",
   "metadata": {},
   "outputs": [
    {
     "name": "stdout",
     "output_type": "stream",
     "text": [
      "[0 1 2 3 4]\n",
      "\n",
      "[5 6 7 8 9]\n",
      "\n",
      "[10 11 12 13 14]\n",
      "\n",
      "[15 16 17 18 19]\n",
      "\n"
     ]
    }
   ],
   "source": [
    "# 2D array\n",
    "a2 = np.arange(20).reshape(4,5)\n",
    "for i in a2:\n",
    "    print(i,end='\\n\\n')"
   ]
  },
  {
   "cell_type": "code",
   "execution_count": 154,
   "id": "12a8b773",
   "metadata": {},
   "outputs": [
    {
     "name": "stdout",
     "output_type": "stream",
     "text": [
      "[[0 1]\n",
      " [2 3]]\n",
      "\n",
      "[[4 5]\n",
      " [6 7]]\n",
      "\n",
      "[[ 8  9]\n",
      " [10 11]]\n",
      "\n",
      "[[12 13]\n",
      " [14 15]]\n",
      "\n",
      "[[16 17]\n",
      " [18 19]]\n",
      "\n"
     ]
    }
   ],
   "source": [
    "# 3D array \n",
    "a3 = np.arange(20).reshape(5,2,2)\n",
    "for i in a3:\n",
    "    print(i,end='\\n\\n')"
   ]
  },
  {
   "cell_type": "code",
   "execution_count": 156,
   "id": "7e0ecdbb",
   "metadata": {},
   "outputs": [
    {
     "name": "stdout",
     "output_type": "stream",
     "text": [
      "0\n",
      "1\n",
      "2\n",
      "3\n",
      "4\n",
      "5\n",
      "6\n",
      "7\n",
      "8\n",
      "9\n",
      "10\n",
      "11\n",
      "12\n",
      "13\n",
      "14\n",
      "15\n",
      "16\n",
      "17\n",
      "18\n",
      "19\n"
     ]
    }
   ],
   "source": [
    "# np.nditer function\n",
    "for i in np.nditer(a3):\n",
    "    print(i)"
   ]
  },
  {
   "cell_type": "markdown",
   "id": "521c9d4a",
   "metadata": {},
   "source": [
    "### Some Other reshaping functions."
   ]
  },
  {
   "cell_type": "code",
   "execution_count": 179,
   "id": "b0ddbe5b",
   "metadata": {},
   "outputs": [
    {
     "name": "stdout",
     "output_type": "stream",
     "text": [
      "[[ 0  1  2]\n",
      " [ 3  4  5]\n",
      " [ 6  7  8]\n",
      " [ 9 10 11]]\n",
      "Shape of array : (4, 3)\n",
      "\n",
      "[[ 0  3  6  9]\n",
      " [ 1  4  7 10]\n",
      " [ 2  5  8 11]]\n",
      "Shape of new array after transpose : (3, 4)\n"
     ]
    }
   ],
   "source": [
    "# transpose() -> Convert row to column and column to row.\n",
    "\n",
    "arr2 = np.arange(12).reshape(4,3) # 2D array.\n",
    "print(arr2)\n",
    "print(\"Shape of array :\",arr2.shape,end='\\n\\n')\n",
    "\n",
    "arr2 = np.transpose(arr2)\n",
    "# arr2_new = arr2.T # Another way of transposing the array\n",
    "print(arr2)\n",
    "print(\"Shape of new array after transpose :\",arr2.shape)"
   ]
  },
  {
   "cell_type": "code",
   "execution_count": 178,
   "id": "06f65557",
   "metadata": {},
   "outputs": [
    {
     "name": "stdout",
     "output_type": "stream",
     "text": [
      "[[ 0  1  2]\n",
      " [ 3  4  5]\n",
      " [ 6  7  8]\n",
      " [ 9 10 11]]\n",
      "Shape of array : (4, 3)\n",
      "Number of dimensions : 2\n",
      "\n",
      "[ 0  1  2  3  4  5  6  7  8  9 10 11]\n",
      "Shape of new array after reval() : (12,)\n",
      "Number of dimensions after ravel() : 1\n"
     ]
    }
   ],
   "source": [
    "# ravel() -> Convert n dimension array into 1D array.\n",
    "\n",
    "arr2 = np.arange(12).reshape(4,3) # 2D array.\n",
    "print(arr2)\n",
    "print(\"Shape of array :\",arr2.shape)\n",
    "print(\"Number of dimensions :\",arr2.ndim,end='\\n\\n')\n",
    "\n",
    "arr2 = np.ravel(arr2)\n",
    "print(arr2)\n",
    "print(\"Shape of new array after reval() :\",arr2.shape)\n",
    "print(\"Number of dimensions after ravel() :\",arr2.ndim)"
   ]
  },
  {
   "cell_type": "markdown",
   "id": "61bc9799",
   "metadata": {},
   "source": [
    "## Stacking of numpy array."
   ]
  },
  {
   "cell_type": "code",
   "execution_count": 181,
   "id": "b2387732",
   "metadata": {},
   "outputs": [],
   "source": [
    "s1 = np.arange(12).reshape(3,4)\n",
    "s2 = np.arange(12,24).reshape(3,4)"
   ]
  },
  {
   "cell_type": "code",
   "execution_count": 183,
   "id": "8c99f2c0",
   "metadata": {},
   "outputs": [
    {
     "data": {
      "text/plain": [
       "array([[ 0,  1,  2,  3],\n",
       "       [ 4,  5,  6,  7],\n",
       "       [ 8,  9, 10, 11]])"
      ]
     },
     "execution_count": 183,
     "metadata": {},
     "output_type": "execute_result"
    }
   ],
   "source": [
    "s1"
   ]
  },
  {
   "cell_type": "code",
   "execution_count": 185,
   "id": "2e88c3d0",
   "metadata": {},
   "outputs": [
    {
     "data": {
      "text/plain": [
       "array([[ 0,  1,  2,  3, 12, 13, 14, 15],\n",
       "       [ 4,  5,  6,  7, 16, 17, 18, 19],\n",
       "       [ 8,  9, 10, 11, 20, 21, 22, 23]])"
      ]
     },
     "execution_count": 185,
     "metadata": {},
     "output_type": "execute_result"
    }
   ],
   "source": [
    "# horizontal stacking\n",
    "s3 = np.hstack((s1,s2))\n",
    "s3"
   ]
  },
  {
   "cell_type": "code",
   "execution_count": 186,
   "id": "2fe4a7fb",
   "metadata": {},
   "outputs": [
    {
     "data": {
      "text/plain": [
       "array([[ 0,  1,  2,  3],\n",
       "       [ 4,  5,  6,  7],\n",
       "       [ 8,  9, 10, 11],\n",
       "       [12, 13, 14, 15],\n",
       "       [16, 17, 18, 19],\n",
       "       [20, 21, 22, 23]])"
      ]
     },
     "execution_count": 186,
     "metadata": {},
     "output_type": "execute_result"
    }
   ],
   "source": [
    "# vertical stacking\n",
    "s4 = np.vstack((s1,s2))\n",
    "s4"
   ]
  },
  {
   "cell_type": "markdown",
   "id": "2254eef9",
   "metadata": {},
   "source": [
    "## Spliting of numpy array."
   ]
  },
  {
   "cell_type": "code",
   "execution_count": 194,
   "id": "86c64f75",
   "metadata": {},
   "outputs": [
    {
     "data": {
      "text/plain": [
       "[array([[ 0,  1,  2,  3],\n",
       "        [ 4,  5,  6,  7],\n",
       "        [ 8,  9, 10, 11]]),\n",
       " array([[12, 13, 14, 15],\n",
       "        [16, 17, 18, 19],\n",
       "        [20, 21, 22, 23]])]"
      ]
     },
     "execution_count": 194,
     "metadata": {},
     "output_type": "execute_result"
    }
   ],
   "source": [
    "# Horizontal Spliting:\n",
    "np.hsplit(s3,2)"
   ]
  },
  {
   "cell_type": "code",
   "execution_count": 195,
   "id": "86bfa917",
   "metadata": {},
   "outputs": [
    {
     "name": "stdout",
     "output_type": "stream",
     "text": [
      "[[ 0  1  2  3]\n",
      " [ 4  5  6  7]\n",
      " [ 8  9 10 11]]\n",
      "\n",
      "[[12 13 14 15]\n",
      " [16 17 18 19]\n",
      " [20 21 22 23]]\n"
     ]
    }
   ],
   "source": [
    "a,b = np.hsplit(s3,2)\n",
    "print(a,end='\\n\\n')\n",
    "print(b)"
   ]
  },
  {
   "cell_type": "code",
   "execution_count": 196,
   "id": "e96e98e1",
   "metadata": {},
   "outputs": [
    {
     "data": {
      "text/plain": [
       "[array([[ 0,  1,  2,  3],\n",
       "        [ 4,  5,  6,  7],\n",
       "        [ 8,  9, 10, 11]]),\n",
       " array([[12, 13, 14, 15],\n",
       "        [16, 17, 18, 19],\n",
       "        [20, 21, 22, 23]])]"
      ]
     },
     "execution_count": 196,
     "metadata": {},
     "output_type": "execute_result"
    }
   ],
   "source": [
    "# Vertical Spliting\n",
    "np.vsplit(s4,2)"
   ]
  },
  {
   "cell_type": "code",
   "execution_count": 197,
   "id": "0e3b0033",
   "metadata": {},
   "outputs": [
    {
     "name": "stdout",
     "output_type": "stream",
     "text": [
      "[[ 0  1  2  3]\n",
      " [ 4  5  6  7]\n",
      " [ 8  9 10 11]]\n",
      "\n",
      "[[12 13 14 15]\n",
      " [16 17 18 19]\n",
      " [20 21 22 23]]\n"
     ]
    }
   ],
   "source": [
    "c,d = np.vsplit(s4,2)\n",
    "print(c,end='\\n\\n')\n",
    "print(d)"
   ]
  },
  {
   "cell_type": "code",
   "execution_count": 199,
   "id": "b7338b4f",
   "metadata": {},
   "outputs": [
    {
     "ename": "ValueError",
     "evalue": "array split does not result in an equal division",
     "output_type": "error",
     "traceback": [
      "\u001b[1;31m---------------------------------------------------------------------------\u001b[0m",
      "\u001b[1;31mValueError\u001b[0m                                Traceback (most recent call last)",
      "Cell \u001b[1;32mIn[199], line 2\u001b[0m\n\u001b[0;32m      1\u001b[0m \u001b[38;5;66;03m# unequal dividion results in error\u001b[39;00m\n\u001b[1;32m----> 2\u001b[0m \u001b[43mnp\u001b[49m\u001b[38;5;241;43m.\u001b[39;49m\u001b[43mhsplit\u001b[49m\u001b[43m(\u001b[49m\u001b[43ms4\u001b[49m\u001b[43m,\u001b[49m\u001b[38;5;241;43m3\u001b[39;49m\u001b[43m)\u001b[49m\n",
      "File \u001b[1;32m~\\AppData\\Roaming\\Python\\Python312\\site-packages\\numpy\\lib\\shape_base.py:938\u001b[0m, in \u001b[0;36mhsplit\u001b[1;34m(ary, indices_or_sections)\u001b[0m\n\u001b[0;32m    936\u001b[0m     \u001b[38;5;28;01mraise\u001b[39;00m \u001b[38;5;167;01mValueError\u001b[39;00m(\u001b[38;5;124m'\u001b[39m\u001b[38;5;124mhsplit only works on arrays of 1 or more dimensions\u001b[39m\u001b[38;5;124m'\u001b[39m)\n\u001b[0;32m    937\u001b[0m \u001b[38;5;28;01mif\u001b[39;00m ary\u001b[38;5;241m.\u001b[39mndim \u001b[38;5;241m>\u001b[39m \u001b[38;5;241m1\u001b[39m:\n\u001b[1;32m--> 938\u001b[0m     \u001b[38;5;28;01mreturn\u001b[39;00m \u001b[43msplit\u001b[49m\u001b[43m(\u001b[49m\u001b[43mary\u001b[49m\u001b[43m,\u001b[49m\u001b[43m \u001b[49m\u001b[43mindices_or_sections\u001b[49m\u001b[43m,\u001b[49m\u001b[43m \u001b[49m\u001b[38;5;241;43m1\u001b[39;49m\u001b[43m)\u001b[49m\n\u001b[0;32m    939\u001b[0m \u001b[38;5;28;01melse\u001b[39;00m:\n\u001b[0;32m    940\u001b[0m     \u001b[38;5;28;01mreturn\u001b[39;00m split(ary, indices_or_sections, \u001b[38;5;241m0\u001b[39m)\n",
      "File \u001b[1;32m~\\AppData\\Roaming\\Python\\Python312\\site-packages\\numpy\\lib\\shape_base.py:864\u001b[0m, in \u001b[0;36msplit\u001b[1;34m(ary, indices_or_sections, axis)\u001b[0m\n\u001b[0;32m    862\u001b[0m     N \u001b[38;5;241m=\u001b[39m ary\u001b[38;5;241m.\u001b[39mshape[axis]\n\u001b[0;32m    863\u001b[0m     \u001b[38;5;28;01mif\u001b[39;00m N \u001b[38;5;241m%\u001b[39m sections:\n\u001b[1;32m--> 864\u001b[0m         \u001b[38;5;28;01mraise\u001b[39;00m \u001b[38;5;167;01mValueError\u001b[39;00m(\n\u001b[0;32m    865\u001b[0m             \u001b[38;5;124m'\u001b[39m\u001b[38;5;124marray split does not result in an equal division\u001b[39m\u001b[38;5;124m'\u001b[39m) \u001b[38;5;28;01mfrom\u001b[39;00m \u001b[38;5;28;01mNone\u001b[39;00m\n\u001b[0;32m    866\u001b[0m \u001b[38;5;28;01mreturn\u001b[39;00m array_split(ary, indices_or_sections, axis)\n",
      "\u001b[1;31mValueError\u001b[0m: array split does not result in an equal division"
     ]
    }
   ],
   "source": [
    "# Unequal dividion results in error\n",
    "np.hsplit(s4,3)"
   ]
  }
 ],
 "metadata": {
  "kernelspec": {
   "display_name": "Python 3",
   "language": "python",
   "name": "python3"
  },
  "language_info": {
   "codemirror_mode": {
    "name": "ipython",
    "version": 3
   },
   "file_extension": ".py",
   "mimetype": "text/x-python",
   "name": "python",
   "nbconvert_exporter": "python",
   "pygments_lexer": "ipython3",
   "version": "3.12.3"
  }
 },
 "nbformat": 4,
 "nbformat_minor": 5
}
