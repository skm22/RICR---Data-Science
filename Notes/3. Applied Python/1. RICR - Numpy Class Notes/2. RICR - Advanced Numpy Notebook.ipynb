{
  "nbformat": 4,
  "nbformat_minor": 0,
  "metadata": {
    "colab": {
      "provenance": []
    },
    "kernelspec": {
      "name": "python3",
      "display_name": "Python 3"
    },
    "language_info": {
      "name": "python"
    }
  },
  "cells": [
    {
      "cell_type": "markdown",
      "source": [
        "# Advanced Numpy"
      ],
      "metadata": {
        "id": "coYgKJmyuECg"
      }
    },
    {
      "cell_type": "code",
      "execution_count": null,
      "metadata": {
        "id": "4cQuq4Iytrjy"
      },
      "outputs": [],
      "source": [
        "import numpy as np"
      ]
    },
    {
      "cell_type": "markdown",
      "source": [
        "## Python List VS Numpy Array.\n",
        "  1. Speed\n"
      ],
      "metadata": {
        "id": "ykCbyCgfuJzT"
      }
    },
    {
      "cell_type": "code",
      "source": [
        "import time"
      ],
      "metadata": {
        "id": "BqL2zt1CyRxn"
      },
      "execution_count": null,
      "outputs": []
    },
    {
      "cell_type": "code",
      "source": [
        "# Time taken by the python list:\n",
        "\n",
        "lst1 = [i for i in range(23456789)]\n",
        "lst2 = [i for i in range(23456789)]\n",
        "\n",
        "sum_lst = []\n",
        "start = time.time()  # time start from here\n",
        "\n",
        "for i in range(len(lst1)):\n",
        "  sum_lst.append(lst1[i] + lst2[i])  # Creating new lst from adding lst1 and lst2 elements.\n",
        "\n",
        "res1 = time.time()-start  # current time - starting time -> how much time is taken by the above for loop\n",
        "print(res1)"
      ],
      "metadata": {
        "colab": {
          "base_uri": "https://localhost:8080/"
        },
        "id": "-bunSTFStzoO",
        "outputId": "bd8ab8c9-587a-454d-e27f-30161adbe7cb"
      },
      "execution_count": null,
      "outputs": [
        {
          "output_type": "stream",
          "name": "stdout",
          "text": [
            "7.493910312652588\n"
          ]
        }
      ]
    },
    {
      "cell_type": "code",
      "source": [
        "# Time taken by the numpy array:\n",
        "\n",
        "arr1 = np.arange(23456789)\n",
        "arr2 = np.arange(23456789)\n",
        "\n",
        "start = time.time()\n",
        "sum_arr = arr1 + arr2\n",
        "res2 = time.time()-start\n",
        "print(res2)"
      ],
      "metadata": {
        "colab": {
          "base_uri": "https://localhost:8080/"
        },
        "id": "3H3YkEa9vQVB",
        "outputId": "8ae5e6e8-2768-4dce-a0eb-93b433962816"
      },
      "execution_count": null,
      "outputs": [
        {
          "output_type": "stream",
          "name": "stdout",
          "text": [
            "0.0889592170715332\n"
          ]
        }
      ]
    },
    {
      "cell_type": "markdown",
      "source": [
        "This indicates that numpy array is much faster than python list.    \n",
        "-> Rough figure given below."
      ],
      "metadata": {
        "id": "abwgv2Aywsnh"
      }
    },
    {
      "cell_type": "code",
      "source": [
        "final = res1/res2\n",
        "print(final)"
      ],
      "metadata": {
        "colab": {
          "base_uri": "https://localhost:8080/"
        },
        "id": "3gRHQP6-wkau",
        "outputId": "a8ba63c4-c4ba-4334-aae8-cf2d4da9416f"
      },
      "execution_count": null,
      "outputs": [
        {
          "output_type": "stream",
          "name": "stdout",
          "text": [
            "84.23984112435075\n"
          ]
        }
      ]
    },
    {
      "cell_type": "markdown",
      "source": [
        "  2. Memory"
      ],
      "metadata": {
        "id": "bWtLaI8GyiE8"
      }
    },
    {
      "cell_type": "code",
      "source": [
        "import sys"
      ],
      "metadata": {
        "id": "BJ42nyotxhlr"
      },
      "execution_count": null,
      "outputs": []
    },
    {
      "cell_type": "code",
      "source": [
        "lst = [i for i in range(23456789)]\n",
        "lst_size = sys.getsizeof(lst) # This function will return the size of lst variable.\n",
        "print(lst_size)"
      ],
      "metadata": {
        "colab": {
          "base_uri": "https://localhost:8080/"
        },
        "id": "Od2p5VaJykIk",
        "outputId": "e4dbaae6-492a-4fd4-fde8-a2c2e9cba4bc"
      },
      "execution_count": null,
      "outputs": [
        {
          "output_type": "stream",
          "name": "stdout",
          "text": [
            "203199480\n"
          ]
        }
      ]
    },
    {
      "cell_type": "markdown",
      "source": [
        "lst occupies `203199480` bytes of memory."
      ],
      "metadata": {
        "id": "TIvhaVwXz3rj"
      }
    },
    {
      "cell_type": "code",
      "source": [
        "arr = np.arange(23456789)\n",
        "arr_size = sys.getsizeof(arr) # return the size of numpy array i.e. arr\n",
        "print(arr_size)"
      ],
      "metadata": {
        "colab": {
          "base_uri": "https://localhost:8080/"
        },
        "id": "eOWvVX6Uy1ia",
        "outputId": "7d491a23-9c14-4936-ac08-98f1e3ccd11d"
      },
      "execution_count": null,
      "outputs": [
        {
          "output_type": "stream",
          "name": "stdout",
          "text": [
            "187654424\n"
          ]
        }
      ]
    },
    {
      "cell_type": "markdown",
      "source": [
        "In numpy array we have the customization of dtype."
      ],
      "metadata": {
        "id": "Mxh5Mw-EzGsa"
      }
    },
    {
      "cell_type": "code",
      "source": [
        "arr = np.arange(23456789,dtype = np.int32) # int32\n",
        "arr_size = sys.getsizeof(arr)\n",
        "print(arr_size)\n",
        "\n",
        "arr = np.arange(23456789,dtype = np.int16) # int16\n",
        "arr_size1 = sys.getsizeof(arr)\n",
        "print(arr_size1)\n",
        "\n",
        "arr = np.arange(23456789,dtype = np.int8) # int8\n",
        "arr_size2 = sys.getsizeof(arr)\n",
        "print(arr_size2)"
      ],
      "metadata": {
        "colab": {
          "base_uri": "https://localhost:8080/"
        },
        "id": "1bACzABGzAo6",
        "outputId": "bf81bc43-d22d-44e6-9fc6-d513b6e4752d"
      },
      "execution_count": null,
      "outputs": [
        {
          "output_type": "stream",
          "name": "stdout",
          "text": [
            "93827268\n",
            "46913690\n",
            "23456901\n"
          ]
        }
      ]
    },
    {
      "cell_type": "markdown",
      "source": [
        "This indicates that numpy array uses less memory than python list."
      ],
      "metadata": {
        "id": "u8Dxi_oxzX4R"
      }
    },
    {
      "cell_type": "markdown",
      "source": [
        "## Normal Slicing in numpy Array."
      ],
      "metadata": {
        "id": "fOMc30cK1xZr"
      }
    },
    {
      "cell_type": "code",
      "source": [
        "# 1D Array:\n",
        "arr1 = np.array([1,2,3,4,5,6,7,8,9,10])\n",
        "print(arr1)\n",
        "print(arr1[3:9])\n",
        "print(arr1[-2::-1])\n",
        "print(arr1[::-2])"
      ],
      "metadata": {
        "colab": {
          "base_uri": "https://localhost:8080/"
        },
        "id": "Xohu18Ye13-m",
        "outputId": "584019e8-b154-4d1c-f2fb-7a24c99fad72"
      },
      "execution_count": null,
      "outputs": [
        {
          "output_type": "stream",
          "name": "stdout",
          "text": [
            "[ 1  2  3  4  5  6  7  8  9 10]\n",
            "[4 5 6 7 8 9]\n",
            "[9 8 7 6 5 4 3 2 1]\n",
            "[10  8  6  4  2]\n"
          ]
        }
      ]
    },
    {
      "cell_type": "code",
      "source": [
        "# 2D Array:\n",
        "arr2 = np.arange(12).reshape(4,3)\n",
        "print(arr2)"
      ],
      "metadata": {
        "colab": {
          "base_uri": "https://localhost:8080/"
        },
        "id": "eXLjBtbg2tvT",
        "outputId": "4b2158fe-0c7c-4eb4-9a0e-cb52a9139b8b"
      },
      "execution_count": null,
      "outputs": [
        {
          "output_type": "stream",
          "name": "stdout",
          "text": [
            "[[ 0  1  2]\n",
            " [ 3  4  5]\n",
            " [ 6  7  8]\n",
            " [ 9 10 11]]\n"
          ]
        }
      ]
    },
    {
      "cell_type": "code",
      "source": [
        "print(arr2[1:3,1:3])"
      ],
      "metadata": {
        "colab": {
          "base_uri": "https://localhost:8080/"
        },
        "id": "cpg_27ZR3uat",
        "outputId": "910d8ad0-d7ba-491b-afa1-074cb938fbc2"
      },
      "execution_count": null,
      "outputs": [
        {
          "output_type": "stream",
          "name": "stdout",
          "text": [
            "[[4 5]\n",
            " [7 8]]\n"
          ]
        }
      ]
    },
    {
      "cell_type": "markdown",
      "source": [
        "## Advanced Indexing.\n",
        "  1. Fancy Indexing"
      ],
      "metadata": {
        "id": "-f1FjgAF1gNQ"
      }
    },
    {
      "cell_type": "code",
      "source": [
        "arr2"
      ],
      "metadata": {
        "colab": {
          "base_uri": "https://localhost:8080/"
        },
        "id": "e7fFEbiozSmj",
        "outputId": "aaedfa62-bb45-4ffe-df1c-c29fc8696096"
      },
      "execution_count": null,
      "outputs": [
        {
          "output_type": "execute_result",
          "data": {
            "text/plain": [
              "array([[ 0,  1,  2],\n",
              "       [ 3,  4,  5],\n",
              "       [ 6,  7,  8],\n",
              "       [ 9, 10, 11]])"
            ]
          },
          "metadata": {},
          "execution_count": 30
        }
      ]
    },
    {
      "cell_type": "code",
      "source": [
        "arr2[[0,1,2]] # This will fetch the rows whoes index values are 0,1,2"
      ],
      "metadata": {
        "colab": {
          "base_uri": "https://localhost:8080/"
        },
        "id": "UIKm2Tri42xR",
        "outputId": "8809c1be-95ab-4d3f-f920-d2041d8ed49a"
      },
      "execution_count": null,
      "outputs": [
        {
          "output_type": "execute_result",
          "data": {
            "text/plain": [
              "array([[0, 1, 2],\n",
              "       [3, 4, 5],\n",
              "       [6, 7, 8]])"
            ]
          },
          "metadata": {},
          "execution_count": 34
        }
      ]
    },
    {
      "cell_type": "code",
      "source": [
        "arr2[:,[1,2]] # This will fetch all the rows but those columns whose index value are 1,2"
      ],
      "metadata": {
        "colab": {
          "base_uri": "https://localhost:8080/"
        },
        "id": "8qLfdlD14DNf",
        "outputId": "d90f79ca-2268-4631-cb45-b015ec30aee0"
      },
      "execution_count": null,
      "outputs": [
        {
          "output_type": "execute_result",
          "data": {
            "text/plain": [
              "array([[ 1,  2],\n",
              "       [ 4,  5],\n",
              "       [ 7,  8],\n",
              "       [10, 11]])"
            ]
          },
          "metadata": {},
          "execution_count": 33
        }
      ]
    },
    {
      "cell_type": "markdown",
      "source": [
        "2. Boolean Indexing."
      ],
      "metadata": {
        "id": "EIKvwTn963Rm"
      }
    },
    {
      "cell_type": "code",
      "source": [
        "arr = np.arange(24).reshape(6,4)\n",
        "arr"
      ],
      "metadata": {
        "colab": {
          "base_uri": "https://localhost:8080/"
        },
        "id": "db1_SgCZ4I2m",
        "outputId": "4f125c5c-7112-49c5-9d8d-48e936aacb96"
      },
      "execution_count": null,
      "outputs": [
        {
          "output_type": "execute_result",
          "data": {
            "text/plain": [
              "array([[ 0,  1,  2,  3],\n",
              "       [ 4,  5,  6,  7],\n",
              "       [ 8,  9, 10, 11],\n",
              "       [12, 13, 14, 15],\n",
              "       [16, 17, 18, 19],\n",
              "       [20, 21, 22, 23]])"
            ]
          },
          "metadata": {},
          "execution_count": 39
        }
      ]
    },
    {
      "cell_type": "code",
      "source": [
        "# If we compare any fixed value with an array then it will return an boolean array.\n",
        "arr > 10"
      ],
      "metadata": {
        "colab": {
          "base_uri": "https://localhost:8080/"
        },
        "id": "QX1FPnYh7idY",
        "outputId": "5997c089-d502-4362-b290-02e7844f8221"
      },
      "execution_count": null,
      "outputs": [
        {
          "output_type": "execute_result",
          "data": {
            "text/plain": [
              "array([[False, False, False, False],\n",
              "       [False, False, False, False],\n",
              "       [False, False, False,  True],\n",
              "       [ True,  True,  True,  True],\n",
              "       [ True,  True,  True,  True],\n",
              "       [ True,  True,  True,  True]])"
            ]
          },
          "metadata": {},
          "execution_count": 40
        }
      ]
    },
    {
      "cell_type": "code",
      "source": [
        "# If we pass this boolean array to the original array, then it is called as masking.\n",
        "arr[arr > 10] # arr values greater than 10"
      ],
      "metadata": {
        "colab": {
          "base_uri": "https://localhost:8080/"
        },
        "id": "URZ8FipY7_4N",
        "outputId": "dd066e44-6799-4815-d877-03b37822d3d1"
      },
      "execution_count": null,
      "outputs": [
        {
          "output_type": "execute_result",
          "data": {
            "text/plain": [
              "array([11, 12, 13, 14, 15, 16, 17, 18, 19, 20, 21, 22, 23])"
            ]
          },
          "metadata": {},
          "execution_count": 41
        }
      ]
    },
    {
      "cell_type": "code",
      "source": [
        "# arr values less than 20\n",
        "arr[arr<20]"
      ],
      "metadata": {
        "colab": {
          "base_uri": "https://localhost:8080/"
        },
        "id": "GtOeIFx68dsx",
        "outputId": "8d7ea01d-6b02-43e5-e741-9deb696bdf6a"
      },
      "execution_count": null,
      "outputs": [
        {
          "output_type": "execute_result",
          "data": {
            "text/plain": [
              "array([ 0,  1,  2,  3,  4,  5,  6,  7,  8,  9, 10, 11, 12, 13, 14, 15, 16,\n",
              "       17, 18, 19])"
            ]
          },
          "metadata": {},
          "execution_count": 42
        }
      ]
    },
    {
      "cell_type": "code",
      "source": [
        "# All even values in arr\n",
        "arr[arr % 2 == 0]"
      ],
      "metadata": {
        "colab": {
          "base_uri": "https://localhost:8080/"
        },
        "id": "IA7EUhzU8wqR",
        "outputId": "f2f126aa-d541-4e29-e6c5-f8c21ef324f8"
      },
      "execution_count": null,
      "outputs": [
        {
          "output_type": "execute_result",
          "data": {
            "text/plain": [
              "array([ 0,  2,  4,  6,  8, 10, 12, 14, 16, 18, 20, 22])"
            ]
          },
          "metadata": {},
          "execution_count": 43
        }
      ]
    },
    {
      "cell_type": "code",
      "source": [
        "# The values which are greater than 15 and odd in arr\n",
        "arr[(arr > 10) & (arr % 2 != 0)]"
      ],
      "metadata": {
        "colab": {
          "base_uri": "https://localhost:8080/"
        },
        "id": "yjAeA8e884Ue",
        "outputId": "9b1f2699-f51a-4b7c-8030-e28866047930"
      },
      "execution_count": null,
      "outputs": [
        {
          "output_type": "execute_result",
          "data": {
            "text/plain": [
              "array([11, 13, 15, 17, 19, 21, 23])"
            ]
          },
          "metadata": {},
          "execution_count": 49
        }
      ]
    },
    {
      "cell_type": "code",
      "source": [
        "# The values which are divisible by 4\n",
        "arr[arr % 4 == 0]"
      ],
      "metadata": {
        "colab": {
          "base_uri": "https://localhost:8080/"
        },
        "id": "vGn5o6Z-9HSA",
        "outputId": "96fba9e1-11db-430e-b853-97cb658bab20"
      },
      "execution_count": null,
      "outputs": [
        {
          "output_type": "execute_result",
          "data": {
            "text/plain": [
              "array([ 0,  4,  8, 12, 16, 20])"
            ]
          },
          "metadata": {},
          "execution_count": 47
        }
      ]
    },
    {
      "cell_type": "markdown",
      "source": [
        "# Broadcasting.\n",
        "Broadcasting allows NumPy to perform element-wise operations on arrays of different shapes by stretching the smaller array to match the shape of the larger one.\n",
        "\n",
        "\n",
        "\n",
        " - The term broadcasting describes how NumPy treats arrays with different shapes during arithmetic operations.\n",
        "\n",
        " - The smaller array is “broadcast” across the larger array so that they have\n",
        "compatible shapes.\n",
        "\n"
      ],
      "metadata": {
        "id": "SDdTycxEBEaA"
      }
    },
    {
      "cell_type": "markdown",
      "source": [
        "![numpy broadcasting.png](data:image/png;base64,iVBORw0KGgoAAAANSUhEUgAABCEAAAJ+CAYAAACNehrmAAAACXBIWXMAAAsTAAALEwEAmpwYAAAgAElEQVR4nOzdeVzU5fr/8dfMAMOuQCgoiqIo4IqoqGi44Ja2WFnntJt26py+57Sd6pgtJ7XsnPrlabU6dcrM9ixTU1TcABVcADdUEEFRNlmHYRhgZn5/TE6SqCDIZ4Dr+Xj0qGb5zJuZG2bm+tz3dassFosFIYQQQgghhBBCiGtMrXQAIYQQQgghhBBCdAxShBBCCCGEEEIIIUSrkCKEEEIIIYQQQgghWoUUIYQQQgghhBBCCNEqpAghhBBCCCGEEEKIViFFCCGEEEIIIYQQQrQKKUIIIYQQQgghhBCiVUgRQgghhBBCCCGEEK1CihBCCCGEEEIIIYRoFVKEEEIIIYQQQgghRKuQIoQQQgghhBBCCCFahRQhhBBCCCGEEEII0SqkCCGEEEIIIYQQQohWIUUIIYQQQgghhBBCtAopQgghhBBCCCGEEKJVSBFCYDab2bNnD6+88goVFRVKx7ms06dPs3jxYnJzc5WOItooJcd7Rx6/VVVVfPPNN6xYsULpKJdlsVhYsWIFP/30EzU1NUrHEQqQsSqEEEJcW1KE6OAqKyt54403WLBgAbt37+bMmTNKR7qs9PR0tm3bxty5c1m+fLl88BJNovR476jjNzMzk8cee4z//ve/7N+/H71er3SkS9LpdOzevZt3332XRx99lMzMTKUjiVYkY1UIIYS49hyUDiCUU1xczOLFizl48CBqtZoxY8bQpUuX+jcyGmHdOlizBs6dA5UKevSAuXMhPNz6/81x8iT8739w5Ij1sdzc4Prr4YEHrP/9O2FhYQwePJgDBw6wYsUKCgoKePTRR3Fr4LZCXMgexntHHL/79u2zzTpxc3Pj+uuvx9HR8eIbGo3w44/www9gMMD8+RAV1fwATXxNnZ2diYmJITc3l5MnT/LMM8+wYMECIiIimp9F2LVGjVW9HlauhB07oKwMHBwgOBj+8hfo3bt5AWSsCiGE6CA0//znP/+pdAjR+vR6Pa+//jr79+9Hq9Xy9NNPc88999T/MlRaCs8/D3FxUFVlvcxigfJy2LbN+oFo4MCr/2K2di0sWQJnz4LJZL2sthYyMyExEUaOBHf3enfx9PRkwoQJWCwWDh8+TGZmJkajkWHDhqFWy8Qe0TC7GO90vPGbmZnJokWLKCsro1evXrz22muMGjUKjUbz242MRti4EV5+Gfbuhbo66+XjxkHPns0LcBWvqUajITQ0lBEjRpCamkpRUREpKSmEh4fj7e3dvDzCbjVqrJ48Cc8+CykpUF1tvcxsthYMNm0Cf3/o1evqAshYFUII0YFIEaKD2rBhAz/++CMqlYqHH36Y6dOnX/wlyNnZ+u+MDPjTn6xnesaPh6wsKC62Fg8iI8HD4+pC+PhAerr17NFzz8Hs2eDtDYcOQUUFODnB0KEX3U2j0TBo0CAqKys5evQoJ0+eJCQkhO7du19dDtHu2cV4/1VHGb/V1dW8++67HD9+HB8fH1566SWCgoIuvuGxY/Dmm9bZD46O1i9e0DJFiGa8pt7e3gwcOJBdu3ZRXFxMSUkJo0ePxsFBJhC2N40eqx4e1vemkhJ44gnrDIWICOtMPp0OCgth7Fjre1dTyVgVQgjRgUgRogMqKytj2bJlFBcXM3nyZB544IH6Z3vOU6mgb1+46Sbo1w9cXa1FAhcX60wFlco6Xfq6664uiKsrTJxo/aDl5WVdfhEYCGlp1g9dPj7WD3QNUKvVhIaGkp6eztmzZzEajYwZM6bhn0N0aHYz3i/QEcbvoUOH+PzzzwF46qmnGDZsWMM3dHW1Tmm/916IiYGEBOuMqJYoQjTzNfX29qZLly4kJCSQl5fH0KFD8fPza14mYXcaPVbVahg8GGbMsI5NV1fr7Aedzlo812hg0iTr5U0lY1UIIUQH0v7m/4orOnToEFlZWbi4uHDjjTde/myJSmU9O9kQBwfQapsXxsHB+sGuIVdYJ+/h4cHkyZMBOHDgAKdPn25eFtEu2dV4v0BLj1+LxcKRI0d4+umnmTp1KlOmTOGRRx4hMTERs9lc77alpaXMmTOHmJgY/vOf/1BYWMjixYuZOnUqM2bM4PXXX6e4uPiqs5hMJuLi4qitrWXAgAEMHz780jd2d4c//hHCwi79t6A5mvmaDhkyhKCgIGpra9mxYweW8zM1RLvQpLEK1jF6qb8hWq21EHG1ZKwKIYToIKQI0QGlp6djNpvp2bNn06aAG42QlGRtJAnWng0BAS0TymKxrqv9+GM4ftw65XTKlCvebdCgQfj6+lJRUcGJEydaJotoV+xyvP+qpcavxWJhzZo1PPHEE6SkpGAymTCbzWRmZvLyyy/z0UcfUXe+18Lv5OXl8eKLL7Jt2zZMJhNGo5HY2FhWrVp11Xn0ej1ZWVmAtRmn3TTevIrXtHPnzrZGf8eOHUOn013rlKIVNWusVlXBhg3w88/WAsLEidC5c8sEk7EqhBCiHZMFgx1MbW0teXl5AHTt2hUXF5fG3fFf/4L4eOt/q9Vwxx1w552XPiPUFMeOwQsv/NaMq1s3+Mc/oKE1ub/j5uaG869raQsLC5ufRbQrdjneL9BS4zc9PZ1PPvkEk8nE+PHjmTt3Lk5OTnz33XesWrWKVatWERoaSnR09EX33bdvHwMGDODtt9/G39+ftLQ0vvzyS6ZNm3bVeSoqKigpKQEgMDDwqo/Toprxml736xT4iooKDAYDnp6e1zKpaEVXNVarquCll6w9jcDaA+LRRxtVOG8UGatCCCHaOZkJ0cGYTCaqf+3q7enp2fBWeVdiNsMvv1g7hF8LeXnw1VdQWXnFm7q4uODv7w/AuXPnrk0e0WbZ+3hvifFrMplYv349er2eoKAgHnnkEfz9/fHx8eGBBx5g+PDhmM1m1qxZg16vv+j+/v7+zJ8/n7CwMLy8vIiOjuaZZ54hoBmzPoxGI0ajEQAvL6+rPs4108TX9PxzodfrqWzE3yXRdrTIWK2pge+/h2sxG0/GqhBCiHZIihAdjKOjI506dQKsZ0pqa2sbd8dnn7Vuqfnll9bmWJWV8NZb1qUTzdW/P3z7rXVK6/PPW9eI79plXZpxiSnk5xkMBtuZ7uZ8aRLtk12O9wu0xPjV6XSk/3pGNiQkBB8fH9t1zs7OtiZ72dnZFBUVXXT/4ODgevdRqVT07dsXVTO2InV3d7dNay8tLb3q47SoZrymubm5gLWQ1bmlptsLu3BVY9XVFV5/3TqePvoIQkIgP996WQO/Y00mY1UIIUQ7J0WIDkaj0djWxRcUFGAwGJp2AE9PuP9+624WOh3s2NFy4dRqGDXK2l0cYN8+65Znl1FSUkJ5eTkAXbp0abksol2w6/FOy4xfi8WCyWQCrLtu/L54cH7HDbPZbLvdha56hshluLu726aF5+TktOixm62Jr6nFYrE1DfXy8rItnxHtQ7PHarducN991iUZZ89CamrLhZOxKoQQop2SIkQHNHDgQBwdHcnKyrI15GoSrfa3tanN6KB/SecbgxmN1g9el3H8+HEqKirw8fGhV69eLZ9FtHn2PN5bYvyqVKp6hYbfd8S/sEDRWluAurq6EhoaClh7TpSVlbXK4zZaE17T8vJyjhw5AkBoaCiuV7P9orBbLTJWLxxPLb0sUMaqEEKIdkiKEB1Qr169CAwMpLa2lrVr11JTU3PpGx88aG0ceaHycvh1nT0XTONuMqPRutb1wiUXFstv01m1WusuGZdw7tw5fvzxR8C6y4DsiS4aYjfj/Xdaavx6eHjYvkQdPXq03taaOp2OnTt3AtbnwdfXt5mpG0elUjFy5Ehb8ScpKalVHrdBzXxNt27dSmZmJlqtlsjIyGYtUxH2p8ljNSHBuvTiQmVl1vczgF9nVVwVGatCCCE6CClCdECdO3dm1qxZqNVqduzYwbp16xreT7yoCN55x7rONSnJ+kEoNxc++8w6Q8HBAX7dDuxCFouF9evXc/PNN3PfffddeuvB1avhww9h2TLr2aPqaoiNtX7IA+jT55Ifuurq6vjmm2/IysrCzc2NW2+9FScnp6t8RkR7Zjfj/QItOX41Gg0xMTFotVqysrL44IMPyM/Pp6ysjE8++YRDhw6hVquZPHlyq26VGRYWRlRUFGazmf/9739kZma26PGLi4t55plnmDp16qW3IL3K1/S8zMxMvv76awCio6MZMGBAi/4Mwj40eqwePw7vvQdLllj/22iEjAz4/HMwmazbc/brd9HdZKwKIYQQ9ckWnR3UpEmTOHToEOvXr+fjjz/G0dGRG264AbX6grrU6dPWMzxVVbBoUf0DqFRwww0waNBFxzYajcTHx6PX69Hr9fz00088/vjj9aeCGwzWD28mk7XwEBtb/yDXXQf33mudDfE7NTU1fPHFF6xevRq1Ws0DDzxgOxMsREMUH+8XuBbjd/DgwcybN49ly5axbds2tm3bVu/6WbNmMel8r5VW4uTkxEMPPURmZia5ubksXryY559/nr59+7bI8bOysti/fz8A69atIzo6mv79+9e/0VW+pmD9Urd48WKKi4vp06cPc+bMwaGFt2gV9qHRY/X4cet714kT8OST9a9zcIDZs6GBbT5lrAohhBD1af75z3/+U+kQovWp1WqGDBlCdnY2OTk5JCcnc+bMGfr37//b2VJ/f5g4EWprrWdpqqutzSO7d4eHHoJbb4UGvmhpNBpycnI4dOgQAN7e3owbN67+hyJHRxg7FoKCoKDAOuXUbLb2gxg7Fv7+d+jRo95xLRYLp06dYuHChWzZsgWLxcItt9zCXXfd1Wpr3UXbpPh459qOX5VKRUhICMOHDyc/P5+ioiJUKhV9+vThscceY9asWfUeo7q6mtjYWCoqKujXrx+jRo1q1uNfiru7OwMHDmTXrl0UFBSwdetWtFotvXv3bvhLUnExbN1qfQ3GjYOePS95bLPZzK5du9Dr9dTW1jJu3DhbE1Kbq3hNq6ur+fnnn3n11VcpLS3Fx8eHF154gR6/+3sk2pdGjdV+/WD0aOtuFefOWceVgwP07QuPPQbR0daCwe/IWBVCCCHqU1kanJcsOorq6mo++ugj1q5di9ls5plnnmHKlCnNPm5FRQUvvvgihw4d4s477+Shhx5q9jEtFgv//e9/+fbbb9FqtcybN48bb7xRzviIRlNyvHfk8Xv+7HJmZia+vr68/vrrLbKl7tatW3nllVda9JinTp3i6aefpri4mAEDBvDss8/SrVu3Zh9XtA0yVoUQQohrr/1/+hWX5ezszF//+ldiYmL49ttvCQsLa5HjlpeXU1hYiKenJxMnTmyRY55vIJafn8+DDz7YIh/iRMei5HjvyOM3ICCAt99+m82bN3P8+HG6du3a7GNaLBbbbidRUVH4+/s3+5gAfn5+jBw5ktDQUGJiYqTXTAcjY1UIIYS49mQmhGhxer2eJUuWkJyczJ///GduueUW6dIt2i0Z78rYvXs3ixYtIiAggMWLF7fazh9CNJWMVSGEEKI+6QkhWpyjoyMajYZu3bpxxx13SL8G0a7JeFeGu7s7xcXFzJs3T9bAC7smY1UIIYSoT2ZCCCGEEEIIIYQQolWor3wTIYQQQgghhBBCiOaTIoQQQgghhBBCCCFaheyOcY1UVVWRm5uLp6en0lEapaKiAjc3tzaxnr2kpAR3d/c20Qm8vLwcLy8vunTponSUDu/06dMYjUbc3d2VjnJFBoOBmpoaOnXqpHSUKzIajVRVVeHl5aV0lCsymUzo9Xr69eundJQOJycnh9ra2jbx+1dVVUVdXV2beP82Go0YDAY6d+6sdJQrqquro6qqSn7/hBBCSBHiWjl9+jQ7d+5UOoawA35+fkyfPl3pGB3erl270Ov1SscQdsDf3x8PDw+lY3Qou3btwmAwKB1D2IGAgABcXV2VjiGEEEJBUoS4Rtzd3VGpVEQP8cFFa9+zC2pqzGxJPcfIkM54e9r/7ILYPYUM7OVBd18XpaNcUfyBYry9vZWOIcB6ptDBjS6Bg5WOckWl+ZkYdMV0C45UOsoVVRTnUlZwgp5h0UpHuSKDrpiC7FS0Wq3SUTqczp07Y3KqwSPAUekoV1SVX0etwUyn3vb/fmgoqcNQZMK7v/2P6ZpKE5Wn6nB0tP8xIIQQ4tqSIsQ14ujoiMViwbeTE+4u9v00G4wmLBYL3h6O+HnZ/wcZsODp6tAmsmrUqjaxbKQjcHR0ROOgxtXT/pfG6ErOolKXt4ms1fpyQNUmsppN1r91ovU5OjqicgBHT/tvRaUuAZWxbWSt0asAS5vIajKZ5fdPCCEEII0phRBCCCGEEEII0UqkCCGEEEIIIYQQQohWIUUIIYQQQgghhBBCtAopQgghhBBCCCGEEKJVSBFCCCGEEEIIIYQQrUKKEEIIIYQQQgghhGgVUoQQQgghhBBCCCFEq5AihBBCCCGEEEIIIVqFFCGEEEIIIYQQQgjRKqQIIYQQQgghhBBCiFYhRQghhBBCCCGEEEK0CilCCCGEEEIIIYQQolU4KB1ANI7FYuHQ8dO8t2IzmTkFzJwYzuNzpikd6yJms5mUIzl8vXYXB46exmKxENSjC/fOimJ0eDBqtf3UvWpq6ti88xA/bNjD6bxiVCoVIUHdmHdnNAP79UClUikdUbRB5wrOsPqr9ziZcZC+ocO466H5OGmdFctjqqsjJWkL22O/pbgoD89OPowcN42xMbcqmutSamtr2JsYS9y6L6mqrOCB/1tIvwERSscSbURJYTlx3yRwOiOPXiEB3Dh3Eo5aR8XymOpMHEnOJHlTKmVFFbh3cmXw2FAiJg7CScFcDSkpLCdx7V5y0nMxGmpw9XBh4Oj+jJwyBK2zk9LxhBBCtCNShLBzFouFzJwClq2M48DRU0rHuaxqYw0ffb2VtVtSMJsttsszcwp4+e0fuXXqCObdMR4HB42CKa3KdVUsevcnUo/kXHCphcMZuTz16pf8+e5J3DJ5uBQiRKOdKzzLpp9XcDglAbPZrHQcwFqAiP3pM3ZuXW3LVFFezOa1K8k7k81t9z6Gs4ubwimtamtrOJySyC8/fEJlRanScUQbU/rrF+jjqSexXPD+oyRTnYn4n/ewf9shW6bK8ip2rttH0ZkSpt49Dq2LVuGUVkeSM9j0dQJ1NXW2y6p0BpI3pnLyyGlmPTwFDy93BRMKIYRoT6QIYeeqDEY+/GoLB46ewtHR+uW9ttakcKqGrd2Sys+b96PRqLl9+ghujonAQaPmh9g9rIrdw5q4FMYN78+AfgFKR8XT3YUZ44eSX1TGQ3dOYHBIT8p1Vbz/xWb2H85m9eb9REX0o4tPJ6WjijbAZDKxY+N3HNy3A7VGg4OjE3W1NUrHIifrCEnxv6BxcGTmrXMZHDGOnKx0fvj8P6Sn7eLwoJFEjI5ROiYABWey+fnrZVQb9DhpnamrrbGbYo6wb2aTmT2b0ji2Pwu1RoXGUUOdHbxPnj1ZQFpCOhoHDdG3RNI/IoizWQVs+GI7mQeyCRrYk4Gj+ikdE4BeoQEE9PXDxc2ZUdPCcXJ2JOvQKbb+sJui3GLS92YycvJQpWMKIYRoJ6QIYefcXJ2ZOSGcW6cMJyy4O//+aB3JaSeUjtWgmROHcrawFF9vD/4wc7RtFsFdN47m4LHTHMvKI/3EWbsoQqhUKsaPCmXs8H44Olp/Dbw6uXHr1OHsP5xNhc6ArrJaihCiUTQaDUNHTqBX3wGEDIpk4+rlJMevVzSTyWQiNXkrtTVGho2axIioqWgcHAgZNJKxMbewcfXnpCTFMWDoaLuYDXFd1+7E3HgPgX3CUKlU/O+t56nSVygdS7QBao2a0JF96d7Xj6CBPUlYs4cDCUcVzWQ2mUlPzqSupo6wyGAGjemPxkFD0MCeDJ84iIQ1ezmSfJzgIYF2MRvC1cOFW/40BZVaZVs2GRLRl+MpJ8k5eobyYp3CCYUQQrQnUoRoA8aPCgWsyx3smbPWib/eNwWLxVJvGYOjowPurta15/lFZUrFu4hKpbIVIH5P6+SI1kl+PUTjBfUbrHSEeqoqyzmVZf0iFjJoJBoH63g2VlfZLs/Pzab0XAH+PYIUy3mes4sbYybcBEDe6SyF04i2pkdwN6Uj1FNVWc3Z7EIA+gzsiebXZYg11TWcPWm9vOhMCeXFlXQJUL4IAdgyNkR6QgghhGhJ9tMlULQLKpXqouaTFZUGzhZa13j37OajRKwrqq2tI/VIDh98uQWA6MgQ/Lt4KZxKiKtXWVFGZUUZru6eePv6A9YeEZvWfEHGkf2o1Wqq9BXopP+CEC2uSmdAX1GFi5szna7zBKw9IhLX7SM7PReVWkW13oi+okrhpBezWCzoK6rY+cs+Th0/i3snV8JGBisdSwghRDsip3rFNbf/cDZ5hWV4urswIFj5pRi/959PN7B2SwoADg4a/vSHCdwyeTgajdToOrpqg57aBno7qFVqXNw87Gq3l9/TVZRSpa/A1c0TFSosFgtJ8b+wb+cmZt75CDvjfqKoIJdzhWdk9wlhl4wGY4O9HVRqFc6uWrv+/dNXVFGtN+LspkWlsv7+pSWkc2jXcSbOHsP+rQcpKSintLCc3mE9lI5rU5hbzHfvrKNabwSgS4APNzwwAR8/KcoLIYRoOVKEENdUZnYBn/2wA4CJo8PoFeCrcKLLq6sz8d36ZPoGdmXYwN5KxxEK2/Djpw32dvDtGsC8J1/Dw7PtfDA/dmgPG1d/zpSb7yNscCQ7435SOpIQl7VjdXKDvR28u3bijsdm4ubpqkCqq5N1+DQJa/Yy9sbh9BkUyP6tB5WO1ChFZ0vYG3eA8beOsoveFUIIIdoHKUKIa6aouILXP15LcWklfQK7cOeMUXY5u+DxOdN4fM40dJUG/vvNVn7Zlsa/PlrLa0/fSe8eXZSOJ0SznTmVyeY1XxAxZjKR426gqkqazAnRWgpOFbFz3T4Gju7HkLGhVFcZlY50SV0CfHj0X/dhNps5fTyPDSu2cWjXcbQuWq6/eSRqO3wPF0II0fZIEUJcE/qqat5aHsuJnEJ8vNx5et5MfH08lY51WR7uLtx9cxQpR3LIKywjcd9xKUJ0cLfc9X/cctf/KR3jqrh7dsbV3ZPqqkpWf/UewWHDmHzjPWgcHLCYzViwAOB9nZ/CSYVo2OQ/jGPyH8YpHeOquHq44OLmTLXByOZvEukVGkDUjAg0DhosFgsW668fna7zUDboJajVagJDujN4bCg71+0j80A24dED6ORjn3mFEEK0LVLSFi1OX1XNkg/WsDslE62TI0/MmU7fXl2VjtUoTo4OOGisHcLPlVYqnEaIq+fu0RlXNw/MZjNd/Hty8x//YtuKs1JXRpVeh6u7J56d7bNZrBBtmZunC85uWixmCz7+XsTcGWVbzqCvMFCtN+Li5ox7J+W3x70crYt1VwyjoQajwb536BJCCNF2SBFCtCh9VTVvfPyLrQDxwv/dwqjwvkrHatDRE2c5kVNQ7zKd3kBVtXWq7HVe7krEEqJFuLp74tfd2teke2Bf3D29bddlHNlPVWUF3j5+dPKy7z4tQrRFLm7O+Ha3/s759biuXv+KnKO5GPTVdLrOA087eZ+pq60jfU8GZpPZdpnFYkFXpgesxYjzBQkhhBCiuaQIIVrM+QJE/J5jODhouOum0fQP8qe0XG/7J7+oTOmYABSX6vjPpxt47cM1pB7JwWisJb+ojM9XJVBcWonWyZHwsF5KxxTiqjk4ODJs1CQcHBxJ27Od9AO7MZvNnDp5lF1b1wAwNHICbu72vUxKiLZI46AhLDIYjYOa9H0nyDyYg9ls4ezJAlK2HQYgdERfXNydFU5qdWjXcWJX7iBhzV70FVXU1tRxfH8Wh3YdA8C/VxfcO7WdRqBCCCHsm/SEEC3mSOYZ4vdYP7DU1Zn49PsdfPr9jnq3mTkxnMfnTFMiXj1nC0spLK6gotLA35d8We86tVrFnTMiCenTTaF0QrSM4NBhjBg3nV1bf+bLj16td13IoJEMGzVJoWRCtH+9QgIYPDaUlG2HWfPx5nrXBQ3syYDIYIWS1VdjrKXw9DlMdWb2bE5jz+a0etd7delE5NRwNA4ahRIKIYRob6QIITqkQf178slrD/HTpr3E7TxMflE5Go2avoFdueum0YwOD7brPeiFaAyNgwM33DoX/+692R77LcVFeXh28mHkuGmMjbkVJ619nIUVoj3SOGiIviUS324+JG9KpayoAvdOrgweG0rExEE4aR2VjgiAk9aRmD+OpV9EEHs2pXH2ZCF1NXW4erjQPyKIkZOH2H3vCiGEEG2LFCHaEGetE6/+/Q6lY1zSiMF92LxivtIxGs2rkxtzbo9mzu3RSkcR7Yw97aqhcXBgeNQUhkdNUTpKo/n3COL5N75SOoZoo+xpVw2Ng4ZBY/ozaEx/paNcllqtpldIAL1CApSOIoQQogOQU71CCCGEEEIIIYRoFVKEEEIIIYQQQgghRKuQIoQQQgghhBBCCCFahRQhhBBCCCGEEEII0SqkCCGEEEIIIYQQQohWIUUIIYQQQgghhBBCtAopQgghhBBCCCGEEKJVSBFCCCGEEEIIIYQQrUKKEEIIIYQQQgghhGgVUoQQQgghhBBCCCFEq3BQOkB7pdPpANiWeg6NRqVwmsszmy0AJKWX4uRo/3UpsxkOnqwg86xe6ShXVGmoo6SkROkYAigvL0dfaeDkwc1KR7miWmMVZlNtm8lqMZvbRFZzXQ0ODg6oVPb9N7k9Kisro6bKRMnhaqWjXFFdtQWLydImsppqLFhMtIms5jrrZ426ujocHR0VTiOEEEJJUoQQQnQIGo0GraMaTxf7L7QZ0FBba24zWQ3mtvG81tZq0NXaf04hhBDXxsqVK7nnnntYuHAhL7zwwhVvX1xczN13301+fj7ffPMN/fv3b9bjJyYmMnbsWB5++GGWLl2Ki4vLVR2npXMJZRkMBp544gk+/PBDEhISiIqKUjrSNSdFiC9kI6wAACAASURBVGvEw8MDgPFDr8Pdxb6fZoPRxNdbzxAZ6oWft7PSca5o+cZTDOrtSXCAu9JRrmhVfB7e3t5KxxDAjTfeqHQEITqszp07Y3TU49VPq3SUK9Jl11CjM+M9wP7fD/V5tVTm1raJrNWldZQdtc5GEsLe1NXVsXXrVgwGAzfddJPScYRo9+SUkBBCCCGEEKLDev3115kyZYptObUQ4tqScrQQQgghhBCiw6qrq2vwch8fHzZs2NDKaa7MXnMJ0VgyE0II0SGUlJS0mSahlZWVbSprfn6+0jEapaamps1kFUIIIYRor6QIIYToEJKSkkhKSlI6RqNkZGS0qazr169XOkajlJSUtJmsQgjRXqxcuRKVSsXKlSspKiritddeIyQkBJVKxahRo/jggw8wGAwAHDx4kAcffBAfHx88PT2ZNWsW27dvx2KxNHjMRYsWNfiYiYmJqFQqpk2bRnFx8SWzHTt2jKFDh/Liiy8CcM8996BSqXjkkUcwGAwUFxczbdo0hg4dyrFjxy46/qJFi9Dr9bz11lu2n2nYsGG89tprFBUVXfG50el03HfffahUKlatWtXgbSwWC2+++SYqlYqlS5cCXDJXQ8/1sGHDUKlUhISE8NRTT5GdnX3Jx0lLS2PevHn06tULlUpFTEwMq1atoqCggGnTpl3x+fy9U6dOsXjxYlsGT09Ppk+fzpdffole3/Audw3lOJ89PT293lg4d+4c06dPp1u3biQnJzd4PJPJxIsvvohKpeKTTz6pd51er2fZsmWMHz++UfkufN1TU1O59dZbbc/Tpk2b6h3366+/5s4777T9DJ6ensTExLBs2bJL/uwdiSzHEEJ0CNOnT1c6QqOFh4crHaHRwsPD20xePz8/5syZo3QMIYTokFJTU1m2bBnp6ekMGTIELy8vdu/eTVJSEqWlpQwYMIC//e1vODs7M3z4cHJycvjpp59ISUlh+fLlREdHt3gmR0dH+vfvT3V1NceOHSM8PBxfX198fX0btZ3zmTNnePTRR1m+fDnh4eFMmDCBtLQ05s+fz9q1a/nkk08uu3OFh4cH0dHRrFixgu3btzNjxgy02voNfMvKykhISCA0NJQpU6Y06uc6/1wfOHCAoUOH2nK9+eabJCYm8umnnxIaGmq7vcVi4auvvuKRRx5Bp9MRHh5O//79ycnJ4bbbbuNPf/oTZWVldO7cuVGPD5Cens6cOXNISkqif//+TJkyBYPBQGJiIhs2bODmm2/mww8/pGvXrrb71NXVsXTpUhYtWlQvR1FREW+++SafffYZ7733HnfeeScqlQofHx8mT57Mhg0b2LhxIyNGjLjodcvNzSUuLo7IyEgmTpxou/zYsWPMnTuXxMREvL29mTBhAgDJycls2LCB2bNn884779TLd97OnTtZt24dZWVlTJgwgdzcXLy8vBo87pAhQ2w/Q1xcHHFxcWzatIkPP/wQX1/fRj+f7Y3MhBBCCCGEEEJcU2+88QZhYWEcPXqULVu2sHPnTjZt2oS/vz9LlizhkUce4YUXXiAtLY3Y2FjS0tJYuHAhOTk5fPXVV7bZEi0pKCiIb775hrvvvhuAp556itjYWBYtWoSz85V3nfnwww9JTU0lISGBffv2sWXLFo4ePcpf/vIXEhMTeeGFFygtLb3sMSZOnEhkZCTbt29vcJbCkSNH2Lx5M9dffz1BQUGN+rneeOMNgoKCOHLkCDt27GDLli0cPnyYP/zhDyQlJfHVV19hMplst9+5cyfPPfcc3t7erF27lr1799peg48//pivvvqqSTM0DQYDb731FkeOHGHFihUcOXKE2NhYduzYQXp6OjfffDOrV69m7dq1tvtYLBa+/fZbFi1aRFhYGLt27bLl2Lt3Lzt27KBHjx784x//YMeOHQC2WQjBwcFs3769wSWX+/btY+fOnYwZM4bu3bsDUFBQwLPPPktiYiIvvfQSJ0+eZMuWLWzZsoXMzEz+8Y9/8N1337Fw4cIGZy1s2LCByZMnk5KSwpYtWzh06BDDhg3DaDTy/vvv24576tQptmzZQmxsLPv27SM5OZnIyEh+/PFHdu3a1ejnsz2SIoQQQgghhBDimoqMjGT+/Pm2s78qlYoRI0YQFRWFTqfj3nvv5f7777fNBNBqtdx8880EBweTnZ1NVVWVkvEb5OHhwb///W+ioqJsZ+B9fX156aWXuOmmm9iwYQP79++/7DG6detGZGQkaWlpJCQk1LvOZDIRGxuLTqdjypQpuLi4NCpXZGQkL7/8MgEBAbbL/Pz8+POf/wzA/v37qaioAMBoNPLtt9+Sk5PDggULuOGGG1CrrV8RtVot999/P88880zjnpBfVVVVkZ2dTVBQECNGjLAdD6B79+48+uijhIeHk52dTXV1NQD5+fl8+umnuLu78+qrrzJq1Cjb/dRqNePGjePf//43JSUlfPbZZ7biQJ8+fYiKiiIpKYkjR47Uy2E0Gtm+fTseHh7MmDEDJycnANauXcvq1at56KGHePrpp/H09LTdx8vLi/nz53PfffexYsUKdu/efdHPN2TIEO655x7b6+Hg4IBarSYvL4/8/HzGjx/P/fffj5ubm+0+KpWK4cOHM23aNAAOHz7cpOe0vZEihBBCCCGEEOKaGjp0KH5+fvUuc3JywsfHB4Bhw4bh4FB/pbhWq8XV1bXVMjbV1KlTiYyMvOjyLl26cMMNN6DT6YiPj7+op8WFtFotN910Ex4eHiQkJNQ7815QUEB8fDzjx49n1KhRjc4VERGBv7//RZd37dqVIUOGUFdXh9lsBqxf/vfu3UtkZCQxMTEXLWdwcHDgpptuIjg4uNGP7+TkRJcuXUhLS+PDDz8kKyvL9ngAkydPZv/+/fVmnGRlZZGUlERUVBQRERENHnfgwIFERERw8OBB8vLyAHBzc+PGG29Ep9MRFxdXb4ZHZmYmmzZtIioqiiFDhgDWWRp79uwBYObMmfUKBed5enoyZswYdDpdg70mAgIC6NKly0WX9+rVi2+++YatW7fSu3fvi65XqVS25/FSO7J0FNITQgjRIZxvSNgWekOkpKSQn5/fZrKmpqa2iV4L+fn5rF+/vk1kFUKI9qZ79+6XPZN/4Vn7tmLAgAH1zqJf6HzPhfz8fKqrqy/7s4eFhREZGUliYiInTpxg8ODBAOzdu5dt27bxwgsvNNib4FL8/PwatZwEIC8vj4MHD3L99ddfsueDv78/gYGBjX58Dw8PZs+ezbp161i6dClLly4lMDCQG264gRkzZjBmzBhbD4XzsrOz0el07Nmzh9tvv73e7InzamtrOXDgACUlJRQUFNC3b1/A2p/q/JKW3NxcW9bdu3eTnp7OvHnzbMWu87M0AJYsWcJ7773X4M9wvrFoTk4OBoOh3usXEBDQqOe3pqaG8vJysrOzycjIICEhgV9++eWK9+sIpAghhOgQzr9RtQX+/v64u7srHaNRGjrTYq/c3d0ZOnSo0jGEEEK0ExqN5pINLDUaTaOP4+fnx/Tp03nqqaeIi4tj8ODBGI1G4uLi8Pf3Z+bMmU06XlOYTCZ0Ot1lv1ir1eomP/7MmTPZsmULb775Jj/++CM5OTksW7aMZcuW4eHhwe23387LL79Mjx496t0vJyeHnJycJj1Wz549mTJlCosWLWLfvn0EBgai0+nYvn07/v7+REdHN/g6NbTUormMRiNr167lrbfeIj4+vt51Hh4eHboZ5YVkOYYQokMIDg5u0lRCJfn5+bWprG1ldwx3d/c2k1UIIUTb1pQeFiqViujoaPz9/YmPj6e0tJTs7Gy2b9/OqFGjWuUzQW5urq0/w++ZzeZ6yxwaQ6VSMWTIEJYvX05BQQFJSUksXLiQyMhIdDodn376KY899thFW5nOnz+furo6LBbLZf+Jioqy3Uej0TB16lQ8PDzYvn07RqOR9PR0Nm/ezNSpUwkJCbkoX3BwMGlpaVd8nA8++KDRvTj0ej1PPvkkt99+O6mpqUyaNIkFCxawcuVKUlJSKCgo4KWXXmrS89heSRFCCCGEEEII0W60VhPLU6dOXfKxDh06BDR+6n5ISAhTp05l9+7dZGRksHfvXtLS0pgxY8ZFSxdaUteuXYmIiODcuXOUlZU1eJu8vLwmz064kIuLCyNHjuSFF15g165d7N69myFDhrB582ZOnDgBYOuxcPToUVvTzKYICwsjJibGtstIQkICeXl5xMTE1Ov7cL5fRUZGBpmZmVf9MzUkLi6O999/n8jISHbu3MnmzZtZvHgxd911F0OHDsXFxaVZz2N7IkUIIYQQQgghRJtz5syZi7burKurY9u2ba3y+ImJiQ1+kc3PzycuLg4PDw8mTJhwySUbF3JzcyMmJoa8vDxiY2OJj48nNDS0SQ0pr0aPHj1su0ts3rz5oiaaFouFrVu3kpGR0ehjHjhwgBkzZvDggw9SXl5e7zqVSkVYWBiDBw9Gp9PZZlj079+f6OhoNm/ebGsc2dBxhw4dyqxZsy7K4+XlxdSpU0lLS2P9+vUkJCQQGRnJmDFj6t3Ow8ODkSNHArB69eoGCx51dXUsWLCAYcOG8dZbb9Vrqnk5R48eBaxNWPv06XPR9fn5+U3a6rQ9kyKEEKJDyMjIaNIbqJLy8/PbVNbU1FSlYzRKZWVlm8kqhBDi0kJCQvD392fDhg1s2bLF9iXRaDSyfPly3nnnnSYd7/xZ+IyMjMvuZPF76enpPP3007Yvn2BtaPjiiy+ybt067r//foYNG9bo440ZM4bIyEhWrlzJzz//zOTJk695TyutVssdd9xBYGAgr7zyCr/88ku953PlypUsXbq0Scf09fWlpqaG77//ns8++6xeochsNrN69Wp++uknYmJiCAoKAqzFkLvvvhudTsff/vY31q1bZ8thsVjIyMjgueeeIy0tjbCwsAZ3nxg7diyhoaF88MEH7N69m4kTJ9KzZ8+Lbjdr1iwmTJjA559/zvz58+stCTEYDHz66ae88847VFdXM2HChAabZDbk/LKP1NRU2wyP8/mzsrJ48sknWbduXaOO1d5JY8o2SF9VzeL3VrPnQBZLnr6DEYMvrrQpZc+BE8x//dtLXm9veQFy80p474tN7D+cjcViIahHF/4wczRjhgXj5CS/Iu1FSUlJqzxOUVERR44cwWAw4OrqSmRkpG3P88bS6XQtltdkMnH06FHy8vKoq6tDo9Hg4+PDgAEDmpyrITqdjry8vBZr+FhbW2vLazab6devn+0DSnPV1NS0aFZhv0x1Jrb9sJvU+CNMuH00w8YPVCzHkeRMkjelUlZUgXsnVwaPDSVi4iCctI6KZLqcuto6Du48RvLGVCrLq9C6OBE6vC/DJgzEq0snpeMJYTNkyBAee+wx/vGPfzBz5kzCw8Px8fEhIyMDnU7H4sWLWbNmTaOP17dvXzw8PHjzzTfZsmUL0dHRLFiw4Ir3mzBhAkaj0TZjwcXFhbS0NEpKSpg9ezbPP/98o/sJgLXB4sSJE1myZAkAkyZNapH36isZM2YMr776Ko888ojt+fT19SUnJ4djx45x66234uTk1Ojj+fv78/zzz3P//ffz+OOPs3DhQoYMGYKjo6PtmP379+eFF16wNbhWqVTcc889FBQU8O9//5uZM2fSv39/AgMDqaiosDWRvPfee3n88ccv2s4VrK/j5MmTefvtt/Hw8GDSpEkNNtTs3r07b7zxBn/72994//33WbFiBUOHDkWr1ZKRkUFOTg6BgYEsXryYQYMGNfrnHj16NLNmzeLHH39k0KBBjBo1Ck9PT4qKikhJSWHEiBEsWLCAV155xbZrSmN3MWlvZCZEG2OxWIiNP8ieA1lKR2lQXmHDa8ns1e6UDB7952fsOZCFyWTGbLaQmVPAq8tW88u2Dn7GNPcI5qeHYP5LoPWfZyOgqO2uY4uMjGxwL++Wcu7cORITE9m3b99FU0ObKjg4uEWymkwm9u3bx+nTp237UZtMJgoLC9mzZ0+zc4I1a0tsJVpbW0t6ejrbtm3jzJkzjZ762BTe3t5tYttT0XxZh09zcNfRK9/wGjLVmYj/eQ+bvo6nrMg63beyvIqd6/axYcV2jAajovl+z2gw8svybWz5bieV5VW/XlZDavwR1nyymcpyvcIJhfiNg4MDjz/+ON9//z3Tpk0jMzOT/fv3M3HiRLZs2cJdd93VpN0coqOjef311+nWrRvx8fHs2bMHvf7KY75fv3588cUXLFmyhNLSUrZu3Up4eDjffvsty5cvb9K2mmBtsDhp0iQ8PDyIiYlhxIgRTbr/1VKpVPzxj38kPj6eOXPmkJOTw8aNGwkICGDTpk0sXrwYV1fXJh0zOjqabdu28fzzz9OvXz+2bt3Kxo0bcXV1ZdGiRWzcuJHrr7++3n1cXFx47rnniI2NZd68eQBs3LiR48ePM3v2bNavX89///vfS+4wodVqiY6OBiAmJuays1CGDRvG6tWreeeddxg5ciSpqals3rwZb29vFi1axI4dO7j11lsbtZTmPF9fX1asWGHrC7F792527dpF165dWblyJVu3bmXu3LlERkayb98+8vLyGn3s9kZlacqcI9FohYWFrFu3jtnR3XB3abmz6RnZ+Tz7r6+pqLR+eWiJmQUGo4mvt55h+sgu+Hk3rxr348a9vLdiEyOH9OHFv96Cs7bxVdPGWr7xFGPCvAkOaN4WhvlFZTz92lfkFZYxOKQnj94TQ2dPV7buTqe4TMfc2eNxcGjedkir4vPoHTygbXbkP3cK8/+7DcoLrf/fPRT141+DW8N7SHdkJpOJ5ORk27pHlUqFxWK56pkQLSUnJ8c2RbRbt2707t2b/Px8srKyMJvN9OzZk7CwMEWy/d6ZM2c4dOgQFovF9vwBLToToi2orq7m3XfftTU0a6zrr7+eBx988Bqlar64uDgK9Gfw6nftfxcqSnSsWhZLcV4pQJNnQuiya6jRmfEZ1Lz3w9MZZ1m1LBaA6Fsi6R8RxNmsAjZ8sR2joYYpd13PwFH9mvUY+rxaKnNr6TqiaV8Ofs9isZC8MZWENXvRujgx5oYI+g3rTZWumvifkxl34wi69LiuWY9RXVpH2dEa7rnnHhwd7W8WiBBNkZiYyNixY3n44YdZunRpk2Y7XElcXByzZs3imWeeYcGCBU36EnytHDhwgNtvv50hQ4bw8ccf06mTzIwSzSNzzdsQXaWBZSvjbAUIe6Svsm7tc52XO1on+/6QsS0pnbzCMvoH+fPS32bRycP6Ie62aSOwWCyNXv/VbpjrwGQCx1+/JLh4grvPb0UIT18pQFyCRqOhW7dudOrUicDAQA4ePHjJDtOtxWQycfbsWSwWC56enoSFhaHRaOjbty86nY6CggKKioowGAwt+uHpanl7e+Pv74+Pjw8qlYpDhw5dk9kQbUFJSQm5ublNus/VdBJvj0x1JhLX7bMVIJRiNplJT86krqaOsMhgBo3pj8ZBQ9DAngyfOIiENXs5knyc4CGBaF2UKVJeSFeq53BSBiq1ivG3jbYVR9w7uTHr4amoNR3s/VAIhRiNRn7++Wfc3d2ZMmVKqxQgdDodTzzxBOfOnWPJkiWEhoZedJs9e/aQkZHB7bffjrt7804CCgGyHKPNsFgsrNmSwoGjpxgV3pcuPp5KR2rQudJKANRqtV1Ubi9FX1VNUqq1YUxM1EBbAQKsZ7E7XAEC4PB2zAtGYVn9L6iutBYcPH+b7qby+3XGTXUlltX/wvzhn6DOvqYTKykwMJCwsLB620ApqbKy0rZtmI+Pj21aqsFgoLLS+ntqNBoVL5ac5+LiwuDBg+nevbtd/+0Q9i3zQA7pezLx6+WLX2DD03VbQ1VlNWezrQXcPgN7ovl1Vl1NdQ1nT1ovLzpTQnlxpWIZL5SfU0hpYTneXTvTKzSg3nVSgBDi2jKZTJhMJurq6ti4cSOrV6/mpptualIvguZwdXWlW7dutqUJpaW/FXHNZjPx8fG88847+Pv7M23atCYtcxHiUmQmRBuRnnmGb9btxr9LZ+66cTSv//cXpSNd1r5DJ7nv7x9wtqAUN1ctU8YO4u6bx9DZ0z6+oJWW68kvsk6dd9Y68u+P1hK38zAOGg3jR4Xw4O3R+Hh5KJyydVlSfoHKEiyx72OJX4lq+l9RXdcD23otn55YVv8Ly7blYNSDszvkHIA+rbNesbnWr18P0CZ6AqSkpJCfn9+srFVVVZhMJtRqNR4e1rFsMpk4ePCgbZ2r2Wxudl+IlJQUUlNTmTNnTrOO0xry8/NZv369XWd1dnbm1VdfVTpGm1RerCP+52SctI6MnTmCfVsOKpalSmdAX1GFi5szna6znjQ4P0sjOz0XlVpFtd6IvqIK8FEs53n5OdbO8O6dXMk5mkvi2n3oSivp7OvJuJtH0ndwYMcszgvRCnJzc7nrrrvYuXMnYD2pMW/evFabpajRaHjggQdISkpi2bJlfPHFFwwdOhQXFxdbE0kPDw+WLl160XaXQlwtKUK0AbpKAx9/ux1DdQ1PPjgd/y5eSkdqULWxhsJi65TgCxtU6quM/LhxLwePneaVp2bbxZf7knI9ZTo9arWKtz6Lpa7OukexyWQmdsdBMnMKWPzEbHztdMZJizt3Csuxnb/9f1U5lh8Wg/rXardKheWHRWC5YHp8dSWW3T+gaiNFiKtp9GgwGKitrb3ocpVKhbu7+zU7Yx8cHExgYGCzjmEwGDCbzfVmJR0+fJjS0lICAgIoKCigtrbWNiuiOVnPd7a2d9KYsm0xGozU1ZouulylVuHsqq33pdhUZ2LnL/soP6dj7I3D8eul3CwIAH1FFdV6I85uWluPk7SEdA7tOs7E2WPYv/UgJQXllBaW0zush6JZTXUmyot1AJzOyOPU8bNYzNbyc1lRBWv/F8f4W0cRHj1AZikJcQ14enoSGBjIzp07mTRpEgsXLiQiIqJVMwQFBbFq1Sq+/vprvv/+exITE9HpdISHh/Pkk08yb948QkJC5G+AaDFShLBzFy7DGD8qlNHhwejtrKP2hbRODmidHLlv1lhiogYA8N36ZFbF7iEzp4BNiYf4w8zRCqcEY00ttb9+uHV3deLZh2cybEAvtiWl859PYzmRU0jcrsN2kbVVeHdDPfddLDu+wHI0HnTnwGIB869fACwWOD8nQqUCr+6o+o1CNfaP1uvawJuSt7d3k++TlpbW4HIFR0dHRowYgafntSlSXYv1lpmZmeTl5eHv70+PHj0oKChokeO6u7u3mfWhTk5O+Pn5KR1DNNKO1ckcSLh4hwvvrp2447GZuHn+tozOtgwj0JdBUSGo7exvUtbh0ySs2cvYG4fTZ1Ag+7cqN0vj98wmM7XGOtt/h47oy/jbRlFXY2LT1/FkH8kldccR+g7uhad32/hdF+Jai4qKoqV6+3t5efHll1/y5Zdftsjxrpabmxtz585l7ty5iuYQHYMUIezc+WUYPl7u3H3TGJycHOoVIfRVNZSW63F31eLoqOzL6ax14sW/zqLaWIuz1tFWLX3gtnGcOltMctoJDh3PpdpYc012zbhaf71vCpFD+wLW/hDpJ87y8+b9dpn1mlE7QFAEqqAIVAC6c1jWv4tl+/LfZj+4eKK65R+oRt4CWvtYViMap6SkhLNnz+Ll5cWAAQMate2YEG3F+WUYGgcNY2ZE4OruQq3xtxlMtcZa9BVVOGkdcdS2fsPkglNF7Fy3j4Gj+zFkbCjVVfZ7IqF7Hz8m3DYaF3frziDjbhpJfk4RZecqKC0slyKEEEKIFiFFCDu3MeEQ+ioj+iojDz33yUXXL37vJ6BltupsCSqVChfn+l/anbVOhPXtRnLaCfKLyn8tUij7xV7r5Iijo4baWhPubr91JlepVPTwt67PtZesijh9GEvyqvrLLwwV1l4RQ6d2mCLEqFGjlI5w1ZydnVGr1ZjNZk6fPo2bmxuDBg1Co9FgsVhsZ3Cauu+3uLaqq6tZuHAhycnJTbrfzJkzefzxx69RKmVM/sM4Jv9h3BVvd+JgDuXnrMsJVr2/4aLrE9bsJWHN3iZv1dkcrh4uuLg5U20wsvmbRHqFBhA1IwKNw/nfP+vtOl2n/PJEtUaNo9b6cdBJ64iD429N59w8XXB1d6Zab6S0sJzAkO5KxRRCCNGOSJch0SrOf5H3cHPG0UH5rrrendzo7GH9Im2ovnjNP9hP1lZ36iDmL56BKmvjTvqNBu9fP3jmHsa88lmotd8zeZeSlJREUlKS0jEaJSMjo9lZ3dzcbGvmnZycGDhwoK3JlV6vt/WLaG4RIiMjw9b0096VlJS0mayibXPzdMHZTYvFbMHH34uYO6NsW3HqKwxU6424uDnj3kn5gq7GQUMnH2sxpMZYi9nc8BRzVw/n1owlhBCiHZOZEHbu8TnTeHzOtHqXncgp4OnXvqKi0mA3MyDOKzxXztbd6dw2bQQOv36BrzbWsP9wNgB+vp3sYmbBdd4e9O7hS1FJBbtTMxkzLBgHBw11dSbSM88A9pO1VZ09hvmDeVCWb/1/r26o//gKlsPbsaxabO0RcTAO8//+D/WD74Kj8vvbi4a5urri7OxMZWUlLi4u9fpXFBQUYDab0Wq1dOrUScGUoiHe3t4EBARc+YYXuFb9SdqCYeMHXjTDQV9RxbdvraWkoLxVZ0Cc5+LmjG93b0oLy/HrcV29/hU5R3Mx6KvxC/TF08s+ljf06NeNvVsOcu5sCcV5pXQL6gpYG1Pqyqpw1Dri3ln5gokQQoj2QYoQosVk5xbx3Bvfcq5UR2mFntumWndN+CF2D3sPZqFWq4iK6IfGDvYcd9Y6ET0yhL0Hs9iedJSQIH8mjRlA4r4MEvdl2FXWVmOowLzi778VINQaVJMegq59UHkHYEmLhYzd1kaUBzZh2fAuqhufUjZzE1zN7hhKCQ4ObvYxHB0d8fPzIzMzk4qKCk6cOEHfvn05c+YM586dA8DHxwc3t+Z9sQgOz+eycgAAIABJREFUDm6RvK2hLeyO4ezszN///nelY4hm0jhoCIsM5sTBHNL3naDXgB70HdyL/JxCUrYdBiB0RF9b7wWlde15HV17XEd+ThE7Vicz5a5xqDVqdsemUGuspUc/f3z8OisdUwghRDshRQjRYny9Pegf5E/hngq+X5/M9+vrr2meNWU4o35tAGkPxg7vR/zeY+xOyeTt5Rt5e/lG23X2lrVVuHiinv1PzJ/8H5SehT4jUI2723qdoxb19L9iPn0IjHpUETeimvywsnnFFfXu3ZuSkhJKSkrIysoiKyvLdp2bm1ubKR4I0Rb1Cglg8NhQUrYdZs3Hm+tdFzSwJwMi7ef3z9XdhVHTh7H2f3GcOZHPp4u+s13n3smV8bNG2ZaTCCGEEM0lRQjRYtxcnZn/yE1Ej8zgu/VJZOYUYLFY6OHvwwO3jSMqol+9fd2V5ubqzPOP3sx3vySzdmsKxaWVdPHx5N5ZY5kcNdC2nKRDCYpA/cQ3mL+cj3rGE/WXW/SPQhV5G3j5o5r8SJvYlrOj02g0REREcPToUfLy8qirq0Oj0eDj48OAAQPQauVLhRDXisZBQ/Qtkfh28yF5UyplRRW4d3Jl8NhQIiYOwkmBnToup8/AntzxtxkkrNlDbmae9bJBvbj+5pF09u24y32EEEK0PJWlpTa5FfUUFhaybt06Zkd3w93Fvms9BqOJr7eeYfrILvh528fU0MtZvvEUY8K8CQ6wj7W0l7MqPo/ewQMIDw9XOkqHV1JSAlin5Nu7yspKampq2kzWyspK/Pz8/j979x7fdH3vD/yVpGmaNi00pXdK6Y0WaIFya7kjAwQvU5yiR90YXrapOz+dnrlNRJ0wcLqxueNt6mTI8H7EC1BAbnIvtxYolN7vbXpLL7k1998fsYHSFkov+Sbt6/l4+BCS7+XVkE+T7/v7uQgd5bpMJhPUarVHZB1s9u7di1pdFQLHuH/hS1NqgkljQ1CK+38e6mrM0FaaETrN/Ve5aWuyoPmSCQ8++CCkUvcqwBARkWu5z21pIqIBNNRWx3AVro5BRERERDfCvW/RExH1E3efkPBKntRzJjU11WPyhoWFYeXKlULHICIiIhrS2BOCiIiIiIiIiFyCRQgiIiIiIhpSGhsbsWTJEkyaNAl5eXlCxyEaUliEICIiIiIion5ls9lw6tQpfPDBB0JHITfDIgQRDQkZGRkeMylhVlaWR2XduHGj0DF6RKVSeUxWIiIiT/f5559j2rRpqKqqEjoKuRlOTElEQ0J8fLzQEXosPDwcCoX7L0ELOLJ6CoVCgUmTJgkdg4iIaEiwWCxCRyA3xSIEEQ0JCQkJQkfosbCwMISFhQkdo0c8KatCofCYlTyIiIiIBisOxyAiIiIiIrdhs9lw7NgxPPLIIxg9ejREIhGSkpLwzDPPIDc3F3a7vdM+RqMRO3fuxPLlyxEUFASRSITJkydj7dq1KC8v7/G5t2zZApFIhDVr1nT5/JEjRyASibBkyRI0NjZ22m/Lli2or6/HK6+8gqSkJIhEIqSnp+Odd96BwWAAAJw/fx4PPfQQgoKCEBAQgGXLluH777/v9HN1dczJkyd3eD1KS0u7zFleXo61a9c6tw8ICMDSpUvx0UcfQafT9fj1aKfT6fDJJ5/g3nvvdf6bBAQEYOHChXj77bc7HLN90s8HH3wQAPDCCy90+Zpdy42+BwwGA371q185Jxo9e/Zsh33nz5/fKWdfzte+z/79+/v8nhuKWIQgIiIiIiK3YDAYsGbNGsycORP/+te/oFQqsXjxYgDAhg0bMHv2bHz66acdLgrr6+vx6KOPYunSpfj8888xZswYLFy4EGq1GqtXr8bcuXPx5Zdfdnkh2d+ys7OxbNkyvPbaa4iIiEB6ejoyMzPx2GOP4e9//zu++eYb3H777Th69CimTp2KiIgIfPXVV1ixYgUOHjx4zWOuW7cOCoUCN910E+rr67Fhwwbcd999yM3N7bB9bm4uli9fjtWrV0Ov12Px4sWYNGkSjhw5ggceeAAPPPAAamtre/wz5eXl4eabb8Z//dd/Yc+ePYiNjcXixYsRHx+PvXv34vHHH8dPf/pT1NfXAwDEYjGioqKcvQ8TExOxePFiREVFQSy+/uWnTqfD6tWru30PpKWl4c033+xyuIfNZsO///1vLFiwAHv27EFCQgLS09Px/fff4/HHH8ezzz7bqRDRm/ecTqfD008/jQULFjjfc4sXL4Zer8fq1auxePHibv89iUUIIhoiCgoKUFBQIHSMHlGpVB6VNTs7W+gYPaLVaj0mKxHRUGS32/Gf//wHL730EtLS0nDixAmcPn0au3btwsWLF7F582aYzWa88soryM/PB+C4gHz55ZexefNmLFu2DEVFRTh27Bi+++475OXl4f3334darcbTTz+N06dPD/jP8Je//AXjxo3DpUuXsG/fPhw9ehTfffcdwsPDsX79evzqV7/C6tWrcfbsWezatQtnz57Fyy+/jLKyMnz88cfO3hJXHzM2NhYXL17EwYMHsW/fPly4cAH33XcfMjMz8fHHH8NqtTpfj9dff935el28eBG7du3CwYMHkZubizvuuANff/01tm3b1qOfx2g04q233sKRI0fw4osvory8HPv27cOuXbtw+vRpnDhxAmlpadi6dSuOHTsGAAgMDMR7772HZ555BgDwwAMPYNeuXXjvvfcQGBh4zfNZrVa89dZbWLduHWbNmoWTJ092eA9s27YNSqUSzz33HLZv395p//Pnz+PNN9/ECy+8gNzcXHz33Xc4evQoDh06hLFjx2Lz5s04fvy4c/vevOcsFgveeOMNvP7667j11luRn5+Po0ePYteuXcjJycGnn36KtrY2PPvss50KROTAIgQRDQlqtRpqtVroGD2i0Wg8KmtNTY3QMXrEZDJ5TFYioqFIpVLhs88+g7+/P15++WVMmzYNIpEIgOPu+j333INHHnkESqUSFRUVAIAzZ85g06ZNmDVrFjZs2IDY2Fjn8WQyGVasWIFnn30WZWVl2Lx5M4xG44D+DGlpafjDH/6A4OBgAIBIJMK0adMwa9YsaDQa/PSnP8WKFSsgk8mcGe+44w4kJCSgtLQUer2+y2P+8Y9/xMiRI52PhYWF4bHHHgPgeA1aW1sBAHq9HqWlpYiNjcW0adM69DyIjIzEE088gdTUVJSWlqKtre26P09NTQ1UKhXmz5+PFStWwM/Pz/mcSCTC1KlTsWTJEgDAhQsXbvTl6qSwsBBbtmxBdHQ0/v73v2Pq1Kkd3gO33HIL1q5dC41Gg02bNqGpqanTMVauXIlf/epXkMvlzpyzZs3C8uXLodFocOLECee2vXnP5eXlYdOmTZg4cSJee+01JCQkOPfx8vLCPffcg1WrVnUqENFlnJhygLQ3iM+/rxY4Sc9lnKgTOkKPHc5R43COZ1ykqVQqoSMQ0OVFvUqlQkZGBlauXNnh8YyMDISFhXWYxDArKwvZ2dmdtt24cSOWLl3aYXLG9uU1ly5d2qtzabVaXLx4EWlpadc9V1ZWFlQqVZfn6ipXX36urs7l7+8PlUoFlUo14Oe6kZ+rq9dbqVSyPQqkvr4eRoMVqmOdv1y7K2YdGGazGVKpVOgY5KbKysqQmZmJm2++udNnIOC4YN+wYUOHxw4ePAiNRoMlS5YgOjq60z5eXl748Y9/jA8//BCnTp2CSqXqcrv+MmnSpE4TNnt7eyMoKAgAMHnyZHh5dbwEk8lk8PX17faYU6ZM6XI1qtDQUEycOBEWiwU2m815rpCQEOzatQv//Oc/8etf/xqjR492FiMWLVqERYsW9fjnGT16ND799NNunxeJRM7Jv/tjNYzs7GycPXsWv/zlLzF+/Pguz7dgwQLMnz8fx48fR3FxMaZMmdJhm5kzZzqLPNfL2Zv3XHZ2NnJzc/Gb3/wGcXFxXWZMS0tDQkKCs0B0vR4gQw2LEANELpfDbrdj/Gh/eHu5d4cTs9WOnJJWJET6QSF3/7dEdlELooLlCArwFjrKdeWWaz1mqcXBrqslOrtbsjE+Ph7+/v4dHutuKcpJkyZ1+jd25bm6Ws6z/Vxd5Roq5+ru9eYSncLw9fWFCW3wCZIIHeW6TM1WWI12yEPd//PQrLHB1GqFX6T7X9RbDDa0NVhZgKBrKisrg0ajQVBQELy9r/89r62tDZWVlQCAmJgY593oq0VGRiI2Nhbnzp1DQ0PDgBYhIiMjnXfgu3Jlb4aeCgsLg4+PT4+29ff3xz333IPt27fjb3/7G/72t78hOjoat9xyC2699VbMnDmzTxfEJpMJLS0tKC0tRUFBAQ4fPowdO3b0+nhXKy4uBnDt1zEwMBCJiYk4cOAAqqqqOhUhbuQ1vtH33JUZd+zY0W3vD4PBAJVKBV9fX9TV1bEIcRX3/4T1UD4+PhCJRBg/OsDtL+wNRisulGqQMFKBMGXPfsEJ6VxJK6JDfZEw0v0v7ktUBhYh3ERXS3R2t2RjV9t2txRlT/cfqHN1tS3P1f22XKJTGH5+ftCiGf5R7l881lhNMMHmEVl1NWaYdZ6Rta3JAmOjTegY5Oba71Bf70K+nd1uv6Gu7jU1NT0aguDpbrvtNuzbtw8bNmzA1q1bUVZWhrfffhtvv/02/P39cffdd+OPf/wjoqKienQ8o9GIbdu24fXXX8ehQ4c6POfv7+8cetIfbrQ3hUaj6Zfz9fQ9d6W8vDzk5eX16fxDlXvfoiciIiIioiGlqqqqywkaryYSiSCR9LyHVXh4eI97FHgykUiEiRMnYtOmTaitrUVmZiZefvllpKWlQaPRYOPGjXjyySedq1lcS/sqEHfffTeys7Pxox/9CKtWrcKWLVuQlZWF2tpavPjii/2W/eqhKtdzdU/I3urpe+5K77zzDux2+zX/y87ORmJiYr9kHExYhCCiISEjI8M5V4O7y8rK8qisGzduFDpGj6hUKo/JSkQ0FMXFxcHf3x+NjY0wmUxdbrNlyxbMmDEDf/3rX+Ht7e3sel9SUtLtEpxVVVUoLi5GTEwMRowY0aeMXU0c6c7kcjmmT5+O1atX49ixYzh+/DgmTpyIPXv2oKio6Lr77927F2+99RbS0tJw9OhR7NmzB2vXrsX999+PSZMmQS6Xo6ysrN/ytk8seq2iQFNTE/Ly8hAeHo7IyMg+ne9G33M2mw0hISEAgIsXLw74RKeDFYsQRDQkpKWldTnhkDtKSEjwqKxXTh7pzpRKpcdkJSIaiqKjo5GWloYjR450uZymwWDAoUOHcPz4ccTExEAsFmPu3Lnw9/fHzp07u7wYtlgs+Oabb1BQUICpU6d2OSywK11dBFssFhw4cKBXP5urnDt3DrfeeiseeughtLS0dHhOJBJh3LhxmDBhAjQaTY+Gsly6dAmAY06lriZhVKlUyMzM7J/wP5xn4sSJ2LlzZ5fzLdjtduzbtw8HDhxAenp6h9VQeqM377m0tDRER0c7l4Htyu7duxEXF4eHH34YDQ0Nfco4GLEIQURDglKphFKpFDpGjygUCo/K2tMvdELz9vb2mKxERENRWFgYVqxYgZqaGrzwwgs4deqUs3eD0WjE+++/j48++gjLli3DnDlzADhWm1ixYgWOHDmCp59+2jlpYPs+mzZtwquvvoro6GgsX76806oJV0tKSkJ4eDh27tyJffv2OVedaD/W//7v/w7QT98/goODYTKZ8MUXX+Df//53h0KKzWbD119/ja+++goLFy7s0QV8UlISAMeKEFf2nLDb7SguLsbTTz+N7du3d7lve4+B8vLyHvcgiY+PxwMPPICysjI89dRTHd4DNpsNO3bswPPPPw9/f38sX768zxM+9uY9l5ycjAceeAC5ubl4/PHHO2U8fvw4XnjhBRQXFyM9Pd25Mgpd5t4zJhIRERER0ZAgEonwk5/8BKWlpXj11Vcxbdo0pKamIigoCAUFBSgrK0NaWhpWrVrlnAxRLpfjhRdeQEtLCzZv3oytW7ciPT0dCoXCuU90dDQ2bNiAmTNnXjfDxIkT8eSTT+L3v/89brvttg7n12g0WLt2Lb799tuBfil6LTw8HM8//zxWrFiBp556Ci+//DImTpwIqVSKsrIy5OXlITExEatXr+521aorzZgxA8uWLcPWrVuRkpKC9PR0BAQEoL6+HllZWZg2bRpWrVqFP/3pT1CpVGhra3POuxEREYGxY8fi/fffR05ODpKTk/Hqq69es3AgkUjw+OOPo7m5GevWrXO+B4KDg535/f39sW7dOtx99919fr16857z8vLCM888g+bmZrz11lsdMra/LgDw3HPP4f777+921ZahjD0hiIiIiIjILcjlcjz33HPYtWsXHn74YajVauzZswdKpRLr16/Ht99+22lJxuDgYLz33nv48ssvcc899yA/P9+5z5o1a3Dw4EHcddddPboY9PLywlNPPYUvvvgCS5YsQWFhIc6cOYMFCxZg3759uP/++29oMkwhzJs3DwcOHMDzzz+PMWPGYP/+/di9ezd8fX2xZs0a7N69G3Pnzu3RsYKDg7F582bnvBDHjx/HsWPHEBoaii1btmD//v14+OGHkZaWhtOnT6Ompsa577hx47Bu3TrnfidPnkRdXd11z+nn54c1a9bgwIEDWLFiBdRqNXbv3g0AePrpp5GZmYknnnjihiex7E5v3nNKpRIbNmxARkYGli9f7syoVqvx8MMP4+jRo1izZg38/Pz6JeNgI7J3N4ML9UldXR22b9+Oe+ZFeMQSnZ/sr8LS6SEesUTnpt3lmDlO6RFLdH55qAYxCeO5LKAbaB+v6AlzLRQUFECtVntM1sLCQo+Ya0GtViMzM9Mjsg42e/fuRa2uCoFjrt0N2h1oSk0waWwISnH/z0NdjRnaSjNCp/kKHeW62posaL5kwoMPPgipVCp0HCIiEhB7QhARERERERGRS7j3LXoion7iCb0K2iUkJAgdoccSEhI8Ji9XxyAiIiISHntCEBEREREREZFLsAhBRERERERERC7BIgQRDQlqtRpqtVroGD2i1Wo9KqtKpRI6Ro+YTCaPyUpEREQ0WLEIQURDQmZmpnOFDHdXUFDgUVkzMjKEjtEjarXaY7ISERERDVacmNLNFZXV4revfIxWraHbbZ746SIsWzzVhamurbJGjTf/8x3OXaqA0WRGRGgg7rstHQtnJsPb273eco1NGnyy7Th2Hz4Pnd6IiNBAPHrvfMyaMgZiMWt0g4mrJiSsr6/HxYsXYTAY4Ovri7S0NMhkN7YsYX8u6Wq1WnHp0iXU1NTAYrFAIpEgKCgI48ePv+FcXUlNTe3XvGaz2ZnXZrNhzJgxiI2N7Zdjh4WFYeXKlf1yLHIfulY9Pnt9G9S1Ld1uM2F2EhbdN8eFqRysFisunijEie+y0VzfCsUwX0yYPRZTFqTAW+Zey1TabDYUnS/H8YwzqK9WQ+IlQeLkWMy+fSoUw7jOPRER9R/3uiKkXvGTu8+667mFVVj11887FE2qa5uw4V8ZKKmoxy//awG8vCQCJrysrKoeL/79S1SqLnd7r65twpo3vsJjD/wIdy6aCpFIJGBC8iQNDQ3Iy8uDRqMROoqT1WrF6dOnOwztsFqtqKurg16vx5QpUyCXywVMeJnZbEZhYSEqKythtVqFjkODjMzH2+XntFqsOPTNSZw5kAO7zQ4A0LbocXT7adRXqXHzA3Mgc5PPb5vVhuO7snB8Z5Yzq8VkwYXj+airbMSyXy6Gf6BC4JRERDRYsAjh5qIjR+CDPz8Ku73j49/uPYMPtx5GUKACSXHhwoS7itlswecZJ9CqNWD0yGD87pe3Ybi/LzZ/dRg7DpzF7sPnsXDWeCTGRggdFSaTBZu/OoJKlRpx0SFY/cQyBA7zxQefH8TXe07j8x0nMDU5FlERQUJHJQ9gtVpRUFDgLECIRCLYr260AqisrERTUxNEIhEiIiIQExMDlUqF4uJiaLValJSUYNy4cULHBADU1dWhvLwcdrvdbV4/8gxyhQ/u/c3tzovnduV51dixaT8kXmKMHhfl8lzVJbU4ezgXEi8J5t2ZhsQpsagursXO/3yPwnOliE0eheT0MS7P1ZWqYhVO7jkHAJh3VzomzEpCfVUjtv1rL+orG5F9KBezb2dhnoiI+gf7m7s5Ly8Jhgf4IXDY5f+8pRKcy6sAAEyfEIfIUKXAKR20eiNKKuoBALfeNAkJo8MQHBSA5bekIVgZAJ3eeM1hJa5UUlmHk+eKIZVK8Nj9CzEyXAk/Xx/ce1saRoYrUdfYityiaqFjkoeQSCSIiIjAqFGjMGfOHAwbNkzoSLBaraiurobdboe/vz/GjRsHhUKB+Ph4BAcHA3AMHTEY3KNNKpVKhIeHIyUlBSkpKRwORT0mFovhq5DDL8DX+Z/czwcV+Y7f4RGxoQiNcm1B2Wa1IfdEISwmC8akxiBlZiLkfj6ITR6FqQtSYLfZcfFEPowGo0tzXS9rfEo0Js0ZC2+ZFJGxYUidPx4AUJ5XhTad8FmJiGhw4Lc8D1Re3Yi84hqIxSLMnZ4EicQ9/hm9pRIMD/AFANSrW513MtuMZhhNZkilEsi83WMMbG1DK3R6I0JHDENU+OUiTmCAH2KjQgAAFwurhIpHAyAjI2NAJyWMjo7GuHHj4OfX97HTWVlZfc6q1Wqh1+sBAEFBQZBIHMOgDAYDtFotAMBoNKK5ubnPWTdu3NinYwCAXC7HhAkTEBkZOWB3W1UqVb9kJfenadahvMBRhIifMNrlwx702jZUl9YBAOKSR0HywzBEU5sJ1SWOx+ur1Ghp1Lo0V1fMJgvUdY75NCLiQuElvdxJNnx0KCReYjQ3tELTrBMqIhERDTIcjuFh7HY7Dp3Kg6HNhPjoUCSMDhU6kpOfrw9uSh+HCwWV+Pq7M4gbFYq50xKx69B5tGoNSIwNR3TkCKFjAgCaWx1fpkQQdbjjKpV6IUDhGCPf0KRBm9EEH5nrxxJT/4uPjxc6Qo+Fh4dDoejb+Gu9Xg+r1QqxWAx/f38Ajt4R58+fh07neP/bbLY+94QID3eP4WA9oVAoMGnSJKFjkAuU51WjpUEDxTBfRCdFuvz8eo0BulY95H4+GDYiAIBjjogj20+jNLcSIrEIbTojdK16AMIO+7NarGjTO3o5XN0DSSb3hlQmhdFggkHbJkQ8IiIahFiE8DAtGj3O5JQCAKYkx2B4gHvNWH3L/IlQt2jx0TdHsf7tb/DmZjm0+jaEBAXg6YeWYpi/r9ARAQAjw5QQi0VoaNJAVd+MwC5m/rbZOCZ9MElISLjhfQwGA8xmc6fHRSIRFArFgN2xDwsLQ1hYWJ+OYTAYYLPZIBaLnTkvXLiApqYmjBw5ErW1tTCbzc5eEUJmdRWFQtGvK3nQwDIajLCYO09SKhKL4OMr63bIjsVsQcmFcgCOoRjDfygCuJKuVY82nRE+fjLnHCdnD+ci51g+FtwzE2f2n4e6tgVNdS2IEWC+iit5eXthWJA/GmuaUFveAJvVBvFVPSztNjtsNptACYmIaLBhEcLDFJTWoriiDnIfb8ye6h4TWl2pzWhGXWOr8+/tc0D4+cogFrvPhFaxo0IQGxWCwrJafLj1MH7z0BIohymQV1yDnPxKoeORmzh79myXwxWkUimmTZuGgADXX9z0VmFhIWpqahAeHo6oqCjU1tYKHYnomg5+fQLnDl/q9LgydBiWP3kb/AK6Lmqra1tQUVgDAEicHOscCiGk4gsVOPztKcy+fSriUqJxZv95oSM5ecukiJ8wGsU55cjPLsGoxAgkTYmD0WBC4dlSGA0moSMSEdEgwyKEB7FabTh44hJsNjvio0Mxys1WbtDp2/DKP7/F8axCJMaGY9Xjd6C8ugH/2LQbJRX1WPXXz/HnZ+9zixUnhgf44ec/mYs1b3yFk+eKcf9Tb3XaxkcmhYST49EgoFarUV1djcDAQIwfP945HINoMCrNrUCbzohhI/wROipY6DioLa/H0e2nkTxjDCbOHusc+uBOxqSORuG5UhTnlGPn5u+xc/P3HZ6XeIk7zBVBRETUF/xE8SCNzRqcz3esijEleTT8fH0ETtRR1sUynDhbBD9fGf7fisWICA1ERGggRgQGYNWGz1DX2IqdB8/h0ftuEjoqACA9NR5/fe5+/OvzAzh3yfG6jouPRHOrHhU1jVAO84OUX7oGjYKCAgA3NiwjPT19oOJck0qlgkaj6dUQknY+Pj4Qi8Ww2WyoqKiAn58fUlJSIJFIYLfbnRPH+vr2bYiUSqWCSqXyiLkWtFotCgsLPSIrAYvum4NF9825oX2MBiNKcx292SJjw+A/XJghi77+csj9fNBmMGLPp0cweuxIzLp1CiRe7e3Psd2wEf6C5LuaTC7DrSsX4PS+8zh3OBfaFj0Uw3wREjUCxTnlkMm9Ifdz7eSeREQ0ePEKy4Pkl6hQXdsEuY83piTHCB2nk1PnS2Cz2REbFYKRYZdXnIiLDkHaxDjsOHAWJZX1bjXZY1JcBF77/f3Ov6ubtfjtKx8DAMbEeM6Ee3R9arVa6Ag9ptFo+pzXz8/PWYTw9vZGcnIy5HLHpKs6nc45X0RfixAajQY1NTUecWFvMpk8Jiv1TlNdC+oqGgEAcSmjOs1t4Cp+AXL4+Mlg0LVhxEglFt47y7lCh67VgDadEXI/Hyi6mI9IKN4yKWYsnYwZSyc7HztzIAfFOeUIUPp3O/yFiIjoRrEI4SGsVhsys4vcdijGlRqaNNDqjc6eGmaz1Tk3hDuxWKywWK0dCiLn8ypQUdOIoEAFkuJYhBhM0tLShI7QY33pAdHO19cXPj4+0Gq1kMvlHeavqK2thc1mg0wmw7Bhw/p0noSEhH7J6wpKpRJLly4VOgYNoPL8ahgNJsGHYsj9fBAcqURTXQvCokZ0uIAvu1QJg64NYdHBCAjs2yo4/cnUZoaXVOIs3Bh0bSjILgUAjEwIhw97QhARUT/hgHeZf0fIAAAgAElEQVQP0aLR42JhFQDHkAF3G4oBAFNTYiAWi1BT14z3PtmPyppGNDZp8MXOEzh6xtEVfkJSlNv0gth79AJ+/+qnKCqrRVOLDqfOF+OtLXtgs9kxZ2oiIkOV1z8IkZuSSqXOVStaW1tRVFTkHJrR0NAAAAgKCoKfn/vciSXqC7PRjMoCFQAgNGoEFMOEu3Mv8ZJgXFoCJF5i5J4uQuH5MthsdlSX1CLrwAUAwNhp8ZAr3OOzXK814Mu3dyL74EVoW3TQNGlx6OsTqCysgY+fDGOnxg/YakBERDT0sCeEhygqr0NFTSOkUgmmTYgVOk6XpqbEYOGsZOw+dB4HMnNxIDO3w/PpqfG4fYF7LI9XUd2ITV8eQl1jK375/AcdnouLDsG9t6ZDIlA3XqL+EhMTA7VaDbVajeLiYhQXFzuf8/Pz85geDEQ90VTfipqyOgDA6LFRgq+KMTppJCbMHousAxfw7ft7OjwXmzwK49Pco/3ZbDac2Z+DqiIVqopU2P9/x5zPicQizFg6GcGRLMoTEVH/YRHCA9jtdhzLKoDNZkdUeKDbDsXwkXnj6YeWYvqEWHyy7TiKK+pgs9kRERqIuxZPxZJ5E9ymF8TIcCX++NRP8Mm2Yzh1vgQ6vRF+vjIsnp2CB+6YieEBvDtMnk8ikWDKlCm4dOkSampqYLFYIJFIEBQUhPHjx0MmY/dqGjwqC2vQpjPCx0+G0FEjhI4DiZcE8+5MQ3BEEE58l43m+lYohvliwuyxmLIgBd4yqdARAQBisRjTFk2Er78c545cgrrWsSxxcIQSM2+bitjxUewFQURE/Upkb58infpVXV0dtm/fjnvmRUAhd+9aj8FoxSf7q7B0egjClO7RNfRaNu0ux8xxSiSMdJ+xtN358lANYhLGIzXVPXqADGUZGRkA4BFzAmRlZUGlUnlM1uzsbKxcuVLoKNelUqmQkZHhEVkHm71796JWV4XAMe5f+NKUmmDS2BCU4v6fh7oaM7SVZoROc/9JI9uaLGi+ZMKDDz4IqdQ9CjBERCQM9746JiLqJ542MWV0dLTQMXokISEB4eGeMYkrJ6YkIiIiEh6LEEQ0JCiVnjOmWaFw/14+7RQKhcfk9fb2dk7WSURERETC4Mx7REREREREROQSLEIQERERERERkUuwCEFEQ0JmZiYyMzOFjtEjBQUFHpW1fdJPd6dWqz0mKxEREdFgxSIEEREREREREbkEJ6YkoiHB01bH8BQJCQkek5erYxAREREJjz0hiIiIiIiIiMglWIQgIiIiIiIiIpdgEYKIhgS1Wg21Wi10jB7RarUelVWlUgkdo0dMJpPHZCUiIiIarFiEIKIhgatjDAyujkFEREREN4ITUxLRkOBJExKmpqYKHaHHUlNTPSZvWFgYVq5cKXQMIiIioiGNRYgBYjabIRKJUN9igrbNKnScazKZbBCJRFBrzIBIJHScHhChVW+BqskodJDrstrsMJlMQscgwDm8QalUOh8zmUxQq9UICwvrtK23tzcUCoXzMa1WC61W22lblUoFpVIJb29vQc6l1WphMpm6PFdXuYbKubp7vVUqVafHaOCZzWbYLYC51SZ0lOuymQC7zTOyWo12ACLPyGqwQ+QR3zGIiGigsQgxQLRaLex2Ow5kNwgdpccyc5uEjtBj54pbca64VegYPeIpY/sHu/bhDVf2iGjvnn/13fHMzEyEhYV1uMNfUFCA7OzsTttmZGRg6dKlHS5sXXmugoICqFSqLs/VVa6hcq7uXu+uHqOB19zcDJPBisYW9y7KX6nxQpvQEXrMk7KazWZIpVKhYxARkYBEdrvdLnSIwchkMqGqqgpyuVzoKD1iMBggk8kgFrv/NCFqtRoKhaLDnVB31dLSgsDAQISEhAgdZchjT4ihdS72hHAvZWVlMJvNHf6N3JVer4fFYkFAQIDQUa7LaDTCYDBg+PDhQke5LpvNBqPRiJiYGKGjEBGRwFiEICIiIiIiIiKXcP/b3kREREREREQ0KLAIQUREREREREQuwSIEEREREREREbkEixBERERERERE5BIsQhARERERERGRS7AIQUREREREREQuwSIEEREREREREbkEixBERERERERE5BIsQhARERERERGRS7AIQUREREREREQuwSIEEREREREREbkEixBERERERERE5BIsQhARERERERGRS7AIQUREREREREQuwSIEEREREREREbkEixBERERERERE5BIsQhARERERERGRS7AIQUREREREREQuwSIEEREREREREbkEixBERERERERE5BIsQhARERERERGRS7AIQUREREREREQuwSIEEREREREREbkEixBERERERERE5BIsQhARERERERGRS7AIQUREREREREQuwSIEEREREREREbkEixBERERERERE5BIsQhARERERERGRS7AIQUREREREREQuwSIEEREREREREbkEixBERERERERE5BIsQhARERERERGRS7AIQUREREREREQuwSIEEREREREREbkEixBERERERERE5BIsQhARERERERGRS7AIQUREREREREQuwSIEEREREREREbkEixBERERERERE5BIsQhARERERERGRS7AIQUREREREREQuwSIEEREREREREbkEixBERERERERE5BIsQhARERERERGRS7AIQUREREREREQuwSIEEREREREREbkEixBERERERERE5BIsQhARERERERGRS7AIQUREREREREQuwSIEEREREREREbkEixBERERERERE5BIsQhARERERERGRS7AIQUREREREREQuwSIEEREREREREbkEixBERERERERE5BIsQhBsNhtOnjyJP/3pT2htbRU6zjVVVFRg7dq1qKysFDoK0YBoamrCO++8gz179ggd5Zrsdjs2b96Mr776CiaTSeg4RP1Gr9fj008/xebNm4WOck1sg0RE5KlYhBjitFot/vKXv2DVqlU4fvw4qqqqhI50Tbm5uThw4AAefvhhbNq0iV+8aNCw2+04deoUfvGLX+CLL77A6dOnYbVahY7VLY1Gg+PHj+ONN97AE088gcLCQqEjEfVZYWEhnnzySbz33ns4c+YMdDqd0JG6xTZIRESeykvoACScxsZGrF27FufPn4dYLMbMmTMREhLScSOjEdi+Hfj2W6ChARCJgKgo4OGHgdRUx9/7oqQE+OAD4OJFx7n8/IC5c4Gf/9zx56uMGzcOEyZMwLlz57B582bU1tbiiSeegF8X2xJ5Crvdjp07d+KNN96A0WhEYGAgZs6cCdHV7esG20uvlJQA//gHUFgIJCUBf/wj4OvbaTMfHx8sXLgQlZWVKCkpwbPPPotVq1ZhypQp/ZODyMVOnz7t7BHo5+eHuXPnQiqVdtxIpwO2bAEOHgSamwEvLyAhAXj8cSAmpm8BbvDzlm2QiIg8leSll156SegQ5Ho6nQ6vvfYazpw5A5lMht/+9rd48MEHO17MNzUBzz8P7N0L6PWOx+x2oKUFOHDA8YUoObn3hYht24D164HqaqD9jq/Z7Lj4OXIEmD4dUCg67BIQEICbbroJdrsdFy5cQGFhIYxGIyZPngyxmB17yDNlZmbiL3/5C4xGI6ZNm4Z169YhKSmpYxGiF+3lhpSVARs2ABs3Ao2NjseCg4GbbgKuvhADIJFIMHbsWEybNg3Z2dmor69HVlYWUlNToVQqe5+DSACFhYVYs2YNmpubMXr0aLzyyitIT0+HRCK5vFFJCfC73wFZWUBbm+Mxm81RMPjuOyA8HBg9uncBevF5yzZIRESeikWIIWrnzp3YunUrRCIRfvnLX2Lp0qWdL+J9fBz/LygAfvELx52e+fOB4mLHRUp1NZCWBvj79y5EUBCQm+u4e/Tcc8A99wBKJZCTA7S2At7ewKRJnXaTSCRISUmBVqvFpUuXUFJSgqSkJERGRvYuB5GAGhsbsWHDBtTX1yMuLg6rVq3CiBEjOm/Yy/bSIxYL8PbbwMmTgFgMSCSOi6trFCHaKZVKJCcn49ixY2hsbIRarcaMGTPg5cWOduQZ2tra8MYbbyA/Px9BQUF48cUXERsb23lDf39HW1Orgd/8xtFDYcoUR88kjQaoqwNmz3a0xRvVh89btkEiIvI0LEIMQc3NzXj77bfR2NiIRYsW4ec//3nHuz3tRCIgPh748Y+BMWMcXbKVSkAud9x5FYmAWbOAri6YesLXF1iwwPFFKzDQ0Z08Oho4e9bxpSsoyPGFrgtisRhjx45Fbm4uqqurYTQaMXPmzK5/DiI39v3332P79u3w8/PDqlWrMLq7O6l9aC/XJRY72nViIvD004BKBZSX96gIATgugkJCQnD48GHU1NRg0qRJCAsL610WIhfLycnBhx9+CAB45plnMHny5K43FIuBCROAW28FRo1ytMnwcEcBIifHUbz70Y+6HL50XX38vGUbJCIiT8L+60NQTk4OiouLIZfLcfvtt1/7bolI1P0FiJcXIJP1LYyXl+OLXVeuM8bd398fixYtAgCcO3cOFRUVfctC5GI6nQ579+4FAMycOROJiYnX3qEP7eW6pk1zXAAFBPRq94kTJyI2NhZmsxkHDx6E3W7vWx4iF7Bardi7dy/MZjPGjx+PqVOnXnsHsdjRDrsikzkKEb3Vx89btkEiIvIULEIMQbm5ubDZbBg1atSNDWEwGoHMTMfEeIBjDPrIkf0Tym53jKt9/30gP9/R5XTx4uvulpKSguDgYLS2tqKoqKh/shC5SFNTk3NFmtTU1J735OllexlIw4cPd06Il5eXB41GI2geop7Q6XQoLi4G4Jj4+IYmOdbrgZ07gW++cRQQFiwAhg/vn2C9+LxlGyQiIk/BAYNDjNlsRk1NDQAgNDQUcrm8Zzv++c/AoUOOP4vFwPLlwL33dn9H6Ebk5QGrV1+ejCsiAvj974GuxuRexc/PDz4/jKWtq6vrexYiF1Kr1WhuboZUKu151+k+tJeB1j6XRWtrKwwGAwJ62auCyFVaW1uhVqsBANHR0T3bSa8HXnzRMUcL4JgD4okn+q8Q2IfPW7ZBIiLyBOwJMcRYrVa0/TCrd0BAQOflx3rCZgN27HDMED4QamqAjz8GtNrrbiqXyxEeHg4AaGhoGJg8RAPEaDTCbDZDLpf3fpnZG2gvA23kD3dqdTodtG6Qh+h6jEYjjEYjACAwMLB3BzGZgC++AAaiN94Nft6yDRIRkSdgEWKIkUqlGDZsGADHnRKz2dyzHX/3O8cSgR995JgcS6sFXn/d0RW8rxITgc8+c3Rpff55xzKDx445uppbLNfc1WAwOHt2jOyvoSFELqJQKCCXy2EwGKDT6Xq2Ux/ay0CrrKwE4ChwDu+vbulEA0ihUDgLgE1NTT3bydcXeO01x2fiu+8CSUmOyVxfew2or+97qD583rINEhGRJ2ARYoiRSCTOeSBqa2thMBhu7AABAcCKFY7Z+TUa4ODB/gsnFgPp6Y7ZxQHg9GnHkmfXoFar0dLSAgAICQnpvyxELqBUKjF8+HCYzWaoVKob27kX7WUg2e125+SwgYGBzmFSRO5MoVA4hzCUlZXd+AEiIoCf/cwxJKO6GsjO7r9wN/h5yzZIRESegkWIISg5ORlSqRTFxcXOCbluiEx2eWxqY2P/hgMuz/JvNDq+eF1Dfn4+WltbERQU1P3ShkRuKjAwEHFxcQCAo0ePwmQy3fhBbqC9DKSWlhZcvHgRADB27Fj49maZQiIX8/X1xdixYwEAp0+fRnNz840f5MrPxP4eFngDn7dsg0RE5ClYhBiCRo8ejejoaJjNZmzbtu3aFz7nzzsmwrtSSwvww7wSCArqfRCj0THW9cou5Hb75e6sMplj1v9uNDQ0YOvWrQAcq2RwTXTyNN7e3khLSwMAnDx5ErntE911pY/tZaDt378fhYWFkMlkSEtLg0gkEiwLUU+JRCJMnz7dWZjPzMy89g6HDzuGXlypudnRPgHgh14VvdLHz1u2QSIi8hQsQgxBw4cPx7JlyyAWi3Hw4EFs37696/XE6+uB//1fxzjXzEzHF6HKSuDf/3bccfXyAn5YDuxKdrsdGRkZuOOOO/Czn/2s+6Uzv/4a+Oc/gbffdtw9amsDdu1yfMkDgLi4br90WSwWfPrppyguLoafnx/uuusueHt79/IVIRLOzJkzkZiYCKPRiLfeegv13Y0p72V7aWxsxLPPPoubb74Z7777LiwDMG9EYWEhPvnkEwDAvHnzMH78+H4/B9FAGTduHGbNmgWbzYYPPvgAhYWFXW+Ynw+8+Sawfr3jz0YjUFAAfPghYLU6luccM6bTbj1qg738vG3HNkhERJ6ES3QOUT/60Y+Qk5ODjIwMvP/++5BKpbjlllsgFl9Rl6qocNzh0euBNWs6HkAkAm65BUhJ6XRso9GIQ4cOQafTQafT4auvvsJTTz0FiURyeSODwfHlzWp1XEjt2tXxICNGAD/9qePu7lVMJhP+85//4Ouvv4ZYLMbPf/5zZ3daIk8zbNgw/PrXv8aqVatQVFSEdevW4Q9/+EPHOU760F6Ki4tx5swZAMD27dsxb948JCYm9lv+wsJCrF27Fo2NjYiLi8PKlSvh1R9L9xK5iLe3Nx599FEUFhaisrISa9euxfPPP4/4+PiOG+bnO9piURHw9NMdn/PyAu65B+himc8etcFeft4CbINEROR5JC+99NJLQocg1xOLxZg4cSJKS0tRVlaGEydOoKqqComJiZeXCgwPBxYsAMxmx12atjbHZHiRkcCjjwJ33QVcWVj4gUQiQVlZGXJycgA4Jt+bM2dOxy9FUikwezYQGwvU1jq6nNpsjvHts2cD//M/QFRUh+Pa7XaUl5fj5Zdfxr59+2C323HnnXfi/vvv71jgIPIwwcHBiI6OxpEjR1BdXY19+/YhLCwMkZGRjsJgL9pLO5vNhmPHjkGn08FsNmPOnDnOyWm7deQIUF4OBAcDN93kOP9V2tra8M0332DdunVoampCUFAQVq9ejahuchC5M4VCgeTkZBw7dgy1tbXYv38/ZDIZYmJiLn92jRkDzJjhWK2iocHx2ejlBcTHA08+Ccyb5ygYXKVHbbAXn7dsg0RE5KlE9i774dNQ0dbWhnfffRfbtm2DzWbDs88+i8WLF/f5uK2trXjhhReQk5ODe++9F48++mifj2m32/Hee+/hs88+g0wmwyOPPILbb7+dd3xo0Dh//jzWr1+Puro6JCYmYv369QgICOjzcffv348//elPCA4OxmuvvdYvy9mWl5fjt7/9LRobGzF+/Hj87ne/Q0RERJ+PSySk9p4QhYWF/dpe2AaJiIgu49XbEOfj44P//u//xsKFC/HZZ59h3Lhx/XLclpYW1NXVISAgAAsWLOiXY7ZPIKZSqfDQQw/1y5c4IneSkpKC999/H59//jnEYnG/FCDsdrtzFZxZs2YhPDy8z8cEgLCwMEyfPh1jx47FwoULOScLDQojR47EP/7xD+zZswf5+fkIDQ3t8zHZBomIiDpiTwjqdzqdDuvXr8eJEyfw2GOP4c477+Qs3UQCOX78ONasWYORI0di7dq1CA4OFjoS0ZDCNkhERNQRe0JQv/P19cXChQsRExOD22+/nQUIIgElJSVh3rx5uOuuu3jxQyQAtkEiIqKO2BOCiIiIiIiIiFxCfP1NiIiIiIiIiIj6jkUIIiIiIiIiInIJzgkxQDQaDYqKihAcHAzJVWt7uxubzYa6ujoolUqPmF1brVZDoVB4RNaWlhYEBgYiJCRE6ChDXkVFBYxGIxQKhdBRrstoNMJqtSI2Ntb5mMlkglqt7tRO1Wo1vL29O/xc7duGhYV1OK5KpYJCoeiwrVarhclkglKp7LRtV+cC0GHbpqYm1NTUdFpZZyDOdaM/l1ar7bCtyWRCYWFhv60CRD1XVlYGs9nsEe1Pr9fDYrH0y+o0A81oNMJgMGD48OFCR7mu9vY7adIkoaMQEZHAWIQYINXV1cjKyhI6BrmBsLAwLF26VOgYQ96xY8eg0+mEjtEjXjJfwGrqUIRQq9XIyMjA0qVLO1xYZ2ZmIiwsDKmpqZ22XblyZYfjZmRkYNKkSR22LSgogEql6vQe7e5cADpse+HCBRQUFHS6sB+Ic93oz5Wdnd1hW7VajczMTBYhBHDs2DEYDAahY5AbGDNmDHx9fYWOQUREAuLElAOkrq4O27dvxz3zIqCQu3etx2C04pP9VVg6PQRhSh+h41zXpt3lmDlOiYSR7n9H7ctDNYhJGN/h4oiEsX//fqg1VkSNnSN0lOuqLc2GTa/CHXfcIXQUon6xd+9e1OqqEDhGJnSU69KUmmDS2BCU4v6fh7oaM7SVZoROc/+L+rYmC5ovmfDggw9CKpUKHYeIiATEOSGIiIiIiIiIyCVYhCAiIiIiIiIil2ARgoiIiIiIiIhcgkUIIiLqtaysLGzcuFHoGD2iUqk8JisRERHRYOXeMyYSEZFbCw8PFzpCjykUCi4PSERERCQwFiGIiKjXwsLCOiyt6c4UCgVXqiEiIiISGIdjEBEREREREZFLsAhBRERERERERC7BIgQREfWaSqVCdna20DF6RKvVekxWIiIiosGKRQgiIuo1jUaDmpoaoWP0iMlk8pisRERERIMVJ6YkIqJeS0hIQEJCgtAxekSpVGLp0qVCxyAiIiIa0tgTgoiIiIiIiIhcgj0hPITdbkdOfgXe3LwHhWW1uG1BKp5auUToWJ3YbDZkXSzDJ9uO4dylCtjtdsRGheCny2ZhRmoCxGL3qXuZTBbsOZqD/9t5EhU1jRCJREiKjcAj985D8pgoiEQioSOSG7Lb7agouYTvvv0PyotzYTYZERgUitkLl2HqrJshlXoLHbGDiooKFBcXo62tDXa7HV5eXggNDUVSUhKkUqnQ8Tqor69Hfn4+tFot7HY7xGIxlEolkpOT4ePjI3Q8cmMWswUXTxbizP4cqGubIRIBYdEhmPPjaYiMC3Or3+fffXII5w5f6vZ5ZegwLH/yNvgF+LowlYPFbMH5o3k4tuMMDLo23PX4EsSMi3J5DiIiGtxYhHBzdrsdhWW1eHvLXpy7VC50nGtqM5rw7if7sW1fFmw2u/PxwrJa/PEfW3HXzdPwyPL58PKSCJjSoUWjx5o3vkL2xbIrHrXjQkElnln3ER574Ee4c9FUt/riSsKz2Ww4sPNT7Nv+EWw2m/PxpsZafPvpOyi4eAbLV/4PfOR+AqZ0sNvtyMrKQl1dXYfHLRYLqqqq0NzcjKlTp0Iul/fpPFqtFlqtFmFhYX06Tm5uLsrLy2G3X/7dYbPZ0NDQgKNHjyI1NRWBgYF9OofJZIJare5zVnIveq0B2z7Yi4r8y/N92AFUF9fis39sx/y70pE6b7zH/D739vF2ecHeYragILsEB77MhF5jcOm5iYho6GERws3pDUb88+N9OHepHFKp4+LdbLYKnKpr2/Zl45s9ZyCRiHH30mm4Y+EUeEnE+L9dJ/HlrpP4dm8W5kxNxPgxI4WOigCFHLfOnwRVfTMevfcmTEgahRaNHm/9Zw/OXCjF13vOYNaUMQgJGiZ0VHIjYrEYKVPm4kLWUSSMm4wZ828DAJw8shsHMj5B/oVTKMo7i/GTZgqcFBCJRIiKikJzczP8/f0RHx8PACguLkZ9fT10Oh0qKiowZsyYPp2noKAA2dnZWLlyZZ+OM3LkSNTX10MikWDMmDHw9vZGRUUFqqqqYDKZUFpa2ucihFqtRkZGRp+zknuR+/lgwqyxaG3UYs4d0zEyPgwGbRsO/N9xlOVVIfvgRcRPGI0ApULoqACAuXdMx8xbpnR4TK8x4Ov3vkNLgwYjE8Lh4ydzaaaGajX2fnYURoMJUm8vWCxW2K+4mUBERNSfWIRwc36+PrjtplTctXgqxiVE4tV3t+PE2SKhY3XptgWTUF3XhGClP+67bYbzrtP9t8/A+bwK5BXXILeo2i2KECKRCPPTx2L21DGQSh3NIHCYH+66eSrOXChFq8YAjbaNRQjqJDg0Eo89uwESLy/ne3z67CU4d+p7NNRWoaWpQeCElwUHB2Pu3Lnw8rr8qz4+Ph5NTU2wWCxoa2vr8zkSEhIQHh7e5+P4+/tj1qxZEIvFztdVJpNBrVZDr9fDaDT2+RycmHJwEolESJwci/gJo+H1Q7HeL8AXqTeNR1leFQy6NrTpjW5ThJDJZZBd1QGpurgWrWotZHJvJKbGuLzXRmDIMMy8dYpj6AqAz9/YgTZd39scERFRV1iE8ADz08cCcAx3cGc+Mm/8988Ww263d/gCJZV6QeHrGM+tqm8WKl4nIpHIWYC4msxbCpk3mwd1zesacyn4yF0/jvtarixA3MhzPaVQKKBQ9M/FnUTS/VCtaz3XU97e3hyKMUiJRCJnAeJqUm+vbp9zBzarDYXnymC32RERE4qgsL71+OkNmVyGyfOTAQB1lY0uPz8REQ0tvMqifiUSiTrdwWnVGlBd1wQAGBURJESs6zKbLbhQUIV3PtoHAJiXloTwENd/ESTPYrPZ0NRYi91ff4iG2ipERMUhPilV6FhdstvtaGxsRF5eHiwWC7y9vREZGSl0rG61trYiLy8Per0eEokEUVGcHI96xmqxoqq4Ft9/mQkAGJMai+EjAgRO1b2m+haU51UBABImxUAqc68JY4mIiPobixA04M5cKEVNXTMCFHKMTxB+KMbV/r5xJ7btywIAeHlJ8Iv7bsKdi6ZCInGflTzI/eRfOI1/v/GC8+9jJ6Thjv96AgHD3a/QVlxcjPz8fOff/fz8MGHCBAwb5n7DjWpqanD+/HnnxJ/e3t5ITk5GSEiIwMnIE1y58oRYIsbcO6cjdd54iN3493l1cR20LXr4B/ohMi5U6DhEREQDzn0/lWlQKCytxb//7yAAYMGMcRg9MljgRNdmsVjxecYJ5ORXCB2FPEzehVM4eXgnrBaL0FGuS6fToaioCIZKtu8AACAASURBVFZr3ye5LSgoQEZGRj+k6prJZEJRUREMhr7P2N8+MSUNDTarDaf2nkdVUa3QUbplNppRkF0CAIhKiHDrHhtERET9hT0haMDUN7bitfe3obFJi7joENx7a7pb9i54auUSPLVyCTRaA977dD92HDiLP7+7Da/89l7ERPHuK3VtzPgpWPf2dlgtFpw99T2+/vhN7M/4BH7+w5E+71ah43UQGxuL2NhYWK1W5Ofno7y8HHV1dbh48SJSUlL6dGx/f/9+nWchPDwc4eHhsNvtKC0tRWFhIVpaWnD+/HlMmTKlT3NDcE6IwW/RfXOw6L45MOjacOjrEzh/NA87Nx/AT55YihERSqHjddKoakJ1iaNIEpcyyq17bBAREfUXftrRgNDp2/D6pl0oKqtDUKACv33kNgQHufcdHn+FHA/cMQvhIcPR2KTFkdP519+JhjyJlxcmTpuP5NTZsNlsOHfqINoMOqFjdal9+Ut/f38AQGNjI/R6fZ+OGRYWhtTU/p8HQyQSISYmBkFBjuEtra2taGlp6dMxFQrFgGQl9yP380HazakYNsIf2hY9Cs6WCh2pS+X51TAaTBg2wh+ho9y7pyAREVF/YRGC+p1O34b173yL41mFkHlL8ZuVSxE/2jPGuXpLveD1w53WhiatwGnIU0gkEki9vQEAOk0zzGb3XclGIpFALHb86rdarbC4+fCR9hU8bDZbvyzTSUOHl1Ti7H2nbXG/wqDRYERpbiUAIDI2DP7D/QRORERE5BosQlC/0unb8Jf3dzgLEKt/fSfSU+OFjtWlS0XVKCrrOFZYozNA3+a40BkR6B5rypN70WlakJN1pMNjZrMJOo3jLr2f/3BIpd5CROtEo9F0mJASAMxms7PwIJFI+mWZzv5gNpuRm5vbaZ6K9sKDWCyGTCYTIhoJrKVRg5KLFTC2dV/cqymt67S0ZJveCFObGQCgGOaaC3xdqx6luZXQtV6/h1FTXQvqKhyZPXkoRk/+fYiIiK7kHt8+aVBoL0AcOpkHLy8J7v/xDCTGhqPpijtQRpMZYcHDBUzp0Nikwd837oTVZsMTDy7C2LgINLXq8OGXh9HYpIXMW4rUcaOFjkluxmq14vtdn+PU0d1oaWrApOk3QSKR4PSxPci/eBoAEJOQDB+58Hc0rVYrcnNz0dTUhLa2NsTFxUEsFiM/Px86naNN+vv7w9fXt0/n0Wq10Gq1fZ5r4dKlS6iqqoJWq0ViYiJ8fHxQUlKCpibH8r5yudw5jKS3TCYT1Go154XwIKqyOnzxRgaMBhOixoTjjkcXQSbvWIzStuiw55PDsNnsuOnuGQgfHQK9xoBjO85A26KHl7cXRiVGDHjWVrUWX7yxA011LQgMGYa7f30LApTdF7OrS+pgNJjgH+jnlvNV/H/27jy+qTrf//grSZN0SbrS0kJLSyGAZWvZWqiyqIMwwiAqOFdRLy6jozPeEe9scvW6DTJcf444uDvjIDI64riMIohiQdYCpRtQSktpoXSla5pmaZbfH51GQwsUCk0Kn+fjweNhc05y3mlrc87nfL+fb3d05+cjhBBCnE6KEOKiOVR8km17C4H2VSbe+eg73vnoO4995lybwq8Wz/JGPA8VNQ3U1DXT3GLmv5//u8c2pVLBbTemMmLIpT9pFX2LpbWFivKjWMwm1q97k/Xr3vTYPnjYaNKmz/FSOk+tra2YzWZcLhcVFRVUVFR4bA8ICMBgMPT4OEVFReTk5LB48eILfg2bzUZLS/v0p7q6Onbu3OmxXa1WM3ToUNRqdY+ydqyO0ZOsoneZTVas5vY77KamVuxtDrQBnvs01jbT3NCCxWRl3cvrPbYplAomXj+GmPhL32TY0mrFbLL8O7cFS6v1jEWINmsbpYfap2JED4o8a7HCl3Xn5yOEEEKcTooQ4oo0evgg/rL8fj79eh+bdx6kqrYJlUrJ0Pj+3P6TyUxOMbjnzQvRIUgfwt0PP01B7m62f/MJFeVHcTochEX0Z1zadaRfNx//gJ6NLLhY9Ho9U6ZMoaSkhIqKCve0Bj8/P8LDw0lKSsLf37/Hx0lJSelxs0eNRkNaWhqlpaUcP34ci8WCy+VCqVQSEhLCiBEjCAkJ6XHW6OhoKUD0MQMGR2FIHszR/FJSpo0iUN/5Cjd2aAz/ufRWsrce4vC+YprqjChVCqJi+zFpZnL7VIde+HseER3KyNRhZG89yMjUYUREn3nUX0NtM5VlNe35DTH4qfvm6Vh3fj5CCCHE6RQul8vl7RCXo5qaGtavX8+CaQPQBfj2yYXZ6uCDjJPMnhRFdHjPL0outdWbjjMlKRxDrO/fOfp4WyWDDSOlI78PyMjIoN7oIO6qa7wd5ZyqS3NwtlYxb948b0cR4qLYvHkz1aaThA3z/aH6xlIbNqOTiNG+/3loqmyjpbyN/hN9o/h5NpYGO42HbSxatKjHo5qEEEL0bXKrVwghhBBCCCGEEL1CihBCCCGEEEIIIYToFVKEEEIIccGys7N55513vB2jW6qqqvpMViGEEEKIy5VvNysQQgjh02JiYrwdodt0Oh3JycnejiGEEEIIcUWTIoQQQogLFh0dTXR0tLdjdItOp5MmsUIIIYQQXibTMYQQQgghhBBCCNErpAghhBBCCCGEEEKIXiFFCCGEEBesqqqKnJwcb8folpaWlj6TVQghhBDiciVFCCGEEBfMaDRSWVnp7RjdYrPZ+kxWIYQQQojLlTSmFEIIccEMBgMGg8HbMbolPDyc2bNnezuGEEIIIcQVTUZCCCGEEEIIIYQQolfISIhLxGg0ArAl5xQqlcLLac7O6XQBkFnQgEbt+3UppxPyjzVTXGHydpRzajHbqa+v93YMATQ0NGAyWTiW/423o5yT096Gy97q8Vh9fT2ZmZmkpqYSHh7ufjwzM5Pw8HCP0Qgd+55+13/Dhg0MHTrUY9+ioiLq6+tJTU3ttG9XxwI89vXlYxUXF3e5r4yG6H2NjY3YWh3UH7R4O8o52S0uXA5Xn8jqsLlwOegTWZ329nMNu92OWq32chohhBDeJEWIS0StVuNyuYgM1aDx8+0L+zaHi+oGK+F6NboA3/+VqKq3EBzoR0SwxttRzqnB2IZG4/s5rwQajQaVzUVQcJS3o5yTpaUOJzaPxzQaDdHR0Z1+n8LDw9Hr9V3ue7ro6OhO+57+9Q/37epYp/PlY51pX9H71Go1SrUCdbBvfx4CuJwOHFb6RFaMThxWZ5/Iajc7aTM58fPz/fMMIYQQl5Z8Elwi/v7+KBQKRiYE+/yFvdnq4GCpEUOsjuhwf2/HOae8Y83E9w/EEKvzdpRzOlZlRqfz/ZxXgqCgIKxOf6Lix3g7yjlVl+bgVFg9HtPpdKSkpHTat6t+DGfat6vHoqOju7ww7+6xioqKyMnJ6bT/pThWT99Xx0oeXe0vLq2goCBaaEQf5/tFWaPDhg1nn8hqqmyjzdQ3sloa7FjrnN6OIYQQwgf49tWxEEIIn2YwGIiJifF2jG6RxpRCCCGEEN4nRQghhBAXTKfT9ZnRPmeaziGEEEIIIXqP708iFEIIIYQQQgghxGVBihBCCCGEEEIIIYToFVKEEEIIccGKiorYsGGDt2N0S319fZ/JKoQQQghxuZIihBBCCCGEEEIIIXqFNKYUQghxwQwGQ5fLafoiWR1DCCGEEML7ZCSEEEIIIYQQQggheoUUIYQQQgghhBBCCNErpAghhBDigrW0tFBVVeXtGN1is9n6TFYhhBCir9ixYwcKhYIHH3wQs9ns7TiiD5AihBCi+47n41w+B9eeT8Bp93Ya4QNkdQwhhBBCCHE+pAghhOg217a1cDwf199+hfPpa6Eky9uRhJelpKSwePFib8folujo6D6TVQghhBDiciWrYwghuudkAa7cr77/2mwEbaD38gghhBBCCK9LT0/H5XJ5O4boQ6QI0QeZWi0898pn7M0r4flfL2TimCHejuS2N+8ov/+/D8+43dfyApRX1vPKe1+z/2ApLpeLxLgofjpnMlPGGdBo5H+RDq4tq6Gl3v21YuwNMPAqLybyLou5la1frSPzu/VYzCaCQyIYP+VHpE2fgz44zNvxPFgsFg4cOEBdXR0ulwuVSkV4eDgGg4Hg4GBvx/PQ1tbG4cOHqaqqwuFwoFAoCA0NZciQIfTr18/b8YSPq69pIuOjnRwvPInLBZEDwpn0o7EMGROPn9p3/p7b2+zk7ywk69t8muqM+Gn8SBwZR/rciYRHhXg9164v92M2Wbj5oVkMTorzWh4hhBCXJ5mO0ce4XC6+2pbP3rwSb0fpUmVNo7cjnJfd2UU8/NTf2JtXgsPhxOl0UVxWzbLXPuPLLTnejuc7qopwHfj2+6+DwlBcc4f38nhZU0Mtf125lK1ffYjFbAKguamOjA0f8Ml7L2O1+E5TpoaGBnbt2sWpU6fcdykcDge1tbXk5uZisVi8nPB7ZrOZzMxMTp48icPhANr/5jU0NJCXl0dTU5OXEwpfdvRAGX//v08pPVSO0+HC5XRRU17H+tUZ5O8s9HY8N3ubnYx/7ubbdTtpqjO2P2azcyT7GOtWfkHNiVNeyVSwt4i3nvyAb9ftxGzynb8LQviqtWvXolAoeO+99/j222+ZOnUqwcHBzJ8/n7y8PPd+dXV1rFq1iunTp6NQKAgODmb27Nn8/e9/x2Qyufez2WwsWbKEAQMGkJXVebrr119/jUKhQKFQ8PXXX3favmPHDoKDg3n88cfdn6Fn0tTUxIIFC0hPT6esrKzT9jfeeAOFQsGwYcM83svp7/2NN95wH7urxpROp5Ndu3Zx3333kZCQgEKhICEhgfvuu49du3bhdDq7zGcymXjttdfO+T0TfZfv3BYQ3VJcVs17n+7wdowzcjjbL3ImjR3Ck7+8CX+txsuJzqyqtpFX3vsGU6uVMSMG8fCi6wkNDiRjdwF1jUbmXJvi7Yg+w5X5CTRVu79WjPkRxI3yYiLvcdjtfP2vNZSXHUEXHMbchQ+QYBhF9ckydmZ8xrz/eAitf4C3YwLtxYaCggKsVisqlYpBgwYRExNDXV0d5eXljBo1Cn9//x4dIzs7m5ycnIvSa+Hw4cO0tLSgUCiIiYkhPj6e1tZWioqKGDp0KCEhPbtDXFVVxYYNG6QvxGWoqc5Ixke7sJptxA6NYcatkwnU+3M4qwRTk4kx6SO8HdGtsrSWg7sLUSgVpN84npFpwzhV0cBX722lpamVnO8Ocf1Pr0ap6r37RKcq6tn84U6sZhtqjR92uwOXU4ZWC9Edn3/+OZmZmYSHh5OcnExDQ4N7lOGuXbv4+c9/Tm5uLuHh4cyYMQO73c6OHTvYuHEjM2fOZNWqVRgMBjQaDdOnT+dPf/oT+/btY/z48R7H2bdvn/u/Dxw4wI9+9CP31y6Xi4yMDIxGIzNmzEClUp01c0hICFOmTGHJkiUcOXKE+Ph49zaLxeIuPBQVFVFaWsqYMWPc281mM9u2bcNgMDB58uQzHsPlcvHBBx/w4IMPYjQaSUtLY/jw4dTW1vKXv/yFv/zlLyxfvpzHHnsMP7/vL0kLCwu599572bFjh/t7BrBnzx42btzIggUL+POf/0z//v3P+h6Fb5MiRB9ibDHz2trNNLf4zl3W05la2++e9AvTodWovZzm7LZkFlBZ08jwxBj+95H5hOjb+xvcMmsiLpcLpVIGCgFw6nj7ahgdAkNQTLkNFArvZfKiyvISDuXuRq3R8tN7f0PisPYPZn1wGIOHjT7nB39vqqqqwmg0uu9mdJxkBAcHM2jQoIuSNSYmpsevAe0jNurq6gCIi4sjKSkJaD9RioqKuihZdTodycnJPX6dS8lisbBq1SoOHDhwXs+bOnUq99xzzyVK5fsK9x+l6ZSR6PhI5t53HYG69kLg+BmjfO7vee3JOhx2J+H9Qxg1eThBwYHoQoK4auJQ9n6TR0tTKw67o1eLEGFRIUy5cTwDh0SjANat+hKLydprxxeiL/vwww958803Wbx4MX5+frS1teHn50dRURGPPvooJSUlPPPMMyxZsoSgoCAAamtrWbp0KW+99RZLly7ljTfeICwsjNGjR5OamsqOHTu4/fbb0ev1ABiNRgoKCtzHPHToEK2trQQGtp+7NjY2sn//fqZPn87IkSO7lTs9PZ2YmBgyMjK49tpr3Z+z9fX1HDp0yL3f/v37mTt3Lop/n/dVVVWRk5NDWloagwcPPuPrHzlyhBUrVpCUlMTbb7/NqFHtN686Cib33HMPq1evZs6cOe7M1dXV/Pa3v2XHjh387//+L0uWLHEXdBoaGlixYgXLly8nMjKSFStWuL+fou/xnU9lcVYul4vPv80m7/Bx0lKGEhXhW/O4O5xqaAFAqVS6/1j5IlOrhcycowBcnz7KXYAAUCgUPnXC6m2u3R9BY+X3DwybAonjz/yEy9yRQ1lYzCYGG0YTGz/MY5svFSCg/cPc5XIREBBAdHS0x7aLlTU6OpqUlJ6PGqqpqcFut6NWqxk4cKDHtouVVafTXZSsl1p9fT3l5eXn9a+5udnbsb3GarZRcuAEAFdNHOouQIBv/j3XhbR/3tgsbVha2y/0XS6X+7/VWr9eLUAAaAO0jJs+iv5x/a7YArMQF2rWrFnMnz/ffTdfrW6/CfePf/yDzMxMfvazn/Gb3/zG44I5MjKSZ555hhtvvJF169aRkZEBwIABA0hNTSUvL4+Kigr3/tXV1Rw6dIif/OQnzJgxg0OHDlFbW+veXlJSwu7du5k8eXK3RwgYDAbS0tLIzs6moaHB/fjx48fJyspi4cKFpKamcvDgQY/PmPz8fDIzM0lPT3cXSbpy6tQpcnNzSU5OZsiQ7/vBKRQKpk2bxh133EG/fv0oLi52b/viiy/47LPPuP/++/n1r3/t0bcqLCyM3//+99x1112sWbOG3bt3d+t9Ct8kIyH6iILik/xj/W5iokK5fe5k/u+tL70d6ayyDhzjrv9+nYrqBoICtcy8ejR3zJtCaLBvVCwbmkxU1bbPL/fXqlnx5hds3nkQP5WK6WkjuOfWaUSEnfkP6xWjsQpX1ufQ0fHYX4fyunuv2JNUu72NqpOlAATpQsja9TWb1/8dS2sLA+KGMvuWe0kYOtInCnBtbW20trYC4Ofnx5EjR6isrMTpdKLVahkyZAiDBg3ycsrvdZzgqNVqTp48yZ49e3A4HPj5+TFo0CAMBoNPfF+F7zE1t9Jc395bQa1Rs2HNFg7vK0apUjF8XCJXz52ALsQ3PnsABiT2Jyo2gpryOrZ8vJsb7phKa7OZYwdPoFAqGDxyECo/3ypoCiHOLDExEZ1O5/FYY2Mju3fvRq/XM3/+fLRabafnRUdHM3fuXNavX8/27duZM2cOWq2WadOm8fLLL3Pw4EGGDx8OwLFjx8jKyuKOO+6gqamJp59+mrKyMvcIx3379lFZWUlaWlq3C/ehoaFcffXVvPDCC5SUlLibP+fm5mI0Gpk3bx4ZGRlkZmZSWVlJSEgIDoeD3bt3ExMTw4QJE876+nq9HoPBwMaNG5k0aRLz588nLKy9cbdKpeIPf/iDx/5ms5m9e/cCMGfOnC5HOQQHBzNlyhTeffdd9uzZw3XXXdet9yp8jxQh+gBji5m3P9yK2WJjyT2ziYnyrc77HSxWGzV17RcSP2xQaWq18smmfeQXnuAPjy3wiYv7+iYTjUYTSqWClX/7Cru9vYGPw+Hkq+/yKS6r5rlHFxDpoyNOeotr76dQc+z7B0ZcA4ln/9C5nFktZhrragDIz/qO7MzN7m3lZUf426on+Y/7fseI0ZO8FdHNZrPR1tYGtF/g//AuhtVqpaCgAJvNxtChQ70V0a2trQ2rtf0ucGtrK8ePH3dvs9vtlJSUYLFYPOakXq78/f1ZtmyZt2P0KaZmM61GMwqlgm/+sR2no73RmdNh5+DuI9SU1zH/gZnow3TneKXeoQsJYtZd0/n87W8oPVTOX57+EAVgtzsYN30UV03wrRWkhBBnFx0d3am/Ul1dHVVVVSQmJp51ZaeOKQonTpzAbDaj0WhISUkhNTXVXZjQaDTs27cPvV7PpEmTKC8vByArK4upU6diNBrZsWMHU6ZMYezYsUD7Bf2jjz7qbhz5Qw888AB/+tOfCAgIcBchduzYwaRJk9z9IMaOHcv48eMpKyvj7bff5siRI4wYMYLq6mp27dpFenr6Oc8fhg8fzi233MLy5cu59957uffee0lNTeXGG2/khhtuIDk5GY3m+95xra2tlJaWAvD888/zyiuvdPm6HSNAysrKMJvNBAT4Rh8ucX6kCOHjfjgNY3raVUxOMWAy++48Ta3GD61GzV3zr+b69Pb5Xes27OHjr/ZSXFbN1zsO8NM5Z25i01ustjba2toLD7pADb99YA7jRiawJbOAl975iqNlNWzeddAnsnqN8RSuXeu+HwWhCUB5ze1X7CgIAKfTgdXS6v7vaTcsZMbs26g/VcU//rqC6ooytm/+hIShI/EP8O6dV4fD4dF1ul+/fowePZqGhgYOHjxIW1sbJ0+eZODAgT36AK+qqqKqqqpHvRacTqdH1uDgYEaPHo3dbic/P5/W1lZqampoaGhw30W5EC0tLRQXF/t8Xwhxfuxtdhz29t8fbZCG2XdOJ37EQA5nHeWbf+ygtryOgn3FTPqRb/zcXS4XpqZWrGYb0L4yBoBSpUDj79u9lIQQ3eNwOLDb7d3e32g0uvfvmJKRnZ3NqVOn0Ov1FBQUMHr0aGJjY90jDAoLCzGbzVRUVJCXl8e111573n2afjglw2g0YjQaOXToEAaDgejoaPdoh7y8PObOnesekfH000+fs1m0VqvlqaeeYsKECaxcuZJt27aRmZlJZmYmTz75JPHx8Tz66KP87Gc/63QeIlMtLn++NVFSdNIxDSMiTMcdP5mCRuNZNzK12mhoMtHW1v0/dJeKv1bDk7+cz0evPMLCG1OJCNMTEabnP2+5hgmjEwE4cKQci9Xm5aSefnnXTFKTh6JW+3F9+ihumDoa8M2svcm151OoPvr9A4PHgSHVe4F8zOjxU7l+zh1otP5ED0xg9s33olQqqa44TlND7y+xdzZ6vZ6UlBS0Wi3R0dEkJCQA7SMierrspdFopLKy8tw7dpO/vz9jx45Fr9cTFhaGwWBAqVRit9tpbOzZEsA2m+2iZhW+57qF6SSOap/OkDTJwKjU9r4tJ49WY7O2eTldu5KDJ/jsra+xtFqYcetkHvjD7YyaPByXC3Z9uZ+dX+53L6crhOibVCqVx4oP56LX6937a7VaJk2aRFZWFgUFBe5+EElJSURGRhIXF8ewYcPIz8+npqaGffv2kZuby9VXX+0eWRAQEMDrr7+Oy+Xq9O/11193X/SHhoYybtw49u3bx/Hjx939IEaOHElwcDCDBw9m/Pjx5Obm0tjYSEZGBjqdjvT09G69L61Wyy233MLWrVs5deoUX3zxBT//+c+Jj4+nrKyMX/3qV6xatcpjSVGDwUBubm6X2c/0PkTfI0UIH7dp+wFMrVbqGlq4//G/cP2dz7PgFy9zorK9i/xzr3zKgl+8TE5B5zV+vUGhUBDgr/GYu+2v1ZA0dAAAVbVNWHzgRFCrUaNWt8+Z0wV9P09PoVAQFxMB+E5WrzA1tjek7DgRVmtRXnsv+HWe03glUSpVaP3bm8pp/QNQ/eAEQx8chn+ADrOpGWNTw5leoteoVCp3Qz6VSuUxRzQwMBClUonT6fRYz/tCGAwGZs+e3aPXUCqV7qxKpdLjxC0oKMidvaWlpUfHCQ8P73FW4Xv81H6o/Np/f7QB3w/tVSgUhPVvv1PXVGd0jzjwJqvZSta3edhtdkZOGkbyNUnoQoK4/rZ0kqe2rwhTsLeIhpqeFQeFEN4VERFBdHQ0JSUlnDp15hsTHSshxcXFeVxQT5gwgcTERHbt2kVJSQlZWVkkJSURGBhIcHAwY8aMIT8/n+LiYvbs2UNqauoFNV5WKBTMmDGD8vJycnJy3P0gxo0bh0KhoH///iQlJVFUVMThw4fZv38/aWlpGAyG8z5OREQEN954I6+++iqFhYXuqSJbt26lubkZjUZDVFQURUVFHs0qxeVJihCiV/hr208M9UH+qH2g4VZ4SBCh+vbh8mZL14UGX8nqDa78zVB55PsHEifAVVd7L5CP0PoHEBoRBUCbzeZRue/gp9aiOW1uqDdoNBp3h26n09llVoVCcV53ai4VtVrtbtp1pqyAx9zRy5XFYuHxxx/n+uuvP69/L730kreje01QcACB+vaT97YzFI79A7U+0eyxqa6F2pP1ACQkxbpXwVD5qRiZOoyAIH+MDSaa6ozejCmE6KHQ0FDS0tIwGo188skn7r5HP1RVVcXnn38O4DGKAWDQoEGkpaWRm5vLxo0bARg/vn1lMpVK5X7tDz74gH379pGcnNxpFazuGj58OOnp6WzdupXMzExGjx7NsGHto8g6RlLm5uby0UcfsXv3bsaNG0doaOg5X/ftt99m6tSpvPHGG51Gd2m1Wncxw26343Q63T0vAD777LMuV32y2+0sXbqUcePGsXLlSo+pnKJv8f7ZpzirXy2exa8Wz/J47GhZNb9e/j7NLWae//VCJo7xnSZWNaeayNhdwC2zJuL37xM+i9XG/oOlAERHhrgLEt7UL1zP4LhIauub2Z1TzJRxBvz8VNjtDgqKTwK+k7XXWVpwbf0bOP99IajWopx25xU/CgLAz09NwtCRHNi/nbKjB2lqOEV4v/alsGqqT9Bqaia8XzT6YO83j1Wr1QQHB9PS0kJrayuNjY1ERLSP8mlqasLpdOLn5+cza2yHh4dTV1eH1Wqlrq7OY+1zu92OQqFwPyauLE11RuqrGxmQ2B+tf+e/yfrQIPrFhGNsMHH0wHGGjI5H5afCYXdQWdreSDYkQo9ac+lPeUzNrdSerCdyYDhBwWf/fa2r8pxeZDXbsPXBKYDneOAzLAAAIABJREFU+vkIcSVSKBTcdtttfPHFF7z55puEhISwZMkS92dubW0tTz75JOvXr2f+/Plcc801Hs8PCAjgmmuuYdGiRQBMmTLFvRIGQEJCAgaDgbfffhuAhx566IKnJkRERJCens4TTzwBwK233urRW6KjeeaLL76IXq9nxowZ3VqtavDgweTk5NDc3ExSUhLp6enuUY9Go5HXX3+doqIifvrTn7qLGvPnz+fjjz/m3XffRafT8dRTTxEZGQm0N9t87733+POf/0xsbCwzZszwuSWYRfdJEUJcNKXltTz+woecajDS0GzilhsmAvDPr/ayL78EpVJB+vhhqHp5/fOu+Gs1TJs0gn35JWzNPMyIxBiumzKSHVlF7Mgq8qmsvc2V9zWcOPT9A7Ej21fFEAAYrhpHaHgU9aeq+ObzNdww/z9pNTazZcM/AEgcPobg0DN3wu5N0dHRVFdXY7fbKSwsJCkpCbPZzMmT7YW2oKCgczaW6i1RUVEcP34cq9XK0aNH8ff3R6lUUlpaisvlIiAg4Kwdxi8n4eHhxMbGntdzfriW+uWkqqyGj1ZtwGq2ETcshnn3/whtgGdBVK1VM2xcIqWHyzmSfYyY+CiumjiU4rxSivPKUCgVDB0T7x51cKk017fw0aovaahpIiwqhFt/8WOCwz1X5AiJ0BE5MJwTRyrZv+UA4VEhxBpiaGlq5dt1O3HYnYRFhRAR7f1CZnd05+cjxJXKYDDwpz/9iZ///Oc8+eSTvPTSS4wdOxa73U5OTg5Go5GZM2fyxz/+0X2h/UMTJkxg7Nix5ObmuvtBdIiPj2fs2LEUFRUxduzYcy6XeTYdUzL0ej1Go9HdD6LDsGHDmDJlCjt37iQ9Pd29bOi5TJs2jaVLl/K73/2OqVOnMnz4cOLj42lrayM3N5f6+noWLFjAww8/7J52OXDgQF544QUeeeQRXn31VdasWUNycjJarZaioiL3sqTPPfcco0ePvuD3LLxPihDiookM1zM8MYaavc18tGEPH23Y47F9/swJpCV7fznADldPGMa2fYXszi7m5dWbeHn1Jvc2X8vaaywtuLa+C85/z51WqlBcswj8fWNpO1/Qr/9Arr5+Pl9+9BY5ezLI2ZPh3hYTm8h1N97e7TW6L7WoqCj69+9PRUUFzc3NHt2mNRoNI0aM6HHW7OxscnJyWLx4cY9eR6/XExcXx9GjR7FYLGRlZbm3qVQqDAZDjxtQVVVVsWHDhh5nvZT8/f357//+b2/H8Blmk9W9ioSpqRV7mwNtF78GhrHxFOXEUXLgOJs/3MHmD3e4t6VMH0niqEGXPKul1YrZZPl3bguWVmunIoQ2QEvarHHUnvwGi8nKF+9867HdT+PHtJvTOj3PV3X35yPElWry5Ml8/fXXvPvuu3z++edkZGSg1+tJT0/nzjvvZN68eWcckfjDKRkd/SA66HQ6d1+GtLQ0Bg3q2d+4jikZGzdudPeD6BAeHs6QIUPcRYiOUZXn4ufnx69//WvS0tL429/+xq5du9i0adM53/+4ceP47LPPeP/99/n000/Zs2cPRqORlJQU7rvvPu66664ev1/hfQqXtGC+JGpqali/fj0Lpg1AF3Bxaz0XezqG2ergg4yTzJ4URXR4z+ay22x2du4vYt2GTIrLqnG5XMTFRPCft1xD+vhhF2XY1OpNx5mSFI4htucnaRarjXVf7uGLjGzqGlqIigjmzvlX86P0Ue7pJD3x8bZKBhtGXlCzIK/I2YDznf+Ctn/PXYwfg/K/3r8sihAZGRnUGx3EXdXzUR0ul4vCA3v55vP3qDp5DJWfmvGTf8S1N/4HOv2550meS3VpDs7WKubNm9fj1wIoLi7m+PHj2Gw2FAoFoaGhJCUlodfre/zaLS0ttLS0XPBc1NOVl5dz9OhRd8NMnU7HiBEjLsooCJvNRn19/UXLKrpv8+bNVJtOEjbs/O6SW81Wvlq7jaP5pcy4ZQpjr7nqjMOAbdY2sr7NJ297AS1NrejDdEyePY6kSUPPqx+EsdSGzegkYvT5fR467A62/Wsv2VsPkjJtJNf8ZOIZj9tUZ2TfN3kU7CvGarbhp/EjcWQcqTekEBXbvRN8AFNlGy3lbfSfePGmKtWU17Huz+uxmKzc/NAsBifFnXHf8/n5WBrsNB62sWjRIne/GiGEEFcmKUJcIpeyCHGxXcwiRG+4mEWIS61PFSHsVpyvLIbCf99BVKpQLPo/FGm3eDfXRXIxixCX2sUuQgjhbRdahPCGCy1CeMOlKEJcKlKEEEII0eHKm/AuhOhawXYo2ff91zHDUIy+znt5hBBCCCGEEJcdKUIIIQBwHdsPHUsjKhQo0m6FoJ5PLRBCCCGEEEKIDlKEEEIAoPjJr1E+twPFtffAoDEoJt3k7UiiDygqKmLDhg3ejtEt9fX1fSarEEIIIcTlyrebFQgheldoNIpb/5dzr/4shBBCCCGEEOdPihBCCCEumMFgcC8T5uvCw8OZPXu2t2MIIYQQQlzRZDqGEEIIIYQQQggheoUUIYQQQgghhBBCCNErpAghhBDigrW0tFBVVeXtGN1is9n6TFYhhBBCiMuVFCGEEEJcMFkdQwghhBBCnA9pTCmEEOKCpaSkkJKS4u0Y3RIdHc3ixYu9HUMIIYQQ4oomIyGEEEIIIYQQQgjRK6QIIYQQQgghhBBCiF4hRQghhBBCCCGEEEL0CukJcYk0NDQAsG5rhZeTdN+GPTXejtBt2w/Us/1AvbdjdIt04/cNtbW1mEwmDm7/u7ejnJOfNhAcNo/Hqqqq2LBhA7NnzyY6Otr9+IYNG4iOjvboy9Cx7+n9D9555x2Sk5M99s3OzqaqqorZs2d32rerYwEe+27fvp2ioqJeOdb5vq+cnByPfc/0fHHp1dbWYjU7qNrV6u0o3SZZL422tjbUarW3YwghhPAiKUJcIjqdDoVCwbSxEQRoVd6Oc1Y2m5Nvc04xaUQo4cEab8c5p6/21jAqQc/AyABvRzmnbXl1hIeHezuGAEJDQ8EviKj4Md6Ock4NVUdxWT2LbOHh4cyePbvT71NqaioajabLfU83e/ZsdDqdx2MGg4H4+Pgu9+3qWKdLSEjo8j1cimOd7/uKiYnxeEyn02EwGLrMKy6t0NBQHBob+ljfv/hsrbLTZnYSMtj3Pw/N9XbMtQ7Ch2u9HeWcbC0OWo7bpQAhhBBCihCXilqtxuVyERmiQRfg299ms9WBy+UiXK8mOsz3T2TARXCgX5/IqlIqOl0gCu9Qq9Wo/JQEBkd5O8o5GesrcNo9i5cajcZjpECHropcZ9q3q8dOv3g/275dHSs2NpbY2NheOdb5vq/Tj6fT6bj66qu7zCAuLbVajcIP1MG+PwtUWQ8Ka9/IajMpAFefyOpwOHG5XN6OIcQVb+3atSxatIhnnnmGJ554AgCz2cyjjz7KG2+8wfbt20lPT/dySk9dZRZ9m+9/agkhhBBCCCGEuKxVVlaycuVK97R2cfmSIoQQQgghhBBCCK8pLi5m7ty5bNiwAafT6e044hKTIoQQQogLVlVVRU5OjrdjdEtLS0ufySqEEEL0loCAAF5//XVcLpfXpmI4HA7sdnuX2+644w5cLpdMxbiMSBFCCCHEBTMajVRWVno7RrfYbLY+k1UIIYQQ4nIlRQghhBAXzGAwdLlihS860+oaQgghLh9ms5kHH3yQ5ORkCgsLyc3N5b777iMhIQGFQsH06dN57bXXMJlMXT7f6XSya9cuj+eMGDGCxx57jIKCgk4NVn94vJycHFauXElCQgIJCQn87ne/o6GhgbVr16JQKFi7di21tbUsX76cESNGoFAoSEtL4/XXX8dsNgOQn5/PPffcQ0REBMHBwcyfP5+tW7d22di1I+t//dd/MW7cOBQKBQqFgnHjxvHYY49RWlp6Xt8zhULBjh07AKirq2PWrFnu1zzbv7Vr1/Yo17PPPsuIESPIzc3lq6++ol+/fh5ZOr5/zz77bKfsVquVjRs3snDhQiIiItzHee655zh+/Hin/Tve16xZs6itrSUjI8P93ODgYGbPns0///lPrFZrt7534sL49rINQgghhBBCCHGenE4nf/vb33jzzTfR6/XupZu3bt3K1q1bOXDgACtWrCAoKMj9HJPJxLJly1i2bBkAKSkpDB8+nLKyMl588UXeeustli1bxoMPPoifn+dlVGtrK88++yxff/01ycnJtLS0YLfbCQwMdO+Tk5PDa6+9RkFBAWPHjiUsLIzdu3eTmZlJQ0MDI0eO5JFHHsHf358JEyZQVlbGp59+SnZ2NqtXr2batGkeWZcuXcrKlSsBSEtLY+bMmZjNZnJycsjOzuaf//wna9euvaApFkqlkri4OGbOnNnl9ubmZnbv3o1er29fBr0HuUJDQ7nmmmvIyclBrVYzduxY1Go1/v7+Z81YW1vLY489xpo1a9zH0ul0FBUV8cQTT/D222/z4osvMn/+fBQKhcdzW1tbef7553n77bcZMGAAEyZMoLa2lo0bN7Jx40aWL1/OY4891unnLC4O+a4KIYQQQgghLiv5+fmUlpby7LPP8rOf/YyAgABcLhc7duzgZz/7GWvWrOHmm2/muuuuA9p7Erz66qssW7aM9PR0XnrpJcaPH49CocDpdLJhwwYefvhhHn/8ceLi4pg3b57H8YqKiggMDGTz5s1MnDgRl8uF3W5HrVa793nhhRe4//77+eSTT4iMjMTlcrF582buuusunn/+eXQ6Hc8++yyLFi1Cq9VitVpZsWIFTz75JO+//z6TJk0iICAAgK+++oqVK1dy44038vLLL5OYmOg+Tm1tLUuXLuWtt97in//8JxMnTjzvJePDwsJ46623utxWXV3NL3/5S3bv3s3SpUu54YYb3NsuJNcvf/lLZs6cyW233UZ0dDRr164lIiLirPnMZjPPPPMMa9asYf78+bzwwgvuY1mtVt577z0effRRlixZwqBBg5gwYYLH87dt28bx48d5++23ufnmm/Hz88PpdLJu3ToeffRRVq9ezZw5cxg5cuR5fd9E98h0DCGEEEIIIcRlZ/HixTz44IPuC3eFQkF6ejoLFy7EaDSyZ88e977FxcWsXbuW+Ph4XnrpJSZMmOC+e65UKvnxj3/Mc889h9FoZPXq1V0uI3nrrbe6L3YVCoVHAQIgNTWV3//+90RGRrr3mThxIunp6RiNRu68807uvvtutFotAFqtlnnz5mEwGCgtLaW1tRVov8jOy8sjJSWFe+65x+NCHyAyMpJFixYBcOTIkTNOPbkQJpOJZ555hnXr1vHQQw/xi1/8wj1aoDdz7d+/n9WrV5Oens6LL77ocSytVsvdd9/Nb37zG8rKylizZk2X0yseeeQRFixY4M6vVCqZO3cuN954IwUFBRw4cOCC84mzkyKEEEKIC5adnc0777zj7RjdUlVV1WeyCiGE6LkpU6a4L+g7KBQKDAYDgMdqDDk5OeTm5jJr1qwu734rFAquvfZapk+fzu7duykpKem0j8Fg6DTs/4eSk5OJjo72eEyj0bjv+o8bN67T8H+tVusxpaPjsaeeeor9+/dz8803d3ms/v37M3bsWOx2+0Vb8tJut7Nq1SpeffVV5s2bx5NPPukxnaU3c3333XcYjUZmzZpFfHx8p+1+fn785Cc/wWAwsG/fPqqqqjy26/V6pkyZ0unnFRgYyKBBg9zvV1waMh1DCCHEBeuYY9sXSGNKIYS4ssTGxnZ7346iwsCBA90jJ04XFhbG8OHD2bJlCydPnmT8+PHndbyzvfb55v0hp9NJU1MTVVVVlJSUsHfvXjZu3Ehubm6noseFcrlcfPjhh/zhD38gNTWV559/nv79+3sll8Vioby8HIDBgwefsfAzcOBAEhMTycvL49SpUx7FisTERMLCwi44g+gZKUIIIYS4YDqdDp1O5+0Y3aLRaC7ayZgQQojLy/ne9TYajZcoSfe4XC7y8vJ48cUX+eSTTzrlSUxMRK/XX7Tjfffddzz++OOEh4fzxz/+kauuuspruVwuFw6Ho9v7V1ZWYrFYenRMcXFJEUIIIYQQQghxRTvfVRAu5gX++XK5XLz//vs8+OCDGI1GUlJSmDx5MiNHjmT06NEkJSVRU1PDbbfddlGOV1BQwG9/+1vq6+t5/fXXmTp1qldzKRQKVCpVt/ePiYk550obondJEUIIIYQQQghxRetobHjy5EnMZnOX0yYaGhooLCwkJiaGgQMH9nZEt+PHj/PKK68AsGbNGm6//XaUSs9Wf4cPHyY/P58BAwb06FiFhYXcf//9ZGZmsnz5chYuXHjG6Q+9lcvf3989deXYsWO4XK4uM508eZKSkhIGDx5Mv379Lvh44uKTIoSPO1pWza+Xv09zi/mM+zx854+YP3PCGbf3tvLKel5572vyDp/AamtjQP8wfjonjeunjEKj8a1fuboGIx98sZtN2/MxtVoZ0D+M+2+bTvr4YZ3+aArRoa3NRk5mBt9tWkddbSX+AUGkTr2RaTcswD8g8Nwv0Iva2to4cuQIlZWV2O12FAoFERERjBo16qLcFSgqKqK4uPii9FpwuVwUFxdz4sQJbDYbCoWC4OBgkpKSCAkJ6fHr19fXk5mZKX0hLlMtTSZ2fpHFkZxjWM02dCGBjE4fwfhrR6P1P7+l6S41e5udQ3uL2ft1Lo21zWgDNIy9JolJM8d6Nau9zU7+zkJ2fbkfs8nCzQ/NYnBSnNfyCNGbkpOTGTt2LBs3buS+++7rtKSjy+Xi22+/ZcuWLcyfP7/Tyg+9qbq6msOHD5OYmMjEiRM7nbPa7XYyMjIuynF++9vfsmPHjk4rYXgzF8DUqVPR6/Vs3LiRRYsWkZCQ0OlY//rXvygqKmL27NkyHdPHyFXWZSAoQHvunXpJQfFJHnnmXfbmlWC1tQFQUd3Ai3/ZwFv/yMBu7/78rUut7GQtjy37O59s2oeptX3ZnorqBp5d9SmffZOFy+XyckLhi2xWC5/9fRWfrH2ZutpKACxmE1u/+pAP3/k/LOaLtwxWT1mtVvbu3cuJEyfcc11dLhenTp1i7969mM1nLm72NofDQXZ2NkePHsVmswHtWZuamsjKyupyKTQhOjTWNvPRn78kf1chVnP7709LUyu7vtzPl3/LwGruvDSbt7RZ2/j6g+18/fdtNNY2A2A129izKcdrWe1tdgr2FvHWkx/w7bqdmE0yd1pceYYOHcodd9xBWVkZv/rVr9i3b5/7XNDpdPLll1/yP//zP+j1ehYuXOjVpob9+/dnxIgR7maPP1xlorm5mZdeeokVK1b06BgdS3F+9tln3HnnnTz11FMeK2Fc7Fx6vZ6wsDAqKiqora09Z75x48Zx9913s2PHDpYsWeKxWonVamX16tWsWLGC+Ph4Fi5c2GmVFOFdvnVbWnQSP7Aff/3j/Zx+Pfz55v28+8l2IsJ0jBjiG53p29rsrNuwh+YWMwmxkfz2gTmE6gNZ8+l2vtySy6bt+VyfPpLhiT0bFnYx2Gx21ny6g/KqeobER/HEw/MJCwnkr+u+47Nvslj35R4mjEokbkCEt6MKH5O/fzs5ezJQa7TcevcSho+cQOHBfXy0+kWOHNzHwZxdjJ98vbdjAnD06FGam5tRKBQMHjyYhIQESktLOXbsGCaTiWPHjpGUlNSjYxgMBvdSZz1RXl7uPumIiYnhqquuct9RsdlsHD16tNNdqfMlq2NcvvJ2FFBX1YguJJAbFk2j34AwDu4+wo71WRw7dILjhRUYkgd7OyYAhdnHKNhbjJ/Gj1l3TmNwUhzHDp1g45qtHDt0gqLcMkalDevVTKcq6tn84U6sZhtqjR92uwOXUwrx4sqiUql46KGHaGxsZNmyZUycOJGUlBQiIyMpKyujsLAQvV7PsmXLuPXWW72aNTY2lptuuomdO3dy55138txzzxEfH4/ZbCYnJwe1Ws1DDz3Eli1bOHXqFA0NDe5lQLvriy++4NVXXyUqKoqKigoWLVp0xn0HDRrEihUrepQrJCSEhIQEtmzZwk033UR8fDzLli3rtAJJh4CAAJ588kmamppYs2YNn3zyCWlpaeh0OoqKiigrKyM+Pp4XX3yRKVOmnNd7F5eejITwcX5+KkKDgwgL+f6fRq0ir/AEAJPGDGFg/3Avp2zX0mrl2In2i4gbZyRjSIgmMiKYhT9OJTI8GFOr9azTSnrTsfIa9uaVoFar+Pnt1xMbE05QoD+3zUklNiacmrpmCo5WeDum8DEWs4nszM04nU7Sps1hVEo6Gq0/SWMnM3biNJxOJ4UH9mK3t3k7Kmaz2X1RHx4ezrBhw9BoNAwZMoTg4GCgfXpCW5v3szocDioqKnC5XOh0OpKSktBoNMTFxbnncBqNRkwm3xllInxHm7WNUxXtI2USRw8i4apYdCFBjEm/iv5x/XA5XRgbfeN3x2q2cmjPEVxOF8lTkxiWPBiNVo1hTAJXjR+Cy+ni2MHjOHp51GBYVAhTbhzPot/O56ePzkUb4FvTV4ToLUFBQTz77LNs2bKFu+++m/r6ejZt2gTAkiVLyMzM5OGHHz7vJpYXm0ql4rHHHuPbb7/lpptuoqKigk2bNtHS0sJvfvMbsrOzefrpp0lNTSUrK4u8vLzzPkbHCMqamho2b97Mpk2bzvjvxIkTOJ3OHuUKCgri8ccfZ8GCBe7nHT58+KwZIyMjeeutt/j4449ZsGABR44c4ZtvviE8PJxnn32W7777jptvvvmMPSyE98hIiD7oeEUdhSWVKJUKpk4agUrlG7UkjVpFaHAgJyrrqK1vdjeJsVjbsNraUKtVaDVqb8cEoPpUM6ZWK7Ex4cTFfF/ECQsOIjEuivLKeg4Vn2TmNaO9mFL4GnNrC411NQAMNoxyf6ipVCoSho5k345NVJ8sxdzagj7Yu2tPm81md4Hhh0NGVSoVISEhNDU1YbVaMZvNqNXe/f/SarVitbYPQdfr9R55wsPDqa6upq2tjebm5nMOBRVXHpWfigBde38Ts9GCvc2On9oPh8PhnprhKxfVllYbzfUtAMQOjXb/DVGqlAwcGk3+rkJOVdRjabUSFNx7/WW0AVrGTR8FQE15Xa8dV4hLISAggNdff53XX3/9jPvccccd3HHHHV1uUyqVTJs2jWnTpvXK8c71/OHDh5OTk9NlzhkzZjBjxowzHnflypWsXLnynFm6ynC2zGdzobmgfXTlhx9+2Onxs2XRarXMnz+f+fPndytfREQEGzduPOs+TzzxBE888US3Xk9cGN+4ehXd5nK52LavELPFRmJcFIaE/t6O5BYU6M+MtCSUSgWffb2fb3cdoq3Nzlfb8mluMZMYF0X8QN/oTNvY3H5XTIHCo2mOWu1HsK69G/KpBiMWq80r+YRvslktWK3tc6WVSs+loXT69gv91tYWWluaez3b6Ww2m3su5umNoToaUjocDlpbW3t0nJaWFqqqqnr0Gg6Hw73e9+l3KzQaDUqlEqfT2eM1vm02W4+zCt+jVCkZMWEIfho/ivPLyMo4QJvNzpHsYzSeaiY4XEdMQpS3YwLtozbarO3FwdP/vwzUt3/2WFqtmFukJ4MQQojLlxQh+pgmYyv7D5QCMH7UYEKDfeuu4I+nj+X2n0yhzW7n+df+xW2PrOKzb7KIighmyT2zCdH7xsoBsdHhKJUKTjUYqapt7HIfp8yHFacJ0oeg07ev0lBedqTLfVxOJ06H9xuwBgUFudfQbmzs+ncc6HED1qKiIjZs2NCj19BqtWg07XeqW1pa3AWJ0/U0a319fY+zCt+UcFUs1946BZWfiu3/2ssbS9ey9ZPdaLRqrl04hfD+od6OCLQXGgL+XeiuKuu68ZrT6ZLPHyGEEJc1KUL0MUWl1ZScqCHAX8PVE3q3cVV3WKxt1NR9fxe4ucWM0+kiKFCLUuk787ESB0WRGBeF2WLj3U+2U1PXhN3u4OCRcg4cKfd2POGjgnQhDBvZ3hxxz3cbKC7Iwel00lhfQ17Wd15O50mv17t7P9TV1XHs2DGcTicNDQ1UV1dftOOkpKSwePHiHr2GRqMhPLx9WpTRaOTIkSM4HA6MRiMVFRUe3bV7Ijo6usdZhW9y2B0YG1rcBUCr2YbT4ULlp/L63O0fCtD5M3hk+5KXedsLKDt8EqfTRXO9kcL9Jed4thBCCHF58J1PZnFODoeT7/Ycxul0MTS+P4N8bOUGU6uF5W98zu7sYoYnxrD0oXkcrzjFy6s3cexELUv/3zr++Juf+sSKE6HBQfznLVN5dtWn7M0r4fZfvdppH3+tGpVS6nTiewqFgikz5lJckE1leQl/fXlpp33UGi1+Gt9YBmro0KEYjUZsNhuFhYUUFhZ6bFcoFD5zgZaYmEh9fT0mk4mysjLKyso67dMxskOIH3LYHXz32R6ytxwkOFzH3HvbV6f5+v1t1JTX8embm7j55zcQZ/D+ykwKhYJx00ZSdvgkteV1fLTqy077qDV++Knld10IIcTlS66w+pC6RiP5R9pXxRg/KoGgQH8vJ/KUfaiMPblHCQrU8sjdMxnQP4y0FAPP/OpWIsJ01NQ1s/G78+/Oe6mkpQzl/z1+Oykj41GplKhUSkYPjyMupr1IEh4ShFrtGxdowneEhEWy+JFnmTLjJ/gHtE+HioiMYcjwsQD4BwQSEOgb06TCwsKYOHEiYWFh7l4Lfn5+BAS0DwdXKpXu/hDeFhAQwKRJk4iKinIXG1QqlbsRpVKplDW+RZdqT9ZxKLMIhVLB9JvTiI6PJDo+kpsemElkbAR2m52c7w71+ooTZ6IP03Hrw7NJmT7S3TAzNDKYQcPbiyQafw3+gfK7LoQQ4vIlV1h9yJFjVVRUNxDgr2H8KN9Y7/yH9uUfw+l0kRgXRWz09ytODImPInXsEL7cksux8losVhv+Wt/oVD5iyAD+73e3u7+ub2zh18vfB2DY4BhvxRI+TqcPZc7CB5iz8AGgvVfIH6lmAAAgAElEQVTB5/94jaOFuURGx7mLE75Ar9eTmprq8VhmZiZmsxmtVuszRQho7w0xbtw4j8fy8vIwmUyo1Wr0er2XkglfVnGsBqvZRkg/PVFx3zc/1ofpSJo0lK3ldV5ZceJsAvUBXHvrFK69tX3tepfLxbcf7uR4YQUR0aE+s5qHEEIIcSnISIg+wuFwkplz1GenYvzQqQYjLa1W99dtbQ6aW8xeTNQ1u93RafWL/MITnKisIyJMx4ghUoQQXTO3tnh83VBXw5GDWQAMSxqPn59vLEULdFr9oq6uDqPRCLSPlOjp8pzZ2dm88847PXqNDhaLxaMppclkoqGhAQCdTtfj5TmrqqouWlbRe5rqjBw7dAKr5eyrFbUaLZiav/99d7lcmJp797PH1NxKaUG5R46uWH7wGQnQXN/CsYL2kY4JV8Wh8us70zG6+/MRQgghOshIiD6iydjKoeKTACQNHehzUzEAJowezJdbcqisaeStDzL4z1uuIcBfw1fb8tm5vwiAMSPifGYUxOadB9mwNZdf3jWT8FAdR49X8+rab3A6XVwzYTgD+4ef+0XEFae2qpz3317O9FkLGTxsNBZzK+vXvUH9qSqiBw7GMHLcuV+kl9TU1HDgwAEGDhxITEwMVquVgoIC7HY7Go2GgQMH9vgYMTEXp1hnNBrJysoiLCyMhIQEnE4nhw8fxmw2o1QqiY2N7fExdDodycnJFyGt6C1VZTV8tGoDVrONuGExzLv/R2gDPKcqDBgchTZAg9VsY+snmVy3MJ2g4ABKC8rJ+e4QAAMTowkIurSfm831LXy06ksaapoIiwrh1l/8mOBwXaf96qsb+eKvm0mdmUysIQar2UbGP3fRdMpI5MBwEpJ6/rveW7rz8xFCCCFOJ0WIPuLo8RpOVNahVquYOCbR23G6NGH0YK5PH8WmbflsySxgS2aBx/a0lKHMvTbFS+k8naioY/XH26ipa+aB//mrx7Yh8VHcdmMaKpUMFBKebDYr33zxHlUnj/HBX/7osU2t0TJz3l2EhPY7w7N7l81mo6ioCJvNxrFjxzh27Jh7m0KhYNCgQYSG9nzZwujoaKKjo3v0Gi6Xi8LCQiwWC5WVlVRWVnY6xsUoduh0OlJSfONvkOges8mK1dx+h93U1Iq9zYE2wHOfqNh+jJsxit0bs6koqWbN8o89tkfGRjD5x+NQXuK/6ZZWK2aT5d+5LVharZ2KEG02OzvWZ1F7sp4v3vnWY5ufxo/0uRPRh/rOdK5z6c7PRwghhDidFCH6AJfLxa7sIpxOF3ExYT47FcNfq2HJPbOZNCaRD77YTcmJGpxOFwP6h3HzzAnMmjbGZ0ZBxMaE8/SvbuGDL3axL/8YplYrQYFaZl49mjvmTSE0uO+cBIreo9FombPwAfpFDSRnTwYNddUoVSoGDx3FzJvuJi5huLcjumk0GkaPHk1RURENDQ3Y7XagvQHkkCFDLsrIgotFoVAwatQojhw5Qm1tLW1tbUD7exg0aBBDhw71ckLhLQMGR2FIHszR/FJSpo0iUN/5ClepUjJ59jhih0STuSmH8uJKnA4XupBARqYNZ/yMUQToLv3owYjoUEamDiN760FGpg4jIrpzkU+t8ePaWycTFhnC4X3FNNUZUaoUxA6N4eq5E4lJiLrkOS+m7vx8hBBCiNMpXC6Xy9shLkc1NTWsX7+eBdMGoAvw7VqP2ergg4yTzJ4URXS4703zON3qTceZkhSOIbbzMFdf8/G2SgYbRsrdVx+QkZFBvdFB3FXXeDvKOVWX5uBsrWLevHnejiLERbF582aqTScJG+b7Q/WNpTZsRicRo33/89BU2UZLeRv9J/pGw82zsTTYaTxsY9GiRT3uRSOEEKJvk/HmQgghLlhVVRU5OTnejtEtLS0tfSarEEIIIcTlSooQQgghLpjRaOzUw8FX2Wy2PpNVCCGEEOJy5dvzBIQQQvg0g8GAwWDwdoxuCf//7N15XBN3/j/wVwLhkEuDaEBUFFC8xZt6tmtVartWt9p2a+2y3XZ3a7eXq211bferve2vx9bdHrZ1uz229rK2Kt663ngB3kBEQYUIEgIk5M78/pgSRUAhCZkEX8/Hg0drMpm8mDCTmfd8DqUS6enpUscgIiIiuqmxJQQREREREREReQWLEERERERERETkFSxCEBEREREREZFXsAhBREQuy87OxsqVK6WO0SwajcZvshIRERG1VRyYkoiIXJacnIzY2FipYzQLB6YkIiIikh6LEERE5LLw8HCEh4dLHaNZgoKCoFKppI5BREREdFNjdwwiIiIiIiIi8goWIYiIiIiIiIjIK1iEICIilxUUFCAzM1PqGM2i1Wr9JisRERFRW8UxIVqJ1WqFTCZDeZUFepNd6jjXZbE4IJPJoK2xAjKZ1HGaQYbqWhs0lWapg9yQ3SHAYrFIHYMg7pN2mxW11WVSR7khm8UIwV7/uGGxWKDVaqFUKhEUFOR8XKvVIigoqN64DHXLXjv+gUajaTCGg16vh8VigVKpbLBsY+8FoN6yNput0b/x1nivlv5eer2+wbLcH6VhtVoh2ABrtUPqKDfksACCwz+y2s0CAJl/ZDUKkPnFOQYREbU2FiFaiV6vhyAI2JFzWeoozZZ1qlLqCM12tLAaRwurpY7RLHUXUyQtnU4Hg8GAs0e3SB3lhsLCwmA21y+y1d3FT09Pr3dhnZWVBZVKhdTU1AbLZmRk1FtHZmYmBg8eXG/ZgoICaDSaBrNGNPVeAOot26FDh0b/xlvjvVr6e+Xk5NRbVqlUcn+UiE6ng8VoR0WVbxflr1ZxwiR1hGbzp6xWqxUKhULqGEREJCGZIAiC1CGIiIiIiIiIqO3jmBBERERERERE5BUsQhARERERERGRV7AIQURERERERERewSIEEREREREREXkFixBERERERERE5BUsQhARERERERGRV7AIQURERERERERewSIEEREREREREXkFixBERERERERE5BUsQhARERERERGRV7AIQURERERERERewSIEEREREREREXkFixBERERERERE5BUsQhARERERERGRV7AIQURERERERERewSIEEREREREREXkFixBERERERERE5BUsQhARERERERGRV7AIQURERERERERewSIEEREREREREXkFixBERERERERE5BUsQhARERERERGRV7AIQURERERERERewSIEEREREREREXkFixBERERERERE5BUsQhARERERERGRV7AIQURERERERERewSIEEREREREREXkFixBERERERERE5BUsQhARERERERGRV7AIQURERERERERewSIEEREREREREXkFixBERERERERE5BUsQhARERERERGRV7AIQURERERERERewSIEEREREREREXkFixBERERERERE5BUsQhARERERERGRV7AIQURERERERERewSIEEREREREREXkFixBERERERERE5BUsQhARERERERGRV7AIQURERERERERewSIEEREREREREXkFixBERERERERE5BUsQhARERERERGRV7AIQURERERERERewSIEEREREREREXkFixBERERERERE5BUsQhARERERERGRV7AIQURERERERERewSIEEREREREREXkFixBERERERERE5BUsQhARERERERGRV7AIQURERERERERewSIEEREREREREXkFixBERERERERE5BUsQhARERERERGRV7AIQURERERERERewSIEEREREREREXkFixBERERERERE5BUsQhARERERERGRV7AIQURERERERERewSIEEREREREREXkFixBERERERERE5BUsQhARERERERGRV7AIQURERERERERewSIEEREREREREXkFixBERERERERE5BUsQhARERERERGRV7AIQURERERERERewSIEEREREREREXkFixBERERERERE5BUsQhARERERERGRV7AIQURERERERERewSIEEREREREREXkFixBERERERERE5BUsQhARERERERGRV7AI4SGCIKCgoABLlizBhQsXvP7en3/+OX788UdYLBavvrfUHA4HDh48iJdffhnV1dVSx7muzZs3Y8WKFaitrZU6CvmwyspKfPDBB9iyZYvUUa7rZj7uUNtWW1uLVatW4fPPP5c6ynVxHyQiIn/FIoQHWCwW/Oc//8Hjjz+OnTt3orCw0KvvX1NTg/3792P58uWYO3cu1Gq1V99fKnq9Hm+++SYWLVqE/fv34+LFi1JHapLVasW+ffuwatUqPPTQQzh06BAEQZA6FvkQQRBw6NAhPProo/juu+9w+PBh2O12qWM16WY97lDbplar8eSTT2LFihU4cuQIDAaD1JGaxH2QiIj8VcDf//73v0sdwp8ZDAa89957WL16NQRBwMCBA3HHHXcgMjLyykKCAOTmAm+8Abz/PvDFF8D69YDFAiQnA4GBbmWQyWSw2+04efIkysrKsHPnTiQlJSEuLs7N3853VVRU4P/+7/+wb98+yGQyjBs3DuPGjUO7du0aLnz2LLBkCfDPfwLZ2cCYMYBC4V6AFn6mMpkMAQEBOHr0KCorK7Fr1y4olUokJSVBJpO5l4X8niAI2LBhA9544w3o9Xp06NAB99xzD7p161b/7+PsWeCtt8S/5c8/B9asAcrKgH79gKAgz4Rp5v5yMx53qG07fPgwXnjhBVy6dAlhYWGYNm0aUlJSEBAQcGUhgwH497+Bt98GPv0U+OYb4PBh8bjfoYN7Acxm4KefxO+VTz4Bvv4a2L0biI0FVCrgmu8K7oNEROSvWIRwg81mwyeffIJ169ZBLpfj97//PZ544gl0uPpExOEQT1Tefx+oqBD/DQAmE3D0KHDiBJCW5tYFREBAAPr06YPhw4cjJycH5eXlyM7ORmpqKpRKpZu/pe8xGAxYtmwZjhw5guDgYMyfPx+zZ89GWFhY/QWLisQLtpUrxW0PADExwK23uleEcOEzlclk6N69OyZMmID8/HyUlJTgyJEjSExMRHx8vOtZqE3IysrCm2++CbPZjOHDh+OVV15BSkpK/QLE2rXAq68CJSVAXQsJqxVQq4E9e4ARI4DwcNdDtHB/udmOO9S2qdVqLF26FDqdDgkJCXjttdcwatSo+gWIs2eBZ58Vi3Mmk/iYwwFcvgxs3iwWCxISXAtQWQn87W/A1q1AXZc9QQCqqoAdO8QCRP/+9QoR3AeJiMhfsQjhhsOHD2PFihWw2+24++67MWfOHCiuPVmXyQClUjxpGT0aeP554Ne/Fk8uCgqA8nKga1egZ0+38yiVSvTv3x/79u1DRUUFtFot0tLSEOhmSwtfs2HDBqxevRoymQx//OMfkZ6eDrn8mp5FNptYJDh4EJDLgYAA8WTRE0UINz7TsLAwDB061HnCWFxcjLS0tMZbcNBNoaKiAm+99RbKy8uRmJiIRYsWoWPHjg0XjI4GTp0CevQAFi4EZs4U/w6PHweqq8Wi1+DBroVwY3+5WY471HaZTCYsX74c+fn5iI6OxosvvoiejX0nR0SI+5pWCzz9NPDww8DQocDJk0BNjdgqacwY124qhISI/y0oAB59FHjsMWDCBKCwUCwKlpQAI0eKGa7BfZCIiPwNx4RwkcViwbp162A2mzFw4EDMmTOn6S/8hATgX/8CHn9cbFKpUgEzZogXEIIgnrh4SFJSEh577DHI5XIcPHgQp0+f9ti6fYFOp8P69evhcDgwceJE3HXXXY13ZwgMBCZNEk/mvvhCbJngSW58pjExMXjyyScRFhYGtVqNAwcOeDYb+ZUDBw5ArVYjLCwMTz75JGJiYhpfMDpabAmxeLH49xcTA0yZAiQmis9fuuR6CDf3l7Z+3KG27fTp0zh48CDkcjkee+wxJCUlNb5gYCAwZw7wwQdiQSA6GkhNFQt1gNhqwWx2LYRMJu7PK1eK+2J0NJCUBNx9t/i80SgWOprAfZCIiPwJixAuOnv2LLKzswEAd999NyIauTtRj0LRoD+n07XdCNw0aNAg9OzZE1arFTt37nR7AMQLFy5gyZIlmDp1KiZOnIg5c+Zg/fr1jY7G/c4772DixInIyMjApUuXsGrVKsyYMQOTJk3C3LlzcezYMbfyHD9+HIWFhQgNDcVdd911/Ts9w4eLLRSuHp/Dk9z4TJOSkpCamgoA2LVrF0x1TXvppmIwGLB161YAwC233ILevXtf/wWBgWJLhca4exxxc3/x9HGHyBvsdju2bt0Kq9WKfv36YdiwYdd/gVze9DhOwcFiKyJXyWRNtzoKDBTXfx3cB4mIyF+wCOGioqIiGAwGxMTENN5ssykOB1BcDLz3ntjEMi7O43fp27dvj6FDhwIA8vLyUHOduyc3sn//fsydOxc7d+6E+Zc7PCUlJXjrrbfw6quvNjlyuM1mw4cffogVK1aguroaDocDeXl5+OCDD9zKc+rUKTgcDnTr1g1dunRxeT0e5cJnGhQUhFtuuQWAWNC6fPmyN5KSj6msrHTO6pKamlq///n1CILYD/3jj4H8fLGJ9qRJrZj0xjx53CHyFoPB4JzRqm/fvg3HFrqe2lpgwwZxMEmZDLjtNqB9e88EM5uBrCxx/CFAHPPlBuMHcR8kIiJ/wQ6DLioqKgIg9sWMbO6dwz17xObUdfr3B555RmxW7WF1fcqrq6thNBqbn/EqGo0G//znP2EwGNCvXz889dRTUCqV2Lp1Kz755BPs2rULycnJuP/++xt0iSgtLYXBYMCzzz6LIUOGQKfT4b333kN6erpLWQBxmsvS0lIAQOfOnREaGurSejzKjc+0bgBTvV7Pk8WblFarhU6ng0KhgEqlat6L8vLELhl1g9fFxQHPPeeRcWXc5YnjDpE3VVdXQ6vVAgC6d+/evBfV1gIvviiO0QKIY0DMneu5QuDrrwO7don/L5cDs2YB997brJm0uA8SEZE/YEsIF9W1AIiKikKQqzNbnDwJ/PijOCich9XNuGAwGKDX611ax44dO1BaWorIyEg88cQT6NGjB6KiojBt2jSkp6cDADZt2oTy8vIGr5XL5XjyySdx++23Izo6GomJiXj22Wedd/9dYbfbnd0WIiMjGw4C6gta8JnWFbCMRqPLnxH5N7PZDKvVitDQ0Jbdgb1aaSnw3/8CPvA35InjDpE3mc1mZyu/Dq5OsWmxAN99B5w548Fkv3A4xOmff+n+eSPcB4mIyB+wCOGiursNVVVVjY6N0KjRo8Vp9n78EfjjH8U7HD//DPzwg8fzXbhwAYB4sd7eheahJpMJx48fBwAkJyfXm3c8ICDA2W+2pKTE+V5Xqys8XC02NvbGY2dch0KhQFRUFADxLo/VanV5XR7jxmeq1WpRXV2NyMhI109+ya+Fh4cjNDQURqOxya5NDfTuDXzzjdgE/G9/E6fl3LdP7JrRCgXNlnD3uEPkbeHh4c4CYGVlZfNe1K4dsGyZeOz/6CMgJQXQaMTHGinKt9izz4rr/uor8TtGrwfefVfsenUD3AeJiMgfsAjhom7dugG4ciHZIoGBQHo6MGSI2Ld79+7rjnrdUoIg4Pz58wDEOzshdVN/tZDD4QAgFh2u7W5R13fd4XDAbrc3eG1ISIjrd3abEBAQ4BwH4tKlSzAajR5dv1tc+EzrThbDwsLcKs6Q/1IqlWjfvj2sVis0Gk3LXiyXA6NGAb/6lfjvw4c9OtNOS3nquEPkTeHh4c6bCnXdLFskLk6cMSMoSJxGMyfHc+EiI4GHHgI6dBC/T3buvO7i3AeJiMhfsAjhooSEBERHR6O8vBzHjh1r+QquHum6pkZszukhVVVVOHnyJACgT58+aNeunUvrkf8yCr/dbm8wynZd4UEulzd/MD0P6N+/PxQKBQoLC52DifmMFnymFosFubm5AIDExES2hLhJdejQwdliaO/evc1vVXW1umKf2ezRYmZLeeq4Q+RN7dq1Q58+fQAAhw8fhk6na/lKgoOvjNfg6UGGr153RcV1F+U+SERE/oJFCBepVCrnicvatWtRVVXV9MKVlcCWLfUfM5vFOcUBcWR7V8eVaMT27duhVqsRHByMkSNHNmjF0BwhISHo378/AKCgoAAlJSXO52w2G3b+ckcmLi7O2QfVGxISEtC9e3dYrVasXbvWtYs2T3DzMz1y5AiysrIgl8uRlpbm+rgi5NeCgoIwcuRIAMDBgwdxqm6gu8aYzWLf8Ku7XAjClebfwcHi351EPHHcIfI2mUyGESNGOIvbWVlZ13/B7t1i14ur6XTi/gkAv7SqcMmxY+LAs1erqgLqpnCOjr7uy7kPEhGRv2ARwkVBQUGYPn06goODkZeXhy+++AK2xvpj22zAZ58B778v9u+sqhL7d373nTiIIQD06dPoxcORI0cwc+ZMzJgxAwcOHGhWLrVaja+//hoAMH78ePTr18/l33H06NHo1KkTqqur8Y9//ANnz56FXq/H999/j61btwIAxo4di5hWmN2jKe3bt8f06dMhl8uxc+dOrFu3zqNzoRsMBrz55puYMmUKli5d2ng/fTc+UwAoLy/HypUrYbVa0b9/f7cG6yT/d8stt6B3794wm83417/+1ehArwCANWuADz8U/+4uXxYvTDZuFC+KACAxsdGLlIqKCixYsACTJ0/GRx991Phxyk2ePO4QeVvfvn0xevRoOBwOfPrpp1Cr1Y0vmJ8P/POf4oxI+fli4aGgAPjPfwC7XZyes1evBi9r1j5YXi5O87xsmTg1p8kEXLgA/PvfYgunwEDgl+k3G8N9kIiI/Amn6HTDwIED8eCDD+LTTz/FmjVrEBoaitmzZ9e/q11TA5w7J56sfPWV+HO1pCRx+q1G7Ny50zlQ1jfffIN+/fpdd5wFtVqNl156CRUVFUhMTERGRgYCmzGlV1O6du2KJ554AkuXLsWJEyfwyCOP1Ht+1KhRuO+++7x+t+VXv/oVjh8/jszMTHz88cdQKBS44447nN1H3KHRaLB3717YbDbs2rULt956K8aMGVN/ITc+07KyMrz66qs4c+YMoqOj8dhjj3E8iJtcVFQUHn/8cSxatAhnzpzBK6+8gueffx6dOnW6spDRKF7s2O1i4WHjxvor6dgRePDBK92BrlJYWIgjR44AANatW4fx48ejd+/eHsvv6eMOkbcFBQXhkUcegVqtxoULF/DSSy/hb3/7G5KSkuovmJ8v7otnzohTMV8tMBCYORNoZJrPZu2D58+LLSpqa4GlS+s/J5MBd9wBDBjQaH7ug0RE5G8C/v73v/9d6hD+SiaTISUlBXq9HqdOncKxY8dw7NgxpKSkICoqSrw4Dw0Fbr0V6NRJHLRKrxebULdvL84p/tRTwC8zPlyrqqoK+/fvhyAIUCgUmDhxIkJDQxssZzKZ8NNPP+GVV15BZWUloqOjsXjxYnTt2tXt3zE+Ph7jx4+HVquFRqOB3W5HXFwcHnnkEWRkZDTIs3//fuTn5yMqKgqTJ09uNK+75HI5Bg0ahHPnzqGoqAgHDhzAxYsX0bt376aLNHv2AMXFQEyM+Hk0Mb1nQEAADhw4gIqKCgiCgH79+jm73Ti58JnWFTUWL16M8+fPIzg4GM8++ywGDhzoiU1Cfi4mJgbdu3fHnj17UFJSgm3btkGlUqFLly5icU2hAMaMAXr2BC5dElvfOBzieBBjxgB//SvQxP7ucDiwb98+GAwGWK1WjB071jnAa5Oasb+05nGHyNvCw8PRv39/7Nu3D5cuXcL27dsRHByMHj16XLmg79ULSEsTj/mXLwNWq1h8SEoCnnwSGD9eLBhco1n7YGwscNtt4jrLy8WWEHI50KUL8MgjwIwZwDXjL3EfJCIifyUTPNmW/SZls9mwevVqfPzxx7Db7bj33nsbtBpwdb1vvPEGtm3bhnHjxuH555+HopGLgeLiYsyfPx8VFRXo168fnn322XpTarZVJpMJH330EdauXQuHw4EFCxZg0qRJbq/3+PHjeP7552Gz2fD66697pFCg0+nw3HPPQa1WIz4+HvPnz2dzWWrg2LFjePXVV1FWVobevXvj1VdfRWRkpNvr3b59O15++WXExMRg2bJlHhnH5WY97lDbVtcSQq1We3R/4T5IRER0BdvreUBgYCBmzpyJtLQ0fPrppxg1apRH1mswGHDx4kUoFApMmjSp0QIEIA6SOWLECPTp0wcTJ068aQY5DAkJwV/+8hdMnDgR33zzDfr27euR9V68eBFmsxnDhg1Dr0b697oiKioKaWlpSEtLw8yZMzlqOTVqwIAB+Pjjj/Htt99CLpd7pAAhCIJzJpnRo0cjNjbW7XUCN+9xh9q2+Ph4/OMf/8CWLVuQn5+Pzp07u71O7oNERET1sSWEj7LZbPjwww+xevVqTJ8+HX/84x/Zx9ML1Go1Fi1aBAB4+eWXG/YJJvIz+/fvx9KlSxEfH4+XXnrJqwPJEhH3QSIiomvxqtZHBQYGYty4cTCZTPjd737HAoSX1I2BMWTIEBYgqE1ISUnB+PHjMWPGDF78EEmA+yAREVF9bAlBRERERERERF7h/pyGRERERERERETNwCIEEREREREREXkFixBERERERERE5BUc7bCVnD17Frt27YJSqURAQIDUca7L4XCgoqIC7du3b3IaUF+i1WoRFhaG4OBgqaPckE6nQ9euXTFmzBipo9z01q9fD71ej4iICKmjNIvJZML06dOd/9ZqtcjKysLIkSOhVCqdj2dlZUGpVCI5ObnBsunp6fXWmZmZiaSkpHrLFhQUQKvVYuTIkQ2Wbey9ANRbNicnBydOnMADDzzQ6u/V0t9LrVbXW1ar1SIzM7NBVmp969atQ21tLcLDw6WOckO1tbWwWq2IioqSOsoNmUwmGI1GdOjQQeooN2SxWFBVVYVZs2YhJCRE6jhERCQhFiFaSUBAAGw2G2LaGREU6NsNTqx2AZcu2dAh2IjwUKvUcW5IozGjc5Qc0U9Cv6IAACAASURBVGF2qaPcUGWFBRz71Tc4HA5YHQGwKzpKHeWGTPoKOKz198WgoCCoVCoEBQXVe1ypVDYorNQtey2VStVg2aaKMk2917WioqIavQBqjfdq6e917bJBQUF+cbHWFtntdhjtBgiBJqmj3JDFYYfdJqAm0Pe/D62CAxaLHTWBl6WOckM2qwM2m93nb8wQEVHr4+wYraSsrAzr1q3DzPFxCA/17VqP0WzH19svIn1EJ6iUvn934rNNxbilrxLJ8b5/R+2HXaXokdwPqampUke56W3fvh3aGju69hkrdZQbunQuB45aDaZNmyZ1FCKP2Lp1Ky4ZLqJDL99vwVZzzgJLjQPRA3z/+9BQaoX+ghWdh7eTOsoNmSpt0J22YPbs2X7R6pKIiFqPb9+iJyIiIiIiIqI2g0UIIiIiIiIiIvIKFiGIiMhlGo0GOTk5UsdoFr1e7zdZiYiIiNoqFiGIiMhlpaWlyM7OljpGs+j1er/JSkRERNRW+faIiURE5NNSU1P9ZuBVlUqFjIwMqWMQERER3dTYEoKIiIiIiIiIvIJFCCIiIiIiIiLyChYhiIiIiIiIiMgrWIQgIiKXZWdnY+XKlVLHaBaNRuM3WYmIiIjaKg5MSURELktOTkZsbKzUMZpFqVQiPT1d6hhERERENzUWIYiIyGXh4eEIDw+XOkazBAUFQaVSSR2DiIiI6KbG7hhERERERERE5BVsCeEnBEHA8fzz+OfnW6AuuoQ7b0vFUxlTpI7VgMPhQPbJIny9dh+Onj4PQRDQs2snPDh9NNJSkyGX+07dy2KxYcve4/h+w0GcL62ATCZDSs84/OHe8ejfqytkMpnUEcmHmYy12LFhFfbt+BkKRTAefvJlxHbtKXWsRplMJhw7dgxarRYymQwDBgzw2S4UVqsVp0+fRmlpKRwOB3r16oWePX1zu5J0zCYLsjZkI3vnSQQqAjDzL1PRKT5a6lgNGKprkf2/kzixPw/6qloEhwah78hkjLh9EMKjwqSOV4+2rAp71h5C0akLMBstaBcRiv5pvTFi0iAEhwRJHY+IiNoQFiF8nCAIUBddwvtfbsXR08VSx7kuk9mCj77ejrXbsuFwCM7H1UWX8H//WI0Zk4fjD7MmIDAwQMKUoqqaWixd/iNyThZd9aiAEwUXMO+Vr/DnB36Fu28fxkIENWAy1uLArvXYseEbmIwGAIBCESxxqsaZTCacPn0aly5dgiCI+6Sn/6YLCgqgVqvdHmvBarVCrVbjwoULsNvtHkpXn1arRVZWFseF8GNmkwW5u07hwKYcmI0WAECgQvrvlMZcUJci8z87UK3VOx8zGy3I3nECZ44WYdqjk3ymcHLyQAE2f70bNovN+VhtjREHNuXg7MnzmP7HSYjo4B/droiIyPexCOHjao1mfPjfbTh6uhiKX060rNbWOUF319ptOfhpyxEEBMhxT/pwTJs4FIEBcny/8SB+2HgQP2/NxthhvdGvV7zUUREZHoqpEwZDU67DI/feioEp3VBVU4t/fbEFR06cw5otRzB6aC90io6SOir5mDN5Odi05jM4HA4EBYfCYjZKHalJxcXF0Gg0AMTiQ10hwheVlZWhuLgYgiD4fFaSTvHpi9j980EIDgGKYAWsZqvUkRpVozNg01e7UK3Vo2OcEmN+PQyqbjGo0Oiw5evdqCyrwsEtuZgyezwCfKAwn9AnHvFJKoSGhWDUlFQEhShQeLwY27/fj/ILFTh1SI0Rtw+WOiYREbURLEL4uLB2Ibjz1lTMmDQMfZO74I2P1uFA7hmpYzXqztsGo6SsEjHKCNx3Z5rzjutv70rDsbzzyCssxakzJT5RhJDJZJgwqg/GDOsFhULcDTpEhWHG5GE4cuIcqmuMqNGbWISgBrom9MaU6b9Hn0GjUFFWgn8vf0HqSE3q3LkzjEYjunTpgqqqKhQUFHj8PZKTk5GcnOz2epRKJWJjYxEdHQ2ZTIbjx4/D4XB4IGH992ArCP8W26MTxt09EkkDuqOyvAo//GuD1JEaFdE+DJN+OxZ71h7ClAcnICo6AgAQFtkOIycPxobP/4dLxZdhNJh8oltGu4hQ3P3oJMjkMme3yZShScjPPoui0xdRVVEjcUIiImpLWITwAxNG9QEgdnfwZSHBQfjLnEnOO5l1FIpAhLcLAQBoynVSxWtAJpM5CxDXCg5SIDiIuwc1FNk+GmMmTgcAVJSVSJzm+qKiojBo0CAAQHV1tcRpri80NBQDBw4EAJSWlkqchnxVeFQYht02AABQWV4lcZrri0+KxcwnpjboAhUSJnbfMhvNMBnMPlGEAHDdFhkcE4KIiDyJV1nkUTKZrMEJV7XeiJKySgBAtzjf6P96LavVhhMFF/HBV9sAAONHpiC2UweJUxERkT9rbDDmsvMVAIDQ8FC0iwj1dqQbEgQBtTVGHNxyFMX5JQiPaoe+I9xv7URERFSHRQhqdUdOnENpmQ6R4aHolyx9V4xrvbNyA9ZuywYABAYG4NH7bsXdtw9DQIDvzORB5Kv0ej30ej1UKpXUUW7IYrFAq9X6RVZqm2prjFDnngMAdE2KRWh4iLSBrlF2oQLfvrcOJoMZANApPhp3/O5WRKtYlCciIs/hVRa1KvW5S/j39zsBALel9UVCfIzEia7PZrPj28wDOJ5/XuooRH6hoKAAmZmZUsdoFq1W6zdZqe2x2+zYvzEbZRcqEBIWjAGjU3x+BqbyEi0ObT0Ks9EsdRQiImpD2BKCWk15RTWWfbwWFZV6JHbvhHunjvLJ1gVPZUzBUxlTUKM3YsWq7Vi/Ixevf7QWr82/Fz26dpI6HpFPS01NRWpqqtQxmkWlUiEjI0PqGHQTEgQBubtPIWfnScjkMqSlD0FMF6XUsRroFB+Nua/PgcPhwPn8Umz4fAeO78tHcGgwxk0bAbkPfocTEZH/4bcJtQpDrQnvfrYRZ4rKEN0hHPP/cCdioiOljnVdEeGheGDaaMR2ao+KSj32HM6XOhIREbUBhSfOY9dP4tSig8f1xaAxfXy6FYRcLkf3lC4YOEYcGFt99BxqdAaJUxERUVvBIgR5nKHWhFc/+Bn7s9UIDlLg6Yx0JCV0ljpWswQpAhEYII4QfrlSL3EaIiLyd2eOF2Ptp1ths9jQs383jJ469LozUfiS4FBxVgyz0QKz0bdn6CIiIv/BIgR5lKHWhDc/Xu8sQCx+/G6MSk2SOlajTp8pwZmiS/UeqzEYUWsS+7527BAuRSwiImojzhwvQuZn250FiDsemoDg0GCpYzVgs9pw6mABHHaH8zFBEJytH4JDg5wFCSIiInexCEEeU1eA2HUwD4GBAfjtr9PQu2csKqsMzh9NuU7qmACAisoavLNyA1778GfknCyC2WyFplyH//ywGxWVegQHKZDaN0HqmEQ+jwNTEjVOLEDsgNloQcc4JW6ZOhQ2qx2G6loYqmtRrdXDbPKN1gXH9+Vj45c7sfvnQzBU18JqsSH/SCGO78sDAMQmdEJ4VDuJUxIRUVvBgSnJY06qL2LXQfGExWazY+V3O7Hyu531lrnztlQ8lTFFinj1lJRVoqyiGtV6I/766lf1npPLZbh36kikJMZJlI7If0RERPjNlJdBQUF+k5X8m9VsRe7OU84uDJdLtPji9dX1lgkJC8bMv0xFp/hoKSI6WcxWlJ2/DLvNgYNbcnFwS2695zt0isLIyal+04WEiIh8H4sQdFMa0LsbPnntEfy4+RC27j0BTXkVAgLkSOreGb/9dRrSUpMhl7OhENGNqFQqv7mwDw8P95uZPIi8JShYgYn3j0GvoT1xcHMuSs6WwWaxoV1EKHoP7YkRtw9CeFSY1DGJiKgNYRHCj4QEB+GVv86SOkaThg9MxJbPn5c6RrN1iApDxj3jkXHPeKmjkJ/q1W8oXnl/ndQxmqVnz57o2bOn1DGaJTY2FrGxsVLHIB/Xo29XzFv+iNQxGqUIVmDGY9K3+msuuVyOhJR4JKTESx2FiIhuArzVS0RERERERERewSIEERG5TKPRICcnR+oYzaLX6/0mKxEREVFbxSIEERG5rLS0FNnZ2VLHaBa9Xu83WYmIiIjaKo4JQURELktNTfWbwR5VKhUyMjKkjkFERER0U2NLCCIiIiIiIiLyChYhiIiIiIiIiMgrWIQgIiIiIiIiIq9gEYKIiFyWnZ2NlStXSh2jWTQajd9kJSIiImqrODAlERG5LDk5GbGxsVLHaBalUon09HSpYxARERHd1FiEICIil4WHhyM8PFzqGM0SFBQElUoldQwiIiKimxqLEK3EbrejY2QQKvU26E12qeNcl80uoGNUMKoMdkBmljrODUWGKlBda4em0vezBivkcDgcUscgAFarFXabFbXVZVJHuSGbxQjBXv+4YbFYoNVqoVQqERQU5Hxcq9UiKCioXiGgbtlrL7g1Gk2DooFer4fFYoFSqWywbGPvBaDesr78Xnq9vtFlWYjwPqvVCsEGWKt9/3josACCwz+y2s0CAJl/ZDUKkMlkUscgIiIfwCJEK9HpdLhcbcGWw75/wVPncpXvX9TX0RVW4WhhldQxmkUe4j9/A22ZTqeDwWDA2aNbpI5yQ4HB7QC7pd5jWq0WmZmZSE9Pr3cRnZWVBZVKhdTU1AbLZmRk1FtHZmYmBg8eXG/ZgoICaDSaBt0UmnovAPWW9eX3ysnJaXTZax+j1qfT6WAx2lFR5dtF+atVnDBJHaHZ/Cmr1WqFQqGQOgYREUlIJgiCIHUIIqLWtn37dmhr7OjaZ6zUUW7o0rkcOGo1mDZtmtRRbqigoABqtdovxlrQarXIysryi6xtzdatW3HJcBEdegVLHeWGas5ZYKlxIHpAiNRRbshQaoX+ghWdh7eTOsoNmSpt0J22YPbs2SxCEBHd5Dg7BhERERERERF5BbtjEBGRy5KTk5GcnCx1jGbh7BhERERE0mNLCCIiIiIiIiLyChYhWolGo8HKlSuljtFsK1euhEajkTpGs6xcuRLZ2dlSx2iWzMxMv8lKRERERETU2liEaCXh4eEYPHiw1DGabfDgwfWmt/NlgwcPRmxsrNQxmiUpKclvshK5Qq/X+00B02Kx+E1WIiIioraKRYhWEh4eXm+6OF+XmprqN0WI1NTUelP5+bLk5GS/yUrkioKCAmRmZkodo1nqpvgkIiIiIulwYEoiInJZamqq3xRcVSoVMjIypI5BREREdFNjSwgiIiIiIiIi8goWIVqJXq9HTk6O1DGaLTs7G3q9XuoYzZKdne03/boLCgr8JisREREREVFrYxGilVgsFpSWlkodo9k0Gg0sFovUMZpFo9GgpqZG6hjNotVq/SYrEREREZEU8vLyMHjwYAwePBh5eXlSx6FWxiJEK1EqlUhPT5c6RrOlp6dDqVRKHaNZ0tPTkZycLHWMZhk5cqTfZCVyBQemJCIiAmw2GzZv3oyffvpJ6ijkhtLSUrz77ruorKyUOkqbxiIEERG5LCIiwm9mgAkKCvKbrERE5F+WLVuGSZMmsQWsH1Or1bjrrruQmZkJh8MhdZw2jbNjEBGRy1Qqld9c2Pvb1MlEROQ/bDab1BHITXa7nZ+jl7AlRCuxWCx+NSChv40J4S+DaGq1Wr/JSkRERERE1NpYhGglrdH3uLi4GNu2bcOGDRuwf/9+j647MzMTWq3W7fUIgoCzZ8/if//7HzZs2IANGzZg27ZtKCgogCAIHkgqZi0oKHB7PVarFSdOnMDWrVudWXfs2IHi4mIPpBRlZWV5JCv5lprqSmz+6XO89twcLPzzVCx5ZhbWfvMhqnUVUkdroLq6GocPH8bmzZuxYcMGbNy4EVlZWaiqqpI6WgMmkwlHjx7Fli1bnFl3796N8vJyqaORDzFU12L3z4fw4aIv8f8eX4Hl8z/Dtu/2Ql9lkDraDRXknsM7T32CH/61AVazVeo4DdisNmT/70S9bbt11R5Ulvne8YKoOSoqKrB8+XJMmDABMpkMkZGRSE9Px1dffQWDoeExY8+ePZDJZPjTn/4Eo9HY4PnGBk+se+yFF14AAMyePbvRdTgcDmzfvh2zZs1CdHQ0ZDIZhgwZgpdeeqnRc8+KigpMmTIFU6ZMQX5+PhYtWoTo6GikpKTg7bffhslkavL3NhqN+NOf/uTMeeTIEcyaNQuRkZGIjo7GrFmzsH379gZdDq5+XU5ODt59910kJCQgISEBzz33XL1xElq6beucO3cOzzzzDBISEiCTyTBhwgR88MEHjW5vVz+Ta7djc3IuXboUKSkpyM3NxcaNG9GxY0fIZDLs2bOnyd+FXMfuGK3EkwNTXrx4EWq1usmd0xM8MTCl2WxGTk5Og4FcLBYLzpw5g8rKSgwdOhQBAQFuvU96ejrCw8PdWkdNTQ2OHDnSYJuaTCacPHkSOp0OAwcOdOs9AHFgyqCgILfXI4kLJ+F4937AoBP/HdER8r/+AMR0lzaXxM4WHMe3//5/0GnLnI+ZjAbs3f4TTubux4N/WozYrj0lTHhFcXEx8vLyYLfbnY8JgoDKykocOHAA/fv3R2xsrFvvodFooNFoMHjwYLfWU15ejmPHjtVrkSUIAvR6PY4cOYLExEQkJSW59R56vR5qtdrtrCSdC+pSZP5nB6q1V1qYmY0WZO84gTNHizDt0UnoFB8tYcKmVWtrsGftIdhtvtnP2Gw0Y+OXu1CQc/aqxyzI2XUSFws1mPHYFIRHhUmYkKhl9u3bhz//+c/Izc2FUqnErbfeCpvNhj179mDDhg2YNGkSli9f7vYA4gqFAr1794bJZEJeXh5SU1MRExODmJgYyGQyAIDBYMCiRYvw7rvvAgBGjRqFyMhIFBUVYfHixfjiiy/w0UcfYdy4cQ3Wr9FoMG/ePOzduxeDBg1CSUkJ5HI5goODm5Xvm2++wSeffIKamhoMGzYMOp0O3377LTZs2IDFixfj6aefRmBg/UvC2tpaLF26FJs3b8bgwYOh1+ths9nQrl07AK5tW0EQsHr1ajzzzDMoKipC7969MWnSJBQVFeHPf/4zUlNTUVZWhk6dOrn0OTTm8OHDmDt3LrKyshrNOXPmTLz33nvo3Lkz2rdvj7FjxyInJwcKhQKDBg2CQqFASEiIx/LQFSxCtBJPDYBmNBpbvQABwCNZT58+7SxAKJVKJCYmQi6XQ61Wo6KiApWVlbh48SK6desmedaIiAh07twZFy5cQNeuXREbG4va2lrk5eXBaDSirKwMlZWV6NChg1vv4y8zjjQqJBwIvKqAEhkDtIuSLo8PqNJdxuov/wGdtgyqLgmYNO0hdOmejLLS81jz3+W4fOkidm7+Hr+Z8xQCAxWSZtXpdCgoKIDdbodCoUD37t3RqVMnaLVanDlzBlarFYWFhejYsSMUCtezlpaWIicnx60L+7rin8ViQUBAAOLj4xEXF+fcJ00mE86fP4/Y2FiEhbl+EaTX65Gdnc0ihJ+q0Rmw6atdqNbq0TFOiTG/HgZVtxhUaHTY8vVuVJZV4eCWXEyZPR4Bge4Vuz3NbrPj4OajqCj1zdHWBUFAzs6TKMg5i+DQINxyx1D0GtIDtTUm7PrpAMbeNZwFCPIrBQUFePrpp1FYWIglS5bgmWeecX5/lJeXY9GiRVixYgUWLVqEDz/80K3zvZ49e2LVqlVYunQpXnjhBcybNw8PPPCA83mbzYbly5fj3XffxdSpU/H2228jKSkJMpkMNpsNP/zwAxYsWIAFCxZg5cqV6NOnT7315+bmQqVS4fDhw0hISIDD4YDD4XAWOK4nNzcXubm5eO6557Bw4UJERETA4XAgMzMT8+bNw9KlS9GrVy9MmzatwfZr164dtm7diuHDh0MQBNhsNigUCpe3bX5+PpYsWQKtVouPP/4Ys2fPRnBwMBwOB77//nvMnz8fpaWlHitCXLx4EfPnz0dWVhZefPFFzJ8/35nz4sWLmDt3Lr799lukpqZiwYIF+Mtf/oJJkybh3nvvhUqlwpdffonoaN8sarcFLEL4uNDQUKhUKsjlcqhUKmRnZ6O2tlbqWI1KSUmByWRCUFBQvcHf+vbtiwMHDsBsNqOystLtIoSnpKSkICkpyVn9jYyMdN4pdTgc123m1iY5bIDdDih+qayHRgLh0UDVL3f8I2OAsPbS5fMBUe07YvoDT2DzT5/jnoeegbJjZwBARGQHTJgyC9999jYuFhegVl+NyPbSfnG1b98eycnJKCwsxIABA5xfpJGRkaitrUVxcTGMRiNqa2sRFeV6cSk1NdXtwR5DQkLQt29fnDhxAomJiejatSsAICoqChaLBadOnYLVakVVVZVbRQiVSoWMjAy3srY2k8mE5cuX4/jx4y163bhx4/D73/++lVL5hoj2YZj027HYs/YQpjw4AVHREQCAsMh2GDl5MDZ8/j9cKr4Mo8HkcxfM6qNFyN1zSuoYTaqpNOBEVgFkchkm/CYN/Uf1AgCER4Vh+h8nQx7A3rvkPwRBwKpVq5CVlYV58+ZhwYIF9VoNxMTEYMmSJSgpKcG3336L++67DzNmzGi1PHl5efjss88waNAgLFu2rF7rgMDAQMycORNVVVV49NFH8d///hcvvvhig1bDDz74IBISEgAAcrkccnnz98k5c+bg+eefR0REhPP1U6dOhU6nw+zZs/Hjjz9i4sSJDb5f77nnHgwbNgwAIJPJoFAoXN62giBg3bp1yM3NxcKFC/HQQw85z7/lcjnuuece6HQ6PProo83fsDewYcMGbN++HXPmzKlXKAGALl26YOHChSgvL4dGo0Ftba1z+5B3sAjhB3r37g1A7O7gy4KDgzFy5MgGYz8EBAQ4D6a+dmF/bfOzOjKZrMnn2qwT/4Pj879CNvo+yCbPFQsOkTHARfHEWaZKFJcz6SFs/CcEzRnIH34PCGxec8C2okdyf/zh6Vcb3IFoFxYJADDWGmCs1UtehACAbt26oWvXrg2y1nURcjgcMBqNbhUhPCUmJgbjx49vkFWhUEAul8PhcPj8MdBTtFotLly40KLXVFdXt1Ia3xKfFIuZT0xt8HcSEiYeh8xGM0wGs08VIaoqarDrpwMIDg1Ct15xyM8+e+MXeZmmqAyVZVWIju2AhD7x9Z5jAYL8jU6nw/79+xEREYHp06c32m1BpVLhrrvuwrp167B7927ceeedrdZ9NicnB6dOncLTTz+NxMTEBs/LZDKMHDkSycnJOHLkCKqrq+u1zIiIiGj0dc31m9/8BpGRkQ0ev/XWWzFhwgQcPnwY58+fR0pKSr3nk5OTGxxrXd22RqMR+/btQ0REBO64444G59gymQzjxo3DoEGDXP49r2YymXDkyBEATf/+I0aM4HgPErrJrrK8R6vVIisry2PjQrS2zMxMjBw50iPdB649YNXW1jr7edf1JXNHZmYmkpKS3O7DdzWr1YqLFy+iqKgIgHgH1hPboq4PmiezthYhez2g10LY+C8Iu76ELP0vkHXsCmdJKbobhDWvQ9jxGWA2iN01io4CicOljC2Jxu5AlJw/AwAIj4hCWIT0F/V1GmuuWXfBGhAQ4FbLAk9rLGtNTQ0cDgfkcjlCQ0MlSEW+prH9r+y8OChsaHgo2kX4zt+J3WbH3vWHUXW5BmPuGgZFkMJHixDi4K/hUe1QdPoC9qw9jJpKPdrHRGLstBFIGti9RXdeiaRUUVEBjUaDnj17omPHjk0u179/fwDA+fPnYTQaW60IUVhYCABYv349Tpw40egyRqMRGo0G7dq1Q1lZWb0iRM+ePV3uLjJgwAD06tWr0efat2+PpKQk7NixAxUVDQfWjo+Pb/CYq9tWp9OhpKTkuq/r2LEjVCqVR2YXNBqNznN6dqnwTSxCtBJPjQnhLSqVqtUOvqWlpbDZbJDL5dc9YDWXSqXyaJOp/fv3Q6fT1Vt/v3793B5AExDHhPCL5l2XiyHk7b3y79oqCN+/BMh/2QYyGYTvlwLCVQOqmfQQ9n8P2U1YhLiWvkaHkzn7AIgtJcLCfacIca2amhrn33t4eLhP/31arVbnzBghISFuj9HiD0JCQvDKK69IHcOv1NYYoc49BwDomhSL0HDfGURMfbQIpw6qEZ8Ui4Fj+uDUQbXUkRqw2+yoqqgBAJwvKEVxfgkEh1h+1pVXY+2nWzFhxiikju/XrD7oRFKz2+2w2WzNXr6mpqZFy7sqLy+v0dkbWpNcLm9yv5XJZC0+13V125pMpuvOmAGIXdC7du3qkSKEw+GAzWbDoEGDPHLtQZ7HsnYrCQ8Pd7uftDelpqa6PeNEY0pKSlBSUgJAbF3gicFmUlNTW7XAU15e3uKm0E1JTk72j2KUMg7yh5dDNmKG2AWj7gvL8cusCoJwpQAhkwHKeMhG3QPZmPvF525idpsN2zNXoeT8GbQLi8Tw0VN89kTdbrfj1KlTsFgskMvlHhmfJTs7GytXrvRAuoZOnToFvV6cBSEuLq7ZI4E3RaPRtFpWkobdZsf+jdkou1CBkLBgDBid4jP7X103jIDAANwydQhCw3ynOHI1h90Bq9nm/P+UoYn482uz8ciS+5HQNx6CQxy0sqbS96dAJQLEVn4t6VIbERHhlS64H3zwAQRBuO5PTk6Osxt2a7PZbC0eZ87VbRsSEnLDlpdmsxmlpaUtynMjubm5uHz5skfXSZ7BlhDUaiorK3H69GnY7XYEBQWhV69eHmld4GmjRo0CIE6fdPToUVRVVUGtVjsHBb0pyAOBnkMh6zkUMgCouQwhczmE/312pfgQGgnZ3c9BNuJuINh3mvBLSRAEZO1aj6z/rYVcLsdtU++HKr6H1LGadOLECWi1WgBiix93p+cExEKbJ9ZzLbVa7TwZUSqV6NHD/e3qyamTSXqCICB39ynk7DwJmVyGtPQhiOniGzMSXd0NY+htA9ClZ/3vErvdjlq9CUFWO0LCgn2mcNIlUYVbf5PmbE0y9tcjoCkqh+5yNSrLqhCp9PzNCiJPi46Ohkqlws6dUuzw9gAAIABJREFUO3H58uUmL+rrBgDu2rVrs7v7mc1m1NbWtqh7cd0NuJMnT8JsNrtdUG+J3NxcXLp0qdFtUDdbVktaC7izbePi4vDdd981mae6uto5y15LNPaZhIWFOcfRaKyrCQBcvnwZjzzyCADgtdde81rxh0RsCUGtwmg04vjx484p91JSUny+KXVYWBh69+6NwMBA2O12ZwuOm9L5ExAO/FC/+4WxGsKuLwFL604X60/yjh/Exh//DYfDgZHj78TIsXf4zMXEta69qO/Xr59H1hseHu7xYl1JSQnOnj0LQRAQFhaGAQMGeKSA6W/d5Oj6Ck+cx66fDkJwCBg8ri8GjenjM/tfhUaHwuPFAIDD247h7Sc/wf97fAW2fyd22yrOK8HHL36NzP/sgM3S+s3Ar0ceIIciWLwnFRSsQKDiyr4WFhmKduEhEBwCKsuqpIpI1CLt27fHqFGjUFNTg9WrVzc6qLFGo8HPP/8MABgzZkyDLslFRUUNug8IgoCsrCwUFBS0KM/IkSPRvXt3bN68ucnuGJs2bUJiYiIefvhhj9+537hxY4MuFIIgYNeuXdi7dy9GjRrV7JaRrm7byMhIpKWlAQB++umnBq+7Ok9TWvKZhISEYMiQIQCAtWvXNtoV5OTJk8jKyoJMJvPYtKDUfCxCtBKLxeKRPk3eotFonINHustoNOLQoUMwGAyQyWTo0aMH4uLiPLJuQMxa10Tb0wIDA50nsZ7YHlqtttWytpriY3B8sQCo/eWEs1caoOwi/v+FE3B8+SxgvTlmKbie08cO4L8fvwarxYyUASNw+12zEeCjM6qo1WqcOXPG4xf1raGkpAQnTpxwtqDq37//TTUgpclkwsKFCzFx4sQW/bzzzjtSR/eqM8eLsfbTrbBZbOjZvxtGTx2KgEDf/Jv2dQGBAc7pTi1mKxyOxrvYtYvwze4kRNeSyWS49957MXLkSHz00Ud444036l2ElpeX44UXXsC6deswffp0jB071vlcfHw8brnlFuzZswdr1qxxXiw7HA6sX78eL7/8cpPvW3chW1BQUG+muP79++OBBx7AqVOn8Nhjj+HQoUPO5x0OB/bv348XXngBhYWFGDVqlMcHUnzvvffw/vvvN/hd/va3v6F79+548MEHm/096+q2lclkmDFjBkaPHt3gdVfnaYyrn8nUqVMxdepUfP3113jrrbfq5Tx9+jRefvll6PV6zJo1y3mjNCIiAh06dEBJSYlzTCpqHSxCtBKtVovMzEypYzRbZmams5m2O4xGIw4fPuwsQCQmJiIpKckDCa/IzMxscRW6MRcuXGjQ98xkMsHhEO/+e2KgTlcq5pIqyYPjgz8Aul8KaB3iIL//Zchu+8OVQSqPbYXj08dv6kLE6WMH8M3KN50FiFkZf0VIqG92Ubm2ADFs2DCfvagvLS2tV4BITU31+RZU5H1njhch87PtzgLEHQ9NQHCob00V3Ck+GnNfn4N5yx+p9zNwjDgFXo++XfHE//sdZjw2BYpghcRpga694iCTy3C5RIuK0ivNoXXl1ajR1UIRrEB4e988xhE1Jjk5GW+//TZ69uyJF154Ad26dcNtt92GcePGITExEStWrMCkSZPw+uuvIyYmxvm6bt26Ye7cuQCAP/zhDxg0aBAmT56Mvn374v7778dDDz2E3/3ud42+Z1JSEiIiIvDWW29h/PjxWLx4MUwmEwIDAzFv3jw89thj2LNnD4YPH46hQ4di8uTJGDZsGNLS0pCVlYWFCxfit7/9rcdbdE2bNg2LFi1C7969cfvtt2PYsGG48847UVNTg9deew233HJLi9bn6rZNSEjAsmXLnK/r169fvTyxsbHo3r17g/dz9TNRqVRYsmQJBg4cWC9nWloa+vTpg02bNmHevHmYNm2a8zVRUVFISEjAsWPHcPfdd2Py5Mk4fPhwi7YPNQ+LEK1EpVIhIyND6hjNlpGR4XYz5boCRN2d/06dOqFTp06orq52/jTVL6ulWd0d9LOqqgr5+fk4efIkzp07B4vFgoqKChQUFMBut0Mmk3lkNN309HT/GaDUWA3H53+9UoCQB0D2q0eAzomQjX3gylScggAc3Qxhw3LpskqorgBhMhqg6pKAiXfNhtVqQU11JWqqK6HTlsFkbNlAT63l6gKEQqFAYmIirFarc3+srKyEyWRy6z0KCgo8UnAtLS3F8ePHYbfbERAQgB49eiAgIKBe1huNrH0j/lIcViqViI+Pb9FPY3Ogt0ViAWIHzEYLOsYpccvUobBZ7TBU18JQXYtqrR5mk2da9d1MOnfriM5dO8JstGDnmgPQXtJBd7ka+zdmw2q2QtW9I6JV7aWOSdQiaWlp2Lx5M958800MGDAA27dvR05ODkaPHo0vv/wSP/zwQ4Mp1GUyGe677z6sWbMGM2fORHl5Ofbt24c+ffpgzZo1WLBgQZNjOowfPx7Lli1DXFwcdu3ahYMHDzq/t5RKJd566y1kZmZi1qxZ0Gq12LRpE7RaLR5++GHs3bsXS5cubZVps//0pz/h559/RmpqKrKysqDVavH000/j4MGDuPfee10qeriyba9+3auvvoqQkBBs2bIFAPDOO+9g1apVSElJafAadz6TIUOGYM2aNXjvvfecOfPz8zFz5kxs27YNixcvrndjJiwsDAsXLsTMmTNRUlKCTZs24fTp0y3ePnRjMkG4yYe29yNmsxlZWVmora119snyJYWFhcjPz7/uMr6Su7i4GKdPn3a2erhWp06dMGjQIJ9tst5qCg/D8cnjQOX/b+9eY9u6zzOAP7yLEinJlGWRtuSLREryRSppO3ESJ07q3uYmhZEV6dbC2OoWQzts6xB0GLB9GPpl66ftU9f1soFDO2QtinZok45OGtfO6iRWYpuK7diySFuKLFlHlnUoiVcdXs4+KKJDy6oZ8hwdHub5fYp5iHMeMaREvvz/3/cW4HsExr/8EWB5/xf7yBkUfvA1YCkJw77PwfClbwMN+mlSdurUKYjxPLp2PvHgO69BWsrghR9+G6PvnlvzPo1NzfjqX/8jPF3dFV9nZnwYhZRQUp3/sD74+2ItRqMRAwMDVTWWjEQiiEajVTd8vHdU7v309vaiu7vyx1UURQwNDbE5pQZOnjyJmeQUNvRWvmIhu5TFi/9xEmNXbq55n4YmG577q6exqbPy5czxcQlSvIC2AeW3H/zmJ7/DxTMj2LGrC5/76ieqXgWRnM4iMZlFx0PlN8lbywe3uHyQo6URz379M9jUVV1hPhPLYX5EwrFjx2CxaL/6g6iepdNpPP/88/j+97+PM2fO4ODBg1pHIipRmxuYiVS2detWtLa2IhKJIBaLFRv22Gw2dHZ2wuv11kyDs3XVvQ/G53+Kwgt/B+PTz98tQABA30EYDnwe2OCB4VNfvzvGkz7SfD7ffb/tqEWcjkG0tp49W/GFbzyNMy++jcno8lbFnoHtOHT0YbS2fzRW2hAR0frgSggi+khQYiXEelFiJQRRLVFiJcR6UXMlhNKUXAmhNq6EIFo/XAlBtY49IVQiCAKCwaDWMcoWDAZ1M80jGAwiHA5rHaMsoVBIN1mJiIiIiIjUxiKEShwOB/x+v9Yxyub3++Fw6GN/v9/vr2oP+3ryer26yUpUiUQioZsCpt5GJxMRERHVIxYhVOJwOPQzFQFAIBDQTREiEAhUPcljvfh8Pt1kJaqEUtMx1oNepmMQERFVw26343vf+x5kWeZWDKpJbExJREQVCwQCuim46m10MhEREVE94koIIiIiIiIiIloXLEKoJJFIYHh4WOsYZQuHw0gkElrHKEs4HNbNvu5IJKKbrERERERERGpjEUIlkiRhenpa6xhlEwQBkiRpHaMsgiAgHo9rHaMsoijqJisREREREZHa2BNCJS6XC0eOHNE6RtmYVR0HDhzQOgKRqiKRCKLRqC5el6IoYmhoSBdZiYiIiOoVV0IQEVHFnE6nbibAWK1W3WQlIiIiqldcCUFERBVzu926+WCvt9HJRERERPWIKyFUIkmSrhoS6q0nhF6aaIqiqJusREREREREamMRQiWiKCIUCmkdo2yhUAiiKGodoyyhUAiRSETrGGUZGhrSTVYiIiIiIiK1cTuGSgwGA1wu16rbh4aG4HK54PP5iret1dgtFArhwIEDJeeJRCIQRbGk4eFKs7V77/thruVyuWAwGEpuU+taoVAIXq931X3Lvda2bdtgsVhKzrlWw7lqr3W/n+vDXMvj8cBs5susFsRiMSSTGYxdelXrKA9UyGUh51Ilt6n1HL3f62Hlvve7FlDacDUSiWB4eBjPPfec6tf6sD/Xvb9/EokEQqHQqqykvvn5eUipPMR3M1pHeaBcRoacl3WRNS/JkPPQRdZCTgYA5HK5VX/DiYjoo4WfjlRisVhgtVq1jlE2q9WqmzcFTU1NsNlsWscoS1NTk9YRiFQ1Ozurmy1HiURCN1mJiIiI6pVBlmVZ6xBERGo7deoUxHgeXTuf0DrKA82MD6OQEnD06FGtoxAp4uTJk5hJTmFDb+0XkOPjEqR4AW0DDVpHeaDkdBaJySw6HmrUOsoDZWI5zI9IOHbsmG6+9CAiInWwJwQRERERERERrQsWIVTCxpTqYWNKIiIiIiIifWIRQiVWqxVut1vrGGVzu9266WHhdrvhdDq1jlEWl8ulm6xERERERERqYxFCJQ6HA4FAQOsYZQsEAnA4HFrHKEsgENBNgcfn8+kmK1ElwuEwgsGg1jHKIgiCbrISERER1StOxyAioor5fD54PB6tY5TF5XKtGu9JREREROuLRQgiIqqYw+HQzSoqvW2TIyIiIqpH3I6hEkmSIAiC1jHKJggCJEnSOkZZBEFAIpHQOkZZRFHUTVYiIiIiIiK1sQihEk7HUA+nYxAREREREekTt2OoxO124/jx41rHKBuzqoP7z6neRSIRRKNRXTzXRVHE0NCQLrISERER1SuuhCAiIiIiIiKidcGVEEREVDGfzwefz6d1jLJwOgYRERGR9rgSgoiIiIiIiIjWBYsQKhEEAcFgUOsYZQsGg7qZ5hEMBhEOh7WOUZZQKKSbrERERERERGpjEUIlDocDfr9f6xhl8/v9cDgcWscoi9/vh8fj0TpGWbxer26yElUikUjopoCpt9HJRERERPWIPSFU4nA4EAgEFD3nxMQEotEoJElCa2srHnnkEcXOrVRWWZYxPj6OiYkJpNNpAIDVakVXVxe8Xi8MBkPV11AqazabxejoKARBQDabBQA0NDSgu7sbW7duVeQaetkrT+WTZRk3x0bwmxf/CxM3riIrLWFDWwce/+Sz2H/wM7BYrFpHLHHz5k3cuHEDmUwGsizDbDajo6MD/f39sFgsVZ8/EolgeHhYkak1s7OzGB0dRSKRgCzLMBqNcLlc2LNnDxoaGqo+/8roZD1N2KFSsixjevw2Xn/pHG6N3UZOyqGlzYl9hwcw8FgfzJbae1uzlJHw1ivv4J3fXcFSWoKjpRG7H+lD4MldaGpu1DpeUaFQwPVLEzgbuoDZWyJMZhP69nbj8c/th6OlSet4RERURwyyLMtah6Dfb2pqCtFotPihHoDiRQglLC0tYXh4GLFY7L7HXS4X9u3bB5PJtM7JVovH47hw4ULJY/pBmzdvxuDg4DqnIjWdOnUKYjyPrp1PVHyOQqGA0yd+it/++gUUCoVVx/sHHsYXjv8NGuzVvWGfGR9GISXg6NGjFZ9DlmWEw2Hcvn37vsebmpqwf/9+2O32iq+hpKtXr2JiYgL3+5NktVoRCASwYcMGDZKREk6ePImZ5BQ29NoqPkehUMDQy8N4M3QBcmH186R7z1Z89k+fgs1e+TUAID4uQYoX0DZQfeErHkvgV//+KoT3Zlcd696zFU9/+TCsDZUXA5PTWSQms+h4qLpiRiFfwNmXwzh7IrzqsW3vbMOzX/s0nBuqWy2ZieUwPyLh2LFjihRAiYhIv2rvKwMqkU6nVxUgatXIyEixAOFyudDT0wOj0YhoNIq5uTnEYjFMTU0ptsqgGk6nEx0dHZicnERXVxc8Hg9SqRSuXbuGdDqN27dvIxaL8UMPlTAajRjYdwjvht+Ab9dePPrUMwCAt19/BadDP8Hou+dw/do72O1/TOOkgMFgQFdXF+bn5+F0OuH1egEAN27cwOzsLJLJJG7evIne3l6Nky7r7OzE7OwsTCYTent7YbVacfPmTUxNTUGSJIyPj/P1+BFnNBrRt7cbkXfGsb2/E4EndwEALr1xDWdfDmPsyk1MXLsFn3+HxkmX5XN5nHnpHIT3ZtHotOPwc4+h0+vGnVsxXDh9GZ/8o4NVFSCUNHVDwNuvXgQAPPmHj2DwYD9mp+bw0n+cxOzkHIZ/dxWPf26/IqsZiYiIWIRQSSKRQDQarbovhN1uh9vthtFohNvtRjgcRiqVUijlXeFwGD6fr6q+EP39/chkMsVvLVfs2rULb731FpaWlhCLxaouQoTDYXg8Hrjd7qrO09/fD6/XC7N5+WXQ3Nxc/P9WKBSQyWSqOj+wvFTd6XRWnZVqR3vHFvz53/4LTGZz8Q35w4//AS6eew13ZqawELujccK72tvbcejQoeJzHFjuUxKLxZDL5RR5jivF6XTi4MGDMBqNxcfVZrNBFEWkUiksLS1pnJBqgaujFV/65lGYzHefJ4OP92Pk/HXEbi8gPp/UOOFds1NzuH7xPZitZjzzlcPo8m0GADQ1N6LL54HRVBttuQr5Aq6+FUVOysH3se3wP7ETZosZW7rdCDy1G7/75duYuDaFzOEB2B3Vrw4hIiKqjb+AdUiSJExPTytyrr6+Pvh8Plit6u01FwQBkiRVdQ6bzYYDBw6sKryYTKbiFgwlPvQIgoB4PF71eQCUfDj7IIPBsOaxD0MURcWyUu0wWyxrfiPYYK+dPd7A2s/xBx3TgslkWvNxrYVtXFQbzJa1nyc2e+30ZBm7MomltIQurwfure0lx2qlAAEAWSkH8fYCAGBzT0dJXw3P9g6YzEbM31msqQIPERHpW229A60jLpcLR44c0TpG2ZTMeu+bw1QqVSxwNDZW/wFNjcc1m81iamoK7733HgCgpaUFLper6vMeOHCg6nNQ7SoUCojNzeCVX/4Id2amsLmrB95+ZRvSKkWWZczNzeHatWvI5XKwWq3YsmVL1eeNRCKIRqOKvy4XFxdx7do1pFIpmEwmdHV1VX1OURQxNDSkq9/NtLZCoYDFuQTOvPg2YrcXsKmzDdv6q39OKyGfy+POLREAYHc04PLZUbz5vxeQSS+ho2sjnnz2ALb0uGtie0M+l0cmtbzSyGgsLY7Y7FZYbBYspSWkE7WzcoqIiPSNRQhS3fT0NHK5HIxGIzZu3Kh1nFXOnj2L+fn54r/dbjd2797Nb17p9xp99zz+8zv/UPz3zsEDOPrFv0Bza5uGqe7vxo0bGB0dLf67qakJg4ODaGlpqfrcSm83mp6exqVLl4qNP61WK/bs2YNNmzZVfW6r1cqtUXVi7MpN/OK7J4r/7hnYik/+8eM1M8VBymSxKCYAANcuXMeVtyLFY8J7s/j5d0/gma98Aj17tO+RZLaa0dLmxNx0DDMTd1DIF1at1JAL8n2b8RIREVWidtYDUl26desWbt26BWB5dYESHyTUNjs7i8nJSa1jkM5ce/cc3j5zAvlcTusoD5RMJnH9+nXk8/mqz+V2uxUfR/xBkiTh+vXrijTnVWN0MtWGsSs3cfH1EeRz1T+nlVAoFCBlpPf/W8bDn/bjG//8ZfzJ338ebZ4NyEk5nP/tRSylte91YrVZ4B3cDgAYHR7D1XNR5HN5pOJpRN8Zx1K6uq2aRERE9+JKCJVIkgRRFHXzrZsgCHC5XIr2nYjFYhgZGUE+n4fVakVvb68iqwsEQYDD4aiqieYHrYw6TSaTuHjxIhYWFhCNRotNQashiiKsVqtiWal29O7eh3/6t18jn8vhnXOv4Zf//a84FfoJmpyteOTJp7WOV6K7uxvd3d3I5/MYHR3FxMQEbt++jStXrmBgYEDreCU8Hg88Hg9kWcb4+Dii0SgWFhZw6dKlmhnxS9rbsasL3/zOnyGfy2Pk/HW8+tPXcfZEGI0OO/yHdmkdr0Tf3m489tm9MJlNaN/swpPPHsD/fO9lzE3HEI8lqx4pqoTewHZEL47jxuUJnPjxazjx49dKjpvMxpJeEURERNXgSgiViKKIUCikdYyyhUIhiKKo2PnS6TQuX74MSZJgMpnQ39+v2Hi9UCiESCTy4Dt+SE1NTejr64PZbEY+ny+u4KjG0NCQKlmpdpjMZnzsoaewJ/A4CoUCLp77P2TStdnAbWX8pdPpBADMzc2pMm1HCQaDATt27EBb2/L2lsXFRSwsLGicimqNyWzCzv1e9Pp3QC7IGDl/vSa+uTcajbA2LBf1rQ0WmMx3i2dNzY2w2a1IJ5eQXKyN8ds2uw1PHz+Mx57eB0fLcu8mR0sjut/fLmKzW2Fv0r5YQkRE9YFlbZXosTGlEo0YgeUCxLlz55BMJosfJDZv3qzIuYHlrGqtLDB/YOxitdNCgOXGlGpONaHaYDKZYHn//3MyPo9sVkKDvTb2pt/LZDIVm8/l83nkqtw+IggCBEGoehzxWlYmeBQKharHdCo1Oplqi9FkhNm6/CE/nUgjl81pPiXD2mBBs8sB4b1Z5KT8ffssmC1mWGy18zbMarPg0SN78eiRvcXbLpy+jBuXJ9DscqKpubYm/xARkX5xJYRK9NYAze12K/JhOZ1O4/z588UCRE9PD7xerwIJ73K73YoUISYnJ1eNUc1kMiUN8arlcrm4FaPOJOMLuBx+veS2bFZCMr78LX2TsxUWS20UnuLxeElDSmB5EsxK4cFkMlU9pnN6ehrhcLiqc6zkunr16qo+FSuFB6PRCJutum9iE4mEIllJO6lEGqPDYyW35bI5pOPLkxvsDntNbBswmU3Y0rP8HmDqhlAy3lKcmUcmuYRGZ0NNfbCXMlkU8nebT6aTGUSGxwEAnT4PGrgSgoiIFKL9X2qqGysFiERiuSP4pk2bsGnTJiwuLhbvk81mi8urtbSwsIDR0VHIsoylpSVs3rwZ8XgckUgE+XweBoOhJid5kLby+Txee/lnOPfGK1iI3YH/4Y/DZDLh/JuvYvTKeQDADt+emlgFkc/ncfXqVcRiMWQyGfT09MBoNGJ0dBTJ5PIHIqfTWfXY3EAgoEizx5GREUxNTSGRSKCvrw8NDQ0YGxtDLBYDANjt9uI2kkq53W4cP3686qykjUK+gLdeeQeX37yGRCyJnQ95YTQZ8O7ZCMauLjcT7vR6NF8FsWL7zk40uxxYuBPH6y+dwxNHH0Y6kcHZE8uFsK2+zXC2av+7Algu7vzqh6+i178DvXuXt7a8GbqAyeg0Gpps2LnfWxPjRImIqD6wCEGKmZ6eLhYgAGBmZgYzMzMl92ltba2ZIkQul0OhUMDIyAhGRkZKjre3t2PLltqYN0+1I5NK4NbkdWTSSfz6Zz/Ar3/2g5LjO3oH8MhTz2iUrlQqlUI6nYYsyyVTalbY7Xb4fD6N0pWSJKn4u2Nubg5vvPFGyXGLxQKv1wuLxaJFPKoRmfQSbk/ewVJawqmfv4lTP3+z5Hinz4PAk7XTlHLDphbsOzyA0784i6tvR3H17WjxWHtnGx797N5VWzS0UCgUcOHUZUxdFzB1XSh5XA1GAx49shftW5TZrklERAQApm9961vf0jpEPRJFEadPn1b0TX4+n8fU1BSy2SwaGhrQ2dmp2LlDoRDa2tpgt9srPkcsFsPc3NzvvY8SuVcaflZTzGhpaUF7ezsymQwkSSpuwbDZbNi+fTt2795d3DdfjaGhIaTT6ZoovHzUjY+PIy3JaGnfVvE5rLYGDOw7BPfm7ZgXZ5FIzEOWZWxo68DBw0fxzBe+jiZHc9VZk/MC5GwC/f39FZ/DZrMVC2npdLq4zcFsNmPjxo0IBAJoaqqNb2FNJhM6OzthNpuRSqWKWY1GI1pbWzE4OMjXkM6NjY0hmY3D3lb5dx8WqwV9e7vRvtmFxVgCqUQasgy0tDmx9+N7cPi5x2Bvaqg6qzSfR16S0dhR3fc0BoMB7m3t6NjaDlGYRyqRgdlixuDBfnzmS4fgaKn+9ZdNFCAtFuDYUnmBzmAwoGNbO5qaGxGPJZFJLcFgMGDTljZ86otPYNdDyqyCyGUKyNzJY3BwkFNuiIg+4rgSQiVq9ISw2Ww4dOiQoudcoURPiJUxgGpzu91VL8sGgObmZuzbt0+BRGtzuVyKZKXaYbFYMbj/EAb3q/NaVJLFYkFfXx/6+vq0jvJAK01sd+zYoXUUqmFmixl9+3rQt69H6yhlMRgM6NmzFT3vT5moVbYGK/Y+tQd7n9qjdRQiIvoI0H4dYJ1yOByK7JNeL4FAQDcNFAOBgG6afvp8Pt1kJapEOBxGMBjUOkZZBEHQTVYiIiKiesWVEEREVDGfzwePx6N1jLLobXQyERERUT1iEYKIiCrmcDh0s4pKb6OTiYiIiOoRt2OoRJIkCIKgdYyyCYIASZK0jlEWQRBKpnDUMlEUdZOViIiIiIhIbSxCqEQUxeIUBz0IhUIQRVHrGGUJhUKIRCJaxyjL0NCQbrISERERERGpjdsxVOJ2u3H8+HGtY5SNWdXB/edU7yKRCKLRqC6e66IoYmhoSBdZiYiIiOoVV0IQERERERER0brgSggiIqqYz+eDz+fTOkZZOB2DiIiISHtcCUFERERERERE64JFCJUIgoBgMKh1jLIFg0HdTPMIBoMIh8NaxyhLKBTSTVYiIiIiIiK1sQihEofDAb/fr3WMsvn9fjgcDq1jlMXv98Pj8Wgdoyxer1c3WYkqkUgkdFPA1NvoZCIiIqJ6xCKEShwOBwKBgNYxyhYIBHRThAgEAnC73VrHKIvP59NNVqJKRCIR3Ywj1tvoZCIiIqJ6xMaUKhEEAaFQaNX0o25sAAABwUlEQVQ4yVAoBLfbXVKgCIfDGB4eXnXfYDCII0eOlHyIDYfDEAShpLnayrXuvW8tX8vv96+6bzXXWuvxroVrAdBVQapezc7OIplM4t0zL2gd5YHMtkYgL5Xctp6vh5X73u9aQOnoWY/Hg+Hh4VU/gxrX+rA/172/f1gQ1M7s7CyW0nkIb6a0jlI2ZlVHNpuFxWLROgYREWmIRQiVrLUdw+v1wul0lty21nL9+22R8Hg8q25buda9t9fyte49Vu211nq8a+FaVBu2bduGZDKJDRs2aB3lgSRJgiSVFiHW8/Wwct/7XetetXyt+9HTNrl6sn37dqTTabS2tmod5YEWFxchSRI2btyodZQHSiaTSCQS6Ojo0DrKAy0tLWF+fh6NjY1aRyEiIo0ZZFmWtQ5BRERERERERPWPPSGIiIiIiIiIaF2wCEFERERERERE64JFCCIiIiIiIiJaFyxCEBEREREREdG6YBGCiIiIiIiIiNYFixBEREREREREtC5YhCAiIiIiIiKidcEiBBERERERERGtCxYhiIiIiIiIiGhdsAhBREREREREROuCRQgiIiIiIiIiWhcsQhARERERERHRuvh/+PGg0GuBOoMAAAAASUVORK5CYII=)"
      ],
      "metadata": {
        "id": "zm472JLKBlth"
      }
    },
    {
      "cell_type": "markdown",
      "source": [
        "## Broadcasting Rules:\n",
        "\n",
        "1. Shape Comparison: NumPy compares the shapes of the arrays element by element, starting from the last dimension.\n",
        "\n",
        "2. Equal or 1: Two dimensions are compatible if they are equal or if one of them is 1.\n",
        "\n",
        "3. Extend with 1: If the arrays have different numbers of dimensions, NumPy prepends 1s to the shape of the smaller array until both shapes have the same length.\n",
        "\n",
        "4. Dimension Matching: For each dimension, if one of the arrays has size 1, it will be \"stretched\" to match the other array's size."
      ],
      "metadata": {
        "id": "4H36oxODDVyS"
      }
    },
    {
      "cell_type": "code",
      "source": [
        "# When the shape is same,\n",
        "arr1 = np.arange(12).reshape(3,4)\n",
        "arr2 = np.arange(12).reshape(3,4)\n",
        "\n",
        "res1 = arr1 + arr2 # This will add the consecutive elements of both the arrays.\n",
        "res1"
      ],
      "metadata": {
        "colab": {
          "base_uri": "https://localhost:8080/"
        },
        "id": "Y-uK73oK9cvR",
        "outputId": "9779eb9a-2da4-4f13-e043-dc2b535ccc9d"
      },
      "execution_count": null,
      "outputs": [
        {
          "output_type": "execute_result",
          "data": {
            "text/plain": [
              "array([[ 0,  2,  4,  6],\n",
              "       [ 8, 10, 12, 14],\n",
              "       [16, 18, 20, 22]])"
            ]
          },
          "metadata": {},
          "execution_count": 51
        }
      ]
    },
    {
      "cell_type": "code",
      "source": [
        "# If the shapes are different,\n",
        "arr1 = np.arange(12).reshape(4,3)\n",
        "arr2 = np.arange(3)\n",
        "\n",
        "res2 = arr1 + arr2 # Here Numpy is performing broadcasting between these arrays.\n",
        "res2"
      ],
      "metadata": {
        "colab": {
          "base_uri": "https://localhost:8080/"
        },
        "id": "xVq9Rg4ND--G",
        "outputId": "cc22f9f1-6e07-4993-c1c7-c1d907c1d123"
      },
      "execution_count": null,
      "outputs": [
        {
          "output_type": "execute_result",
          "data": {
            "text/plain": [
              "array([[ 0,  2,  4],\n",
              "       [ 3,  5,  7],\n",
              "       [ 6,  8, 10],\n",
              "       [ 9, 11, 13]])"
            ]
          },
          "metadata": {},
          "execution_count": 53
        }
      ]
    },
    {
      "cell_type": "markdown",
      "source": [
        "### Examples:"
      ],
      "metadata": {
        "id": "a1UnJMHXE5g2"
      }
    },
    {
      "cell_type": "code",
      "source": [
        "arr1 = np.arange(3).reshape(1,3)\n",
        "arr2 = np.arange(3).reshape(3,1)\n",
        "\n",
        "res = arr1 + arr2 # Here Numpy is performing broadcasting between these arrays.\n",
        "res1"
      ],
      "metadata": {
        "colab": {
          "base_uri": "https://localhost:8080/"
        },
        "id": "BJn7nx-CFKkU",
        "outputId": "1137bcaf-c8d9-4d84-b0f9-2cd841f05abb"
      },
      "execution_count": null,
      "outputs": [
        {
          "output_type": "execute_result",
          "data": {
            "text/plain": [
              "array([[0, 1, 2],\n",
              "       [1, 2, 3],\n",
              "       [2, 3, 4]])"
            ]
          },
          "metadata": {},
          "execution_count": 56
        }
      ]
    },
    {
      "cell_type": "code",
      "source": [
        "arr1 = np.arange(4).reshape(1,4)\n",
        "arr2 = np.arange(3).reshape(3,1)\n",
        "\n",
        "res = arr1 + arr2 # Here Numpy is performing broadcasting between these arrays.\n",
        "res1"
      ],
      "metadata": {
        "colab": {
          "base_uri": "https://localhost:8080/"
        },
        "id": "98B_ZZZhFZrf",
        "outputId": "604e8dff-aeb0-4acc-948f-fd70c8cea2a7"
      },
      "execution_count": null,
      "outputs": [
        {
          "output_type": "execute_result",
          "data": {
            "text/plain": [
              "array([[ 0,  2,  4,  6],\n",
              "       [ 8, 10, 12, 14],\n",
              "       [16, 18, 20, 22]])"
            ]
          },
          "metadata": {},
          "execution_count": 57
        }
      ]
    },
    {
      "cell_type": "code",
      "source": [
        "arr1 = np.array([1,2])\n",
        "arr2 = np.array([[2,3],[3,4],[5,6]])\n",
        "\n",
        "res = arr1 + arr2\n",
        "res"
      ],
      "metadata": {
        "colab": {
          "base_uri": "https://localhost:8080/"
        },
        "id": "3NIS1qsQFwM7",
        "outputId": "cd205857-92d1-43cf-84bb-b00603fba51c"
      },
      "execution_count": null,
      "outputs": [
        {
          "output_type": "execute_result",
          "data": {
            "text/plain": [
              "array([[3, 5],\n",
              "       [4, 6],\n",
              "       [6, 8]])"
            ]
          },
          "metadata": {},
          "execution_count": 60
        }
      ]
    },
    {
      "cell_type": "markdown",
      "source": [
        "# Example of failure of broadcasting in numpy:"
      ],
      "metadata": {
        "id": "MXAdA0pWGW8o"
      }
    },
    {
      "cell_type": "code",
      "source": [
        "arr1 = np.arange(3).reshape(4,3)\n",
        "arr2 = np.arange(3)\n",
        "\n",
        "res = arr1 + arr2 # Here Numpy is performing broadcasting between these arrays.\n",
        "res1"
      ],
      "metadata": {
        "colab": {
          "base_uri": "https://localhost:8080/",
          "height": 211
        },
        "id": "6RPpwL66GE_I",
        "outputId": "5f75ac9b-a6cd-456e-d85a-5657a86a2c07"
      },
      "execution_count": null,
      "outputs": [
        {
          "output_type": "error",
          "ename": "ValueError",
          "evalue": "cannot reshape array of size 3 into shape (4,3)",
          "traceback": [
            "\u001b[0;31m---------------------------------------------------------------------------\u001b[0m",
            "\u001b[0;31mValueError\u001b[0m                                Traceback (most recent call last)",
            "\u001b[0;32m<ipython-input-61-7bd868fa8590>\u001b[0m in \u001b[0;36m<cell line: 1>\u001b[0;34m()\u001b[0m\n\u001b[0;32m----> 1\u001b[0;31m \u001b[0marr1\u001b[0m \u001b[0;34m=\u001b[0m \u001b[0mnp\u001b[0m\u001b[0;34m.\u001b[0m\u001b[0marange\u001b[0m\u001b[0;34m(\u001b[0m\u001b[0;36m3\u001b[0m\u001b[0;34m)\u001b[0m\u001b[0;34m.\u001b[0m\u001b[0mreshape\u001b[0m\u001b[0;34m(\u001b[0m\u001b[0;36m4\u001b[0m\u001b[0;34m,\u001b[0m\u001b[0;36m3\u001b[0m\u001b[0;34m)\u001b[0m\u001b[0;34m\u001b[0m\u001b[0;34m\u001b[0m\u001b[0m\n\u001b[0m\u001b[1;32m      2\u001b[0m \u001b[0marr2\u001b[0m \u001b[0;34m=\u001b[0m \u001b[0mnp\u001b[0m\u001b[0;34m.\u001b[0m\u001b[0marange\u001b[0m\u001b[0;34m(\u001b[0m\u001b[0;36m3\u001b[0m\u001b[0;34m)\u001b[0m\u001b[0;34m\u001b[0m\u001b[0;34m\u001b[0m\u001b[0m\n\u001b[1;32m      3\u001b[0m \u001b[0;34m\u001b[0m\u001b[0m\n\u001b[1;32m      4\u001b[0m \u001b[0mres\u001b[0m \u001b[0;34m=\u001b[0m \u001b[0marr1\u001b[0m \u001b[0;34m+\u001b[0m \u001b[0marr2\u001b[0m \u001b[0;31m# Here Numpy is performing broadcasting between these arrays.\u001b[0m\u001b[0;34m\u001b[0m\u001b[0;34m\u001b[0m\u001b[0m\n\u001b[1;32m      5\u001b[0m \u001b[0mres1\u001b[0m\u001b[0;34m\u001b[0m\u001b[0;34m\u001b[0m\u001b[0m\n",
            "\u001b[0;31mValueError\u001b[0m: cannot reshape array of size 3 into shape (4,3)"
          ]
        }
      ]
    },
    {
      "cell_type": "code",
      "source": [
        "arr1 = np.arange(12).reshape(4,3)\n",
        "arr2 = np.arange(12).reshape(3,4)\n",
        "\n",
        "res = arr1 + arr2 # Here Numpy is performing broadcasting between these arrays.\n",
        "res1"
      ],
      "metadata": {
        "colab": {
          "base_uri": "https://localhost:8080/",
          "height": 193
        },
        "id": "CtrGA41BGior",
        "outputId": "a922116f-5aca-48a0-c5e7-6de55c683d48"
      },
      "execution_count": null,
      "outputs": [
        {
          "output_type": "error",
          "ename": "ValueError",
          "evalue": "operands could not be broadcast together with shapes (4,3) (3,4) ",
          "traceback": [
            "\u001b[0;31m---------------------------------------------------------------------------\u001b[0m",
            "\u001b[0;31mValueError\u001b[0m                                Traceback (most recent call last)",
            "\u001b[0;32m<ipython-input-62-9a7c762b78ca>\u001b[0m in \u001b[0;36m<cell line: 4>\u001b[0;34m()\u001b[0m\n\u001b[1;32m      2\u001b[0m \u001b[0marr2\u001b[0m \u001b[0;34m=\u001b[0m \u001b[0mnp\u001b[0m\u001b[0;34m.\u001b[0m\u001b[0marange\u001b[0m\u001b[0;34m(\u001b[0m\u001b[0;36m12\u001b[0m\u001b[0;34m)\u001b[0m\u001b[0;34m.\u001b[0m\u001b[0mreshape\u001b[0m\u001b[0;34m(\u001b[0m\u001b[0;36m3\u001b[0m\u001b[0;34m,\u001b[0m\u001b[0;36m4\u001b[0m\u001b[0;34m)\u001b[0m\u001b[0;34m\u001b[0m\u001b[0;34m\u001b[0m\u001b[0m\n\u001b[1;32m      3\u001b[0m \u001b[0;34m\u001b[0m\u001b[0m\n\u001b[0;32m----> 4\u001b[0;31m \u001b[0mres\u001b[0m \u001b[0;34m=\u001b[0m \u001b[0marr1\u001b[0m \u001b[0;34m+\u001b[0m \u001b[0marr2\u001b[0m \u001b[0;31m# Here Numpy is performing broadcasting between these arrays.\u001b[0m\u001b[0;34m\u001b[0m\u001b[0;34m\u001b[0m\u001b[0m\n\u001b[0m\u001b[1;32m      5\u001b[0m \u001b[0mres1\u001b[0m\u001b[0;34m\u001b[0m\u001b[0;34m\u001b[0m\u001b[0m\n",
            "\u001b[0;31mValueError\u001b[0m: operands could not be broadcast together with shapes (4,3) (3,4) "
          ]
        }
      ]
    },
    {
      "cell_type": "code",
      "source": [
        "arr1 = np.arange(3).reshape(1,3)\n",
        "arr2 = np.arange(4).reshape(2,2)\n",
        "\n",
        "res = arr1 + arr2 # Here Numpy is performing broadcasting between these arrays.\n",
        "res1"
      ],
      "metadata": {
        "colab": {
          "base_uri": "https://localhost:8080/",
          "height": 193
        },
        "id": "9ivcyj9IGnmW",
        "outputId": "fe087cdf-c15c-4be8-b328-8118b47aba3a"
      },
      "execution_count": null,
      "outputs": [
        {
          "output_type": "error",
          "ename": "ValueError",
          "evalue": "operands could not be broadcast together with shapes (1,3) (2,2) ",
          "traceback": [
            "\u001b[0;31m---------------------------------------------------------------------------\u001b[0m",
            "\u001b[0;31mValueError\u001b[0m                                Traceback (most recent call last)",
            "\u001b[0;32m<ipython-input-63-d8267bf8c5e8>\u001b[0m in \u001b[0;36m<cell line: 4>\u001b[0;34m()\u001b[0m\n\u001b[1;32m      2\u001b[0m \u001b[0marr2\u001b[0m \u001b[0;34m=\u001b[0m \u001b[0mnp\u001b[0m\u001b[0;34m.\u001b[0m\u001b[0marange\u001b[0m\u001b[0;34m(\u001b[0m\u001b[0;36m4\u001b[0m\u001b[0;34m)\u001b[0m\u001b[0;34m.\u001b[0m\u001b[0mreshape\u001b[0m\u001b[0;34m(\u001b[0m\u001b[0;36m2\u001b[0m\u001b[0;34m,\u001b[0m\u001b[0;36m2\u001b[0m\u001b[0;34m)\u001b[0m\u001b[0;34m\u001b[0m\u001b[0;34m\u001b[0m\u001b[0m\n\u001b[1;32m      3\u001b[0m \u001b[0;34m\u001b[0m\u001b[0m\n\u001b[0;32m----> 4\u001b[0;31m \u001b[0mres\u001b[0m \u001b[0;34m=\u001b[0m \u001b[0marr1\u001b[0m \u001b[0;34m+\u001b[0m \u001b[0marr2\u001b[0m \u001b[0;31m# Here Numpy is performing broadcasting between these arrays.\u001b[0m\u001b[0;34m\u001b[0m\u001b[0;34m\u001b[0m\u001b[0m\n\u001b[0m\u001b[1;32m      5\u001b[0m \u001b[0mres1\u001b[0m\u001b[0;34m\u001b[0m\u001b[0;34m\u001b[0m\u001b[0m\n",
            "\u001b[0;31mValueError\u001b[0m: operands could not be broadcast together with shapes (1,3) (2,2) "
          ]
        }
      ]
    },
    {
      "cell_type": "markdown",
      "source": [
        "# Missing Values in Numpy,"
      ],
      "metadata": {
        "id": "PtyLntNSLiYB"
      }
    },
    {
      "cell_type": "code",
      "source": [
        "arr = np.array([11, 12, 13, 14, 15, 16, np.nan, 17, 18, 19, 20, 21, np.nan])\n",
        "arr"
      ],
      "metadata": {
        "colab": {
          "base_uri": "https://localhost:8080/"
        },
        "id": "1LliDLujGtDI",
        "outputId": "657c54c8-a9c1-4cba-e241-d6d36cd11573"
      },
      "execution_count": null,
      "outputs": [
        {
          "output_type": "execute_result",
          "data": {
            "text/plain": [
              "array([11., 12., 13., 14., 15., 16., nan, 17., 18., 19., 20., 21., nan])"
            ]
          },
          "metadata": {},
          "execution_count": 65
        }
      ]
    },
    {
      "cell_type": "code",
      "source": [
        "#  isnan()\n",
        "~np.isnan(arr) # this will return boolean array in which non-nan value will indicated as True."
      ],
      "metadata": {
        "colab": {
          "base_uri": "https://localhost:8080/"
        },
        "id": "Ps_eMEmoL1bd",
        "outputId": "9b77587f-eb29-4a7d-816c-21dc029cfcc7"
      },
      "execution_count": null,
      "outputs": [
        {
          "output_type": "execute_result",
          "data": {
            "text/plain": [
              "array([ True,  True,  True,  True,  True,  True, False,  True,  True,\n",
              "        True,  True,  True, False])"
            ]
          },
          "metadata": {},
          "execution_count": 67
        }
      ]
    },
    {
      "cell_type": "code",
      "source": [
        "arr[~np.isnan(arr)] # This will remove all nan values for the given array."
      ],
      "metadata": {
        "colab": {
          "base_uri": "https://localhost:8080/"
        },
        "id": "mLAhUibLL_XP",
        "outputId": "2c4ee7ca-2f7d-4947-b841-3e220e36ca6f"
      },
      "execution_count": null,
      "outputs": [
        {
          "output_type": "execute_result",
          "data": {
            "text/plain": [
              "array([11., 12., 13., 14., 15., 16., 17., 18., 19., 20., 21.])"
            ]
          },
          "metadata": {},
          "execution_count": 69
        }
      ]
    },
    {
      "cell_type": "markdown",
      "source": [
        "# Plotting the graphs of Numpy array."
      ],
      "metadata": {
        "id": "G_wbap2-N1J9"
      }
    },
    {
      "cell_type": "code",
      "source": [
        "import matplotlib.pyplot as plt"
      ],
      "metadata": {
        "id": "RSgeColKN5kQ"
      },
      "execution_count": null,
      "outputs": []
    },
    {
      "cell_type": "code",
      "source": [
        "x = np.arange(30)\n",
        "y = x  # Linear Equation\n",
        "\n",
        "plt.plot(x,y)\n",
        "plt.xlabel('X')\n",
        "plt.ylabel('Y')\n",
        "plt.grid()\n",
        "plt.show()"
      ],
      "metadata": {
        "colab": {
          "base_uri": "https://localhost:8080/",
          "height": 450
        },
        "id": "Fxcd2dM_MUEP",
        "outputId": "5af87b27-1214-4dab-9464-29fddcbde9ff"
      },
      "execution_count": null,
      "outputs": [
        {
          "output_type": "display_data",
          "data": {
            "text/plain": [
              "<Figure size 640x480 with 1 Axes>"
            ],
            "image/png": "[encoded data removed]"
          },
          "metadata": {}
        }
      ]
    },
    {
      "cell_type": "code",
      "source": [
        "x = np.linspace(-10,10,50)\n",
        "y = x**2  # Polynomial Equation\n",
        "\n",
        "plt.plot(x,y)\n",
        "plt.xlabel('X')\n",
        "plt.ylabel('Y')\n",
        "plt.grid()\n",
        "plt.show()"
      ],
      "metadata": {
        "colab": {
          "base_uri": "https://localhost:8080/",
          "height": 449
        },
        "id": "idrqH4iyOJQ_",
        "outputId": "bcd3da57-2af3-4765-b294-b729267861ec"
      },
      "execution_count": null,
      "outputs": [
        {
          "output_type": "display_data",
          "data": {
            "text/plain": [
              "<Figure size 640x480 with 1 Axes>"
            ],
            "image/png": "[encoded data removed]"
          },
          "metadata": {}
        }
      ]
    },
    {
      "cell_type": "code",
      "source": [
        "x = np.linspace(-10,10,500)\n",
        "y = np.sin(x)\n",
        "\n",
        "plt.plot(x,y)\n",
        "plt.xlabel('X')\n",
        "plt.ylabel('Y')\n",
        "plt.show()"
      ],
      "metadata": {
        "colab": {
          "base_uri": "https://localhost:8080/",
          "height": 449
        },
        "id": "l_xLQZOzOt7q",
        "outputId": "9f70de02-e984-4706-8768-122511e82fc8"
      },
      "execution_count": null,
      "outputs": [
        {
          "output_type": "display_data",
          "data": {
            "text/plain": [
              "<Figure size 640x480 with 1 Axes>"
            ],
            "image/png": "[encoded data removed]"
          },
          "metadata": {}
        }
      ]
    },
    {
      "cell_type": "code",
      "source": [],
      "metadata": {
        "id": "bmK_syHXPFmB"
      },
      "execution_count": null,
      "outputs": []
    }
  ]
}