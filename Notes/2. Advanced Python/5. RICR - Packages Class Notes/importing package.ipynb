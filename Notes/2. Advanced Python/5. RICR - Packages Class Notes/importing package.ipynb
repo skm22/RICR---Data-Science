{
 "cells": [
  {
   "cell_type": "markdown",
   "metadata": {},
   "source": [
    "# Packages in python"
   ]
  },
  {
   "cell_type": "markdown",
   "metadata": {},
   "source": [
    "#### Importing modules from package"
   ]
  },
  {
   "cell_type": "code",
   "execution_count": 1,
   "metadata": {},
   "outputs": [
    {
     "name": "stdout",
     "output_type": "stream",
     "text": [
      "15\n",
      "(2.0, 1.0)\n"
     ]
    }
   ],
   "source": [
    "import math_operations.arithmetic # here math_operations is a package and arithmetic is a module\n",
    "import math_operations.algebra # here math_operations is a package and algebra is a module\n",
    "\n",
    "result = math_operations.arithmetic.add(10, 5) # from math_operation.from arithmetic module using add() function\n",
    "solutions = math_operations.algebra.solve_quadratic(1, -3, 2)\n",
    "\n",
    "print(result)         # Output: 15\n",
    "print(solutions)      # Output: (2.0, 1.0)"
   ]
  },
  {
   "cell_type": "markdown",
   "metadata": {},
   "source": [
    "#### Importing Function from a package"
   ]
  },
  {
   "cell_type": "code",
   "execution_count": 2,
   "metadata": {},
   "outputs": [
    {
     "name": "stdout",
     "output_type": "stream",
     "text": [
      "8\n",
      "(2.0, 1.0)\n"
     ]
    }
   ],
   "source": [
    "from math_operations.arithmetic import add  \n",
    "from math_operations.algebra import solve_quadratic\n",
    "\n",
    "print(add(5, 3))                   # Output: 8\n",
    "print(solve_quadratic(1, -3, 2))   # Output: (2.0, 1.0)"
   ]
  },
  {
   "cell_type": "markdown",
   "metadata": {},
   "source": [
    "#### Directly import function\n",
    "-> This can only be done if __init__.py file have this imported function init."
   ]
  },
  {
   "cell_type": "code",
   "execution_count": 3,
   "metadata": {},
   "outputs": [
    {
     "name": "stdout",
     "output_type": "stream",
     "text": [
      "8\n",
      "(2.0, 1.0)\n"
     ]
    }
   ],
   "source": [
    "from math_operations import add, solve_quadratic\n",
    "\n",
    "print(add(6, 2))                  # Output: 8\n",
    "print(solve_quadratic(1, -3, 2))  # Output: (2.0, 1.0)"
   ]
  }
 ],
 "metadata": {
  "kernelspec": {
   "display_name": "Python 3",
   "language": "python",
   "name": "python3"
  },
  "language_info": {
   "codemirror_mode": {
    "name": "ipython",
    "version": 3
   },
   "file_extension": ".py",
   "mimetype": "text/x-python",
   "name": "python",
   "nbconvert_exporter": "python",
   "pygments_lexer": "ipython3",
   "version": "3.12.3"
  }
 },
 "nbformat": 4,
 "nbformat_minor": 2
}
