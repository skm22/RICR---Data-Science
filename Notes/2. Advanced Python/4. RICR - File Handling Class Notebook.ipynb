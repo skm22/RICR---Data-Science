{
 "cells": [
  {
   "cell_type": "markdown",
   "id": "11d87fa3",
   "metadata": {},
   "source": [
    "# File Handling in Python"
   ]
  },
  {
   "cell_type": "markdown",
   "id": "80213a5c",
   "metadata": {},
   "source": [
    "\n",
    "File handling is an essential feature in Python, enabling users to create, read, write, and manipulate files. Python supports two main types of files:\n",
    "1. **Text Files**: Files that store information in plain text format, such as `.txt`, `.log`, and `.csv`.\n",
    "2. **Binary Files**: Files that contain binary data, such as images (`.png`, `.jpeg`), videos (`.mp4`), or executables.\n"
   ]
  },
  {
   "cell_type": "markdown",
   "id": "2c6f6dd2",
   "metadata": {},
   "source": [
    "\n",
    "## File Operations in Python\n",
    "To work with files, we must first open them using the `open()` function, specifying the file name and the mode of operation. After performing the required operations, it is crucial to close the file to release system resources.\n",
    "\n",
    "\n",
    "\n",
    "\n"
   ]
  },
  {
   "cell_type": "markdown",
   "id": "07164e07",
   "metadata": {},
   "source": [
    "\n",
    "file_object = open(\"file_name\", \"mode\")\n"
   ]
  },
  {
   "cell_type": "markdown",
   "id": "f8ba06f2",
   "metadata": {},
   "source": [
    "- `file_name`: Name of the file to be opened.\n",
    "- `mode`: Mode of operation (e.g., read, write, append).\n",
    "\n",
    "### File Modes:\n",
    "| Mode  | Description                                 |\n",
    "|-------|---------------------------------------------|\n",
    "| `'r'` | Opens the file for reading (default).       |\n",
    "| `'w'` | Opens the file for writing (overwrites).    |\n",
    "| `'x'` | Creates a new file for writing.            |\n",
    "| `'a'` | Opens the file for appending.              |\n",
    "| `'t'` | Text mode (default).                       |\n",
    "| `'+'` | Opens for both reading and writing.        |"
   ]
  },
  {
   "cell_type": "markdown",
   "id": "21a361ab",
   "metadata": {},
   "source": [
    "\n",
    "## Reading Data from a File\n",
    "Python provides multiple methods for reading file content:\n",
    "- **`read()`**: Reads the entire content of the file as a single string.\n",
    "- **`readline()`**: Reads a single line from the file.\n",
    "- **`readlines()`**: Reads all lines from the file as a list of strings.\n",
    "\n",
    "\n"
   ]
  },
  {
   "cell_type": "code",
   "execution_count": 4,
   "id": "e09abc78",
   "metadata": {},
   "outputs": [
    {
     "name": "stdout",
     "output_type": "stream",
     "text": [
      "hello everyone how are you\n",
      "let's start learning\n",
      "\n",
      "advance python\n"
     ]
    }
   ],
   "source": [
    "\n",
    "\n",
    "# Reading the entire content of a file\n",
    "f=open(\"example.txt\", \"r\") \n",
    "content = f.read()\n",
    "print(content)\n",
    "f.close()\n",
    "\n"
   ]
  },
  {
   "cell_type": "code",
   "execution_count": 9,
   "id": "9e3ce4da",
   "metadata": {},
   "outputs": [
    {
     "name": "stdout",
     "output_type": "stream",
     "text": [
      "hello everyone how are you\n",
      " let's start learning\n",
      " \n",
      " advance python "
     ]
    }
   ],
   "source": [
    "f=open(\"example.txt\", \"r\") \n",
    "content = f.readlines()\n",
    "for i in content:\n",
    "    print(i,end=\" \")\n",
    "f.close()"
   ]
  },
  {
   "cell_type": "markdown",
   "id": "29a5ce81",
   "metadata": {},
   "source": [
    "\n",
    "## Writing Data to a File\n",
    "You can use the `write()` method to add content to a file. Depending on the mode:\n",
    "- `'w'`: Overwrites existing content.\n",
    "- `'a'`: Appends new content to the existing file.\n",
    "\n",
    "\n"
   ]
  },
  {
   "cell_type": "code",
   "execution_count": null,
   "id": "0a03a424",
   "metadata": {},
   "outputs": [],
   "source": [
    "# Writing to a file (overwriting)\n",
    "file=open(\"output.txt\", \"w\") \n",
    "file.write(\"Hello, this is a new file!\")\n",
    "\n",
    "\n"
   ]
  },
  {
   "cell_type": "code",
   "execution_count": 15,
   "id": "26f1e41e",
   "metadata": {},
   "outputs": [
    {
     "data": {
      "text/plain": [
       "23"
      ]
     },
     "execution_count": 15,
     "metadata": {},
     "output_type": "execute_result"
    }
   ],
   "source": [
    "# Appending data to a file\n",
    "file=open(\"output.txt\", \"a\") \n",
    "file.write(\"\\nThis line is appended.\")\n"
   ]
  },
  {
   "cell_type": "markdown",
   "id": "768f8152",
   "metadata": {},
   "source": [
    "\n",
    "## Using the `with` Statement\n",
    "The `with` statement simplifies file handling by automatically closing the file after the block of code is executed.\n",
    "\n",
    "\n"
   ]
  },
  {
   "cell_type": "code",
   "execution_count": 16,
   "id": "faebf89b",
   "metadata": {},
   "outputs": [
    {
     "name": "stdout",
     "output_type": "stream",
     "text": [
      "Hello, this is a new file!\n",
      "This line is appended.\n"
     ]
    }
   ],
   "source": [
    "with open(\"output.txt\", \"r\") as file:\n",
    "    content = file.read()\n",
    "    print(content)"
   ]
  },
  {
   "cell_type": "markdown",
   "id": "3a16863a",
   "metadata": {},
   "source": [
    "## File Modes: `r+`, `w+`, `a+`\n",
    "\n",
    "### 1. **`r+` Mode: Open for Reading and Writing**\n",
    "The `'r+'` mode opens the file for both reading and writing. If the file does not exist, it raises a `FileNotFoundError`.\n",
    "\n",
    "- **Operation**: It does not truncate the file, so the content remains intact unless overwritten.\n",
    "- **Use Case**: When you need to both read from and write to an existing file without deleting its content.\n",
    "\n"
   ]
  },
  {
   "cell_type": "code",
   "execution_count": 20,
   "id": "dea1295a",
   "metadata": {},
   "outputs": [
    {
     "ename": "FileNotFoundError",
     "evalue": "[Errno 2] No such file or directory: 'sample.txt'",
     "output_type": "error",
     "traceback": [
      "\u001b[0;31m---------------------------------------------------------------------------\u001b[0m",
      "\u001b[0;31mFileNotFoundError\u001b[0m                         Traceback (most recent call last)",
      "Cell \u001b[0;32mIn[20], line 2\u001b[0m\n\u001b[1;32m      1\u001b[0m \u001b[38;5;66;03m# Open the file in 'r+' mode (reading and writing)\u001b[39;00m\n\u001b[0;32m----> 2\u001b[0m \u001b[38;5;28;01mwith\u001b[39;00m \u001b[38;5;28;43mopen\u001b[39;49m\u001b[43m(\u001b[49m\u001b[38;5;124;43m'\u001b[39;49m\u001b[38;5;124;43msample.txt\u001b[39;49m\u001b[38;5;124;43m'\u001b[39;49m\u001b[43m,\u001b[49m\u001b[43m \u001b[49m\u001b[38;5;124;43m'\u001b[39;49m\u001b[38;5;124;43mr+\u001b[39;49m\u001b[38;5;124;43m'\u001b[39;49m\u001b[43m)\u001b[49m \u001b[38;5;28;01mas\u001b[39;00m file:\n\u001b[1;32m      3\u001b[0m     content \u001b[38;5;241m=\u001b[39m file\u001b[38;5;241m.\u001b[39mread()  \u001b[38;5;66;03m# Read the entire file\u001b[39;00m\n\u001b[1;32m      4\u001b[0m     \u001b[38;5;28mprint\u001b[39m(\u001b[38;5;124m\"\u001b[39m\u001b[38;5;124mOriginal content:\u001b[39m\u001b[38;5;124m\"\u001b[39m, content)\n",
      "File \u001b[0;32m~/Library/Python/3.12/lib/python/site-packages/IPython/core/interactiveshell.py:324\u001b[0m, in \u001b[0;36m_modified_open\u001b[0;34m(file, *args, **kwargs)\u001b[0m\n\u001b[1;32m    317\u001b[0m \u001b[38;5;28;01mif\u001b[39;00m file \u001b[38;5;129;01min\u001b[39;00m {\u001b[38;5;241m0\u001b[39m, \u001b[38;5;241m1\u001b[39m, \u001b[38;5;241m2\u001b[39m}:\n\u001b[1;32m    318\u001b[0m     \u001b[38;5;28;01mraise\u001b[39;00m \u001b[38;5;167;01mValueError\u001b[39;00m(\n\u001b[1;32m    319\u001b[0m         \u001b[38;5;124mf\u001b[39m\u001b[38;5;124m\"\u001b[39m\u001b[38;5;124mIPython won\u001b[39m\u001b[38;5;124m'\u001b[39m\u001b[38;5;124mt let you open fd=\u001b[39m\u001b[38;5;132;01m{\u001b[39;00mfile\u001b[38;5;132;01m}\u001b[39;00m\u001b[38;5;124m by default \u001b[39m\u001b[38;5;124m\"\u001b[39m\n\u001b[1;32m    320\u001b[0m         \u001b[38;5;124m\"\u001b[39m\u001b[38;5;124mas it is likely to crash IPython. If you know what you are doing, \u001b[39m\u001b[38;5;124m\"\u001b[39m\n\u001b[1;32m    321\u001b[0m         \u001b[38;5;124m\"\u001b[39m\u001b[38;5;124myou can use builtins\u001b[39m\u001b[38;5;124m'\u001b[39m\u001b[38;5;124m open.\u001b[39m\u001b[38;5;124m\"\u001b[39m\n\u001b[1;32m    322\u001b[0m     )\n\u001b[0;32m--> 324\u001b[0m \u001b[38;5;28;01mreturn\u001b[39;00m \u001b[43mio_open\u001b[49m\u001b[43m(\u001b[49m\u001b[43mfile\u001b[49m\u001b[43m,\u001b[49m\u001b[43m \u001b[49m\u001b[38;5;241;43m*\u001b[39;49m\u001b[43margs\u001b[49m\u001b[43m,\u001b[49m\u001b[43m \u001b[49m\u001b[38;5;241;43m*\u001b[39;49m\u001b[38;5;241;43m*\u001b[39;49m\u001b[43mkwargs\u001b[49m\u001b[43m)\u001b[49m\n",
      "\u001b[0;31mFileNotFoundError\u001b[0m: [Errno 2] No such file or directory: 'sample.txt'"
     ]
    }
   ],
   "source": [
    "# Open the file in 'r+' mode (reading and writing)\n",
    "with open('sample.txt', 'r+') as file:\n",
    "    content = file.read()  # Read the entire file\n",
    "    print(\"Original content:\", content)\n",
    "\n",
    "    # Move the cursor to the beginning of the file\n",
    "    file.seek(0)\n",
    "    file.write(\"Updated content.\")  # Overwrite the content\n"
   ]
  },
  {
   "cell_type": "markdown",
   "id": "e98de91c",
   "metadata": {},
   "source": [
    "### `w+` Mode: Open for Reading and Writing (Truncating the File)\n",
    "\n",
    "The `'w+'` mode opens the file for both reading and writing. If the file does not exist, it creates a new one. If the file exists, it truncates the file to zero length before writing.\n",
    "\n",
    "- **Operation**: It truncates the file to zero length, so any existing content will be lost.\n",
    "- **Use Case**: When you want to rewrite the file entirely, both reading and writing.\n",
    "\n"
   ]
  },
  {
   "cell_type": "code",
   "execution_count": 21,
   "id": "01e1a4c7",
   "metadata": {},
   "outputs": [
    {
     "name": "stdout",
     "output_type": "stream",
     "text": [
      "New content: This will be the new content.\n"
     ]
    }
   ],
   "source": [
    "# Open the file in 'w+' mode (reading and writing, with truncation)\n",
    "with open('sample.txt', 'w+') as file:\n",
    "    file.write(\"This will be the new content.\")  # Write new content\n",
    "    file.seek(0)  # Move the cursor to the beginning\n",
    "    content = file.read()  # Read the file\n",
    "    print(\"New content:\", content)"
   ]
  },
  {
   "cell_type": "markdown",
   "id": "cef75bd4",
   "metadata": {},
   "source": [
    "### `a+` Mode: Open for Reading and Appending\n",
    "\n",
    "The `'a+'` mode opens the file for both reading and appending. If the file does not exist, it creates a new one. The pointer is placed at the end of the file, so any write operations will append to the existing content.\n",
    "\n",
    "- **Operation**: It does not truncate the file, and writing is done at the end of the file. Reading can happen from any part of the file.\n",
    "- **Use Case**: When you want to add new data to an existing file while keeping the old content.\n",
    "\n"
   ]
  },
  {
   "cell_type": "code",
   "execution_count": 22,
   "id": "bffe884a",
   "metadata": {},
   "outputs": [
    {
     "name": "stdout",
     "output_type": "stream",
     "text": [
      "Updated content: This will be the new content.\n",
      "Appended content.\n"
     ]
    }
   ],
   "source": [
    "with open('sample.txt', 'a+') as file:\n",
    "    file.write(\"\\nAppended content.\")  # Add new content at the end\n",
    "    file.seek(0)  # Move the cursor to the beginning of the file\n",
    "    content = file.read()  # Read the entire content\n",
    "    print(\"Updated content:\", content)\n"
   ]
  },
  {
   "cell_type": "markdown",
   "id": "bc0f8e67",
   "metadata": {},
   "source": [
    "### `x` Mode: Open for Exclusive Creation\n",
    "\n",
    "The `'x'` mode opens the file for exclusive creation. If the file already exists, it raises a `FileExistsError`. If the file does not exist, it creates a new empty file.\n",
    "\n",
    "- **Operation**: It allows you to create a new file and ensures that the file does not already exist. If the file exists, it will raise an error.\n",
    "- **Use Case**: When you want to create a new file and avoid overwriting an existing one.\n",
    "\n",
    "\n"
   ]
  },
  {
   "cell_type": "code",
   "execution_count": 2,
   "id": "f92300d1",
   "metadata": {},
   "outputs": [
    {
     "ename": "FileExistsError",
     "evalue": "[Errno 17] File exists: 'newfile.txt'",
     "output_type": "error",
     "traceback": [
      "\u001b[0;31m---------------------------------------------------------------------------\u001b[0m",
      "\u001b[0;31mFileExistsError\u001b[0m                           Traceback (most recent call last)",
      "Cell \u001b[0;32mIn[2], line 1\u001b[0m\n\u001b[0;32m----> 1\u001b[0m \u001b[38;5;28;01mwith\u001b[39;00m \u001b[38;5;28;43mopen\u001b[39;49m\u001b[43m(\u001b[49m\u001b[38;5;124;43m'\u001b[39;49m\u001b[38;5;124;43mnewfile.txt\u001b[39;49m\u001b[38;5;124;43m'\u001b[39;49m\u001b[43m,\u001b[49m\u001b[43m \u001b[49m\u001b[38;5;124;43m'\u001b[39;49m\u001b[38;5;124;43mx\u001b[39;49m\u001b[38;5;124;43m'\u001b[39;49m\u001b[43m)\u001b[49m \u001b[38;5;28;01mas\u001b[39;00m file:\n\u001b[1;32m      2\u001b[0m     file\u001b[38;5;241m.\u001b[39mwrite(\u001b[38;5;124m\"\u001b[39m\u001b[38;5;124mThis is a new file created using \u001b[39m\u001b[38;5;124m'\u001b[39m\u001b[38;5;124mx\u001b[39m\u001b[38;5;124m'\u001b[39m\u001b[38;5;124m mode.\u001b[39m\u001b[38;5;124m\"\u001b[39m)\n\u001b[1;32m      3\u001b[0m     \u001b[38;5;28mprint\u001b[39m(\u001b[38;5;124m\"\u001b[39m\u001b[38;5;124mFile created successfully!\u001b[39m\u001b[38;5;124m\"\u001b[39m)\n",
      "File \u001b[0;32m~/Library/Python/3.12/lib/python/site-packages/IPython/core/interactiveshell.py:324\u001b[0m, in \u001b[0;36m_modified_open\u001b[0;34m(file, *args, **kwargs)\u001b[0m\n\u001b[1;32m    317\u001b[0m \u001b[38;5;28;01mif\u001b[39;00m file \u001b[38;5;129;01min\u001b[39;00m {\u001b[38;5;241m0\u001b[39m, \u001b[38;5;241m1\u001b[39m, \u001b[38;5;241m2\u001b[39m}:\n\u001b[1;32m    318\u001b[0m     \u001b[38;5;28;01mraise\u001b[39;00m \u001b[38;5;167;01mValueError\u001b[39;00m(\n\u001b[1;32m    319\u001b[0m         \u001b[38;5;124mf\u001b[39m\u001b[38;5;124m\"\u001b[39m\u001b[38;5;124mIPython won\u001b[39m\u001b[38;5;124m'\u001b[39m\u001b[38;5;124mt let you open fd=\u001b[39m\u001b[38;5;132;01m{\u001b[39;00mfile\u001b[38;5;132;01m}\u001b[39;00m\u001b[38;5;124m by default \u001b[39m\u001b[38;5;124m\"\u001b[39m\n\u001b[1;32m    320\u001b[0m         \u001b[38;5;124m\"\u001b[39m\u001b[38;5;124mas it is likely to crash IPython. If you know what you are doing, \u001b[39m\u001b[38;5;124m\"\u001b[39m\n\u001b[1;32m    321\u001b[0m         \u001b[38;5;124m\"\u001b[39m\u001b[38;5;124myou can use builtins\u001b[39m\u001b[38;5;124m'\u001b[39m\u001b[38;5;124m open.\u001b[39m\u001b[38;5;124m\"\u001b[39m\n\u001b[1;32m    322\u001b[0m     )\n\u001b[0;32m--> 324\u001b[0m \u001b[38;5;28;01mreturn\u001b[39;00m \u001b[43mio_open\u001b[49m\u001b[43m(\u001b[49m\u001b[43mfile\u001b[49m\u001b[43m,\u001b[49m\u001b[43m \u001b[49m\u001b[38;5;241;43m*\u001b[39;49m\u001b[43margs\u001b[49m\u001b[43m,\u001b[49m\u001b[43m \u001b[49m\u001b[38;5;241;43m*\u001b[39;49m\u001b[38;5;241;43m*\u001b[39;49m\u001b[43mkwargs\u001b[49m\u001b[43m)\u001b[49m\n",
      "\u001b[0;31mFileExistsError\u001b[0m: [Errno 17] File exists: 'newfile.txt'"
     ]
    }
   ],
   "source": [
    "with open('newfile.txt', 'x') as file:\n",
    "    file.write(\"This is a new file created using 'x' mode.\")\n",
    "    print(\"File created successfully!\")\n",
    "\n",
    "   "
   ]
  },
  {
   "cell_type": "markdown",
   "id": "dc8f623e",
   "metadata": {},
   "source": [
    "\n",
    "## Deleting a File\n",
    "Files can be deleted using the `os` module. Ensure you import the module before using its functions.\n",
    "\n",
    "\n"
   ]
  },
  {
   "cell_type": "code",
   "execution_count": null,
   "id": "9cf009e1",
   "metadata": {},
   "outputs": [],
   "source": [
    "import os"
   ]
  },
  {
   "cell_type": "code",
   "execution_count": 19,
   "id": "d5801213",
   "metadata": {},
   "outputs": [],
   "source": [
    "os.remove('doubt.ipynb')"
   ]
  },
  {
   "cell_type": "code",
   "execution_count": 18,
   "id": "8464504c",
   "metadata": {},
   "outputs": [
    {
     "name": "stdout",
     "output_type": "stream",
     "text": [
      "File does not exist!\n"
     ]
    }
   ],
   "source": [
    "\n",
    "\n",
    "# Deleting a file\n",
    "file_name = \"output.txt\"\n",
    "if os.path.exists(file_name):\n",
    "    os.remove(file_name)\n",
    "    print(f\"{file_name} deleted successfully.\")\n",
    "else:\n",
    "    print(\"File does not exist!\")"
   ]
  },
  {
   "cell_type": "markdown",
   "id": "acb4a807",
   "metadata": {},
   "source": [
    "## Practice Questions\n",
    "\n",
    "1. Create a file named `students.txt` and write the following text into it:  \n",
    "   ```  \n",
    "   Alice scored 85 in mathematics.  \n",
    "   Bob scored 78 in science.  \n",
    "   Charlie scored 92 in English.  \n",
    "   ```  \n",
    "\n",
    "2. Write a function to replace every occurrence of a score greater than 80 with the word \"Excellent\" in the file `students.txt`.\n",
    "\n",
    "3. Check whether the word \"science\" exists in the file `students.txt`.\n",
    "\n",
    "4. Write a function to find the first line where the word \"scored\" appears in the file `students.txt`. Print the line number, or `-1` if the word is not found.\n",
    "\n",
    "5. Create a file `grades.txt` containing grades separated by spaces (e.g., `A B C A D A B`). Write a program to count how many times the grade `A` appears in the file."
   ]
  }
 ],
 "metadata": {
  "kernelspec": {
   "display_name": "Python 3",
   "language": "python",
   "name": "python3"
  },
  "language_info": {
   "codemirror_mode": {
    "name": "ipython",
    "version": 3
   },
   "file_extension": ".py",
   "mimetype": "text/x-python",
   "name": "python",
   "nbconvert_exporter": "python",
   "pygments_lexer": "ipython3",
   "version": "3.12.4"
  }
 },
 "nbformat": 4,
 "nbformat_minor": 5
}
