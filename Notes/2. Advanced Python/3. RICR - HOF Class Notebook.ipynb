{
 "cells": [
  {
   "cell_type": "markdown",
   "metadata": {},
   "source": [
    "## Heiger Order Function \n",
    "Heigher order Function is a function that  can accept other functions as arguments or return them  "
   ]
  },
  {
   "cell_type": "markdown",
   "metadata": {},
   "source": [
    "### Lambda Function"
   ]
  },
  {
   "cell_type": "markdown",
   "metadata": {},
   "source": [
    "* Also known as anonimous function  it has no name \n",
    "* It has no return value it only return function \n",
    "* Not used for Code reusibility \n",
    "\n"
   ]
  },
  {
   "cell_type": "markdown",
   "metadata": {},
   "source": [
    "lambda arguments : expression"
   ]
  },
  {
   "cell_type": "code",
   "execution_count": 1,
   "metadata": {},
   "outputs": [
    {
     "name": "stdout",
     "output_type": "stream",
     "text": [
      "27\n"
     ]
    }
   ],
   "source": [
    "print((lambda n:n*n*n)(3))"
   ]
  },
  {
   "cell_type": "code",
   "execution_count": 3,
   "metadata": {},
   "outputs": [
    {
     "name": "stdout",
     "output_type": "stream",
     "text": [
      "enter:2\n",
      "enter:3\n",
      "enter:4\n",
      "<class 'function'>\n",
      "3.0\n"
     ]
    }
   ],
   "source": [
    "a=int(input('enter:'))\n",
    "b=int(input('enter:'))\n",
    "c=int(input('enter:'))\n",
    "x=lambda x,y,z:(x+y+z)/3\n",
    "print(type(x))\n",
    "print(x(a,b,c))"
   ]
  },
  {
   "cell_type": "code",
   "execution_count": 2,
   "metadata": {},
   "outputs": [
    {
     "name": "stdout",
     "output_type": "stream",
     "text": [
      "6.0\n"
     ]
    }
   ],
   "source": [
    "print((lambda x,y,z:(x+y+z)/3)(5,6,7))"
   ]
  },
  {
   "cell_type": "code",
   "execution_count": 4,
   "metadata": {},
   "outputs": [
    {
     "data": {
      "text/plain": [
       "False"
      ]
     },
     "execution_count": 4,
     "metadata": {},
     "output_type": "execute_result"
    }
   ],
   "source": [
    "y=lambda x:x[0]=='a'\n",
    "y(\"hello\")"
   ]
  },
  {
   "cell_type": "code",
   "execution_count": 8,
   "metadata": {},
   "outputs": [
    {
     "name": "stdout",
     "output_type": "stream",
     "text": [
      "Divisible\n"
     ]
    }
   ],
   "source": [
    "z=lambda x:x%5==0\n",
    "y=lambda x : \"Divisible\" if x%5 ==0 else \"Not Divisivble \"\n",
    "print(y(15))"
   ]
  },
  {
   "cell_type": "code",
   "execution_count": 7,
   "metadata": {},
   "outputs": [
    {
     "name": "stdout",
     "output_type": "stream",
     "text": [
      "(4, 6, 4)\n"
     ]
    }
   ],
   "source": [
    "def return_fizz_buzz_cnt(lst):\n",
    "    five_cnt=0\n",
    "    three_cnt=0\n",
    "    seven_cnt=0\n",
    "    for i in lst :\n",
    "        if i%7==0  :\n",
    "            seven_cnt+=1\n",
    "        if i%3==0:\n",
    "            three_cnt+=1\n",
    "        if i%5==0:\n",
    "            five_cnt+=1\n",
    "    return (five_cnt,three_cnt,seven_cnt)\n",
    "lst=[3,5,7,12,15,30,21,1,21,56,65]\n",
    "print(return_fizz_buzz_cnt(lst))"
   ]
  },
  {
   "cell_type": "code",
   "execution_count": 2,
   "metadata": {},
   "outputs": [
    {
     "name": "stdout",
     "output_type": "stream",
     "text": [
      "6\n",
      "4\n",
      "4\n"
     ]
    }
   ],
   "source": [
    "def hof_cnt(fun,lst):\n",
    "    result=0\n",
    "    for i in lst:\n",
    "        if fun(i):\n",
    "            result+=1\n",
    "    return result\n",
    "lst=[3,5,7,12,15,30,21,1,21,56,65]\n",
    "x=lambda X:X%3==0\n",
    "y=lambda Y:Y%5==0\n",
    "z=lambda Z:Z%7==0\n",
    "\n",
    "print(hof_cnt(x,lst))\n",
    "print(hof_cnt(y,lst))\n",
    "print(hof_cnt(z,lst))"
   ]
  },
  {
   "cell_type": "markdown",
   "metadata": {},
   "source": [
    "* Map\n",
    "* Filter \n",
    "* Reduce "
   ]
  },
  {
   "cell_type": "code",
   "execution_count": 40,
   "metadata": {},
   "outputs": [
    {
     "name": "stdout",
     "output_type": "stream",
     "text": [
      "<filter object at 0x00000278F971F3A0>\n"
     ]
    }
   ],
   "source": [
    "numbers = [1, 2, 3, 4]\n",
    "squared = filter(lambda x: x * x, numbers)\n",
    "print(squared)"
   ]
  },
  {
   "cell_type": "code",
   "execution_count": 42,
   "metadata": {},
   "outputs": [
    {
     "name": "stdout",
     "output_type": "stream",
     "text": [
      "[1, 4, 9, 16, 25, 36]\n"
     ]
    }
   ],
   "source": [
    "lst=[1,2,3,4,5,6]\n",
    "x=list(map(lambda x:x**2,lst))\n",
    "print(x)"
   ]
  },
  {
   "cell_type": "code",
   "execution_count": 46,
   "metadata": {},
   "outputs": [
    {
     "name": "stdout",
     "output_type": "stream",
     "text": [
      "[5, 6]\n"
     ]
    }
   ],
   "source": [
    "lst=[1,2,3,4,5,6]\n",
    "y=list(filter(lambda x:x>4,lst))\n",
    "print(y)"
   ]
  },
  {
   "cell_type": "code",
   "execution_count": 54,
   "metadata": {},
   "outputs": [
    {
     "name": "stdout",
     "output_type": "stream",
     "text": [
      "10\n"
     ]
    }
   ],
   "source": [
    "from functools import reduce\n",
    "\n",
    "numbers = [1, 2, 3, 4]\n",
    "product = reduce(lambda x, y: x + y, numbers)\n",
    "#[1,2,3,4] ->[3,3,4]->[6 ,4]->10\n",
    "print(product)  # Output: 10"
   ]
  }
 ],
 "metadata": {
  "kernelspec": {
   "display_name": "Python 3 (ipykernel)",
   "language": "python",
   "name": "python3"
  },
  "language_info": {
   "codemirror_mode": {
    "name": "ipython",
    "version": 3
   },
   "file_extension": ".py",
   "mimetype": "text/x-python",
   "name": "python",
   "nbconvert_exporter": "python",
   "pygments_lexer": "ipython3",
   "version": "3.12.3"
  }
 },
 "nbformat": 4,
 "nbformat_minor": 2
}
