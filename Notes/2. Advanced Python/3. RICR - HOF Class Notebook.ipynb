{
 "cells": [
  {
   "cell_type": "markdown",
   "metadata": {},
   "source": [
    "# Lambda Function"
   ]
  },
  {
   "cell_type": "markdown",
   "metadata": {},
   "source": [
    "* Also known as anonimous function  it has no name \n",
    "* It has no return value it only return function \n",
    "* Not used for Code reusibility \n",
    "\n"
   ]
  },
  {
   "cell_type": "markdown",
   "metadata": {},
   "source": [
    "## lambda arguments : expression"
   ]
  },
  {
   "cell_type": "markdown",
   "metadata": {},
   "source": [
    "They can be assigned to a variable and then used"
   ]
  },
  {
   "cell_type": "code",
   "execution_count": 1,
   "metadata": {},
   "outputs": [
    {
     "name": "stdout",
     "output_type": "stream",
     "text": [
      "<class 'function'>\n",
      "27\n"
     ]
    }
   ],
   "source": [
    "x=lambda n:n*n*n\n",
    "print(type(x))\n",
    "print(x(3))"
   ]
  },
  {
   "cell_type": "markdown",
   "metadata": {},
   "source": [
    "They often used as an argument to others"
   ]
  },
  {
   "cell_type": "code",
   "execution_count": 1,
   "metadata": {
    "scrolled": false
   },
   "outputs": [
    {
     "name": "stdout",
     "output_type": "stream",
     "text": [
      "27\n"
     ]
    }
   ],
   "source": [
    "print((lambda n:n*n*n)(3))"
   ]
  },
  {
   "cell_type": "code",
   "execution_count": 2,
   "metadata": {},
   "outputs": [
    {
     "name": "stdout",
     "output_type": "stream",
     "text": [
      "enter:12\n",
      "enter:12\n",
      "enter:12\n",
      "<class 'function'>\n",
      "12.0\n"
     ]
    }
   ],
   "source": [
    "#Take 3 number as a input from the user and print average of three number\n",
    "\n",
    "a=int(input('enter:'))\n",
    "b=int(input('enter:'))\n",
    "c=int(input('enter:'))\n",
    "x=lambda x,y,z:(x+y+z)/3\n",
    "print(type(x))\n",
    "print(x(a,b,c))"
   ]
  },
  {
   "cell_type": "code",
   "execution_count": 3,
   "metadata": {},
   "outputs": [
    {
     "name": "stdout",
     "output_type": "stream",
     "text": [
      "6.0\n"
     ]
    }
   ],
   "source": [
    "print((lambda x,y,z:(x+y+z)/3)(5,6,7))"
   ]
  },
  {
   "cell_type": "code",
   "execution_count": null,
   "metadata": {},
   "outputs": [
    {
     "data": {
      "text/plain": [
       "False"
      ]
     },
     "execution_count": 4,
     "metadata": {},
     "output_type": "execute_result"
    }
   ],
   "source": [
    "y=lambda x:x[0]=='a'\n",
    "y(\"hello\")"
   ]
  },
  {
   "cell_type": "code",
   "execution_count": 5,
   "metadata": {},
   "outputs": [
    {
     "data": {
      "text/plain": [
       "True"
      ]
     },
     "execution_count": 5,
     "metadata": {},
     "output_type": "execute_result"
    }
   ],
   "source": [
    "y=lambda x:x[0]=='a'\n",
    "y(\"a hello\")"
   ]
  },
  {
   "cell_type": "code",
   "execution_count": null,
   "metadata": {},
   "outputs": [
    {
     "name": "stdout",
     "output_type": "stream",
     "text": [
      "Divisible\n",
      "Not Divisivble \n"
     ]
    }
   ],
   "source": [
    "z=lambda x:x%5==0\n",
    "y=lambda x : \"Divisible\" if x%5 ==0 else \"Not Divisivble \"\n",
    "print(y(15))\n",
    "print(y(13))"
   ]
  },
  {
   "cell_type": "markdown",
   "metadata": {},
   "source": [
    "# Higher Order Function\n",
    "Heigher order Function is a function that can accept other functions as arguments or return them"
   ]
  },
  {
   "cell_type": "code",
   "execution_count": 11,
   "metadata": {},
   "outputs": [
    {
     "name": "stdout",
     "output_type": "stream",
     "text": [
      "list of cubes :- [1, 8, 27, 64, 125]\n",
      "list of squares :- [1, 4, 9, 16, 25]\n"
     ]
    }
   ],
   "source": [
    "#Write a function that will return the cube and square of given value\n",
    "def cube(x):\n",
    "    return x**3\n",
    "def square(x):\n",
    "    return x**2\n",
    "def transform(fun,seq):\n",
    "    lst1=[]\n",
    "    for i in seq:\n",
    "        lst1.append(fun(i))\n",
    "    return lst1\n",
    "lst=[1,2,3,4,5]\n",
    "print(f'list of cubes :- {transform(cube,lst)}')\n",
    "print(f'list of squares :- {transform(square,lst)}')"
   ]
  },
  {
   "cell_type": "code",
   "execution_count": 12,
   "metadata": {},
   "outputs": [
    {
     "name": "stdout",
     "output_type": "stream",
     "text": [
      "list of cubes :- [1, 8, 27, 64, 125]\n",
      "list of squares :- [1, 4, 9, 16, 25]\n"
     ]
    }
   ],
   "source": [
    "# using lambda function\n",
    "def transform(fun,seq):\n",
    "    lst1=[]\n",
    "    for i in seq:\n",
    "        lst1.append(fun(i))\n",
    "    return lst1\n",
    "lst=[1,2,3,4,5]\n",
    "print(f'list of cubes :- {transform(lambda x:x**3,lst)}')\n",
    "print(f'list of squares :- {transform(lambda x:x**2,lst)}')"
   ]
  },
  {
   "cell_type": "code",
   "execution_count": 13,
   "metadata": {},
   "outputs": [
    {
     "name": "stdout",
     "output_type": "stream",
     "text": [
      "{'Science': 67, 'SST': 76, 'Hindi': 78, 'English': 82, 'Maths': 89}\n"
     ]
    }
   ],
   "source": [
    "#we can pass lambda function to our bulit-in sorted() function to sort dictionary as values\n",
    "d={\"Maths\":89,\"Hindi\":78,\"English\":82,\"Science\":67,\"SST\":76}\n",
    "d1=dict(sorted(d.items(),key = lambda kv:kv[1]))\n",
    "print(d1)"
   ]
  },
  {
   "cell_type": "code",
   "execution_count": 14,
   "metadata": {},
   "outputs": [
    {
     "name": "stdout",
     "output_type": "stream",
     "text": [
      "(4, 6, 4)\n"
     ]
    }
   ],
   "source": [
    "# Write a function that will count how many number are divisible by 3,5 and 7 in a list of integers\n",
    "def return_fizz_buzz_cnt(lst):\n",
    "    five_cnt=0\n",
    "    three_cnt=0\n",
    "    seven_cnt=0\n",
    "    for i in lst :\n",
    "        if i%7==0  :\n",
    "            seven_cnt+=1\n",
    "        if i%3==0:\n",
    "            three_cnt+=1\n",
    "        if i%5==0:\n",
    "            five_cnt+=1\n",
    "    return (five_cnt,three_cnt,seven_cnt)\n",
    "lst=[3,5,7,12,15,30,21,1,21,56,65]\n",
    "print(return_fizz_buzz_cnt(lst))\n"
   ]
  },
  {
   "cell_type": "code",
   "execution_count": 15,
   "metadata": {},
   "outputs": [
    {
     "name": "stdout",
     "output_type": "stream",
     "text": [
      "6\n",
      "4\n",
      "4\n"
     ]
    }
   ],
   "source": [
    "# above program using lambda function\n",
    "def hof_cnt(fun,lst):\n",
    "    result=0\n",
    "    for i in lst:\n",
    "        if fun(i):\n",
    "            result+=1\n",
    "    return result\n",
    "lst=[3,5,7,12,15,30,21,1,21,56,65]\n",
    "x=lambda X:X%3==0\n",
    "y=lambda Y:Y%5==0\n",
    "z=lambda Z:Z%7==0\n",
    "\n",
    "print(hof_cnt(x,lst))\n",
    "print(hof_cnt(y,lst))\n",
    "print(hof_cnt(z,lst))"
   ]
  },
  {
   "cell_type": "markdown",
   "metadata": {},
   "source": [
    "# Higher Order Function"
   ]
  },
  {
   "cell_type": "markdown",
   "metadata": {},
   "source": [
    "## Map() , Filter , Reduce()"
   ]
  },
  {
   "cell_type": "markdown",
   "metadata": {},
   "source": [
    "## map()"
   ]
  },
  {
   "cell_type": "markdown",
   "metadata": {},
   "source": [
    "* map operation applies to a function to each element in the sequence like list , tuple , etc and return "
   ]
  },
  {
   "cell_type": "markdown",
   "metadata": {},
   "source": [
    "### syntax :-  map(function , sequence)\n",
    "return the map object then we can convert then using list(),tuple() etc. functions to our disered  sequence"
   ]
  },
  {
   "cell_type": "code",
   "execution_count": 21,
   "metadata": {},
   "outputs": [
    {
     "name": "stdout",
     "output_type": "stream",
     "text": [
      "[1, 4, 9, 16, 25, 36]\n"
     ]
    }
   ],
   "source": [
    "# square the items of list\n",
    "lst=[1,2,3,4,5,6]\n",
    "x=list(map(lambda x:x**2,lst))\n",
    "\n",
    "print(x)\n"
   ]
  },
  {
   "cell_type": "code",
   "execution_count": 23,
   "metadata": {},
   "outputs": [
    {
     "name": "stdout",
     "output_type": "stream",
     "text": [
      "(4.90625, 32.556776000000006, 68.773536, 376.49385, 1741.4518500000001, 452.15999999999997)\n"
     ]
    }
   ],
   "source": [
    "# Calculate the area of circles using the given list of radius \n",
    "lst=[1.25,3.22,4.68,10.95,23.55,12]\n",
    "area=tuple(map(lambda r:3.14*r*r,lst))\n",
    "print(area)"
   ]
  },
  {
   "cell_type": "code",
   "execution_count": 40,
   "metadata": {},
   "outputs": [
    {
     "name": "stdout",
     "output_type": "stream",
     "text": [
      "enter a list of string:['hello','coding','RICR']\n",
      "[5, 6, 4]\n"
     ]
    }
   ],
   "source": [
    "# find the length of all the string in a list taken from the user\n",
    "lst=eval(input('enter a list of string:'))\n",
    "length=list(map(lambda y:len(y),lst))\n",
    "print(length)"
   ]
  },
  {
   "cell_type": "code",
   "execution_count": 39,
   "metadata": {},
   "outputs": [
    {
     "name": "stdout",
     "output_type": "stream",
     "text": [
      "[33, 15, 10, 5]\n"
     ]
    }
   ],
   "source": [
    "#write a program to convert all the numerical value in a string of list into integer\n",
    "lst=['33','15','10','5']\n",
    "x=list(map(lambda y:int(y),lst))\n",
    "print(x)"
   ]
  },
  {
   "cell_type": "code",
   "execution_count": 41,
   "metadata": {},
   "outputs": [
    {
     "name": "stdout",
     "output_type": "stream",
     "text": [
      "['HELLO', 'CODING', 'RICR']\n"
     ]
    }
   ],
   "source": [
    "# write a program to convert all the lowercase alphabats into uppercase alphabats \n",
    "lst=['hello','coding','ricr']\n",
    "x=list(map(lambda x:x.upper(),lst))\n",
    "print(x)"
   ]
  },
  {
   "cell_type": "markdown",
   "metadata": {},
   "source": [
    "## filter()"
   ]
  },
  {
   "cell_type": "markdown",
   "metadata": {},
   "source": [
    "### syntax :- filter( function , sequence)\n",
    "A filter operation applies to all the function to all the element of a sequence . A sequence of those element for which function returns true is returned"
   ]
  },
  {
   "cell_type": "code",
   "execution_count": 24,
   "metadata": {},
   "outputs": [
    {
     "name": "stdout",
     "output_type": "stream",
     "text": [
      "[5, 7, 9, 12]\n"
     ]
    }
   ],
   "source": [
    "# make list of all the element greater than 4\n",
    "lst=[2,4,5,7,2,3,9,1,12]\n",
    "var=list(filter(lambda x: x>4,lst))\n",
    "print(var)"
   ]
  },
  {
   "cell_type": "code",
   "execution_count": 27,
   "metadata": {},
   "outputs": [
    {
     "name": "stdout",
     "output_type": "stream",
     "text": [
      "[15, 10, 25, 45]\n"
     ]
    }
   ],
   "source": [
    "# make list of all element divisible by 5\n",
    "lst=[12,14,15,10,11,25,45]\n",
    "lst1=list(filter(lambda x : x%5==0,lst))\n",
    "print(lst1)"
   ]
  },
  {
   "cell_type": "code",
   "execution_count": 28,
   "metadata": {},
   "outputs": [
    {
     "name": "stdout",
     "output_type": "stream",
     "text": [
      "['mango', 'table', 'math']\n"
     ]
    }
   ],
   "source": [
    "# select those strings which contain 'a'\n",
    "tup=('mango','hello','RICR','Coding','table','math')\n",
    "lst1=list(filter(lambda x : 'a' in x , tup))\n",
    "print(lst1)"
   ]
  },
  {
   "cell_type": "code",
   "execution_count": 36,
   "metadata": {},
   "outputs": [
    {
     "name": "stdout",
     "output_type": "stream",
     "text": [
      "['Tata', 'Bata']\n"
     ]
    }
   ],
   "source": [
    "# filter out the strings which have last letter 'A'\n",
    "lst=['Ambani','adani','Tata','Bata']\n",
    "n=list(filter(lambda y:y[-1]=='a',lst))\n",
    "print(n)"
   ]
  },
  {
   "cell_type": "markdown",
   "metadata": {},
   "source": [
    "## reduce()"
   ]
  },
  {
   "cell_type": "markdown",
   "metadata": {},
   "source": [
    "A reduce operation perform a rolling computation to sequencial pair of values in a sequence and return the result"
   ]
  },
  {
   "cell_type": "code",
   "execution_count": 30,
   "metadata": {},
   "outputs": [
    {
     "name": "stdout",
     "output_type": "stream",
     "text": [
      "35\n"
     ]
    }
   ],
   "source": [
    "#return the sum of list\n",
    "from functools import reduce\n",
    "l=[2,3,4,5,6,7,8]\n",
    "y=reduce(lambda x,y:x+y,l)\n",
    "print(y)"
   ]
  },
  {
   "cell_type": "code",
   "execution_count": 31,
   "metadata": {},
   "outputs": [
    {
     "name": "stdout",
     "output_type": "stream",
     "text": [
      "2\n"
     ]
    }
   ],
   "source": [
    "#return the min value of a list\n",
    "l=[2,3,4,5,6,7,8]\n",
    "y=reduce(lambda x,y:x if x<y else y,l)\n",
    "print(y)"
   ]
  },
  {
   "cell_type": "code",
   "execution_count": 32,
   "metadata": {},
   "outputs": [
    {
     "name": "stdout",
     "output_type": "stream",
     "text": [
      "enter a number:5\n",
      "120\n"
     ]
    }
   ],
   "source": [
    "#find the factorial of the given number from the user\n",
    "n=int(input('enter a number:'))\n",
    "z=reduce(lambda x,y:x*y,range(1,n+1))\n",
    "print(z)"
   ]
  },
  {
   "cell_type": "code",
   "execution_count": 33,
   "metadata": {},
   "outputs": [
    {
     "name": "stdout",
     "output_type": "stream",
     "text": [
      "241920\n"
     ]
    }
   ],
   "source": [
    "# Return the product of a list\n",
    "lst=[1,12,3,7,8,4,5,6]\n",
    "z=reduce(lambda x,y:x*y,lst)\n",
    "print(z)"
   ]
  },
  {
   "cell_type": "code",
   "execution_count": null,
   "metadata": {},
   "outputs": [],
   "source": []
  }
 ],
 "metadata": {
  "kernelspec": {
   "display_name": "Python 3",
   "language": "python",
   "name": "python3"
  },
  "language_info": {
   "codemirror_mode": {
    "name": "ipython",
    "version": 3
   },
   "file_extension": ".py",
   "mimetype": "text/x-python",
   "name": "python",
   "nbconvert_exporter": "python",
   "pygments_lexer": "ipython3",
   "version": "3.12.3"
  }
 },
 "nbformat": 4,
 "nbformat_minor": 2
}
