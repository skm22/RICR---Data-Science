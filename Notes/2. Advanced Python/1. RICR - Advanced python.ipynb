{
 "cells": [
  {
   "cell_type": "markdown",
   "metadata": {},
   "source": [
    "# NameSpace and Decorators"
   ]
  },
  {
   "cell_type": "markdown",
   "metadata": {},
   "source": [
    "## Scope of variable in python.\n",
    "\n",
    " - Scope defines the region in the code where a variable or name is accessible (can be used).\n",
    " - Scope answers the question: Where can I use this variable?\n",
    " - A scope is like a boundary where certain names (variables) can be accessed.\n"
   ]
  },
  {
   "cell_type": "code",
   "execution_count": 1,
   "metadata": {},
   "outputs": [
    {
     "name": "stdout",
     "output_type": "stream",
     "text": [
      "3\n",
      "2\n"
     ]
    }
   ],
   "source": [
    "# local variable and global variable.\n",
    "\n",
    "num1 = 2 # global\n",
    "def func():\n",
    "  num2 = 3 # local\n",
    "  print(num2)\n",
    "func()\n",
    "print(num1)"
   ]
  },
  {
   "cell_type": "markdown",
   "metadata": {},
   "source": [
    "# Namespace in python\n",
    "\n",
    " - A namespace is like a container that holds names (variables, functions, etc.) and maps them to objects.\n",
    " - It keeps track of which names are linked to which values.\n",
    " - It is like a directory that stores the mapping of names to objects.\n",
    "\n",
    "#### Python has four main types of namespaces:\n",
    "\n",
    "1. Local Namespace: Holds names created inside a function. These are only available within the function.\n",
    "2. Enclosing Namespace: Holds names from an outer function, available to inner (nested) functions.\n",
    "3. Global Namespace: Contains names defined at the top level of the script. These can be accessed from anywhere in the program.\n",
    "4. Built-in Namespace: Contains Python’s built-in names like print(), len(), etc., which are always available."
   ]
  },
  {
   "cell_type": "markdown",
   "metadata": {},
   "source": [
    "### LEGB Rule.\n",
    "The LEGB Rule describes the order in which Python looks for variables:\n",
    "\n",
    "1. Local\n",
    "2. Enclosing\n",
    "3. Global\n",
    "4. Built-in   \n",
    "\n",
    "The interpreter searches for a name from the inside out, looking in the local, enclosing, global, and finally the built-in scope. If the interpreter doesn’t find the name in any of these locations, then Python raises a NameError exception. "
   ]
  },
  {
   "cell_type": "code",
   "execution_count": 4,
   "metadata": {
    "id": "j8yQ5lUr2yCq"
   },
   "outputs": [
    {
     "name": "stdout",
     "output_type": "stream",
     "text": [
      "Local nunber : 3\n",
      "Global number : 2\n"
     ]
    }
   ],
   "source": [
    "# local and global variable have same name.\n",
    "\n",
    "num1 = 2 # global\n",
    "def func():\n",
    "  num1 = 3 # local\n",
    "  print(\"Local nunber :\", num1)\n",
    "func()\n",
    "print(\"Global number :\", num1)"
   ]
  },
  {
   "cell_type": "code",
   "execution_count": 5,
   "metadata": {
    "colab": {
     "base_uri": "https://localhost:8080/"
    },
    "id": "KGxD7YQS3We_",
    "outputId": "8e329d2f-7a9b-4516-d43e-02d293e882b9"
   },
   "outputs": [
    {
     "name": "stdout",
     "output_type": "stream",
     "text": [
      "2\n",
      "2\n"
     ]
    }
   ],
   "source": [
    "# If there is no local variable inside function.\n",
    "\n",
    "n1 = 2 # global \n",
    "def func1():\n",
    "  print(n1) # This will access the global varibale.\n",
    "func1()\n",
    "print(n1)\n"
   ]
  },
  {
   "cell_type": "code",
   "execution_count": 7,
   "metadata": {
    "colab": {
     "base_uri": "https://localhost:8080/",
     "height": 348
    },
    "id": "ey9-FHzM21P_",
    "outputId": "fee2d260-f6e5-4db1-f7d7-52c829a41e4a"
   },
   "outputs": [
    {
     "ename": "UnboundLocalError",
     "evalue": "cannot access local variable 'n1' where it is not associated with a value",
     "output_type": "error",
     "traceback": [
      "\u001b[1;31m---------------------------------------------------------------------------\u001b[0m",
      "\u001b[1;31mUnboundLocalError\u001b[0m                         Traceback (most recent call last)",
      "Cell \u001b[1;32mIn[7], line 7\u001b[0m\n\u001b[0;32m      5\u001b[0m   n1 \u001b[38;5;241m+\u001b[39m\u001b[38;5;241m=\u001b[39m \u001b[38;5;241m1\u001b[39m   \u001b[38;5;66;03m# local var\u001b[39;00m\n\u001b[0;32m      6\u001b[0m   \u001b[38;5;28mprint\u001b[39m(n1)\n\u001b[1;32m----> 7\u001b[0m \u001b[43mmethod\u001b[49m\u001b[43m(\u001b[49m\u001b[43m)\u001b[49m\n\u001b[0;32m      8\u001b[0m \u001b[38;5;28mprint\u001b[39m(n1)\n",
      "Cell \u001b[1;32mIn[7], line 5\u001b[0m, in \u001b[0;36mmethod\u001b[1;34m()\u001b[0m\n\u001b[0;32m      4\u001b[0m \u001b[38;5;28;01mdef\u001b[39;00m \u001b[38;5;21mmethod\u001b[39m():\n\u001b[1;32m----> 5\u001b[0m   \u001b[43mn1\u001b[49m \u001b[38;5;241m+\u001b[39m\u001b[38;5;241m=\u001b[39m \u001b[38;5;241m1\u001b[39m   \u001b[38;5;66;03m# local var\u001b[39;00m\n\u001b[0;32m      6\u001b[0m   \u001b[38;5;28mprint\u001b[39m(n1)\n",
      "\u001b[1;31mUnboundLocalError\u001b[0m: cannot access local variable 'n1' where it is not associated with a value"
     ]
    }
   ],
   "source": [
    "# If the global has updated inside the function -> It will give error.\n",
    "\n",
    "n1 = 2\n",
    "def method():\n",
    "  n1 += 1   # local var\n",
    "  print(n1)\n",
    "method()\n",
    "print(n1)"
   ]
  },
  {
   "cell_type": "code",
   "execution_count": 9,
   "metadata": {
    "id": "yDkgBLQu3JIw"
   },
   "outputs": [
    {
     "name": "stdout",
     "output_type": "stream",
     "text": [
      "1\n",
      "1\n"
     ]
    }
   ],
   "source": [
    "# global variables are created inside the function.\n",
    "\n",
    "def temp():\n",
    "  # local var\n",
    "  global a\n",
    "  a = 1\n",
    "  print(a)\n",
    "\n",
    "temp()\n",
    "print(a)"
   ]
  },
  {
   "cell_type": "code",
   "execution_count": null,
   "metadata": {
    "colab": {
     "base_uri": "https://localhost:8080/"
    },
    "id": "P7wHSji-3q-r",
    "outputId": "ff2f6d15-70a6-4972-b789-37eeac7082b1"
   },
   "outputs": [
    {
     "name": "stdout",
     "output_type": "stream",
     "text": [
      "['ArithmeticError', 'AssertionError', 'AttributeError', 'BaseException', 'BlockingIOError', 'BrokenPipeError', 'BufferError', 'BytesWarning', 'ChildProcessError', 'ConnectionAbortedError', 'ConnectionError', 'ConnectionRefusedError', 'ConnectionResetError', 'DeprecationWarning', 'EOFError', 'Ellipsis', 'EnvironmentError', 'Exception', 'False', 'FileExistsError', 'FileNotFoundError', 'FloatingPointError', 'FutureWarning', 'GeneratorExit', 'IOError', 'ImportError', 'ImportWarning', 'IndentationError', 'IndexError', 'InterruptedError', 'IsADirectoryError', 'KeyError', 'KeyboardInterrupt', 'LookupError', 'MemoryError', 'ModuleNotFoundError', 'NameError', 'None', 'NotADirectoryError', 'NotImplemented', 'NotImplementedError', 'OSError', 'OverflowError', 'PendingDeprecationWarning', 'PermissionError', 'ProcessLookupError', 'RecursionError', 'ReferenceError', 'ResourceWarning', 'RuntimeError', 'RuntimeWarning', 'StopAsyncIteration', 'StopIteration', 'SyntaxError', 'SyntaxWarning', 'SystemError', 'SystemExit', 'TabError', 'TimeoutError', 'True', 'TypeError', 'UnboundLocalError', 'UnicodeDecodeError', 'UnicodeEncodeError', 'UnicodeError', 'UnicodeTranslateError', 'UnicodeWarning', 'UserWarning', 'ValueError', 'Warning', 'ZeroDivisionError', '__IPYTHON__', '__build_class__', '__debug__', '__doc__', '__import__', '__loader__', '__name__', '__package__', '__spec__', 'abs', 'all', 'any', 'ascii', 'bin', 'bool', 'breakpoint', 'bytearray', 'bytes', 'callable', 'chr', 'classmethod', 'compile', 'complex', 'copyright', 'credits', 'delattr', 'dict', 'dir', 'display', 'divmod', 'enumerate', 'eval', 'exec', 'execfile', 'filter', 'float', 'format', 'frozenset', 'get_ipython', 'getattr', 'globals', 'hasattr', 'hash', 'help', 'hex', 'id', 'input', 'int', 'isinstance', 'issubclass', 'iter', 'len', 'license', 'list', 'locals', 'map', 'max', 'memoryview', 'min', 'next', 'object', 'oct', 'open', 'ord', 'pow', 'print', 'property', 'range', 'repr', 'reversed', 'round', 'runfile', 'set', 'setattr', 'slice', 'sorted', 'staticmethod', 'str', 'sum', 'super', 'tuple', 'type', 'vars', 'zip']\n"
     ]
    }
   ],
   "source": [
    "# all built-in scope names.\n",
    "\n",
    "import builtins\n",
    "print(dir(builtins))"
   ]
  },
  {
   "cell_type": "code",
   "execution_count": 11,
   "metadata": {
    "colab": {
     "base_uri": "https://localhost:8080/",
     "height": 241
    },
    "id": "Qd3fM_Ha3ruR",
    "outputId": "fb8b79d9-8b3a-483f-b1aa-b642832c1edd"
   },
   "outputs": [
    {
     "ename": "TypeError",
     "evalue": "max() takes 0 positional arguments but 1 was given",
     "output_type": "error",
     "traceback": [
      "\u001b[1;31m---------------------------------------------------------------------------\u001b[0m",
      "\u001b[1;31mTypeError\u001b[0m                                 Traceback (most recent call last)",
      "Cell \u001b[1;32mIn[11], line 4\u001b[0m\n\u001b[0;32m      1\u001b[0m \u001b[38;5;66;03m# When builtin scope gets renamed by redefining.\u001b[39;00m\n\u001b[0;32m      3\u001b[0m Lst \u001b[38;5;241m=\u001b[39m [\u001b[38;5;241m1\u001b[39m,\u001b[38;5;241m2\u001b[39m,\u001b[38;5;241m3\u001b[39m]\n\u001b[1;32m----> 4\u001b[0m \u001b[38;5;28mprint\u001b[39m(\u001b[38;5;28;43mmax\u001b[39;49m\u001b[43m(\u001b[49m\u001b[43mLst\u001b[49m\u001b[43m)\u001b[49m)\n\u001b[0;32m      6\u001b[0m \u001b[38;5;28;01mdef\u001b[39;00m \u001b[38;5;21mmax\u001b[39m():\n\u001b[0;32m      7\u001b[0m   \u001b[38;5;28mprint\u001b[39m(\u001b[38;5;124m'\u001b[39m\u001b[38;5;124mhello\u001b[39m\u001b[38;5;124m'\u001b[39m)\n",
      "\u001b[1;31mTypeError\u001b[0m: max() takes 0 positional arguments but 1 was given"
     ]
    }
   ],
   "source": [
    "# When builtin scope gets renamed by redefining.\n",
    "\n",
    "Lst = [1,2,3]\n",
    "print(max(Lst))\n",
    "\n",
    "def max():\n",
    "  print('function renamed')\n",
    "\n",
    "print(max(Lst)) # Error"
   ]
  },
  {
   "cell_type": "code",
   "execution_count": 44,
   "metadata": {
    "colab": {
     "base_uri": "https://localhost:8080/"
    },
    "id": "JORTYJik4LKH",
    "outputId": "1458570e-91b5-4533-d1be-2f89c4585c79"
   },
   "outputs": [
    {
     "name": "stdout",
     "output_type": "stream",
     "text": [
      "inner function 5\n",
      "outer function 3\n",
      "main program 1\n"
     ]
    }
   ],
   "source": [
    "# Enclosing scope\n",
    "\n",
    "def outer_func():\n",
    "  a = 3 # enclosing scope\n",
    "  def inner_func():\n",
    "    a = 5 # Local scope\n",
    "    print(\"inner function\",a)\n",
    "  inner_func()\n",
    "  print('outer function',a)\n",
    "\n",
    "a = 1 # global scope\n",
    "outer_func()\n",
    "print('main program',a)"
   ]
  },
  {
   "cell_type": "code",
   "execution_count": 45,
   "metadata": {},
   "outputs": [
    {
     "ename": "UnboundLocalError",
     "evalue": "cannot access local variable 'a' where it is not associated with a value",
     "output_type": "error",
     "traceback": [
      "\u001b[1;31m---------------------------------------------------------------------------\u001b[0m",
      "\u001b[1;31mUnboundLocalError\u001b[0m                         Traceback (most recent call last)",
      "Cell \u001b[1;32mIn[45], line 12\u001b[0m\n\u001b[0;32m      9\u001b[0m   \u001b[38;5;28mprint\u001b[39m(\u001b[38;5;124m'\u001b[39m\u001b[38;5;124mouter function\u001b[39m\u001b[38;5;124m'\u001b[39m,a)\n\u001b[0;32m     11\u001b[0m a \u001b[38;5;241m=\u001b[39m \u001b[38;5;241m1\u001b[39m \u001b[38;5;66;03m# global scope\u001b[39;00m\n\u001b[1;32m---> 12\u001b[0m \u001b[43mouter_func\u001b[49m\u001b[43m(\u001b[49m\u001b[43m)\u001b[49m\n\u001b[0;32m     13\u001b[0m \u001b[38;5;28mprint\u001b[39m(\u001b[38;5;124m'\u001b[39m\u001b[38;5;124mmain program\u001b[39m\u001b[38;5;124m'\u001b[39m,a)\n",
      "Cell \u001b[1;32mIn[45], line 8\u001b[0m, in \u001b[0;36mouter_func\u001b[1;34m()\u001b[0m\n\u001b[0;32m      6\u001b[0m   a \u001b[38;5;241m+\u001b[39m\u001b[38;5;241m=\u001b[39m \u001b[38;5;241m5\u001b[39m \n\u001b[0;32m      7\u001b[0m   \u001b[38;5;28mprint\u001b[39m(\u001b[38;5;124m\"\u001b[39m\u001b[38;5;124minner function\u001b[39m\u001b[38;5;124m\"\u001b[39m,a)\n\u001b[1;32m----> 8\u001b[0m \u001b[43minner_func\u001b[49m\u001b[43m(\u001b[49m\u001b[43m)\u001b[49m\n\u001b[0;32m      9\u001b[0m \u001b[38;5;28mprint\u001b[39m(\u001b[38;5;124m'\u001b[39m\u001b[38;5;124mouter function\u001b[39m\u001b[38;5;124m'\u001b[39m,a)\n",
      "Cell \u001b[1;32mIn[45], line 6\u001b[0m, in \u001b[0;36mouter_func.<locals>.inner_func\u001b[1;34m()\u001b[0m\n\u001b[0;32m      5\u001b[0m \u001b[38;5;28;01mdef\u001b[39;00m \u001b[38;5;21minner_func\u001b[39m():\n\u001b[1;32m----> 6\u001b[0m   \u001b[43ma\u001b[49m \u001b[38;5;241m+\u001b[39m\u001b[38;5;241m=\u001b[39m \u001b[38;5;241m5\u001b[39m \n\u001b[0;32m      7\u001b[0m   \u001b[38;5;28mprint\u001b[39m(\u001b[38;5;124m\"\u001b[39m\u001b[38;5;124minner function\u001b[39m\u001b[38;5;124m\"\u001b[39m,a)\n",
      "\u001b[1;31mUnboundLocalError\u001b[0m: cannot access local variable 'a' where it is not associated with a value"
     ]
    }
   ],
   "source": [
    "# Changing enclosing scope var from inner function return an error.\n",
    "\n",
    "def outer_func():\n",
    "  a = 3  # enclosing scope\n",
    "  def inner_func():\n",
    "    a += 5 \n",
    "    print(\"inner function\",a)\n",
    "  inner_func()\n",
    "  print('outer function',a)\n",
    "\n",
    "a = 1 # global scope\n",
    "outer_func()\n",
    "print('main program',a)"
   ]
  },
  {
   "cell_type": "code",
   "execution_count": 46,
   "metadata": {},
   "outputs": [
    {
     "name": "stdout",
     "output_type": "stream",
     "text": [
      "inner function 8\n",
      "outer function 8\n",
      "main program 1\n"
     ]
    }
   ],
   "source": [
    "# Use nonlocal keyword\n",
    "\n",
    "def outer_func():\n",
    "  a = 3  # enclosing scope\n",
    "  def inner_func():\n",
    "    nonlocal a\n",
    "    a += 5 \n",
    "    print(\"inner function\",a)\n",
    "  inner_func()\n",
    "  print('outer function',a)\n",
    "\n",
    "a = 1 # global scope\n",
    "outer_func()\n",
    "print('main program',a)"
   ]
  },
  {
   "cell_type": "markdown",
   "metadata": {
    "id": "v2I4_MetLUYb"
   },
   "source": [
    "### Decorators\n",
    "\n",
    "A decorator in python is a function that receives another function as input and adds some functionality(decoration) to and it and returns it.\n",
    "\n",
    "There are 2 types of decorators available in python\n",
    "- `Built in decorators` like `@staticmethod`, `@classmethod`, `@abstractmethod` and `@property` etc\n",
    "- `User defined decorators` that we programmers can create according to our needs\n",
    "\n",
    "This can happen only because python functions are 1st class citizens."
   ]
  },
  {
   "cell_type": "markdown",
   "metadata": {},
   "source": [
    "##### Python are 1st class function ->\n",
    "\n",
    " - In Python, a first-class citizen is an entity that can be assigned to a variable, passed as a parameter, returned by a function, or stored in a data structure. This means that functions, data types and classes are all first-class citizens."
   ]
  },
  {
   "cell_type": "code",
   "execution_count": 52,
   "metadata": {
    "colab": {
     "base_uri": "https://localhost:8080/"
    },
    "id": "PLEnpaeHUvAk",
    "outputId": "86fe9ab7-3533-4ed2-cd65-f96e8941df74"
   },
   "outputs": [
    {
     "name": "stdout",
     "output_type": "stream",
     "text": [
      "125\n"
     ]
    }
   ],
   "source": [
    "def transform(function,var): # can accept any function\n",
    "  return function(var) # can return function\n",
    "\n",
    "def cube(n):\n",
    "  return n**3\n",
    "\n",
    "# del cube # -> can delete any function\n",
    "\n",
    "print(transform(cube,5))"
   ]
  },
  {
   "cell_type": "code",
   "execution_count": 66,
   "metadata": {
    "colab": {
     "base_uri": "https://localhost:8080/"
    },
    "id": "fsyP9F9z5OSe",
    "outputId": "ec17ff47-2eaa-46e4-a6c7-0eb131ff488c"
   },
   "outputs": [],
   "source": [
    "# simple example of how decorators work.\n",
    "\n",
    "def my_decorator(func):\n",
    "  def wrapper():\n",
    "    print('---------- wrapper starts ----------')\n",
    "    print(\"====================================\")\n",
    "    func()\n",
    "    print(\"====================================\")\n",
    "    print('---------- wrapper ends ----------',end='\\n\\n')\n",
    "  return wrapper"
   ]
  },
  {
   "cell_type": "code",
   "execution_count": 68,
   "metadata": {},
   "outputs": [
    {
     "name": "stdout",
     "output_type": "stream",
     "text": [
      "---------- wrapper starts ----------\n",
      "====================================\n",
      "Good Morning! This is python with Data Science.\n",
      "====================================\n",
      "---------- wrapper ends ----------\n",
      "\n",
      "---------- wrapper starts ----------\n",
      "====================================\n",
      "Hello! How are you.\n",
      "====================================\n",
      "---------- wrapper ends ----------\n",
      "\n",
      "---------- wrapper starts ----------\n",
      "====================================\n",
      "This will return nothing, but using decorator\n",
      "====================================\n",
      "---------- wrapper ends ----------\n",
      "\n"
     ]
    }
   ],
   "source": [
    "# Using single decorator in multiple functions:\n",
    "\n",
    "def greet():\n",
    "  print('Good Morning! This is python with Data Science.')\n",
    "\n",
    "def hello():\n",
    "  print(\"Hello! How are you.\")\n",
    "\n",
    "def any_function():\n",
    "  print(\"This will return nothing, but using decorator\")\n",
    "\n",
    "# my_decorator(greet) # -> this returns a decorator object \"<function __main__.my_decorator.<locals>.wrapper()>\"\n",
    "\n",
    "d1 = my_decorator(greet)\n",
    "d2 = my_decorator(hello)\n",
    "d3 = my_decorator(any_function)\n",
    "\n",
    "d1()\n",
    "d2()\n",
    "d3()"
   ]
  },
  {
   "cell_type": "code",
   "execution_count": 70,
   "metadata": {
    "colab": {
     "base_uri": "https://localhost:8080/"
    },
    "id": "6xenz10AVfTp",
    "outputId": "cb2e3d25-d951-49d5-ae36-62fff01bae68"
   },
   "outputs": [
    {
     "name": "stdout",
     "output_type": "stream",
     "text": [
      "---------- wrapper starts ----------\n",
      "====================================\n",
      "Hello! How are you.\n",
      "====================================\n",
      "---------- wrapper ends ----------\n",
      "\n"
     ]
    }
   ],
   "source": [
    "# Better syntax or short form of using decorators:\n",
    "\n",
    "def my_decorator(func):\n",
    "  def wrapper():\n",
    "    print('---------- wrapper starts ----------')\n",
    "    print(\"====================================\")\n",
    "    func()\n",
    "    print(\"====================================\")\n",
    "    print('---------- wrapper ends ----------',end='\\n\\n')\n",
    "  return wrapper\n",
    "\n",
    "@my_decorator\n",
    "def hello():\n",
    "  print(\"Hello! How are you.\")\n",
    "\n",
    "hello()"
   ]
  },
  {
   "cell_type": "code",
   "execution_count": 75,
   "metadata": {
    "colab": {
     "base_uri": "https://localhost:8080/"
    },
    "id": "JGXuT9XSP3ue",
    "outputId": "0d9ce629-0d1e-4198-b9b4-95e21486adc8"
   },
   "outputs": [
    {
     "name": "stdout",
     "output_type": "stream",
     "text": [
      "Time taken by loop 1.049145221710205 secs\n",
      "Square of 2: 4\n",
      "Time taken by square 0.5009925365447998 secs\n"
     ]
    }
   ],
   "source": [
    "# Meanintful example of decorator\n",
    "\n",
    "import time\n",
    "\n",
    "def timer_decorator(func):\n",
    "  def wrapper(*args):\n",
    "    start = time.time()\n",
    "    func(*args)\n",
    "    print('Time taken by',func.__name__,time.time()-start,'secs')\n",
    "  return wrapper\n",
    "\n",
    "@timer_decorator\n",
    "def loop():\n",
    "  sum = 0\n",
    "  for i in range(10000000):\n",
    "    sum += i\n",
    "  return sum\n",
    "\n",
    "@timer_decorator\n",
    "def square(num):\n",
    "  time.sleep(0.5)\n",
    "  print(f\"Square of {num}:\",num**2)\n",
    "\n",
    "loop()\n",
    "square(2)\n"
   ]
  },
  {
   "cell_type": "code",
   "execution_count": null,
   "metadata": {
    "id": "tF12z0_-VG8y"
   },
   "outputs": [],
   "source": [
    "# A big problem"
   ]
  },
  {
   "cell_type": "code",
   "execution_count": 78,
   "metadata": {
    "colab": {
     "base_uri": "https://localhost:8080/"
    },
    "id": "hjjt65fYSri2",
    "outputId": "555806f0-a2b9-4f76-c5ec-6b91aaa76c34"
   },
   "outputs": [
    {
     "name": "stdout",
     "output_type": "stream",
     "text": [
      "4\n",
      "hello RICR\n"
     ]
    },
    {
     "ename": "TypeError",
     "evalue": "Ye datatype nai chalega",
     "output_type": "error",
     "traceback": [
      "\u001b[1;31m---------------------------------------------------------------------------\u001b[0m",
      "\u001b[1;31mTypeError\u001b[0m                                 Traceback (most recent call last)",
      "Cell \u001b[1;32mIn[78], line 21\u001b[0m\n\u001b[0;32m     19\u001b[0m square(\u001b[38;5;241m2\u001b[39m)\n\u001b[0;32m     20\u001b[0m greet(\u001b[38;5;124m\"\u001b[39m\u001b[38;5;124mRICR\u001b[39m\u001b[38;5;124m\"\u001b[39m)\n\u001b[1;32m---> 21\u001b[0m \u001b[43mgreet\u001b[49m\u001b[43m(\u001b[49m\u001b[38;5;241;43m2\u001b[39;49m\u001b[43m)\u001b[49m\n",
      "Cell \u001b[1;32mIn[78], line 7\u001b[0m, in \u001b[0;36msanity_check.<locals>.outer_wrapper.<locals>.inner_wrapper\u001b[1;34m(*args)\u001b[0m\n\u001b[0;32m      5\u001b[0m   func(\u001b[38;5;241m*\u001b[39margs)\n\u001b[0;32m      6\u001b[0m \u001b[38;5;28;01melse\u001b[39;00m:\n\u001b[1;32m----> 7\u001b[0m   \u001b[38;5;28;01mraise\u001b[39;00m \u001b[38;5;167;01mTypeError\u001b[39;00m(\u001b[38;5;124m'\u001b[39m\u001b[38;5;124mYe datatype nai chalega\u001b[39m\u001b[38;5;124m'\u001b[39m)\n",
      "\u001b[1;31mTypeError\u001b[0m: Ye datatype nai chalega"
     ]
    }
   ],
   "source": [
    "def sanity_check(data_type):\n",
    "  def outer_wrapper(func):\n",
    "    def inner_wrapper(*args):\n",
    "      if type(*args) == data_type:\n",
    "        func(*args)\n",
    "      else:\n",
    "        raise TypeError('Ye datatype nai chalega')\n",
    "    return inner_wrapper\n",
    "  return outer_wrapper\n",
    "\n",
    "@sanity_check(int)\n",
    "def square(num):\n",
    "  print(num**2)\n",
    "\n",
    "@sanity_check(str)\n",
    "def greet(name):\n",
    "  print('hello',name)\n",
    "\n",
    "square(2)\n",
    "greet(\"RICR\")\n",
    "greet(2)"
   ]
  },
  {
   "cell_type": "markdown",
   "metadata": {},
   "source": [
    "# eval() function   \n",
    "The eval() function in Python takes a string expression, evaluates it, and runs it as Python code.   \n",
    "\n",
    "Syntax: eval(expression, globals=None, locals=None)\n",
    "\n",
    "Parameters:\n",
    " - expression: The string to be evaluated as a Python expression.  \n",
    " - globals (optional): A dictionary of global variables and methods available to the expression.  \n",
    " - locals (optional): A dictionary of local variables and methods available to the expression.   \n",
    "\n",
    "Return: It returns the result of the evaluated expression.\n",
    "\n",
    "Uses: While eval() isn’t used often due to security risks, it can be helpful in specific cases like:\n",
    "\n",
    "1. Allowing users to enter small expressions to customize behavior.\n",
    "2. Evaluating mathematical expressions easily without needing to write a parser.\n"
   ]
  },
  {
   "cell_type": "code",
   "execution_count": 22,
   "metadata": {},
   "outputs": [
    {
     "name": "stdout",
     "output_type": "stream",
     "text": [
      "1+1\n",
      "2\n"
     ]
    }
   ],
   "source": [
    "# Evaluating any expression inside string.\n",
    "\n",
    "print(\"1+1\")\n",
    "print(eval(\"1+1\"))"
   ]
  },
  {
   "cell_type": "code",
   "execution_count": 21,
   "metadata": {},
   "outputs": [
    {
     "name": "stdout",
     "output_type": "stream",
     "text": [
      "x*(x+12-x*2)//(x+2)\n",
      "5\n"
     ]
    }
   ],
   "source": [
    "# Evaluate Mathematical equation using eval()\n",
    "\n",
    "equation = 'x*(x+12-x*2)//(x+2)'\n",
    "print(equation)\n",
    "\n",
    "x = 3\n",
    "\n",
    "ans = eval(equation)\n",
    "print(ans)"
   ]
  },
  {
   "cell_type": "code",
   "execution_count": 24,
   "metadata": {},
   "outputs": [
    {
     "ename": "AttributeError",
     "evalue": "'str' object has no attribute 'append'",
     "output_type": "error",
     "traceback": [
      "\u001b[1;31m---------------------------------------------------------------------------\u001b[0m",
      "\u001b[1;31mAttributeError\u001b[0m                            Traceback (most recent call last)",
      "Cell \u001b[1;32mIn[24], line 4\u001b[0m\n\u001b[0;32m      1\u001b[0m \u001b[38;5;66;03m# Taking input without using eval.\u001b[39;00m\n\u001b[0;32m      3\u001b[0m lst \u001b[38;5;241m=\u001b[39m \u001b[38;5;28minput\u001b[39m() \u001b[38;5;66;03m# Taking entire list as a input.\u001b[39;00m\n\u001b[1;32m----> 4\u001b[0m \u001b[43mlst\u001b[49m\u001b[38;5;241;43m.\u001b[39;49m\u001b[43mappend\u001b[49m(\u001b[38;5;241m3\u001b[39m)\n\u001b[0;32m      5\u001b[0m \u001b[38;5;28mprint\u001b[39m(lst)\n",
      "\u001b[1;31mAttributeError\u001b[0m: 'str' object has no attribute 'append'"
     ]
    }
   ],
   "source": [
    "# Taking input without using eval.\n",
    "\n",
    "lst = input() # Giving list as a input \n",
    "lst.append(3) # Performing list opertaion (Error)\n",
    "print(lst) "
   ]
  },
  {
   "cell_type": "code",
   "execution_count": 25,
   "metadata": {},
   "outputs": [
    {
     "name": "stdout",
     "output_type": "stream",
     "text": [
      "[1, 2, 3, 4, 3]\n"
     ]
    }
   ],
   "source": [
    "# Taking input using eval.\n",
    "\n",
    "lst = eval(input()) # Taking entire list as a input.\n",
    "lst.append(3) \n",
    "print(lst)"
   ]
  },
  {
   "cell_type": "code",
   "execution_count": 32,
   "metadata": {},
   "outputs": [
    {
     "name": "stdout",
     "output_type": "stream",
     "text": [
      "y = 2\n"
     ]
    }
   ],
   "source": [
    "# expression to be evaluated in 'x'\n",
    "eq = eval(input(\"Enter the function(in terms of x):\")) # ex: \"x*(x*2)//(x+2)\"\n",
    "\n",
    "# variable used in expression\n",
    "x = int(input(\"Enter the value of x:\")) # ex: 2\n",
    "\n",
    "# printing evaluated result\n",
    "print(\"y =\", eq)"
   ]
  },
  {
   "cell_type": "markdown",
   "metadata": {},
   "source": [
    "# print() function   \n",
    "python print() function prints the message to the screen.\n",
    "\n",
    "parameters: \n",
    "\n",
    " - value(s): Any value, and as many as you like. Will be converted to a string before printed\n",
    "\n",
    " - sep=’separator’ : (Optional) Specify how to separate the objects, if there is more than one.Default :’ ‘\n",
    "\n",
    " \n",
    " - end=’end’: (Optional) Specify what to print at the end.Default : ‘\\n’"
   ]
  },
  {
   "cell_type": "code",
   "execution_count": 36,
   "metadata": {},
   "outputs": [
    {
     "name": "stdout",
     "output_type": "stream",
     "text": [
      "Hello, my name is-python-and I am-150-years old. Thank you Second line\n"
     ]
    }
   ],
   "source": [
    "name = \"python\"\n",
    "age = 150\n",
    "\n",
    "print(\"Hello, my name is\", name, \"and I am\", age, \"years old.\", sep='-',end=' Thank you ')\n",
    "print(\"Second line\")"
   ]
  },
  {
   "cell_type": "markdown",
   "metadata": {},
   "source": [
    "#### line change with string inside print()\n",
    "\n",
    "-  \\n"
   ]
  },
  {
   "cell_type": "code",
   "execution_count": 39,
   "metadata": {},
   "outputs": [
    {
     "name": "stdout",
     "output_type": "stream",
     "text": [
      "Hello \n",
      " my name is python.\n"
     ]
    }
   ],
   "source": [
    "print(\"Hello \\n my name is python.\")"
   ]
  },
  {
   "cell_type": "markdown",
   "metadata": {},
   "source": [
    "## Output formatting inside print()."
   ]
  },
  {
   "cell_type": "markdown",
   "metadata": {},
   "source": [
    "1. String Concatenation   \n",
    "\n",
    "This is the simplest method, where strings are combined using the + operator.   \n",
    "Example:   "
   ]
  },
  {
   "cell_type": "code",
   "execution_count": 1,
   "metadata": {},
   "outputs": [
    {
     "name": "stdout",
     "output_type": "stream",
     "text": [
      "My name is Alice and I am 25 years old.\n"
     ]
    }
   ],
   "source": [
    "name = \"Alice\"\n",
    "age = 25\n",
    "print(\"My name is \" + name + \" and I am \" + str(age) + \" years old.\")\n",
    "# Output: My name is Alice and I am 25 years old."
   ]
  },
  {
   "cell_type": "markdown",
   "metadata": {},
   "source": [
    "2. Using .format() Method     \n",
    "\n",
    "The .format() method provides a more flexible and readable way to format strings."
   ]
  },
  {
   "cell_type": "markdown",
   "metadata": {},
   "source": [
    "a) Positional Arguments"
   ]
  },
  {
   "cell_type": "code",
   "execution_count": 13,
   "metadata": {},
   "outputs": [
    {
     "name": "stdout",
     "output_type": "stream",
     "text": [
      "My name is Bob and I am 25 years old.\n"
     ]
    }
   ],
   "source": [
    "print(\"My name is {} and I am {} years old.\".format(\"Bob\", 25))   # Output: My name is Bob and I am 25 years old."
   ]
  },
  {
   "cell_type": "markdown",
   "metadata": {},
   "source": [
    "b) Reordering Positional Arguments"
   ]
  },
  {
   "cell_type": "code",
   "execution_count": 20,
   "metadata": {},
   "outputs": [
    {
     "name": "stdout",
     "output_type": "stream",
     "text": [
      "This is Bob, Alice, and Charlie.\n"
     ]
    }
   ],
   "source": [
    "print(\"This is {1}, {0}, and {2}.\".format(\"Alice\", \"Bob\", \"Charlie\"))"
   ]
  },
  {
   "cell_type": "markdown",
   "metadata": {},
   "source": [
    "c) Keyword Arguments"
   ]
  },
  {
   "cell_type": "code",
   "execution_count": 4,
   "metadata": {},
   "outputs": [
    {
     "name": "stdout",
     "output_type": "stream",
     "text": [
      "My name is Bob and I am 25 years old.\n"
     ]
    }
   ],
   "source": [
    "print(\"My name is {name} and I am {age} years old.\".format(name=\"Bob\", age=25))\n"
   ]
  },
  {
   "cell_type": "markdown",
   "metadata": {},
   "source": [
    "d) Formatting Numbers"
   ]
  },
  {
   "cell_type": "code",
   "execution_count": 6,
   "metadata": {},
   "outputs": [
    {
     "name": "stdout",
     "output_type": "stream",
     "text": [
      "The value of pi is approximately 3.14.\n"
     ]
    }
   ],
   "source": [
    "print(\"The value of pi is approximately {:.2f}.\".format(3.14159))"
   ]
  },
  {
   "cell_type": "markdown",
   "metadata": {},
   "source": [
    "3. Using f-strings (Formatted String Literals)      \n",
    "\n",
    "Introduced in Python 3.6, f-strings are faster, more concise, and intuitive than .format()."
   ]
  },
  {
   "cell_type": "markdown",
   "metadata": {},
   "source": [
    "a) Basic Substitution"
   ]
  },
  {
   "cell_type": "code",
   "execution_count": 7,
   "metadata": {},
   "outputs": [
    {
     "name": "stdout",
     "output_type": "stream",
     "text": [
      "Hello, Alice!\n"
     ]
    }
   ],
   "source": [
    "name = \"Alice\"\n",
    "print(f\"Hello, {name}!\")\n",
    "# Output: Hello, Alice!\n"
   ]
  },
  {
   "cell_type": "markdown",
   "metadata": {},
   "source": [
    "b) Evaluating Expressions Directly"
   ]
  },
  {
   "cell_type": "code",
   "execution_count": 9,
   "metadata": {},
   "outputs": [
    {
     "name": "stdout",
     "output_type": "stream",
     "text": [
      "The sum of 5 and 3 is 8.\n"
     ]
    }
   ],
   "source": [
    "print(f\"The sum of 5 and 3 is {5 + 3}.\")"
   ]
  },
  {
   "cell_type": "markdown",
   "metadata": {},
   "source": [
    "c) Formatting Numbers"
   ]
  },
  {
   "cell_type": "code",
   "execution_count": 10,
   "metadata": {},
   "outputs": [
    {
     "name": "stdout",
     "output_type": "stream",
     "text": [
      "The value of pi is approximately 3.14.\n"
     ]
    }
   ],
   "source": [
    "pi = 3.14159\n",
    "print(f\"The value of pi is approximately {pi:.2f}.\")\n",
    "# Output: The value of pi is approximately 3.14.\n"
   ]
  },
  {
   "cell_type": "markdown",
   "metadata": {},
   "source": [
    "d) Accessing Elements"
   ]
  },
  {
   "cell_type": "code",
   "execution_count": 11,
   "metadata": {},
   "outputs": [
    {
     "name": "stdout",
     "output_type": "stream",
     "text": [
      "I like apples and bananas.\n"
     ]
    }
   ],
   "source": [
    "fruits = [\"apple\", \"banana\", \"cherry\"]\n",
    "print(f\"I like {fruits[0]}s and {fruits[1]}s.\")\n",
    "# Output: I like apples and bananas.\n"
   ]
  },
  {
   "cell_type": "markdown",
   "metadata": {},
   "source": [
    "### Zip() Function\n",
    "Python zip() method takes iterable containers and returns a single iterator object, having mapped values from all the containers. "
   ]
  },
  {
   "cell_type": "code",
   "execution_count": 15,
   "metadata": {},
   "outputs": [
    {
     "name": "stdout",
     "output_type": "stream",
     "text": [
      "<zip object at 0x000001D84310B5C0>\n"
     ]
    }
   ],
   "source": [
    "l1 = [1,2,3,4,5]\n",
    "l2 = ['a','b','c','d','e']\n",
    "ans = zip(l1,l2) # This generates a zip object.\n",
    "print(ans)"
   ]
  },
  {
   "cell_type": "code",
   "execution_count": 18,
   "metadata": {},
   "outputs": [
    {
     "name": "stdout",
     "output_type": "stream",
     "text": [
      "[(1, 'a'), (2, 'b'), (3, 'c'), (4, 'd'), (5, 'e')]\n"
     ]
    }
   ],
   "source": [
    "l1 = [1,2,3,4,5]\n",
    "l2 = ['a','b','c','d','e']\n",
    "new_ans = list(zip(l1,l2)) # Converting zip object into list.\n",
    "print(new_ans)"
   ]
  },
  {
   "cell_type": "code",
   "execution_count": 16,
   "metadata": {},
   "outputs": [
    {
     "name": "stdout",
     "output_type": "stream",
     "text": [
      "(1, 'a')\n",
      "(2, 'b')\n",
      "(3, 'c')\n",
      "(4, 'd')\n",
      "(5, 'e')\n"
     ]
    }
   ],
   "source": [
    "for i in ans: # This loop will execute only one time beacuse zip function generates an iterator which gets exhausted once it gets used.\n",
    "    print(i) # So second time it will not run. (no output -> in second run)"
   ]
  },
  {
   "cell_type": "code",
   "execution_count": 19,
   "metadata": {},
   "outputs": [
    {
     "name": "stdout",
     "output_type": "stream",
     "text": [
      "(1, 'a')\n",
      "(2, 'b')\n",
      "(3, 'c')\n",
      "(4, 'd')\n",
      "(5, 'e')\n"
     ]
    }
   ],
   "source": [
    "for i in new_ans: # So to overcome this we convert that zip object into list or any other datatype.\n",
    "    print(i) # This can execute multiple times."
   ]
  },
  {
   "cell_type": "code",
   "execution_count": null,
   "metadata": {},
   "outputs": [
    {
     "name": "stdout",
     "output_type": "stream",
     "text": [
      "0 (1, 'a')\n",
      "1 (2, 'b')\n",
      "2 (3, 'c')\n",
      "3 (4, 'd')\n",
      "4 (5, 'e')\n"
     ]
    }
   ],
   "source": [
    "for i,j in enumerate(ans): # Using enumerate function .\n",
    "    print(i,j)"
   ]
  },
  {
   "cell_type": "code",
   "execution_count": null,
   "metadata": {},
   "outputs": [
    {
     "name": "stdout",
     "output_type": "stream",
     "text": [
      "[(1, 'a'), (2, 'b'), (3, 'c')]\n"
     ]
    }
   ],
   "source": [
    "# Zip with different number of elements.\n",
    "list1 = [1, 2, 3]\n",
    "list2 = ['a', 'b', 'c', 'd', 'e']\n",
    "result = list(zip(list1, list2))\n",
    "print(result)"
   ]
  },
  {
   "cell_type": "code",
   "execution_count": null,
   "metadata": {},
   "outputs": [
    {
     "name": "stdout",
     "output_type": "stream",
     "text": [
      "0 2 b\n",
      "1 3 c\n",
      "2 4 d\n",
      "3 5 e\n"
     ]
    }
   ],
   "source": [
    "for i,(j,k) in enumerate(ans): # accessing each velue.\n",
    "    print(i,j,k)"
   ]
  },
  {
   "cell_type": "code",
   "execution_count": null,
   "metadata": {},
   "outputs": [
    {
     "name": "stdout",
     "output_type": "stream",
     "text": [
      "{'python': 2175, 'is': 1127, 'a': 2750, 'language': 8759}\n"
     ]
    }
   ],
   "source": [
    "# Zip() in dictionary .\n",
    "l1 = ['python', 'is', 'a', 'language']\n",
    "l2 = [2175, 1127, 2750, 8759]\n",
    "\n",
    "new_dict = {i:j for i,j in zip(l1, l2)}\n",
    "print(new_dict)\n"
   ]
  },
  {
   "cell_type": "code",
   "execution_count": null,
   "metadata": {},
   "outputs": [
    {
     "name": "stdout",
     "output_type": "stream",
     "text": [
      "((1, 'a'), (2, 'b'), (3, 'c'))\n"
     ]
    }
   ],
   "source": [
    "# zip in tuple\n",
    "tuple1 = (1, 2, 3)\n",
    "tuple2 = ('a', 'b', 'c')\n",
    "zipped = zip(tuple1, tuple2)\n",
    "result = tuple(zipped)\n",
    "print(result)"
   ]
  },
  {
   "cell_type": "code",
   "execution_count": null,
   "metadata": {},
   "outputs": [
    {
     "name": "stdout",
     "output_type": "stream",
     "text": [
      "[(1, 'a', 'x'), (2, 'b', 'y'), (3, 'c', 'z')]\n"
     ]
    }
   ],
   "source": [
    "# Python zip() with Multiple Iterables\n",
    "list1 = [1, 2, 3]\n",
    "list2 = ['a', 'b', 'c']\n",
    "list3 = ['x', 'y', 'z']\n",
    "zipped = zip(list1, list2, list3)\n",
    "result = list(zipped)\n",
    "print(result)"
   ]
  }
 ],
 "metadata": {
  "colab": {
   "provenance": []
  },
  "kernelspec": {
   "display_name": "Python 3",
   "name": "python3"
  },
  "language_info": {
   "codemirror_mode": {
    "name": "ipython",
    "version": 3
   },
   "file_extension": ".py",
   "mimetype": "text/x-python",
   "name": "python",
   "nbconvert_exporter": "python",
   "pygments_lexer": "ipython3",
   "version": "3.12.3"
  }
 },
 "nbformat": 4,
 "nbformat_minor": 0
}
