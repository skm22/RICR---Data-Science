{
 "cells": [
  {
   "cell_type": "markdown",
   "metadata": {},
   "source": [
    "# eval() function   \n",
    "The eval() function in Python takes a string expression, evaluates it, and runs it as Python code.   \n",
    "\n",
    "Syntax: eval(expression, globals=None, locals=None)\n",
    "\n",
    "Parameters:\n",
    " - expression: The string to be evaluated as a Python expression.  \n",
    " - globals (optional): A dictionary of global variables and methods available to the expression.  \n",
    " - locals (optional): A dictionary of local variables and methods available to the expression.   \n",
    "\n",
    "Return: It returns the result of the evaluated expression.\n",
    "\n",
    "Uses: While eval() isn’t used often due to security risks, it can be helpful in specific cases like:\n",
    "\n",
    "1. Allowing users to enter small expressions to customize behavior.\n",
    "2. Evaluating mathematical expressions easily without needing to write a parser.\n"
   ]
  },
  {
   "cell_type": "code",
   "execution_count": 22,
   "metadata": {},
   "outputs": [
    {
     "name": "stdout",
     "output_type": "stream",
     "text": [
      "1+1\n",
      "2\n"
     ]
    }
   ],
   "source": [
    "# Evaluating any expression inside string.\n",
    "\n",
    "print(\"1+1\")\n",
    "print(eval(\"1+1\"))"
   ]
  },
  {
   "cell_type": "code",
   "execution_count": 21,
   "metadata": {},
   "outputs": [
    {
     "name": "stdout",
     "output_type": "stream",
     "text": [
      "x*(x+12-x*2)//(x+2)\n",
      "5\n"
     ]
    }
   ],
   "source": [
    "# Evaluate Mathematical equation using eval()\n",
    "\n",
    "equation = 'x*(x+12-x*2)//(x+2)'\n",
    "print(equation)\n",
    "\n",
    "x = 3\n",
    "\n",
    "ans = eval(equation)\n",
    "print(ans)"
   ]
  },
  {
   "cell_type": "code",
   "execution_count": 24,
   "metadata": {},
   "outputs": [
    {
     "ename": "AttributeError",
     "evalue": "'str' object has no attribute 'append'",
     "output_type": "error",
     "traceback": [
      "\u001b[1;31m---------------------------------------------------------------------------\u001b[0m",
      "\u001b[1;31mAttributeError\u001b[0m                            Traceback (most recent call last)",
      "Cell \u001b[1;32mIn[24], line 4\u001b[0m\n\u001b[0;32m      1\u001b[0m \u001b[38;5;66;03m# Taking input without using eval.\u001b[39;00m\n\u001b[0;32m      3\u001b[0m lst \u001b[38;5;241m=\u001b[39m \u001b[38;5;28minput\u001b[39m() \u001b[38;5;66;03m# Taking entire list as a input.\u001b[39;00m\n\u001b[1;32m----> 4\u001b[0m \u001b[43mlst\u001b[49m\u001b[38;5;241;43m.\u001b[39;49m\u001b[43mappend\u001b[49m(\u001b[38;5;241m3\u001b[39m)\n\u001b[0;32m      5\u001b[0m \u001b[38;5;28mprint\u001b[39m(lst)\n",
      "\u001b[1;31mAttributeError\u001b[0m: 'str' object has no attribute 'append'"
     ]
    }
   ],
   "source": [
    "# Taking input without using eval.\n",
    "\n",
    "lst = input() # Giving list as a input \n",
    "lst.append(3) # Performing list opertaion (Error)\n",
    "print(lst) "
   ]
  },
  {
   "cell_type": "code",
   "execution_count": 25,
   "metadata": {},
   "outputs": [
    {
     "name": "stdout",
     "output_type": "stream",
     "text": [
      "[1, 2, 3, 4, 3]\n"
     ]
    }
   ],
   "source": [
    "# Taking input using eval.\n",
    "\n",
    "lst = eval(input()) # Taking entire list as a input.\n",
    "lst.append(3) \n",
    "print(lst)"
   ]
  },
  {
   "cell_type": "code",
   "execution_count": 32,
   "metadata": {},
   "outputs": [
    {
     "name": "stdout",
     "output_type": "stream",
     "text": [
      "y = 2\n"
     ]
    }
   ],
   "source": [
    "# expression to be evaluated in 'x'\n",
    "eq = eval(input(\"Enter the function(in terms of x):\")) # ex: \"x*(x*2)//(x+2)\"\n",
    "\n",
    "# variable used in expression\n",
    "x = int(input(\"Enter the value of x:\")) # ex: 2\n",
    "\n",
    "# printing evaluated result\n",
    "print(\"y =\", eq)"
   ]
  },
  {
   "cell_type": "markdown",
   "metadata": {},
   "source": [
    "# print() function   \n",
    "python print() function prints the message to the screen.\n",
    "\n",
    "parameters: \n",
    "\n",
    " - value(s): Any value, and as many as you like. Will be converted to a string before printed\n",
    "\n",
    " - sep=’separator’ : (Optional) Specify how to separate the objects, if there is more than one.Default :’ ‘\n",
    "\n",
    " \n",
    " - end=’end’: (Optional) Specify what to print at the end.Default : ‘\\n’"
   ]
  },
  {
   "cell_type": "code",
   "execution_count": 36,
   "metadata": {},
   "outputs": [
    {
     "name": "stdout",
     "output_type": "stream",
     "text": [
      "Hello, my name is-python-and I am-150-years old. Thank you Second line\n"
     ]
    }
   ],
   "source": [
    "name = \"python\"\n",
    "age = 150\n",
    "\n",
    "print(\"Hello, my name is\", name, \"and I am\", age, \"years old.\", sep='-',end=' Thank you ')\n",
    "print(\"Second line\")"
   ]
  },
  {
   "cell_type": "markdown",
   "metadata": {},
   "source": [
    "#### line change with string inside print()\n",
    "\n",
    "-  \\n"
   ]
  },
  {
   "cell_type": "code",
   "execution_count": 39,
   "metadata": {},
   "outputs": [
    {
     "name": "stdout",
     "output_type": "stream",
     "text": [
      "Hello \n",
      " my name is python.\n"
     ]
    }
   ],
   "source": [
    "print(\"Hello \\n my name is python.\")"
   ]
  },
  {
   "cell_type": "markdown",
   "metadata": {},
   "source": [
    "## Output formatting inside print()."
   ]
  },
  {
   "cell_type": "markdown",
   "metadata": {},
   "source": [
    "1. String Concatenation   \n",
    "\n",
    "This is the simplest method, where strings are combined using the + operator.   \n",
    "Example:   "
   ]
  },
  {
   "cell_type": "code",
   "execution_count": 1,
   "metadata": {},
   "outputs": [
    {
     "name": "stdout",
     "output_type": "stream",
     "text": [
      "My name is Alice and I am 25 years old.\n"
     ]
    }
   ],
   "source": [
    "name = \"Alice\"\n",
    "age = 25\n",
    "print(\"My name is \" + name + \" and I am \" + str(age) + \" years old.\")\n",
    "# Output: My name is Alice and I am 25 years old."
   ]
  },
  {
   "cell_type": "markdown",
   "metadata": {},
   "source": [
    "2. Using .format() Method     \n",
    "\n",
    "The .format() method provides a more flexible and readable way to format strings."
   ]
  },
  {
   "cell_type": "markdown",
   "metadata": {},
   "source": [
    "a) Positional Arguments"
   ]
  },
  {
   "cell_type": "code",
   "execution_count": 13,
   "metadata": {},
   "outputs": [
    {
     "name": "stdout",
     "output_type": "stream",
     "text": [
      "My name is Bob and I am 25 years old.\n"
     ]
    }
   ],
   "source": [
    "print(\"My name is {} and I am {} years old.\".format(\"Bob\", 25))   # Output: My name is Bob and I am 25 years old."
   ]
  },
  {
   "cell_type": "markdown",
   "metadata": {},
   "source": [
    "b) Reordering Positional Arguments"
   ]
  },
  {
   "cell_type": "code",
   "execution_count": 20,
   "metadata": {},
   "outputs": [
    {
     "name": "stdout",
     "output_type": "stream",
     "text": [
      "This is Bob, Alice, and Charlie.\n"
     ]
    }
   ],
   "source": [
    "print(\"This is {1}, {0}, and {2}.\".format(\"Alice\", \"Bob\", \"Charlie\"))"
   ]
  },
  {
   "cell_type": "markdown",
   "metadata": {},
   "source": [
    "c) Keyword Arguments"
   ]
  },
  {
   "cell_type": "code",
   "execution_count": 4,
   "metadata": {},
   "outputs": [
    {
     "name": "stdout",
     "output_type": "stream",
     "text": [
      "My name is Bob and I am 25 years old.\n"
     ]
    }
   ],
   "source": [
    "print(\"My name is {name} and I am {age} years old.\".format(name=\"Bob\", age=25))\n"
   ]
  },
  {
   "cell_type": "markdown",
   "metadata": {},
   "source": [
    "d) Formatting Numbers"
   ]
  },
  {
   "cell_type": "code",
   "execution_count": 6,
   "metadata": {},
   "outputs": [
    {
     "name": "stdout",
     "output_type": "stream",
     "text": [
      "The value of pi is approximately 3.14.\n"
     ]
    }
   ],
   "source": [
    "print(\"The value of pi is approximately {:.2f}.\".format(3.14159))"
   ]
  },
  {
   "cell_type": "markdown",
   "metadata": {},
   "source": [
    "3. Using f-strings (Formatted String Literals)      \n",
    "\n",
    "Introduced in Python 3.6, f-strings are faster, more concise, and intuitive than .format()."
   ]
  },
  {
   "cell_type": "markdown",
   "metadata": {},
   "source": [
    "a) Basic Substitution"
   ]
  },
  {
   "cell_type": "code",
   "execution_count": 7,
   "metadata": {},
   "outputs": [
    {
     "name": "stdout",
     "output_type": "stream",
     "text": [
      "Hello, Alice!\n"
     ]
    }
   ],
   "source": [
    "name = \"Alice\"\n",
    "print(f\"Hello, {name}!\")\n",
    "# Output: Hello, Alice!\n"
   ]
  },
  {
   "cell_type": "markdown",
   "metadata": {},
   "source": [
    "b) Evaluating Expressions Directly"
   ]
  },
  {
   "cell_type": "code",
   "execution_count": 9,
   "metadata": {},
   "outputs": [
    {
     "name": "stdout",
     "output_type": "stream",
     "text": [
      "The sum of 5 and 3 is 8.\n"
     ]
    }
   ],
   "source": [
    "print(f\"The sum of 5 and 3 is {5 + 3}.\")"
   ]
  },
  {
   "cell_type": "markdown",
   "metadata": {},
   "source": [
    "c) Formatting Numbers"
   ]
  },
  {
   "cell_type": "code",
   "execution_count": 10,
   "metadata": {},
   "outputs": [
    {
     "name": "stdout",
     "output_type": "stream",
     "text": [
      "The value of pi is approximately 3.14.\n"
     ]
    }
   ],
   "source": [
    "pi = 3.14159\n",
    "print(f\"The value of pi is approximately {pi:.2f}.\")\n",
    "# Output: The value of pi is approximately 3.14.\n"
   ]
  },
  {
   "cell_type": "markdown",
   "metadata": {},
   "source": [
    "d) Accessing Elements"
   ]
  },
  {
   "cell_type": "code",
   "execution_count": 11,
   "metadata": {},
   "outputs": [
    {
     "name": "stdout",
     "output_type": "stream",
     "text": [
      "I like apples and bananas.\n"
     ]
    }
   ],
   "source": [
    "fruits = [\"apple\", \"banana\", \"cherry\"]\n",
    "print(f\"I like {fruits[0]}s and {fruits[1]}s.\")\n",
    "# Output: I like apples and bananas.\n"
   ]
  },
  {
   "cell_type": "markdown",
   "metadata": {},
   "source": [
    "### Zip() Function\n",
    "Python zip() method takes iterable containers and returns a single iterator object, having mapped values from all the containers. "
   ]
  },
  {
   "cell_type": "code",
   "execution_count": 15,
   "metadata": {},
   "outputs": [
    {
     "name": "stdout",
     "output_type": "stream",
     "text": [
      "<zip object at 0x000001D84310B5C0>\n"
     ]
    }
   ],
   "source": [
    "l1 = [1,2,3,4,5]\n",
    "l2 = ['a','b','c','d','e']\n",
    "ans = zip(l1,l2) # This generates a zip object.\n",
    "print(ans)"
   ]
  },
  {
   "cell_type": "code",
   "execution_count": 18,
   "metadata": {},
   "outputs": [
    {
     "name": "stdout",
     "output_type": "stream",
     "text": [
      "[(1, 'a'), (2, 'b'), (3, 'c'), (4, 'd'), (5, 'e')]\n"
     ]
    }
   ],
   "source": [
    "l1 = [1,2,3,4,5]\n",
    "l2 = ['a','b','c','d','e']\n",
    "new_ans = list(zip(l1,l2)) # Converting zip object into list.\n",
    "print(new_ans)"
   ]
  },
  {
   "cell_type": "code",
   "execution_count": 16,
   "metadata": {},
   "outputs": [
    {
     "name": "stdout",
     "output_type": "stream",
     "text": [
      "(1, 'a')\n",
      "(2, 'b')\n",
      "(3, 'c')\n",
      "(4, 'd')\n",
      "(5, 'e')\n"
     ]
    }
   ],
   "source": [
    "for i in ans: # This loop will execute only one time beacuse zip function generates an iterator which gets exhausted once it gets used.\n",
    "    print(i) # So second time it will not run. (no output -> in second run)"
   ]
  },
  {
   "cell_type": "code",
   "execution_count": 19,
   "metadata": {},
   "outputs": [
    {
     "name": "stdout",
     "output_type": "stream",
     "text": [
      "(1, 'a')\n",
      "(2, 'b')\n",
      "(3, 'c')\n",
      "(4, 'd')\n",
      "(5, 'e')\n"
     ]
    }
   ],
   "source": [
    "for i in new_ans: # So to overcome this we convert that zip object into list or any other datatype.\n",
    "    print(i) # This can execute multiple times."
   ]
  },
  {
   "cell_type": "code",
   "execution_count": null,
   "metadata": {},
   "outputs": [
    {
     "name": "stdout",
     "output_type": "stream",
     "text": [
      "0 (1, 'a')\n",
      "1 (2, 'b')\n",
      "2 (3, 'c')\n",
      "3 (4, 'd')\n",
      "4 (5, 'e')\n"
     ]
    }
   ],
   "source": [
    "for i,j in enumerate(ans): # Using enumerate function .\n",
    "    print(i,j)"
   ]
  },
  {
   "cell_type": "code",
   "execution_count": null,
   "metadata": {},
   "outputs": [
    {
     "name": "stdout",
     "output_type": "stream",
     "text": [
      "[(1, 'a'), (2, 'b'), (3, 'c')]\n"
     ]
    }
   ],
   "source": [
    "# Zip with different number of elements.\n",
    "list1 = [1, 2, 3]\n",
    "list2 = ['a', 'b', 'c', 'd', 'e']\n",
    "result = list(zip(list1, list2))\n",
    "print(result)"
   ]
  },
  {
   "cell_type": "code",
   "execution_count": null,
   "metadata": {},
   "outputs": [
    {
     "name": "stdout",
     "output_type": "stream",
     "text": [
      "0 2 b\n",
      "1 3 c\n",
      "2 4 d\n",
      "3 5 e\n"
     ]
    }
   ],
   "source": [
    "for i,(j,k) in enumerate(ans): # accessing each velue.\n",
    "    print(i,j,k)"
   ]
  },
  {
   "cell_type": "code",
   "execution_count": null,
   "metadata": {},
   "outputs": [
    {
     "name": "stdout",
     "output_type": "stream",
     "text": [
      "{'python': 2175, 'is': 1127, 'a': 2750, 'language': 8759}\n"
     ]
    }
   ],
   "source": [
    "# Zip() in dictionary .\n",
    "l1 = ['python', 'is', 'a', 'language']\n",
    "l2 = [2175, 1127, 2750, 8759]\n",
    "\n",
    "new_dict = {i:j for i,j in zip(l1, l2)}\n",
    "print(new_dict)\n"
   ]
  },
  {
   "cell_type": "code",
   "execution_count": null,
   "metadata": {},
   "outputs": [
    {
     "name": "stdout",
     "output_type": "stream",
     "text": [
      "((1, 'a'), (2, 'b'), (3, 'c'))\n"
     ]
    }
   ],
   "source": [
    "# zip in tuple\n",
    "tuple1 = (1, 2, 3)\n",
    "tuple2 = ('a', 'b', 'c')\n",
    "zipped = zip(tuple1, tuple2)\n",
    "result = tuple(zipped)\n",
    "print(result)"
   ]
  },
  {
   "cell_type": "code",
   "execution_count": null,
   "metadata": {},
   "outputs": [
    {
     "name": "stdout",
     "output_type": "stream",
     "text": [
      "[(1, 'a', 'x'), (2, 'b', 'y'), (3, 'c', 'z')]\n"
     ]
    }
   ],
   "source": [
    "# Python zip() with Multiple Iterables\n",
    "list1 = [1, 2, 3]\n",
    "list2 = ['a', 'b', 'c']\n",
    "list3 = ['x', 'y', 'z']\n",
    "zipped = zip(list1, list2, list3)\n",
    "result = list(zipped)\n",
    "print(result)"
   ]
  }
 ],
 "metadata": {
  "colab": {
   "provenance": []
  },
  "kernelspec": {
   "display_name": "Python 3",
   "name": "python3"
  },
  "language_info": {
   "codemirror_mode": {
    "name": "ipython",
    "version": 3
   },
   "file_extension": ".py",
   "mimetype": "text/x-python",
   "name": "python",
   "nbconvert_exporter": "python",
   "pygments_lexer": "ipython3",
   "version": "3.12.3"
  }
 },
 "nbformat": 4,
 "nbformat_minor": 0
}
