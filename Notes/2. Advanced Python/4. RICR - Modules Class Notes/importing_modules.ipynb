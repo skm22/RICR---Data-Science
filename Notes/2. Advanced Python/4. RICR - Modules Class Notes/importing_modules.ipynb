{
 "cells": [
  {
   "cell_type": "markdown",
   "metadata": {},
   "source": [
    "# Modules in python"
   ]
  },
  {
   "cell_type": "markdown",
   "metadata": {},
   "source": [
    "### Importing the user-defined module"
   ]
  },
  {
   "cell_type": "code",
   "execution_count": 1,
   "metadata": {},
   "outputs": [
    {
     "name": "stdout",
     "output_type": "stream",
     "text": [
      "5.0 [4, 8]\n"
     ]
    }
   ],
   "source": [
    "import list_operations # list_operations is the same name of the file which is present in the smae directory.\n",
    "\n",
    "avg = list_operations.find_average([5, 3, 4, 8]) # functions called from module\n",
    "evens = list_operations.filter_even([5, 3, 4, 8])\n",
    "print(avg, evens)"
   ]
  },
  {
   "cell_type": "code",
   "execution_count": 2,
   "metadata": {},
   "outputs": [
    {
     "name": "stdout",
     "output_type": "stream",
     "text": [
      "5.0 [4, 8] [8, 4, 3, 5] [5, 3, 4, 8, 2, 1, 6, 7]\n"
     ]
    }
   ],
   "source": [
    "from list_operations import * # This * import all the function or attributes which are present inside the module list_operation\n",
    "\n",
    "avg = list_operations.find_average([5, 3, 4, 8])\n",
    "evens = list_operations.filter_even([5, 3, 4, 8])\n",
    "reverse = list_operations.reverse_list([5, 3, 4, 8])\n",
    "conc_list = list_operations.concatenate_lists([5, 3, 4, 8],[2, 1, 6, 7])\n",
    "print(avg, evens, reverse, conc_list)"
   ]
  },
  {
   "cell_type": "markdown",
   "metadata": {},
   "source": [
    "#### Import sepecific function from module"
   ]
  },
  {
   "cell_type": "code",
   "execution_count": 3,
   "metadata": {},
   "outputs": [
    {
     "name": "stdout",
     "output_type": "stream",
     "text": [
      "[6, 8, 0]\n"
     ]
    }
   ],
   "source": [
    "from list_operations import filter_even #  fliter_even is a function which is present inside list_operation module.\n",
    "\n",
    "evens = filter_even([3, 5, 6, 7, 8, 0]) # So it can be directly used.\n",
    "print(evens)"
   ]
  },
  {
   "cell_type": "markdown",
   "metadata": {},
   "source": [
    "#### Importing module as alias."
   ]
  },
  {
   "cell_type": "code",
   "execution_count": 4,
   "metadata": {},
   "outputs": [
    {
     "name": "stdout",
     "output_type": "stream",
     "text": [
      "[6, 7, 2, 5]\n"
     ]
    }
   ],
   "source": [
    "import list_operations as op # 'op' is an alias of list_operations module (can be said as a short form of module name)\n",
    " \n",
    "reverse = op.reverse_list([5, 2, 7, 6]) # Instead of using complete name of the module we can simply use op.\n",
    "print(reverse)"
   ]
  },
  {
   "cell_type": "markdown",
   "metadata": {},
   "source": [
    "#### The dir() function"
   ]
  },
  {
   "cell_type": "code",
   "execution_count": 8,
   "metadata": {},
   "outputs": [
    {
     "name": "stdout",
     "output_type": "stream",
     "text": [
      "['__builtins__', '__cached__', '__doc__', '__file__', '__loader__', '__name__', '__package__', '__spec__', 'concatenate_lists', 'filter_even', 'find_average', 'reverse_list']\n"
     ]
    }
   ],
   "source": [
    "import list_operations\n",
    "print(dir(list_operations)) # This function returns a list of all the functions or attriutes which are present inside the module."
   ]
  },
  {
   "cell_type": "markdown",
   "metadata": {},
   "source": [
    "#### The help() function"
   ]
  },
  {
   "cell_type": "code",
   "execution_count": 9,
   "metadata": {},
   "outputs": [
    {
     "name": "stdout",
     "output_type": "stream",
     "text": [
      "Help on module list_operations:\n",
      "\n",
      "NAME\n",
      "    list_operations\n",
      "\n",
      "FUNCTIONS\n",
      "    concatenate_lists(list1, list2)\n",
      "\n",
      "    filter_even(numbers)\n",
      "\n",
      "    find_average(numbers)\n",
      "\n",
      "    reverse_list(input_list)\n",
      "\n",
      "FILE\n",
      "    d:\\ricr-ds1\\ricr - notes\\ricr - modules class notebook\\list_operations.py\n",
      "\n",
      "\n"
     ]
    }
   ],
   "source": [
    "help(list_operations) # This functions returns a brief summary of the module or can be said as documentation."
   ]
  },
  {
   "cell_type": "code",
   "execution_count": null,
   "metadata": {},
   "outputs": [],
   "source": []
  }
 ],
 "metadata": {
  "kernelspec": {
   "display_name": "Python 3",
   "language": "python",
   "name": "python3"
  },
  "language_info": {
   "codemirror_mode": {
    "name": "ipython",
    "version": 3
   },
   "file_extension": ".py",
   "mimetype": "text/x-python",
   "name": "python",
   "nbconvert_exporter": "python",
   "pygments_lexer": "ipython3",
   "version": "3.12.3"
  }
 },
 "nbformat": 4,
 "nbformat_minor": 2
}
