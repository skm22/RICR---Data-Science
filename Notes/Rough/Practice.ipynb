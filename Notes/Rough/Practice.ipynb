{
 "cells": [
  {
   "cell_type": "code",
   "execution_count": 3,
   "metadata": {},
   "outputs": [
    {
     "name": "stdout",
     "output_type": "stream",
     "text": [
      "HellO WorlD FroM PythoN\n"
     ]
    }
   ],
   "source": [
    "# Q8. Write a Python program to capitalize the first and last character of every word in a given string.\n",
    "# Input: \"hello world from python\"\n",
    "# Output: \"HellO WorlD FroM PythoN\"\n",
    "\n",
    "x = \"hello world from python\"\n",
    "l = x.split()\n",
    "lst = []\n",
    "for i in l:\n",
    "    s = i[0].upper() + i[1:-1] + i[-1].upper()\n",
    "    lst.append(s)\n",
    "res = ' '.join(lst)\n",
    "print(res)"
   ]
  },
  {
   "cell_type": "code",
   "execution_count": 5,
   "metadata": {},
   "outputs": [
    {
     "name": "stdout",
     "output_type": "stream",
     "text": [
      "{1, 2, 3}\n",
      "{8, 7}\n"
     ]
    }
   ],
   "source": [
    "# Q3. Given two lists, find the missing and additional values in both the lists. Examples:\n",
    "# Input: list1 = [1, 2, 3, 4, 5, 6]\n",
    "#     \tlist2 = [4, 5, 6, 7, 8]\n",
    "# Output: Missing values in list1 = [8, 7]\n",
    "#      \tAdditional values in list1 = [1, 2, 3]\n",
    "#      \tMissing values in list2 = [1, 2, 3]\n",
    "#      \tAdditional values in list2 = [7, 8]\n",
    "\n",
    "\n",
    "list1 = [1, 2, 3, 4, 5, 6]\n",
    "list2 = [4, 5, 6, 7, 8]\n",
    "\n",
    "s1 = set(list1)\n",
    "s2 = set(list2)\n",
    "\n",
    "print(s1-s2)\n",
    "print(s2-s1)"
   ]
  },
  {
   "cell_type": "code",
   "execution_count": 6,
   "metadata": {},
   "outputs": [
    {
     "name": "stdout",
     "output_type": "stream",
     "text": [
      "cb\n",
      "gf\n",
      "cbgf\n"
     ]
    }
   ],
   "source": [
    "# Q4. Two strings are given and you have to modify both the string such that all the common characters have to be removed and the uncommon characters of the 2nd string have to be concatenated with the uncommon characters of the 1st string.\n",
    " \n",
    "# Examples:\n",
    "# Input : S1 = “aacdb”, S2 = “gafd”\n",
    "# Output : “cbgf”\n",
    "# Input : S1 = “abcs”;, S2 = “cxzca”;\n",
    "# Output : “bsxz”\n",
    "\n",
    "s1 = \"aacdb\" \n",
    "s2 = \"gafd\"\n",
    "\n",
    "set1 = set(s1)\n",
    "set2 = set(s2)\n",
    "\n",
    "co = set1 & set2\n",
    "\n",
    "new_s1 = ''\n",
    "for i in s1:\n",
    "    if i not in co:\n",
    "        new_s1 += i\n",
    "\n",
    "new_s2 = ''\n",
    "for i in s2:\n",
    "    if i not in co:\n",
    "        new_s2 += i\n",
    "\n",
    "print(new_s1)\n",
    "print(new_s2)\n",
    "print(new_s1 + new_s2)"
   ]
  },
  {
   "cell_type": "code",
   "execution_count": null,
   "metadata": {},
   "outputs": [
    {
     "name": "stdout",
     "output_type": "stream",
     "text": [
      "[['python', 1, 3, 4], ['for', 7, 6], ['Data_Scicence', 4, 5]]\n"
     ]
    }
   ],
   "source": [
    "# Q26. Write a python program which convert given dictionary to list of lists.\n",
    "# \tDict_1 = {'python': [1, 3, 4], 'for': [7, 6], 'Data_Scicence': [4, 5]}\n",
    "# Output: [['python', 1, 3, 4], ['for', 7, 6], ['Data_Science', 4, 5]]\n",
    "\n",
    "\n",
    "Dict_1 = {'python': [1, 3, 4], 'for': [7, 6], 'Data_Scicence': [4, 5]}\n",
    "lst = []\n",
    "for k,v in Dict_1.items():\n",
    "    v.insert(0,k)\n",
    "    lst.append(v)\n",
    "print(lst)"
   ]
  },
  {
   "cell_type": "code",
   "execution_count": null,
   "metadata": {},
   "outputs": [
    {
     "name": "stdout",
     "output_type": "stream",
     "text": [
      "{'b': 1, 'a': 3, 'n': 2}\n"
     ]
    }
   ],
   "source": [
    "# Q28: Write a Python program to count the frequency of each character in the string 'banana' and store it in a dictionary.\n",
    "# Output: {'b': 1, 'a': 3, 'n': 2}\n",
    "\n",
    "d = {}\n",
    "\n",
    "s = 'banana'\n",
    "for i in s:\n",
    "    d[i] = s.count(i)\n",
    "    \n",
    "print(d)"
   ]
  },
  {
   "cell_type": "code",
   "execution_count": null,
   "metadata": {},
   "outputs": [
    {
     "name": "stdout",
     "output_type": "stream",
     "text": [
      "{85: 'Alice', 90: 'Bob', 80: 'Charlie'}\n"
     ]
    }
   ],
   "source": [
    "# Q29: Write a Python program to reverse the key-value pairs in the given dictionary (i.e., keys become values and values become keys), then print the reversed dictionary.\n",
    "# \tstudent_info = {'Alice': 85, 'Bob': 90, 'Charlie': 80}\n",
    "# Output: {85: 'Alice', 90: 'Bob', 80: 'Charlie'}\n",
    "\n",
    "\n",
    "student_info = {'Alice': 85, 'Bob': 90, 'Charlie': 80}\n",
    "# d = {v:k for k,v in student_info.items()}\n",
    "# print(d)\n",
    "\n",
    "# d = {}\n",
    "# for k,v in student_info.items():\n",
    "#     d[v] = k\n",
    "# print(d)"
   ]
  },
  {
   "cell_type": "code",
   "execution_count": 5,
   "metadata": {},
   "outputs": [
    {
     "name": "stdout",
     "output_type": "stream",
     "text": [
      "HellO WorlD FroM PythoN\n"
     ]
    }
   ],
   "source": [
    "a = \"hello world from python\"\n",
    "s = a.split()\n",
    "new_lst = []\n",
    "for i in s:\n",
    "    new_s = ''\n",
    "    new_s = i[0].upper() + i[1:-1]  + i[-1].upper()\n",
    "    new_lst.append(new_s)\n",
    "res = ' '.join(new_lst)\n",
    "print(res)"
   ]
  },
  {
   "cell_type": "code",
   "execution_count": 6,
   "metadata": {},
   "outputs": [
    {
     "name": "stdout",
     "output_type": "stream",
     "text": [
      "HellO WorlD FroM PythoN\n"
     ]
    }
   ],
   "source": [
    "def f(a):\n",
    "    s = a.split()\n",
    "    new_lst = []\n",
    "    for i in s:\n",
    "        new_s = ''\n",
    "        new_s = i[0].upper() + i[1:-1]  + i[-1].upper()\n",
    "        new_lst.append(new_s)\n",
    "    res = ' '.join(new_lst)\n",
    "    return res\n",
    "a = \"hello world from python\"\n",
    "ans = f(a)\n",
    "print(ans)"
   ]
  },
  {
   "cell_type": "code",
   "execution_count": 7,
   "metadata": {},
   "outputs": [
    {
     "name": "stdout",
     "output_type": "stream",
     "text": [
      "True\n"
     ]
    }
   ],
   "source": [
    "A = {4,5}\n",
    "B = {1,2,3,4,5}\n",
    "print(A.issubset(B))"
   ]
  },
  {
   "cell_type": "code",
   "execution_count": 9,
   "metadata": {},
   "outputs": [
    {
     "name": "stdout",
     "output_type": "stream",
     "text": [
      "True\n"
     ]
    }
   ],
   "source": [
    "def f(a,b):\n",
    "    x = a.issubset(b)\n",
    "    return x\n",
    "\n",
    "A = {4,5}\n",
    "B = {1,2,3,4,5}\n",
    "ans = f(A,B)\n",
    "print(ans)"
   ]
  },
  {
   "cell_type": "code",
   "execution_count": 10,
   "metadata": {},
   "outputs": [
    {
     "name": "stdout",
     "output_type": "stream",
     "text": [
      "{1, 2, 3}\n",
      "{8, 7}\n"
     ]
    }
   ],
   "source": [
    "list1 = [1, 2, 3, 4, 5, 6]\n",
    "list2 = [4, 5, 6, 7, 8]\n",
    "\n",
    "s1 = set(list1)\n",
    "s2 = set(list2)\n",
    "\n",
    "print(s1-s2)\n",
    "print(s2-s1)"
   ]
  },
  {
   "cell_type": "code",
   "execution_count": 11,
   "metadata": {},
   "outputs": [
    {
     "name": "stdout",
     "output_type": "stream",
     "text": [
      "{1, 2, 3}\n",
      "{8, 7}\n"
     ]
    }
   ],
   "source": [
    "def f(list1,list2):\n",
    "    s1 = set(list1)\n",
    "    s2 = set(list2)\n",
    "\n",
    "    print(s1-s2)\n",
    "    print(s2-s1)\n",
    "\n",
    "list1 = [1, 2, 3, 4, 5, 6]\n",
    "list2 = [4, 5, 6, 7, 8]\n",
    "\n",
    "f(list1,list2)"
   ]
  },
  {
   "cell_type": "code",
   "execution_count": 14,
   "metadata": {},
   "outputs": [
    {
     "name": "stdout",
     "output_type": "stream",
     "text": [
      "cb\n",
      "gf\n",
      "cbgf\n"
     ]
    }
   ],
   "source": [
    "s1 = \"aacdb\"\n",
    "s2 = \"gafd\"\n",
    "\n",
    "set1 = set(s1)\n",
    "set2 = set(s2)\n",
    "\n",
    "co = set1 & set2\n",
    "\n",
    "new_s1 = ''\n",
    "for i in s1:\n",
    "    if i not in co:\n",
    "        new_s1 += i\n",
    "\n",
    "new_s2 = ''\n",
    "for i in s2:\n",
    "    if i not in co:\n",
    "        new_s2 += i\n",
    "\n",
    "\n",
    "print(new_s1)\n",
    "print(new_s2)\n",
    "ans = new_s1 + new_s2\n",
    "print(ans)"
   ]
  },
  {
   "cell_type": "code",
   "execution_count": 17,
   "metadata": {},
   "outputs": [
    {
     "name": "stdout",
     "output_type": "stream",
     "text": [
      "True\n"
     ]
    }
   ],
   "source": [
    "D = {}\n",
    "print(not bool(D))"
   ]
  },
  {
   "cell_type": "code",
   "execution_count": 20,
   "metadata": {},
   "outputs": [
    {
     "name": "stdout",
     "output_type": "stream",
     "text": [
      "Charlie\n"
     ]
    }
   ],
   "source": [
    "student_grade = {'Alice': 85, 'Bob': 90, 'Charlie': 78}\n",
    "a = student_grade.keys()\n",
    "n = int(input())\n",
    "lst = list(a)\n",
    "print(lst[n])"
   ]
  },
  {
   "cell_type": "code",
   "execution_count": 21,
   "metadata": {},
   "outputs": [
    {
     "name": "stdout",
     "output_type": "stream",
     "text": [
      "Charlie\n"
     ]
    }
   ],
   "source": [
    "def f(n):\n",
    "    student_grade = {'Alice': 85, 'Bob': 90, 'Charlie': 78}\n",
    "    a = student_grade.keys()\n",
    "    lst = list(a)\n",
    "    print(lst[n])\n",
    "\n",
    "n = int(input())\n",
    "f(n)"
   ]
  },
  {
   "cell_type": "code",
   "execution_count": 1,
   "metadata": {},
   "outputs": [
    {
     "name": "stdout",
     "output_type": "stream",
     "text": [
      "{'i': 1}\n"
     ]
    }
   ],
   "source": [
    "n = input()\n",
    "d = {}\n",
    "for i in n:\n",
    "    d[i] = n.count(i)\n",
    "print(d)"
   ]
  }
 ],
 "metadata": {
  "kernelspec": {
   "display_name": ".venv",
   "language": "python",
   "name": "python3"
  },
  "language_info": {
   "codemirror_mode": {
    "name": "ipython",
    "version": 3
   },
   "file_extension": ".py",
   "mimetype": "text/x-python",
   "name": "python",
   "nbconvert_exporter": "python",
   "pygments_lexer": "ipython3",
   "version": "3.13.0"
  }
 },
 "nbformat": 4,
 "nbformat_minor": 2
}
