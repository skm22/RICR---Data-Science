{
 "cells": [
  {
   "cell_type": "markdown",
   "id": "d51bc857",
   "metadata": {},
   "source": [
    "# list"
   ]
  },
  {
   "cell_type": "markdown",
   "id": "e8fdc814",
   "metadata": {},
   "source": [
    "A list in Python is an ordered collection of items that can store multiple elements."
   ]
  },
  {
   "cell_type": "markdown",
   "id": "a66000ca",
   "metadata": {},
   "source": [
    "### features of list data structure"
   ]
  },
  {
   "cell_type": "markdown",
   "id": "999f3e30",
   "metadata": {},
   "source": [
    "-> List is one of the Sequence Data structure\n",
    "\n",
    "-> Lists are collection of items (Strings, integers or even other lists)\n",
    "\n",
    "-> Lists are enclosed in [ ]\n",
    "\n",
    "-> Each item in the list has an assigned index value.\n",
    "\n",
    "-> Each item in a list is separated by a comma\n",
    "\n",
    "-> Lists are mutable, which means they can be changed."
   ]
  },
  {
   "cell_type": "markdown",
   "id": "7986c3ac",
   "metadata": {},
   "source": [
    "### CREATING LIST"
   ]
  },
  {
   "cell_type": "code",
   "execution_count": null,
   "id": "a7222515",
   "metadata": {},
   "outputs": [
    {
     "name": "stdout",
     "output_type": "stream",
     "text": [
      "<class 'list'>\n",
      "<class 'list'>\n",
      "['one', 'two', 'three', 'four']\n",
      "[1, 2, 3, 4]\n",
      "[[1, 3, 5, 6, 2], [3, 4]]\n",
      "[1, 'ramu', True, 1.24]\n"
     ]
    }
   ],
   "source": [
    "x=[2,3,4,6,'hii']\n",
    "print(type(x))\n",
    "y=''\n",
    "#Creating empty list\n",
    "emptyList = []\n",
    "print(type(emptyList))\n",
    "\n",
    "# list of strings\n",
    "lst_str = ['one', 'two', 'three', 'four'] \n",
    "print(lst_str)\n",
    "#list of integers\n",
    "lst_int = [1, 2, 3, 4] \n",
    "print(lst_int)\n",
    " # list of lists\n",
    "lst_list = [[1,3,5,6, 2], [3, 4]]\n",
    "print(lst_list)\n",
    "\n",
    "# list of mixed datatypes\n",
    "lst_mixed = [1, 'ramu', True, 1.24] \n",
    "print(lst_mixed)"
   ]
  },
  {
   "cell_type": "code",
   "execution_count": 4,
   "id": "fb50bd90",
   "metadata": {},
   "outputs": [
    {
     "name": "stdout",
     "output_type": "stream",
     "text": [
      "5\n"
     ]
    }
   ],
   "source": [
    "x=5\n",
    "print(x)"
   ]
  },
  {
   "cell_type": "markdown",
   "id": "4d426893",
   "metadata": {},
   "source": [
    "### Accessing elements"
   ]
  },
  {
   "cell_type": "markdown",
   "id": "e04952bd",
   "metadata": {},
   "source": [
    "Each item in the list has an assigned index value starting from 0.\n",
    "\n",
    "Accessing elements in a list is called indexing."
   ]
  },
  {
   "cell_type": "code",
   "execution_count": null,
   "id": "5cbee2e2",
   "metadata": {},
   "outputs": [
    {
     "name": "stdout",
     "output_type": "stream",
     "text": [
      "banana\n",
      "banana\n"
     ]
    }
   ],
   "source": [
    "# Accessing List Elements\n",
    "# indexing is used for accessing element of list\n",
    "fruits=[\"apple\",\"banana\",\"cherry\",\"kiwi\",\"guava\"]\n",
    "print(fruits[1])\n",
    "print(fruits[-4])"
   ]
  },
  {
   "cell_type": "code",
   "execution_count": 14,
   "id": "da79e77b",
   "metadata": {},
   "outputs": [
    {
     "name": "stdout",
     "output_type": "stream",
     "text": [
      "5\n",
      "12\n"
     ]
    }
   ],
   "source": [
    "lst=[2,3,5,7,9,12,15]\n",
    "print(lst[2])\n",
    "print(lst[-2])"
   ]
  },
  {
   "cell_type": "raw",
   "id": "bf5892cf",
   "metadata": {},
   "source": [
    "        POSITIVE INDEXING\n",
    "        \n",
    "   0  ,     1    ,    2   ,   3   ,   4  \n",
    "   \n",
    "[\"apple\",\"banana\",\"cherry\",\"kiwi\",\"gauva\"]\n",
    "\n",
    "  -5  ,     -4   ,   -3    , -2   , -1\n",
    "  \n",
    "        NEGATIVE INDEXING"
   ]
  },
  {
   "cell_type": "code",
   "execution_count": 8,
   "id": "6ae66032",
   "metadata": {},
   "outputs": [
    {
     "name": "stdout",
     "output_type": "stream",
     "text": [
      "apple\n",
      "cherry\n",
      "guava\n",
      "guava\n"
     ]
    }
   ],
   "source": [
    "fruits=[\"apple\",\"banana\",\"cherry\",\"kiwi\",\"guava\"]\n",
    "print(fruits[0])\n",
    "print(fruits[2])\n",
    "print(fruits[4])\n",
    "print(fruits[-1])"
   ]
  },
  {
   "cell_type": "code",
   "execution_count": 17,
   "id": "27c8d13d",
   "metadata": {},
   "outputs": [
    {
     "name": "stdout",
     "output_type": "stream",
     "text": [
      "Vidisha\n",
      "Vidisha\n",
      "Bhopal\n"
     ]
    }
   ],
   "source": [
    "city = ['Bhopal' , 'Vidisha' , 'Gwalior']\n",
    "print(city[-2])\n",
    "print(city[1])\n",
    "print(city[0])"
   ]
  },
  {
   "cell_type": "markdown",
   "id": "965ba6d5",
   "metadata": {},
   "source": [
    "## list slicing"
   ]
  },
  {
   "cell_type": "markdown",
   "id": "1d8a5776",
   "metadata": {},
   "source": [
    "Accessing parts of segments is called slicing.\n",
    "\n",
    "The key point to remember is that the :end value represents the first value that is not in the selected slice."
   ]
  },
  {
   "cell_type": "markdown",
   "id": "17312fb3",
   "metadata": {},
   "source": [
    "The basic syntax for slicing a list is:"
   ]
  },
  {
   "cell_type": "raw",
   "id": "67ba7e67",
   "metadata": {
    "vscode": {
     "languageId": "raw"
    }
   },
   "source": [
    "list[start:stop:step]"
   ]
  },
  {
   "cell_type": "raw",
   "id": "4a4d2a40",
   "metadata": {},
   "source": [
    "start: This is where you want the slice to begin. The item at this position is included in the slice.\n",
    "stop: This is where you want the slice to end. The item at this position is not included in the slice.\n",
    "step: This is the gap between each item in the slice. For example, a step of 2 means you take every second item."
   ]
  },
  {
   "cell_type": "code",
   "execution_count": null,
   "id": "0e822dc7",
   "metadata": {},
   "outputs": [
    {
     "name": "stdout",
     "output_type": "stream",
     "text": [
      "[10, 20, 30, 40, 50, 60, 70, 80, 34, 56, 98, 12]\n",
      "[10, 20, 30, 40]\n",
      "[20, 40, 60, 80]\n",
      "[12, 98, 56, 34, 80, 70, 60, 50, 40, 30, 20, 10]\n",
      "[10, 40]\n",
      "[60, 34, 12]\n",
      "[10, 60, 98]\n",
      "[12, 34, 60]\n",
      "[]\n",
      "[]\n"
     ]
    }
   ],
   "source": [
    "numbers = [10,20,30,40,50,60,70,80,34,56,98,12]\n",
    "print(numbers[:])\n",
    "print(numbers[0:4])\n",
    "print(numbers[1:8:2])  \n",
    "print(numbers[::-1])  \n",
    "print(numbers[:5:3])\n",
    "print(numbers[5::3])\n",
    "print(numbers[::5])\n",
    "print(numbers[:3:-3])\n",
    "print(numbers[1:9:-2])\n",
    "print(numbers[9:1:3])"
   ]
  },
  {
   "cell_type": "code",
   "execution_count": 1,
   "id": "c89cedbc",
   "metadata": {},
   "outputs": [
    {
     "name": "stdout",
     "output_type": "stream",
     "text": [
      "['guava', 'kiwi', 'cherry', 'banana', 'apple']\n"
     ]
    }
   ],
   "source": [
    "fruits=[\"apple\",\"banana\",\"cherry\",\"kiwi\",\"guava\"]\n",
    "print(fruits[::-1])"
   ]
  },
  {
   "cell_type": "code",
   "execution_count": null,
   "id": "cef496a7",
   "metadata": {},
   "outputs": [],
   "source": []
  },
  {
   "cell_type": "code",
   "execution_count": null,
   "metadata": {},
   "outputs": [],
   "source": []
  },
  {
   "cell_type": "markdown",
   "id": "047784d0",
   "metadata": {},
   "source": [
    "#  Update List"
   ]
  },
  {
   "cell_type": "code",
   "execution_count": 5,
   "id": "2273814f",
   "metadata": {},
   "outputs": [],
   "source": [
    "fruits=[\"apple\",\"banana\",\"cherry\",\"kiwi\",\"guava\"]"
   ]
  },
  {
   "cell_type": "markdown",
   "id": "c3e99d17",
   "metadata": {},
   "source": [
    "method 1"
   ]
  },
  {
   "cell_type": "code",
   "execution_count": 9,
   "id": "bb3aa8a8",
   "metadata": {},
   "outputs": [
    {
     "name": "stdout",
     "output_type": "stream",
     "text": [
      "['apple', 'banana', 'cherry', 'watermelon', 'guava']\n"
     ]
    }
   ],
   "source": [
    "fruits[3] = 'watermelon'\n",
    "print(fruits)"
   ]
  },
  {
   "cell_type": "markdown",
   "id": "67b29aac",
   "metadata": {},
   "source": [
    "method 2    (.append())"
   ]
  },
  {
   "cell_type": "code",
   "execution_count": 14,
   "id": "6faa0c88",
   "metadata": {},
   "outputs": [
    {
     "name": "stdout",
     "output_type": "stream",
     "text": [
      "['apple', 'banana', 'cherry', 'kiwi', 'guava']\n"
     ]
    }
   ],
   "source": [
    "print(fruits)"
   ]
  },
  {
   "cell_type": "code",
   "execution_count": 15,
   "id": "885e7a2e",
   "metadata": {},
   "outputs": [
    {
     "name": "stdout",
     "output_type": "stream",
     "text": [
      "['apple', 'banana', 'cherry', 'kiwi', 'guava', 'orange']\n"
     ]
    }
   ],
   "source": [
    "\n",
    "fruits.append(\"orange\") #Add an item to the end\n",
    "print(fruits)"
   ]
  },
  {
   "cell_type": "markdown",
   "id": "cbc0262a",
   "metadata": {},
   "source": [
    "method 3    (insert())"
   ]
  },
  {
   "cell_type": "code",
   "execution_count": 20,
   "id": "55693584",
   "metadata": {},
   "outputs": [
    {
     "name": "stdout",
     "output_type": "stream",
     "text": [
      "['watermelon', 'apple', 'banana', 'cherry', 'kiwi', 'guava']\n"
     ]
    }
   ],
   "source": [
    "fruits=[\"apple\",\"banana\",\"cherry\",\"kiwi\",\"guava\"]\n",
    "fruits.insert(0,\"watermelon\") #add element at the given index\n",
    "print(fruits)"
   ]
  },
  {
   "cell_type": "markdown",
   "id": "b636a822",
   "metadata": {},
   "source": [
    "method 4 (extend())"
   ]
  },
  {
   "cell_type": "code",
   "execution_count": 11,
   "id": "eaddea75",
   "metadata": {},
   "outputs": [
    {
     "name": "stdout",
     "output_type": "stream",
     "text": [
      "[4, 5, 6, 1, 2, 3]\n"
     ]
    }
   ],
   "source": [
    "list1 = [1, 2, 3]\n",
    "list2 = [4, 5, 6]\n",
    "\n",
    "# list1.extend(5) #iterable: Any iterable (list, tuple, set, etc.) whose elements will be added to the list.\n",
    "list2.extend(list1)\n",
    "\n",
    "print(list2)"
   ]
  },
  {
   "cell_type": "markdown",
   "id": "e487fd45",
   "metadata": {},
   "source": [
    "# deleting  elements from the list\n"
   ]
  },
  {
   "cell_type": "markdown",
   "id": "31292546",
   "metadata": {},
   "source": [
    "method 1 - using del keyword"
   ]
  },
  {
   "cell_type": "code",
   "execution_count": 3,
   "id": "de2fb5be",
   "metadata": {},
   "outputs": [
    {
     "ename": "NameError",
     "evalue": "name 'lst' is not defined",
     "output_type": "error",
     "traceback": [
      "\u001b[1;31m---------------------------------------------------------------------------\u001b[0m",
      "\u001b[1;31mNameError\u001b[0m                                 Traceback (most recent call last)",
      "Cell \u001b[1;32mIn[3], line 8\u001b[0m\n\u001b[0;32m      5\u001b[0m \u001b[38;5;66;03m# del lst[2]\u001b[39;00m\n\u001b[0;32m      6\u001b[0m \u001b[38;5;66;03m# print(lst)\u001b[39;00m\n\u001b[0;32m      7\u001b[0m \u001b[38;5;28;01mdel\u001b[39;00m lst\n\u001b[1;32m----> 8\u001b[0m \u001b[38;5;28mprint\u001b[39m(\u001b[43mlst\u001b[49m)\n",
      "\u001b[1;31mNameError\u001b[0m: name 'lst' is not defined"
     ]
    }
   ],
   "source": [
    "#using del keywords\n",
    "\n",
    "lst = ['one', 'two', 'three', 'four']\n",
    "\n",
    "# del lst[2]\n",
    "# print(lst)\n",
    "del lst\n",
    "print(lst)"
   ]
  },
  {
   "cell_type": "markdown",
   "id": "d505d8a8",
   "metadata": {},
   "source": [
    "method 2 - using pop() method"
   ]
  },
  {
   "cell_type": "code",
   "execution_count": 6,
   "id": "3d549cc5",
   "metadata": {},
   "outputs": [
    {
     "name": "stdout",
     "output_type": "stream",
     "text": [
      "['one', 'two', 'three', 'five']\n",
      "four\n"
     ]
    }
   ],
   "source": [
    "lst = ['one', 'two', 'three', 'four', 'five']\n",
    "#we can delete element using pop from the given index , pop return the deleted element\n",
    "a = lst.pop(3)\n",
    "print(lst)\n",
    "print(a)"
   ]
  },
  {
   "cell_type": "markdown",
   "id": "a0073055",
   "metadata": {},
   "source": [
    "method 3 - using remove() method"
   ]
  },
  {
   "cell_type": "code",
   "execution_count": 8,
   "id": "8e16dce8",
   "metadata": {},
   "outputs": [
    {
     "name": "stdout",
     "output_type": "stream",
     "text": [
      "[1, 3, 5, 7, 1, 1, 19, 11, 3, 5, 'ji']\n",
      "[3, 5, 7, 1, 1, 19, 11, 3, 5, 'ji']\n"
     ]
    }
   ],
   "source": [
    "#remove the first occurence of given an item from list\n",
    "lst=[1,3,5,7,1,1,19,11,3,5,'ji']\n",
    "print(lst)\n",
    "lst.remove(1)\n",
    "print(lst)"
   ]
  },
  {
   "cell_type": "markdown",
   "id": "c02d2b31",
   "metadata": {},
   "source": [
    "### List methods"
   ]
  },
  {
   "cell_type": "raw",
   "id": "c11e8653",
   "metadata": {},
   "source": [
    "count"
   ]
  },
  {
   "cell_type": "code",
   "execution_count": 31,
   "id": "9e5c35c1",
   "metadata": {},
   "outputs": [
    {
     "name": "stdout",
     "output_type": "stream",
     "text": [
      "3\n"
     ]
    }
   ],
   "source": [
    "#The count method in a list is used to count the number of times a specific element appears in the list\n",
    "numbers = [1, 2, 2, 3, 4, 4, 4, 5]\n",
    "print(numbers.count(4))"
   ]
  },
  {
   "cell_type": "raw",
   "id": "c1c46b72",
   "metadata": {},
   "source": [
    "reverse"
   ]
  },
  {
   "cell_type": "code",
   "execution_count": null,
   "id": "539531aa",
   "metadata": {},
   "outputs": [
    {
     "name": "stdout",
     "output_type": "stream",
     "text": [
      "[1, 2, 2, 3, 4, 4, 4, 5]\n"
     ]
    }
   ],
   "source": [
    "#reverse is reverses the entire list\n",
    "\n",
    "numbers = [1, 2, 2, 3, 4, 4, 4, 5]\n",
    "\n",
    "# numbers.reverse()\n",
    "numbers[::-1]\n",
    "# print(a)\n",
    "print(numbers)"
   ]
  },
  {
   "cell_type": "raw",
   "id": "9ed7a83a",
   "metadata": {},
   "source": [
    "index"
   ]
  },
  {
   "cell_type": "code",
   "execution_count": 19,
   "id": "f86f24e5",
   "metadata": {},
   "outputs": [
    {
     "data": {
      "text/plain": [
       "0"
      ]
     },
     "execution_count": 19,
     "metadata": {},
     "output_type": "execute_result"
    }
   ],
   "source": [
    "# To check the elemnt is present at which index but make sure the element is presnt in the list\n",
    "\n",
    "lst = [2 , 5  ,'apple',2]\n",
    "lst.index(2)"
   ]
  },
  {
   "cell_type": "raw",
   "id": "48f057a6",
   "metadata": {},
   "source": [
    "List Sorting"
   ]
  },
  {
   "cell_type": "markdown",
   "id": "e625743e",
   "metadata": {},
   "source": [
    "The easiest way to sort a List is with the sorted(list) function.\n",
    "\n",
    "That takes a list and returns a new list with those elements in sorted order.\n",
    "\n",
    "The original list is not changed.\n",
    "\n",
    "The sorted() optional argument reverse=True, e.g. sorted(list, reverse=True), makes it sort backwards."
   ]
  },
  {
   "cell_type": "code",
   "execution_count": 21,
   "id": "cdbccca3",
   "metadata": {},
   "outputs": [
    {
     "name": "stdout",
     "output_type": "stream",
     "text": [
      "Sorted list : [0, 1, 1, 2, 3, 6, 8]\n",
      "Original list:  [3, 1, 6, 2, 8, 1, 0]\n"
     ]
    }
   ],
   "source": [
    "#create a list with numbers\n",
    "numbers = [3, 1, 6, 2, 8 ,1 ,0]\n",
    "\n",
    "s = sorted(numbers)\n",
    "\n",
    "print(\"Sorted list :\", s)\n",
    "\n",
    "#original list remain unchanged\n",
    "print(\"Original list: \", numbers)"
   ]
  },
  {
   "cell_type": "code",
   "execution_count": 22,
   "id": "c619d8d3",
   "metadata": {},
   "outputs": [
    {
     "name": "stdout",
     "output_type": "stream",
     "text": [
      "Reverse sorted list : [8, 6, 3, 2, 1, 1, 0]\n",
      "Original list : [3, 1, 6, 2, 8, 1, 0]\n"
     ]
    }
   ],
   "source": [
    "#print a list in reverse sorted order\n",
    "print(\"Reverse sorted list :\", sorted(numbers, reverse=True))\n",
    "\n",
    "#orginal list remain unchanged\n",
    "print(\"Original list :\",  numbers)"
   ]
  },
  {
   "cell_type": "code",
   "execution_count": 23,
   "id": "32224822",
   "metadata": {},
   "outputs": [
    {
     "name": "stdout",
     "output_type": "stream",
     "text": [
      "Sorted list:  ['kiwi', 'gauva', 'cherry', 'banana', 'apple']\n"
     ]
    }
   ],
   "source": [
    "fruits=[\"apple\",\"banana\",\"cherry\",\"kiwi\",\"gauva\"]\n",
    "#sort the list and stored in itself\n",
    "fruits.sort(reverse=True)\n",
    "print(\"Sorted list: \", fruits)"
   ]
  },
  {
   "cell_type": "code",
   "execution_count": 36,
   "id": "983b304f",
   "metadata": {},
   "outputs": [
    {
     "ename": "TypeError",
     "evalue": "'<' not supported between instances of 'int' and 'str'",
     "output_type": "error",
     "traceback": [
      "\u001b[1;31m---------------------------------------------------------------------------\u001b[0m",
      "\u001b[1;31mTypeError\u001b[0m                                 Traceback (most recent call last)",
      "Cell \u001b[1;32mIn[36], line 2\u001b[0m\n\u001b[0;32m      1\u001b[0m lst \u001b[38;5;241m=\u001b[39m [ \u001b[38;5;124m'\u001b[39m\u001b[38;5;124mram\u001b[39m\u001b[38;5;124m'\u001b[39m , \u001b[38;5;124m'\u001b[39m\u001b[38;5;124mshyam\u001b[39m\u001b[38;5;124m'\u001b[39m , \u001b[38;5;241m0\u001b[39m , \u001b[38;5;241m2.3\u001b[39m ]\n\u001b[1;32m----> 2\u001b[0m \u001b[38;5;28mprint\u001b[39m(\u001b[43mlst\u001b[49m\u001b[38;5;241;43m.\u001b[39;49m\u001b[43msort\u001b[49m\u001b[43m(\u001b[49m\u001b[43m)\u001b[49m) \u001b[38;5;66;03m# sort list with element of different datatypes.\u001b[39;00m\n",
      "\u001b[1;31mTypeError\u001b[0m: '<' not supported between instances of 'int' and 'str'"
     ]
    }
   ],
   "source": [
    "lst = [ 'ram' , 'shyam' , 0 , 2.3 ]\n",
    "print(lst.sort()) # sort list with element of different datatypes."
   ]
  },
  {
   "cell_type": "markdown",
   "id": "c2263229",
   "metadata": {},
   "source": [
    "\n",
    "The sum() function in Python is used to compute the sum of elements in a list (or any iterable). It is straightforward to use and can handle various types of numerical data within the list"
   ]
  },
  {
   "cell_type": "code",
   "execution_count": 37,
   "id": "4a9f2cb6",
   "metadata": {},
   "outputs": [
    {
     "name": "stdout",
     "output_type": "stream",
     "text": [
      "15\n"
     ]
    }
   ],
   "source": [
    "numbers = [1, 2, 3, 4, 5]\n",
    "total = sum(numbers)\n",
    "print(total)  # Output: 15"
   ]
  },
  {
   "cell_type": "markdown",
   "id": "106313d0",
   "metadata": {},
   "source": [
    " The min() function in Python is used to find the smallest element in an iterable (such as a list, tuple, or set). It is straightforward to use and returns the minimum value from the provided sequence"
   ]
  },
  {
   "cell_type": "code",
   "execution_count": 26,
   "id": "df9c4298",
   "metadata": {},
   "outputs": [
    {
     "name": "stdout",
     "output_type": "stream",
     "text": [
      "1\n"
     ]
    }
   ],
   "source": [
    "numbers = [5, 2, 8, 1, 6]\n",
    "min_number = min(numbers)\n",
    "print(min_number)  # Output: 1"
   ]
  },
  {
   "cell_type": "markdown",
   "id": "a12c48b2",
   "metadata": {},
   "source": [
    "len()"
   ]
  },
  {
   "cell_type": "code",
   "execution_count": 40,
   "id": "2a195010",
   "metadata": {},
   "outputs": [
    {
     "name": "stdout",
     "output_type": "stream",
     "text": [
      "5\n"
     ]
    }
   ],
   "source": [
    "numbers = [5, 2, 8, 1, 6]\n",
    "print(len(numbers))"
   ]
  },
  {
   "cell_type": "markdown",
   "id": "18e5fa67",
   "metadata": {},
   "source": [
    "# List operation"
   ]
  },
  {
   "cell_type": "markdown",
   "id": "f073b1ed",
   "metadata": {},
   "source": [
    "List extend using \"+\""
   ]
  },
  {
   "cell_type": "code",
   "execution_count": 1,
   "id": "e520b3be",
   "metadata": {},
   "outputs": [
    {
     "name": "stdout",
     "output_type": "stream",
     "text": [
      "['python', 'programming', 1, 2, 3, 4]\n"
     ]
    }
   ],
   "source": [
    "lst1 = [1, 2, 3, 4]\n",
    "lst2 = ['python' , 'programming' ]\n",
    "new_lst = lst2 + lst1\n",
    "\n",
    "print(new_lst)"
   ]
  },
  {
   "cell_type": "markdown",
   "id": "2d429a44",
   "metadata": {},
   "source": [
    "List repeatation using '*'"
   ]
  },
  {
   "cell_type": "code",
   "execution_count": 3,
   "id": "6d82af9a",
   "metadata": {},
   "outputs": [
    {
     "name": "stdout",
     "output_type": "stream",
     "text": [
      "[1, 2, 4, 1, 2, 4, 1, 2, 4, 1, 2, 4]\n"
     ]
    }
   ],
   "source": [
    "lst = [1,2,4]\n",
    "lst1= lst*4\n",
    "print(lst1)"
   ]
  },
  {
   "cell_type": "markdown",
   "id": "ac537a98",
   "metadata": {},
   "source": [
    "### Membership operation"
   ]
  },
  {
   "cell_type": "markdown",
   "id": "38c513ab",
   "metadata": {},
   "source": [
    "Membership operations in Python allow you to check if a specific element is present in a list. This is done using the in and not in operators."
   ]
  },
  {
   "cell_type": "markdown",
   "id": "91b05b42",
   "metadata": {},
   "source": [
    "element in list: Returns True if the element is in the list, otherwise False.\n",
    "    \n",
    "element not in list: Returns True if the element is not in the list, otherwise False."
   ]
  },
  {
   "cell_type": "code",
   "execution_count": 23,
   "id": "99f4909b",
   "metadata": {},
   "outputs": [
    {
     "name": "stdout",
     "output_type": "stream",
     "text": [
      "True\n",
      "True\n"
     ]
    }
   ],
   "source": [
    "fruits = [\"apple\", \"banana\", \"cherry\"]\n",
    "print(\"apple\" in fruits)  \n",
    "print(\"orange\" not in fruits)  "
   ]
  },
  {
   "cell_type": "markdown",
   "id": "b8264d9d",
   "metadata": {},
   "source": [
    "# List looping"
   ]
  },
  {
   "cell_type": "code",
   "execution_count": 25,
   "id": "7f175dd0",
   "metadata": {},
   "outputs": [
    {
     "name": "stdout",
     "output_type": "stream",
     "text": [
      "11\n",
      "22\n",
      "3\n",
      "4\n",
      "5\n"
     ]
    }
   ],
   "source": [
    "numbers = [11, 22, 3, 4, 5]\n",
    "for i in numbers:\n",
    "    print(i)"
   ]
  },
  {
   "cell_type": "code",
   "execution_count": 3,
   "id": "6b5286d4",
   "metadata": {},
   "outputs": [
    {
     "name": "stdout",
     "output_type": "stream",
     "text": [
      "11\n",
      "22\n",
      "33\n",
      "4\n",
      "5\n"
     ]
    }
   ],
   "source": [
    "numbers = [11, 22, 33, 4, 5]\n",
    "for i in range(len(numbers)):\n",
    "    print(numbers[i])"
   ]
  },
  {
   "cell_type": "markdown",
   "id": "627b6e14",
   "metadata": {},
   "source": [
    "# List Having Multiple References"
   ]
  },
  {
   "cell_type": "code",
   "execution_count": 4,
   "id": "3846ef06",
   "metadata": {},
   "outputs": [
    {
     "name": "stdout",
     "output_type": "stream",
     "text": [
      "Original list:  [1, 2, 3, 4, 5, 6, 'h']\n"
     ]
    }
   ],
   "source": [
    "lst = [1, 2, 3, 4, 5]\n",
    "abc = lst\n",
    "abc.append(6)\n",
    "lst.append('h')\n",
    "#print original list\n",
    "print(\"Original list: \", abc)"
   ]
  },
  {
   "cell_type": "code",
   "execution_count": 12,
   "id": "522c1ec5",
   "metadata": {},
   "outputs": [
    {
     "name": "stdout",
     "output_type": "stream",
     "text": [
      "[1, 2, 3, 'h', 5, 6, 6]\n",
      "[1, 2, 3, 4, 5, 6, 6]\n"
     ]
    }
   ],
   "source": [
    "#if we want that their will be no change i our orignal list\n",
    "lst = [1 , 2, 3 , 4 , 5 , 6 ,6]\n",
    "abc = lst.copy()\n",
    "lst[3] = 'h'\n",
    "print(lst)\n",
    "print(abc)"
   ]
  },
  {
   "cell_type": "markdown",
   "id": "57b5210f",
   "metadata": {},
   "source": [
    "# list comprehension "
   ]
  },
  {
   "cell_type": "markdown",
   "id": "3075f3ad",
   "metadata": {},
   "source": [
    "List comprehensions provide a concise way to create lists. \n",
    "\n",
    "Common applications are to make new lists where each element is the result of some operations applied to each member of another sequence or iterable, or to create a subsequence of those elements that satisfy a certain condition."
   ]
  },
  {
   "cell_type": "markdown",
   "id": "2e94f722",
   "metadata": {},
   "source": [
    "syntax of list comprehension"
   ]
  },
  {
   "cell_type": "raw",
   "id": "5f1f1899",
   "metadata": {},
   "source": [
    "[\n",
    "    expression        # The value to include in the new list\n",
    "    for item in iterable    # Iterating over each item in the iterable\n",
    "    if condition      # (Optional) A condition to filter items\n",
    "]\n",
    " --------\n",
    " \n",
    "[expression for item in iterable if condition]\n"
   ]
  },
  {
   "cell_type": "markdown",
   "id": "d5fd73df",
   "metadata": {},
   "source": [
    "Using a Regular Loop:\n"
   ]
  },
  {
   "cell_type": "code",
   "execution_count": 13,
   "id": "1cdb9373",
   "metadata": {},
   "outputs": [
    {
     "name": "stdout",
     "output_type": "stream",
     "text": [
      "[4, 16, 36, 64, 100]\n"
     ]
    }
   ],
   "source": [
    "squares = []\n",
    "for x in range(1, 11):\n",
    "    if x % 2 == 0:\n",
    "        squares.append(x**2)\n",
    "print(squares)"
   ]
  },
  {
   "cell_type": "markdown",
   "id": "c419bef8",
   "metadata": {},
   "source": [
    "with list comprehension"
   ]
  },
  {
   "cell_type": "code",
   "execution_count": 14,
   "id": "b4fc6c96",
   "metadata": {},
   "outputs": [
    {
     "name": "stdout",
     "output_type": "stream",
     "text": [
      "[4, 16, 36, 64, 100]\n"
     ]
    }
   ],
   "source": [
    "squares = [x**2 for x in range(1, 11) if x % 2 == 0]\n",
    "print(squares)"
   ]
  },
  {
   "cell_type": "code",
   "execution_count": 15,
   "id": "ffbfd1ca",
   "metadata": {},
   "outputs": [
    {
     "name": "stdout",
     "output_type": "stream",
     "text": [
      "[1, 8, 27, 64, 125]\n"
     ]
    }
   ],
   "source": [
    "numbers = [1, 2, 3, 4, 5]\n",
    "cubes = []\n",
    "for i in numbers:\n",
    "    cubes.append( i ** 3)\n",
    "\n",
    "print(cubes)"
   ]
  },
  {
   "cell_type": "code",
   "execution_count": 6,
   "id": "6a1d1155",
   "metadata": {},
   "outputs": [
    {
     "name": "stdout",
     "output_type": "stream",
     "text": [
      "[1, 8, 27, 64, 125]\n"
     ]
    }
   ],
   "source": [
    "numbers = [1, 2, 3, 4, 5]\n",
    "cubes = [i**3 for i in numbers]\n",
    "print(cubes)"
   ]
  },
  {
   "cell_type": "code",
   "execution_count": 6,
   "id": "802bb8c4",
   "metadata": {},
   "outputs": [
    {
     "data": {
      "text/plain": [
       "[1, 2, 3, 4, 5, 6, 7, 8, 9]"
      ]
     },
     "execution_count": 6,
     "metadata": {},
     "output_type": "execute_result"
    }
   ],
   "source": [
    "numbers = [i for i in range(1,10)]\n",
    "numbers"
   ]
  },
  {
   "cell_type": "code",
   "execution_count": 19,
   "id": "476b8464",
   "metadata": {},
   "outputs": [
    {
     "name": "stdout",
     "output_type": "stream",
     "text": [
      "[1, 3, 5, 7, 9]\n"
     ]
    }
   ],
   "source": [
    "even = [i for i in range(1,11) if i % 2 != 0]\n",
    "print(even)"
   ]
  },
  {
   "cell_type": "code",
   "execution_count": 20,
   "id": "a94f1b7f",
   "metadata": {},
   "outputs": [
    {
     "name": "stdout",
     "output_type": "stream",
     "text": [
      "[1, 4, 9, 16, 25, 36, 49, 64, 81, 100, 121, 144, 169, 196, 225, 256, 289, 324, 361, 400, 441, 484, 529, 576, 625, 676, 729, 784, 841, 900, 961, 1024, 1089, 1156, 1225, 1296, 1369, 1444, 1521, 1600, 1681, 1764, 1849, 1936, 2025, 2116, 2209, 2304, 2401, 2500]\n"
     ]
    }
   ],
   "source": [
    "squares = [i**2 for i in range(1,51)]\n",
    "print(squares)"
   ]
  },
  {
   "cell_type": "code",
   "execution_count": 21,
   "id": "919fa8b7",
   "metadata": {},
   "outputs": [
    {
     "name": "stdout",
     "output_type": "stream",
     "text": [
      "[8, 64, 216, 512, 1000, 1728, 2744, 4096, 5832, 8000, 10648, 13824, 17576, 21952, 27000, 32768, 39304, 46656, 54872, 64000, 74088, 85184, 97336, 110592, 125000]\n"
     ]
    }
   ],
   "source": [
    "squares = [i**3 for i in range(1,51) if i % 2 == 0]\n",
    "print(squares)"
   ]
  },
  {
   "cell_type": "code",
   "execution_count": 22,
   "id": "4b01b238",
   "metadata": {},
   "outputs": [
    {
     "name": "stdout",
     "output_type": "stream",
     "text": [
      "[21, 24, 27, 30, 33, 36, 39]\n"
     ]
    }
   ],
   "source": [
    "num = [i for i in range(20,40) if i % 3 == 0]\n",
    "print(num)"
   ]
  },
  {
   "cell_type": "code",
   "execution_count": 16,
   "id": "56ffa95c",
   "metadata": {},
   "outputs": [
    {
     "name": "stdout",
     "output_type": "stream",
     "text": [
      "[1, 8, 27, 64, 125]\n"
     ]
    }
   ],
   "source": [
    "number = [1,2,3,4,5]\n",
    "cubes = [i**3 for i in number]\n",
    "print(cubes)"
   ]
  },
  {
   "cell_type": "code",
   "execution_count": 23,
   "id": "a8ec97af",
   "metadata": {},
   "outputs": [
    {
     "name": "stdout",
     "output_type": "stream",
     "text": [
      "[1, 4, 9, 16, 25]\n"
     ]
    }
   ],
   "source": [
    "number = [1,2,3,4,5,0,-8,-8,-9,0,6,-5]\n",
    "squares = [i**2 for i in number]\n",
    "print(squares)"
   ]
  },
  {
   "cell_type": "code",
   "execution_count": null,
   "id": "14cc19e1",
   "metadata": {},
   "outputs": [],
   "source": [
    "# Create a list of numbers from 0 to 9\n",
    "numbers = [x for x in range(10)]\n",
    "print(numbers)\n"
   ]
  },
  {
   "cell_type": "code",
   "execution_count": null,
   "id": "d39be61d",
   "metadata": {},
   "outputs": [],
   "source": [
    "\n",
    "numbers = [x + 5 for x in range(10)]\n",
    "print(numbers)\n"
   ]
  },
  {
   "cell_type": "code",
   "execution_count": null,
   "id": "613405be",
   "metadata": {},
   "outputs": [],
   "source": [
    "numbers = [1, 2, 3, 4, 5]\n",
    "squares = [ number ** 3 for number in numbers]\n",
    "\n",
    "print(squares_tuples)\n"
   ]
  },
  {
   "cell_type": "code",
   "execution_count": null,
   "id": "aaabd649",
   "metadata": {},
   "outputs": [],
   "source": [
    "# Create a list of the lengths of each word in the list\n",
    "words = [\"apple\", \"banana\", \"cherry\"]\n",
    "lengths = [len(word) for word in words]\n",
    "print(lengths)"
   ]
  },
  {
   "cell_type": "markdown",
   "id": "364fe673",
   "metadata": {},
   "source": [
    "# String Split to create a list"
   ]
  },
  {
   "cell_type": "code",
   "execution_count": 26,
   "id": "59788999",
   "metadata": {},
   "outputs": [
    {
     "name": "stdout",
     "output_type": "stream",
     "text": [
      "['apple', 'banana', 'cherry', 'date|fig']\n"
     ]
    }
   ],
   "source": [
    "#Splitting a string into a list using a different delimiter\n",
    "s = \"apple banana cherry date|fig\" \n",
    "\n",
    "# Using split() to divide the string into a list\n",
    "fruit_list = s.split('|')\n",
    "\n",
    "# Printing the resulting list\n",
    "print(fruit_list)  # Output: ['apple', 'banana', 'cherry', 'date', 'fig']\n"
   ]
  }
 ],
 "metadata": {
  "kernelspec": {
   "display_name": "Python 3",
   "language": "python",
   "name": "python3"
  },
  "language_info": {
   "codemirror_mode": {
    "name": "ipython",
    "version": 3
   },
   "file_extension": ".py",
   "mimetype": "text/x-python",
   "name": "python",
   "nbconvert_exporter": "python",
   "pygments_lexer": "ipython3",
   "version": "3.12.3"
  }
 },
 "nbformat": 4,
 "nbformat_minor": 5
}
