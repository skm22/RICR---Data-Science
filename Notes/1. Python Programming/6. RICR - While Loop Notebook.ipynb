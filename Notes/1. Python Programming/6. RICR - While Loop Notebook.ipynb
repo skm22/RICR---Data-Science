{
 "cells": [
  {
   "cell_type": "markdown",
   "metadata": {
    "id": "07ksljDtKAHa"
   },
   "source": [
    "# While Loop in Python:"
   ]
  },
  {
   "cell_type": "markdown",
   "metadata": {
    "id": "2OItOHUHKAHb"
   },
   "source": [
    "The while loop in Python is utilized to repeatedly execute a block of code as long as the specified condition remains true."
   ]
  },
  {
   "cell_type": "markdown",
   "metadata": {
    "id": "WWLJzdWHKAHc"
   },
   "source": [
    "## Syntax:"
   ]
  },
  {
   "cell_type": "markdown",
   "metadata": {
    "id": "lnGzbA0QKAHd"
   },
   "source": [
    "    while test_expression:\n",
    "        \n",
    "        Body of while"
   ]
  },
  {
   "cell_type": "markdown",
   "metadata": {
    "id": "Ado-uFWRKAHf"
   },
   "source": [
    "- The loop's body is executed only if the test_expression evaluates to True.\n",
    "\n",
    "- After each iteration, the test_expression is re-evaluated.   \n",
    "\n",
    "- This cycle continues until the test_expression evaluates to False."
   ]
  },
  {
   "cell_type": "markdown",
   "metadata": {
    "id": "F9ALpRDlKAHg"
   },
   "source": [
    "<h3 align=\"center\">\n",
    "  # Flow Chart of while loop\n",
    "</h3>\n",
    "\n",
    "<p align=\"center\">\n",
    "  <img src=\"./Images/whileloop.jpg\" alt=\"Python if statement\" width=\"300\" height=\"350\"/>\n",
    "</p>\n"
   ]
  },
  {
   "cell_type": "markdown",
   "metadata": {
    "id": "x5K-OhLWKAHh"
   },
   "source": [
    "## Example"
   ]
  },
  {
   "cell_type": "code",
   "execution_count": 4,
   "metadata": {
    "id": "hSScsfzjKAHi",
    "outputId": "22fb60e0-a6f2-48ca-d3c4-4598d0b05d31"
   },
   "outputs": [
    {
     "name": "stdout",
     "output_type": "stream",
     "text": [
      "1\n",
      "2\n",
      "3\n",
      "4\n",
      "5\n",
      "6\n",
      "7\n",
      "8\n",
      "9\n",
      "10\n"
     ]
    }
   ],
   "source": [
    "# Write a program to print numbers from 1 to 10 using a while loop.\n",
    "i = 1\n",
    "while i<=10:\n",
    "    print(i)\n",
    "    i += 1"
   ]
  },
  {
   "cell_type": "code",
   "execution_count": 5,
   "metadata": {},
   "outputs": [
    {
     "name": "stdout",
     "output_type": "stream",
     "text": [
      "55\n"
     ]
    }
   ],
   "source": [
    "# Write a program to find the sum of natural numbers up to a given number 10.\n",
    "i = 1\n",
    "sum = 0\n",
    "while i<11:\n",
    "    sum += i\n",
    "    i += 1\n",
    "print(sum)"
   ]
  },
  {
   "cell_type": "code",
   "execution_count": 6,
   "metadata": {},
   "outputs": [
    {
     "name": "stdout",
     "output_type": "stream",
     "text": [
      "2\n",
      "4\n",
      "6\n",
      "8\n",
      "10\n",
      "12\n",
      "14\n",
      "16\n",
      "18\n",
      "20\n"
     ]
    }
   ],
   "source": [
    "# Write a program to print all even numbers between 1 and 20.\n",
    "i = 1\n",
    "while i<=20:\n",
    "    if i % 2==0:\n",
    "        print(i)\n",
    "    i += 1"
   ]
  },
  {
   "cell_type": "code",
   "execution_count": 7,
   "metadata": {},
   "outputs": [],
   "source": [
    "# Write a program to print number from 10 to -10 using while loop."
   ]
  },
  {
   "cell_type": "code",
   "execution_count": null,
   "metadata": {},
   "outputs": [],
   "source": [
    "# Write a program that takes a number as input and counts how many digits it has using a while loop.\n",
    "\n",
    "# Example:\n",
    "# Input: 12345\n",
    "# Output: 5 (since the number has 5 digits)\n",
    "\n",
    "n = int(input())\n",
    "count = 0\n",
    "while n != 0:\n",
    "    n = n // 10\n",
    "    count += 1\n",
    "print(count)"
   ]
  },
  {
   "cell_type": "markdown",
   "metadata": {
    "id": "yh4ZfYEbKAHm"
   },
   "source": [
    "# While Loop with else"
   ]
  },
  {
   "cell_type": "markdown",
   "metadata": {},
   "source": [
    "    while condition:\n",
    "\n",
    "        # Code block to execute\n",
    "\n",
    "    else:\n",
    "    \n",
    "        # Code block to execute when the condition is False"
   ]
  },
  {
   "cell_type": "markdown",
   "metadata": {
    "id": "huxkWIqIKAHn"
   },
   "source": [
    "### Execution Flow:\n",
    "\n",
    "1. If the condition evaluates to True, the code block inside the while loop is executed.\n",
    "\n",
    "2. After the code block is executed, the condition is checked again.\n",
    "\n",
    "3. This process continues until the condition evaluates to False.\n",
    "\n",
    "### Else Block:\n",
    "\n",
    "1. The else block is executed only once, after the while loop finishes executing because the condition is no longer True.\n",
    "\n",
    "2. It provides a way to run code that should execute when the loop is not terminated by a break statement."
   ]
  },
  {
   "cell_type": "markdown",
   "metadata": {},
   "source": [
    "## Example"
   ]
  },
  {
   "cell_type": "code",
   "execution_count": 31,
   "metadata": {},
   "outputs": [
    {
     "data": {
      "text/plain": [
       "True"
      ]
     },
     "execution_count": 31,
     "metadata": {},
     "output_type": "execute_result"
    }
   ],
   "source": [
    "z=set('abc$de')\n",
    "'a' in z"
   ]
  },
  {
   "cell_type": "code",
   "execution_count": 7,
   "metadata": {},
   "outputs": [
    {
     "name": "stdout",
     "output_type": "stream",
     "text": [
      "access granted\n"
     ]
    }
   ],
   "source": [
    "# Write a program that prompts the user to enter a password. Use a while loop to keep asking until the correct password is entered. \n",
    "# Once the correct password is provided, use the else statement to print \"Access granted!\"\n",
    "\n",
    "n=int(input(\"enter the number\"))\n",
    "while n != 5555:\n",
    "    n = int(input())\n",
    "else:\n",
    "    print(\"access granted\")"
   ]
  },
  {
   "cell_type": "markdown",
   "metadata": {},
   "source": [
    "# break and continue Statements"
   ]
  },
  {
   "cell_type": "markdown",
   "metadata": {},
   "source": [
    "- In Python, the break and continue statements can change the normal flow of a loop.\n",
    "\n",
    "- Typically, loops execute a block of code repeatedly until the test expression evaluates to False.    \n",
    "However, there are times when we want to end the current iteration or exit the entire loop without evaluating the test expression.\n",
    "\n",
    "- In such situations, the break and continue statements come into play."
   ]
  },
  {
   "cell_type": "markdown",
   "metadata": {},
   "source": [
    "## break Statement: \n",
    "\n",
    "The break statement in Python is used to terminate a loop prematurely. \n",
    "\n",
    "When the break statement is encountered inside a loop, the loop stops executing immediately, \n",
    "\n",
    "And the control moves to the first statement following the loop."
   ]
  },
  {
   "cell_type": "markdown",
   "metadata": {},
   "source": [
    "### Syntax:\n",
    "    \n",
    "    while condition:\n",
    "\n",
    "        # Code block\n",
    "\n",
    "        if some_condition:\n",
    "    \n",
    "            break  # Exit the loop\n"
   ]
  },
  {
   "cell_type": "markdown",
   "metadata": {},
   "source": [
    "### Example"
   ]
  },
  {
   "cell_type": "markdown",
   "metadata": {},
   "source": [
    "## continue statement\n",
    "\n",
    "The continue statement in Python skips the current iteration of a loop and moves to the next one. \n",
    "\n",
    "When encountered, it bypasses the remaining code in the loop for that iteration and continues with the next iteration based on the loop's condition."
   ]
  },
  {
   "cell_type": "markdown",
   "metadata": {},
   "source": [
    "### Syntax:\n",
    "    \n",
    "    while condition:\n",
    "\n",
    "        # Code block\n",
    "\n",
    "        if some_condition:\n",
    "        \n",
    "            continue  # Skip the rest of the loop for this iteration\n"
   ]
  },
  {
   "cell_type": "markdown",
   "metadata": {},
   "source": [
    "### Example"
   ]
  },
  {
   "cell_type": "code",
   "execution_count": 6,
   "metadata": {},
   "outputs": [
    {
     "name": "stdout",
     "output_type": "stream",
     "text": [
      "1\n",
      "2\n",
      "3\n",
      "4\n",
      "6\n",
      "7\n",
      "8\n",
      "9\n",
      "10\n"
     ]
    }
   ],
   "source": [
    "# program which prints the number from 1 to 10 but skip the number 5?\n",
    "i = 0\n",
    "while i < 10:\n",
    "    i += 1\n",
    "    if i == 5:\n",
    "        continue\n",
    "    print(i)\n"
   ]
  },
  {
   "cell_type": "markdown",
   "metadata": {},
   "source": [
    "# Practice Questions on while loop"
   ]
  },
  {
   "cell_type": "code",
   "execution_count": null,
   "metadata": {},
   "outputs": [],
   "source": [
    "# Write a program that takes an integer as input and reverses the digits using a while loop."
   ]
  },
  {
   "cell_type": "code",
   "execution_count": null,
   "metadata": {},
   "outputs": [],
   "source": [
    "# Write a program that takes a number as input and calculates its factorial using a while loop."
   ]
  },
  {
   "cell_type": "code",
   "execution_count": null,
   "metadata": {},
   "outputs": [],
   "source": [
    "# Write a program that checks if a number is prime using a while loop. "
   ]
  },
  {
   "cell_type": "code",
   "execution_count": null,
   "metadata": {},
   "outputs": [],
   "source": [
    "# Write a python program to check the number is armstrong number or not.\n",
    "\n",
    "# Armstrong number: Armstrong number is a number that is equal to sum of all the digits, each digit have power of length of that number.\n",
    "# Example1: 153 = 13 + 53 + 33 (so 153 is Armstrong number.)\n"
   ]
  },
  {
   "cell_type": "code",
   "execution_count": null,
   "metadata": {},
   "outputs": [],
   "source": [
    "# Write a program to find the HCF to two integer number (which are given as input)."
   ]
  },
  {
   "cell_type": "markdown",
   "metadata": {},
   "source": [
    "# =========================================="
   ]
  },
  {
   "cell_type": "code",
   "execution_count": null,
   "metadata": {},
   "outputs": [],
   "source": []
  }
 ],
 "metadata": {
  "colab": {
   "provenance": []
  },
  "kernelspec": {
   "display_name": "Python 3",
   "language": "python",
   "name": "python3"
  },
  "language_info": {
   "codemirror_mode": {
    "name": "ipython",
    "version": 3
   },
   "file_extension": ".py",
   "mimetype": "text/x-python",
   "name": "python",
   "nbconvert_exporter": "python",
   "pygments_lexer": "ipython3",
   "version": "3.12.3"
  }
 },
 "nbformat": 4,
 "nbformat_minor": 0
}
