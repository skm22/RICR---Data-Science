{
  "cells": [
    {
      "cell_type": "markdown",
      "metadata": {
        "id": "I9BsPCXXefQ_"
      },
      "source": [
        "# Python if - else Statement"
      ]
    },
    {
      "cell_type": "markdown",
      "metadata": {
        "id": "KcH_APWeefQ_"
      },
      "source": [
        " - The **if - elif - else** statement is used in Python for decision making.    \n",
        "\n",
        " - If-Else statements are fundamental, providing a way to execute different blocks of code based on specific conditions."
      ]
    },
    {
      "cell_type": "markdown",
      "metadata": {
        "id": "B4c_NjAlefRA"
      },
      "source": [
        "## if statement syntax"
      ]
    },
    {
      "cell_type": "markdown",
      "metadata": {
        "id": "kJmNXz9_efRB"
      },
      "source": [
        "    if test condition:\n",
        "\n",
        "        statement(s)"
      ]
    },
    {
      "cell_type": "markdown",
      "metadata": {
        "id": "5P8FX06GefRB"
      },
      "source": [
        " - The program checks a condition. If the condition is True, it runs the code inside. If the condition is False, it skips the code.  \n",
        "\n",
        " - In Python, any value other than 0 or None is considered True. 0 and None are considered False.  "
      ]
    },
    {
      "cell_type": "markdown",
      "metadata": {
        "id": "PAtC2WHdefRE"
      },
      "source": [
        "<h3 align=\"center\">\n",
        "  # Flow Control of if statement\n",
        "</h3>\n",
        "\n",
        "<p align=\"center\">\n",
        "  <img src=\"./Images/Python_if_statement.jpg\" alt=\"Python if statement\" width=\"300\"/>\n",
        "</p>\n"
      ]
    },
    {
      "cell_type": "markdown",
      "metadata": {
        "id": "Q5ARdqzUefRE"
      },
      "source": [
        "### Example"
      ]
    },
    {
      "cell_type": "code",
      "execution_count": 3,
      "metadata": {
        "id": "6mBW6suCefRF",
        "outputId": "72e798df-efe6-44b0-a265-dcf4ed65c853"
      },
      "outputs": [],
      "source": [
        "# checking the entered value if '-1'?"
      ]
    },
    {
      "cell_type": "markdown",
      "metadata": {
        "id": "np1GauhCefRK"
      },
      "source": [
        "## if - else Statement\n",
        "\n",
        " - if a condition is true it will execute a block of statements under if\n",
        "\n",
        " - if the condition is false, it will execute a block of statements under else"
      ]
    },
    {
      "cell_type": "markdown",
      "metadata": {
        "id": "Y5F7zmmEefRK"
      },
      "source": [
        "### Syntax:"
      ]
    },
    {
      "cell_type": "markdown",
      "metadata": {
        "id": "y8jdfyhZefRL"
      },
      "source": [
        "    if test condition:\n",
        "    \n",
        "        Body of if (condition == True)\n",
        "\n",
        "    else:\n",
        "    \n",
        "        Body of else  (condition == False)"
      ]
    },
    {
      "cell_type": "markdown",
      "metadata": {
        "id": "yZzUkQw4efRN"
      },
      "source": [
        "<h3 align=\"center\">\n",
        "  # Flow Control of if - else statement\n",
        "</h3>\n",
        "\n",
        "<p align=\"center\">\n",
        "  <img src=\"./Images/Python_if_else_statement.jpg\" alt=\"Python if statement\" width=\"300\"/>\n",
        "</p>\n"
      ]
    },
    {
      "cell_type": "markdown",
      "metadata": {
        "id": "kJe4WdEyefRN"
      },
      "source": [
        "### Example"
      ]
    },
    {
      "cell_type": "code",
      "execution_count": 14,
      "metadata": {
        "id": "pC8kDvb2efRO",
        "outputId": "bf77eac7-736c-406f-a561-c8ef8cca83c6"
      },
      "outputs": [],
      "source": [
        "# check if the given number is positive or negative.  "
      ]
    },
    {
      "cell_type": "markdown",
      "metadata": {
        "id": "FhL5F5DJefRR"
      },
      "source": [
        "## if...elif...else Statement\n",
        "\n",
        " - Once one of the conditions in the if statement is true, the corresponding block of code is executed\n",
        "\n",
        " - And the remaining conditions in the sequence are skipped. \n",
        " \n",
        " - If none of the conditions are met, the code in the final else block is executed."
      ]
    },
    {
      "cell_type": "markdown",
      "metadata": {
        "id": "n5gOJbuUefRS"
      },
      "source": [
        "### Syntax:"
      ]
    },
    {
      "cell_type": "markdown",
      "metadata": {
        "id": "NK9FpkhiefRT"
      },
      "source": [
        "    if test condition:\n",
        "\n",
        "        Body of if\n",
        "\n",
        "    elif test condition:\n",
        "    \n",
        "        Body of elif\n",
        "\n",
        "    else:\n",
        "    \n",
        "        Body of else"
      ]
    },
    {
      "cell_type": "markdown",
      "metadata": {
        "id": "88YUH1IMefRU"
      },
      "source": [
        "<h3 align=\"center\">\n",
        "  # Flow Control of if - else statement\n",
        "</h3>\n",
        "\n",
        "<p align=\"center\">\n",
        "  <img src=\"./Images/Python_if_elif_else_statement.jpg\" alt=\"Python if statement\" width=\"300\"/>\n",
        "</p>\n"
      ]
    },
    {
      "cell_type": "markdown",
      "metadata": {
        "id": "_PsCmnflefRU"
      },
      "source": [
        "### Example:"
      ]
    },
    {
      "cell_type": "code",
      "execution_count": 26,
      "metadata": {
        "id": "NgIKVa1vefRV",
        "outputId": "d8cba0f9-d26d-4163-fbf9-5aceb05b4112"
      },
      "outputs": [],
      "source": [
        "# Check if the number given by the user is positive, negative or zero       "
      ]
    },
    {
      "cell_type": "markdown",
      "metadata": {
        "id": "Sp98_OGyefRZ"
      },
      "source": [
        "## Nested if Statements"
      ]
    },
    {
      "cell_type": "markdown",
      "metadata": {
        "id": "Ss3GbcNTefRZ"
      },
      "source": [
        "- A nested if is an if statement that serves as the condition within another if statement. \n",
        "\n",
        "- In other words, it refers to placing one if statement inside another if statement."
      ]
    },
    {
      "cell_type": "markdown",
      "metadata": {
        "id": "_WOwMeijefRZ"
      },
      "source": [
        "### Example:"
      ]
    },
    {
      "cell_type": "code",
      "execution_count": 25,
      "metadata": {
        "id": "XSjHkI2RefRa",
        "outputId": "aab86f49-a9d6-4643-ec20-5a9d00df9237"
      },
      "outputs": [],
      "source": [
        "# Check if a number is positive, and if so, further check if it's even or odd; otherwise, it's negative."
      ]
    },
    {
      "cell_type": "markdown",
      "metadata": {},
      "source": [
        "# Practice Questions on if - elif - else"
      ]
    },
    {
      "cell_type": "code",
      "execution_count": 6,
      "metadata": {
        "id": "cjzyFKiMefRf"
      },
      "outputs": [],
      "source": [
        "# Write a program to check whether a number is even or odd. Print \"Even\" if the number is even, otherwise print \"Odd.\""
      ]
    },
    {
      "cell_type": "code",
      "execution_count": 7,
      "metadata": {},
      "outputs": [],
      "source": [
        "# Write a program that checks if the input string is \"Python\". If it is, print \"Correct Language\", otherwise print \"Try Again.\""
      ]
    },
    {
      "cell_type": "code",
      "execution_count": 8,
      "metadata": {},
      "outputs": [],
      "source": [
        "# Write a program to check if a person is eligible to vote. If the age is 18 or more, print \"Eligible to vote\", \n",
        "# otherwise print \"Not eligible to vote.\""
      ]
    },
    {
      "cell_type": "code",
      "execution_count": 9,
      "metadata": {},
      "outputs": [],
      "source": [
        "# Write a program that accepts a student's marks and prints the grade based on the following conditions:\n",
        "\n",
        "# Marks >= 90: \"A\"\n",
        "# Marks >= 75: \"B\"\n",
        "# Marks >= 50: \"C\"\n",
        "# Marks < 50: \"Fail\""
      ]
    },
    {
      "cell_type": "code",
      "execution_count": 10,
      "metadata": {},
      "outputs": [],
      "source": [
        "# Write a program to check if a temperature is above freezing (0°C). If it is, print \"Above freezing.\""
      ]
    },
    {
      "cell_type": "code",
      "execution_count": 11,
      "metadata": {},
      "outputs": [],
      "source": [
        "# Write a program to check the largest number among three inputs (integer)."
      ]
    },
    {
      "cell_type": "code",
      "execution_count": 13,
      "metadata": {},
      "outputs": [],
      "source": [
        "# Write a program to check if a input year is a leap year or not.\n",
        "\n",
        "# Test case 1:\n",
        "# \t Input: 1600\n",
        "# \t Output: Leap year\n",
        "# Test Case 2:\n",
        "# \t Input: 1900\n",
        "# \t Output: Not a leap year."
      ]
    },
    {
      "cell_type": "code",
      "execution_count": 12,
      "metadata": {},
      "outputs": [],
      "source": [
        "# Write a Python program that takes the weight of a package in kilograms as input and calculates the total delivery charge based on the following pricing structure:\n",
        "\n",
        "# For the first 5 kilograms: Rs 15 per kilogram\n",
        "# For the next 10 kilograms (from 6 kg to 15 kg): Rs 12 per kilogram\n",
        "# For any weight beyond 15 kilograms: Rs 8 per kilogram\n",
        "\n",
        "\n",
        "# Example Test Cases:\n",
        "\n",
        "# Test Case 1:\n",
        "#    Input: 8\n",
        "#    Output: 66\n",
        "# Test Case 2:\n",
        "#    Input: 20\n",
        "#    Output: 116"
      ]
    },
    {
      "cell_type": "markdown",
      "metadata": {},
      "source": [
        "# ==========================================="
      ]
    }
  ],
  "metadata": {
    "colab": {
      "provenance": []
    },
    "kernelspec": {
      "display_name": "Python 3",
      "language": "python",
      "name": "python3"
    },
    "language_info": {
      "codemirror_mode": {
        "name": "ipython",
        "version": 3
      },
      "file_extension": ".py",
      "mimetype": "text/x-python",
      "name": "python",
      "nbconvert_exporter": "python",
      "pygments_lexer": "ipython3",
      "version": "3.12.3"
    }
  },
  "nbformat": 4,
  "nbformat_minor": 0
}
