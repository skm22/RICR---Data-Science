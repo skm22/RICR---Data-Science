{
 "cells": [
  {
   "cell_type": "markdown",
   "metadata": {},
   "source": [
    "# Variables _ Data Types _ Input/Output "
   ]
  },
  {
   "cell_type": "markdown",
   "metadata": {},
   "source": [
    "### Variables:\n",
    " - Python Variable is containers that store values.  \n",
    " - Python is \"dynamically typed\" language.   \n",
    " - The value stored in a variable can be changed during program execution.    \n",
    " - A Variables in Python is only a name given to a memory location, all the operations done on the variable effects that memory location.  "
   ]
  },
  {
   "cell_type": "code",
   "execution_count": 5,
   "metadata": {},
   "outputs": [
    {
     "name": "stdout",
     "output_type": "stream",
     "text": [
      "2\n",
      "<class 'int'>\n"
     ]
    }
   ],
   "source": [
    "a = 2 # 'a' is a variable and \"RICR\" is a value of that variable\n",
    "print(a)\n",
    "print(type(a))"
   ]
  },
  {
   "cell_type": "code",
   "execution_count": 5,
   "metadata": {},
   "outputs": [
    {
     "name": "stdout",
     "output_type": "stream",
     "text": [
      "67\n"
     ]
    }
   ],
   "source": [
    "# Variable Assignment / declaration / Initialization:\n",
    "\n",
    "# An integer variable\n",
    "ID = 67\n",
    "\n",
    "# A floating point variable\n",
    "fees = 1308.08\n",
    "\n",
    "# A string variable\n",
    "name = \"RICR\""
   ]
  },
  {
   "cell_type": "code",
   "execution_count": 6,
   "metadata": {},
   "outputs": [],
   "source": [
    "# Redeclaring variables\n",
    "ID = 98"
   ]
  },
  {
   "cell_type": "code",
   "execution_count": 10,
   "metadata": {},
   "outputs": [
    {
     "name": "stdout",
     "output_type": "stream",
     "text": [
      "500\n"
     ]
    }
   ],
   "source": [
    "# Assigning single value to multiple variables:\n",
    "a = b = c = d = 500\n",
    "print(d)"
   ]
  },
  {
   "cell_type": "code",
   "execution_count": 15,
   "metadata": {},
   "outputs": [
    {
     "name": "stdout",
     "output_type": "stream",
     "text": [
      "78.98\n",
      "98\n"
     ]
    }
   ],
   "source": [
    "# Assigning different values to multiple variables:\n",
    "var1, var2, var3 = \"RICR\", 90, 78.98"
   ]
  },
  {
   "cell_type": "markdown",
   "metadata": {},
   "source": [
    "# Storage Locations"
   ]
  },
  {
   "cell_type": "code",
   "execution_count": 16,
   "metadata": {},
   "outputs": [
    {
     "name": "stdout",
     "output_type": "stream",
     "text": [
      "140726303792600\n"
     ]
    }
   ],
   "source": [
    "x = 34\n",
    "             #print address of variable x"
   ]
  },
  {
   "cell_type": "code",
   "execution_count": 17,
   "metadata": {},
   "outputs": [
    {
     "name": "stdout",
     "output_type": "stream",
     "text": [
      "140726303792600\n"
     ]
    }
   ],
   "source": [
    "y = 34\n",
    "               #print address of variable y"
   ]
  },
  {
   "cell_type": "markdown",
   "metadata": {},
   "source": [
    "Observation:\n",
    "\n",
    "x and y points to same memory location\n",
    "    "
   ]
  },
  {
   "cell_type": "code",
   "execution_count": 18,
   "metadata": {},
   "outputs": [
    {
     "name": "stdout",
     "output_type": "stream",
     "text": [
      "140726303792216\n"
     ]
    }
   ],
   "source": [
    "y = 22  # if the value gets changed then address also gets changed.\n"
   ]
  },
  {
   "cell_type": "markdown",
   "metadata": {},
   "source": [
    "# Data Types"
   ]
  },
  {
   "cell_type": "markdown",
   "metadata": {},
   "source": [
    "Every value in Python has a datatype. Since everything is an object in Python programming, data types are actually classes and variables are instance (object) of these classes."
   ]
  },
  {
   "cell_type": "markdown",
   "metadata": {},
   "source": [
    "# Numbers"
   ]
  },
  {
   "cell_type": "markdown",
   "metadata": {},
   "source": [
    " - Integers, floating point numbers and complex numbers falls under Python numbers category. They are defined as int, float and complex class in Python.\n",
    "\n",
    "1. type() -> We can use the type() function to know which class a variable or a value belongs to.\n",
    "2. isinstance() -> this function id to check if an object belongs to a particular class."
   ]
  },
  {
   "cell_type": "code",
   "execution_count": 4,
   "metadata": {},
   "outputs": [],
   "source": [
    "a = 5j #data type is implicitly set to integer  \n"
   ]
  },
  {
   "cell_type": "code",
   "execution_count": 5,
   "metadata": {},
   "outputs": [],
   "source": [
    "a = 2.5   #data type is changed to float\n"
   ]
  },
  {
   "cell_type": "code",
   "execution_count": 27,
   "metadata": {},
   "outputs": [
    {
     "name": "stdout",
     "output_type": "stream",
     "text": [
      "True\n"
     ]
    }
   ],
   "source": [
    "a = 1  #data type is changed to complex number\n",
    "\n",
    "# print(isinstance(a, int))"
   ]
  },
  {
   "cell_type": "markdown",
   "metadata": {},
   "source": [
    "# Boolean"
   ]
  },
  {
   "cell_type": "markdown",
   "metadata": {},
   "source": [
    " Boolean represents the truth values False and True"
   ]
  },
  {
   "cell_type": "code",
   "execution_count": 6,
   "metadata": {},
   "outputs": [],
   "source": [
    "a = True #a is a boolean type\n"
   ]
  },
  {
   "cell_type": "markdown",
   "metadata": {},
   "source": [
    "# Python Strings"
   ]
  },
  {
   "cell_type": "markdown",
   "metadata": {},
   "source": [
    "A string is a sequence of Unicode characters.\n",
    "\n",
    "Strings can be enclosed in either single quotes (') or double quotes (\").\n",
    "\n",
    "To represent multi-line strings, triple quotes (''' or \"\"\") can be used."
   ]
  },
  {
   "cell_type": "markdown",
   "metadata": {},
   "source": [
    "In Python, a string is a sequence of characters, including letters, numbers, and special symbols.\n",
    "\n",
    "Strings can be indexed, which is also referred to as subscripted.\n",
    "\n",
    "Like in C, the first character of a string has an index of 0."
   ]
  },
  {
   "cell_type": "code",
   "execution_count": 33,
   "metadata": {},
   "outputs": [
    {
     "name": "stdout",
     "output_type": "stream",
     "text": [
      "This is Online AI course\n",
      "<class 'str'>\n"
     ]
    }
   ],
   "source": [
    "s = 'This is Offline AI course'"
   ]
  },
  {
   "cell_type": "code",
   "execution_count": 1,
   "metadata": {},
   "outputs": [],
   "source": [
    "# Indexing\n",
    "             # first character\n",
    "             # last character"
   ]
  },
  {
   "cell_type": "code",
   "execution_count": 2,
   "metadata": {},
   "outputs": [],
   "source": [
    "#slicing\n"
   ]
  },
  {
   "cell_type": "markdown",
   "metadata": {},
   "source": [
    "# Python List"
   ]
  },
  {
   "cell_type": "markdown",
   "metadata": {},
   "source": [
    "- List is an ordered sequence of items.    \n",
    "- It is one of the most used datatype in Python and is very flexible.    \n",
    "- All the items in a list do not need to be of the same type.     \n",
    "- Declaring a list is , Items separated by commas are enclosed within brackets [ ]."
   ]
  },
  {
   "cell_type": "code",
   "execution_count": 27,
   "metadata": {},
   "outputs": [],
   "source": [
    "a = [10, 20.5, \"Hello\"]\n",
    "# print(a)"
   ]
  },
  {
   "cell_type": "code",
   "execution_count": 26,
   "metadata": {},
   "outputs": [],
   "source": [
    "# list indexing\n",
    "                              # print 1st index element\n",
    "                              # print last element"
   ]
  },
  {
   "cell_type": "markdown",
   "metadata": {},
   "source": [
    "Lists are mutable, meaning, value of elements of a list can be altered."
   ]
  },
  {
   "cell_type": "code",
   "execution_count": null,
   "metadata": {},
   "outputs": [],
   "source": [
    "# list are mutable, example"
   ]
  },
  {
   "cell_type": "markdown",
   "metadata": {},
   "source": [
    "# Python Tuple"
   ]
  },
  {
   "cell_type": "markdown",
   "metadata": {},
   "source": [
    " - Tuple is an ordered sequence of items same as list.    \n",
    " - The only difference is that tuples are immutable.      \n",
    " - Tuples once created cannot be modified."
   ]
  },
  {
   "cell_type": "code",
   "execution_count": 23,
   "metadata": {},
   "outputs": [
    {
     "name": "stdout",
     "output_type": "stream",
     "text": [
      "(1, 1.5, 'ML')\n"
     ]
    }
   ],
   "source": [
    "t = (1, 1.5, \"ML\")\n",
    "# print(t)"
   ]
  },
  {
   "cell_type": "code",
   "execution_count": 24,
   "metadata": {},
   "outputs": [],
   "source": [
    "# tuple indexing"
   ]
  },
  {
   "cell_type": "code",
   "execution_count": 25,
   "metadata": {},
   "outputs": [],
   "source": [
    "# tuples are imutable"
   ]
  },
  {
   "cell_type": "markdown",
   "metadata": {},
   "source": [
    "# Python Set"
   ]
  },
  {
   "cell_type": "markdown",
   "metadata": {},
   "source": [
    "- Set is an unordered collection of unique items.(No indexing)  \n",
    "- Set is defined by values separated by comma inside braces { }.     \n",
    "- does not holds duplicate values.\n",
    "- Set is mutable, it can be updated."
   ]
  },
  {
   "cell_type": "code",
   "execution_count": 37,
   "metadata": {},
   "outputs": [],
   "source": [
    "a = {10, 30, 20, 40, 5, 10, 20, 30}\n",
    "# print(a)        # Remove duplicates."
   ]
  },
  {
   "cell_type": "code",
   "execution_count": 38,
   "metadata": {},
   "outputs": [],
   "source": [
    "                 # print type of a"
   ]
  },
  {
   "cell_type": "markdown",
   "metadata": {},
   "source": [
    "We can perform set operations like union, intersection on two sets. Set have unique values."
   ]
  },
  {
   "cell_type": "code",
   "execution_count": 40,
   "metadata": {},
   "outputs": [],
   "source": [
    "s1 = {10, 20, 20, 30, 30, 30}\n",
    "s2 = {40, 40, 50, 60, 70, 60, 50}"
   ]
  },
  {
   "cell_type": "code",
   "execution_count": 39,
   "metadata": {},
   "outputs": [],
   "source": [
    "# We can't print particular element in set because\n",
    "# It's unorder collections of items"
   ]
  },
  {
   "cell_type": "markdown",
   "metadata": {},
   "source": [
    "# Python Dictionary"
   ]
  },
  {
   "cell_type": "markdown",
   "metadata": {},
   "source": [
    "Dictionary is an unordered collection of key-value pairs."
   ]
  },
  {
   "cell_type": "markdown",
   "metadata": {},
   "source": [
    "- In Python, dictionaries are defined within braces {} with each item being a pair in the form key:value.    \n",
    "- Key and value can be of any type."
   ]
  },
  {
   "cell_type": "code",
   "execution_count": 41,
   "metadata": {},
   "outputs": [],
   "source": [
    "d = {'a': \"apple\", 'b': \"bat\"}\n",
    "# print(d)"
   ]
  },
  {
   "cell_type": "code",
   "execution_count": 42,
   "metadata": {},
   "outputs": [],
   "source": [
    "# Accessing values from dictionary"
   ]
  },
  {
   "cell_type": "markdown",
   "metadata": {},
   "source": [
    "# Conversion between Datatypes"
   ]
  },
  {
   "cell_type": "markdown",
   "metadata": {},
   "source": [
    "We can convert between different data types by using different type conversion functions like int(), float(), str() etc."
   ]
  },
  {
   "cell_type": "code",
   "execution_count": 46,
   "metadata": {},
   "outputs": [
    {
     "name": "stdout",
     "output_type": "stream",
     "text": [
      "5.0\n"
     ]
    }
   ],
   "source": [
    "        #convert interger to float using float() method"
   ]
  },
  {
   "cell_type": "code",
   "execution_count": 45,
   "metadata": {},
   "outputs": [
    {
     "name": "stdout",
     "output_type": "stream",
     "text": [
      "120\n"
     ]
    }
   ],
   "source": [
    "b = int(130.87)   #convert float to integer using int() method"
   ]
  },
  {
   "cell_type": "code",
   "execution_count": 47,
   "metadata": {},
   "outputs": [
    {
     "name": "stdout",
     "output_type": "stream",
     "text": [
      "20\n"
     ]
    }
   ],
   "source": [
    "       #convert integer to string"
   ]
  },
  {
   "cell_type": "markdown",
   "metadata": {},
   "source": [
    "Conversion to and from string must contain compatible values."
   ]
  },
  {
   "cell_type": "code",
   "execution_count": 50,
   "metadata": {},
   "outputs": [],
   "source": [
    "# print(int('10p'))"
   ]
  },
  {
   "cell_type": "code",
   "execution_count": 44,
   "metadata": {},
   "outputs": [
    {
     "name": "stdout",
     "output_type": "stream",
     "text": [
      "Congratulations, RICR! You just completed 32 MOUs\n"
     ]
    }
   ],
   "source": [
    "# Use case example:\n",
    "\n",
    "user = \"RICR\"\n",
    "lines = 32\n",
    "\n",
    "print(\"Congratulations, \" + user + \"! You just completed \" + str(lines) + \" MOUs\" )\n",
    "#remove str and gives error"
   ]
  },
  {
   "cell_type": "markdown",
   "metadata": {},
   "source": [
    "We can convert one sequence to other"
   ]
  },
  {
   "cell_type": "code",
   "execution_count": 52,
   "metadata": {},
   "outputs": [],
   "source": [
    "\n",
    "\n",
    "               #convert list to set using set() method\n",
    "\n"
   ]
  },
  {
   "cell_type": "code",
   "execution_count": 51,
   "metadata": {},
   "outputs": [],
   "source": [
    "               #convert String to list using list() method"
   ]
  },
  {
   "cell_type": "markdown",
   "metadata": {},
   "source": [
    "## Python Input / Output"
   ]
  },
  {
   "cell_type": "markdown",
   "metadata": {},
   "source": [
    "### Python Output"
   ]
  },
  {
   "cell_type": "markdown",
   "metadata": {},
   "source": [
    "We use the print() function to output data to the standard output device"
   ]
  },
  {
   "cell_type": "code",
   "execution_count": null,
   "metadata": {},
   "outputs": [
    {
     "name": "stdout",
     "output_type": "stream",
     "text": [
      "Hello World\n"
     ]
    }
   ],
   "source": [
    "print(\"Hello!, RICR\")"
   ]
  },
  {
   "cell_type": "code",
   "execution_count": null,
   "metadata": {},
   "outputs": [
    {
     "name": "stdout",
     "output_type": "stream",
     "text": [
      "('The value of a is', 10)\n",
      "The value of a is 10\n"
     ]
    }
   ],
   "source": [
    "# Using variable inside print()\n",
    "\n",
    "a = 10\n",
    "print(\"The value of a is\", a) "
   ]
  },
  {
   "cell_type": "code",
   "execution_count": 53,
   "metadata": {},
   "outputs": [
    {
     "name": "stdout",
     "output_type": "stream",
     "text": [
      "Hello!, I am 100 And we are learning python\n"
     ]
    }
   ],
   "source": [
    "a = \"I\"\n",
    "b = 100\n",
    "c = \"python\"\n",
    "print(\"Hello!,\",a,\"am\",b,\"And we are learning\",c)"
   ]
  },
  {
   "cell_type": "markdown",
   "metadata": {},
   "source": [
    "# Output Formatting\n",
    "- format()"
   ]
  },
  {
   "cell_type": "code",
   "execution_count": null,
   "metadata": {},
   "outputs": [
    {
     "name": "stdout",
     "output_type": "stream",
     "text": [
      "The value of a is 10 and b is 20\n"
     ]
    }
   ],
   "source": [
    "a = 10; b = 20    # multiple statements in single line \n",
    "print(\"The value of a is {} and b is {}\".format(a, b))    # default"
   ]
  },
  {
   "cell_type": "code",
   "execution_count": null,
   "metadata": {},
   "outputs": [
    {
     "name": "stdout",
     "output_type": "stream",
     "text": [
      "The value of b is 20 and a is 10\n"
     ]
    }
   ],
   "source": [
    "a = 10; b = 20  \n",
    "print(\"The value of b is {1} and a is {0}\".format(a, b)) # specify position of arguments"
   ]
  },
  {
   "cell_type": "code",
   "execution_count": 60,
   "metadata": {},
   "outputs": [
    {
     "name": "stdout",
     "output_type": "stream",
     "text": [
      "Hello RICR, Good Morning\n"
     ]
    }
   ],
   "source": [
    "# We can use keyword arguments to format the string\n",
    "print(\"Hello {name}, {greeting}\".format(name=\"RICR\", greeting=\"Good Morning\"))"
   ]
  },
  {
   "cell_type": "code",
   "execution_count": 59,
   "metadata": {},
   "outputs": [
    {
     "name": "stdout",
     "output_type": "stream",
     "text": [
      "The story of RAM, BHEEM, and RAVAN\n"
     ]
    }
   ],
   "source": [
    "# We can combine positional arguments with keyword arguments\n",
    "print('The story of {0}, {1}, and {other}'.format('RAM', 'BHEEM', other='RAVAN'))"
   ]
  },
  {
   "cell_type": "markdown",
   "metadata": {},
   "source": [
    "### Using f-string."
   ]
  },
  {
   "cell_type": "code",
   "execution_count": 62,
   "metadata": {},
   "outputs": [
    {
     "name": "stdout",
     "output_type": "stream",
     "text": [
      "Hello, My name is Python and I'm 33 years old.\n"
     ]
    }
   ],
   "source": [
    "name = 'Python'\n",
    "age = 33\n",
    "print(f\"Hello, My name is {name} and I'm {age} years old.\")"
   ]
  },
  {
   "cell_type": "markdown",
   "metadata": {},
   "source": [
    "### Using % Operator\n",
    " - %d –integer\n",
    " - %f – float\n",
    " - %s – string"
   ]
  },
  {
   "cell_type": "code",
   "execution_count": 63,
   "metadata": {},
   "outputs": [
    {
     "name": "stdout",
     "output_type": "stream",
     "text": [
      "The number is 5\n"
     ]
    }
   ],
   "source": [
    "num1 = 2\n",
    "num2 = 8.98\n",
    "num3 = \"Hii\"\n",
    "print(\"The number is %d\" %num1)     # %d\n",
    "                                    # %f\n",
    "                                    # %s"
   ]
  },
  {
   "cell_type": "markdown",
   "metadata": {},
   "source": [
    "### print() -> parameters: sep= , end="
   ]
  },
  {
   "cell_type": "code",
   "execution_count": 54,
   "metadata": {},
   "outputs": [
    {
     "name": "stdout",
     "output_type": "stream",
     "text": [
      "09-12-2016\n"
     ]
    }
   ],
   "source": [
    "# sep=\n",
    "print('09', '12', '2016', sep='-')"
   ]
  },
  {
   "cell_type": "code",
   "execution_count": 58,
   "metadata": {},
   "outputs": [
    {
     "name": "stdout",
     "output_type": "stream",
     "text": [
      "Python #RICR\n"
     ]
    }
   ],
   "source": [
    "# end=\n",
    "print(\"Python \", end='#')\n",
    "print(\"RICR\")"
   ]
  },
  {
   "cell_type": "markdown",
   "metadata": {},
   "source": [
    "# Python Input"
   ]
  },
  {
   "cell_type": "markdown",
   "metadata": {},
   "source": [
    "want to take the input from the user. In Python, we have the input() function to allow this."
   ]
  },
  {
   "cell_type": "code",
   "execution_count": 66,
   "metadata": {},
   "outputs": [],
   "source": [
    "a = input(\"Enter a number: \") # by default str input\n",
    "# print(a)\n",
    "# print(type(a)) "
   ]
  },
  {
   "cell_type": "code",
   "execution_count": 67,
   "metadata": {},
   "outputs": [],
   "source": [
    "b = int(input())   # Changed type to int as to take integer as a input\n"
   ]
  },
  {
   "cell_type": "code",
   "execution_count": 70,
   "metadata": {},
   "outputs": [],
   "source": [
    "# Can use eval function for direct input of list, set, tuple, dict\n",
    "\n",
    "c = eval(input())\n",
    "# print(type(c))"
   ]
  },
  {
   "cell_type": "code",
   "execution_count": null,
   "metadata": {},
   "outputs": [],
   "source": []
  }
 ],
 "metadata": {
  "kernelspec": {
   "display_name": "Python 3",
   "language": "python",
   "name": "python3"
  },
  "language_info": {
   "codemirror_mode": {
    "name": "ipython",
    "version": 3
   },
   "file_extension": ".py",
   "mimetype": "text/x-python",
   "name": "python",
   "nbconvert_exporter": "python",
   "pygments_lexer": "ipython3",
   "version": "3.12.3"
  }
 },
 "nbformat": 4,
 "nbformat_minor": 2
}
