{
 "cells": [
  {
   "cell_type": "code",
   "execution_count": null,
   "metadata": {},
   "outputs": [],
   "source": [
    "# Write a Program which will calculate the combination (nCr) without using function\n",
    "\n",
    "n=int(input(\"Enter n value\"))\n",
    "r=int(input(\"Enter the r value\"))\n",
    "n_fact=1\n",
    "r_fact=1\n",
    "nminusr=1\n",
    "for i in range(1,n+1):\n",
    "    n_fact*=i\n",
    "for i in range(1,r+1):\n",
    "    r_fact*=i\n",
    "for i in range(1,n-r+1):\n",
    "    nminusr*=i\n",
    "print(\"nCr =\",n_fact/r_fact*nminusr)\n"
   ]
  },
  {
   "cell_type": "markdown",
   "metadata": {
    "id": "W685A3V4qx1Q"
   },
   "source": [
    "# Python Functions"
   ]
  },
  {
   "cell_type": "markdown",
   "metadata": {
    "id": "iueQVnPGqx1U"
   },
   "source": [
    "Function is a group of related statements that perform a specific task."
   ]
  },
  {
   "cell_type": "markdown",
   "metadata": {
    "id": "wUB2YXtBqx1X"
   },
   "source": [
    "* Functions help break our program into smaller and modular chunks. As our program grows larger and larger, functions make it more organized and manageable.\n",
    "\n",
    "* It avoids repetition and makes code reusable."
   ]
  },
  {
   "cell_type": "markdown",
   "metadata": {
    "id": "LDZ6MpTwqx1a"
   },
   "source": [
    "## Syntax:"
   ]
  },
  {
   "cell_type": "markdown",
   "metadata": {
    "id": "EyqjxCEwqx1c"
   },
   "source": [
    "    def function_name(parameters):\n",
    "    \n",
    "        \"\"\"\n",
    "        Doc String\n",
    "        \"\"\"\n",
    "    \n",
    "        Statement(s)"
   ]
  },
  {
   "cell_type": "markdown",
   "metadata": {
    "id": "k4qKflh4qx1e"
   },
   "source": [
    "1. keyword \"def\" marks the start of function header\n",
    "\n",
    "2. Parameters (arguments) through which we pass values to a function. These are optional\n",
    "\n",
    "3. A colon(:) to mark the end of funciton header\n",
    "\n",
    "4. Doc string describe what the function does. This is optional\n",
    "\n",
    "5. \"return\" statement to return a value from the function. This is optional"
   ]
  },
  {
   "cell_type": "markdown",
   "metadata": {},
   "source": [
    "## Types of Functions in Python.\n",
    "\n",
    "1. Built-in library function: These are Standard functions in Python that are available to use.\n",
    "\n",
    "2. User-defined function: We can create our own functions based on our requirements."
   ]
  },
  {
   "cell_type": "markdown",
   "metadata": {
    "id": "tHJhKoLgqx1h"
   },
   "source": [
    "## Example:"
   ]
  },
  {
   "cell_type": "code",
   "execution_count": 3,
   "metadata": {
    "id": "Y8D1p1eAqx1i"
   },
   "outputs": [
    {
     "name": "stdout",
     "output_type": "stream",
     "text": [
      "Hello shailesh\n"
     ]
    }
   ],
   "source": [
    "def print_name(name):\n",
    "    \"\"\" \n",
    "    This function prints the name\n",
    "    \"\"\"\n",
    "    print(\"Hello \" + name) "
   ]
  },
  {
   "cell_type": "markdown",
   "metadata": {
    "id": "TDBBivd2qx1p"
   },
   "source": [
    "## Function Call"
   ]
  },
  {
   "cell_type": "markdown",
   "metadata": {
    "id": "Dseptsvoqx1q"
   },
   "source": [
    "Once we have defined a function, we can call it from anywhere"
   ]
  },
  {
   "cell_type": "code",
   "execution_count": 2,
   "metadata": {
    "id": "4CJ01FUpqx1t",
    "outputId": "183b4d32-4a77-4d0f-d475-2df249a8b621"
   },
   "outputs": [
    {
     "name": "stdout",
     "output_type": "stream",
     "text": [
      "Hello shailesh\n"
     ]
    }
   ],
   "source": [
    "print_name('shailesh')"
   ]
  },
  {
   "cell_type": "markdown",
   "metadata": {
    "id": "7bXpeRMXqx2D"
   },
   "source": [
    "## return Statement"
   ]
  },
  {
   "cell_type": "markdown",
   "metadata": {
    "id": "GoR0PNUOqx2G"
   },
   "source": [
    "The return statement is used to exit a function and go back to the place from where it was called."
   ]
  },
  {
   "cell_type": "markdown",
   "metadata": {
    "id": "XPoedgmGqx2H"
   },
   "source": [
    "Syntax:\n",
    "    \n",
    "    return [expression]"
   ]
  },
  {
   "cell_type": "markdown",
   "metadata": {
    "id": "IIkX4Y1gqx2J"
   },
   "source": [
    "-> return statement can contain an expression which gets evaluated and the value is returned.\n",
    "\n",
    "-> if there is no expression in the statement or the return statement itself is not present inside a function, then the function will return None Object"
   ]
  },
  {
   "cell_type": "code",
   "execution_count": 1,
   "metadata": {
    "id": "e8JqjPNvqx2L"
   },
   "outputs": [],
   "source": [
    "def fact(x):\n",
    "    \"\"\"\n",
    "    This function returns the factorial of given no\n",
    "    \"\"\"\n",
    "    ans=1\n",
    "    for i in range(1,x+1):\n",
    "        ans*=i\n",
    "    return ans\n",
    "\n",
    "\n",
    "\n",
    "# r=int(input(\"Enter the r value\"))\n",
    "# n_fact=fact(n)\n",
    "# r_fact=fact(r)\n",
    "# nminusr=fact(n-r)\n",
    "# print(\"nCr =\",n_fact/r_fact*nminusr)"
   ]
  },
  {
   "cell_type": "markdown",
   "metadata": {},
   "source": [
    "## Advantages"
   ]
  },
  {
   "cell_type": "markdown",
   "metadata": {},
   "source": [
    "1. User-defined functions help to decompose a large program into small segments which makes program easy to understand, maintain and debug.\n",
    "\n",
    "2. If repeated code occurs in a program. Function can be used to include those codes and execute when needed by calling that function.\n",
    "\n",
    "3. Programmars working on large project can divide the workload by making different functions."
   ]
  },
  {
   "cell_type": "markdown",
   "metadata": {},
   "source": [
    "### - Communication With Function\n",
    "communication with function is done using parameters/arguments passed to it and the values return from it "
   ]
  },
  {
   "cell_type": "markdown",
   "metadata": {},
   "source": [
    "### - Difference between parameter and argument in functions:\n",
    "-> A parameter is a variable in a function definition, while an argument is the value passed to the function when it's called."
   ]
  },
  {
   "cell_type": "markdown",
   "metadata": {
    "id": "ngEFY7UVqx2i"
   },
   "source": [
    "## Scope and Life Time of Variables"
   ]
  },
  {
   "cell_type": "markdown",
   "metadata": {
    "id": "Q_2YkKBlqx2l"
   },
   "source": [
    "-> Scope of a variable is the portion of a program where the variable is recognized\n",
    "\n",
    "-> variables defined inside a function is not visible from outside. Hence, they have a local scope.\n",
    "\n",
    "-> Lifetime of a variable is the period throughout which the variable exits in the memory. \n",
    "\n",
    "-> The lifetime of variables inside a function is as long as the function executes.\n",
    "\n",
    "-> Variables are destroyed once we return from the function. "
   ]
  },
  {
   "cell_type": "markdown",
   "metadata": {
    "id": "SdCba00Uqx2r"
   },
   "source": [
    "## Example:"
   ]
  },
  {
   "cell_type": "code",
   "execution_count": 7,
   "metadata": {
    "id": "8jUaZMoiqx2r",
    "outputId": "fe6c64c2-4b9e-466d-eaf6-56938eae3a56"
   },
   "outputs": [
    {
     "name": "stdout",
     "output_type": "stream",
     "text": [
      "This is local variable\n",
      "This is global variable\n",
      "This is global variable\n"
     ]
    },
    {
     "ename": "NameError",
     "evalue": "name 'local_var' is not defined",
     "output_type": "error",
     "traceback": [
      "\u001b[1;31m---------------------------------------------------------------------------\u001b[0m",
      "\u001b[1;31mNameError\u001b[0m                                 Traceback (most recent call last)",
      "Cell \u001b[1;32mIn[7], line 21\u001b[0m\n\u001b[0;32m     18\u001b[0m \u001b[38;5;28mprint\u001b[39m(global_var)\n\u001b[0;32m     20\u001b[0m \u001b[38;5;66;03m#print local variable local_var\u001b[39;00m\n\u001b[1;32m---> 21\u001b[0m \u001b[38;5;28mprint\u001b[39m(\u001b[43mlocal_var\u001b[49m)\n",
      "\u001b[1;31mNameError\u001b[0m: name 'local_var' is not defined"
     ]
    }
   ],
   "source": [
    "global_var = \"This is global variable\"\n",
    "\n",
    "def test_life_time():\n",
    "    \"\"\"\n",
    "    This function test the life time of a variables\n",
    "    \"\"\"\n",
    "    local_var = \"This is local variable\"\n",
    "    print(local_var)       #print local variable local_var\n",
    "    \n",
    "    print(global_var)      #print global variable global_var\n",
    "    \n",
    "    \n",
    "\n",
    "#calling function\n",
    "test_life_time()\n",
    "\n",
    "#print global variable global_var\n",
    "print(global_var)\n",
    "\n",
    "#print local variable local_var\n",
    "print(local_var)\n"
   ]
  },
  {
   "cell_type": "markdown",
   "metadata": {},
   "source": [
    "### LEGB Rule.\n",
    "The LEGB Rule describes the order in which Python looks for variables:\n",
    "\n",
    "1. Local\n",
    "2. Enclosing\n",
    "3. Global\n",
    "4. Built-in   \n",
    "\n",
    "The interpreter searches for a name from the inside out, looking in the local, enclosing, global, and finally the built-in scope. If the interpreter doesn’t find the name in any of these locations, then Python raises a NameError exception. "
   ]
  },
  {
   "cell_type": "code",
   "execution_count": null,
   "metadata": {},
   "outputs": [
    {
     "name": "stdout",
     "output_type": "stream",
     "text": [
      "Local nunber : 3\n",
      "Global number : 2\n"
     ]
    }
   ],
   "source": [
    "# local and global variable have same name.\n",
    "\n",
    "num1 = 2 # global\n",
    "def func():\n",
    "  num1 = 3 # local\n",
    "  print(\"Local nunber :\", num1)\n",
    "func()\n",
    "print(\"Global number :\", num1)"
   ]
  },
  {
   "cell_type": "code",
   "execution_count": null,
   "metadata": {},
   "outputs": [
    {
     "name": "stdout",
     "output_type": "stream",
     "text": [
      "2\n",
      "2\n"
     ]
    }
   ],
   "source": [
    "# If there is no local variable inside function.\n",
    "\n",
    "n1 = 2 # global \n",
    "def func1():\n",
    "  print(n1) # This will access the global varibale.\n",
    "func1()\n",
    "print(n1)\n"
   ]
  },
  {
   "cell_type": "code",
   "execution_count": null,
   "metadata": {},
   "outputs": [
    {
     "ename": "UnboundLocalError",
     "evalue": "cannot access local variable 'n1' where it is not associated with a value",
     "output_type": "error",
     "traceback": [
      "\u001b[1;31m---------------------------------------------------------------------------\u001b[0m\n",
      "\u001b[1;31mUnboundLocalError\u001b[0m                         Traceback (most recent call last)\n",
      "Cell \u001b[1;32mIn[7], line 7\u001b[0m\n",
      "\u001b[0;32m      5\u001b[0m   n1 \u001b[38;5;241m+\u001b[39m\u001b[38;5;241m=\u001b[39m \u001b[38;5;241m1\u001b[39m   \u001b[38;5;66;03m# local var\u001b[39;00m\n",
      "\u001b[0;32m      6\u001b[0m   \u001b[38;5;28mprint\u001b[39m(n1)\n",
      "\u001b[1;32m----> 7\u001b[0m \u001b[43mmethod\u001b[49m\u001b[43m(\u001b[49m\u001b[43m)\u001b[49m\n",
      "\u001b[0;32m      8\u001b[0m \u001b[38;5;28mprint\u001b[39m(n1)\n",
      "\n",
      "Cell \u001b[1;32mIn[7], line 5\u001b[0m, in \u001b[0;36mmethod\u001b[1;34m()\u001b[0m\n",
      "\u001b[0;32m      4\u001b[0m \u001b[38;5;28;01mdef\u001b[39;00m \u001b[38;5;21mmethod\u001b[39m():\n",
      "\u001b[1;32m----> 5\u001b[0m   \u001b[43mn1\u001b[49m \u001b[38;5;241m+\u001b[39m\u001b[38;5;241m=\u001b[39m \u001b[38;5;241m1\u001b[39m   \u001b[38;5;66;03m# local var\u001b[39;00m\n",
      "\u001b[0;32m      6\u001b[0m   \u001b[38;5;28mprint\u001b[39m(n1)\n",
      "\n",
      "\u001b[1;31mUnboundLocalError\u001b[0m: cannot access local variable 'n1' where it is not associated with a value"
     ]
    }
   ],
   "source": [
    "# If the global has updated inside the function -> It will give error.\n",
    "\n",
    "n1 = 2\n",
    "def method():\n",
    "  n1 += 1   # local var\n",
    "  print(n1)\n",
    "method()\n",
    "print(n1)"
   ]
  },
  {
   "cell_type": "code",
   "execution_count": null,
   "metadata": {},
   "outputs": [
    {
     "name": "stdout",
     "output_type": "stream",
     "text": [
      "1\n",
      "1\n"
     ]
    }
   ],
   "source": [
    "# global variables are created inside the function.\n",
    "\n",
    "def temp():\n",
    "  # local var\n",
    "  global a\n",
    "  a = 1\n",
    "  print(a)\n",
    "\n",
    "temp()\n",
    "print(a)"
   ]
  },
  {
   "cell_type": "code",
   "execution_count": null,
   "metadata": {},
   "outputs": [
    {
     "name": "stdout",
     "output_type": "stream",
     "text": [
      "['ArithmeticError', 'AssertionError', 'AttributeError', 'BaseException', 'BlockingIOError', 'BrokenPipeError', 'BufferError', 'BytesWarning', 'ChildProcessError', 'ConnectionAbortedError', 'ConnectionError', 'ConnectionRefusedError', 'ConnectionResetError', 'DeprecationWarning', 'EOFError', 'Ellipsis', 'EnvironmentError', 'Exception', 'False', 'FileExistsError', 'FileNotFoundError', 'FloatingPointError', 'FutureWarning', 'GeneratorExit', 'IOError', 'ImportError', 'ImportWarning', 'IndentationError', 'IndexError', 'InterruptedError', 'IsADirectoryError', 'KeyError', 'KeyboardInterrupt', 'LookupError', 'MemoryError', 'ModuleNotFoundError', 'NameError', 'None', 'NotADirectoryError', 'NotImplemented', 'NotImplementedError', 'OSError', 'OverflowError', 'PendingDeprecationWarning', 'PermissionError', 'ProcessLookupError', 'RecursionError', 'ReferenceError', 'ResourceWarning', 'RuntimeError', 'RuntimeWarning', 'StopAsyncIteration', 'StopIteration', 'SyntaxError', 'SyntaxWarning', 'SystemError', 'SystemExit', 'TabError', 'TimeoutError', 'True', 'TypeError', 'UnboundLocalError', 'UnicodeDecodeError', 'UnicodeEncodeError', 'UnicodeError', 'UnicodeTranslateError', 'UnicodeWarning', 'UserWarning', 'ValueError', 'Warning', 'ZeroDivisionError', '__IPYTHON__', '__build_class__', '__debug__', '__doc__', '__import__', '__loader__', '__name__', '__package__', '__spec__', 'abs', 'all', 'any', 'ascii', 'bin', 'bool', 'breakpoint', 'bytearray', 'bytes', 'callable', 'chr', 'classmethod', 'compile', 'complex', 'copyright', 'credits', 'delattr', 'dict', 'dir', 'display', 'divmod', 'enumerate', 'eval', 'exec', 'execfile', 'filter', 'float', 'format', 'frozenset', 'get_ipython', 'getattr', 'globals', 'hasattr', 'hash', 'help', 'hex', 'id', 'input', 'int', 'isinstance', 'issubclass', 'iter', 'len', 'license', 'list', 'locals', 'map', 'max', 'memoryview', 'min', 'next', 'object', 'oct', 'open', 'ord', 'pow', 'print', 'property', 'range', 'repr', 'reversed', 'round', 'runfile', 'set', 'setattr', 'slice', 'sorted', 'staticmethod', 'str', 'sum', 'super', 'tuple', 'type', 'vars', 'zip']\n"
     ]
    }
   ],
   "source": [
    "# all built-in scope names.\n",
    "\n",
    "import builtins\n",
    "print(dir(builtins))"
   ]
  },
  {
   "cell_type": "code",
   "execution_count": null,
   "metadata": {},
   "outputs": [
    {
     "ename": "TypeError",
     "evalue": "max() takes 0 positional arguments but 1 was given",
     "output_type": "error",
     "traceback": [
      "\u001b[1;31m---------------------------------------------------------------------------\u001b[0m\n",
      "\u001b[1;31mTypeError\u001b[0m                                 Traceback (most recent call last)\n",
      "Cell \u001b[1;32mIn[11], line 4\u001b[0m\n",
      "\u001b[0;32m      1\u001b[0m \u001b[38;5;66;03m# When builtin scope gets renamed by redefining.\u001b[39;00m\n",
      "\u001b[0;32m      3\u001b[0m Lst \u001b[38;5;241m=\u001b[39m [\u001b[38;5;241m1\u001b[39m,\u001b[38;5;241m2\u001b[39m,\u001b[38;5;241m3\u001b[39m]\n",
      "\u001b[1;32m----> 4\u001b[0m \u001b[38;5;28mprint\u001b[39m(\u001b[38;5;28;43mmax\u001b[39;49m\u001b[43m(\u001b[49m\u001b[43mLst\u001b[49m\u001b[43m)\u001b[49m)\n",
      "\u001b[0;32m      6\u001b[0m \u001b[38;5;28;01mdef\u001b[39;00m \u001b[38;5;21mmax\u001b[39m():\n",
      "\u001b[0;32m      7\u001b[0m   \u001b[38;5;28mprint\u001b[39m(\u001b[38;5;124m'\u001b[39m\u001b[38;5;124mhello\u001b[39m\u001b[38;5;124m'\u001b[39m)\n",
      "\n",
      "\u001b[1;31mTypeError\u001b[0m: max() takes 0 positional arguments but 1 was given"
     ]
    }
   ],
   "source": [
    "# When builtin scope gets renamed by redefining.\n",
    "\n",
    "Lst = [1,2,3]\n",
    "print(max(Lst))\n",
    "\n",
    "def max():\n",
    "  print('function renamed')\n",
    "\n",
    "print(max(Lst)) # Error"
   ]
  },
  {
   "cell_type": "code",
   "execution_count": null,
   "metadata": {},
   "outputs": [
    {
     "name": "stdout",
     "output_type": "stream",
     "text": [
      "inner function 5\n",
      "outer function 3\n",
      "main program 1\n"
     ]
    }
   ],
   "source": [
    "# Enclosing scope\n",
    "\n",
    "def outer_func():\n",
    "  a = 3 # enclosing scope\n",
    "  def inner_func():\n",
    "    a = 5 # Local scope\n",
    "    print(\"inner function\",a)\n",
    "  inner_func()\n",
    "  print('outer function',a)\n",
    "\n",
    "a = 1 # global scope\n",
    "outer_func()\n",
    "print('main program',a)"
   ]
  },
  {
   "cell_type": "code",
   "execution_count": null,
   "metadata": {},
   "outputs": [
    {
     "ename": "UnboundLocalError",
     "evalue": "cannot access local variable 'a' where it is not associated with a value",
     "output_type": "error",
     "traceback": [
      "\u001b[1;31m---------------------------------------------------------------------------\u001b[0m\n",
      "\u001b[1;31mUnboundLocalError\u001b[0m                         Traceback (most recent call last)\n",
      "Cell \u001b[1;32mIn[45], line 12\u001b[0m\n",
      "\u001b[0;32m      9\u001b[0m   \u001b[38;5;28mprint\u001b[39m(\u001b[38;5;124m'\u001b[39m\u001b[38;5;124mouter function\u001b[39m\u001b[38;5;124m'\u001b[39m,a)\n",
      "\u001b[0;32m     11\u001b[0m a \u001b[38;5;241m=\u001b[39m \u001b[38;5;241m1\u001b[39m \u001b[38;5;66;03m# global scope\u001b[39;00m\n",
      "\u001b[1;32m---> 12\u001b[0m \u001b[43mouter_func\u001b[49m\u001b[43m(\u001b[49m\u001b[43m)\u001b[49m\n",
      "\u001b[0;32m     13\u001b[0m \u001b[38;5;28mprint\u001b[39m(\u001b[38;5;124m'\u001b[39m\u001b[38;5;124mmain program\u001b[39m\u001b[38;5;124m'\u001b[39m,a)\n",
      "\n",
      "Cell \u001b[1;32mIn[45], line 8\u001b[0m, in \u001b[0;36mouter_func\u001b[1;34m()\u001b[0m\n",
      "\u001b[0;32m      6\u001b[0m   a \u001b[38;5;241m+\u001b[39m\u001b[38;5;241m=\u001b[39m \u001b[38;5;241m5\u001b[39m \n",
      "\u001b[0;32m      7\u001b[0m   \u001b[38;5;28mprint\u001b[39m(\u001b[38;5;124m\"\u001b[39m\u001b[38;5;124minner function\u001b[39m\u001b[38;5;124m\"\u001b[39m,a)\n",
      "\u001b[1;32m----> 8\u001b[0m \u001b[43minner_func\u001b[49m\u001b[43m(\u001b[49m\u001b[43m)\u001b[49m\n",
      "\u001b[0;32m      9\u001b[0m \u001b[38;5;28mprint\u001b[39m(\u001b[38;5;124m'\u001b[39m\u001b[38;5;124mouter function\u001b[39m\u001b[38;5;124m'\u001b[39m,a)\n",
      "\n",
      "Cell \u001b[1;32mIn[45], line 6\u001b[0m, in \u001b[0;36mouter_func.<locals>.inner_func\u001b[1;34m()\u001b[0m\n",
      "\u001b[0;32m      5\u001b[0m \u001b[38;5;28;01mdef\u001b[39;00m \u001b[38;5;21minner_func\u001b[39m():\n",
      "\u001b[1;32m----> 6\u001b[0m   \u001b[43ma\u001b[49m \u001b[38;5;241m+\u001b[39m\u001b[38;5;241m=\u001b[39m \u001b[38;5;241m5\u001b[39m \n",
      "\u001b[0;32m      7\u001b[0m   \u001b[38;5;28mprint\u001b[39m(\u001b[38;5;124m\"\u001b[39m\u001b[38;5;124minner function\u001b[39m\u001b[38;5;124m\"\u001b[39m,a)\n",
      "\n",
      "\u001b[1;31mUnboundLocalError\u001b[0m: cannot access local variable 'a' where it is not associated with a value"
     ]
    }
   ],
   "source": [
    "# Changing enclosing scope var from inner function return an error.\n",
    "\n",
    "def outer_func():\n",
    "  a = 3  # enclosing scope\n",
    "  def inner_func():\n",
    "    a += 5 \n",
    "    print(\"inner function\",a)\n",
    "  inner_func()\n",
    "  print('outer function',a)\n",
    "\n",
    "a = 1 # global scope\n",
    "outer_func()\n",
    "print('main program',a)"
   ]
  },
  {
   "cell_type": "code",
   "execution_count": null,
   "metadata": {},
   "outputs": [
    {
     "name": "stdout",
     "output_type": "stream",
     "text": [
      "inner function 8\n",
      "outer function 8\n",
      "main program 1\n"
     ]
    }
   ],
   "source": [
    "# Use nonlocal keyword\n",
    "\n",
    "def outer_func():\n",
    "  a = 3  # enclosing scope\n",
    "  def inner_func():\n",
    "    nonlocal a\n",
    "    a += 5 \n",
    "    print(\"inner function\",a)\n",
    "  inner_func()\n",
    "  print('outer function',a)\n",
    "\n",
    "a = 1 # global scope\n",
    "outer_func()\n",
    "print('main program',a)"
   ]
  },
  {
   "cell_type": "markdown",
   "metadata": {},
   "source": [
    "## Practice questions on functions"
   ]
  },
  {
   "cell_type": "code",
   "execution_count": 14,
   "metadata": {},
   "outputs": [],
   "source": [
    "# Write a Python function to find the maximum of three numbers\n"
   ]
  },
  {
   "cell_type": "code",
   "execution_count": 15,
   "metadata": {},
   "outputs": [],
   "source": [
    "# Write a Python function that takes a number as a parameter and checks whether the number is prime or not.\n"
   ]
  },
  {
   "cell_type": "code",
   "execution_count": null,
   "metadata": {},
   "outputs": [],
   "source": [
    "# Create a function celsius_to_fahrenheit(c) that converts a given temperature in Celsius to Fahrenheit using the formula: F = (C * 9/5) + 32.\n"
   ]
  },
  {
   "cell_type": "code",
   "execution_count": 16,
   "metadata": {},
   "outputs": [],
   "source": [
    "# Write a function intreverse(n) that takes as input a positive integer n and returns the integer obtained by reversing the digits in n.\n",
    "\n",
    "# Test case:\n",
    "#    intreverse(783)\n",
    "#    Expected Output: 387\n"
   ]
  },
  {
   "cell_type": "markdown",
   "metadata": {},
   "source": [
    "# Types of the Argument:\n",
    "\n",
    "1. Default argument\n",
    "\n",
    "2. Keyword arguments (named arguments)\n",
    "\n",
    "3. Positional arguments\n",
    "\n",
    "4. Arbitrary arguments (variable-length arguments *args and **kwargs)"
   ]
  },
  {
   "cell_type": "markdown",
   "metadata": {},
   "source": [
    "#### 1. Default argument."
   ]
  },
  {
   "cell_type": "code",
   "execution_count": 4,
   "metadata": {},
   "outputs": [],
   "source": [
    "# A default argument is a parameter that assumes a default value if a value is not provided in the function call for that argument. \n",
    "def myFun(x, y=50):\n",
    "    print(\"x: \", x)\n",
    "    print(\"y: \", y)\n",
    "\n",
    "# myFun(10)\n",
    "# myFun(10,20)"
   ]
  },
  {
   "cell_type": "markdown",
   "metadata": {},
   "source": [
    "#### 2. Positional argument"
   ]
  },
  {
   "cell_type": "code",
   "execution_count": 7,
   "metadata": {},
   "outputs": [],
   "source": [
    "# Positional argument must be passed in corrrect position order.\n",
    "\n",
    "def fun (name,age,id1):\n",
    "    print(age,id1) \n",
    "    print('hello!'+name)\n",
    "    \n",
    "# fun(\"Shailesh\",24,\"skm22\")\n",
    "# fun(24,\"Shailesh\",\"skm22\")"
   ]
  },
  {
   "cell_type": "code",
   "execution_count": 21,
   "metadata": {},
   "outputs": [],
   "source": [
    "# Write a function that accepts two points (x1, y1) and (x2, y2) as input and calculates the Euclidean distance between them.\n",
    "\n",
    "def eucli_dist():\n",
    "\n",
    "    # code here\n",
    "\n",
    "    return"
   ]
  },
  {
   "cell_type": "markdown",
   "metadata": {},
   "source": [
    "#### 3. Keyword Argument"
   ]
  },
  {
   "cell_type": "code",
   "execution_count": 22,
   "metadata": {},
   "outputs": [],
   "source": [
    "#keyword argument can be passed out of the order.\n",
    "\n",
    "def fun (name,age,id1):\n",
    "    print(age,id1) \n",
    "    print('hello!'+name)\n",
    "    \n",
    "# fun(name=\"Shailesh\",age=24,id1=\"skm22\")\n",
    "# fun(age=24,name=\"Shailesh\",id1=\"skm22\") "
   ]
  },
  {
   "cell_type": "code",
   "execution_count": 23,
   "metadata": {},
   "outputs": [],
   "source": [
    "# Write a function that converts temperature from Fahrenheit to Celsius or Celsius to Fahrenheit based on the given temperature and scale (F or C).\n",
    "# Use keyword arguments to specify the conversion type.\n",
    "\n",
    "def temp_converter():\n",
    "\n",
    "    # code here\n",
    "\n",
    "    return"
   ]
  },
  {
   "cell_type": "markdown",
   "metadata": {},
   "source": [
    "#### Both positional and keyword."
   ]
  },
  {
   "cell_type": "code",
   "execution_count": 14,
   "metadata": {},
   "outputs": [
    {
     "name": "stdout",
     "output_type": "stream",
     "text": [
      "24 skm22\n",
      "SHAILESH\n"
     ]
    }
   ],
   "source": [
    "# positional argument must precede keyword argument\n",
    "\n",
    "def fun (name,age,id1):\n",
    "    print(age,id1) \n",
    "    print('hello!'+name)\n",
    "\n",
    "# fun(\"Shailesh\",id1=\"skm22\",age=24)\n",
    "# fun(24,name=\"Shailesh\",id1=\"skm22\") "
   ]
  },
  {
   "cell_type": "markdown",
   "metadata": {},
   "source": [
    "#### 4. Arbitary arguments:\n",
    "\n",
    "- Variable length positional argument:    \n",
    "-> In some case  positional arguments to be passed is not known then we use *args as argument at the time of the definition "
   ]
  },
  {
   "cell_type": "code",
   "execution_count": 10,
   "metadata": {},
   "outputs": [],
   "source": [
    "def sum(*args):\n",
    "    print(type(args))\n",
    "    ans=0\n",
    "    for var in args:\n",
    "        ans+=var\n",
    "    print(ans)\n",
    "\n",
    "# sum(10,20,30)\n",
    "# sum(10,20,30,40,50)"
   ]
  },
  {
   "cell_type": "code",
   "execution_count": 11,
   "metadata": {},
   "outputs": [],
   "source": [
    "def sum1(* args):\n",
    "    sum=0\n",
    "    for i in args:\n",
    "        sum+=i\n",
    "    print(sum) \n",
    "      \n",
    "      \n",
    "lst=[10,20,30]\n",
    "tpl=(10,20,30,40,50)\n",
    "st={10,20,30,40,50}\n",
    "dict1={10:5,20:11,30:12}\n",
    "\n",
    "# sum1(*lst) # -> sum1(10,20,30)\n",
    "# sum1(*tpl)\n",
    "# sum1(*st) # -> sum1(10,20,30,40,50)\n",
    "# sum1(*dict1)\n",
    "\n"
   ]
  },
  {
   "cell_type": "code",
   "execution_count": 24,
   "metadata": {},
   "outputs": [],
   "source": [
    "# Write a function that takes any number of student exam scores as arguments and returns the average score.\n",
    "\n",
    "def avg_score():\n",
    "\n",
    "    # code here\n",
    "\n",
    "    return"
   ]
  },
  {
   "cell_type": "markdown",
   "metadata": {},
   "source": [
    "#### 4. Arbitary arguments:\n",
    "\n",
    "- Variable length Keyword argument:   \n",
    "-> we use **kwargs when it is unknown that how many keyword argument is providing to that function."
   ]
  },
  {
   "cell_type": "code",
   "execution_count": 12,
   "metadata": {},
   "outputs": [],
   "source": [
    "def print_it(** kwargs):\n",
    "    print(type(kwargs))\n",
    "    for name,value in kwargs.items():\n",
    "        print(name,value,end=\" \")\n",
    "\n",
    "# print_it(a=10,b=20,c=50,d=40)"
   ]
  },
  {
   "cell_type": "code",
   "execution_count": 25,
   "metadata": {},
   "outputs": [],
   "source": [
    "# Write a function that accepts any number of personal details (like name, age, email, etc.) \n",
    "# and prints each detail on a new line, even if some details are missing. \n",
    "\n",
    "def accept_details():\n",
    "\n",
    "    # code here\n",
    "    \n",
    "    return"
   ]
  },
  {
   "cell_type": "code",
   "execution_count": null,
   "metadata": {},
   "outputs": [],
   "source": [
    "# Write a function that calculates the total price of items in a shopping cart.\n",
    "# It should accept any number of item prices as positional arguments, and a discount percentage as a keyword argument with a default value of 0%.\n",
    "\n",
    "def calculate_bill():\n",
    "\n",
    "    # code here\n",
    "\n",
    "    return"
   ]
  },
  {
   "cell_type": "markdown",
   "metadata": {},
   "source": [
    "# Practice questions on functions."
   ]
  },
  {
   "cell_type": "code",
   "execution_count": 13,
   "metadata": {},
   "outputs": [],
   "source": [
    "# Write a Python function to calculate the factorial of a number (a non-negative integer). The function accepts the number as an argument.\n"
   ]
  },
  {
   "cell_type": "code",
   "execution_count": null,
   "metadata": {},
   "outputs": [],
   "source": [
    "# Create a function is_palindrome(n) that returns True if the number is the same when read forwards and backwards (e.g., 121, 1331).\n"
   ]
  },
  {
   "cell_type": "code",
   "execution_count": 17,
   "metadata": {},
   "outputs": [],
   "source": [
    "# Create a function lcm(a, b) that returns the LCM of two numbers a and b.\n"
   ]
  },
  {
   "cell_type": "code",
   "execution_count": 18,
   "metadata": {},
   "outputs": [],
   "source": [
    "# Create a function count_digit(n, digit) that returns how many times digit appears in the number n\n"
   ]
  },
  {
   "cell_type": "code",
   "execution_count": 20,
   "metadata": {},
   "outputs": [],
   "source": [
    "# Create a recursive function fibonacci(n) that returns the n-th Fibonacci number. \n",
    "# (Fibonacci sequence: 0, 1, 1, 2, 3, 5, ...)"
   ]
  }
 ],
 "metadata": {
  "colab": {
   "name": "Functions_Introduction.ipynb",
   "provenance": []
  },
  "kernelspec": {
   "display_name": "Python 3",
   "language": "python",
   "name": "python3"
  },
  "language_info": {
   "codemirror_mode": {
    "name": "ipython",
    "version": 3
   },
   "file_extension": ".py",
   "mimetype": "text/x-python",
   "name": "python",
   "nbconvert_exporter": "python",
   "pygments_lexer": "ipython3",
   "version": "3.12.3"
  }
 },
 "nbformat": 4,
 "nbformat_minor": 0
}
