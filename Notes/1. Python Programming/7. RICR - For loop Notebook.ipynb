{
  "cells": [
    {
      "cell_type": "markdown",
      "metadata": {
        "id": "OaeSlvRlQxZr"
      },
      "source": [
        "# Python for Loop"
      ]
    },
    {
      "cell_type": "markdown",
      "metadata": {
        "id": "mWRuZi5wQxZu"
      },
      "source": [
        "The for loop in Python is used to iterate over a sequence (such as a list, tuple, or string) or other iterable objects.\n",
        "\n",
        "This process of going through a sequence is known as traversal."
      ]
    },
    {
      "cell_type": "markdown",
      "metadata": {
        "id": "HoHdlyZkQxZx"
      },
      "source": [
        "## Syntax:"
      ]
    },
    {
      "cell_type": "markdown",
      "metadata": {
        "id": "8zrVIhSuQxZz"
      },
      "source": [
        "    for element in sequence :\n",
        "\n",
        "        Body of for"
      ]
    },
    {
      "cell_type": "markdown",
      "metadata": {
        "id": "MmQ0IYynQxZ1"
      },
      "source": [
        "In this context, the variable element holds the value of each item in the sequence during each iteration.\n",
        "\n",
        "The loop continues until it has processed the last item in the sequence."
      ]
    },
    {
      "cell_type": "markdown",
      "metadata": {
        "id": "521Cq0xfQxZ4"
      },
      "source": [
        "<h3 align=\"center\">\n",
        "  # Flow Chart of for loop\n",
        "</h3>\n",
        "\n",
        "<p align=\"center\">\n",
        "  <img src=\"./Images/forloop.jpg\" alt=\"Python if statement\" width=\"300\" height=\"350\"/>\n",
        "</p>\n"
      ]
    },
    {
      "cell_type": "markdown",
      "metadata": {},
      "source": [
        "We can create a sequence of numbers using the range() function. For example, range(10) generates numbers from 0 to 9 (a total of 10 numbers).\n",
        "\n",
        "So, first we have study range() function -> how it works."
      ]
    },
    {
      "cell_type": "markdown",
      "metadata": {
        "id": "3FMtLcozQxaG"
      },
      "source": [
        "# range() function"
      ]
    },
    {
      "cell_type": "markdown",
      "metadata": {
        "id": "lVF4Vy6KQxaH"
      },
      "source": [
        "The range() function generates a sequence of numbers, which can be iterated over using a for loop.\n",
        "\n",
        "Parameters:\n",
        "\n",
        "- start: (Optional) The starting value of the sequence (inclusive). Defaults to 0 if not provided.\n",
        "\n",
        "- stop: The end value of the sequence (exclusive). The sequence stops before reaching this value.\n",
        "\n",
        "- step: (Optional) The difference between each consecutive number. Defaults to 1 if not provided.\n"
      ]
    },
    {
      "cell_type": "markdown",
      "metadata": {},
      "source": [
        "### Rules for range() in Python:\n",
        "\n",
        "- range(stop): Generates numbers from 0 to stop (exclusive).\n",
        "\n",
        "- range(start, stop): Generates numbers from start (inclusive) to stop (exclusive).\n",
        "\n",
        "- range(start, stop, step): Generates numbers from start to stop with a specified step size.\\\n",
        "\n",
        "- If step is not provided, it defaults to 1.\n",
        "\n",
        "- The stop value is not included in the generated sequence.\n",
        "\n",
        "- If the start is greater than or equal to stop (with a positive step), or if the start is less than or equal to stop (with a negative step), it returns an empty range.\n",
        "\n",
        "- Step cannot be zero.\n",
        "\n",
        "- The values of start, stop, and step cannot be float, string or bool. It should be only integer value.\n",
        "\n",
        "- You can use a negative step to count down (e.g., range(10, 0, -1))."
      ]
    },
    {
      "cell_type": "code",
      "execution_count": null,
      "metadata": {},
      "outputs": [],
      "source": [
        "range(5) # produces: 0, 1, 2, 3, 4\n",
        "range(2, 6) # produces: 2, 3, 4, 5\n",
        "range(1, 10, 2) # produces: 1, 3, 5, 7, 9\n",
        "range(10, 0, -1) # produces: 10, 9, 8, 7, 6, 5, 4, 3, 2, 1"
      ]
    },
    {
      "cell_type": "markdown",
      "metadata": {},
      "source": [
        "## Practice range()\n",
        "\n",
        "1. range(10, 0, -1)\n",
        "\n",
        "2. range(1, 10, 2)\n",
        "\n",
        "3. range(5)\n",
        "\n",
        "4. range(5, 5)\n",
        "\n",
        "5. range(5, 0, -1)\n",
        "\n",
        "6. range(-5, 0)\n",
        "\n",
        "7. range(1, 0)\n",
        "\n",
        "8. range(0, 10, 0) # (Error)\n",
        "\n",
        "9. range(10, -1, -3)\n",
        "\n",
        "10. range(10, 10, 1)\n",
        "\n",
        "11. range(2, 20, 4)\n",
        "\n",
        "12. range(5, 1, -1)\n",
        "\n",
        "13. range(3, 0, -1)\n",
        "\n",
        "14. range(0, -10, -2)\n",
        "\n",
        "15. range(7, 5, 1) # (Empty range)"
      ]
    },
    {
      "cell_type": "markdown",
      "metadata": {},
      "source": [
        "## Solutions:\n",
        "\n",
        "1. range(10, 0, -1) -> Produces: 10, 9, 8, 7, 6, 5, 4, 3, 2, 1\n",
        "\n",
        "2. range(1, 10, 2) -> Produces: 1, 3, 5, 7, 9\n",
        "\n",
        "3. range(5) -> Produces: 0, 1, 2, 3, 4\n",
        "\n",
        "4. range(5, 5) -> Produces: (empty range)\n",
        "\n",
        "5. range(5, 0, -1) -> Produces: 5, 4, 3, 2, 1\n",
        "\n",
        "6. range(-5, 0) -> Produces: -5, -4, -3, -2, -1\n",
        "\n",
        "7. range(1, 0) -> Produces: (empty range)\n",
        "\n",
        "8. range(0, 10, 0) -> Error: ValueError (step cannot be zero)\n",
        "\n",
        "9. range(10, -1, -3) -> Produces: 10, 7, 4, 1\n",
        "\n",
        "10. range(10, 10, 1) -> Produces: (empty range)\n",
        "\n",
        "11. range(2, 20, 4) -> Produces: 2, 6, 10, 14, 18\n",
        "\n",
        "12. range(5, 1, -1) -> Produces: 5, 4, 3, 2\n",
        "\n",
        "13. range(3, 0, -1) -> Produces: 3, 2, 1\n",
        "\n",
        "14. range(0, -10, -2) -> Produces: 0, -2, -4, -6, -8\n",
        "\n",
        "15. range(7, 5, 1) -> Produces: (empty range)\n"
      ]
    },
    {
      "cell_type": "code",
      "execution_count": 8,
      "metadata": {
        "id": "xp3D6jNTQxaI",
        "outputId": "622ffafa-4ae9-4602-d6ae-02500828aa7a"
      },
      "outputs": [],
      "source": [
        "# print range of 10\n"
      ]
    },
    {
      "cell_type": "code",
      "execution_count": 2,
      "metadata": {
        "id": "HeGUHz5BQxaN",
        "outputId": "a27f27fc-0629-40b1-9f98-a90e7faca0d1"
      },
      "outputs": [],
      "source": [
        "#print range of numbers from 1 to 20 with step size of 2\n"
      ]
    },
    {
      "cell_type": "markdown",
      "metadata": {
        "id": "q4hvJ3n6QxaU"
      },
      "source": [
        "# for loop with else"
      ]
    },
    {
      "cell_type": "markdown",
      "metadata": {
        "id": "tUGZf_sQQxaW"
      },
      "source": [
        "A for loop can also include an optional else block. The else section executes when the loop fully iterates over the sequence.\n",
        "\n",
        "If a break statement is used to stop the loop, the else block is skipped.\n",
        "\n",
        "Therefore, the else block in a for loop only runs when no break occurs."
      ]
    },
    {
      "cell_type": "code",
      "execution_count": 1,
      "metadata": {
        "id": "j0fE1yOGQxaX",
        "outputId": "d29bfdbb-d235-4eba-8b5b-d9031772a474"
      },
      "outputs": [
        {
          "name": "stdout",
          "output_type": "stream",
          "text": [
            "0\n",
            "1\n",
            "2\n",
            "3\n",
            "4\n",
            "Else block\n"
          ]
        }
      ],
      "source": [
        "for i in range(5):\n",
        "    print(i)\n",
        "else:\n",
        "    print(\"Else block\")"
      ]
    },
    {
      "cell_type": "code",
      "execution_count": 4,
      "metadata": {
        "id": "FXDUZ8eaQxac",
        "outputId": "367100da-0fa9-499c-d4c3-0990af072d93"
      },
      "outputs": [
        {
          "name": "stdout",
          "output_type": "stream",
          "text": [
            "0\n",
            "1\n",
            "2\n",
            "3\n"
          ]
        }
      ],
      "source": [
        "for item in range(6):\n",
        "    print(item)\n",
        "    if item > 2:\n",
        "        break\n",
        "else:\n",
        "    print(\"no item left in the list\")"
      ]
    },
    {
      "cell_type": "markdown",
      "metadata": {},
      "source": [
        "# Practice Questions for loop."
      ]
    },
    {
      "cell_type": "code",
      "execution_count": 9,
      "metadata": {
        "id": "JTmwS0CEQxam"
      },
      "outputs": [],
      "source": [
        "# Write a for loop to print only even numbers between 0 and 20"
      ]
    },
    {
      "cell_type": "code",
      "execution_count": 10,
      "metadata": {},
      "outputs": [],
      "source": [
        "# Write a for loop to print numbers from 10 down to 1"
      ]
    },
    {
      "cell_type": "code",
      "execution_count": 11,
      "metadata": {},
      "outputs": [],
      "source": [
        "# Write a for loop to calculate the product of numbers from 1 to 10"
      ]
    },
    {
      "cell_type": "code",
      "execution_count": 12,
      "metadata": {},
      "outputs": [],
      "source": [
        "# Write a for loop to print multiples of 5 between 5 and 50"
      ]
    },
    {
      "cell_type": "code",
      "execution_count": 13,
      "metadata": {},
      "outputs": [],
      "source": [
        "# Write a for loop to print numbers divisible by 4 between 1 and 20"
      ]
    },
    {
      "cell_type": "code",
      "execution_count": 14,
      "metadata": {},
      "outputs": [],
      "source": [
        "# Write a for loop to calculate the sum of squares of even numbers between 1 and 50"
      ]
    },
    {
      "cell_type": "code",
      "execution_count": 15,
      "metadata": {},
      "outputs": [],
      "source": [
        "# Write a program which finds the factor of a given number as a input."
      ]
    },
    {
      "cell_type": "code",
      "execution_count": null,
      "metadata": {},
      "outputs": [],
      "source": [
        "# Write a program to calculate the factorial of a given number."
      ]
    },
    {
      "cell_type": "code",
      "execution_count": null,
      "metadata": {},
      "outputs": [],
      "source": []
    },
    {
      "cell_type": "markdown",
      "metadata": {},
      "source": [
        "# =============================================="
      ]
    },
    {
      "cell_type": "markdown",
      "metadata": {},
      "source": []
    }
  ],
  "metadata": {
    "colab": {
      "provenance": []
    },
    "kernelspec": {
      "display_name": "Python 3",
      "language": "python",
      "name": "python3"
    },
    "language_info": {
      "codemirror_mode": {
        "name": "ipython",
        "version": 3
      },
      "file_extension": ".py",
      "mimetype": "text/x-python",
      "name": "python",
      "nbconvert_exporter": "python",
      "pygments_lexer": "ipython3",
      "version": "3.12.3"
    }
  },
  "nbformat": 4,
  "nbformat_minor": 0
}
