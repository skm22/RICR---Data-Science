{
 "cells": [
  {
   "cell_type": "markdown",
   "metadata": {},
   "source": [
    "# Solutions"
   ]
  },
  {
   "cell_type": "markdown",
   "metadata": {},
   "source": [
    "1. Write a Python program that prompts the user to input\n",
    "two numbers and raises a TypeError exception if the inputs are not\n",
    "numerical and handle that exception by giving any message."
   ]
  },
  {
   "cell_type": "code",
   "execution_count": null,
   "metadata": {},
   "outputs": [],
   "source": [
    "# 1->\n",
    "\n",
    "try:\n",
    "    a = input(\"Enter first number: \")\n",
    "    b = input(\"Enter second number: \")\n",
    "    if not (a.isdigit() and b.isdigit()):\n",
    "        raise TypeError(\"Input must be numbers.\")\n",
    "    print(\"Sum:\", int(a) + int(b))\n",
    "except TypeError as e:\n",
    "    print(\"Error:\", e)"
   ]
  },
  {
   "cell_type": "markdown",
   "metadata": {},
   "source": [
    "2. Write a Python program that prompts the user to input a number\n",
    "and handles a KeyboardInterrupt exception if the user cancels the\n",
    "input."
   ]
  },
  {
   "cell_type": "code",
   "execution_count": null,
   "metadata": {},
   "outputs": [],
   "source": [
    "# 2-> \n",
    "\n",
    "try:\n",
    "    x = input(\"Enter a number: \")\n",
    "    print(\"You entered:\", x)\n",
    "except KeyboardInterrupt:\n",
    "    print(\"\\nInput canceled by user.\")\n"
   ]
  },
  {
   "cell_type": "markdown",
   "metadata": {},
   "source": [
    "3. Create a calculator that supports addition, subtraction,     \n",
    "multiplication, and division. Use exception handling for invalid     \n",
    "operators, numbers, and division by zero with custom error     \n",
    "messages.     "
   ]
  },
  {
   "cell_type": "code",
   "execution_count": null,
   "metadata": {},
   "outputs": [],
   "source": [
    "# 3->\n",
    "\n",
    "try:\n",
    "    x = float(input(\"Enter first number: \"))\n",
    "    y = float(input(\"Enter second number: \"))\n",
    "    op = input(\"Enter operation (+, -, *, /): \")\n",
    "    if op == \"+\":\n",
    "        print(\"Result:\", x + y)\n",
    "    elif op == \"-\":\n",
    "        print(\"Result:\", x - y)\n",
    "    elif op == \"*\":\n",
    "        print(\"Result:\", x * y)\n",
    "    elif op == \"/\":\n",
    "        if y == 0:\n",
    "            raise ZeroDivisionError(\"Cannot divide by zero.\")\n",
    "        print(\"Result:\", x / y)\n",
    "    else:\n",
    "        raise ValueError(\"Invalid operator.\")\n",
    "except Exception as e:\n",
    "    print(\"Error:\", e)"
   ]
  },
  {
   "cell_type": "markdown",
   "metadata": {},
   "source": [
    "4. Write a Python program to create a dictionary of students and   \n",
    "their marks. Ask for a student’s name and display their marks.   \n",
    "Handle exceptions for missing students and invalid input.   "
   ]
  },
  {
   "cell_type": "code",
   "execution_count": null,
   "metadata": {},
   "outputs": [],
   "source": [
    "# 4->\n",
    "\n",
    "data = {\"Name1\": 85, \"Name2\": 92, \"Name3\": 78}\n",
    "try:\n",
    "    a = input(\"Enter student name: \")\n",
    "    print(\"Marks:\", data[a])\n",
    "except KeyError:\n",
    "    print(\"Student not found.\")\n",
    "except Exception:\n",
    "    print(\"Invalid input.\")\n"
   ]
  },
  {
   "cell_type": "markdown",
   "metadata": {},
   "source": [
    "5. Create a banking system with deposit, withdraw, and balance    \n",
    "check features. Handle exceptions for invalid amounts, negative    \n",
    "transactions, and withdrawals beyond the balance.    "
   ]
  },
  {
   "cell_type": "code",
   "execution_count": null,
   "metadata": {},
   "outputs": [],
   "source": [
    "# 5->\n",
    "\n",
    "bal = 1000\n",
    "\n",
    "def depo(x):\n",
    "    global bal\n",
    "    if x <= 0:\n",
    "        raise ValueError(\"Invalid deposit amount.\")\n",
    "    bal += x\n",
    "    print(\"Deposited:\", x)\n",
    "\n",
    "def wtd(x):\n",
    "    global bal\n",
    "    if x <= 0:\n",
    "        raise ValueError(\"Invalid withdrawal amount.\")\n",
    "    if x > bal:\n",
    "        raise ValueError(\"Insufficient balance.\")\n",
    "    bal -= x\n",
    "    print(\"Withdrawn:\", x)\n",
    "\n",
    "try:\n",
    "    print(\"Balance:\", bal)\n",
    "    act = input(\"Enter action (d/w/b): \")\n",
    "    if act == \"d\":\n",
    "        depo(int(input(\"Enter deposit: \")))\n",
    "    elif act == \"w\":\n",
    "        wtd(int(input(\"Enter withdrawal: \")))\n",
    "    elif act == \"b\":\n",
    "        print(\"Balance:\", bal)\n",
    "    else:\n",
    "        print(\"Invalid action.\")\n",
    "except Exception as e:\n",
    "    print(\"Error:\", e)"
   ]
  },
  {
   "cell_type": "markdown",
   "metadata": {},
   "source": [
    "6. Create user authentication system where wrong credentials raise   \n",
    "an exception. Confirm whether the login process is always   \n",
    "completed, regardless of success   "
   ]
  },
  {
   "cell_type": "code",
   "execution_count": null,
   "metadata": {},
   "outputs": [],
   "source": [
    "# 6-> \n",
    "\n",
    "try:\n",
    "    usr = \"username\"\n",
    "    pwd = \"password\"\n",
    "    u = input(\"Enter username: \")\n",
    "    p = input(\"Enter password: \")\n",
    "    if u != usr or p != pwd:\n",
    "        raise ValueError(\"Invalid credentials.\")\n",
    "    print(\"Login successful.\")\n",
    "except ValueError as e:\n",
    "    print(\"Error:\", e)\n",
    "finally:\n",
    "    print(\"Login process completed.\")"
   ]
  },
  {
   "cell_type": "markdown",
   "metadata": {},
   "source": [
    "7. Write a Python program that checks if a number is prime. Raise an    \n",
    "exception if the input is not a positive integer, and always confirm    \n",
    "that the check is complete    "
   ]
  },
  {
   "cell_type": "code",
   "execution_count": null,
   "metadata": {},
   "outputs": [],
   "source": [
    "# 7->\n",
    "\n",
    "def is_prime(n):\n",
    "    if n <= 1:\n",
    "        raise ValueError(\"Not a positive integer.\")\n",
    "    elif n == 2:\n",
    "      return True\n",
    "    for i in range(2, n + 1):\n",
    "        if n % i == 0:\n",
    "            return False\n",
    "    return True\n",
    "\n",
    "try:\n",
    "    x = int(input(\"Enter a number: \"))\n",
    "    print(\"Prime:\", is_prime(x))\n",
    "except Exception as e:\n",
    "    print(\"Error:\", e)\n",
    "finally:\n",
    "    print(\"Prime check complete.\")"
   ]
  },
  {
   "cell_type": "markdown",
   "metadata": {},
   "source": [
    "8. Write a Python program to validate a password. Raise an     \n",
    "exception if the password doesn’t meet length or character type     \n",
    "requirements, and always confirm whether the password validation     \n",
    "process was attempted     "
   ]
  },
  {
   "cell_type": "code",
   "execution_count": null,
   "metadata": {},
   "outputs": [],
   "source": [
    "# 8->\n",
    "\n",
    "try:\n",
    "    pw = input(\"Enter password: \")\n",
    "    has_digit = False\n",
    "    has_alpha = False\n",
    "\n",
    "    for c in pw:\n",
    "        if c.isdigit():\n",
    "            has_digit = True\n",
    "        if c.isalpha():\n",
    "            has_alpha = True\n",
    "    \n",
    "    if len(pw) < 8 or not has_digit or not has_alpha:\n",
    "        raise ValueError(\"Password must be 8+ chars with letters and numbers.\")\n",
    "    print(\"Password valid.\")\n",
    "except Exception as e:\n",
    "    print(\"Error:\", e)\n",
    "finally:\n",
    "    print(\"Password validation attempted.\")"
   ]
  },
  {
   "cell_type": "markdown",
   "metadata": {},
   "source": [
    "9. Write a Python program that simulates adding items to a shopping    \n",
    "cart. If an item is out of stock, raise an exception. Ensure the    \n",
    "program always completes the checkout process, even if some items    \n",
    "are unavailable    "
   ]
  },
  {
   "cell_type": "code",
   "execution_count": null,
   "metadata": {},
   "outputs": [],
   "source": [
    "# 9->\n",
    "\n",
    "cart = {\"item1\": 10, \"item2\": 0, \"item3\": 5}\n",
    "try:\n",
    "    it = input(\"Enter item: \")\n",
    "    if it not in cart or cart[it] == 0:\n",
    "        raise ValueError(\"Item out of stock.\")\n",
    "    print(\"Item added to cart:\", it)\n",
    "except Exception as e:\n",
    "    print(\"Error:\", e)\n",
    "finally:\n",
    "    print(\"Checkout process complete.\")"
   ]
  },
  {
   "cell_type": "markdown",
   "metadata": {},
   "source": [
    "10. Write a Python program to calculate the square root of a    \n",
    "number. If the input is negative, raise an exception. Ensure the    \n",
    "program always confirms that the calculation has been attempted.    "
   ]
  },
  {
   "cell_type": "code",
   "execution_count": null,
   "metadata": {},
   "outputs": [],
   "source": [
    "# 10->\n",
    "\n",
    "try:\n",
    "    n = float(input(\"Enter a number: \"))\n",
    "    if n < 0:\n",
    "        raise ValueError(\"Cannot calculate square root of negative number.\")\n",
    "    print(\"Square root:\", n ** 0.5)\n",
    "except Exception as e:\n",
    "    print(\"Error:\", e)\n",
    "finally:\n",
    "    print(\"Calculation attempted.\")"
   ]
  }
 ],
 "metadata": {
  "kernelspec": {
   "display_name": "Python 3",
   "language": "python",
   "name": "python3"
  },
  "language_info": {
   "name": "python",
   "version": "3.13.0"
  }
 },
 "nbformat": 4,
 "nbformat_minor": 2
}
