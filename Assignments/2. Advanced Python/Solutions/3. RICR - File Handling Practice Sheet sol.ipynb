{
 "cells": [
  {
   "cell_type": "code",
   "execution_count": null,
   "metadata": {},
   "outputs": [
    {
     "name": "stdout",
     "output_type": "stream",
     "text": [
      "File 'students.txt' created and data written successfully.\n"
     ]
    }
   ],
   "source": [
    "# Create and write the data into 'students.txt'\n",
    "with open('students.txt', 'w') as file:\n",
    "    file.write(\"Alice scored 85 in mathematics.\\n\")\n",
    "    file.write(\"Bob scored 78 in science.\\n\")\n",
    "    file.write(\"Charlie scored 92 in English.\\n\")\n",
    "\n",
    "print(\"File 'students.txt' created and data written successfully.\")"
   ]
  },
  {
   "cell_type": "code",
   "execution_count": null,
   "metadata": {},
   "outputs": [],
   "source": [
    "def replace_scores_with_excellent(filename):\n",
    "    with open(filename, 'r+') as file:\n",
    "        lines = file.readlines()  # Read all lines from the file\n",
    "        file.seek(0)  # Move the cursor to the beginning to overwrite content\n",
    "        for line in lines:\n",
    "            # Replace any score greater than 80 with 'Excellent'\n",
    "            if any(int(word) > 80 for word in line.split() if word.isdigit()):\n",
    "                line = line.replace(str([int(word) for word in line.split() if word.isdigit()][0]), 'Excellent')\n",
    "            file.write(line)\n",
    "\n",
    "# Call the function\n",
    "replace_scores_with_excellent('students.txt')\n",
    "print(\"Scores greater than 80 replaced with 'Excellent'.\")\n"
   ]
  },
  {
   "cell_type": "code",
   "execution_count": null,
   "metadata": {},
   "outputs": [],
   "source": [
    "# Solution for Question 3\n",
    "\n",
    "def check_word_in_file(filename, word):\n",
    "    with open(filename, 'r') as file:\n",
    "        content = file.read()  # Read the content of the file\n",
    "        return word in content\n",
    "\n",
    "# Call the function and check if 'science' is present\n",
    "word_exists = check_word_in_file('students.txt', 'science')\n",
    "print(\"'science' exists in file:\", word_exists)\n"
   ]
  },
  {
   "cell_type": "code",
   "execution_count": null,
   "metadata": {},
   "outputs": [],
   "source": [
    "# Solution for Question 4\n",
    "\n",
    "def find_line_with_word(filename, word):\n",
    "    with open(filename, 'r') as file:\n",
    "        lines = file.readlines()  # Read all lines from the file\n",
    "        for line_num, line in enumerate(lines, start=1):\n",
    "            if word in line:\n",
    "                return line_num\n",
    "    return -1  # Return -1 if the word is not found\n",
    "\n",
    "# Call the function and find the line number where 'scored' appears\n",
    "line_number = find_line_with_word('students.txt', 'scored')\n",
    "print(\"Line number where 'scored' appears:\", line_number)\n"
   ]
  },
  {
   "cell_type": "code",
   "execution_count": null,
   "metadata": {},
   "outputs": [],
   "source": [
    "\n",
    "# Create and write grades into 'grades.txt'\n",
    "with open('grades.txt', 'w') as file:\n",
    "    file.write(\"A B C A D A B\\n\")\n",
    "\n",
    "# Function to count occurrences of grade 'A'\n",
    "def count_grade_a(filename):\n",
    "    with open(filename, 'r') as file:\n",
    "        content = file.read()  # Read the entire content\n",
    "        grades = content.split()  # Split the content into grades\n",
    "        return grades.count('A')  # Count the occurrences of 'A'\n",
    "\n",
    "# Call the function to count grade 'A'\n",
    "grade_a_count = count_grade_a('grades.txt')\n",
    "print(\"Grade 'A' appears\", grade_a_count, \"times in the file.\")\n"
   ]
  }
 ],
 "metadata": {
  "language_info": {
   "name": "python"
  }
 },
 "nbformat": 4,
 "nbformat_minor": 2
}
