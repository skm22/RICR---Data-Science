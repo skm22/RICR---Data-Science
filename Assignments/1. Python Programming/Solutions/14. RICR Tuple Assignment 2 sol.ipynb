{
 "cells": [
  {
   "cell_type": "markdown",
   "metadata": {},
   "source": [
    "Q1. Write a Python program to check if a specified element appears in a tuple of tuples."
   ]
  },
  {
   "cell_type": "code",
   "execution_count": 3,
   "metadata": {},
   "outputs": [
    {
     "name": "stdout",
     "output_type": "stream",
     "text": [
      "False\n"
     ]
    }
   ],
   "source": [
    "my_tuple=(('Red', 'White', 'Blue'), ('Green', 'Pink', 'Purple'), ('Orange', 'Yellow', 'Lime'))\n",
    "n = input()\n",
    "for i in  my_tuple:\n",
    "    if n in i:\n",
    "        print(\"True\")\n",
    "        break\n",
    "else:\n",
    "    print(\"False\")"
   ]
  },
  {
   "cell_type": "markdown",
   "metadata": {},
   "source": [
    "Q2. WAP to check the tuple contain any duplicate element."
   ]
  },
  {
   "cell_type": "code",
   "execution_count": null,
   "metadata": {},
   "outputs": [
    {
     "name": "stdout",
     "output_type": "stream",
     "text": [
      "False\n"
     ]
    }
   ],
   "source": [
    "c=(1,2,3,4,5,6,7,8,3,7)\n",
    "duplicates={}\n",
    "for i in c:\n",
    "    if c.count(i)>1:\n",
    "        print(\"True\")\n",
    "        break\n",
    "else:\n",
    "    print(\"False\")      "
   ]
  },
  {
   "cell_type": "markdown",
   "metadata": {},
   "source": [
    "Q3. WAP to check if all the element of a tuple are in descending order or not."
   ]
  },
  {
   "cell_type": "code",
   "execution_count": null,
   "metadata": {},
   "outputs": [
    {
     "name": "stdout",
     "output_type": "stream",
     "text": [
      "False\n"
     ]
    }
   ],
   "source": [
    "c=(3,2,1,3)\n",
    "\n",
    "for i in range(len(c)-1):\n",
    "    if c[i]<c[i+1]:\n",
    "        print(\"False\")\n",
    "        break\n",
    "else:\n",
    "    print(\"True\")"
   ]
  },
  {
   "cell_type": "markdown",
   "metadata": {},
   "source": [
    "Q4. WAP to check if the elements in the first half of a tuple are sorted in ascending or not."
   ]
  },
  {
   "cell_type": "code",
   "execution_count": 14,
   "metadata": {},
   "outputs": [
    {
     "name": "stdout",
     "output_type": "stream",
     "text": [
      "True\n"
     ]
    }
   ],
   "source": [
    "c=(1,2,3,4,5,6,7)\n",
    "half=len(c)//2\n",
    "ans=True\n",
    "for i in range(1,half):\n",
    "    if c[i]<c[i-1]:\n",
    "        ans=False\n",
    "        break\n",
    "print(ans)"
   ]
  },
  {
   "cell_type": "markdown",
   "metadata": {},
   "source": [
    "Q5. WAP to inputs name of n students and store them in a tuple . Also , input a name from the user and if this student is present in the tuple or not."
   ]
  },
  {
   "cell_type": "code",
   "execution_count": null,
   "metadata": {},
   "outputs": [
    {
     "name": "stdout",
     "output_type": "stream",
     "text": [
      "Enter the name of student  1 : Anaya\n",
      "Enter the name of student  2 : Kusha\n",
      "Enter the name of student  3 : Kyle\n",
      "Enter the name of student  4 : Kirat\n",
      "Enter the name of student  5 : Suji\n",
      "Enter name to be Searched for : ('Anaya', 'Kusha', 'Kyle', 'Kirat', 'Suji')\n",
      "Suji  exist in tuple\n"
     ]
    }
   ],
   "source": [
    "n = int(input(\"How many students? :\"))\n",
    "s = ()\n",
    "for i in range(1,n+1):\n",
    "    name = input(\"Enter the name of student :\")\n",
    "    print(\"Enter the name of student \",i,':',name)\n",
    "    s = s + (name,)\n",
    "print(\"Enter name to be Searched for :\",end=' ')\n",
    "r = input()\n",
    "print(s)\n",
    "if r in s:\n",
    "    print(r,\"exist in tuple\")\n",
    "else:\n",
    "    print(r,\"does not exsit in tuple\")"
   ]
  },
  {
   "cell_type": "markdown",
   "metadata": {},
   "source": [
    "Q6. Python program to find unique numbers in a given tuple –"
   ]
  },
  {
   "cell_type": "code",
   "execution_count": 10,
   "metadata": {},
   "outputs": [
    {
     "name": "stdout",
     "output_type": "stream",
     "text": [
      "(1, 9, 1, 6, 3, 4, 5, 1, 1, 2, 5, 6, 7, 8, 9, 2)\n",
      "(1, 9, 6, 3, 4, 5, 2, 7, 8)\n"
     ]
    }
   ],
   "source": [
    "t=(1, 9, 1, 6, 3, 4, 5, 1, 1, 2, 5, 6, 7, 8, 9, 2)\n",
    "temp = ()\n",
    "for i in t:\n",
    "    if i not in temp:\n",
    "        temp += i,\n",
    "print(t)\n",
    "print(temp)"
   ]
  },
  {
   "cell_type": "markdown",
   "metadata": {},
   "source": [
    "Q7. Write a Python program to convert a tuple of string values to a tuple of integer values."
   ]
  },
  {
   "cell_type": "code",
   "execution_count": 13,
   "metadata": {},
   "outputs": [
    {
     "name": "stdout",
     "output_type": "stream",
     "text": [
      "(('333', '33'), ('1416', '55'))\n",
      "((333, 33), (1416, 55))\n"
     ]
    }
   ],
   "source": [
    "t=(('333', '33'), ('1416', '55'))\n",
    "new_t = ()\n",
    "for i in t:\n",
    "    temp = ()\n",
    "    for j in i:\n",
    "        temp += int(j),\n",
    "    new_t += temp,\n",
    "print(t)\n",
    "print(new_t)"
   ]
  },
  {
   "cell_type": "markdown",
   "metadata": {},
   "source": [
    "Q8 .  Write a Python program to calculate the product, multiplying all the numbers in a given tuple."
   ]
  },
  {
   "cell_type": "code",
   "execution_count": 16,
   "metadata": {},
   "outputs": [
    {
     "name": "stdout",
     "output_type": "stream",
     "text": [
      "multiplying all the numbers of the said tuple = -864\n"
     ]
    }
   ],
   "source": [
    "t=(4,3,2,2,-1,18)\n",
    "a=1\n",
    "for i in t:\n",
    "    a*=i\n",
    "print(\"multiplying all the numbers of the said tuple =\",a)    "
   ]
  }
 ],
 "metadata": {
  "kernelspec": {
   "display_name": "Python 3",
   "language": "python",
   "name": "python3"
  },
  "language_info": {
   "codemirror_mode": {
    "name": "ipython",
    "version": 3
   },
   "file_extension": ".py",
   "mimetype": "text/x-python",
   "name": "python",
   "nbconvert_exporter": "python",
   "pygments_lexer": "ipython3",
   "version": "3.12.3"
  }
 },
 "nbformat": 4,
 "nbformat_minor": 2
}
