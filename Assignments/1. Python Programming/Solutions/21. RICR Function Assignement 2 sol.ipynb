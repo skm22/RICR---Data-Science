{
 "cells": [
  {
   "cell_type": "markdown",
   "metadata": {},
   "source": [
    "# Solutions"
   ]
  },
  {
   "cell_type": "markdown",
   "metadata": {},
   "source": [
    "1.  Write a Python function to find the maximum of three numbers"
   ]
  },
  {
   "cell_type": "code",
   "execution_count": 2,
   "metadata": {},
   "outputs": [
    {
     "name": "stdout",
     "output_type": "stream",
     "text": [
      "8520\n"
     ]
    }
   ],
   "source": [
    "def max_of_three(a, b, c):\n",
    "    return max(a, b, c)\n",
    "\n",
    "num1 = int(input())\n",
    "num2 = int(input())\n",
    "num3 = int(input())\n",
    "print(max_of_three(num1,num2,num3))"
   ]
  },
  {
   "cell_type": "markdown",
   "metadata": {},
   "source": [
    "2. Write a Python function that takes a number as a parameter and checks whether the number is prime or not."
   ]
  },
  {
   "cell_type": "code",
   "execution_count": 3,
   "metadata": {},
   "outputs": [
    {
     "name": "stdout",
     "output_type": "stream",
     "text": [
      "True\n"
     ]
    }
   ],
   "source": [
    "def is_prime(n):\n",
    "    if n <= 1:\n",
    "        return False\n",
    "    for i in range(2, n):\n",
    "        if n % i == 0:\n",
    "            return False\n",
    "    return True\n",
    "\n",
    "a = int(input())\n",
    "print(is_prime(a))"
   ]
  },
  {
   "cell_type": "markdown",
   "metadata": {},
   "source": [
    "3. Write a Python function that takes a list and returns a new list with distinct elements from the first list.     \n",
    "Sample List: [1,2,3,3,3,3,4,5]    \n",
    "Unique List: [1, 2, 3, 4, 5] "
   ]
  },
  {
   "cell_type": "code",
   "execution_count": 4,
   "metadata": {},
   "outputs": [
    {
     "name": "stdout",
     "output_type": "stream",
     "text": [
      "[1, 2, 3, 4, 5]\n"
     ]
    }
   ],
   "source": [
    "def unique_elements(lst):\n",
    "    return list(set(lst))\n",
    "\n",
    "a = [1,2,3,3,3,3,4,5]\n",
    "print(unique_elements(a))"
   ]
  },
  {
   "cell_type": "markdown",
   "metadata": {},
   "source": [
    "4. Write a function intreverse(n) that takes as input a positive integer n and returns the integer obtained by reversing the digits in n.    \n",
    "Here are some examples of how your function should work.     \n",
    "Test Case 1:      \n",
    "\tInput: intreverse(546)   \n",
    "\tOutput: 645   \n",
    "Test Case 2:   \n",
    "\tInput: intreverse(3)    \n",
    "\tOutput: 3    "
   ]
  },
  {
   "cell_type": "code",
   "execution_count": 5,
   "metadata": {},
   "outputs": [
    {
     "name": "stdout",
     "output_type": "stream",
     "text": [
      "645\n",
      "3\n"
     ]
    }
   ],
   "source": [
    "def intreverse(n):\n",
    "    ans = 0\n",
    "    while n!=0:\n",
    "        r = n%10\n",
    "        ans = ans*10 + r\n",
    "        n//=10\n",
    "    return ans\n",
    "\n",
    "print(intreverse(546))\n",
    "print(intreverse(3))"
   ]
  },
  {
   "cell_type": "markdown",
   "metadata": {},
   "source": [
    "5. Write a function sumprimes(l) that takes as input a list of integers l and retuns the sum of all the prime numbers in l.      \n",
    "Here are some examples to show how your function should work.   \n",
    "Test Cases:   \n",
    "Input: sumprimes([3,3,1,13])   \n",
    "Output: 19   \n",
    "Input: sumprimes([2,4,6,9,11])    \n",
    "Output: 13"
   ]
  },
  {
   "cell_type": "code",
   "execution_count": 6,
   "metadata": {},
   "outputs": [
    {
     "name": "stdout",
     "output_type": "stream",
     "text": [
      "19\n",
      "13\n"
     ]
    }
   ],
   "source": [
    "def is_prime(n):\n",
    "    if n <= 1:\n",
    "        return False\n",
    "    for i in range(2, n):\n",
    "        if n % i == 0:\n",
    "            return False\n",
    "    return True\n",
    "\n",
    "def sumprimes(l):\n",
    "    sum = 0\n",
    "    for i in l:\n",
    "        if is_prime(i):\n",
    "            sum += i\n",
    "    return sum\n",
    "\n",
    "print(sumprimes([3, 3, 1, 13]))\n",
    "print(sumprimes([2, 4, 6, 9, 11]))"
   ]
  },
  {
   "cell_type": "markdown",
   "metadata": {},
   "source": [
    "6. Write a function that calculates the nth terms in an arithmetic sequence, which takes first term, common difference and value of n as an argument and default value of n is 10."
   ]
  },
  {
   "cell_type": "code",
   "execution_count": 12,
   "metadata": {},
   "outputs": [
    {
     "name": "stdout",
     "output_type": "stream",
     "text": [
      "[6, 13, 20, 27, 34, 41, 48, 55, 62, 69, 76, 83, 90, 97, 104, 111, 118, 125, 132]\n"
     ]
    }
   ],
   "source": [
    "def arithmetic_sequence(first_term, common_diff, n=10):\n",
    "    ans = []\n",
    "    for i in range(1,n):\n",
    "        temp = first_term + (i-1) * common_diff\n",
    "        ans.append(temp)\n",
    "    return ans\n",
    "\n",
    "print(arithmetic_sequence(6, 7, 20))"
   ]
  },
  {
   "cell_type": "markdown",
   "metadata": {},
   "source": [
    "Q7. Create a function that returns the list of factorials of each element of a given list as argument.    \n",
    "\tTest Case 1:   \n",
    "\t\tInput as argument: [2,3,4,5]   \n",
    "\t\tOuput: [2, 6, 24, 120]"
   ]
  },
  {
   "cell_type": "code",
   "execution_count": 14,
   "metadata": {},
   "outputs": [
    {
     "name": "stdout",
     "output_type": "stream",
     "text": [
      "[2, 6, 24, 120]\n"
     ]
    }
   ],
   "source": [
    "def factorial(n):\n",
    "    ans = 1\n",
    "    for i in range(1,n+1):\n",
    "        ans *= i\n",
    "    return ans\n",
    "\n",
    "def list_factorials(lst):\n",
    "    return [factorial(num) for num in lst]\n",
    "\n",
    "print(list_factorials([2, 3, 4, 5]))"
   ]
  },
  {
   "cell_type": "markdown",
   "metadata": {},
   "source": [
    "8. Write a python function that accepts a list of numbers and returns the sum of the squares of only the prime numbers."
   ]
  },
  {
   "cell_type": "code",
   "execution_count": 16,
   "metadata": {},
   "outputs": [
    {
     "name": "stdout",
     "output_type": "stream",
     "text": [
      "38\n"
     ]
    }
   ],
   "source": [
    "def is_prime(n):\n",
    "    if n <= 1:\n",
    "        return False\n",
    "    for i in range(2, n):\n",
    "        if n % i == 0:\n",
    "            return False\n",
    "    return True\n",
    "\n",
    "def sum_of_squares_of_primes(lst):\n",
    "    sum = 0\n",
    "    for i in lst:\n",
    "        if is_prime(i):\n",
    "            sum += i ** 2\n",
    "    return sum\n",
    "\n",
    "print(sum_of_squares_of_primes([2, 3, 4, 5]))"
   ]
  },
  {
   "cell_type": "markdown",
   "metadata": {},
   "source": [
    "9. Write a function list_intersection(list1, list2) that returns a list of elements that are present in both list1 and list2"
   ]
  },
  {
   "cell_type": "code",
   "execution_count": 9,
   "metadata": {},
   "outputs": [
    {
     "name": "stdout",
     "output_type": "stream",
     "text": [
      "[2, 3]\n"
     ]
    }
   ],
   "source": [
    "def list_intersection(list1, list2):\n",
    "    return list(set(list1) & set(list2))\n",
    "\n",
    "print(list_intersection([1, 2, 3], [2, 3, 4]))"
   ]
  },
  {
   "cell_type": "markdown",
   "metadata": {},
   "source": [
    "10. Write a Python function that takes a list of strings as input and returns a tuple containing the shortest and longest word from the list, in that order. If there are multiple words of the same shortest or longest length, return the first shortest/longest word found.       \n",
    "Input:-     \n",
    "words = [\"apple\", \"banana\", \"kiwi\", \"grapefruit\", \"orange\"]    \n",
    "Output:- ('kiwi', 'grapefruit')"
   ]
  },
  {
   "cell_type": "code",
   "execution_count": 17,
   "metadata": {},
   "outputs": [
    {
     "name": "stdout",
     "output_type": "stream",
     "text": [
      "('kiwi', 'grapefruit')\n"
     ]
    }
   ],
   "source": [
    "def shortest_longest(words):\n",
    "    shortest = longest = words[0]\n",
    "    for word in words:\n",
    "        if len(word) < len(shortest):\n",
    "            shortest = word\n",
    "        if len(word) > len(longest):\n",
    "            longest = word\n",
    "    return shortest, longest\n",
    "\n",
    "words = [\"apple\", \"banana\", \"kiwi\", \"grapefruit\", \"orange\"]\n",
    "print(shortest_longest(words))"
   ]
  },
  {
   "cell_type": "code",
   "execution_count": null,
   "metadata": {},
   "outputs": [],
   "source": []
  }
 ],
 "metadata": {
  "kernelspec": {
   "display_name": "Python 3",
   "language": "python",
   "name": "python3"
  },
  "language_info": {
   "codemirror_mode": {
    "name": "ipython",
    "version": 3
   },
   "file_extension": ".py",
   "mimetype": "text/x-python",
   "name": "python",
   "nbconvert_exporter": "python",
   "pygments_lexer": "ipython3",
   "version": "3.13.0"
  }
 },
 "nbformat": 4,
 "nbformat_minor": 2
}
