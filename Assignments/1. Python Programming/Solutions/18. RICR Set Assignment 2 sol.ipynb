{
 "cells": [
  {
   "cell_type": "markdown",
   "metadata": {},
   "source": [
    "# SOLUTIONS"
   ]
  },
  {
   "cell_type": "markdown",
   "metadata": {},
   "source": [
    "Q1. Write a program to multiply all the float element in the set. set should be taken as input such that a set should contain integer float and string element.        \n",
    "Input:- Enter a set:-{5, 'abc', 7, 8.0, 'def', '10.0', 11, 12.0, '123', 14.0}     \n",
    "Output:- 1344.0     "
   ]
  },
  {
   "cell_type": "code",
   "execution_count": null,
   "metadata": {},
   "outputs": [
    {
     "name": "stdout",
     "output_type": "stream",
     "text": [
      "1344.0\n"
     ]
    }
   ],
   "source": [
    "set_1 = eval(input())\n",
    "multiply = 1\n",
    "for i in set_1:\n",
    "    if type(i) == float:\n",
    "        multiply*=i\n",
    "print(multiply)"
   ]
  },
  {
   "cell_type": "markdown",
   "metadata": {},
   "source": [
    "Q2. Write a program to add all the integer element in a set and set should be taken as input such that a set should contain integer float and string element.    \n",
    "Input:- Enter a set:-{5, 'abc', 7, 8.0, 'def', '10.0', 11, 12.0, '123', 14.0}      \n",
    "Output:- 23"
   ]
  },
  {
   "cell_type": "code",
   "execution_count": null,
   "metadata": {},
   "outputs": [
    {
     "name": "stdout",
     "output_type": "stream",
     "text": [
      "23\n"
     ]
    }
   ],
   "source": [
    "set_1 = eval(input())\n",
    "multiply = 0\n",
    "for i in set_1:\n",
    "    if type(i) == int:\n",
    "        multiply+=i\n",
    "print(multiply)"
   ]
  },
  {
   "cell_type": "markdown",
   "metadata": {},
   "source": [
    "Q3. Write a Python program to convert all the even number of a set into a\n",
    "string and set should be user defined.     \n",
    "Input:- Enter a set:-{5, 6, 7, 8, 9, 10, 11, 12, 13, 14}    \n",
    "Output:- {'10', 5, 7, 9, 11, 13, '14', '6', '8', '12'}"
   ]
  },
  {
   "cell_type": "code",
   "execution_count": null,
   "metadata": {},
   "outputs": [
    {
     "name": "stdout",
     "output_type": "stream",
     "text": [
      "Input set : {5, 6, 7, 8, 9, 10, 11, 12, 13, 14}\n",
      "{5, 7, '6', '8', 9, 11, '12', 13, '10', '14'}\n"
     ]
    }
   ],
   "source": [
    "s = eval(input())\n",
    "lst = list(s)\n",
    "ans = []\n",
    "for i in lst:\n",
    "    if i%2==0:\n",
    "        ans.append(str(i))\n",
    "    else:\n",
    "        ans.append(i)\n",
    "print(s)\n",
    "print(set(ans))"
   ]
  },
  {
   "cell_type": "markdown",
   "metadata": {},
   "source": [
    "Q4. Write a Python program to convert all the odd number of a set into a float\n",
    "and set should be user defined.     \n",
    "Input:- Enter a set:-{5, 6, 7, 8, 9, 10, 11, 12, 13, 14}    \n",
    "Output:-{5.0, 6, 7.0, 8, 9.0, 10, 11.0, 12, 13.0, 14}  "
   ]
  },
  {
   "cell_type": "code",
   "execution_count": 4,
   "metadata": {},
   "outputs": [
    {
     "name": "stdout",
     "output_type": "stream",
     "text": [
      "{5, 6, 7, 8, 9, 10, 11, 12, 13, 14}\n",
      "{5.0, 6, 7.0, 8, 9.0, 10, 11.0, 12, 13.0, 14}\n"
     ]
    }
   ],
   "source": [
    "s = eval(input())\n",
    "lst = list(s)\n",
    "ans = []\n",
    "for i in lst:\n",
    "    if i%2!=0:\n",
    "        ans.append(float(i))\n",
    "    else:\n",
    "        ans.append(i)\n",
    "print(s)\n",
    "print(set(ans))"
   ]
  },
  {
   "cell_type": "markdown",
   "metadata": {},
   "source": [
    "Q5. Write a program to convert all the integer element of a set into float and\n",
    "the float element of a set into integer and set should be user defined     \n",
    "Input:- {5.0, 6, 7.0, 8, 9.0, 10, 11.0, 12, 13.0, 14}    \n",
    "Output:- {5, 6.0, 7, 8.0, 9, 10.0, 11, 12.0, 13, 14.0}"
   ]
  },
  {
   "cell_type": "code",
   "execution_count": 5,
   "metadata": {},
   "outputs": [
    {
     "name": "stdout",
     "output_type": "stream",
     "text": [
      "{5.0, 6, 7.0, 8, 9.0, 10, 11.0, 12, 13.0, 14}\n",
      "{5, 6.0, 7, 8.0, 9, 10.0, 11, 12.0, 13, 14.0}\n"
     ]
    }
   ],
   "source": [
    "s = eval(input())\n",
    "lst = list(s)\n",
    "ans = []\n",
    "for i in lst:\n",
    "    if type(i) == int:\n",
    "        ans.append(float(i))\n",
    "    elif type(i) == float:\n",
    "        ans.append(int(i))\n",
    "print(s)\n",
    "print(set(ans))"
   ]
  }
 ],
 "metadata": {
  "kernelspec": {
   "display_name": "Python 3",
   "language": "python",
   "name": "python3"
  },
  "language_info": {
   "codemirror_mode": {
    "name": "ipython",
    "version": 3
   },
   "file_extension": ".py",
   "mimetype": "text/x-python",
   "name": "python",
   "nbconvert_exporter": "python",
   "pygments_lexer": "ipython3",
   "version": "3.12.3"
  }
 },
 "nbformat": 4,
 "nbformat_minor": 2
}
