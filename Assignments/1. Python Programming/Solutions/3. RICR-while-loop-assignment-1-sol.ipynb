{
 "cells": [
  {
   "cell_type": "markdown",
   "metadata": {},
   "source": [
    "# SOLUTIONS"
   ]
  },
  {
   "cell_type": "code",
   "execution_count": 1,
   "metadata": {},
   "outputs": [
    {
     "name": "stdout",
     "output_type": "stream",
     "text": [
      "1 : 1\n",
      "2 : 4\n",
      "3 : 9\n",
      "4 : 16\n",
      "5 : 25\n",
      "6 : 36\n",
      "7 : 49\n",
      "8 : 64\n",
      "9 : 81\n",
      "10 : 100\n"
     ]
    }
   ],
   "source": [
    "# 1.Write a program that prints number from 1 to 10 number with their square.\n",
    "i = 1\n",
    "while i<11:\n",
    "    print(i , ':' , i*i)\n",
    "    i += 1"
   ]
  },
  {
   "cell_type": "code",
   "execution_count": 2,
   "metadata": {},
   "outputs": [
    {
     "name": "stdout",
     "output_type": "stream",
     "text": [
      "5 X 1 = 5\n",
      "5 X 2 = 10\n",
      "5 X 3 = 15\n",
      "5 X 4 = 20\n",
      "5 X 5 = 25\n",
      "5 X 6 = 30\n",
      "5 X 7 = 35\n",
      "5 X 8 = 40\n",
      "5 X 9 = 45\n",
      "5 X 10 = 50\n"
     ]
    }
   ],
   "source": [
    "# 2.\tWrite a program that prints a table of a number, take that number from the user.\n",
    "\n",
    "# Sample input:\n",
    "# Enter a number:  5\n",
    "# Output:\n",
    "# 5 x 1 = 5\n",
    "# 5 x 2 = 10\n",
    "# 5 x 3 = 15\n",
    "# 5 x 4 = 20\n",
    "# 5 x 5 = 25\n",
    "# 5 x 6 = 30\n",
    "# 5 x 7 = 35\n",
    "# 5 x 8 =  40\n",
    "# 5 x 9 =  45\n",
    "# 5 x 10 = 50\n",
    "\n",
    "n = int(input())\n",
    "i = 1\n",
    "while i<11:\n",
    "    print(n , \"X\" , i , \"=\" , n*i)\n",
    "    i += 1"
   ]
  },
  {
   "cell_type": "code",
   "execution_count": 3,
   "metadata": {},
   "outputs": [
    {
     "name": "stdout",
     "output_type": "stream",
     "text": [
      "3628800\n"
     ]
    }
   ],
   "source": [
    "# 3.Write a program that calculates the product of all numbers between 1 to 10 using a while loop.\n",
    "i = 1\n",
    "res = 1\n",
    "while i<=10:\n",
    "    res *= i\n",
    "    i += 1\n",
    "print(res)"
   ]
  },
  {
   "cell_type": "code",
   "execution_count": 1,
   "metadata": {},
   "outputs": [
    {
     "name": "stdout",
     "output_type": "stream",
     "text": [
      "7 14 21 28 35 42 49 56 63 70 "
     ]
    }
   ],
   "source": [
    "# 4. Write a program that prints numbers divisible of 7 between 1 to 70 \n",
    "i = 1\n",
    "while i<=70:\n",
    "    if i % 7 == 0:\n",
    "        print(i,end=' ')\n",
    "    i+=1"
   ]
  },
  {
   "cell_type": "code",
   "execution_count": 2,
   "metadata": {},
   "outputs": [
    {
     "name": "stdout",
     "output_type": "stream",
     "text": [
      "5 4 3 2 1 "
     ]
    }
   ],
   "source": [
    "# Q5. Write a program that takes input from the user and print the reverse counting of that number.\n",
    "\n",
    "n = int(input())\n",
    "while n != 0:\n",
    "    print(n,end= ' ')\n",
    "    n -= 1"
   ]
  },
  {
   "cell_type": "code",
   "execution_count": null,
   "metadata": {},
   "outputs": [],
   "source": []
  }
 ],
 "metadata": {
  "kernelspec": {
   "display_name": "Python 3",
   "language": "python",
   "name": "python3"
  },
  "language_info": {
   "codemirror_mode": {
    "name": "ipython",
    "version": 3
   },
   "file_extension": ".py",
   "mimetype": "text/x-python",
   "name": "python",
   "nbconvert_exporter": "python",
   "pygments_lexer": "ipython3",
   "version": "3.12.3"
  }
 },
 "nbformat": 4,
 "nbformat_minor": 2
}
