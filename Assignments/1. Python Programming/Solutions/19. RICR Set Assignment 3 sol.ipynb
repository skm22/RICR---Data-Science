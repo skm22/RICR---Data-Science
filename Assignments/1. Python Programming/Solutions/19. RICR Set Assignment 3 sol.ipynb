{
 "cells": [
  {
   "cell_type": "markdown",
   "metadata": {},
   "source": [
    "# SOLUTIONS"
   ]
  },
  {
   "cell_type": "markdown",
   "metadata": {},
   "source": [
    "Q1. Given two sets, A and B.     \n",
    "Write a python program which find all elements that are in either A or B,     \n",
    "but not in both. Create a third set with these elements.     \n",
    "A = {1, 2, 3, 4}     \n",
    "B = {3, 4, 5, 6}     "
   ]
  },
  {
   "cell_type": "code",
   "execution_count": 1,
   "metadata": {},
   "outputs": [
    {
     "name": "stdout",
     "output_type": "stream",
     "text": [
      "{1, 2, 5, 6}\n"
     ]
    }
   ],
   "source": [
    "A = {1, 2, 3, 4}\n",
    "B = {3, 4, 5, 6}\n",
    "C = A.symmetric_difference(B)\n",
    "print(C)"
   ]
  },
  {
   "cell_type": "markdown",
   "metadata": {},
   "source": [
    "Q2. Given two sets, X and Y.     \n",
    "Write a python program which check if all elements of X are present     \n",
    "within Y. If present, then remove those elements from Y; otherwise, add the     \n",
    "elements of X to Y.      \n",
    "     \n",
    "Test case 1: X = {2, 4}     \n",
    "Y = {1, 2, 3, 4, 5}     \n",
    "     \n",
    "Test case 2: X = {6, 7}     \n",
    "Y = {1, 2, 3, 4, 5}     "
   ]
  },
  {
   "cell_type": "code",
   "execution_count": null,
   "metadata": {},
   "outputs": [
    {
     "data": {
      "text/plain": [
       "{1, 2, 3, 4, 5, 6, 7}"
      ]
     },
     "execution_count": 8,
     "metadata": {},
     "output_type": "execute_result"
    }
   ],
   "source": [
    "def check(X,Y):\n",
    "    if X.issubset(Y):\n",
    "        Y.difference_update(X)\n",
    "    else:\n",
    "        Y.update(X)\n",
    "    return Y\n",
    "X = eval(input())\n",
    "Y = eval(input()) \n",
    "check(X,Y)"
   ]
  },
  {
   "cell_type": "markdown",
   "metadata": {},
   "source": [
    "Q3. You are given three lists, L1, L2, and L3.\n",
    "Write a python program which combine all unique elements from these     \n",
    "lists into a set. After that, remove any elements that appear in all three lists.   \n",
    "\n",
    "    \n",
    "L1 = [1, 2, 3, 4]     \n",
    "L2 = [3, 4, 5, 6]     \n",
    "L3 = [1, 4, 6, 7]     \n",
    "Hint: Use the concept of ‘set’     "
   ]
  },
  {
   "cell_type": "code",
   "execution_count": 2,
   "metadata": {},
   "outputs": [
    {
     "name": "stdout",
     "output_type": "stream",
     "text": [
      "{1, 2, 3, 5, 6, 7}\n"
     ]
    }
   ],
   "source": [
    "L1 = [1, 2, 3, 4]\n",
    "L2 = [3, 4, 5, 6]\n",
    "L3 = [1, 4, 6, 7]\n",
    "\n",
    "S1 = set(L1)\n",
    "S2 = set(L2)\n",
    "S3 = set(L3)\n",
    "\n",
    "new_set = S1 | S2 | S3\n",
    "com = S1 & S2 & S3\n",
    "res = new_set - com\n",
    "\n",
    "print(res)"
   ]
  },
  {
   "cell_type": "markdown",
   "metadata": {},
   "source": [
    "Q4. Write a python program if a set and list is given then, for each element\n",
    "in L, if it's not already in S, add it; otherwise, remove it from S and then print S    \n",
    "    \n",
    "S = {1, 2, 3}    \n",
    "L = [2, 3, 4, 5]    \n",
    "    \n",
    "Output: {1, 4, 5}    "
   ]
  },
  {
   "cell_type": "code",
   "execution_count": 3,
   "metadata": {},
   "outputs": [
    {
     "name": "stdout",
     "output_type": "stream",
     "text": [
      "{1, 4, 5}\n"
     ]
    }
   ],
   "source": [
    "S = {1, 2, 3}\n",
    "L = [2, 3, 4, 5]\n",
    "\n",
    "for i in L:\n",
    "    if i not in S:\n",
    "        S.add(i)\n",
    "    else:\n",
    "        S.remove(i)\n",
    "print(S)"
   ]
  },
  {
   "cell_type": "markdown",
   "metadata": {},
   "source": [
    "Q5. Write a python program which combine three sets, A, B, and C. Then, if any    \n",
    "number in the set is greater than 10, remove all such numbers.    \n",
    "    \n",
    "A = {2, 3, 5}    \n",
    "B = {5, 7, 11}    \n",
    "C = {11, 13, 17}    "
   ]
  },
  {
   "cell_type": "code",
   "execution_count": 4,
   "metadata": {},
   "outputs": [
    {
     "name": "stdout",
     "output_type": "stream",
     "text": [
      "{17, 2, 3, 5, 7, 11, 13}\n",
      "{2, 3, 5, 7}\n"
     ]
    }
   ],
   "source": [
    "A = {2, 3, 5}\n",
    "B = {5, 7, 11}\n",
    "C = {11, 13, 17}\n",
    "\n",
    "comb_s = A | B | C\n",
    "print(comb_s)\n",
    "\n",
    "res = {x for x in comb_s if x<=10}\n",
    "print(res)"
   ]
  },
  {
   "cell_type": "markdown",
   "metadata": {},
   "source": [
    "Q6. Given two sets, X and Y,\n",
    "Write a python program which find the common elements and store    \n",
    "them in a new set. Then, create another set with elements that are unique to    \n",
    "either X or Y, but not both.    \n",
    "    \n",
    "X = {10, 20, 30, 40}    \n",
    "Y = {30, 40, 50, 60}    "
   ]
  },
  {
   "cell_type": "code",
   "execution_count": 5,
   "metadata": {},
   "outputs": [
    {
     "name": "stdout",
     "output_type": "stream",
     "text": [
      "{40, 30}\n",
      "{10, 50, 20, 60}\n"
     ]
    }
   ],
   "source": [
    "X = {10, 20, 30, 40}\n",
    "Y = {30, 40, 50, 60}\n",
    "\n",
    "ans1 = X & Y\n",
    "ans2 = X ^ Y\n",
    "\n",
    "print(ans1)\n",
    "print(ans2)"
   ]
  },
  {
   "cell_type": "code",
   "execution_count": null,
   "metadata": {},
   "outputs": [],
   "source": []
  }
 ],
 "metadata": {
  "kernelspec": {
   "display_name": "Python 3",
   "language": "python",
   "name": "python3"
  },
  "language_info": {
   "codemirror_mode": {
    "name": "ipython",
    "version": 3
   },
   "file_extension": ".py",
   "mimetype": "text/x-python",
   "name": "python",
   "nbconvert_exporter": "python",
   "pygments_lexer": "ipython3",
   "version": "3.12.3"
  }
 },
 "nbformat": 4,
 "nbformat_minor": 2
}
