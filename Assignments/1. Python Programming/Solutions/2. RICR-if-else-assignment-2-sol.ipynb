{
 "cells": [
  {
   "cell_type": "markdown",
   "metadata": {},
   "source": [
    "Q1. W.A.P  to check if a number is positive, negative, or zero."
   ]
  },
  {
   "cell_type": "code",
   "execution_count": 3,
   "metadata": {},
   "outputs": [
    {
     "name": "stdout",
     "output_type": "stream",
     "text": [
      "Positive\n"
     ]
    }
   ],
   "source": [
    "num = float(input())\n",
    "if num > 0:\n",
    "    print(\"Positive\")\n",
    "elif num < 0:\n",
    "    print(\"Negative\")\n",
    "else:\n",
    "    print(\"Zero\")\n"
   ]
  },
  {
   "cell_type": "markdown",
   "metadata": {},
   "source": [
    "Q2. W.A.P  to check if a number is even or odd."
   ]
  },
  {
   "cell_type": "code",
   "execution_count": 4,
   "metadata": {},
   "outputs": [
    {
     "name": "stdout",
     "output_type": "stream",
     "text": [
      "Even\n"
     ]
    }
   ],
   "source": [
    "num = int(input())\n",
    "if num % 2 == 0:\n",
    "    print(\"Even\")\n",
    "else:\n",
    "    print(\"Odd\")"
   ]
  },
  {
   "cell_type": "markdown",
   "metadata": {},
   "source": [
    "Q3. W.A.P to Determine grade based on marks."
   ]
  },
  {
   "cell_type": "code",
   "execution_count": 5,
   "metadata": {},
   "outputs": [
    {
     "name": "stdout",
     "output_type": "stream",
     "text": [
      "Grade: B\n"
     ]
    }
   ],
   "source": [
    "marks = int(input(\"Enter marks: \"))\n",
    "if marks >= 90:\n",
    "    print(\"Grade: A\")\n",
    "elif marks >= 80:\n",
    "    print(\"Grade: B\")\n",
    "elif marks >= 70:\n",
    "    print(\"Grade: C\")\n",
    "elif marks >= 60:\n",
    "    print(\"Grade: D\")\n",
    "else:\n",
    "    print(\"Grade: E\")\n"
   ]
  },
  {
   "cell_type": "markdown",
   "metadata": {},
   "source": [
    "Q4. W.A.P  to Check if a number is divisible by both 3 and 5"
   ]
  },
  {
   "cell_type": "code",
   "execution_count": 6,
   "metadata": {},
   "outputs": [
    {
     "name": "stdout",
     "output_type": "stream",
     "text": [
      "Not divisible by both 3 and 5\n"
     ]
    }
   ],
   "source": [
    "num = int(input())\n",
    "if num % 3 == 0 and num % 5 == 0:\n",
    "    print(\"Divisible\")\n",
    "else:\n",
    "    print(\"Not divisible\")\n"
   ]
  },
  {
   "cell_type": "markdown",
   "metadata": {},
   "source": [
    "Q5. program to determine if a person is a child, teenager, adult, or senior based on their age\n",
    "- age <= 12 :\"Child\"\n",
    "- age <= 19: \"Teenager\" \n",
    "- age <= 64: \"Adult\" \n",
    "- Age > = 64:\"Senior\""
   ]
  },
  {
   "cell_type": "code",
   "execution_count": 8,
   "metadata": {},
   "outputs": [
    {
     "name": "stdout",
     "output_type": "stream",
     "text": [
      "Senior\n"
     ]
    }
   ],
   "source": [
    "age = int(input(\"Enter age: \"))\n",
    "if age <= 12:\n",
    "    print(\"Child\")\n",
    "elif age <= 19:\n",
    "    print(\"Teenager\")\n",
    "elif age <= 64:\n",
    "    print(\"Adult\")\n",
    "else:\n",
    "    print(\"Senior\")\n"
   ]
  },
  {
   "cell_type": "markdown",
   "metadata": {},
   "source": [
    "Q6.  Check if a year is a leap year."
   ]
  },
  {
   "cell_type": "code",
   "execution_count": 25,
   "metadata": {},
   "outputs": [
    {
     "name": "stdout",
     "output_type": "stream",
     "text": [
      "Not leap year\n"
     ]
    }
   ],
   "source": [
    "year = int(input(\"Enter a year: \"))\n",
    "if year % 100 == 0:\n",
    "    if year % 400 == 0:\n",
    "        print(\"Leap year\")\n",
    "    else:\n",
    "        print(\"Not leap year\")\n",
    "elif year % 4 == 0:\n",
    "    print(\"Leap year\")\n",
    "else:\n",
    "    print(\"Not leap year.\")\n"
   ]
  },
  {
   "cell_type": "markdown",
   "metadata": {},
   "source": [
    "Q7. W.A.P  to find the largest of three numbers. "
   ]
  },
  {
   "cell_type": "code",
   "execution_count": 28,
   "metadata": {},
   "outputs": [
    {
     "name": "stdout",
     "output_type": "stream",
     "text": [
      "3\n"
     ]
    }
   ],
   "source": [
    "num1 = int(input(\"Enter first number: \"))\n",
    "num2 = int(input(\"Enter second number: \"))\n",
    "num3 = int(input(\"Enter third number: \"))\n",
    "\n",
    "if num1 > num2:\n",
    "    if num1 > num3:\n",
    "        print(num1)\n",
    "    else:\n",
    "        print(num3)\n",
    "elif num2 > num3:\n",
    "    print(num2)\n",
    "else:\n",
    "    print(num3)\n"
   ]
  },
  {
   "cell_type": "markdown",
   "metadata": {},
   "source": [
    "Q8. W.A.P  Determine if a triangle is equilateral, isosceles, or scalene."
   ]
  },
  {
   "cell_type": "code",
   "execution_count": 11,
   "metadata": {},
   "outputs": [
    {
     "name": "stdout",
     "output_type": "stream",
     "text": [
      "Isosceles\n"
     ]
    }
   ],
   "source": [
    "side1 = int(input())\n",
    "side2 = int(input())\n",
    "side3 = int(input())\n",
    "if side1 == side2 == side3:\n",
    "    print(\"Equilateral\")\n",
    "elif side1 == side2 or side1 == side3 or side2 == side3:\n",
    "    print(\"Isosceles\")\n",
    "else:\n",
    "    print(\"Scalene\")\n"
   ]
  },
  {
   "cell_type": "markdown",
   "metadata": {},
   "source": [
    "Q9. Determine if a year is a century year.\n",
    "Example of century year 1800 ,2000 , 2100 many more… "
   ]
  },
  {
   "cell_type": "code",
   "execution_count": 12,
   "metadata": {},
   "outputs": [
    {
     "name": "stdout",
     "output_type": "stream",
     "text": [
      "Century year\n"
     ]
    }
   ],
   "source": [
    "year = int(input(\"Enter a year: \"))\n",
    "if year % 100 == 0:\n",
    "    print(\"Century year\")\n",
    "else:\n",
    "    print(\"Not a century year\")\n"
   ]
  },
  {
   "cell_type": "markdown",
   "metadata": {},
   "source": [
    "Q10.Write a Python program that accepts three numbers and check All numbers are equal or not."
   ]
  },
  {
   "cell_type": "code",
   "execution_count": 29,
   "metadata": {},
   "outputs": [
    {
     "name": "stdout",
     "output_type": "stream",
     "text": [
      "Equal\n"
     ]
    }
   ],
   "source": [
    "num1 = int(input(\"Enter first number: \"))\n",
    "num2 = int(input(\"Enter second number: \"))\n",
    "num3 = int(input(\"Enter third number: \"))\n",
    "if num1 == num2 == num3:\n",
    "    print(\"Equal\")\n",
    "else:\n",
    "    print(\"Not equal\")\n"
   ]
  },
  {
   "cell_type": "markdown",
   "metadata": {},
   "source": [
    "\n",
    "Q11. Determine the quadrant of a point in a coordinate system"
   ]
  },
  {
   "cell_type": "code",
   "execution_count": 15,
   "metadata": {},
   "outputs": [
    {
     "name": "stdout",
     "output_type": "stream",
     "text": [
      "First quadrant\n"
     ]
    }
   ],
   "source": [
    "x = int(input(\"Enter x coordinate: \"))\n",
    "y = int(input(\"Enter y coordinate: \"))\n",
    "if x > 0 and y > 0:\n",
    "    print(\"First quadrant\")\n",
    "elif x < 0 and y > 0:\n",
    "    print(\"Second quadrant\")\n",
    "elif x < 0 and y < 0:\n",
    "    print(\"Third quadrant\")\n",
    "elif x > 0 and y < 0:\n",
    "    print(\"Fourth quadrant\")\n",
    "else:\n",
    "    print(\"Origin\")\n"
   ]
  },
  {
   "cell_type": "markdown",
   "metadata": {},
   "source": [
    "Q11.  Determine the season based on month\n",
    "- 3 <= month <= 5; \"Spring\"\n",
    "- 6 <= month <= 8\"Summer\"\n",
    "- 9 <= month <= 11\"Autumn\"\n",
    "- \"Winter\""
   ]
  },
  {
   "cell_type": "code",
   "execution_count": 16,
   "metadata": {},
   "outputs": [
    {
     "name": "stdout",
     "output_type": "stream",
     "text": [
      "Winter\n"
     ]
    }
   ],
   "source": [
    "month = int(input(\"Enter month number: \"))\n",
    "if 3 <= month <= 5:\n",
    "    print(\"Spring\")\n",
    "elif 6 <= month <= 8:\n",
    "    print(\"Summer\")\n",
    "elif 9 <= month <= 11:\n",
    "    print(\"Autumn\")\n",
    "else:\n",
    "    print(\"Winter\")\n"
   ]
  },
  {
   "cell_type": "markdown",
   "metadata": {},
   "source": [
    "Q12. Check if a number is within a given range."
   ]
  },
  {
   "cell_type": "code",
   "execution_count": 17,
   "metadata": {},
   "outputs": [
    {
     "name": "stdout",
     "output_type": "stream",
     "text": [
      "No\n"
     ]
    }
   ],
   "source": [
    "lower = int(input(\"Enter lower range: \"))\n",
    "upper = int(input(\"Enter upper range: \"))\n",
    "num = int(input(\"Enter number: \"))\n",
    "if lower <= num <= upper:\n",
    "    print(\"Yes\")\n",
    "else:\n",
    "    print(\"No\")\n"
   ]
  },
  {
   "cell_type": "markdown",
   "metadata": {},
   "source": [
    "Q13. Input 3 angle and determine if they form a triangle or not."
   ]
  },
  {
   "cell_type": "code",
   "execution_count": 18,
   "metadata": {},
   "outputs": [
    {
     "name": "stdout",
     "output_type": "stream",
     "text": [
      "Do not form a triangle\n"
     ]
    }
   ],
   "source": [
    "angle1 = int(input(\"Enter first angle: \"))\n",
    "angle2 = int(input(\"Enter second angle: \"))\n",
    "angle3 = int(input(\"Enter third angle: \"))\n",
    "if angle1 + angle2 + angle3 == 180:\n",
    "    print(\"Form a triangle\")\n",
    "else:\n",
    "    print(\"Do not form a triangle\")\n"
   ]
  },
  {
   "cell_type": "markdown",
   "metadata": {},
   "source": [
    "Q14. program that reads 2 numbers and an arithmetic operator and display the computed result:"
   ]
  },
  {
   "cell_type": "code",
   "execution_count": 31,
   "metadata": {},
   "outputs": [
    {
     "name": "stdout",
     "output_type": "stream",
     "text": [
      "Result: -1.0\n"
     ]
    }
   ],
   "source": [
    "a = float(input(\"Enter the first number: \"))\n",
    "b = float(input(\"Enter the second number: \"))\n",
    "op = input(\"Enter the operator: \")\n",
    "if op == \"+\":\n",
    "    res = a + b\n",
    "elif op == \"-\":\n",
    "    res = a - b\n",
    "elif op == \"*\":\n",
    "    res = a * b\n",
    "elif op == \"/\":\n",
    "    res = a / b\n",
    "else:\n",
    "    res = \"Invalid operator\"\n",
    "print(\"Result:\" , res)\n"
   ]
  },
  {
   "cell_type": "markdown",
   "metadata": {},
   "source": [
    "Q15. Write a python program to input cost price and selling price of a product and check profit or loss. Also calculate total profit or loss using if else"
   ]
  },
  {
   "cell_type": "code",
   "execution_count": 32,
   "metadata": {},
   "outputs": [
    {
     "name": "stdout",
     "output_type": "stream",
     "text": [
      "Profit: 4.0\n"
     ]
    }
   ],
   "source": [
    "cp = float(input(\"Enter cost price: \"))\n",
    "sp = float(input(\"Enter selling price: \"))\n",
    "if sp > cp:\n",
    "    profit = sp - cp\n",
    "    print(\"Profit:\" , profit)\n",
    "elif sp < cp:\n",
    "    loss = cp - sp\n",
    "    print(\"Loss:\" , loss)\n",
    "else:\n",
    "    print(\"No profit, no loss\")\n"
   ]
  },
  {
   "cell_type": "markdown",
   "metadata": {},
   "source": [
    "Q16. Write a python program to input week number and print week day."
   ]
  },
  {
   "cell_type": "code",
   "execution_count": 22,
   "metadata": {},
   "outputs": [
    {
     "name": "stdout",
     "output_type": "stream",
     "text": [
      "Wednesday\n"
     ]
    }
   ],
   "source": [
    "week_number = int(input(\"Enter week number (1-7): \"))\n",
    "if week_number == 1:\n",
    "    print(\"Monday\")\n",
    "elif week_number == 2:\n",
    "    print(\"Tuesday\")\n",
    "elif week_number == 3:\n",
    "    print(\"Wednesday\")\n",
    "elif week_number == 4:\n",
    "    print(\"Thursday\")\n",
    "elif week_number == 5:\n",
    "    print(\"Friday\")\n",
    "elif week_number == 6:\n",
    "    print(\"Saturday\")\n",
    "elif week_number == 7:\n",
    "    print(\"Sunday\")\n",
    "else:\n",
    "    print(\"Invalid week number\")\n"
   ]
  },
  {
   "cell_type": "markdown",
   "metadata": {},
   "source": [
    "Q17. Write a python program that accepts three numbers from the user and check if numbers are in \"increasing\" or \"decreasing\" order.\n"
   ]
  },
  {
   "cell_type": "code",
   "execution_count": 24,
   "metadata": {},
   "outputs": [
    {
     "name": "stdout",
     "output_type": "stream",
     "text": [
      "Neither increasing nor decreasing order\n"
     ]
    }
   ],
   "source": [
    "num1 = int(input(\"Enter first number: \"))\n",
    "num2 = int(input(\"Enter second number: \"))\n",
    "num3 = int(input(\"Enter third number: \"))\n",
    "if num1 < num2 < num3:\n",
    "    print(\"Increasing order\")\n",
    "elif num1 > num2 > num3:\n",
    "    print(\"Decreasing order\")\n",
    "else:\n",
    "    print(\"Neither increasing nor decreasing order\")\n"
   ]
  },
  {
   "cell_type": "markdown",
   "metadata": {},
   "source": [
    "Q18. while purchasing certain items, a discount of 10% is offered if the quantity purchased is more than 100. If quantity and price per item are input through the keyboard, write a program to calculate the total expenses."
   ]
  },
  {
   "cell_type": "code",
   "execution_count": 25,
   "metadata": {},
   "outputs": [
    {
     "name": "stdout",
     "output_type": "stream",
     "text": [
      "Total expenses: 70380.0\n"
     ]
    }
   ],
   "source": [
    "quantity = int(input(\"Enter quantity: \"))\n",
    "price_per_item = float(input(\"Enter price per item: \"))\n",
    "total_cost = quantity * price_per_item\n",
    "if quantity > 100:\n",
    "    total_cost *= 0.9  # 10% discount\n",
    "print(\"Total expenses:\" , total_cost)\n"
   ]
  },
  {
   "cell_type": "markdown",
   "metadata": {},
   "source": [
    "Q19. Write a program to input electricity unit charges and calculate total electricity bill \n",
    "according to the given condition:\n",
    "- For first 50 units Rs. 0.50/unit\n",
    "- For next 150 units Rs. 0.75/unit\n",
    "- For next 250 units Rs. 1.20/unit\n",
    "- For unit above 450 Rs. 1.50/unit\n",
    "- An additional surcharge of 20% is added to the bill\n",
    "\n"
   ]
  },
  {
   "cell_type": "code",
   "execution_count": 30,
   "metadata": {},
   "outputs": [
    {
     "name": "stdout",
     "output_type": "stream",
     "text": [
      "Total electricity bill: 471.72\n"
     ]
    }
   ],
   "source": [
    "units = int(input(\"Enter electricity units: \"))\n",
    "if units <= 50:\n",
    "    bill = units * 0.50\n",
    "elif units <= 200:\n",
    "    bill = (50 * 0.50) + ((units - 50) * 0.75)\n",
    "elif units <= 450:\n",
    "    bill = (50 * 0.50) + (150 * 0.75) + ((units - 200) * 1.20)\n",
    "else:\n",
    "    bill = (50 * 0.50) + (150 * 0.75) + (250 * 1.20) + ((units - 450) * 1.50)\n",
    "total_bill = bill + (0.20 * bill)\n",
    "print(\"Total electricity bill:\" , total_bill)"
   ]
  },
  {
   "cell_type": "markdown",
   "metadata": {},
   "source": [
    "Q20. Write a python program which accept the kilometres covered    \n",
    "and calculate the bill according to the following criteria:    \n",
    "First 10 Km -> Rs11/km    \n",
    "Next 90Km -> Rs 10/km    \n",
    "After that -> Rs9/km    \n",
    "Test Case 1:    \n",
    "Input: 50    \n",
    "Output: 510    \n",
    "Test Case 2:    \n",
    "Input: 100    \n",
    "Output: 1010"
   ]
  },
  {
   "cell_type": "code",
   "execution_count": null,
   "metadata": {},
   "outputs": [],
   "source": [
    "\n",
    "km = int(input(\"Enter the kilometers covered: \"))\n",
    "\n",
    "bill = 0\n",
    "\n",
    "if km <= 10:\n",
    "    bill = km * 11\n",
    "elif km <= 100:\n",
    "    bill = (10 * 11) + ((km - 10) * 10)\n",
    "else:\n",
    "    bill = (10 * 11) + (90 * 10) + ((km - 100) * 9)\n",
    "\n",
    "print(\"The total bill is:\", bill)\n"
   ]
  }
 ],
 "metadata": {
  "kernelspec": {
   "display_name": "Python 3",
   "language": "python",
   "name": "python3"
  },
  "language_info": {
   "codemirror_mode": {
    "name": "ipython",
    "version": 3
   },
   "file_extension": ".py",
   "mimetype": "text/x-python",
   "name": "python",
   "nbconvert_exporter": "python",
   "pygments_lexer": "ipython3",
   "version": "3.12.2"
  }
 },
 "nbformat": 4,
 "nbformat_minor": 2
}
