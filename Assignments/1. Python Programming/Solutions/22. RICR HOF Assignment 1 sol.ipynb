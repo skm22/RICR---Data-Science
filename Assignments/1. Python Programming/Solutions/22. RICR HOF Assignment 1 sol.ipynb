{
 "cells": [
  {
   "cell_type": "markdown",
   "metadata": {},
   "source": [
    "1. Write a lambda function that computes the maximum element from two numbers.    \n",
    "Test Case 1:    \n",
    "Arguments: 4,5    \n",
    "Output: 5"
   ]
  },
  {
   "cell_type": "code",
   "execution_count": 1,
   "metadata": {},
   "outputs": [
    {
     "name": "stdout",
     "output_type": "stream",
     "text": [
      "5\n"
     ]
    }
   ],
   "source": [
    "maxe = lambda x,y: x if x>y else y\n",
    "print(maxe(4,5))"
   ]
  },
  {
   "cell_type": "markdown",
   "metadata": {},
   "source": [
    "1. Write a lambda function that computes the sum of two numbers.   \n",
    "If the second number is not provided, use a default value of 10.   \n",
    "Test Case 1:    \n",
    "Argument: 5   \n",
    "Output: 15   \n",
    "Test Case 2:   \n",
    "Arguments: 5,6   \n",
    "Output: 11"
   ]
  },
  {
   "cell_type": "code",
   "execution_count": 1,
   "metadata": {},
   "outputs": [
    {
     "name": "stdout",
     "output_type": "stream",
     "text": [
      "15\n",
      "11\n"
     ]
    }
   ],
   "source": [
    "sum = lambda x,y=10:x+y\n",
    "print(sum(5))\n",
    "print(sum(5,6))"
   ]
  },
  {
   "cell_type": "markdown",
   "metadata": {},
   "source": [
    "2. Write a lambda function to check if the input is a list. If it's not a list, return \"Invalid Input, otherwise return the length of that list.    \n",
    "Test Case 1:    \n",
    "21 September 2024   \n",
    "Argument: [1, 2, 3, 4, 5]   \n",
    "Output: 5   \n",
    "Test Case 2:    \n",
    "Argument: ‘String’    \n",
    "Output: Invalid Input.  "
   ]
  },
  {
   "cell_type": "code",
   "execution_count": null,
   "metadata": {},
   "outputs": [
    {
     "name": "stdout",
     "output_type": "stream",
     "text": [
      "5\n",
      "Invalid Input\n"
     ]
    }
   ],
   "source": [
    "check = lambda seq: len(seq) if type(x)== list else \"Invalid Input\"\n",
    "x=[1, 2, 3, 4, 5]\n",
    "print(check(x))\n",
    "x='String'\n",
    "print(check(x))"
   ]
  },
  {
   "cell_type": "markdown",
   "metadata": {},
   "source": [
    "3. Write a lambda function that checks if a string is a palindrome, ignoring case sensitivity.   \n",
    "Note: Without using if-else concept.   \n",
    "Test Case 1:   \n",
    "Argument: ‘Racecar’   \n",
    "Output: True   \n",
    "Test Case 2:   \n",
    "Argument: ‘this’   \n",
    "Output: False."
   ]
  },
  {
   "cell_type": "code",
   "execution_count": 7,
   "metadata": {},
   "outputs": [
    {
     "name": "stdout",
     "output_type": "stream",
     "text": [
      "True\n",
      "False\n"
     ]
    }
   ],
   "source": [
    "check = lambda x:x[::-1].lower()==x.lower()\n",
    "print(check(\"Racecar\"))\n",
    "print(check('this'))"
   ]
  },
  {
   "cell_type": "markdown",
   "metadata": {},
   "source": [
    "4. Write a lambda function that checks if a number is a multiple of both 3 and 5. If true, return \"Multiple of 3 and 5\", otherwise return \"Not a multiple\"   \n",
    "Test Case 1:   \n",
    "Argument: 15   \n",
    "Output: \"Multiple of 3 and 5\"   \n",
    "Test Case 2:   \n",
    "Argument: 10   \n",
    "Output: \"Not a multiple\""
   ]
  },
  {
   "cell_type": "code",
   "execution_count": 8,
   "metadata": {},
   "outputs": [
    {
     "name": "stdout",
     "output_type": "stream",
     "text": [
      "Multiple of 3 and 5\n",
      "Not a multiple\n"
     ]
    }
   ],
   "source": [
    "check = lambda x: \"Multiple of 3 and 5\" if x%3==0 and x%5==0 else \"Not a multiple\"\n",
    "print(check(15))\n",
    "print(check(10))"
   ]
  },
  {
   "cell_type": "markdown",
   "metadata": {},
   "source": [
    "5. Write a python program to generate a lambda function to check whether a given string is a number or not. (True or False)   \n",
    "The output is:   \n",
    "Example of Expected Answer:   \n",
    "Is the given (3687) a number: True    \n",
    "Is the given (Python) a number: False"
   ]
  },
  {
   "cell_type": "code",
   "execution_count": 9,
   "metadata": {},
   "outputs": [
    {
     "name": "stdout",
     "output_type": "stream",
     "text": [
      "True\n",
      "False\n"
     ]
    }
   ],
   "source": [
    "check = lambda x: True if x.isdigit() else False\n",
    "print(check('3687'))\n",
    "print(check('Python'))"
   ]
  },
  {
   "cell_type": "markdown",
   "metadata": {},
   "source": [
    "6. Create a higher order function which accept a lamda function and a list, then compute the sum of all the negative numbers of that list.   \n",
    "Note: Without using sum function.   \n",
    "Lst = [1, -2, 3, -4, -5]   \n",
    "Expected Output: -11"
   ]
  },
  {
   "cell_type": "code",
   "execution_count": 3,
   "metadata": {},
   "outputs": [
    {
     "name": "stdout",
     "output_type": "stream",
     "text": [
      "output: -11\n"
     ]
    }
   ],
   "source": [
    "lst = [1,-2,3,-4,-5]\n",
    "\n",
    "def new(fun,seq):\n",
    "    sum = 0\n",
    "    for i in seq:\n",
    "        sum+=fun(i)\n",
    "    return sum\n",
    "\n",
    "print('output:' ,new(lambda x:x if x<0 else 0,lst))"
   ]
  },
  {
   "cell_type": "markdown",
   "metadata": {},
   "source": [
    "7. Write a Python program to reverse strings in a given list of string values using lambda.   \n",
    "Test Case:   \n",
    "Input: ['Red', 'Green', 'Blue', 'White', 'Black']   \n",
    "Output: ['deR', 'neerG', 'eulB', 'etihW', 'kcalB']"
   ]
  },
  {
   "cell_type": "code",
   "execution_count": 5,
   "metadata": {},
   "outputs": [
    {
     "name": "stdout",
     "output_type": "stream",
     "text": [
      "['deR', 'neerG', 'eulB', 'etihW', 'kcalB']\n"
     ]
    }
   ],
   "source": [
    "lst = ['Red', 'Green', 'Blue', 'White', 'Black']\n",
    "reverse_strings = list(map(lambda x: x[::-1],lst))\n",
    "print(reverse_strings)"
   ]
  },
  {
   "cell_type": "markdown",
   "metadata": {},
   "source": [
    "8. Write a Python program to square and cube every number in a given list of integers using Lambda.\n",
    "Test Case:  \n",
    "List: [1, 2, 3, 4, 5, 6, 7, 8, 9, 10]  \n",
    "Output:   \n",
    "[1, 4, 9, 16, 25, 36, 49, 64, 81, 100]  \n",
    "[1, 8, 27, 64, 125, 216, 343, 512, 729, 1000]"
   ]
  },
  {
   "cell_type": "code",
   "execution_count": 4,
   "metadata": {},
   "outputs": [
    {
     "name": "stdout",
     "output_type": "stream",
     "text": [
      "[1, 4, 9, 16, 25, 36, 49, 64, 81, 100]\n",
      "[1, 8, 27, 64, 125, 216, 343, 512, 729, 1000]\n"
     ]
    }
   ],
   "source": [
    "lst = [1, 2, 3, 4, 5, 6, 7, 8, 9, 10]\n",
    "s= list(map(lambda x: x**2, lst))\n",
    "c= list(map(lambda x: x**3, lst))\n",
    "print(s) \n",
    "print(c)  "
   ]
  },
  {
   "cell_type": "markdown",
   "metadata": {},
   "source": [
    "9. Write a Python program to remove None values from a given list using the lambda function.  \n",
    "Test Case:   \n",
    "Input: [12, 0, None, 23, None, -55, 234, 89, None, 0, 6, -12]   \n",
    "Output: [12, 0, 23, -55, 234, 89, 0, 6, -12]"
   ]
  },
  {
   "cell_type": "code",
   "execution_count": null,
   "metadata": {},
   "outputs": [
    {
     "name": "stdout",
     "output_type": "stream",
     "text": [
      "[12, 0, 23, -55, 234, 89, 0, 6, -12]\n"
     ]
    }
   ],
   "source": [
    "lst = [12, 0, None, 23, None, -55, 234, 89, None, 0, 6, -12]\n",
    "\n",
    "print(list(filter(lambda x: x is not None, lst)))"
   ]
  },
  {
   "cell_type": "markdown",
   "metadata": {},
   "source": [
    "10. Use reduce function to find the sum of squares of the given list.   \n",
    "Lst = [1, 2, 3, 4].   \n",
    "Expected Output: 1172"
   ]
  },
  {
   "cell_type": "code",
   "execution_count": 17,
   "metadata": {},
   "outputs": [
    {
     "name": "stdout",
     "output_type": "stream",
     "text": [
      "10\n"
     ]
    }
   ],
   "source": [
    "from functools import reduce\n",
    "lst = [1,2,3,4]\n",
    "print(reduce(lambda x,y:x+y,lst))"
   ]
  }
 ],
 "metadata": {
  "kernelspec": {
   "display_name": "Python 3",
   "language": "python",
   "name": "python3"
  },
  "language_info": {
   "codemirror_mode": {
    "name": "ipython",
    "version": 3
   },
   "file_extension": ".py",
   "mimetype": "text/x-python",
   "name": "python",
   "nbconvert_exporter": "python",
   "pygments_lexer": "ipython3",
   "version": "3.13.0"
  }
 },
 "nbformat": 4,
 "nbformat_minor": 2
}
