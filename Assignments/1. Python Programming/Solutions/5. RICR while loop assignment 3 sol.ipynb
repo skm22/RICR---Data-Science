{
 "cells": [
  {
   "cell_type": "markdown",
   "metadata": {},
   "source": [
    "# SOLUTIONS"
   ]
  },
  {
   "cell_type": "code",
   "execution_count": 1,
   "metadata": {},
   "outputs": [
    {
     "name": "stdout",
     "output_type": "stream",
     "text": [
      "6\n"
     ]
    }
   ],
   "source": [
    "#Q1. Write a python program to find the Sum of the Digits of a given \n",
    "# number as an input. \n",
    "# Input Output Explanation \n",
    "# 123     6    1+2+3 = 6 \n",
    "# 456    15    4+5+6 = 15 \n",
    "# 789    24    7+8+9 = 24\n",
    "\n",
    "n=int(input())\n",
    "sum=0\n",
    "while n>0:\n",
    "    a=n%10\n",
    "    sum+=a\n",
    "    n=n//10\n",
    "print(sum)    \n"
   ]
  },
  {
   "cell_type": "code",
   "execution_count": 2,
   "metadata": {},
   "outputs": [
    {
     "name": "stdout",
     "output_type": "stream",
     "text": [
      "321\n"
     ]
    }
   ],
   "source": [
    "#2.  Write a python program which finds the reverse of a given \n",
    "# number. \n",
    "# Input Output Explanation \n",
    "# 123    321   Reverse of 123 is 321. \n",
    "# 456    654   Reverse of 456 is 654. \n",
    "# 789    987   Reverse of 789 is 987.\n",
    "\n",
    "n=int(input())\n",
    "rev=0\n",
    "while n>0:\n",
    "    r=n%10\n",
    "    rev*=10\n",
    "    rev+=r\n",
    "    n=n//10\n",
    "print(rev)  "
   ]
  },
  {
   "cell_type": "code",
   "execution_count": 3,
   "metadata": {},
   "outputs": [
    {
     "name": "stdout",
     "output_type": "stream",
     "text": [
      "1 2 3 4 6 12 "
     ]
    }
   ],
   "source": [
    "# Q3. Write a python program which find the Factors of a given number \n",
    "# as an input. \n",
    "# Explanation: Given an integer input, the objective is to find all the factors \n",
    "# of the number by checking divisibility. \n",
    "# Input     Output               Explanation \n",
    "# 12       1, 2, 3, 4, 6, 12     Factors of 12 are 1, 2, 3, 4, 6, and 12. \n",
    "# 15       1, 3, 5, 15           Factors of 15 are 1, 3, 5, and 15. \n",
    "# 18       1, 2, 3, 6, 9, 18     Factors of 18 are 1, 2, 3, 6, 9, and 18.\n",
    "\n",
    "\n",
    "n=int(input())\n",
    "i=1\n",
    "while i<=n:\n",
    "    if n % i == 0:\n",
    "        print(i,end=\" \")\n",
    "    i += 1    "
   ]
  },
  {
   "cell_type": "code",
   "execution_count": 5,
   "metadata": {},
   "outputs": [
    {
     "name": "stdout",
     "output_type": "stream",
     "text": [
      "Palindrome\n"
     ]
    }
   ],
   "source": [
    "# Q5. Write a python program which check Whether the given number \n",
    "# as an input is a Palindrome or not. \n",
    "# Explanation: palindrome numbers are those whose reverse is equal to the \n",
    "# original number. \n",
    "# Input   Output             Explanation \n",
    "# 121    Palindrome          Reverse of 121 is 121, so it’s a palindrome. \n",
    "# 123    Not a Palindrome    Reverse of 123 is 321, so it’s not a palindrome. \n",
    "# 1331   Palindrome          Reverse of 1331 is 1331, so it’s a palindrome.\n",
    "\n",
    "\n",
    "n=int(input())\n",
    "rev=0\n",
    "temp=n\n",
    "while n>0:\n",
    "    r=n%10\n",
    "    rev*=10\n",
    "    rev+=r\n",
    "    n=n//10\n",
    "if rev==temp:\n",
    "    print(\"Palindrome\")\n",
    "else:\n",
    "    print(\"Not a Palindrome\")    "
   ]
  },
  {
   "cell_type": "code",
   "execution_count": 10,
   "metadata": {},
   "outputs": [
    {
     "name": "stdout",
     "output_type": "stream",
     "text": [
      "720\n"
     ]
    }
   ],
   "source": [
    "# Q6. Write a python program which finds Factorial of a Number. \n",
    "# Input Output Explanation \n",
    "# 5     120    Factorial of 5 is 5! = 5×4×3×2×1 = 120. \n",
    "# 6     720    Factorial of 6 is 6! = 6×5×4×3×2×1 = 720\n",
    "# 0      1     Factorial of 0 is 1 (by definition).\n",
    "\n",
    "n = int(input())\n",
    "f = 1\n",
    "while n >=1:\n",
    "    f *= n\n",
    "    n -=1\n",
    "print(f)    \n",
    "\n"
   ]
  },
  {
   "cell_type": "code",
   "execution_count": 11,
   "metadata": {},
   "outputs": [
    {
     "name": "stdout",
     "output_type": "stream",
     "text": [
      "Armstrong \n"
     ]
    }
   ],
   "source": [
    "# Q7. Check Whether or Not the Number is an Armstrong Number. \n",
    "# Explanation: An Armstrong number is a number that equals the sum of its \n",
    "# digits, each raised to a power (length of that number or count of digit in that \n",
    "# number). \n",
    "# Input    Output           Explanation \n",
    "# 153      Armstrong        1³ + 5³ + 3³ = 153. \n",
    "# 123      Not Armstrong    1³ + 2³ + 3³ ≠ 123. \n",
    "# 370      Armstrong        3³ + 7³ + 0³ = 370.\n",
    "\n",
    "\n",
    "n=int(input(\"Enter the number\"))\n",
    "count=0\n",
    "temp=n\n",
    "ans=0\n",
    "temp2=n\n",
    "while n>0:\n",
    "    count+=1\n",
    "    n=n//10  \n",
    "while temp>0:\n",
    "    a=temp%10\n",
    "    ans+=a**count\n",
    "    temp=temp//10\n",
    "if ans==temp2:    \n",
    "    print(\"Armstrong \")\n",
    "else:\n",
    "    print(\"Not Armstrong\")    \n",
    "\n",
    "\n"
   ]
  },
  {
   "cell_type": "code",
   "execution_count": 1,
   "metadata": {},
   "outputs": [
    {
     "name": "stdout",
     "output_type": "stream",
     "text": [
      "Perfect\n"
     ]
    }
   ],
   "source": [
    "# Q8. Write a python program to check whether or Not the given \n",
    "# number is a Perfect Number. \n",
    "# Explanation: Given an integer input, the objective is to check whether the sum \n",
    "# of its factors (excluding the number itself) equals the number. If so, the \n",
    "# number is a Perfect Number. \n",
    " \n",
    "# Input    Output      Explanation \n",
    "# 6       Perfect      Factors of 6 are 1, 2, 3. Sum = 1+2+3 = 6. \n",
    "# 28      Perfect      Factors of 28 are 1, 2, 4, 7, 14. Sum = 28. \n",
    "# 10      Not Perfect  Factors of 10 are 1, 2, 5. Sum = 8 ≠ 10.\n",
    "\n",
    "\n",
    "num=int(input())\n",
    "n=1\n",
    "count=0\n",
    "temp=num\n",
    "while n<num:\n",
    "    if num%n==0:\n",
    "        count+=n\n",
    "    n+=1        \n",
    "if temp==count:\n",
    "    print(\"Perfect\")\n",
    "else:\n",
    "    print(\"Not Perfect\")\n"
   ]
  },
  {
   "cell_type": "code",
   "execution_count": null,
   "metadata": {},
   "outputs": [
    {
     "name": "stdout",
     "output_type": "stream",
     "text": [
      "20\n"
     ]
    }
   ],
   "source": [
    "# Q9. Write a program to enter the number till the user enters 0 and \n",
    "# at the end it should display the sum of all the numbers entered.  \n",
    "# Example: \n",
    "# Enter a number: 5 \n",
    "# Enter a number: 8 \n",
    "# Enter a number: 1 \n",
    "# Enter a number: -6 \n",
    "# Enter a number: 0 \n",
    "# Output: 8 \n",
    " \n",
    "# How output is 8: \n",
    "# 5 + 8 +1 + (-6) \n",
    "\n",
    "\n",
    "n = int(input(\"Enter the number:\"))\n",
    "sum=0\n",
    "while n != 0:\n",
    "    sum += n\n",
    "    n = int(input(\"Enter the number:\"))\n",
    "print(sum)"
   ]
  }
 ],
 "metadata": {
  "kernelspec": {
   "display_name": "Python 3",
   "language": "python",
   "name": "python3"
  },
  "language_info": {
   "codemirror_mode": {
    "name": "ipython",
    "version": 3
   },
   "file_extension": ".py",
   "mimetype": "text/x-python",
   "name": "python",
   "nbconvert_exporter": "python",
   "pygments_lexer": "ipython3",
   "version": "3.12.3"
  }
 },
 "nbformat": 4,
 "nbformat_minor": 2
}
