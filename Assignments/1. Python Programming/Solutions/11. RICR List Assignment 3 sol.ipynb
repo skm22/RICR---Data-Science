{
 "cells": [
  {
   "cell_type": "markdown",
   "metadata": {},
   "source": [
    "## RICR List Assignment 3 Solutions"
   ]
  },
  {
   "cell_type": "markdown",
   "metadata": {},
   "source": [
    "-------------------------------------------------------------------------------------------------------------------------------------------------"
   ]
  },
  {
   "cell_type": "markdown",
   "metadata": {},
   "source": [
    "Q1. Write a python program to divide the list into two halves and print the sum of each half.       \n",
    "\tlst1 = [2,4,6,8,3,5,8,9]    \n",
    "\tOutput :  20 , 25\n"
   ]
  },
  {
   "cell_type": "code",
   "execution_count": 9,
   "metadata": {},
   "outputs": [
    {
     "name": "stdout",
     "output_type": "stream",
     "text": [
      "20 25\n"
     ]
    }
   ],
   "source": [
    "lst1 = [2,4,6,8,3,5,8,9]        # Initial list with integers\n",
    "l1 = lst1[:len(lst1)//2]        # Get the first half of the list\n",
    "l2 = lst1[len(lst1)//2:]        # Get the second half of the list\n",
    "sum1 = 0                        # Initialize sum for the first half\n",
    "sum2 = 0                        # Initialize sum for the second half\n",
    "for i in l1:                    # Loop through the first half\n",
    "    sum1 += i                   # Add every element of first half to sum1\n",
    "for i in l2:                    # Loop through the second half\n",
    "    sum2 += i                   # Add every element of second half to sum2\n",
    "print(sum1,sum2)                # Print the sums of both halves"
   ]
  },
  {
   "cell_type": "markdown",
   "metadata": {},
   "source": [
    "Q2. Write a program to delete the element at the index equal to half the length of the given list. Print the list before and after deletion.        \n",
    "\n",
    "\n",
    "Before: [2,3,4,5,6,7,8]   \n",
    "After: [2,3,4,6,7,8]   \n",
    "Note: List can be changed.\n"
   ]
  },
  {
   "cell_type": "code",
   "execution_count": 10,
   "metadata": {},
   "outputs": [
    {
     "name": "stdout",
     "output_type": "stream",
     "text": [
      "[2, 3, 4, 5, 6, 7, 8]\n",
      "[2, 3, 4, 6, 7, 8]\n"
     ]
    }
   ],
   "source": [
    "lst2 = [2,3,4,5,6,7,8]  # Initial list with integers\n",
    "a = len(lst2)//2        # Calculate the middle index\n",
    "print(lst2)             # Print the list before deletion\n",
    "del lst2[a]             # Delete the element at the middle index\n",
    "print(lst2)             # Print the list before deletion"
   ]
  },
  {
   "cell_type": "markdown",
   "metadata": {},
   "source": [
    "Q3. Write a program to append a new integer to this list, which is the sum of the first and last elements of the list. Print the list before and after appending.         \n",
    "\tSample List: [23,43,56,87]   \n",
    "\tOutput: [23,43,56,87,110]\n"
   ]
  },
  {
   "cell_type": "code",
   "execution_count": 12,
   "metadata": {},
   "outputs": [
    {
     "name": "stdout",
     "output_type": "stream",
     "text": [
      "[23, 43, 56, 87]\n",
      "[23, 43, 56, 87, 110]\n"
     ]
    }
   ],
   "source": [
    "lst3 = [23,43,56,87]        # Initial list with integers\n",
    "l1 = lst3[0]                # Get the first half of the list\n",
    "l2 = lst3[len(lst3)-1]      # Get the second half of the list\n",
    "sum = l1+l2                 # Calculate the sum of the first and last elements\n",
    "print(lst3)                 # Print the list before appending\n",
    "lst3.append(sum)            # Append the sum to the end of the list\n",
    "print(lst3)                 # Print the list before appending"
   ]
  },
  {
   "cell_type": "markdown",
   "metadata": {},
   "source": [
    "Q4. Write a program to insert the product of the first and last elements at the third position in the list. Print the list before and after insertion.         \n",
    "\tSample list = [34,56,23,76,23,46]  \n",
    "\tOutput: [34,56,23,1564,76,23,46]\n"
   ]
  },
  {
   "cell_type": "code",
   "execution_count": 14,
   "metadata": {},
   "outputs": [
    {
     "name": "stdout",
     "output_type": "stream",
     "text": [
      "[34, 56, 23, 76, 23, 46]\n",
      "[34, 56, 23, 1564, 76, 23, 46]\n"
     ]
    }
   ],
   "source": [
    "lst4 = [34, 56, 23, 76, 23, 46]     # Initialize a list with some integer elements\n",
    "a = lst4[0]                         # Get the first element of the list (34) and assign it to variable 'a'\n",
    "b = lst4[len(lst4)-1]               # Get the last element of the list (46) using the length of the list and assign it to 'b'\n",
    "prod = a * b                        # Calculate the product of 'a' and 'b' (34 * 46) and store it in 'prod'\n",
    "print(lst4)                         # Print the original list\n",
    "lst4.insert(3, prod)                # Insert the product (1564) at index 3 (fourth position) in the list\n",
    "print(lst4)                         # Print the list after inserting the product"
   ]
  },
  {
   "cell_type": "markdown",
   "metadata": {},
   "source": [
    "Q5. Write a program to calculate and print the first and last elements of each sublist.    \n",
    "\tlst2 = [[23,45,76],[45,3,12],[3,5,20]]   \n",
    "\tOutput: 23 76 45 12 3 20\n"
   ]
  },
  {
   "cell_type": "code",
   "execution_count": 15,
   "metadata": {},
   "outputs": [
    {
     "name": "stdout",
     "output_type": "stream",
     "text": [
      "23 76 45 12 3 20 "
     ]
    }
   ],
   "source": [
    "lst5 = [[23, 45, 76], [45, 3, 12], [3, 5, 20]]  # Initialize a 2D list (list of lists) with integer elements\n",
    "for i in lst5:                                  # Loop through each sublist in the 2D list 'lst5'\n",
    "    print(i[0], i[2], end=' ')                  # For each sublist, print the first element (i[0]) and the third element (i[2]) on the same line, separated by a space"
   ]
  },
  {
   "cell_type": "markdown",
   "metadata": {},
   "source": [
    "Q6. Write a program to calculate and print the sum of max elements of each sublist.     \n",
    "\tlst3 = [[1,2,4,5],[3,5,4,3],[4,5,3,2]]  \n",
    "\tOutput: 15\n"
   ]
  },
  {
   "cell_type": "code",
   "execution_count": 1,
   "metadata": {},
   "outputs": [
    {
     "name": "stdout",
     "output_type": "stream",
     "text": [
      "15\n"
     ]
    }
   ],
   "source": [
    "lst6 = [[1, 2, 4, 5], [3, 5, 4, 3], [4, 5, 3, 2]]   # Initialize a 2D list (list of lists) with integer elements\n",
    "res = 0                                             # Initialize a variable 'res' to store the sum of maximum values from each sublist\n",
    "for i in lst6:                                      # Loop through each sublist in the 2D list 'lst6'\n",
    "    res += max(i)                                   # Find the maximum value in the current sublist and add it to 'res'\n",
    "print(res)                                          # Print the final result, which is the sum of the maximum values from all sublists"
   ]
  },
  {
   "cell_type": "markdown",
   "metadata": {},
   "source": [
    "Q7. Write a program to calculate and print the sum of elements in each sublist and add the resultant values.   \n",
    "\tSample list = [[1,2,4,5],[3,5,4,3],[4,5,3,2]]   \n",
    "\tOutput: [12 , 15 , 14]  \n",
    "\t\t\t41\n"
   ]
  },
  {
   "cell_type": "code",
   "execution_count": 2,
   "metadata": {},
   "outputs": [
    {
     "name": "stdout",
     "output_type": "stream",
     "text": [
      "[12, 15, 14]\n",
      "41\n"
     ]
    }
   ],
   "source": [
    "lst = [[1, 2, 4, 5], [3, 5, 4, 3], [4, 5, 3, 2]]  # Initialize a 2D list (list of lists) with integer elements\n",
    "reslst = []                                       # Initialize an empty list to store the sum of elements from each sublist\n",
    "for i in lst:                                     # Loop through each sublist in 'lst'\n",
    "    res = 0                                       # Initialize a variable 'res' to store the sum of the current sublist\n",
    "    for j in i:                                   # Loop through each element in the current sublist\n",
    "        res += j                                  # Add the current element to 'res'\n",
    "    reslst.append(res)                            # Append the sum of the current sublist to 'reslst'\n",
    "print(reslst)                                     # Print the list 'reslst' containing the sum of elements from each sublist\n",
    "print(sum(reslst))                                # Print the total sum of all elements in 'reslst', which is the sum of all elements in the original 2D list"
   ]
  },
  {
   "cell_type": "markdown",
   "metadata": {},
   "source": [
    "-------------------------------------------------------------------------------------------------------------------------------------------------"
   ]
  },
  {
   "cell_type": "markdown",
   "metadata": {},
   "source": [
    "## Class Questions Solutions"
   ]
  },
  {
   "cell_type": "markdown",
   "metadata": {},
   "source": [
    "1. Find the largest element of the above given list without using max() and sort() functions.     \n",
    "lst = [2,5,7,1,4,6,10,11,6,12]"
   ]
  },
  {
   "cell_type": "code",
   "execution_count": 1,
   "metadata": {},
   "outputs": [
    {
     "name": "stdout",
     "output_type": "stream",
     "text": [
      "12\n"
     ]
    }
   ],
   "source": [
    "lst = [2, 5, 7, 1, 4, 6, 10, 11, 6, 12]     # Initialize a list with integer elements\n",
    "max = lst[0]                                # Assume the first element is the maximum\n",
    "for i in lst:                               # Loop through each element in the list\n",
    "    if i > max:                             # If the current element is greater than the assumed maximum\n",
    "        max = i                             # Update the maximum with the current element\n",
    "print(max)                                  # Print the maximum element found in the list\n"
   ]
  },
  {
   "cell_type": "markdown",
   "metadata": {},
   "source": [
    "2. Find the Smallest element of the above given list without using min() and sort() functions.   \n",
    "lst = [2,5,7,1,4,6,10,11,6,12]"
   ]
  },
  {
   "cell_type": "code",
   "execution_count": 2,
   "metadata": {},
   "outputs": [
    {
     "name": "stdout",
     "output_type": "stream",
     "text": [
      "1\n"
     ]
    }
   ],
   "source": [
    "lst = [2, 5, 7, 1, 4, 6, 10, 11, 6, 12]     # Initialize a list with integer elements\n",
    "min = lst[0]                                # Assume the first element is the minimum\n",
    "for i in lst:                               # Loop through each element in the list\n",
    "    if i < min:                             # If the current element is smaller than the assumed minimum\n",
    "        min = i                             # Update the minimum with the current element\n",
    "print(min)                                  # Print the minimum element found in the list"
   ]
  },
  {
   "cell_type": "markdown",
   "metadata": {},
   "source": [
    "3. Find the Second largest element of the above given list without using max() and sort() functions.      \n",
    "lst = [2,5,7,1,4,6,10,11,6,12]"
   ]
  },
  {
   "cell_type": "code",
   "execution_count": 3,
   "metadata": {},
   "outputs": [
    {
     "name": "stdout",
     "output_type": "stream",
     "text": [
      "11\n"
     ]
    }
   ],
   "source": [
    "lst = [2, 5, 7, 1, 4, 6, 10, 11, 6, 12]     # Initialize a list with integer elements\n",
    "if lst[0] > lst[1]:                         # Compare the first two elements to find the max and sec_max\n",
    "    max = lst[0]                            # Assign max to the first element if it is greater\n",
    "    sec_max = lst[1]                        # Assign sec_max to the second element\n",
    "else:\n",
    "    max = lst[1]                            # Assign max to the second element\n",
    "    sec_max = lst[0]                        # Assign sec_max to the first element\n",
    "for i in range(2, len(lst)):                # Loop through the list starting from the third element\n",
    "    if lst[i] > max:                        # If the current element is greater than the maximum\n",
    "        sec_max = max                       # Update sec_max to the previous max\n",
    "        max = lst[i]                        # Update max with the current element\n",
    "    elif lst[i] > sec_max and lst[i] <= max:  # If the current element is between sec_max and max\n",
    "        sec_max = lst[i]                      # Update sec_max with the current element\n",
    "print(sec_max)                                # Print the second maximum element found in the list"
   ]
  },
  {
   "cell_type": "markdown",
   "metadata": {},
   "source": [
    "4. Find the Second Smallest element of the above given list without using min() and sort() functions.       \n",
    "lst = [2,5,7,1,4,6,10,11,6,12]     "
   ]
  },
  {
   "cell_type": "code",
   "execution_count": 5,
   "metadata": {},
   "outputs": [
    {
     "name": "stdout",
     "output_type": "stream",
     "text": [
      "2\n"
     ]
    }
   ],
   "source": [
    "lst = [2, 5, 7, 1, 4, 6, 10, 11, 6, 12]     # Initialize a list with integer elements\n",
    "if lst[0] < lst[1]:                         # Compare the first two elements to find the min and sec_min\n",
    "    min = lst[0]                            # Assign min to the first element if it is smaller\n",
    "    sec_min = lst[1]                        # Assign sec_min to the second element\n",
    "else:\n",
    "    min = lst[1]                            # Assign min to the second element\n",
    "    sec_min = lst[0]                        # Assign sec_min to the first element\n",
    "for i in range(0, len(lst)):                # Loop through the list starting from the first element\n",
    "    if lst[i] < min:                        # If the current element is smaller than the minimum\n",
    "        sec_min = min                       # Update sec_min to the previous min\n",
    "        min = lst[i]                        # Update min with the current element\n",
    "    elif lst[i] < sec_min and lst[i] > min:  # If the current element is between sec_min and min\n",
    "        sec_min = lst[i]                     # Update sec_min with the current element\n",
    "print(sec_min)                               # Print the second minimum element found in the list"
   ]
  },
  {
   "cell_type": "markdown",
   "metadata": {},
   "source": [
    "-------------------------------------------------------------------------------------------------------------------------------------------------"
   ]
  }
 ],
 "metadata": {
  "kernelspec": {
   "display_name": "Python 3",
   "language": "python",
   "name": "python3"
  },
  "language_info": {
   "codemirror_mode": {
    "name": "ipython",
    "version": 3
   },
   "file_extension": ".py",
   "mimetype": "text/x-python",
   "name": "python",
   "nbconvert_exporter": "python",
   "pygments_lexer": "ipython3",
   "version": "3.12.3"
  }
 },
 "nbformat": 4,
 "nbformat_minor": 2
}
