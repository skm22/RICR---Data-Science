{
 "cells": [
  {
   "cell_type": "markdown",
   "metadata": {},
   "source": [
    "# SOLUTIONS"
   ]
  },
  {
   "cell_type": "code",
   "execution_count": 1,
   "metadata": {},
   "outputs": [
    {
     "name": "stdout",
     "output_type": "stream",
     "text": [
      "720\n"
     ]
    }
   ],
   "source": [
    "# 1.Write a python program that calculates the factorial of a number.\n",
    "# Factorial of n is: 1 * 2 * 3 * …….. * n\n",
    "\n",
    "n = int(input())\n",
    "i = 1\n",
    "res = 1\n",
    "while i<=n:\n",
    "    res *= i\n",
    "    i += 1\n",
    "print(res)"
   ]
  },
  {
   "cell_type": "code",
   "execution_count": 3,
   "metadata": {},
   "outputs": [
    {
     "name": "stdout",
     "output_type": "stream",
     "text": [
      "5\n",
      "6\n",
      "4\n",
      "5\n"
     ]
    }
   ],
   "source": [
    "# 2.\tWrite a python while loop code that asks the user for input until the user enters a number 0.\n",
    "\n",
    "while True:\n",
    "    n = int(input())\n",
    "    if n==0:\n",
    "        break\n",
    "    print(n)"
   ]
  },
  {
   "cell_type": "code",
   "execution_count": 6,
   "metadata": {},
   "outputs": [
    {
     "name": "stdout",
     "output_type": "stream",
     "text": [
      "1\n",
      "2\n",
      "3\n",
      "5\n",
      "6\n",
      "10\n",
      "15\n"
     ]
    }
   ],
   "source": [
    "# 3.Write a python program that takes 2 number from user, then print \n",
    "# numbers from 1 to 20 which divides both the numbers (common factor of those 2 number)\n",
    "\n",
    "num1 = int(input())\n",
    "num2 = int(input())\n",
    "i = 1\n",
    "while i<=20:\n",
    "    if num1%i == 0 and num2%i == 0:\n",
    "        print(i)\n",
    "    i += 1"
   ]
  },
  {
   "cell_type": "code",
   "execution_count": 2,
   "metadata": {},
   "outputs": [
    {
     "name": "stdout",
     "output_type": "stream",
     "text": [
      "1 2 3 4 6 12 "
     ]
    }
   ],
   "source": [
    "# Q4. Write a program to find the factors of a given number by the user as an input.\n",
    "\n",
    "n = int(input())\n",
    "i = 1\n",
    "while i <= n:\n",
    "    if n % i == 0:\n",
    "        print(i,end=' ')\n",
    "    i += 1\n"
   ]
  },
  {
   "cell_type": "code",
   "execution_count": null,
   "metadata": {},
   "outputs": [
    {
     "name": "stdout",
     "output_type": "stream",
     "text": [
      "Even Count : 4\n",
      "Odd count : 2\n"
     ]
    }
   ],
   "source": [
    "# 5.\tWrite a python program that takes a number from the user, then print count of even and odd factors separately.\n",
    "\n",
    "n = int(input())\n",
    "i = 1\n",
    "evencount = 0\n",
    "oddcount = 0\n",
    "while i<=n:\n",
    "    if n % i == 0 and i % 2 == 0:\n",
    "        evencount += 1\n",
    "    elif n % i == 0 and i % 2 != 0:\n",
    "        oddcount += 1\n",
    "    i += 1\n",
    "print(\"Even Count :\",evencount)\n",
    "print(\"Odd count :\",oddcount)"
   ]
  },
  {
   "cell_type": "code",
   "execution_count": null,
   "metadata": {},
   "outputs": [],
   "source": []
  }
 ],
 "metadata": {
  "kernelspec": {
   "display_name": "Python 3",
   "language": "python",
   "name": "python3"
  },
  "language_info": {
   "codemirror_mode": {
    "name": "ipython",
    "version": 3
   },
   "file_extension": ".py",
   "mimetype": "text/x-python",
   "name": "python",
   "nbconvert_exporter": "python",
   "pygments_lexer": "ipython3",
   "version": "3.12.3"
  }
 },
 "nbformat": 4,
 "nbformat_minor": 2
}
