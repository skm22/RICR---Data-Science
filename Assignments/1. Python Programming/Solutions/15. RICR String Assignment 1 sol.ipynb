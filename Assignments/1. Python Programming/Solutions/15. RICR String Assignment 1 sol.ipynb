{
 "cells": [
  {
   "cell_type": "markdown",
   "metadata": {},
   "source": [
    "Q1. Write a program to check if the word ‘am’ is present within a given string, and if so, return the index of its first occurrence."
   ]
  },
  {
   "cell_type": "code",
   "execution_count": 1,
   "metadata": {},
   "outputs": [
    {
     "name": "stdout",
     "output_type": "stream",
     "text": [
      "15\n"
     ]
    }
   ],
   "source": [
    "String = \"Hello World, I am Programmer\"\n",
    "if 'am' in String:\n",
    "    print(String.index('am')) "
   ]
  },
  {
   "cell_type": "markdown",
   "metadata": {},
   "source": [
    "Q2. Write a python program which takes string as input and replace every occurrence of input string in the given the list to ‘hii’ and also print list which have length of all the strings inside that list."
   ]
  },
  {
   "cell_type": "code",
   "execution_count": 3,
   "metadata": {},
   "outputs": [
    {
     "name": "stdout",
     "output_type": "stream",
     "text": [
      "['I', 'hii', 'programmer', 'and', 'I', 'hii', 'coder']\n",
      "[1, 3, 10, 3, 1, 3, 5]\n"
     ]
    }
   ],
   "source": [
    "n=input(\"enter string\")\n",
    "lst=['I' , 'am' , 'programmer', 'and' , 'I' , 'am' , 'coder']\n",
    "lst1=[]\n",
    "for j in range(len(lst)):\n",
    "    if lst[j]==n:\n",
    "        lst[j]='hii'  \n",
    "print(lst) \n",
    "len_lst = []\n",
    "for i in lst:\n",
    "    len_lst .append(len(i))   \n",
    "print(len_lst)"
   ]
  },
  {
   "cell_type": "markdown",
   "metadata": {},
   "source": [
    "Q3. Write a program to take two strings and an integer. The program should slice the first string till the given integer and concatenate the resulting substrings with the second string."
   ]
  },
  {
   "cell_type": "code",
   "execution_count": 4,
   "metadata": {},
   "outputs": [
    {
     "name": "stdout",
     "output_type": "stream",
     "text": [
      "strstring2\n"
     ]
    }
   ],
   "source": [
    "n=input(\"enter str\")\n",
    "m=input(\"enter str\")\n",
    "d=int(input(\"enter integer\"))\n",
    "c=(n[:d])\n",
    "print(c+m)"
   ]
  },
  {
   "cell_type": "markdown",
   "metadata": {},
   "source": [
    "Q4. Write a python program which convert all occurrences of first character and last character of given string into ‘$’."
   ]
  },
  {
   "cell_type": "code",
   "execution_count": 5,
   "metadata": {},
   "outputs": [
    {
     "name": "stdout",
     "output_type": "stream",
     "text": [
      "$on$at$nat$\n"
     ]
    }
   ],
   "source": [
    "n=\"concatenate\"\n",
    "p=list(n)\n",
    "a=n[0]\n",
    "d=n[-1]\n",
    "for i in range(len(p)):\n",
    "    if p[i]==a:\n",
    "        p[i]='$'  \n",
    "    if p[i]==d:\n",
    "        p[i]='$'\n",
    "print(\"\".join(p))        "
   ]
  },
  {
   "cell_type": "markdown",
   "metadata": {},
   "source": [
    "Q5. Write a program to remove all vowels from a given string."
   ]
  },
  {
   "cell_type": "code",
   "execution_count": 8,
   "metadata": {},
   "outputs": [
    {
     "name": "stdout",
     "output_type": "stream",
     "text": [
      "cnctnt\n"
     ]
    }
   ],
   "source": [
    "s='concatenate'\n",
    "for i in s:\n",
    "    if i in 'aeiouAEIOU':\n",
    "        s = s.replace(i,'')\n",
    "print(s)       "
   ]
  },
  {
   "cell_type": "markdown",
   "metadata": {},
   "source": [
    "Q6. Write a python program which takes character as a input and count the occurrences of that character into the given string and convert all them into ‘#’."
   ]
  },
  {
   "cell_type": "code",
   "execution_count": 9,
   "metadata": {},
   "outputs": [
    {
     "name": "stdout",
     "output_type": "stream",
     "text": [
      "2\n",
      "pro#rammin#\n"
     ]
    }
   ],
   "source": [
    "s = 'programming'\n",
    "n=input(\"enter character\")\n",
    "print(s.count(n))\n",
    "print(s.replace(n,'#'))"
   ]
  },
  {
   "cell_type": "markdown",
   "metadata": {},
   "source": [
    "Q7. Write a python program which takes string as an input and removes the character at even indices."
   ]
  },
  {
   "cell_type": "code",
   "execution_count": 12,
   "metadata": {},
   "outputs": [
    {
     "name": "stdout",
     "output_type": "stream",
     "text": [
      "yhn\n"
     ]
    }
   ],
   "source": [
    "a='python'\n",
    "b=list(a)\n",
    "for i in range(len(b)):\n",
    "    if i%2==0:\n",
    "        b.remove(a[i])       \n",
    "print(\"\".join(b))     "
   ]
  },
  {
   "cell_type": "markdown",
   "metadata": {},
   "source": [
    "Q8. Write a program that splits a given string into words, sorts the words in alphabetical order, and joins them back into a single string."
   ]
  },
  {
   "cell_type": "code",
   "execution_count": 41,
   "metadata": {},
   "outputs": [
    {
     "name": "stdout",
     "output_type": "stream",
     "text": [
      "a am engineer hello, i learning machine\n"
     ]
    }
   ],
   "source": [
    "s='hello, i am a machine learning engineer'\n",
    "p=s.split()\n",
    "p.sort()\n",
    "print(\" \".join(p))"
   ]
  },
  {
   "cell_type": "markdown",
   "metadata": {},
   "source": [
    "Q9. Write a python program which takes string as input and swap first and last character of that string."
   ]
  },
  {
   "cell_type": "code",
   "execution_count": null,
   "metadata": {},
   "outputs": [
    {
     "name": "stdout",
     "output_type": "stream",
     "text": [
      "oellh\n"
     ]
    }
   ],
   "source": [
    "a=input(\"enter str\")\n",
    "ans = a[-1] + a[1:-1] + a[0]\n",
    "print(ans)"
   ]
  },
  {
   "cell_type": "markdown",
   "metadata": {},
   "source": [
    "Q10. Write a program to check if a given string is a palindrome."
   ]
  },
  {
   "cell_type": "code",
   "execution_count": 15,
   "metadata": {},
   "outputs": [
    {
     "name": "stdout",
     "output_type": "stream",
     "text": [
      "True\n"
     ]
    }
   ],
   "source": [
    "n=input(\"enter str\")\n",
    "temp = n[::-1]\n",
    "if n == temp:\n",
    "    print(True) \n",
    "else:\n",
    "    print(False) \n"
   ]
  },
  {
   "cell_type": "markdown",
   "metadata": {},
   "source": [
    "Q11. Write a python program which convert given list into a single string where each name is capitalized and separated by a semicolon."
   ]
  },
  {
   "cell_type": "code",
   "execution_count": 52,
   "metadata": {},
   "outputs": [
    {
     "name": "stdout",
     "output_type": "stream",
     "text": [
      "BHOPAL;VIDISHA;REWA;BINA\n"
     ]
    }
   ],
   "source": [
    "list = ['bhopal' , 'vidisha' , 'rewa' , 'bina']\n",
    "c=(\";\".join(list))\n",
    "print(c.upper())"
   ]
  }
 ],
 "metadata": {
  "kernelspec": {
   "display_name": "Python 3",
   "language": "python",
   "name": "python3"
  },
  "language_info": {
   "codemirror_mode": {
    "name": "ipython",
    "version": 3
   },
   "file_extension": ".py",
   "mimetype": "text/x-python",
   "name": "python",
   "nbconvert_exporter": "python",
   "pygments_lexer": "ipython3",
   "version": "3.12.3"
  }
 },
 "nbformat": 4,
 "nbformat_minor": 2
}
