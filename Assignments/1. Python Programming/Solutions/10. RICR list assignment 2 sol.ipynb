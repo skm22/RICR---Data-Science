{
 "cells": [
  {
   "cell_type": "markdown",
   "metadata": {},
   "source": [
    "## List Assignment 2 solutions"
   ]
  },
  {
   "cell_type": "markdown",
   "metadata": {},
   "source": [
    "---------------------------------------------------------------------------------------------------------------------------------------------"
   ]
  },
  {
   "cell_type": "markdown",
   "metadata": {},
   "source": [
    "Q1. Write a python program which iterates the given list prints all the values inside the list via loop .    \n",
    "\tlst = ['mango','apple','banana','ornage','kiwi']\n"
   ]
  },
  {
   "cell_type": "code",
   "execution_count": 1,
   "metadata": {},
   "outputs": [
    {
     "name": "stdout",
     "output_type": "stream",
     "text": [
      "mango apple banana ornage kiwi "
     ]
    }
   ],
   "source": [
    "lst = ['mango','apple','banana','ornage','kiwi']\n",
    "for i in lst:          # for loop traverse on lst (every element in 'i' one by one)\n",
    "    print(i,end=' ')   # prints every element of the lst"
   ]
  },
  {
   "cell_type": "markdown",
   "metadata": {},
   "source": [
    "---------------------------------------------------------------------------------------------------------------------------------------------"
   ]
  },
  {
   "cell_type": "markdown",
   "metadata": {},
   "source": [
    "Q2. Write a python program which finds the sum to all the elements of the list by iterating that given list.   \n",
    "\tlst = [2,4,6,8,12,10,14,24]\n"
   ]
  },
  {
   "cell_type": "code",
   "execution_count": 2,
   "metadata": {},
   "outputs": [
    {
     "name": "stdout",
     "output_type": "stream",
     "text": [
      "80\n"
     ]
    }
   ],
   "source": [
    "lst = [2,4,6,8,12,10,14,24]\n",
    "res = 0          # Varible used to store the result initialized to 0\n",
    "for i in lst:    # loop on lst\n",
    "    res += i     # Add element one by one to the 'res' variable\n",
    "print(res)       # prints the result"
   ]
  },
  {
   "cell_type": "markdown",
   "metadata": {},
   "source": [
    "---------------------------------------------------------------------------------------------------------------------------------------------"
   ]
  },
  {
   "cell_type": "markdown",
   "metadata": {},
   "source": [
    "Q3. Write a python program which finds the value (n) in the given list = [4,5,3,2,1,6,8], if present then return True otherwise False.          \n",
    "Note: ‘n’ can be any input value.\n"
   ]
  },
  {
   "cell_type": "code",
   "execution_count": 3,
   "metadata": {},
   "outputs": [
    {
     "name": "stdout",
     "output_type": "stream",
     "text": [
      "True\n"
     ]
    }
   ],
   "source": [
    "lst = [4,5,3,2,1,6,8]\n",
    "n = int(input())       # n as a input variable\n",
    "count = 0              # count variable (increased the value of count if their exist n inside lst)\n",
    "for i in lst:          # loop traverse on lst\n",
    "    if i == n:         # check if the element of lst is equal to n.\n",
    "        count += 1     # then value of count increases by one.\n",
    "if count>0:            # check if the value of count increased from 0 to any postive number.\n",
    "    print(\"True\")      # then True\n",
    "else:                  # if value is not increased (remain 0)\n",
    "    print(\"False\")     # then False"
   ]
  },
  {
   "cell_type": "markdown",
   "metadata": {},
   "source": [
    "---------------------------------------------------------------------------------------------------------------------------------------------"
   ]
  },
  {
   "cell_type": "markdown",
   "metadata": {},
   "source": [
    "Q4. Write a python program which update odd indices elements of the list by ‘hii’ through iterating that given list.   \n",
    "\tlst = [2,4,6,8,1] \n"
   ]
  },
  {
   "cell_type": "code",
   "execution_count": 4,
   "metadata": {},
   "outputs": [
    {
     "name": "stdout",
     "output_type": "stream",
     "text": [
      "[2, 'hii', 6, 'hii', 1]\n"
     ]
    }
   ],
   "source": [
    "lst = [2,4,6,8,1]\n",
    "for i in range(1,len(lst),2):  # loop from 1 to len(lst), jumped by 2 -> which gives the odd indices in 'i'\n",
    "    lst[i] = 'hii'             # lst[odd indices] replaced by 'hii'\n",
    "print(lst)                     # prints updated lst"
   ]
  },
  {
   "cell_type": "markdown",
   "metadata": {},
   "source": [
    "---------------------------------------------------------------------------------------------------------------------------------------------"
   ]
  },
  {
   "cell_type": "markdown",
   "metadata": {},
   "source": [
    "Q5. Write a python program which finds and print the average of elements of the given list of integers.   \n",
    "\tlst = [10,45,23,46,98,56]  \n",
    "Note: If list changes your code should work properly. "
   ]
  },
  {
   "cell_type": "markdown",
   "metadata": {},
   "source": [
    "Average = sum of elements / number of  element in the list."
   ]
  },
  {
   "cell_type": "code",
   "execution_count": 5,
   "metadata": {},
   "outputs": [
    {
     "name": "stdout",
     "output_type": "stream",
     "text": [
      "46.333333333333336\n"
     ]
    }
   ],
   "source": [
    "lst = [10,45,23,46,98,56] \n",
    "sum = 0                     # stores the sum of all the elements of the lst\n",
    "for i in lst:               # traversed on lst using for loop.\n",
    "    sum += i                # every element of the list added to sum in each iteration\n",
    "avg = sum / len(lst)        # sum is divided to number of element of lst, stored in avg\n",
    "print(avg)                  # print avg"
   ]
  },
  {
   "cell_type": "markdown",
   "metadata": {},
   "source": [
    "---------------------------------------------------------------------------------------------------------------------------------------------"
   ]
  },
  {
   "cell_type": "markdown",
   "metadata": {},
   "source": [
    "Q6. Write a python program which finds the sum of squares of all the elements of the given list.   \n",
    "\tlst = [2,4,6,8,1]"
   ]
  },
  {
   "cell_type": "code",
   "execution_count": 6,
   "metadata": {},
   "outputs": [
    {
     "name": "stdout",
     "output_type": "stream",
     "text": [
      "121\n"
     ]
    }
   ],
   "source": [
    "lst = [2,4,6,8,1]\n",
    "res = 0             # res variable used to store sum of squares of all the elements\n",
    "for i in lst:       # traverse on lst, i contain every element one by one.\n",
    "    res += i*i      # res variable added to square of each element in each iteration\n",
    "print(res)          # prints the result."
   ]
  },
  {
   "cell_type": "markdown",
   "metadata": {},
   "source": [
    "================================================================================================================================================="
   ]
  }
 ],
 "metadata": {
  "kernelspec": {
   "display_name": "Python 3",
   "language": "python",
   "name": "python3"
  },
  "language_info": {
   "codemirror_mode": {
    "name": "ipython",
    "version": 3
   },
   "file_extension": ".py",
   "mimetype": "text/x-python",
   "name": "python",
   "nbconvert_exporter": "python",
   "pygments_lexer": "ipython3",
   "version": "3.12.3"
  }
 },
 "nbformat": 4,
 "nbformat_minor": 2
}
