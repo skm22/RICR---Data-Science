{
 "cells": [
  {
   "cell_type": "markdown",
   "metadata": {},
   "source": [
    "## RICR - Tuple Assignment 1 sol"
   ]
  },
  {
   "cell_type": "markdown",
   "metadata": {},
   "source": [
    "Q1. Write a python program to create a tuple with elements 'apple', 'banana', 'cherry'. Print the first and last elements."
   ]
  },
  {
   "cell_type": "code",
   "execution_count": 4,
   "metadata": {},
   "outputs": [
    {
     "name": "stdout",
     "output_type": "stream",
     "text": [
      "apple , cherry\n"
     ]
    }
   ],
   "source": [
    "tpl = ('apple', 'banana', 'cherry')\n",
    "print(tpl[0],',',tpl[-1])"
   ]
  },
  {
   "cell_type": "markdown",
   "metadata": {},
   "source": [
    "Q2. Write a python program which prints the second last element and check if 'blue' is in the given tuple.   \n",
    "\tt = ('red', 'green', 'blue', 'yellow')"
   ]
  },
  {
   "cell_type": "code",
   "execution_count": 13,
   "metadata": {},
   "outputs": [
    {
     "name": "stdout",
     "output_type": "stream",
     "text": [
      "True\n"
     ]
    }
   ],
   "source": [
    "t = ('red', 'green', 'blue', 'yellow')\n",
    "print('blue' in t)"
   ]
  },
  {
   "cell_type": "markdown",
   "metadata": {},
   "source": [
    "Q3. Write a python program in which slice the given tuple to get the elements from the second to the fourth position. Print the sliced tuple and its length.   \n",
    "\ttpl = ('a', 'b', 'c', 'd', 'e')"
   ]
  },
  {
   "cell_type": "code",
   "execution_count": 3,
   "metadata": {},
   "outputs": [
    {
     "name": "stdout",
     "output_type": "stream",
     "text": [
      "('b', 'c', 'd')\n",
      "3\n"
     ]
    }
   ],
   "source": [
    "tpl = ('a', 'b', 'c', 'd', 'e')\n",
    "new_tpl=tpl[1:4]\n",
    "print(new_tpl)\n",
    "print(len(new_tpl))"
   ]
  },
  {
   "cell_type": "markdown",
   "metadata": {},
   "source": [
    "Q4. Write a python program to concatenate the given tuples. Print the result and then sort the tuple and print it.   \n",
    "\tt1 = ('a', 'b', 'c')   \n",
    "\tt2 = ('d', 'e', 'f')   \n",
    "\tOutput: ('a', 'b', 'c', 'd', 'e', 'f')   \n",
    "\t\t\t('a', 'b', 'c', 'd', 'e', 'f')   "
   ]
  },
  {
   "cell_type": "code",
   "execution_count": 4,
   "metadata": {},
   "outputs": [
    {
     "name": "stdout",
     "output_type": "stream",
     "text": [
      "('a', 'b', 'c', 'd', 'e', 'f')\n",
      "('a', 'b', 'c', 'd', 'e', 'f')\n"
     ]
    }
   ],
   "source": [
    "t1 = ('a', 'b', 'c')\n",
    "t2 = ('d', 'e', 'f')\n",
    "\n",
    "new_tpl=t1+t2\n",
    "print(new_tpl)\n",
    "\n",
    "lst=list(new_tpl)\n",
    "lst.sort()\n",
    "new_tpl=tuple(lst)\n",
    "print(new_tpl)"
   ]
  },
  {
   "cell_type": "markdown",
   "metadata": {},
   "source": [
    "Q5. Write a program to count how many times 5 appears and find the index of the first occurrence of 3. Print both results.   \n",
    "\tt = (1, 2, 3, 4, 5, 5, 5, 6)."
   ]
  },
  {
   "cell_type": "code",
   "execution_count": 21,
   "metadata": {},
   "outputs": [
    {
     "name": "stdout",
     "output_type": "stream",
     "text": [
      "3\n",
      "2\n"
     ]
    }
   ],
   "source": [
    "t = (1, 2, 3, 4, 5, 5, 5, 6)\n",
    "print(t.count(5))\n",
    "print(t.index(3))"
   ]
  },
  {
   "cell_type": "markdown",
   "metadata": {},
   "source": [
    "Q6. Write a program to create a tuple with elements ('cat', 'dog', 'mouse', 'elephant'). Slice it to get the first two elements and print them and also print the after sorting the tuple."
   ]
  },
  {
   "cell_type": "code",
   "execution_count": 2,
   "metadata": {},
   "outputs": [
    {
     "name": "stdout",
     "output_type": "stream",
     "text": [
      "('cat', 'dog')\n",
      "('cat', 'dog')\n"
     ]
    }
   ],
   "source": [
    "tpl = ('cat', 'dog', 'mouse', 'elephant')\n",
    "print(tpl[:2])\n",
    "lst=list(tpl)\n",
    "lst.sort()\n",
    "tpl=tuple(lst)\n",
    "print(tpl[:2])"
   ]
  },
  {
   "cell_type": "markdown",
   "metadata": {},
   "source": [
    "Q7. Write a python program which prints the last element of given tuple and check if 'Hello' is in the tuple. Print the results.   \n",
    "\ttpl = ('python', 'java', 'c++', 'ruby')   \n",
    "\tOutput: ‘ruby’   \n",
    "\t\t\tFalse"
   ]
  },
  {
   "cell_type": "code",
   "execution_count": 23,
   "metadata": {},
   "outputs": [
    {
     "name": "stdout",
     "output_type": "stream",
     "text": [
      "ruby\n",
      "False\n"
     ]
    }
   ],
   "source": [
    "tpl = ('python', 'java', 'c++', 'ruby')\n",
    "print(tpl[-1])\n",
    "print('Hello' in tpl)"
   ]
  },
  {
   "cell_type": "markdown",
   "metadata": {},
   "source": [
    "Q8. Write a python program to create a tuple with elements ('hello', 'world', 'python'). Print its length then add ‘3’ as int at the last of tuple and Print  \n",
    "\tOutput: 3  \n",
    "\t\t\t[‘hello’,’world’,’python’,3]"
   ]
  },
  {
   "cell_type": "code",
   "execution_count": 24,
   "metadata": {},
   "outputs": [
    {
     "name": "stdout",
     "output_type": "stream",
     "text": [
      "3\n",
      "['hello', 'world', 'python', 3]\n"
     ]
    }
   ],
   "source": [
    "tpl = ('hello', 'world', 'python')\n",
    "print(len(tpl))\n",
    "lst = list(tpl)\n",
    "lst.append(3)\n",
    "print(lst)"
   ]
  },
  {
   "cell_type": "markdown",
   "metadata": {},
   "source": [
    "Q9. Write a python program which access first six elements of the given tuple, then count how many times 5 appears in the new tuple. Print both results.  \n",
    "\tt = (1, 2, 5, 5, 6, 3, 4, 5, 5, 5, 6)"
   ]
  },
  {
   "cell_type": "code",
   "execution_count": 5,
   "metadata": {},
   "outputs": [
    {
     "name": "stdout",
     "output_type": "stream",
     "text": [
      "(1, 2, 5, 5, 6, 3)\n",
      "2\n"
     ]
    }
   ],
   "source": [
    "t = (1, 2, 5, 5, 6, 3, 4, 5, 5, 5, 6)\n",
    "new_t= (t[:6])\n",
    "print(new_t)\n",
    "print(new_t.count(5))"
   ]
  },
  {
   "cell_type": "markdown",
   "metadata": {},
   "source": [
    "Q10. Write a python program in which concatenate the given tuples and print the resulting tuple and the third element of generated tuple.   \n",
    "\tt1 = ('java', 'python')   \n",
    "\tt2 = ('c', 'ruby')"
   ]
  },
  {
   "cell_type": "code",
   "execution_count": 8,
   "metadata": {},
   "outputs": [
    {
     "name": "stdout",
     "output_type": "stream",
     "text": [
      "('java', 'python', 'c', 'ruby')\n",
      "c\n"
     ]
    }
   ],
   "source": [
    "t1 = ('java', 'python')\n",
    "t2 = ('c', 'ruby')\n",
    "t3=t1+t2\n",
    "print(t3)\n",
    "print(t3[2])"
   ]
  }
 ],
 "metadata": {
  "kernelspec": {
   "display_name": "Python 3",
   "language": "python",
   "name": "python3"
  },
  "language_info": {
   "codemirror_mode": {
    "name": "ipython",
    "version": 3
   },
   "file_extension": ".py",
   "mimetype": "text/x-python",
   "name": "python",
   "nbconvert_exporter": "python",
   "pygments_lexer": "ipython3",
   "version": "3.12.3"
  }
 },
 "nbformat": 4,
 "nbformat_minor": 2
}
