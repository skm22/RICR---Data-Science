{
 "cells": [
  {
   "cell_type": "markdown",
   "metadata": {},
   "source": [
    "Q1. Write a Python program to check if a given string is a valid email address."
   ]
  },
  {
   "cell_type": "code",
   "execution_count": 2,
   "metadata": {},
   "outputs": [
    {
     "name": "stdout",
     "output_type": "stream",
     "text": [
      "your email is invalid\n"
     ]
    }
   ],
   "source": [
    "e=input(\"please enter your email\")\n",
    "if '@' in e and '.' in e and e.index('@')<e.index('.'):\n",
    "    print(\"your email is valid\")\n",
    "else:\n",
    "    print(\"your email is invalid\")    "
   ]
  },
  {
   "cell_type": "markdown",
   "metadata": {},
   "source": [
    "Q2. Write a Python program to reverse the order of words in a given string without reversing the individual words."
   ]
  },
  {
   "cell_type": "code",
   "execution_count": 6,
   "metadata": {},
   "outputs": [
    {
     "name": "stdout",
     "output_type": "stream",
     "text": [
      "python from World Hello\n"
     ]
    }
   ],
   "source": [
    "a=\"Hello World from python\"\n",
    "b=a.split()\n",
    "b.reverse()\n",
    "print(\" \".join(b))"
   ]
  },
  {
   "cell_type": "markdown",
   "metadata": {},
   "source": [
    "Q3. Write a Python program that takes a string and a character as input and returns a list of indices where the character occurs in the string."
   ]
  },
  {
   "cell_type": "code",
   "execution_count": 3,
   "metadata": {},
   "outputs": [
    {
     "name": "stdout",
     "output_type": "stream",
     "text": [
      "[6, 7]\n"
     ]
    }
   ],
   "source": [
    "n=input(\"enter string\")\n",
    "p=input(\"enter character\")\n",
    "ans = []\n",
    "for i in range(len(n)):\n",
    "    if n[i] == p:\n",
    "        ans.append(i)\n",
    "print(ans)"
   ]
  },
  {
   "cell_type": "markdown",
   "metadata": {},
   "source": [
    "Q4. Write a Python program to remove all occurrences of a given substring from a string."
   ]
  },
  {
   "cell_type": "code",
   "execution_count": 4,
   "metadata": {},
   "outputs": [
    {
     "name": "stdout",
     "output_type": "stream",
     "text": [
      "This is a  string for ing\n"
     ]
    }
   ],
   "source": [
    "n=input(\"enter string\")\n",
    "p=input(\"enter substring\")\n",
    "print(n.replace(p,''))"
   ]
  },
  {
   "cell_type": "markdown",
   "metadata": {},
   "source": [
    "Q5. Write a Python program to find all unique characters in a given string."
   ]
  },
  {
   "cell_type": "code",
   "execution_count": 5,
   "metadata": {},
   "outputs": [
    {
     "name": "stdout",
     "output_type": "stream",
     "text": [
      "['p', 'r', 'o', 'g', 'a', 'm', 'i', 'n']\n"
     ]
    }
   ],
   "source": [
    "n = input(\"Enter String\")\n",
    "ans = []\n",
    "for i in n:\n",
    "    if i not in ans:\n",
    "        ans.append(i)\n",
    "print(ans)"
   ]
  },
  {
   "cell_type": "markdown",
   "metadata": {},
   "source": [
    "Q6. Write a Python program to count the number of words in a given string that start with a specific letter which was taken as a input."
   ]
  },
  {
   "cell_type": "code",
   "execution_count": 7,
   "metadata": {},
   "outputs": [
    {
     "name": "stdout",
     "output_type": "stream",
     "text": [
      "3\n"
     ]
    }
   ],
   "source": [
    "m=\"This is a test string for testing\"\n",
    "n=input(\"enter char\")\n",
    "m = m.lower()\n",
    "n = n.lower()\n",
    "l=m.split()\n",
    "count=0\n",
    "for i in l:\n",
    "        if i[0]==n:\n",
    "            count+=1\n",
    "print(count)            "
   ]
  },
  {
   "cell_type": "markdown",
   "metadata": {},
   "source": [
    "Q7. Write a Python program to split a string into a list of words and then join them back into a single string with a hyphen - as a separator."
   ]
  },
  {
   "cell_type": "code",
   "execution_count": 2,
   "metadata": {},
   "outputs": [
    {
     "name": "stdout",
     "output_type": "stream",
     "text": [
      "python-is-awesome\n"
     ]
    }
   ],
   "source": [
    "k=\"python is awesome\"\n",
    "p=k.split()\n",
    "print(\"-\".join(p))"
   ]
  },
  {
   "cell_type": "markdown",
   "metadata": {},
   "source": [
    "Q8. Write a Python program to capitalize the first and last character of every word in a given string."
   ]
  },
  {
   "cell_type": "code",
   "execution_count": 8,
   "metadata": {},
   "outputs": [
    {
     "name": "stdout",
     "output_type": "stream",
     "text": [
      "HellO WorlD FroM PythoN\n"
     ]
    }
   ],
   "source": [
    "k=\"hello world from python\"\n",
    "c=k.split()\n",
    "temp = []\n",
    "for i in c:\n",
    "      temp.append(i[0].upper()+i[1:len(i)-1]+i[-1].upper())\n",
    "ans = ' '.join(temp)\n",
    "print(ans)\n"
   ]
  },
  {
   "cell_type": "markdown",
   "metadata": {},
   "source": [
    "Q9. Write a Python program to remove given special characters from a given string."
   ]
  },
  {
   "cell_type": "code",
   "execution_count": 16,
   "metadata": {},
   "outputs": [
    {
     "name": "stdout",
     "output_type": "stream",
     "text": [
      "HelloWorld123\n"
     ]
    }
   ],
   "source": [
    "a=\"Hello@World!123\"\n",
    "b='@,!,#,%,$,^,&,*'\n",
    "c=list(a)\n",
    "for i in c:\n",
    "    if i in b:\n",
    "        c.remove(i)\n",
    "print(\"\".join(c))    "
   ]
  }
 ],
 "metadata": {
  "kernelspec": {
   "display_name": "Python 3",
   "language": "python",
   "name": "python3"
  },
  "language_info": {
   "codemirror_mode": {
    "name": "ipython",
    "version": 3
   },
   "file_extension": ".py",
   "mimetype": "text/x-python",
   "name": "python",
   "nbconvert_exporter": "python",
   "pygments_lexer": "ipython3",
   "version": "3.12.3"
  }
 },
 "nbformat": 4,
 "nbformat_minor": 2
}
