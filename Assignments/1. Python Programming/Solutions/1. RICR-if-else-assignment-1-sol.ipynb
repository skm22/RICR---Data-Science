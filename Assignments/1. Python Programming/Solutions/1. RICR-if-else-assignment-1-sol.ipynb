{
 "cells": [
  {
   "cell_type": "markdown",
   "metadata": {},
   "source": [
    "# RICR-if-else-assignment-1-sol"
   ]
  },
  {
   "cell_type": "markdown",
   "metadata": {},
   "source": [
    "Q1. W.A.P  to check if a number is positive, negative.        \n",
    "\n",
    "\n",
    "Input: enter a number : 8         \n",
    "Output : positive"
   ]
  },
  {
   "cell_type": "code",
   "execution_count": 2,
   "metadata": {},
   "outputs": [
    {
     "name": "stdout",
     "output_type": "stream",
     "text": [
      "Negative\n"
     ]
    }
   ],
   "source": [
    "n = int(input())\n",
    "if n>0:\n",
    "    print(\"Positive\")\n",
    "else:\n",
    "    print(\"Negative\")"
   ]
  },
  {
   "cell_type": "markdown",
   "metadata": {},
   "source": [
    "Q2 W.A.P that takes 2 numbers input from user check their sum is greater then 10 or not . if greater than 10 print ‘greater’ otherwise print ‘less’     \n",
    "\n",
    "\n",
    "Input:      \n",
    "Enter 1 number: 3        \n",
    "Enter 2 number : 5         \n",
    "Output:       \n",
    "less\n"
   ]
  },
  {
   "cell_type": "code",
   "execution_count": 3,
   "metadata": {},
   "outputs": [
    {
     "name": "stdout",
     "output_type": "stream",
     "text": [
      "Less\n"
     ]
    }
   ],
   "source": [
    "num1 = int(input())\n",
    "num2 = int(input())\n",
    "sum = num1+num2\n",
    "\n",
    "if sum > 10:\n",
    "    print(\"Greater\")\n",
    "else:\n",
    "    print(\"Less\")"
   ]
  },
  {
   "cell_type": "markdown",
   "metadata": {},
   "source": [
    "Q3. WAP that takes 2 numbers from user and print largest number          \n",
    "\n",
    "\n",
    "Input:      \n",
    "Enter a number: 78     \n",
    "Enter a number:  98     \n",
    "Output:          \n",
    "98\n"
   ]
  },
  {
   "cell_type": "code",
   "execution_count": 5,
   "metadata": {},
   "outputs": [
    {
     "name": "stdout",
     "output_type": "stream",
     "text": [
      "98\n"
     ]
    }
   ],
   "source": [
    "num1 = int(input())\n",
    "num2 = int(input())\n",
    "\n",
    "if num1 > num2:\n",
    "    print(num1)\n",
    "else:\n",
    "    print(num2)"
   ]
  },
  {
   "cell_type": "markdown",
   "metadata": {},
   "source": [
    "Q4. W.A.P  that takes a number check  it is divisible by 5 or not  \n",
    "\n",
    "\n",
    "Input:      \n",
    "Enter a number : 90       \n",
    "Output:         \n",
    "Divisible\n"
   ]
  },
  {
   "cell_type": "code",
   "execution_count": 8,
   "metadata": {},
   "outputs": [
    {
     "name": "stdout",
     "output_type": "stream",
     "text": [
      "Divisible\n"
     ]
    }
   ],
   "source": [
    "n = int(input())\n",
    "if n % 5 == 0:\n",
    "    print(\"Divisible\")\n",
    "else:\n",
    "    print(\"Not Divisible\")"
   ]
  },
  {
   "cell_type": "markdown",
   "metadata": {},
   "source": [
    "Q5. w.a.p that takes 4 angles as input from the user and checks whether it can form quadrilateral or not.                \n",
    "Sum of all four angle is 360\n"
   ]
  },
  {
   "cell_type": "code",
   "execution_count": 13,
   "metadata": {},
   "outputs": [
    {
     "name": "stdout",
     "output_type": "stream",
     "text": [
      "Can form Quadrilateral.\n"
     ]
    }
   ],
   "source": [
    "a = float(input())\n",
    "b = float(input())\n",
    "c = float(input())\n",
    "d = float(input())\n",
    "\n",
    "sum = a+b+c+d\n",
    "\n",
    "if sum == 360:\n",
    "    print(\"Can form Quadrilateral.\")\n",
    "else:\n",
    "    print(\"Cannot Form Quadrilateral.\")"
   ]
  },
  {
   "cell_type": "markdown",
   "metadata": {},
   "source": [
    "Determine the season based on month taken from user           \n",
    "\n",
    "\n",
    "3 <= month <= 5; print \"Spring\"     \n",
    "6 <= month <= 8 then print \"Summer\"    \n",
    "9 <= month <= 11, then print \"Autumn\"   \n",
    "12<= moth <= 2 then print \"Winter\"     \n"
   ]
  },
  {
   "cell_type": "code",
   "execution_count": 17,
   "metadata": {},
   "outputs": [
    {
     "name": "stdout",
     "output_type": "stream",
     "text": [
      "Autumn\n"
     ]
    }
   ],
   "source": [
    "mon = int(input())\n",
    "\n",
    "if 3<=mon<=5:\n",
    "    print(\"Spring\")\n",
    "elif 6<=mon<=8:\n",
    "    print(\"Summer\")\n",
    "elif 9<=mon<=11:\n",
    "    print(\"Autumn\")\n",
    "elif mon == 12 or 1<=mon<=2:\n",
    "    print(\"Winter\")\n",
    "else:\n",
    "    print(\"Invalid Month value.\")"
   ]
  },
  {
   "cell_type": "code",
   "execution_count": null,
   "metadata": {},
   "outputs": [],
   "source": []
  }
 ],
 "metadata": {
  "kernelspec": {
   "display_name": "Python 3",
   "language": "python",
   "name": "python3"
  },
  "language_info": {
   "codemirror_mode": {
    "name": "ipython",
    "version": 3
   },
   "file_extension": ".py",
   "mimetype": "text/x-python",
   "name": "python",
   "nbconvert_exporter": "python",
   "pygments_lexer": "ipython3",
   "version": "3.12.3"
  }
 },
 "nbformat": 4,
 "nbformat_minor": 2
}
