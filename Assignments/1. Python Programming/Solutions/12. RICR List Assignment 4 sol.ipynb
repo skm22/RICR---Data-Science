{
 "cells": [
  {
   "cell_type": "markdown",
   "metadata": {},
   "source": [
    "## RICR List Assignment 4 Solution"
   ]
  },
  {
   "cell_type": "markdown",
   "metadata": {},
   "source": [
    "-------------------------------------------------------------------------------------------------------------------------------------------------"
   ]
  },
  {
   "cell_type": "markdown",
   "metadata": {},
   "source": [
    "Q1. Create a new list which have the squares of every element of the given list using list comprehension.  \n",
    "\tlst = [2,3,4,5,6,7]   \n",
    "Output = [4,9,16,25,36,49]"
   ]
  },
  {
   "cell_type": "code",
   "execution_count": 43,
   "metadata": {},
   "outputs": [
    {
     "name": "stdout",
     "output_type": "stream",
     "text": [
      "[4, 9, 16, 25, 36, 49]\n"
     ]
    }
   ],
   "source": [
    "lst = [2,3,4,5,6,7]\n",
    "nlst = [x*x for x in lst ]\n",
    "print(nlst)"
   ]
  },
  {
   "cell_type": "markdown",
   "metadata": {},
   "source": [
    "Q2. Write a Python program using a list comprehension to create a list of even numbers less than 8 from 1 to 20."
   ]
  },
  {
   "cell_type": "code",
   "execution_count": 35,
   "metadata": {},
   "outputs": [
    {
     "name": "stdout",
     "output_type": "stream",
     "text": [
      "[2, 4, 6]\n"
     ]
    }
   ],
   "source": [
    "lst = [x for x in range(2,20,2) if x<8]\n",
    "print(lst)"
   ]
  },
  {
   "cell_type": "markdown",
   "metadata": {},
   "source": [
    "Q3. Write a Python program using a list comprehension to create a list of numbers from 1 to 10, but only include numbers that are greater than 5."
   ]
  },
  {
   "cell_type": "code",
   "execution_count": 36,
   "metadata": {},
   "outputs": [
    {
     "name": "stdout",
     "output_type": "stream",
     "text": [
      "[6, 7, 8, 9, 10]\n"
     ]
    }
   ],
   "source": [
    "lst = [x for x in range(1,11) if x>5]\n",
    "print(lst)"
   ]
  },
  {
   "cell_type": "markdown",
   "metadata": {},
   "source": [
    "Q4. Write a Python program using a list comprehension to create a list of the first letters of each word in the given list.  \n",
    "\tlst = ['apple', 'banana', 'cherry']."
   ]
  },
  {
   "cell_type": "code",
   "execution_count": 37,
   "metadata": {},
   "outputs": [
    {
     "name": "stdout",
     "output_type": "stream",
     "text": [
      "['a', 'b', 'c']\n"
     ]
    }
   ],
   "source": [
    "lst = ['apple', 'banana', 'cherry']\n",
    "nlst = [x[0] for x in lst]\n",
    "print(nlst)"
   ]
  },
  {
   "cell_type": "markdown",
   "metadata": {},
   "source": [
    "Q5. Write a Python program using a list comprehension to create a list of the lengths of each word in the given list.   \n",
    "\tlst = ['python', 'java', 'c++']."
   ]
  },
  {
   "cell_type": "code",
   "execution_count": 38,
   "metadata": {},
   "outputs": [
    {
     "name": "stdout",
     "output_type": "stream",
     "text": [
      "[6, 4, 3]\n"
     ]
    }
   ],
   "source": [
    "lst = ['python', 'java', 'c++']\n",
    "nlst = [len(x) for x in lst ]\n",
    "print(nlst)"
   ]
  },
  {
   "cell_type": "markdown",
   "metadata": {},
   "source": [
    "Q6. Write a Python program using a nested list comprehension to flatten the given list.  \n",
    "\tInput list: [[1, 2, 3], [4, 5], [6, 7, 8]].   \n",
    "\tOutput: [1, 2, 3, 4, 5, 6, 7, 8]"
   ]
  },
  {
   "cell_type": "code",
   "execution_count": 39,
   "metadata": {},
   "outputs": [
    {
     "name": "stdout",
     "output_type": "stream",
     "text": [
      "[1, 2, 3, 4, 5, 6, 7, 8]\n"
     ]
    }
   ],
   "source": [
    "lst = [[1, 2, 3], [4, 5], [6, 7, 8]]\n",
    "nlst = [x for i in lst for x in i]\n",
    "print(nlst)"
   ]
  },
  {
   "cell_type": "markdown",
   "metadata": {},
   "source": [
    "Q7. Write a Python program using a list comprehension to create a list of numbers from 1 to 20 that are divisible by both 2 and 3."
   ]
  },
  {
   "cell_type": "code",
   "execution_count": 40,
   "metadata": {},
   "outputs": [
    {
     "name": "stdout",
     "output_type": "stream",
     "text": [
      "[6, 12, 18]\n"
     ]
    }
   ],
   "source": [
    "lst = [x for x in range(1,20) if x%2==0 and x%3==0]\n",
    "print(lst)"
   ]
  },
  {
   "cell_type": "markdown",
   "metadata": {},
   "source": [
    "Q8. Write a Python program using a list comprehension to create a list of the sums of corresponding elements from the lists  \n",
    "[1, 2, 3] and [4, 5, 6].  \n",
    "\tOutput: [5, 7, 9]"
   ]
  },
  {
   "cell_type": "code",
   "execution_count": 41,
   "metadata": {},
   "outputs": [
    {
     "name": "stdout",
     "output_type": "stream",
     "text": [
      "[5, 7, 9]\n"
     ]
    }
   ],
   "source": [
    "lst1 = [1, 2, 3]\n",
    "lst2 = [4, 5, 6]\n",
    "nlst = [lst1[i]+lst2[i] for i in range(len(lst1))]\n",
    "print(nlst)"
   ]
  },
  {
   "cell_type": "markdown",
   "metadata": {},
   "source": [
    "Q9. Write a python program using list comprehension to create a list which has the sums of elements of list of given list.   \n",
    "\tlst = [[1,2,3],[3,4,5],[3,4,5],[5,7,3,2]]   \n",
    "\tOutput: [6,12,12,17] "
   ]
  },
  {
   "cell_type": "code",
   "execution_count": 42,
   "metadata": {},
   "outputs": [
    {
     "name": "stdout",
     "output_type": "stream",
     "text": [
      "[6, 12, 12, 17]\n"
     ]
    }
   ],
   "source": [
    "lst = [[1,2,3],[3,4,5],[3,4,5],[5,7,3,2]]\n",
    "nlst = [sum(i) for i in lst]\n",
    "print(nlst)"
   ]
  },
  {
   "cell_type": "markdown",
   "metadata": {},
   "source": [
    "-------------------------------------------------------------------------------------------------------------------------------------------------"
   ]
  }
 ],
 "metadata": {
  "kernelspec": {
   "display_name": "Python 3",
   "language": "python",
   "name": "python3"
  },
  "language_info": {
   "codemirror_mode": {
    "name": "ipython",
    "version": 3
   },
   "file_extension": ".py",
   "mimetype": "text/x-python",
   "name": "python",
   "nbconvert_exporter": "python",
   "pygments_lexer": "ipython3",
   "version": "3.12.3"
  }
 },
 "nbformat": 4,
 "nbformat_minor": 2
}
