{
 "cells": [
  {
   "cell_type": "markdown",
   "metadata": {},
   "source": [
    "## Numpy Assignement 3 Solutions:"
   ]
  },
  {
   "cell_type": "code",
   "execution_count": 19,
   "metadata": {},
   "outputs": [],
   "source": [
    "import numpy as np"
   ]
  },
  {
   "cell_type": "markdown",
   "metadata": {},
   "source": [
    "Q1. Write a python program which takes dictionary as an input and convert it\n",
    "into a numpy array."
   ]
  },
  {
   "cell_type": "code",
   "execution_count": 4,
   "metadata": {},
   "outputs": [
    {
     "name": "stdout",
     "output_type": "stream",
     "text": [
      "Converted NumPy Array:\n",
      " [['a' '1']\n",
      " ['b' '2']\n",
      " ['c' '3']]\n"
     ]
    }
   ],
   "source": [
    "# 1.\n",
    "\n",
    "my_dict = {'a': 1, 'b': 2, 'c': 3}\n",
    "array = np.array(list(my_dict.items()))\n",
    "\n",
    "print(\"Converted NumPy Array:\\n\", array)"
   ]
  },
  {
   "cell_type": "markdown",
   "metadata": {},
   "source": [
    "Q2. Given a 3D array x of shape (2, 3, 4) and a 2D array y of shape (3, 4). Write\n",
    "a NumPy program to add them using broadcasting"
   ]
  },
  {
   "cell_type": "code",
   "execution_count": 5,
   "metadata": {},
   "outputs": [
    {
     "name": "stdout",
     "output_type": "stream",
     "text": [
      "Result of Broadcasting addition:\n",
      " [[[10 13 18 10]\n",
      "  [15 14 10  4]\n",
      "  [11 14  8 14]]\n",
      "\n",
      " [[ 5 13 13 15]\n",
      "  [17 10  8 12]\n",
      "  [16  7 14 15]]]\n"
     ]
    }
   ],
   "source": [
    "#2. \n",
    "\n",
    "x = np.random.randint(1, 10, (2, 3, 4))\n",
    "y = np.random.randint(1, 10, (3, 4))\n",
    "\n",
    "result = x + y\n",
    "\n",
    "print(\"Result of Broadcasting addition:\\n\", result)"
   ]
  },
  {
   "cell_type": "markdown",
   "metadata": {},
   "source": [
    "Q3. Write a python program which finds the nearest element in the array to a    \n",
    "given integer.    \n",
    "Inputs: a=23 and array - [10 17 24 31 38 45 52 59].    \n",
    "Expected Output: Nearest element is 24    "
   ]
  },
  {
   "cell_type": "code",
   "execution_count": 11,
   "metadata": {},
   "outputs": [
    {
     "name": "stdout",
     "output_type": "stream",
     "text": [
      "Nearest element to 23 is 24\n"
     ]
    }
   ],
   "source": [
    "# 3. \n",
    "\n",
    "a = 23\n",
    "array = np.array([10, 17, 24, 31, 38, 45, 52, 59])\n",
    "\n",
    "nearest_element = array[np.abs(array - a).argmin()]\n",
    "\n",
    "print(\"Nearest element to\", a, \"is\", nearest_element)\n"
   ]
  },
  {
   "cell_type": "markdown",
   "metadata": {},
   "source": [
    "Q4. Write a python program to replace multiples of 3 or 5 as 0 in the given     \n",
    "array.     \n",
    "Input: arr=[1 2 3 4 5 6 7 9]     \n",
    "Expected Output: [1 2 0 4 0 0 7 0]     \n"
   ]
  },
  {
   "cell_type": "code",
   "execution_count": 12,
   "metadata": {},
   "outputs": [
    {
     "name": "stdout",
     "output_type": "stream",
     "text": [
      "Updated Array: [1 2 0 4 0 0 7 0]\n"
     ]
    }
   ],
   "source": [
    "# 4. \n",
    "\n",
    "arr = np.array([1, 2, 3, 4, 5, 6, 7, 9])\n",
    "arr[(arr % 3 == 0) | (arr % 5 == 0)] = 0\n",
    "\n",
    "print(\"Updated Array:\", arr)"
   ]
  },
  {
   "cell_type": "markdown",
   "metadata": {},
   "source": [
    "Q5. Solve the give problem using fancy Indexing:     \n",
    "1. Double the array elements at given indexes     \n",
    "Given:     \n",
    "arr = np.arrange(10)     \n",
    "indexes = [0,3,4,9]     \n",
    "Expected Output: [ 0 1 2 6 8 5 6 7 8 18]     "
   ]
  },
  {
   "cell_type": "code",
   "execution_count": 15,
   "metadata": {},
   "outputs": [
    {
     "name": "stdout",
     "output_type": "stream",
     "text": [
      "Original array [0 1 2 3 4 5 6 7 8 9]\n",
      "Updated Array after doubling: [ 0  1  2  6  8  5  6  7  8 18]\n"
     ]
    }
   ],
   "source": [
    "# 5.1\n",
    "\n",
    "arr = np.arange(10)\n",
    "indexes = [0, 3, 4, 9]\n",
    "\n",
    "print(\"Original array\", arr)\n",
    "\n",
    "arr[indexes] *= 2\n",
    "\n",
    "print(\"Updated Array after doubling:\", arr)"
   ]
  },
  {
   "cell_type": "markdown",
   "metadata": {},
   "source": [
    "Using a given array make a different array as in below example    \n",
    "Given:    \n",
    "array = [1,2,3]    \n",
    "result array -> [1 1 1 2 2 2 3 3 3]    \n",
    "• Internal repeation should be as length of the array.    "
   ]
  },
  {
   "cell_type": "code",
   "execution_count": 16,
   "metadata": {},
   "outputs": [
    {
     "name": "stdout",
     "output_type": "stream",
     "text": [
      "Repeated Array: [1, 1, 1, 2, 2, 2, 3, 3, 3]\n"
     ]
    }
   ],
   "source": [
    "# 5.2 \n",
    "\n",
    "array = [1, 2, 3]\n",
    "result = []\n",
    "\n",
    "for element in array:\n",
    "    for i in range(len(array)):\n",
    "        result.append(element)\n",
    "\n",
    "print(\"Repeated Array:\", result)\n"
   ]
  },
  {
   "cell_type": "markdown",
   "metadata": {},
   "source": [
    "You are given an array which is having some nan value. You job is to fill    \n",
    "those nan values with mean element in the array.    \n",
    "\n",
    "Given: arr = np.array([[1,2,np.nan],[4,2,6],[np.nan,np.nan,5]])    "
   ]
  },
  {
   "cell_type": "code",
   "execution_count": 29,
   "metadata": {},
   "outputs": [
    {
     "name": "stdout",
     "output_type": "stream",
     "text": [
      "Original Array:\n",
      "[[ 1.  2. nan]\n",
      " [ 4.  2.  6.]\n",
      " [nan nan  5.]]\n",
      "\n",
      "Filled Array:\n",
      "[[1.         2.         3.33333333]\n",
      " [4.         2.         6.        ]\n",
      " [3.33333333 3.33333333 5.        ]]\n"
     ]
    }
   ],
   "source": [
    "# 6. \n",
    "\n",
    "arr = np.array([[1, 2, np.nan], [4, 2, 6], [np.nan, np.nan, 5]])\n",
    "\n",
    "flat_arr = arr.flatten()\n",
    "filtered_values = np.array([x for x in flat_arr if not np.isnan(x)])\n",
    "mean_value = sum(filtered_values) / len(filtered_values)\n",
    "\n",
    "result_array = np.where(np.isnan(arr), mean_value, arr)\n",
    "\n",
    "print(\"Original Array:\")\n",
    "print(arr)\n",
    "print(\"\\nFilled Array:\")\n",
    "print(result_array)\n"
   ]
  },
  {
   "cell_type": "markdown",
   "metadata": {},
   "source": [
    "Q7. Scenario: A sports team tracks player performance across 12 matches.    \n",
    "\n",
    "Task: Create a (12, 5) array with random integers (0 to 100, representing     \n",
    "scores). Mask the values where the player's score is less than the team's     \n",
    "average score for that match. Replace these values with -1.     \n",
    "\n",
    "Expected Output Example: Array with some values replaced by -1.     "
   ]
  },
  {
   "cell_type": "code",
   "execution_count": 35,
   "metadata": {},
   "outputs": [
    {
     "data": {
      "text/plain": [
       "(12, 5)"
      ]
     },
     "execution_count": 35,
     "metadata": {},
     "output_type": "execute_result"
    }
   ],
   "source": [
    "# 7. \n",
    "\n",
    "scores = np.random.randint(0, 101, (12, 5))\n",
    "match_avg = scores.mean(axis=1, keepdims=True)\n",
    "\n",
    "masked_scores = np.where(scores < match_avg, -1, scores)\n",
    "print(\"Masked Scores:\\n\", masked_scores)\n"
   ]
  },
  {
   "cell_type": "markdown",
   "metadata": {},
   "source": [
    "Q8. Scenario: A business tracks monthly revenue and expenses for 3    \n",
    "departments across 6 months.    \n",
    "    \n",
    "Task: Create two (3, 6) random matrices for revenue and expenses. Perform    \n",
    "element-wise multiplication and sum along the row axis to calculate the total    \n",
    "profit for each department.    \n",
    "    \n",
    "Expected Output Example: A 1D array with the total profit per department.    "
   ]
  },
  {
   "cell_type": "code",
   "execution_count": 37,
   "metadata": {},
   "outputs": [
    {
     "name": "stdout",
     "output_type": "stream",
     "text": [
      "Total Profit for Each Department: [19816 29377 23086]\n"
     ]
    }
   ],
   "source": [
    "# 8.\n",
    "\n",
    "revenue = np.random.randint(1000, 10001, (3, 6))\n",
    "expenses = np.random.randint(100, 4000, (3, 6))\n",
    "\n",
    "profit = np.sum(revenue - expenses, axis=1)\n",
    "print(\"Total Profit for Each Department:\", profit)\n"
   ]
  },
  {
   "cell_type": "markdown",
   "metadata": {},
   "source": [
    "Q9. Scenario: A 5x5 matrix represents pixel intensity values in an image.    \n",
    "    \n",
    "Task: Rotate the matrix 90 degrees anti-clockwise without using loops or    \n",
    "Python slicing.    \n",
    "    \n",
    "Expected Output Example: A rotated matrix    "
   ]
  },
  {
   "cell_type": "code",
   "execution_count": 41,
   "metadata": {},
   "outputs": [
    {
     "name": "stdout",
     "output_type": "stream",
     "text": [
      "Original Matrix:\n",
      " [[6 6 4 9 0]\n",
      " [6 6 6 9 3]\n",
      " [9 3 4 2 6]\n",
      " [7 5 7 1 6]\n",
      " [8 0 0 3 6]]\n",
      "Rotated Matrix:\n",
      " [[0 3 6 6 6]\n",
      " [9 9 2 1 3]\n",
      " [4 6 4 7 0]\n",
      " [6 6 3 5 0]\n",
      " [6 6 9 7 8]]\n"
     ]
    }
   ],
   "source": [
    "# 9. \n",
    "\n",
    "matrix = np.random.randint(0, 10, (5, 5))\n",
    "rotated_matrix = np.transpose(matrix)[::-1]\n",
    "\n",
    "print(\"Original Matrix:\\n\", matrix)\n",
    "print(\"Rotated Matrix:\\n\", rotated_matrix)"
   ]
  },
  {
   "cell_type": "markdown",
   "metadata": {},
   "source": [
    "Q10. Scenario: A company tracks salaries of 15 employees in 3 departments.     \n",
    "     \n",
    "Task: Create a (3, 15) matrix of random salaries. Identify and print the     \n",
    "department(s) where all employees have salaries above ₹50,000. Replace     \n",
    "salaries less than ₹30,000 with the department's average salary.     \n",
    "     \n",
    "Expected Output Example: Original Salary matrix and Updated salary matrix.     "
   ]
  },
  {
   "cell_type": "code",
   "execution_count": 45,
   "metadata": {},
   "outputs": [
    {
     "name": "stdout",
     "output_type": "stream",
     "text": [
      "Original Salary Matrix:\n",
      " [[31728 37397 19157 64305 21603 85350 78354 92412 48866 83125 98067 60614\n",
      "  78228 21424 64092]\n",
      " [34401 36910 32836 61787 54994 66564 37708 27099 90737 58108 34859 10524\n",
      "  35161 17488 46474]\n",
      " [89527 32026 57449 49743 38556 53804 20648 34129 27342 98880 42883 76822\n",
      "  24791 50865 35051]]\n",
      "Updated Salary Matrix:\n",
      " [[31728 37397 68544 64305 68544 85350 78354 92412 48866 83125 98067 60614\n",
      "  78228 68544 64092]\n",
      " [34401 36910 32836 61787 54994 66564 37708 49211 90737 58108 34859 49211\n",
      "  35161 49211 46474]\n",
      " [89527 32026 57449 49743 38556 53804 54977 34129 54977 98880 42883 76822\n",
      "  54977 50865 35051]]\n"
     ]
    }
   ],
   "source": [
    "# 10.\n",
    "\n",
    "salaries = np.random.randint(10000, 100000, (3, 15))\n",
    "Original_salaries = salaries.copy()\n",
    "high_salary_departments = np.all(salaries > 50000, axis=1)\n",
    "\n",
    "for i in range(salaries.shape[0]):\n",
    "    avg_salary = np.mean(salaries[i, salaries[i] > 30000])\n",
    "    salaries[i, salaries[i] < 30000] = avg_salary\n",
    "\n",
    "print(\"Original Salary Matrix:\\n\", Original_salaries)\n",
    "print(\"Updated Salary Matrix:\\n\", salaries)"
   ]
  },
  {
   "cell_type": "code",
   "execution_count": null,
   "metadata": {},
   "outputs": [],
   "source": []
  }
 ],
 "metadata": {
  "kernelspec": {
   "display_name": "Python 3",
   "language": "python",
   "name": "python3"
  },
  "language_info": {
   "codemirror_mode": {
    "name": "ipython",
    "version": 3
   },
   "file_extension": ".py",
   "mimetype": "text/x-python",
   "name": "python",
   "nbconvert_exporter": "python",
   "pygments_lexer": "ipython3",
   "version": "3.12.6"
  }
 },
 "nbformat": 4,
 "nbformat_minor": 2
}
