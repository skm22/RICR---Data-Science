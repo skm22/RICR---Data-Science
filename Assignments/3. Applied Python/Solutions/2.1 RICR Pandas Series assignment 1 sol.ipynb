{
 "cells": [
  {
   "cell_type": "code",
   "execution_count": 4,
   "metadata": {},
   "outputs": [],
   "source": [
    "import pandas as pd"
   ]
  },
  {
   "cell_type": "markdown",
   "metadata": {},
   "source": [
    "1. Write a python program which mask a Series based on conditions (condition: > 5) with the number n (input) and modify the masked values:      \n",
    "Test case 1:         \n",
    "Input: Series ([10, 5, 8, 12, 4, 3, 7, 1]), n: 99        \n",
    "Output: Series ([99, 5, 99, 99, 4, 3, 7, 1])       "
   ]
  },
  {
   "cell_type": "code",
   "execution_count": 5,
   "metadata": {},
   "outputs": [
    {
     "name": "stdout",
     "output_type": "stream",
     "text": [
      "Series([99  5 99 99  4  3 99  1])\n"
     ]
    }
   ],
   "source": [
    "a = pd.Series([10, 5, 8, 12, 4, 3, 7, 1])\n",
    "n=99\n",
    "a[a>5]=n\n",
    "print(f'Series({a.values})')"
   ]
  },
  {
   "cell_type": "markdown",
   "metadata": {},
   "source": [
    "2. Identify missing values in a Series and replace them with the median:       \n",
    "Test case 1:       \n",
    "Input: Series([2, 5, NaN, 3, 9, NaN, 4])     \n",
    "Output: Series([2, 5, 4.0, 3, 9, 4.0, 4])"
   ]
  },
  {
   "cell_type": "code",
   "execution_count": 6,
   "metadata": {},
   "outputs": [
    {
     "name": "stdout",
     "output_type": "stream",
     "text": [
      "Series([2. 5. 4. 3. 9. 4. 4.])\n"
     ]
    }
   ],
   "source": [
    "a = pd.Series([2, 5, None, 3, 9, None, 4])\n",
    "a.fillna(a.median(),inplace=True)\n",
    "print(f'Series({a.values})')"
   ]
  },
  {
   "cell_type": "markdown",
   "metadata": {},
   "source": [
    "3. Map values from another Series based on a condition:    \n",
    "Test case 1:      \n",
    "Input: Series([10, 20, 30, 40]), mapping: {10: 'A', 30: 'B'}       \n",
    "Output: Series(['A', 20, 'B', 40])"
   ]
  },
  {
   "cell_type": "code",
   "execution_count": 7,
   "metadata": {},
   "outputs": [
    {
     "name": "stdout",
     "output_type": "stream",
     "text": [
      "Series(['A' 20 'B' 40])\n"
     ]
    }
   ],
   "source": [
    "a = pd.Series([10,20,30,40])\n",
    "mapping = {10:'A',30:'B'}\n",
    "a = a.map(mapping).fillna(a)\n",
    "print(f'Series({a.values})')"
   ]
  },
  {
   "cell_type": "markdown",
   "metadata": {},
   "source": [
    "4. Calculate cumulative product of values, ignoring zeroes:     \n",
    "Test case 1:    \n",
    "Input: Series([1, 2, 0, 4, 5])   \n",
    "Output: Series([1, 2, 2, 8, 40])"
   ]
  },
  {
   "cell_type": "code",
   "execution_count": 8,
   "metadata": {},
   "outputs": [
    {
     "name": "stdout",
     "output_type": "stream",
     "text": [
      "Series([ 1  2  2  8 40])\n"
     ]
    }
   ],
   "source": [
    "a = pd.Series([1, 2, 0, 4, 5])\n",
    "print(f'Series({a.replace(0,1).cumprod().values})')"
   ]
  },
  {
   "cell_type": "markdown",
   "metadata": {},
   "source": [
    "5. Write a python program which Shift elements of a Series and fill shifted positions with custom values:    \n",
    "Test case 1:    \n",
    "Input: Series([10, 20, 30, 40]), shift: 2, fill_value: -1        \n",
    "Output: Series([-1, -1, 10, 20])"
   ]
  },
  {
   "cell_type": "code",
   "execution_count": 9,
   "metadata": {},
   "outputs": [
    {
     "name": "stdout",
     "output_type": "stream",
     "text": [
      "Series([-1 -1 10 20])\n"
     ]
    }
   ],
   "source": [
    "a = pd.Series([10, 20, 30, 40])\n",
    "shift = 2\n",
    "fill_value = -1\n",
    "a=a.shift(shift,fill_value=fill_value)\n",
    "print(f'Series({a.values})')"
   ]
  },
  {
   "cell_type": "markdown",
   "metadata": {},
   "source": [
    "7. Convert negative values in a Series to absolute values:     \n",
    "Test case 1:     \n",
    "Input: Series([-10, 5, -3, 2, -7])            \n",
    "Output: Series([10, 5, 3, 2, 7])"
   ]
  },
  {
   "cell_type": "code",
   "execution_count": 10,
   "metadata": {},
   "outputs": [
    {
     "name": "stdout",
     "output_type": "stream",
     "text": [
      "Series([10  5  3  2  7])\n"
     ]
    }
   ],
   "source": [
    "a = pd.Series([-10, 5, -3, 2, -7])\n",
    "a = a.abs()\n",
    "print(f'Series({a.values})')"
   ]
  },
  {
   "cell_type": "markdown",
   "metadata": {},
   "source": [
    "8. Find positions of prime numbers in a Series and return the count:    \n",
    "Test case 1:       \n",
    "Input: Series([10, 7, 3, 15, 17])       \n",
    "Output: 3"
   ]
  },
  {
   "cell_type": "code",
   "execution_count": 16,
   "metadata": {},
   "outputs": [
    {
     "name": "stdout",
     "output_type": "stream",
     "text": [
      "Positions of prime numbers: [1, 2, 4]\n",
      "Count of prime numbers: 3\n"
     ]
    }
   ],
   "source": [
    "def is_prime(n):\n",
    "    if n <= 1:\n",
    "        return False\n",
    "    for i in range(2, int(n**0.5) + 1):\n",
    "        if n % i == 0:\n",
    "            return False\n",
    "    return True\n",
    "\n",
    "a = pd.Series([10, 7, 3, 15, 17])\n",
    "prime_positions = [index for index, value in a.items() if is_prime(value)]\n",
    "count_primes = len(prime_positions)\n",
    "\n",
    "print(f\"Positions of prime numbers: {prime_positions}\")\n",
    "print(f\"Count of prime numbers: {count_primes}\")\n"
   ]
  }
 ],
 "metadata": {
  "kernelspec": {
   "display_name": "Python 3",
   "language": "python",
   "name": "python3"
  },
  "language_info": {
   "codemirror_mode": {
    "name": "ipython",
    "version": 3
   },
   "file_extension": ".py",
   "mimetype": "text/x-python",
   "name": "python",
   "nbconvert_exporter": "python",
   "pygments_lexer": "ipython3",
   "version": "3.12.6"
  }
 },
 "nbformat": 4,
 "nbformat_minor": 2
}
